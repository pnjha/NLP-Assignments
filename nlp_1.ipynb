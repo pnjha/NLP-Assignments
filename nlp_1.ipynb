{
  "nbformat": 4,
  "nbformat_minor": 0,
  "metadata": {
    "kernelspec": {
      "name": "python3",
      "display_name": "Python 3"
    },
    "language_info": {
      "pygments_lexer": "ipython3",
      "nbconvert_exporter": "python",
      "version": "3.6.4",
      "file_extension": ".py",
      "codemirror_mode": {
        "name": "ipython",
        "version": 3
      },
      "name": "python",
      "mimetype": "text/x-python"
    },
    "colab": {
      "name": "nlp_1.ipynb",
      "provenance": [],
      "collapsed_sections": [],
      "include_colab_link": true
    },
    "accelerator": "GPU"
  },
  "cells": [
    {
      "cell_type": "markdown",
      "metadata": {
        "id": "view-in-github",
        "colab_type": "text"
      },
      "source": [
        "<a href=\"https://colab.research.google.com/github/pnjha/NLP-Assignments/blob/master/nlp_1.ipynb\" target=\"_parent\"><img src=\"https://colab.research.google.com/assets/colab-badge.svg\" alt=\"Open In Colab\"/></a>"
      ]
    },
    {
      "cell_type": "code",
      "metadata": {
        "trusted": true,
        "id": "T8cTiXcPVlVh",
        "colab_type": "code",
        "colab": {
          "base_uri": "https://localhost:8080/",
          "height": 574
        },
        "outputId": "8c33b4f5-0fb7-4500-e49a-dd3d07b4dfb9"
      },
      "source": [
        "pip install tensorflow-gpu==2.0.0-alpha0"
      ],
      "execution_count": 6,
      "outputs": [
        {
          "output_type": "stream",
          "text": [
            "Collecting tensorflow-gpu==2.0.0-alpha0\n",
            "\u001b[?25l  Downloading https://files.pythonhosted.org/packages/1a/66/32cffad095253219d53f6b6c2a436637bbe45ac4e7be0244557210dc3918/tensorflow_gpu-2.0.0a0-cp36-cp36m-manylinux1_x86_64.whl (332.1MB)\n",
            "\u001b[K     |████████████████████████████████| 332.1MB 24kB/s \n",
            "\u001b[?25hRequirement already satisfied: grpcio>=1.8.6 in /usr/local/lib/python3.6/dist-packages (from tensorflow-gpu==2.0.0-alpha0) (1.27.1)\n",
            "Requirement already satisfied: wheel>=0.26 in /usr/local/lib/python3.6/dist-packages (from tensorflow-gpu==2.0.0-alpha0) (0.34.2)\n",
            "Requirement already satisfied: google-pasta>=0.1.2 in /usr/local/lib/python3.6/dist-packages (from tensorflow-gpu==2.0.0-alpha0) (0.1.8)\n",
            "Requirement already satisfied: astor>=0.6.0 in /usr/local/lib/python3.6/dist-packages (from tensorflow-gpu==2.0.0-alpha0) (0.8.1)\n",
            "Requirement already satisfied: keras-applications>=1.0.6 in /usr/local/lib/python3.6/dist-packages (from tensorflow-gpu==2.0.0-alpha0) (1.0.8)\n",
            "Requirement already satisfied: protobuf>=3.6.1 in /usr/local/lib/python3.6/dist-packages (from tensorflow-gpu==2.0.0-alpha0) (3.10.0)\n",
            "Collecting tf-estimator-nightly<1.14.0.dev2019030116,>=1.14.0.dev2019030115\n",
            "\u001b[?25l  Downloading https://files.pythonhosted.org/packages/13/82/f16063b4eed210dc2ab057930ac1da4fbe1e91b7b051a6c8370b401e6ae7/tf_estimator_nightly-1.14.0.dev2019030115-py2.py3-none-any.whl (411kB)\n",
            "\u001b[K     |████████████████████████████████| 419kB 62.8MB/s \n",
            "\u001b[?25hCollecting tb-nightly<1.14.0a20190302,>=1.14.0a20190301\n",
            "\u001b[?25l  Downloading https://files.pythonhosted.org/packages/a9/51/aa1d756644bf4624c03844115e4ac4058eff77acd786b26315f051a4b195/tb_nightly-1.14.0a20190301-py3-none-any.whl (3.0MB)\n",
            "\u001b[K     |████████████████████████████████| 3.0MB 47.2MB/s \n",
            "\u001b[?25hRequirement already satisfied: six>=1.10.0 in /usr/local/lib/python3.6/dist-packages (from tensorflow-gpu==2.0.0-alpha0) (1.12.0)\n",
            "Requirement already satisfied: keras-preprocessing>=1.0.5 in /usr/local/lib/python3.6/dist-packages (from tensorflow-gpu==2.0.0-alpha0) (1.1.0)\n",
            "Requirement already satisfied: numpy<2.0,>=1.14.5 in /usr/local/lib/python3.6/dist-packages (from tensorflow-gpu==2.0.0-alpha0) (1.17.5)\n",
            "Requirement already satisfied: termcolor>=1.1.0 in /usr/local/lib/python3.6/dist-packages (from tensorflow-gpu==2.0.0-alpha0) (1.1.0)\n",
            "Requirement already satisfied: absl-py>=0.7.0 in /usr/local/lib/python3.6/dist-packages (from tensorflow-gpu==2.0.0-alpha0) (0.9.0)\n",
            "Requirement already satisfied: gast>=0.2.0 in /usr/local/lib/python3.6/dist-packages (from tensorflow-gpu==2.0.0-alpha0) (0.2.2)\n",
            "Requirement already satisfied: h5py in /usr/local/lib/python3.6/dist-packages (from keras-applications>=1.0.6->tensorflow-gpu==2.0.0-alpha0) (2.8.0)\n",
            "Requirement already satisfied: setuptools in /usr/local/lib/python3.6/dist-packages (from protobuf>=3.6.1->tensorflow-gpu==2.0.0-alpha0) (45.1.0)\n",
            "Requirement already satisfied: markdown>=2.6.8 in /usr/local/lib/python3.6/dist-packages (from tb-nightly<1.14.0a20190302,>=1.14.0a20190301->tensorflow-gpu==2.0.0-alpha0) (3.2.1)\n",
            "Requirement already satisfied: werkzeug>=0.11.15 in /usr/local/lib/python3.6/dist-packages (from tb-nightly<1.14.0a20190302,>=1.14.0a20190301->tensorflow-gpu==2.0.0-alpha0) (1.0.0)\n",
            "Installing collected packages: tf-estimator-nightly, tb-nightly, tensorflow-gpu\n",
            "Successfully installed tb-nightly-1.14.0a20190301 tensorflow-gpu-2.0.0a0 tf-estimator-nightly-1.14.0.dev2019030115\n"
          ],
          "name": "stdout"
        },
        {
          "output_type": "display_data",
          "data": {
            "application/vnd.colab-display-data+json": {
              "pip_warning": {
                "packages": [
                  "tensorboard",
                  "tensorflow",
                  "tensorflow_estimator"
                ]
              }
            }
          },
          "metadata": {
            "tags": []
          }
        }
      ]
    },
    {
      "cell_type": "code",
      "metadata": {
        "_uuid": "d629ff2d2480ee46fbb7e2d37f6b5fab8052498a",
        "_cell_guid": "79c7e3d0-c299-4dcb-8224-4455121ee9b0",
        "trusted": true,
        "id": "VS9QD04HVlVu",
        "colab_type": "code",
        "colab": {
          "base_uri": "https://localhost:8080/",
          "height": 673
        },
        "outputId": "5c9a173a-da88-4335-ade6-b20c19cb737b"
      },
      "source": [
        "import unicodedata\n",
        "import pandas as pd\n",
        "import numpy as np\n",
        "import tensorflow as tf\n",
        "\n",
        "import string\n",
        "from string import digits\n",
        "import matplotlib.pyplot as plt\n",
        "%matplotlib inline\n",
        "import re\n",
        "import copy\n",
        "import math\n",
        "\n",
        "import keras as keras\n",
        "from keras.optimizers import SGD\n",
        "from keras.initializers import RandomUniform\n",
        "from sklearn.utils import shuffle\n",
        "from sklearn.model_selection import train_test_split\n",
        "from tensorflow.keras.models import Sequential, Model, load_model\n",
        "from tensorflow.keras.layers import Embedding, Dense, LSTM, Input, Embedding, TimeDistributed, Flatten, Dropout, Activation, dot, concatenate, Bidirectional\n",
        "from keras.callbacks import ModelCheckpoint\n",
        "from nltk.translate.bleu_score import sentence_bleu\n",
        "from nltk.translate.bleu_score import SmoothingFunction"
      ],
      "execution_count": 1,
      "outputs": [
        {
          "output_type": "stream",
          "text": [
            "/usr/local/lib/python3.6/dist-packages/tensorflow/python/framework/dtypes.py:523: FutureWarning: Passing (type, 1) or '1type' as a synonym of type is deprecated; in a future version of numpy, it will be understood as (type, (1,)) / '(1,)type'.\n",
            "  _np_qint8 = np.dtype([(\"qint8\", np.int8, 1)])\n",
            "/usr/local/lib/python3.6/dist-packages/tensorflow/python/framework/dtypes.py:524: FutureWarning: Passing (type, 1) or '1type' as a synonym of type is deprecated; in a future version of numpy, it will be understood as (type, (1,)) / '(1,)type'.\n",
            "  _np_quint8 = np.dtype([(\"quint8\", np.uint8, 1)])\n",
            "/usr/local/lib/python3.6/dist-packages/tensorflow/python/framework/dtypes.py:525: FutureWarning: Passing (type, 1) or '1type' as a synonym of type is deprecated; in a future version of numpy, it will be understood as (type, (1,)) / '(1,)type'.\n",
            "  _np_qint16 = np.dtype([(\"qint16\", np.int16, 1)])\n",
            "/usr/local/lib/python3.6/dist-packages/tensorflow/python/framework/dtypes.py:526: FutureWarning: Passing (type, 1) or '1type' as a synonym of type is deprecated; in a future version of numpy, it will be understood as (type, (1,)) / '(1,)type'.\n",
            "  _np_quint16 = np.dtype([(\"quint16\", np.uint16, 1)])\n",
            "/usr/local/lib/python3.6/dist-packages/tensorflow/python/framework/dtypes.py:527: FutureWarning: Passing (type, 1) or '1type' as a synonym of type is deprecated; in a future version of numpy, it will be understood as (type, (1,)) / '(1,)type'.\n",
            "  _np_qint32 = np.dtype([(\"qint32\", np.int32, 1)])\n",
            "/usr/local/lib/python3.6/dist-packages/tensorflow/python/framework/dtypes.py:532: FutureWarning: Passing (type, 1) or '1type' as a synonym of type is deprecated; in a future version of numpy, it will be understood as (type, (1,)) / '(1,)type'.\n",
            "  np_resource = np.dtype([(\"resource\", np.ubyte, 1)])\n",
            "/usr/local/lib/python3.6/dist-packages/tensorboard/compat/tensorflow_stub/dtypes.py:541: FutureWarning: Passing (type, 1) or '1type' as a synonym of type is deprecated; in a future version of numpy, it will be understood as (type, (1,)) / '(1,)type'.\n",
            "  _np_qint8 = np.dtype([(\"qint8\", np.int8, 1)])\n",
            "/usr/local/lib/python3.6/dist-packages/tensorboard/compat/tensorflow_stub/dtypes.py:542: FutureWarning: Passing (type, 1) or '1type' as a synonym of type is deprecated; in a future version of numpy, it will be understood as (type, (1,)) / '(1,)type'.\n",
            "  _np_quint8 = np.dtype([(\"quint8\", np.uint8, 1)])\n",
            "/usr/local/lib/python3.6/dist-packages/tensorboard/compat/tensorflow_stub/dtypes.py:543: FutureWarning: Passing (type, 1) or '1type' as a synonym of type is deprecated; in a future version of numpy, it will be understood as (type, (1,)) / '(1,)type'.\n",
            "  _np_qint16 = np.dtype([(\"qint16\", np.int16, 1)])\n",
            "/usr/local/lib/python3.6/dist-packages/tensorboard/compat/tensorflow_stub/dtypes.py:544: FutureWarning: Passing (type, 1) or '1type' as a synonym of type is deprecated; in a future version of numpy, it will be understood as (type, (1,)) / '(1,)type'.\n",
            "  _np_quint16 = np.dtype([(\"quint16\", np.uint16, 1)])\n",
            "/usr/local/lib/python3.6/dist-packages/tensorboard/compat/tensorflow_stub/dtypes.py:545: FutureWarning: Passing (type, 1) or '1type' as a synonym of type is deprecated; in a future version of numpy, it will be understood as (type, (1,)) / '(1,)type'.\n",
            "  _np_qint32 = np.dtype([(\"qint32\", np.int32, 1)])\n",
            "/usr/local/lib/python3.6/dist-packages/tensorboard/compat/tensorflow_stub/dtypes.py:550: FutureWarning: Passing (type, 1) or '1type' as a synonym of type is deprecated; in a future version of numpy, it will be understood as (type, (1,)) / '(1,)type'.\n",
            "  np_resource = np.dtype([(\"resource\", np.ubyte, 1)])\n"
          ],
          "name": "stderr"
        },
        {
          "output_type": "error",
          "ename": "AttributeError",
          "evalue": "ignored",
          "traceback": [
            "\u001b[0;31m---------------------------------------------------------------------------\u001b[0m",
            "\u001b[0;31mAttributeError\u001b[0m                            Traceback (most recent call last)",
            "\u001b[0;32m<ipython-input-1-e426d60ffc57>\u001b[0m in \u001b[0;36m<module>\u001b[0;34m()\u001b[0m\n\u001b[1;32m      3\u001b[0m \u001b[0;32mimport\u001b[0m \u001b[0mnumpy\u001b[0m \u001b[0;32mas\u001b[0m \u001b[0mnp\u001b[0m\u001b[0;34m\u001b[0m\u001b[0;34m\u001b[0m\u001b[0m\n\u001b[1;32m      4\u001b[0m \u001b[0;32mimport\u001b[0m \u001b[0mtensorflow\u001b[0m \u001b[0;32mas\u001b[0m \u001b[0mtf\u001b[0m\u001b[0;34m\u001b[0m\u001b[0;34m\u001b[0m\u001b[0m\n\u001b[0;32m----> 5\u001b[0;31m \u001b[0mtf\u001b[0m\u001b[0;34m.\u001b[0m\u001b[0menable_eager_execution\u001b[0m\u001b[0;34m(\u001b[0m\u001b[0;34m)\u001b[0m\u001b[0;34m\u001b[0m\u001b[0;34m\u001b[0m\u001b[0m\n\u001b[0m\u001b[1;32m      6\u001b[0m \u001b[0;32mimport\u001b[0m \u001b[0mstring\u001b[0m\u001b[0;34m\u001b[0m\u001b[0;34m\u001b[0m\u001b[0m\n\u001b[1;32m      7\u001b[0m \u001b[0;32mfrom\u001b[0m \u001b[0mstring\u001b[0m \u001b[0;32mimport\u001b[0m \u001b[0mdigits\u001b[0m\u001b[0;34m\u001b[0m\u001b[0;34m\u001b[0m\u001b[0m\n",
            "\u001b[0;31mAttributeError\u001b[0m: module 'tensorflow' has no attribute 'enable_eager_execution'"
          ]
        }
      ]
    },
    {
      "cell_type": "code",
      "metadata": {
        "id": "tXYXqlDlXDn6",
        "colab_type": "code",
        "colab": {
          "base_uri": "https://localhost:8080/",
          "height": 34
        },
        "outputId": "586093d2-084c-446b-f9ed-fa34b942af16"
      },
      "source": [
        "tf.__version__"
      ],
      "execution_count": 2,
      "outputs": [
        {
          "output_type": "execute_result",
          "data": {
            "text/plain": [
              "'2.0.0-alpha0'"
            ]
          },
          "metadata": {
            "tags": []
          },
          "execution_count": 2
        }
      ]
    },
    {
      "cell_type": "code",
      "metadata": {
        "id": "tdP2oiBXXScN",
        "colab_type": "code",
        "colab": {
          "base_uri": "https://localhost:8080/",
          "height": 69
        },
        "outputId": "6c6de2a8-bdd4-4dae-a903-2492b2dbaa33"
      },
      "source": [
        "from google.colab import drive\n",
        "drive.mount('/content/drive')\n",
        "%cd drive/My\\ Drive"
      ],
      "execution_count": 146,
      "outputs": [
        {
          "output_type": "stream",
          "text": [
            "Drive already mounted at /content/drive; to attempt to forcibly remount, call drive.mount(\"/content/drive\", force_remount=True).\n",
            "[Errno 2] No such file or directory: 'drive/My Drive'\n",
            "/content/drive/My Drive\n"
          ],
          "name": "stdout"
        }
      ]
    },
    {
      "cell_type": "code",
      "metadata": {
        "id": "R5Hm_SC9XToD",
        "colab_type": "code",
        "colab": {
          "base_uri": "https://localhost:8080/",
          "height": 380
        },
        "outputId": "ee007835-717c-4855-d95f-378fbaec8f0b"
      },
      "source": [
        "X = pd.read_table('./NLA S20 - Assignment 2 Data/enghin/train.en', names=['src'])\n",
        "Y_in = pd.read_table('./NLA S20 - Assignment 2 Data/enghin/train.hi', names=['dest_in'])\n",
        "Y_out = pd.read_table('./NLA S20 - Assignment 2 Data/enghin/train.hi', names=['dest_out'])\n",
        "lines = pd.concat([X[:1000],Y_in[:1000],Y_out[:1000]], axis=1)\n",
        "print(len(lines))\n",
        "# lines = shuffle(lines)\n",
        "lines.sample(10)"
      ],
      "execution_count": 147,
      "outputs": [
        {
          "output_type": "stream",
          "text": [
            "1000\n"
          ],
          "name": "stdout"
        },
        {
          "output_type": "execute_result",
          "data": {
            "text/html": [
              "<div>\n",
              "<style scoped>\n",
              "    .dataframe tbody tr th:only-of-type {\n",
              "        vertical-align: middle;\n",
              "    }\n",
              "\n",
              "    .dataframe tbody tr th {\n",
              "        vertical-align: top;\n",
              "    }\n",
              "\n",
              "    .dataframe thead th {\n",
              "        text-align: right;\n",
              "    }\n",
              "</style>\n",
              "<table border=\"1\" class=\"dataframe\">\n",
              "  <thead>\n",
              "    <tr style=\"text-align: right;\">\n",
              "      <th></th>\n",
              "      <th>src</th>\n",
              "      <th>dest_in</th>\n",
              "      <th>dest_out</th>\n",
              "    </tr>\n",
              "  </thead>\n",
              "  <tbody>\n",
              "    <tr>\n",
              "      <th>190</th>\n",
              "      <td>Chicken pox is the most contagious a few days ...</td>\n",
              "      <td>फुन्सियाँ उभरने से कुछ दिनों पहले तक और सारे घ...</td>\n",
              "      <td>फुन्सियाँ उभरने से कुछ दिनों पहले तक और सारे घ...</td>\n",
              "    </tr>\n",
              "    <tr>\n",
              "      <th>859</th>\n",
              "      <td>The disease of women are related more to their...</td>\n",
              "      <td>महिलाओं के रोग अधिकतर उन के उदर , स्तन , गर्भा...</td>\n",
              "      <td>महिलाओं के रोग अधिकतर उन के उदर , स्तन , गर्भा...</td>\n",
              "    </tr>\n",
              "    <tr>\n",
              "      <th>210</th>\n",
              "      <td>Use full sleeve shirts and socks .</td>\n",
              "      <td>पूरी आस्तीन की कमीज तथा मोजे आदि का प्रयोग करें ।</td>\n",
              "      <td>पूरी आस्तीन की कमीज तथा मोजे आदि का प्रयोग करें ।</td>\n",
              "    </tr>\n",
              "    <tr>\n",
              "      <th>357</th>\n",
              "      <td>Incubation period of leprosy is three years on...</td>\n",
              "      <td>कुष्ठ रोग का संक्रमण काल ( इनक्यूवेशन पीरियड )...</td>\n",
              "      <td>कुष्ठ रोग का संक्रमण काल ( इनक्यूवेशन पीरियड )...</td>\n",
              "    </tr>\n",
              "    <tr>\n",
              "      <th>53</th>\n",
              "      <td>Cancer erupts by our wrong practices , thought...</td>\n",
              "      <td>कैंसर हमारे गलत अचार , विचार व्यवहार और आहार स...</td>\n",
              "      <td>कैंसर हमारे गलत अचार , विचार व्यवहार और आहार स...</td>\n",
              "    </tr>\n",
              "    <tr>\n",
              "      <th>989</th>\n",
              "      <td>There is always a dilemma for heart patients a...</td>\n",
              "      <td>हृदय रोगियों को हमेशा यह उलझन रहती है कि वे कि...</td>\n",
              "      <td>हृदय रोगियों को हमेशा यह उलझन रहती है कि वे कि...</td>\n",
              "    </tr>\n",
              "    <tr>\n",
              "      <th>834</th>\n",
              "      <td>With cancer infested skin healthy skin is also...</td>\n",
              "      <td>कैंसरग्रस्त त्वचा के साथ ही स्वस्थ त्वचा भी का...</td>\n",
              "      <td>कैंसरग्रस्त त्वचा के साथ ही स्वस्थ त्वचा भी का...</td>\n",
              "    </tr>\n",
              "    <tr>\n",
              "      <th>300</th>\n",
              "      <td>The combined vaccine is made for children and ...</td>\n",
              "      <td>संयुक्त टीका बच्चों और वयस्कों के लिए बना है ।</td>\n",
              "      <td>संयुक्त टीका बच्चों और वयस्कों के लिए बना है ।</td>\n",
              "    </tr>\n",
              "    <tr>\n",
              "      <th>773</th>\n",
              "      <td>There is always a need to protect eyes from th...</td>\n",
              "      <td>सूर्य की अलट्रावायलट किरणों से आँखों को हमेशा ...</td>\n",
              "      <td>सूर्य की अलट्रावायलट किरणों से आँखों को हमेशा ...</td>\n",
              "    </tr>\n",
              "    <tr>\n",
              "      <th>182</th>\n",
              "      <td>We will find out what is the number of cancer ...</td>\n",
              "      <td>कैंसर रजिस्ट्रर में हमें पता लग जायेगा कि राज्...</td>\n",
              "      <td>कैंसर रजिस्ट्रर में हमें पता लग जायेगा कि राज्...</td>\n",
              "    </tr>\n",
              "  </tbody>\n",
              "</table>\n",
              "</div>"
            ],
            "text/plain": [
              "                                                   src  ...                                           dest_out\n",
              "190  Chicken pox is the most contagious a few days ...  ...  फुन्सियाँ उभरने से कुछ दिनों पहले तक और सारे घ...\n",
              "859  The disease of women are related more to their...  ...  महिलाओं के रोग अधिकतर उन के उदर , स्तन , गर्भा...\n",
              "210                 Use full sleeve shirts and socks .  ...  पूरी आस्तीन की कमीज तथा मोजे आदि का प्रयोग करें ।\n",
              "357  Incubation period of leprosy is three years on...  ...  कुष्ठ रोग का संक्रमण काल ( इनक्यूवेशन पीरियड )...\n",
              "53   Cancer erupts by our wrong practices , thought...  ...  कैंसर हमारे गलत अचार , विचार व्यवहार और आहार स...\n",
              "989  There is always a dilemma for heart patients a...  ...  हृदय रोगियों को हमेशा यह उलझन रहती है कि वे कि...\n",
              "834  With cancer infested skin healthy skin is also...  ...  कैंसरग्रस्त त्वचा के साथ ही स्वस्थ त्वचा भी का...\n",
              "300  The combined vaccine is made for children and ...  ...     संयुक्त टीका बच्चों और वयस्कों के लिए बना है ।\n",
              "773  There is always a need to protect eyes from th...  ...  सूर्य की अलट्रावायलट किरणों से आँखों को हमेशा ...\n",
              "182  We will find out what is the number of cancer ...  ...  कैंसर रजिस्ट्रर में हमें पता लग जायेगा कि राज्...\n",
              "\n",
              "[10 rows x 3 columns]"
            ]
          },
          "metadata": {
            "tags": []
          },
          "execution_count": 147
        }
      ]
    },
    {
      "cell_type": "code",
      "metadata": {
        "trusted": true,
        "id": "UG0m8dw0VlV_",
        "colab_type": "code",
        "colab": {}
      },
      "source": [
        "def process_data(data,append_char):\n",
        "    data = data.apply(lambda x: x.lower())\n",
        "    data = data.apply(lambda x: x.strip())\n",
        "    data = data.apply(lambda x: re.sub(\"'\", '', x))\n",
        "    exclude = set(string.punctuation) # Set of all special characters\n",
        "    data = data.apply(lambda x: ''.join(ch for ch in x if ch not in exclude))\n",
        "    remove_digits = str.maketrans('', '', digits)\n",
        "    data = data.apply(lambda x: x.translate(remove_digits))\n",
        "    if append_char == 1:\n",
        "        data = data.apply(lambda x : '<sos> '+ x)\n",
        "    elif append_char == 2:\n",
        "        data = data.apply(lambda x : x + ' <eos>')\n",
        "    return data"
      ],
      "execution_count": 0,
      "outputs": []
    },
    {
      "cell_type": "code",
      "metadata": {
        "trusted": true,
        "id": "IyxG22xlVlWI",
        "colab_type": "code",
        "colab": {
          "base_uri": "https://localhost:8080/",
          "height": 590
        },
        "outputId": "a71e6157-d4fc-4ae9-b47b-a64d8e41cd97"
      },
      "source": [
        "lines.src = process_data(lines.src,0)\n",
        "lines.dest_in = process_data(lines.dest_in,1)\n",
        "lines.dest_out = process_data(lines.dest_out,2)\n",
        "lines.src.sample(10),lines.dest_in.sample(10),lines.dest_out.sample(10)"
      ],
      "execution_count": 149,
      "outputs": [
        {
          "output_type": "execute_result",
          "data": {
            "text/plain": [
              "(355    the name of this bacteria is microbacterium le...\n",
              " 527    in comparison to any other disease women die t...\n",
              " 557    arbovirus is a gram positive singleformula rna...\n",
              " 691          the patient of dysentery should eat barley \n",
              " 974    reiki is a heavenly power which fills the hand...\n",
              " 751    the use of infrared thermography can be done i...\n",
              " 521    because it is the youths who die the most of i...\n",
              " 945    keep in mind that positive thought by pacifyin...\n",
              " 379    yes  the hands and feet of the disabled person...\n",
              " 285    paediatric dose  one dose is of   ml for child...\n",
              " Name: src, dtype: object,\n",
              " 131    <sos> मासिक धर्म बंद हो जाने पर भी महिलाओं को ...\n",
              " 168    <sos> अधिक मिर्च  तला  भूना  मांस  घी  मदिरा म...\n",
              " 740    <sos> साथ ही शतप्रतिशत मरीज को रोगमुक्त भी किय...\n",
              " 587    <sos> जब सालमोनेला टिफी युक्त कोई भी खाद्य पदा...\n",
              " 421                  <sos> किसी कार्य मे ध्यान न लगाना ।\n",
              " 102    <sos> इसी कारण शल्य चिकित्सक आमतौर पर गर्भाशयग...\n",
              " 877    <sos> जब नवजात शिशु अपनी माँ के स्तन से दुग्धप...\n",
              " 863    <sos> संस्था ’बांबे हेल्थ गाइड’ ऎसी ही महिलाओं...\n",
              " 724    <sos> अंडाशय की गाँठ एंडोमेट्रियोसिस  प्रेगनें...\n",
              " 904    <sos> मांड अलग कर देने से चावल के प्रोटीन  खनि...\n",
              " Name: dest_in, dtype: object,\n",
              " 103    गर्भाशयग्रीवा का कैंसर रक्त प्रवाह के द्वारा भ...\n",
              " 653    संपूर्ण चिकित्सा जाँच  एक्सरेसोनोग्राफी  डाईइं...\n",
              " 744    ऎसी स्थिति में चिकित्सकों के हाथ में एक नया हथ...\n",
              " 860    प्रजनन के समय शिशु स्तनपान या गर्भधारण के समय ...\n",
              " 754     ’ब्लडप्रेशर का आँखों पर काफी असर पड़ता है । <eos>\n",
              " 856    एक सांख्यिकी के अनुसार  पुरूषों के रोग यद्यपि ...\n",
              " 256                            मितली व उल्टी आना । <eos>\n",
              " 789    घुटनों का जोड़ वास्तव में जाँघ की हड्डी फीमर और...\n",
              " 596    पीतज्वर रोग ग्रामीण तथा जंगली इलाकों में तथा श...\n",
              " 178    आंगनवाड़ी कार्यकर्त्ताओं को कैंसर सम्बन्धी लक्ष...\n",
              " Name: dest_out, dtype: object)"
            ]
          },
          "metadata": {
            "tags": []
          },
          "execution_count": 149
        }
      ]
    },
    {
      "cell_type": "code",
      "metadata": {
        "trusted": true,
        "id": "hctS3GJPVlXq",
        "colab_type": "code",
        "colab": {}
      },
      "source": [
        "X, y_in, y_out = lines.src.values, lines.dest_in.values, lines.dest_out.values \n",
        "X_train, X_test, y_in_train, y_in_test, y_out_train, y_out_test = train_test_split(X, y_in, y_out, test_size = 0.2,shuffle=False)"
      ],
      "execution_count": 0,
      "outputs": []
    },
    {
      "cell_type": "code",
      "metadata": {
        "trusted": true,
        "id": "eHA43VgCVlX2",
        "colab_type": "code",
        "colab": {
          "base_uri": "https://localhost:8080/",
          "height": 193
        },
        "outputId": "2b7f47d5-37b1-4343-aaa6-7f36ca69640d"
      },
      "source": [
        "src_tokenizer = tf.keras.preprocessing.text.Tokenizer(filters='')\n",
        "src_tokenizer.fit_on_texts(X_train)\n",
        "\n",
        "data_src = src_tokenizer.texts_to_sequences(X_train)\n",
        "data_src = tf.keras.preprocessing.sequence.pad_sequences(data_src,padding='post')\n",
        "\n",
        "print(src_tokenizer.word_index)\n",
        "print(data_src)\n",
        "print(len(data_src[0]))"
      ],
      "execution_count": 151,
      "outputs": [
        {
          "output_type": "stream",
          "text": [
            "{'the': 1, 'of': 2, 'in': 3, 'and': 4, 'is': 5, 'to': 6, 'a': 7, 'or': 8, 'be': 9, 'can': 10, 'disease': 11, 'with': 12, 'this': 13, 'are': 14, 'for': 15, 'cancer': 16, 'it': 17, 'on': 18, 'that': 19, 'not': 20, 'from': 21, 'at': 22, 'by': 23, 'also': 24, 'if': 25, 'women': 26, 'which': 27, 'has': 28, 'due': 29, 'treatment': 30, 'through': 31, 'patient': 32, 'more': 33, 'symptoms': 34, 'as': 35, 'health': 36, 'lrb': 37, 'rrb': 38, 'should': 39, 'any': 40, 'fever': 41, 'then': 42, 'body': 43, 'there': 44, 'out': 45, 'percent': 46, 'after': 47, 'been': 48, 'pain': 49, 'eyes': 50, 'most': 51, 'test': 52, 'an': 53, 'children': 54, 'tuberculosis': 55, 'blood': 56, 'patients': 57, 'done': 58, 'one': 59, 'have': 60, 'state': 61, 'diseases': 62, 'other': 63, 'than': 64, 'during': 65, 'may': 66, 'about': 67, 'found': 68, 'age': 69, 'rate': 70, 'years': 71, 'time': 72, 'its': 73, 'occurs': 74, 'very': 75, 'virus': 76, 'but': 77, 'get': 78, 'such': 79, 'some': 80, 'being': 81, 'under': 82, 'spread': 83, 'person': 84, 'mental': 85, 'part': 86, 'because': 87, 'do': 88, 'all': 89, 'mouth': 90, 'areas': 91, 'diabetes': 92, 'like': 93, 'up': 94, 'india': 95, 'contagious': 96, 'yellow': 97, 'eye': 98, 'water': 99, 'people': 100, 'year': 101, 'skin': 102, 'medical': 103, 'less': 104, 'only': 105, 'these': 106, 'etc': 107, 'spreads': 108, 'while': 109, 'no': 110, 'doctor': 111, 'occur': 112, 'vaccine': 113, 'tests': 114, 'family': 115, 'seen': 116, 'vaccination': 117, 'every': 118, 'different': 119, 'form': 120, 'stone': 121, 'kidney': 122, 'swelling': 123, 'you': 124, 'increases': 125, 'when': 126, 'tested': 127, 'measles': 128, 'months': 129, 'called': 130, 'change': 131, 'among': 132, 'period': 133, 'must': 134, 'government': 135, 'chicken': 136, 'pox': 137, 'reproductive': 138, 'bacteria': 139, 'arthritis': 140, 'even': 141, 'use': 142, 'safety': 143, 'number': 144, 'two': 145, 'stage': 146, 'contraction': 147, 'hepatitisb': 148, 'cataract': 149, 'possible': 150, 'light': 151, 'damage': 152, 'till': 153, 'before': 154, 'near': 155, 'above': 156, 'organ': 157, 'days': 158, 'available': 159, 'infected': 160, 'cases': 161, 'serious': 162, 'infection': 163, 'birth': 164, 'leprosy': 165, 'method': 166, 'pressure': 167, 'gets': 168, 'they': 169, 'kind': 170, 'cyst': 171, 'medicine': 172, 'organs': 173, 'effective': 174, 'level': 175, 'program': 176, 'was': 177, 'programme': 178, 'uttarakhand': 179, 'phlegm': 180, 's': 181, 'regular': 182, 'things': 183, 'special': 184, 'food': 185, 'given': 186, 'so': 187, 'our': 188, 'persons': 189, 'breast': 190, 'lungs': 191, 'takes': 192, 'take': 193, 'increase': 194, 'their': 195, 'medicines': 196, 'healthy': 197, 'high': 198, 'mosquito': 199, 'home': 200, 'sexual': 201, 'system': 202, 'times': 203, 'death': 204, 'three': 205, 'run': 206, 'national': 207, 'sexually': 208, 'lens': 209, 'taken': 210, 'main': 211, 'much': 212, 'lack': 213, 'vitamina': 214, 'getting': 215, 'nearby': 216, 'problem': 217, 'changes': 218, 'heart': 219, 'rural': 220, 'cells': 221, 'coming': 222, 'contact': 223, 'generally': 224, 'into': 225, 'tumor': 226, 'men': 227, 'large': 228, 'intestine': 229, 'common': 230, 'lymph': 231, 'breasts': 232, 'related': 233, 'social': 234, 'district': 235, 'who': 236, 'comparison': 237, 'work': 238, 'acute': 239, 'comes': 240, 'following': 241, 'feet': 242, 'hepatitisa': 243, 'abdomen': 244, 'surgery': 245, 'complete': 246, 'small': 247, 'necessary': 248, 'could': 249, 'both': 250, 'countries': 251, 'tobacco': 252, 'start': 253, 'several': 254, 'important': 255, 'total': 256, 'besides': 257, 'occurring': 258, 'keep': 259, 'initial': 260, 'humans': 261, 'danger': 262, 'since': 263, 'clean': 264, 'urban': 265, 'papules': 266, 'pregnant': 267, 'adults': 268, 'center': 269, 'problems': 270, 'starts': 271, 'present': 272, 'first': 273, 'dose': 274, 'liver': 275, 'child': 276, 'made': 277, 'does': 278, 'population': 279, 'welfare': 280, 'services': 281, 'districts': 282, 'without': 283, 'many': 284, 'chikungunia': 285, 'fibroid': 286, 'operation': 287, 'blindness': 288, 'find': 289, 'where': 290, 'shows': 291, 'rubella': 292, 'become': 293, 'back': 294, 'stomach': 295, 'itself': 296, 'each': 297, 'again': 298, 'new': 299, 'born': 300, 'therefore': 301, 'care': 302, 'them': 303, 'bleeding': 304, 'your': 305, 'area': 306, 'along': 307, 'fast': 308, 'half': 309, 'long': 310, 'information': 311, 'workers': 312, 'hospital': 313, 'often': 314, 'joint': 315, 'complexities': 316, 'great': 317, 'primary': 318, 'mosquitoes': 319, 'world': 320, 'mortality': 321, 'maternity': 322, 'his': 323, 'polio': 324, 'joints': 325, 'naturopathy': 326, 'transplant': 327, 'used': 328, 'soon': 329, 'will': 330, 'causes': 331, 'mother': 332, 'attention': 333, 'towards': 334, 'rays': 335, 'young': 336, 'headache': 337, 'generated': 338, 'possibility': 339, 'what': 340, 'parts': 341, 'well': 342, 'early': 343, 'now': 344, 'lower': 345, 'regularly': 346, 'gland': 347, 'case': 348, 'goes': 349, 'mothers': 350, 'cause': 351, 'physical': 352, 'department': 353, 'shivering': 354, 'aedes': 355, 'nets': 356, 'sugar': 357, 'forms': 358, 'feeling': 359, 'hands': 360, 'inflammation': 361, 'type': 362, 'enters': 363, 'mainly': 364, 'extremely': 365, 'included': 366, 'life': 367, 'help': 368, 'inside': 369, 'glands': 370, 'proper': 371, 'transmitted': 372, 'urinary': 373, 'typhoid': 374, 'down': 375, 'knee': 376, 'whole': 377, 'caused': 378, 'lessened': 379, 'how': 380, 'becomes': 381, 'wound': 382, 'white': 383, 'giving': 384, 'saved': 385, 'lessening': 386, 'month': 387, 'retina': 388, 'muscles': 389, 'always': 390, 'lifestyle': 391, 'name': 392, 'reach': 393, 'result': 394, 'tumors': 395, 'tissues': 396, 'immediately': 397, 'whether': 398, 'abnormal': 399, 'occurrence': 400, 'general': 401, 'size': 402, 'weeks': 403, 'doctors': 404, 'rectum': 405, 'arteries': 406, 'annual': 407, 'testicular': 408, 'easily': 409, 'advice': 410, 'good': 411, 'few': 412, 'becoming': 413, 'day': 414, 'affected': 415, 'laser': 416, 'treated': 417, 'he': 418, 'prevention': 419, 'fresh': 420, 'society': 421, 'away': 422, 'saliva': 423, 'wounds': 424, 'week': 425, 'attack': 426, 'stays': 427, 'solution': 428, 'estimated': 429, 'lac': 430, 'oil': 431, 'emerge': 432, 'tendons': 433, 'administered': 434, 'against': 435, 'safe': 436, 'combined': 437, 'single': 438, 'affects': 439, 'little': 440, 'infant': 441, 'goal': 442, 'methods': 443, 'scheme': 444, 'completely': 445, 'cold': 446, 'reason': 447, 'once': 448, 'recommended': 449, 'having': 450, 'vaccines': 451, 'brain': 452, 'dehradun': 453, 'predelivery': 454, 'tetanus': 455, 'die': 456, 'dots': 457, 'phase': 458, 'cure': 459, 'abscess': 460, 'infrared': 461, 'thermography': 462, 'sight': 463, 'sitting': 464, 'front': 465, 'follows': 466, 'black': 467, 'nerves': 468, 'happens': 469, 'enough': 470, 'see': 471, 'check': 472, 'capacity': 473, 'surface': 474, 'diet': 475, 'encouraging': 476, 'doses': 477, 'required': 478, 'collected': 479, 'distance': 480, 'erupts': 481, 'behavior': 482, 'excessive': 483, 'developed': 484, 'types': 485, 'country': 486, 'between': 487, 'cancers': 488, 'easy': 489, 'difficult': 490, 'below': 491, 'toilet': 492, 'however': 493, 'just': 494, 'show': 495, 'need': 496, 'oneself': 497, 'themselves': 498, 'cervix': 499, 'nodes': 500, 'throughout': 501, 'checkup': 502, 'finding': 503, 'known': 504, 'stopped': 505, 'strength': 506, 'sometimes': 507, 'vomiting': 508, 'immune': 509, 'hospitals': 510, 'least': 511, 'using': 512, 'copulation': 513, 'air': 514, 'environment': 515, 'direct': 516, 'raw': 517, 'nausea': 518, 'come': 519, 'adolescents': 520, 'school': 521, 'helps': 522, 'ditches': 523, 'numbness': 524, 'power': 525, 'transplantation': 526, 'outside': 527, 'spreading': 528, 'passage': 529, 'ache': 530, 'old': 531, 'human': 532, 'reproduction': 533, 'category': 534, 'live': 535, 'third': 536, 'deaths': 537, 'maternal': 538, 'said': 539, 'childbirth': 540, 'childbirths': 541, 'organisation': 542, 'appointment': 543, 'contract': 544, 'basis': 545, 'midwives': 546, 'were': 547, 'provided': 548, 'sex': 549, 'way': 550, 'mmr': 551, 'protect': 552, 'process': 553, 'benefit': 554, 'delivery': 555, 'complex': 556, 'bones': 557, 'taking': 558, 'same': 559, 'natural': 560, 'therapy': 561, 'transplanted': 562, 'veins': 563, 'dysentery': 564, 'uterus': 565, 'removed': 566, 'capsule': 567, 'capsular': 568, 'extra': 569, 'left': 570, 'formed': 571, 'gradually': 572, 'reasons': 573, 'keeps': 574, 'increasing': 575, 'seeing': 576, 'we': 577, 'occurred': 578, 'malnutrition': 579, 'continuous': 580, 'spots': 581, 'i': 582, 'pay': 583, 'vision': 584, 'harms': 585, 'creates': 586, 'places': 587, 'clearly': 588, 'heaviness': 589, 'weakness': 590, 'shadowiness': 591, 'smoking': 592, 'development': 593, 'victim': 594, 'cities': 595, 'breathing': 596, 'pipe': 597, 'group': 598, 'although': 599, 'cough': 600, 'habits': 601, 'immediate': 602, 'identification': 603, 'aware': 604, 'appear': 605, 'liquid': 606, 'circulation': 607, 'particularly': 608, 'detection': 609, 'faeces': 610, 'diagnosis': 611, 'testing': 612, 'best': 613, 'specially': 614, 'woman': 615, 'situations': 616, 'microscope': 617, 'scan': 618, 'list': 619, 'centres': 620, 'depends': 621, 'normal': 622, 'red': 623, 'tiredness': 624, 'kept': 625, 'control': 626, 'green': 627, 'everyday': 628, 'making': 629, 'partner': 630, 'outdoor': 631, 'viral': 632, 'another': 633, 'coughing': 634, 'baby': 635, 'erupt': 636, 'over': 637, 'blisters': 638, 'never': 639, 'positive': 640, 'aegypti': 641, 'let': 642, 'collect': 643, 'soil': 644, 'full': 645, 'socks': 646, 'wear': 647, 'sleeping': 648, 'drugs': 649, 'activities': 650, 'term': 651, 'vessels': 652, 'fingers': 653, 'kidneys': 654, 'stop': 655, 'studies': 656, 'contagion': 657, 'decreased': 658, 'malaria': 659, 'carrying': 660, 'grass': 661, 'attacks': 662, 'kinds': 663, 'hbv': 664, 'hiv': 665, 'vehicle': 666, 'ways': 667, 'huge': 668, 'international': 669, 'within': 670, 'planning': 671, 'desire': 672, 'fourth': 673, 'give': 674, 'kids': 675, 'births': 676, 'according': 677, 'big': 678, 'style': 679, 'participation': 680, 'provide': 681, 'babies': 682, 'maximum': 683, 'works': 684, 'supplementary': 685, 'trained': 686, 'directly': 687, 'constituted': 688, 'microbacterium': 689, 'spot': 690, 'right': 691, 'female': 692, 'mumps': 693, 'jaws': 694, 'youths': 695, 'disorder': 696, 'ill': 697, 'families': 698, 'nainital': 699, 'living': 700, 'acid': 701, 'pills': 702, 'referencing': 703, 'place': 704, 'controlling': 705, 'diphtheria': 706, 'end': 707, 'infect': 708, 'vagina': 709, 'tract': 710, 'helpful': 711, 'strategy': 712, 'symptom': 713, 'short': 714, 'means': 715, 'presence': 716, 'continuation': 717, 'arbovirus': 718, 'supply': 719, 'four': 720, 'convulse': 721, 'salmonella': 722, 'typhi': 723, 'considered': 724, 'sun': 725, 'chikungunya': 726, 'entering': 727, 'stones': 728, 'urine': 729, 'diagnosed': 730, 'amount': 731, 'beverages': 732, 'excreta': 733, 'knot': 734, 'condition': 735, 'go': 736, 'corrected': 737, 'put': 738, 'walking': 739, 'tkr': 740, 'spectacles': 741, 'frontal': 742, 'extracted': 743, 'incision': 744, 'mm': 745, 'rest': 746, 'applied': 747, 'dilapidates': 748, 'reaching': 749, 'identified': 750, 'continue': 751, 'open': 752, 'internal': 753, 'might': 754, 'appearance': 755, 'consult': 756, 'field': 757, 'sides': 758, 'looking': 759, 'cornea': 760, 'states': 761, 'nyctalopia': 762, 'diarrhoea': 763, 'dim': 764, 'dries': 765, 'gram': 766, 'leaves': 767, 'spinach': 768, 'prevent': 769, 'milk': 770, 'mn': 771, 'accidents': 772, 'needed': 773, 'fall': 774, 'falls': 775, 'fungus': 776, 'brings': 777, 'sit': 778, 'mostly': 779, 'reading': 780, 'shape': 781, 'doing': 782, 'reddening': 783, 'wrong': 784, 'cigarette': 785, 'developing': 786, 'difference': 787, 'data': 788, 'ovarian': 789, 'pan': 790, 'systems': 791, 'destroy': 792, 'gives': 793, 'details': 794, 'oxalate': 795, 'pus': 796, 'constipation': 797, 'sudden': 798, 'moles': 799, 'warts': 800, 'knowledge': 801, 'prostate': 802, 'testicle': 803, 'signs': 804, 'filtering': 805, 'able': 806, 'usually': 807, 'shown': 808, 'gloved': 809, 'finger': 810, 'everybody': 811, 'comprehensive': 812, 'hot': 813, 'situation': 814, 'defect': 815, 'touching': 816, 'dentist': 817, 'paid': 818, 'scab': 819, 'eating': 820, 'view': 821, 'own': 822, 'menstruation': 823, 'feels': 824, 'cysts': 825, 'mammogram': 826, 'whose': 827, 'sister': 828, 'mammography': 829, 'xray': 830, 'ultrasound': 831, 'training': 832, 'limited': 833, 'feel': 834, 'fully': 835, 'decrement': 836, 'cycle': 837, 'awareness': 838, 'fruits': 839, 'vegetables': 840, 'exercise': 841, 'meat': 842, 'staying': 843, 'bringing': 844, 'keeping': 845, 'bad': 846, 'reforms': 847, 'nongovernment': 848, 'organizations': 849, 'selfbreast': 850, 'schools': 851, 'register': 852, 'post': 853, 'report': 854, 'varicella': 855, 'eruption': 856, 'spray': 857, 'sneezing': 858, 'herpes': 859, 'unborn': 860, 'clear': 861, 'extreme': 862, 'itching': 863, 'adult': 864, 'had': 865, 'suffer': 866, 'decreasing': 867, 'escape': 868, 'teeth': 869, 'nose': 870, 'dengue': 871, 'coolers': 872, 'root': 873, 'empty': 874, 'pots': 875, 'bottles': 876, 'fill': 877, 'mustard': 878, 'sleeve': 879, 'insecticides': 880, 'install': 881, 'windows': 882, 'insulin': 883, 'excess': 884, 'damages': 885, 'damaged': 886, 'paralysis': 887, 'dangers': 888, 'decreases': 889, 'bladder': 890, 'extent': 891, 'bites': 892, 'stiffness': 893, 'neck': 894, 'mentioned': 895, 'cleanliness': 896, 'cut': 897, 'house': 898, 'fine': 899, 'enter': 900, 'comparatively': 901, 'jaundice': 902, 'dependent': 903, 'emergence': 904, 'hepatitis': 905, 'avoided': 906, 'provides': 907, 'ml': 908, 'destroyed': 909, 'results': 910, 'fluids': 911, 'carrier': 912, 'vomit': 913, 'american': 914, 'hernia': 915, 'stayed': 916, 'would': 917, 'running': 918, 'low': 919, 'paudi': 920, 'haridwar': 921, 'gross': 922, 'her': 923, 'continuously': 924, 'affect': 925, 'average': 926, 'per': 927, 'considering': 928, 'protected': 929, 'facilities': 930, 'pregnancy': 931, 'programs': 932, 'security': 933, 'institutional': 934, 'r': 935, 'immunisation': 936, 'directions': 937, 'service': 938, 'phcs': 939, 'chcs': 940, 'oclock': 941, 'night': 942, 'untrained': 943, 'labor': 944, 'officer': 945, 'officers': 946, 'contribution': 947, 'rudraprayag': 948, 'village': 949, 'council': 950, 'bought': 951, 'rch': 952, 'purchase': 953, 'committee': 954, 'head': 955, 'propagation': 956, 'stabilisation': 957, 'members': 958, 'leprae': 959, 'incubation': 960, 'grows': 961, 'eradicating': 962, 'resistance': 963, 'fight': 964, 'happen': 965, 'ears': 966, 'hard': 967, 'numb': 968, 'cured': 969, 'disability': 970, 'ulcer': 971, 'deformity': 972, 'bite': 973, 'anopheles': 974, 'administer': 975, 'loose': 976, 'motion': 977, 'hunger': 978, 'almost': 979, 'emerges': 980, 'achieved': 981, 'mentally': 982, 'mood': 983, 'personality': 984, 'correct': 985, 'alcohol': 986, 'agony': 987, 'ct': 988, 'relations': 989, 'treating': 990, 'difficulty': 991, 'authority': 992, 'division': 993, 'implemented': 994, 'thrice': 995, 'numbers': 996, 'injection': 997, 'got': 998, 'distribution': 999, 'anemia': 1000, 'conclude': 1001, 'benefitted': 1002, 'arises': 1003, 'opv': 1004, 'discovered': 1005, 'success': 1006, 'eradication': 1007, 'pulse': 1008, 'dtp': 1009, 'pertussis': 1010, 'communicated': 1011, 'intercourse': 1012, 'painful': 1013, 'gonorrhoea': 1014, 'create': 1015, 'uncommon': 1016, 'dead': 1017, 'remember': 1018, 'followed': 1019, 'incidence': 1020, 'coughs': 1021, 'chief': 1022, 'observed': 1023, 'course': 1024, 'chemotherapy': 1025, 'antituberculosis': 1026, 'worker': 1027, 'intensive': 1028, 'negative': 1029, 'issued': 1030, 'pack': 1031, 'bcg': 1032, 'udham': 1033, 'singh': 1034, 'nagar': 1035, 'nor': 1036, 'closes': 1037, 'insects': 1038, 'waist': 1039, 'effect': 1040, 'plenty': 1041, 'drink': 1042, 'ribavirin': 1043, 'fact': 1044, 'europe': 1045, 'elements': 1046, 'poor': 1047, 'biggest': 1048, 'chloroquine': 1049, 'thing': 1050, 'thighs': 1051, 'minutes': 1052, 'hours': 1053, 'relief': 1054, 'intermittently': 1055, 'complaint': 1056, 'avoid': 1057, 'unsuccessful': 1058, 'unacceptance': 1059, 'sensitive': 1060, 'amoeba': 1061, 'entamoeba': 1062, 'items': 1063, 'flies': 1064, 'mucus': 1065, 'fatal': 1066, 'approximately': 1067, 'sonography': 1068, 'infertility': 1069, 'complexion': 1070, 'removal': 1071, 'submucos': 1072, 'uterine': 1073, 'want': 1074, 'putting': 1075, 'thigh': 1076, 'artery': 1077, 'blocked': 1078, 'recognized': 1079, 'lacs': 1080, 'effects': 1081, 'radiation': 1082, 'uncle': 1083, 'spoiled': 1084, 'affecting': 1085, 'bone': 1086, 'cartilage': 1087, 'climbing': 1088, 'stairs': 1089, 'resurfacing': 1090, 'hip': 1091, 'implant': 1092, 'intra': 1093, 'extraction': 1094, 'posttest': 1095, 'implanted': 1096, 'iris': 1097, 'matter': 1098, 'posterior': 1099, 'intact': 1100, 'fitted': 1101, 'bag': 1102, 'tunnel': 1103, 'ecceiol': 1104, 'stitches': 1105, 'prevented': 1106, 'somebody': 1107, 'suffers': 1108, 'channel': 1109, 'yet': 1110, 'around': 1111, 'eyesight': 1112, 'lost': 1113, 'rainbow': 1114, 'colorful': 1115, 'ovals': 1116, 'equipment': 1117, 'straight': 1118, 'angle': 1119, 'passes': 1120, 'weak': 1121, 'appears': 1122, 'last': 1123, 'imminent': 1124, 'absorption': 1125, 'demand': 1126, 'visible': 1127, 'bitot': 1128, 'fenugreek': 1129, 'methi': 1130, 'cabbage': 1131, 'coriander': 1132, 'papaya': 1133, 'mango': 1134, 'applying': 1135, 'interval': 1136, 'nutritious': 1137, 'corneal': 1138, 'conjunctival': 1139, 'blind': 1140, 'injuries': 1141, 'educated': 1142, 'crackers': 1143, 'industrial': 1144, 'road': 1145, 'traffic': 1146, 'escaped': 1147, 'save': 1148, 'environmental': 1149, 'sanitation': 1150, 'gradual': 1151, 'painless': 1152, 'pupil': 1153, 'gray': 1154, 'lives': 1155, 'abode': 1156, 'damped': 1157, 'nail': 1158, 'toe': 1159, 'onikomysis': 1160, 'student': 1161, 'tries': 1162, 'blackboard': 1163, 'classroom': 1164, 'collects': 1165, 'behind': 1166, 'close': 1167, 'readingwriting': 1168, 'ray': 1169, 'concentrate': 1170, 'cylindrical': 1171, 'glasses': 1172, 'worn': 1173, 'practices': 1174, 'thoughts': 1175, 'windpipe': 1176, 'progress': 1177, 'rid': 1178, 'japan': 1179, 'eight': 1180, 'locations': 1181, 'customs': 1182, 'religion': 1183, 'calculated': 1184, 'pollution': 1185, 'gutkha': 1186, 'parag': 1187, 'powder': 1188, 'multiply': 1189, 'ignores': 1190, 'rules': 1191, 'cell': 1192, 'destroys': 1193, 'basically': 1194, 'anomaly': 1195, 'weeded': 1196, 'impressions': 1197, 'preventions': 1198, 'advantageous': 1199, 'heal': 1200, 'passing': 1201, 'prolonged': 1202, 'bouts': 1203, 'speech': 1204, 'swallowing': 1205, 'indigestion': 1206, 'bowels': 1207, 'color': 1208, 'stay': 1209, 'doubt': 1210, 'identifying': 1211, 'cost': 1212, 'late': 1213, 'connected': 1214, 'web': 1215, 'try': 1216, 'advancement': 1217, 'why': 1218, 'surgeons': 1219, 'weed': 1220, 'cervical': 1221, 'growth': 1222, 'inserting': 1223, 'mandatory': 1224, 'confirmed': 1225, 'sigmoidoscopy': 1226, 'telescopic': 1227, 'crossing': 1228, 'credible': 1229, 'irregular': 1230, 'bathing': 1231, 'flaccid': 1232, 'figured': 1233, 'finds': 1234, 'consulted': 1235, 'experienced': 1236, 'gum': 1237, 'lips': 1238, 'cheek': 1239, 'cracks': 1240, 'betel': 1241, 'masala': 1242, 'zarda': 1243, 'essential': 1244, 'mirror': 1245, 'know': 1246, 'pains': 1247, 'appoint': 1248, 'whenever': 1249, 'she': 1250, 'correctly': 1251, 'aunts': 1252, 'pathology': 1253, 'attempted': 1254, 'particle': 1255, 'entered': 1256, 'lessen': 1257, 'burnt': 1258, 'calculation': 1259, 'based': 1260, 'mark': 1261, 'entry': 1262, 'prohibited': 1263, 'room': 1264, 'radioactive': 1265, 'nails': 1266, 'eats': 1267, 'recover': 1268, 'sick': 1269, 'incurable': 1270, 'palliative': 1271, 'products': 1272, 'quitting': 1273, 'vegetarian': 1274, 'hour': 1275, 'chilly': 1276, 'fried': 1277, 'roasted': 1278, 'ghee': 1279, 'wine': 1280, 'relationship': 1281, 'faithful': 1282, 'productive': 1283, 'feeding': 1284, 'condoms': 1285, 'anganwadi': 1286, 'cancerous': 1287, 'junior': 1288, 'superintendant': 1289, 'base': 1290, 'college': 1291, 'private': 1292, 'asked': 1293, 'maintain': 1294, 'directorate': 1295, 'zoster': 1296, 'vzv': 1297, 'sign': 1298, 'drops': 1299, 'started': 1300, 'famous': 1301, 'freckles': 1302, 'later': 1303, 'scabs': 1304, 'childhood': 1305, 'adolescence': 1306, 'adulthood': 1307, 'longer': 1308, 'complaints': 1309, 'tourniquet': 1310, 'platelet': 1311, 'count': 1312, 'sting': 1313, 'tiger': 1314, 'stings': 1315, 'tanks': 1316, 'disused': 1317, 'tin': 1318, 'cans': 1319, 'tyres': 1320, 'flower': 1321, 'money': 1322, 'plants': 1323, 'cisterns': 1324, 'tubs': 1325, 'pitchers': 1326, 'changing': 1327, 'twice': 1328, 'filling': 1329, 'kerosene': 1330, 'ditch': 1331, 'neem': 1332, 'shirts': 1333, 'boys': 1334, 'clothes': 1335, 'going': 1336, 'sprayed': 1337, 'outburst': 1338, 'antimosquito': 1339, 'incense': 1340, 'sticks': 1341, 'doors': 1342, 'clerestorys': 1343, 'nonsteroidal': 1344, 'controlled': 1345, 'killing': 1346, 'frequent': 1347, 'urination': 1348, 'thirsty': 1349, 'inability': 1350, 'paralysing': 1351, 'neuropathy': 1352, 'nephropathy': 1353, 'retinopathy': 1354, 'tip': 1355, 'upwards': 1356, 'lose': 1357, 'delicate': 1358, 'working': 1359, 'dialysis': 1360, 'complexity': 1361, 'proved': 1362, 'those': 1363, 'gums': 1364, 'adopting': 1365, 'chances': 1366, 'predamage': 1367, 'minimizing': 1368, 'polluted': 1369, 'appearing': 1370, 'strokes': 1371, 'fainting': 1372, 'nervousness': 1373, 'admitted': 1374, 'subdivisional': 1375, 'community': 1376, 'reside': 1377, 'paddy': 1378, 'fields': 1379, 'ponds': 1380, 'filled': 1381, 'tall': 1382, 'bushes': 1383, 'pants': 1384, 'pyjama': 1385, 'dhoti': 1386, 'sleeved': 1387, 'kurta': 1388, 'shirt': 1389, 'evening': 1390, 'wherever': 1391, 'rain': 1392, 'cooperate': 1393, 'staffs': 1394, 'sprinkling': 1395, 'fogging': 1396, 'pigsties': 1397, 'encephalitis': 1398, 'widespread': 1399, 'lever': 1400, 'intensity': 1401, 'anal': 1402, 'develops': 1403, 'purge': 1404, 'colored': 1405, 'hungry': 1406, 'frequency': 1407, 'v': 1408, 'viruses': 1409, 'similarly': 1410, 'practical': 1411, 'booster': 1412, 'six': 1413, 'glaxosmithkline': 1414, 'order': 1415, 'paediatric': 1416, 'worldwide': 1417, 'function': 1418, 'interrupted': 1419, 'unexpected': 1420, 'thought': 1421, 'aids': 1422, 'victimises': 1423, 'sperm': 1424, 'vaginal': 1425, 'convenient': 1426, 'resultant': 1427, 'chronic': 1428, 'protective': 1429, 'antibacterial': 1430, 'reactions': 1431, 'intense': 1432, 'extensive': 1433, 'remarkable': 1434, 'decrease': 1435, 'arising': 1436, 'jack': 1437, 'negro': 1438, 'plague': 1439, 'precautions': 1440, 'independence': 1441, 'subject': 1442, 'suggested': 1443, 'conference': 1444, 'cairo': 1445, 'egypt': 1446, 'conjugate': 1447, 'element': 1448, 'concept': 1449, 'constitution': 1450, 'original': 1451, 'uttar': 1452, 'pradesh': 1453, 'lowered': 1454, 'infants': 1455, 'inter': 1456, 'differences': 1457, 'son': 1458, 'future': 1459, 'hilly': 1460, 'plain': 1461, 'next': 1462, 'comment': 1463, 'tendencies': 1464, 'styles': 1465, 'particular': 1466, 'estimates': 1467, 'sample': 1468, 'registration': 1469, 'infancy': 1470, 'odd': 1471, 'noncommunicable': 1472, 'modernization': 1473, 'urbanization': 1474, 'bring': 1475, 'decline': 1476, 'importance': 1477, 'relation': 1478, 'contraceptive': 1479, 'make': 1480, 'parents': 1481, 'parent': 1482, 'increased': 1483, 'camps': 1484, 'sessions': 1485, 'construction': 1486, 'repairing': 1487, 'units': 1488, 'unserved': 1489, 'acceptability': 1490, 'contraceptives': 1491, 'secure': 1492, 'morning': 1493, 'counsellors': 1494, 'accepted': 1495, 'appointed': 1496, 'e': 1497, 'advertisements': 1498, 'newspapers': 1499, 'selected': 1500, 'reported': 1501, 'agastyamuni': 1502, 'chc': 1503, 'organising': 1504, 'outreach': 1505, 'session': 1506, 'defined': 1507, 'saturday': 1508, 'scrapped': 1509, 'govt': 1510, 'july': 1511, 'kits': 1512, 'equipments': 1513, 'provision': 1514, 'recommendation': 1515, 'executive': 1516, 'office': 1517, 'nsv': 1518, 'stitch': 1519, 'installation': 1520, 'stable': 1521, 'rn': 1522, 'hoarding': 1523, 'wall': 1524, 'paintings': 1525, 'orientation': 1526, 'panchayati': 1527, 'raj': 1528, 'paramedical': 1529, 'staff': 1530, 'media': 1531, 'exhibition': 1532, 'nervous': 1533, 'slowly': 1534, 'equally': 1535, 'm': 1536, 'cures': 1537, 'prevents': 1538, 'noncontagious': 1539, 'capability': 1540, 'thereby': 1541, 'discolored': 1542, 'reddish': 1543, 'stain': 1544, 'piercing': 1545, 'oily': 1546, 'shine': 1547, 'thickness': 1548, 'eyebrows': 1549, 'chin': 1550, 'thrilling': 1551, 'sensation': 1552, 'dryness': 1553, 'deformation': 1554, 'initiation': 1555, 'freckle': 1556, 'aroused': 1557, 'excommunication': 1558, 'careless': 1559, 'growing': 1560, 'malformed': 1561, 'face': 1562, 'ugly': 1563, 'insensitive': 1564, 'lateness': 1565, 'brought': 1566, 'previous': 1567, 'yes': 1568, 'disabled': 1569, 'simple': 1570, 'operations': 1571, 'livelihood': 1572, 'apply': 1573, 'yourself': 1574, 'pour': 1575, 'petrolubricants': 1576, 'earliest': 1577, 'antibody': 1578, 'incidents': 1579, 'nine': 1580, 'indications': 1581, 'conjunctivitis': 1582, 'stains': 1583, 'mouths': 1584, 'erupting': 1585, 'seriously': 1586, 'local': 1587, 'entrance': 1588, 'perotitis': 1589, 'paining': 1590, 'cheeks': 1591, 'respectively': 1592, 'drying': 1593, 'german': 1594, 'nominal': 1595, 'defects': 1596, 'attenuated': 1597, 'amalgamated': 1598, 'breed': 1599, 'exercises': 1600, 'step': 1601, 'execution': 1602, 'believes': 1603, 'eradicate': 1604, 'w': 1605, 'unicef': 1606, 'administration': 1607, 'second': 1608, 'think': 1609, 'understand': 1610, 'afflicted': 1611, 'victims': 1612, 'purblindness': 1613, 'epilepsy': 1614, 'sleeplessness': 1615, 'hypersomnia': 1616, 'schizophrenia': 1617, 'dementia': 1618, 'delirium': 1619, 'african': 1620, 'latin': 1621, 'paying': 1622, 'sad': 1623, 'angry': 1624, 'sorry': 1625, 'happiness': 1626, 'happy': 1627, 'disturbed': 1628, 'talk': 1629, 'thinking': 1630, 'others': 1631, 'cannabis': 1632, 'marijuana': 1633, 'declaring': 1634, 'him': 1635, 'lab': 1636, 'ecg': 1637, 'rft': 1638, 'lft': 1639, 'eeg': 1640, 'diagnostic': 1641, 'standardized': 1642, 'intervenes': 1643, 'psychological': 1644, 'listening': 1645, 'providing': 1646, 'emotionally': 1647, 'propagating': 1648, 'press': 1649, 'radio': 1650, 'fairs': 1651, 'posters': 1652, 'banners': 1653, 'better': 1654, 'colleges': 1655, 'institutes': 1656, 'emotional': 1657, 'disorders': 1658, 'enabling': 1659, 'undergo': 1660, 'solving': 1661, 'personal': 1662, 'saving': 1663, 'falling': 1664, 'executed': 1665, 'april': 1666, 'bed': 1667, 'constructed': 1668, 'chosen': 1669, 'garhwal': 1670, 'kumaun': 1671, 'proposal': 1672, 'sent': 1673, 'transferred': 1674, 'transfer': 1675, 'poverty': 1676, 'line': 1677, 'assistance': 1678, 'rs': 1679, 'nutrition': 1680, 'capital': 1681, 'received': 1682, 'intended': 1683, 'beneficiaries': 1684, 'percentage': 1685, 'advantage': 1686, 'iron': 1687, 'folic': 1688, 'toxide': 1689, 'injections': 1690, 't': 1691, 'vogue': 1692, 'uneducated': 1693, 'standards': 1694, 'indicating': 1695, 'maids': 1696, 'assistant': 1697, 'seven': 1698, 'completing': 1699, 'institutions': 1700, 'postlabour': 1701, 'postchildbirth': 1702, 'newborn': 1703, 'abortion': 1704, 'comparative': 1705, 'detail': 1706, 'achievements': 1707, 'table': 1708, 'poliomyelitis': 1709, 'medium': 1710, 'rapidly': 1711, 'faster': 1712, 'crowded': 1713, 'oral': 1714, 'poliovirus': 1715, 'contemporary': 1716, 'soviet': 1717, 'union': 1718, 'technique': 1719, 'relevant': 1720, 'proof': 1721, 'successful': 1722, 'clinical': 1723, 'throat': 1724, 'contractible': 1725, 'chlamydia': 1726, 'initially': 1727, 'either': 1728, 'looks': 1729, 'totally': 1730, 'oozing': 1731, 'stench': 1732, 'naval': 1733, 'depths': 1734, 'crust': 1735, 'urinating': 1736, 'excreting': 1737, 'flu': 1738, 'arise': 1739, 'inborn': 1740, 'syphilis': 1741, 'undeveloped': 1742, 'conjuctiva': 1743, 'contracted': 1744, 'copulate': 1745, 'partners': 1746, 'wash': 1747, 'encourage': 1748, 'higher': 1749, 'commonly': 1750, 'economic': 1751, 'loss': 1752, 'quantity': 1753, 'too': 1754, 'afraid': 1755, 'say': 1756, 'orphans': 1757, 'research': 1758, 'drop': 1759, 'privilege': 1760, 'dying': 1761, 'thrown': 1762, 'homes': 1763, 'droplets': 1764, 'breath': 1765, 'infects': 1766, 'recovering': 1767, 'quits': 1768, 'revealed': 1769, 'courses': 1770, 'stages': 1771, 'alternate': 1772, 'calendared': 1773, 'multiblistered': 1774, 'combo': 1775, 'weekly': 1776, 'watch': 1777, 'whoever': 1778, 'encouraged': 1779, 'supposed': 1780, 'epidemics': 1781, 'flaviviridae': 1782, 'singleformula': 1783, 'rna': 1784, 'simpsaloni': 1785, 'africanus': 1786, 'administering': 1787, 'refer': 1788, 'send': 1789, 'enquiring': 1790, 'went': 1791, 'vaccinated': 1792, 'educate': 1793, 'stores': 1794, 'built': 1795, 'distribute': 1796, 'faroff': 1797, 'revised': 1798, 'properly': 1799, 'fourwheeler': 1800, 'tehri': 1801, 'uttarkashi': 1802, 'chamoli': 1803, 'pithauragarh': 1804, 'almora': 1805, 'twowheeler': 1806, 'microscopic': 1807, 'centre': 1808, 'binocular': 1809, 'bageshwar': 1810, 'champawat': 1811, 'wheeler': 1812, 'dust': 1813, 'dirt': 1814, 'rusted': 1815, 'metals': 1816, 'cuts': 1817, 'neither': 1818, 'opens': 1819, 'slow': 1820, 'already': 1821, 'flavivirus': 1822, 'reproducing': 1823, 'locally': 1824, 'muscle': 1825, 'sticky': 1826, 'wet': 1827, 'material': 1828, 'sound': 1829, 'dog': 1830, 'barking': 1831, 'suddenly': 1832, 'organisms': 1833, 'pneumonia': 1834, 'bronchitis': 1835, 'gastrointestinal': 1836, 'fullfledged': 1837, 'insect': 1838, 'periodic': 1839, 'item': 1840, 'beverage': 1841, 'organic': 1842, 'constituents': 1843, 'inactive': 1844, 'reliable': 1845, 'traveling': 1846, 'regional': 1847, 'youth': 1848, 'major': 1849, 'public': 1850, 'antibiotic': 1851, 'epidemic': 1852, 'jungle': 1853, 'density': 1854, 'real': 1855, 'corollary': 1856, 'lot': 1857, 'hamster': 1858, 'model': 1859, 'proves': 1860, 'hepatitisc': 1861, 'historical': 1862, 'says': 1863, 'cdc': 1864, 'sheet': 1865, 'toxic': 1866, 'history': 1867, 'afric': 1868, 'america': 1869, 'caribbean': 1870, 'islands': 1871, 'worst': 1872, 'united': 1873, 'thousand': 1874, 'died': 1875, 'mississippi': 1876, 'valley': 1877, 'medicalphilosophy': 1878, 'recuperation': 1879, 'molecules': 1880, 'homeopathy': 1881, 'acupuncture': 1882, 'acupressure': 1883, 'therapies': 1884, 'ayurveda': 1885, 'nature': 1886, 'creative': 1887, 'powers': 1888, 'lightly': 1889, 'cooked': 1890, 'play': 1891, 'conclusive': 1892, 'role': 1893, 'revolution': 1894, 'science': 1895, 'boon': 1896, 'nations': 1897, 'external': 1898, 'piles': 1899, 'expressed': 1900, 'extending': 1901, 'aggressive': 1902, 'chikununya': 1903, 'alphavirus': 1904, 'humanmosquitohuman': 1905, 'monkeys': 1906, 'species': 1907, 'including': 1908, 'proving': 1909, 'flushed': 1910, 'grow': 1911, 'blockage': 1912, 'normally': 1913, 'regrettable': 1914, 'chance': 1915, 'catching': 1916, 'malfunction': 1917, 'perspiration': 1918, 'complain': 1919, 'starting': 1920, 'renal': 1921, 'chronine': 1922, 'xraysonography': 1923, 'dye': 1924, 'solutions': 1925, 'litre': 1926, 'protein': 1927, 'nitrogen': 1928, 'sodium': 1929, 'materials': 1930, 'chocolate': 1931, 'soyabean': 1932, 'almond': 1933, 'cocacola': 1934, 'heavy': 1935, 'vitaminc': 1936, 'juice': 1937, 'orange': 1938, 'calcium': 1939, 'uric': 1940, 'meaning': 1941, 'functional': 1942, 'transplanting': 1943, 'donator': 1944, 'alive': 1945, 'transplantable': 1946, 'pancreas': 1947, 'penis': 1948, 'challenging': 1949, 'modern': 1950, 'discipline': 1951, 'management': 1952, 'rejects': 1953, 'reacting': 1954, 'challenge': 1955, 'active': 1956, 'valves': 1957, 'arm': 1958, 'suitable': 1959, 'formal': 1960, 'alleviate': 1961, 'risks': 1962, 'manage': 1963, 'allocation': 1964, 'attached': 1965, 'eurotransplant': 1966, 'assured': 1967, 'ethical': 1968, 'issues': 1969, 'fore': 1970, 'definition': 1971, 'agreement': 1972, 'payment': 1973, 'dysentry': 1974, 'microbic': 1975, 'histolytica': 1976, 'ova': 1977, 'eggs': 1978, 'convulsion': 1979, 'anus': 1980, 'diagnosing': 1981, 'tenderness': 1982, 'caecum': 1983, 'iliac': 1984, 'region': 1985, 'thickened': 1986, 'portal': 1987, 'vein': 1988, 'epatitis': 1989, 'blasts': 1990, 'peritoneum': 1991, 'pericardium': 1992, 'shoulder': 1993, 'pinnacle': 1994, 'burn': 1995, 'kitchen': 1996, 'until': 1997, 'eat': 1998, 'barley': 1999, 'quality': 2000, 'washing': 2001, 'habit': 2002, 'thin': 2003, 'tapioca': 2004, 'pearls': 2005, 'sabudana': 2006, 'arrowroot': 2007, 'rice': 2008, 'curd': 2009, 'rich': 2010, 'remain': 2011, 'yoga': 2012, 'priceless': 2013, 'leiomyoma': 2014, 'forward': 2015, 'produce': 2016, 'predominantly': 2017, 'girls': 2018, 'infested': 2019, 'menopause': 2020, 'hormone': 2021, 'dark': 2022, 'fair': 2023, 'menarche': 2024, 'consumption': 2025, 'vegetarianism': 2026, 'fibrous': 2027, 'fibroids': 2028, 'unusual': 2029, 'menses': 2030, 'micturition': 2031, 'difficulties': 2032, 'endometriosis': 2033, 'adenomyosis': 2034, 'prerequisite': 2035, 'hysteroscopic': 2036, 'endoscopy': 2037, 'intramural': 2038, 'myomectomy': 2039, 'carried': 2040, 'hysteroscopy': 2041, 'laparoscopy': 2042, 'laprotomy': 2043, 'opening': 2044, 'quite': 2045, 'together': 2046, 'hysterectomy': 2047, 'laparoscopic': 2048, 'myolysis': 2049, 'poly': 2050, 'vinyl': 2051, 'gel': 2052, 'foam': 2053, 'particles': 2054, 'reduce': 2055, 'dreadful': 2056, 'thousands': 2057, 'break': 2058, 'financially': 2059, 'cent': 2060, 'ridden': 2061, 'thus': 2062, 'financial': 2063, 'date': 2064, 'mri': 2065, 'though': 2066, 'somehow': 2067, 'side': 2068, 'hold': 2069, 'weapon': 2070, 'lethal': 2071, 'greek': 2072, 'egyptian': 2073, 'temperature': 2074, 'sir': 2075, 'william': 2076, 'harchell': 2077, 'thermal': 2078, 'radiations': 2079, 'ad': 2080, 'certain': 2081, 'narrow': 2082, 'meningitis': 2083, 'intracranial': 2084, 'rheumatoid': 2085, 'spondilitis': 2086, 'else': 2087, 'anything': 2088, 'altered': 2089, 'impact': 2090, 'alone': 2091, 'weaken': 2092, 'viagra': 2093, 'someone': 2094, 'squint': 2095, 'certainly': 2096, 'syndrome': 2097, 'consulting': 2098, 'anyone': 2099, 'paternal': 2100, 'father': 2101, 'look': 2102, 'naked': 2103, 'ultraviolet': 2104, 'freshness': 2105, 'coolness': 2106, 'reduction': 2107, 'tv': 2108, 'computer': 2109, 'word': 2110, 'swellings': 2111, 'captivity': 2112, 'wide': 2113, 'actions': 2114, 'floor': 2115, 'domestic': 2116, 'actually': 2117, 'femur': 2118, 'foot': 2119, 'tibia': 2120, 'happening': 2121, 'suffering': 2122, 'faces': 2123, 'bath': 2124, 'reached': 2125, 'preliminary': 2126, 'whom': 2127, 'alternatives': 2128, 'unicompartmental': 2129, 'beneficial': 2130, 'replacement': 2131, 'useful': 2132, 'entire': 2133, 'mean': 2134, 'metal': 2135, 'fixed': 2136, 'newest': 2137, 'alternative': 2138, 'rotating': 2139, 'platform': 2140, 'flexion': 2141, 'bending': 2142, 'gardening': 2143, 'driving': 2144, 'exercising': 2145, 'comfort': 2146}\n",
            "[[   1   30    2 ...    0    0    0]\n",
            " [ 246  209  567 ...    0    0    0]\n",
            " [  65  287  209 ...    0    0    0]\n",
            " ...\n",
            " [ 740  278   20 ...    0    0    0]\n",
            " [   3  740  299 ...    0    0    0]\n",
            " [   1 2137 2138 ...    0    0    0]]\n",
            "57\n"
          ],
          "name": "stdout"
        }
      ]
    },
    {
      "cell_type": "code",
      "metadata": {
        "trusted": true,
        "id": "nR6cH5nCVlYa",
        "colab_type": "code",
        "colab": {
          "base_uri": "https://localhost:8080/",
          "height": 52
        },
        "outputId": "57cef404-2cfc-4e98-956c-1fa5ff68dc29"
      },
      "source": [
        "dest_tokenizer = tf.keras.preprocessing.text.Tokenizer(filters='')\n",
        "\n",
        "dest_tokenizer.fit_on_texts(y_in_train)\n",
        "dest_tokenizer.fit_on_texts(y_out_train)\n",
        "\n",
        "data_dest_in = dest_tokenizer.texts_to_sequences(y_in_train)\n",
        "data_dest_in = tf.keras.preprocessing.sequence.pad_sequences(data_dest_in,padding='post')\n",
        "\n",
        "data_dest_out = dest_tokenizer.texts_to_sequences(y_out_train)\n",
        "data_dest_out = tf.keras.preprocessing.sequence.pad_sequences(data_dest_out,padding='post')\n",
        "\n",
        "print(data_dest_in.shape)\n",
        "print(data_dest_out.shape)"
      ],
      "execution_count": 152,
      "outputs": [
        {
          "output_type": "stream",
          "text": [
            "(800, 58)\n",
            "(800, 58)\n"
          ],
          "name": "stdout"
        }
      ]
    },
    {
      "cell_type": "code",
      "metadata": {
        "trusted": true,
        "id": "MbfbVZJ2VlYj",
        "colab_type": "code",
        "colab": {}
      },
      "source": [
        "class Encoder(tf.keras.Model):\n",
        "    def __init__(self, vocab_size, embedding_size, lstm_size):\n",
        "        super(Encoder, self).__init__()\n",
        "        self.lstm_size = lstm_size\n",
        "        self.embedding = tf.keras.layers.Embedding(vocab_size, embedding_size)\n",
        "        self.lstm_1 = tf.keras.layers.LSTM(lstm_size, return_sequences=True, return_state=True)\n",
        "        self.lstm_2 = tf.keras.layers.LSTM(lstm_size, return_sequences=True, return_state=True)\n",
        "\n",
        "    def call(self, sequence, states):\n",
        "        embed = self.embedding(sequence)\n",
        "        output, state_h, state_c = self.lstm_1(embed, initial_state=states)\n",
        "        output, state_h, state_c = self.lstm_2(output, initial_state=[state_h,state_c])\n",
        "        return output, state_h, state_c\n",
        "\n",
        "    def init_states(self, batch_size):\n",
        "        return (tf.zeros([batch_size, self.lstm_size]),\n",
        "                tf.zeros([batch_size, self.lstm_size]))"
      ],
      "execution_count": 0,
      "outputs": []
    },
    {
      "cell_type": "code",
      "metadata": {
        "trusted": true,
        "id": "WNCnftgdVlYp",
        "colab_type": "code",
        "colab": {}
      },
      "source": [
        "class Decoder(tf.keras.Model):\n",
        "    def __init__(self, vocab_size, embedding_size, lstm_size):\n",
        "        super(Decoder, self).__init__()\n",
        "        self.lstm_size = lstm_size\n",
        "        self.embedding = tf.keras.layers.Embedding(vocab_size, embedding_size)\n",
        "        self.lstm = tf.keras.layers.LSTM(lstm_size, return_sequences=True, return_state=True)\n",
        "        self.dense = tf.keras.layers.Dense(vocab_size)\n",
        "\n",
        "    def call(self, sequence, state):\n",
        "        embed = self.embedding(sequence)\n",
        "        lstm_out, state_h, state_c = self.lstm(embed, state)\n",
        "        logits = self.dense(lstm_out)\n",
        "\n",
        "        return logits, state_h, state_c"
      ],
      "execution_count": 0,
      "outputs": []
    },
    {
      "cell_type": "code",
      "metadata": {
        "id": "ME_nQdjnYfAk",
        "colab_type": "code",
        "colab": {}
      },
      "source": [
        "BATCH_SIZE = 5\n",
        "EMBEDDING_SIZE = 256\n",
        "LSTM_SIZE = 256"
      ],
      "execution_count": 0,
      "outputs": []
    },
    {
      "cell_type": "code",
      "metadata": {
        "trusted": true,
        "id": "SQRK3GwjVlYd",
        "colab_type": "code",
        "colab": {
          "base_uri": "https://localhost:8080/",
          "height": 34
        },
        "outputId": "62202ff0-4fb0-4e3a-f878-41a869d4cdb5"
      },
      "source": [
        "dataset = tf.data.Dataset.from_tensor_slices((data_src, data_dest_in, data_dest_out))\n",
        "dataset = dataset.shuffle(20).batch(BATCH_SIZE)\n",
        "print(dataset)"
      ],
      "execution_count": 196,
      "outputs": [
        {
          "output_type": "stream",
          "text": [
            "<BatchDataset shapes: ((None, 57), (None, 58), (None, 58)), types: (tf.int32, tf.int32, tf.int32)>\n"
          ],
          "name": "stdout"
        }
      ]
    },
    {
      "cell_type": "code",
      "metadata": {
        "trusted": true,
        "id": "fNmuoKfFVlYu",
        "colab_type": "code",
        "colab": {}
      },
      "source": [
        "def get_model():\n",
        "  src_vocab_size = len(src_tokenizer.word_index) + 1\n",
        "  dest_vocab_size = len(dest_tokenizer.word_index) + 1\n",
        "\n",
        "  encoder = Encoder(src_vocab_size, EMBEDDING_SIZE, LSTM_SIZE)\n",
        "  decoder = Decoder(dest_vocab_size, EMBEDDING_SIZE, LSTM_SIZE)\n",
        "  return encoder, decoder\n",
        "\n",
        "# encoder, decoder = get_model()\n",
        "# initial_states = encoder.init_states(1)\n",
        "# encoder_outputs = encoder(tf.constant([[1, 2, 3]]), initial_states)\n",
        "# decoder_outputs = decoder(tf.constant([[1, 2, 3]]), encoder_outputs[1:])"
      ],
      "execution_count": 0,
      "outputs": []
    },
    {
      "cell_type": "code",
      "metadata": {
        "trusted": true,
        "id": "7KWUdSdhVlYy",
        "colab_type": "code",
        "colab": {}
      },
      "source": [
        "def loss_func(targets, logits):\n",
        "    crossentropy = tf.keras.losses.SparseCategoricalCrossentropy(from_logits=True)\n",
        "    mask = tf.math.logical_not(tf.math.equal(targets, 0))\n",
        "    mask = tf.cast(mask, dtype=tf.int64)\n",
        "    loss = crossentropy(targets, logits, sample_weight=mask)\n",
        "\n",
        "    return loss"
      ],
      "execution_count": 0,
      "outputs": []
    },
    {
      "cell_type": "code",
      "metadata": {
        "trusted": true,
        "id": "JuoO4txGVlY3",
        "colab_type": "code",
        "colab": {}
      },
      "source": [
        "optimizer = tf.keras.optimizers.RMSprop()#.Adam()"
      ],
      "execution_count": 0,
      "outputs": []
    },
    {
      "cell_type": "code",
      "metadata": {
        "trusted": true,
        "id": "tyva_R0LVlY6",
        "colab_type": "code",
        "colab": {}
      },
      "source": [
        "@tf.function\n",
        "def train_step(source_seq, target_seq_in, target_seq_out, en_initial_states):\n",
        "    with tf.GradientTape() as tape:\n",
        "        en_outputs = encoder(source_seq, en_initial_states)\n",
        "        en_states = en_outputs[1:]\n",
        "        de_states = en_states\n",
        "\n",
        "        de_outputs = decoder(target_seq_in, de_states)\n",
        "        logits = de_outputs[0]\n",
        "        loss = loss_func(target_seq_out, logits)\n",
        "\n",
        "    variables = encoder.trainable_variables + decoder.trainable_variables\n",
        "    gradients = tape.gradient(loss, variables)\n",
        "    optimizer.apply_gradients(zip(gradients, variables))\n",
        "\n",
        "    return loss"
      ],
      "execution_count": 0,
      "outputs": []
    },
    {
      "cell_type": "code",
      "metadata": {
        "trusted": true,
        "id": "I42H8EXJVlY_",
        "colab_type": "code",
        "colab": {}
      },
      "source": [
        "def predict(test_source_text):\n",
        "    \n",
        "    test_source_seq = src_tokenizer.texts_to_sequences([test_source_text])\n",
        "\n",
        "    en_initial_states = encoder.init_states(1)\n",
        "    en_outputs = encoder(tf.constant(test_source_seq), en_initial_states)\n",
        "\n",
        "    de_input = tf.constant([[dest_tokenizer.word_index['<sos>']]])\n",
        "    de_state_h, de_state_c = en_outputs[1:]\n",
        "    out_words = []\n",
        "\n",
        "    while True:\n",
        "        de_output, de_state_h, de_state_c = decoder(de_input, (de_state_h, de_state_c))\n",
        "        de_input = tf.argmax(de_output, -1)\n",
        "        try:\n",
        "          out_words.append(dest_tokenizer.index_word[de_input.numpy()[0][0]])\n",
        "        except:\n",
        "          out_words.append('<unk>')\n",
        "        if out_words[-1] == '<eos>' or len(out_words) >= 50:\n",
        "            break\n",
        "\n",
        "    output = ' '.join(out_words)\n",
        "    return output "
      ],
      "execution_count": 0,
      "outputs": []
    },
    {
      "cell_type": "code",
      "metadata": {
        "trusted": true,
        "id": "LsPjpaeTVlZC",
        "colab_type": "code",
        "colab": {
          "base_uri": "https://localhost:8080/",
          "height": 1000
        },
        "outputId": "b31ca91f-7e17-4025-c930-c01dd136d39c"
      },
      "source": [
        "NUM_EPOCHS = 500\n",
        "encoder, decoder = get_model()\n",
        "for e in range(NUM_EPOCHS):\n",
        "    en_initial_states = encoder.init_states(BATCH_SIZE)\n",
        "\n",
        "    for batch, (source_seq, target_seq_in, target_seq_out) in enumerate(dataset.take(-1)):\n",
        "        loss = train_step(source_seq, target_seq_in,target_seq_out, en_initial_states)\n",
        "\n",
        "    print('Epoch {} Loss {:.8f}'.format(e + 1, loss.numpy()))"
      ],
      "execution_count": 202,
      "outputs": [
        {
          "output_type": "stream",
          "text": [
            "WARNING:tensorflow:<tensorflow.python.keras.layers.recurrent.UnifiedLSTM object at 0x7f52a8d57ac8>: Note that this layer is not optimized for performance. Please use tf.keras.layers.CuDNNLSTM for better performance on GPU.\n",
            "WARNING:tensorflow:<tensorflow.python.keras.layers.recurrent.UnifiedLSTM object at 0x7f52a8d3a550>: Note that this layer is not optimized for performance. Please use tf.keras.layers.CuDNNLSTM for better performance on GPU.\n",
            "WARNING:tensorflow:<tensorflow.python.keras.layers.recurrent.UnifiedLSTM object at 0x7f52a8d3a940>: Note that this layer is not optimized for performance. Please use tf.keras.layers.CuDNNLSTM for better performance on GPU.\n",
            "Epoch 1 Loss 1.82389593\n",
            "Epoch 2 Loss 1.69894862\n",
            "Epoch 3 Loss 1.63988566\n",
            "Epoch 4 Loss 1.57252705\n",
            "Epoch 5 Loss 1.50233638\n",
            "Epoch 6 Loss 1.46893036\n",
            "Epoch 7 Loss 1.42830205\n",
            "Epoch 8 Loss 1.39157164\n",
            "Epoch 9 Loss 1.36779773\n",
            "Epoch 10 Loss 1.33917236\n",
            "Epoch 11 Loss 1.32315075\n",
            "Epoch 12 Loss 1.28881323\n",
            "Epoch 13 Loss 1.24929988\n",
            "Epoch 14 Loss 1.22956121\n",
            "Epoch 15 Loss 1.17968893\n",
            "Epoch 16 Loss 1.15208995\n",
            "Epoch 17 Loss 1.14039886\n",
            "Epoch 18 Loss 1.10294437\n",
            "Epoch 19 Loss 1.12072206\n",
            "Epoch 20 Loss 1.10304797\n",
            "Epoch 21 Loss 1.03958702\n",
            "Epoch 22 Loss 1.02000570\n",
            "Epoch 23 Loss 0.97170293\n",
            "Epoch 24 Loss 0.94644701\n",
            "Epoch 25 Loss 0.94374043\n",
            "Epoch 26 Loss 0.90076149\n",
            "Epoch 27 Loss 0.95787627\n",
            "Epoch 28 Loss 0.86760360\n",
            "Epoch 29 Loss 0.82587928\n",
            "Epoch 30 Loss 0.81926119\n",
            "Epoch 31 Loss 0.80467516\n",
            "Epoch 32 Loss 0.79271460\n",
            "Epoch 33 Loss 0.76998103\n",
            "Epoch 34 Loss 0.72117049\n",
            "Epoch 35 Loss 0.76108295\n",
            "Epoch 36 Loss 0.73239714\n",
            "Epoch 37 Loss 0.68391353\n",
            "Epoch 38 Loss 0.68065095\n",
            "Epoch 39 Loss 0.64740169\n",
            "Epoch 40 Loss 0.67802125\n",
            "Epoch 41 Loss 0.60585159\n",
            "Epoch 42 Loss 0.56135899\n",
            "Epoch 43 Loss 0.56898654\n",
            "Epoch 44 Loss 0.54997087\n",
            "Epoch 45 Loss 0.51111364\n",
            "Epoch 46 Loss 0.49675483\n",
            "Epoch 47 Loss 0.48479220\n",
            "Epoch 48 Loss 0.56170213\n",
            "Epoch 49 Loss 0.46236157\n",
            "Epoch 50 Loss 0.44197249\n",
            "Epoch 51 Loss 0.40354773\n",
            "Epoch 52 Loss 0.37940812\n",
            "Epoch 53 Loss 0.42503372\n",
            "Epoch 54 Loss 0.34890595\n",
            "Epoch 55 Loss 0.34347528\n",
            "Epoch 56 Loss 0.34165743\n",
            "Epoch 57 Loss 0.31887805\n",
            "Epoch 58 Loss 0.29968855\n",
            "Epoch 59 Loss 0.28071490\n",
            "Epoch 60 Loss 0.27571392\n",
            "Epoch 61 Loss 0.33725756\n",
            "Epoch 62 Loss 0.27218980\n",
            "Epoch 63 Loss 0.26770914\n",
            "Epoch 64 Loss 0.23726888\n",
            "Epoch 65 Loss 0.23549893\n",
            "Epoch 66 Loss 0.23205966\n",
            "Epoch 67 Loss 0.21996053\n",
            "Epoch 68 Loss 0.20595101\n",
            "Epoch 69 Loss 0.19807139\n",
            "Epoch 70 Loss 0.19917405\n",
            "Epoch 71 Loss 0.18409337\n",
            "Epoch 72 Loss 0.17402139\n",
            "Epoch 73 Loss 0.16602163\n",
            "Epoch 74 Loss 0.17089352\n",
            "Epoch 75 Loss 0.16149348\n",
            "Epoch 76 Loss 0.17042109\n",
            "Epoch 77 Loss 0.14944902\n",
            "Epoch 78 Loss 0.14803837\n",
            "Epoch 79 Loss 0.14807336\n",
            "Epoch 80 Loss 0.13874027\n",
            "Epoch 81 Loss 0.13134079\n",
            "Epoch 82 Loss 0.13285267\n",
            "Epoch 83 Loss 0.13241677\n",
            "Epoch 84 Loss 0.13164806\n",
            "Epoch 85 Loss 0.12194565\n",
            "Epoch 86 Loss 0.12246286\n",
            "Epoch 87 Loss 0.12789774\n",
            "Epoch 88 Loss 0.11715475\n",
            "Epoch 89 Loss 0.12075503\n",
            "Epoch 90 Loss 0.11696346\n",
            "Epoch 91 Loss 0.11554914\n",
            "Epoch 92 Loss 0.11367021\n",
            "Epoch 93 Loss 0.11349910\n",
            "Epoch 94 Loss 0.11738789\n",
            "Epoch 95 Loss 0.11372410\n",
            "Epoch 96 Loss 0.11899209\n",
            "Epoch 97 Loss 0.11377249\n",
            "Epoch 98 Loss 0.11171875\n",
            "Epoch 99 Loss 0.11440853\n",
            "Epoch 100 Loss 0.10931470\n",
            "Epoch 101 Loss 0.10302278\n",
            "Epoch 102 Loss 0.10691335\n",
            "Epoch 103 Loss 0.11147583\n",
            "Epoch 104 Loss 0.09938781\n",
            "Epoch 105 Loss 0.10498150\n",
            "Epoch 106 Loss 0.09518377\n",
            "Epoch 107 Loss 0.09795041\n",
            "Epoch 108 Loss 0.09501471\n",
            "Epoch 109 Loss 0.08510587\n",
            "Epoch 110 Loss 0.09231985\n",
            "Epoch 111 Loss 0.09178597\n",
            "Epoch 112 Loss 0.09008062\n",
            "Epoch 113 Loss 0.08487259\n",
            "Epoch 114 Loss 0.09480111\n",
            "Epoch 115 Loss 0.07103491\n",
            "Epoch 116 Loss 0.06993101\n",
            "Epoch 117 Loss 0.07571656\n",
            "Epoch 118 Loss 0.06468505\n",
            "Epoch 119 Loss 0.07477145\n",
            "Epoch 120 Loss 0.07354560\n",
            "Epoch 121 Loss 0.08028379\n",
            "Epoch 122 Loss 0.06380552\n",
            "Epoch 123 Loss 0.06041765\n",
            "Epoch 124 Loss 0.07905456\n",
            "Epoch 125 Loss 0.08020959\n",
            "Epoch 126 Loss 0.06192224\n",
            "Epoch 127 Loss 0.06140877\n",
            "Epoch 128 Loss 0.06557427\n",
            "Epoch 129 Loss 0.06869815\n",
            "Epoch 130 Loss 0.05863121\n",
            "Epoch 131 Loss 0.05810238\n",
            "Epoch 132 Loss 0.06916094\n",
            "Epoch 133 Loss 0.06675961\n",
            "Epoch 134 Loss 0.06096731\n",
            "Epoch 135 Loss 0.05740212\n",
            "Epoch 136 Loss 0.06067133\n",
            "Epoch 137 Loss 0.05094440\n",
            "Epoch 138 Loss 0.04960292\n",
            "Epoch 139 Loss 0.04880466\n",
            "Epoch 140 Loss 0.05679315\n",
            "Epoch 141 Loss 0.05632814\n",
            "Epoch 142 Loss 0.05349113\n",
            "Epoch 143 Loss 0.05113657\n",
            "Epoch 144 Loss 0.04998093\n",
            "Epoch 145 Loss 0.04180817\n",
            "Epoch 146 Loss 0.05070056\n",
            "Epoch 147 Loss 0.04677663\n",
            "Epoch 148 Loss 0.04437928\n",
            "Epoch 149 Loss 0.04161334\n",
            "Epoch 150 Loss 0.03948858\n",
            "Epoch 151 Loss 0.03864150\n",
            "Epoch 152 Loss 0.06498817\n",
            "Epoch 153 Loss 0.03732228\n",
            "Epoch 154 Loss 0.03111618\n",
            "Epoch 155 Loss 0.02955480\n",
            "Epoch 156 Loss 0.03635209\n",
            "Epoch 157 Loss 0.02675544\n",
            "Epoch 158 Loss 0.03067620\n",
            "Epoch 159 Loss 0.05620969\n",
            "Epoch 160 Loss 0.03138834\n",
            "Epoch 161 Loss 0.03296396\n",
            "Epoch 162 Loss 0.02242792\n",
            "Epoch 163 Loss 0.02864257\n",
            "Epoch 164 Loss 0.02531795\n",
            "Epoch 165 Loss 0.02521356\n",
            "Epoch 166 Loss 0.02131433\n",
            "Epoch 167 Loss 0.03131060\n",
            "Epoch 168 Loss 0.02288108\n",
            "Epoch 169 Loss 0.01991067\n",
            "Epoch 170 Loss 0.02025038\n",
            "Epoch 171 Loss 0.01833336\n",
            "Epoch 172 Loss 0.01608975\n",
            "Epoch 173 Loss 0.01209317\n",
            "Epoch 174 Loss 0.01367344\n",
            "Epoch 175 Loss 0.01140150\n",
            "Epoch 176 Loss 0.01437183\n",
            "Epoch 177 Loss 0.01400004\n",
            "Epoch 178 Loss 0.01145731\n",
            "Epoch 179 Loss 0.01138324\n",
            "Epoch 180 Loss 0.01574687\n",
            "Epoch 181 Loss 0.00976359\n",
            "Epoch 182 Loss 0.01480907\n",
            "Epoch 183 Loss 0.02070692\n",
            "Epoch 184 Loss 0.01799552\n",
            "Epoch 185 Loss 0.01096444\n",
            "Epoch 186 Loss 0.01715281\n",
            "Epoch 187 Loss 0.02282987\n",
            "Epoch 188 Loss 0.01326885\n",
            "Epoch 189 Loss 0.00650078\n",
            "Epoch 190 Loss 0.01782615\n",
            "Epoch 191 Loss 0.01469247\n",
            "Epoch 192 Loss 0.01393826\n",
            "Epoch 193 Loss 0.01511872\n",
            "Epoch 194 Loss 0.00887665\n",
            "Epoch 195 Loss 0.01263807\n",
            "Epoch 196 Loss 0.00635244\n",
            "Epoch 197 Loss 0.02638545\n",
            "Epoch 198 Loss 0.02260346\n",
            "Epoch 199 Loss 0.01363025\n",
            "Epoch 200 Loss 0.00611984\n",
            "Epoch 201 Loss 0.00643636\n",
            "Epoch 202 Loss 0.00759582\n",
            "Epoch 203 Loss 0.00507548\n",
            "Epoch 204 Loss 0.00771416\n",
            "Epoch 205 Loss 0.01706734\n",
            "Epoch 206 Loss 0.00606925\n",
            "Epoch 207 Loss 0.00726980\n",
            "Epoch 208 Loss 0.00506973\n",
            "Epoch 209 Loss 0.00544403\n",
            "Epoch 210 Loss 0.01700471\n",
            "Epoch 211 Loss 0.00791475\n",
            "Epoch 212 Loss 0.00340130\n",
            "Epoch 213 Loss 0.00671535\n",
            "Epoch 214 Loss 0.00402907\n",
            "Epoch 215 Loss 0.00504300\n",
            "Epoch 216 Loss 0.00458696\n",
            "Epoch 217 Loss 0.00674572\n",
            "Epoch 218 Loss 0.00331695\n",
            "Epoch 219 Loss 0.00195752\n",
            "Epoch 220 Loss 0.00605144\n",
            "Epoch 221 Loss 0.00355816\n",
            "Epoch 222 Loss 0.00249002\n",
            "Epoch 223 Loss 0.00184600\n",
            "Epoch 224 Loss 0.00190649\n",
            "Epoch 225 Loss 0.00174753\n",
            "Epoch 226 Loss 0.00206888\n",
            "Epoch 227 Loss 0.00308653\n",
            "Epoch 228 Loss 0.00264922\n",
            "Epoch 229 Loss 0.00212100\n",
            "Epoch 230 Loss 0.00165538\n",
            "Epoch 231 Loss 0.00194600\n",
            "Epoch 232 Loss 0.00145061\n",
            "Epoch 233 Loss 0.00130788\n",
            "Epoch 234 Loss 0.00123732\n",
            "Epoch 235 Loss 0.00123193\n",
            "Epoch 236 Loss 0.00158002\n",
            "Epoch 237 Loss 0.00186144\n",
            "Epoch 238 Loss 0.00261750\n",
            "Epoch 239 Loss 0.00194724\n",
            "Epoch 240 Loss 0.00089897\n",
            "Epoch 241 Loss 0.00235226\n",
            "Epoch 242 Loss 0.00097025\n",
            "Epoch 243 Loss 0.00135003\n",
            "Epoch 244 Loss 0.00123736\n",
            "Epoch 245 Loss 0.00155589\n",
            "Epoch 246 Loss 0.00092797\n",
            "Epoch 247 Loss 0.00065679\n",
            "Epoch 248 Loss 0.00366390\n",
            "Epoch 249 Loss 0.00100885\n",
            "Epoch 250 Loss 0.00171886\n",
            "Epoch 251 Loss 0.00099702\n",
            "Epoch 252 Loss 0.00034789\n",
            "Epoch 253 Loss 0.00056021\n",
            "Epoch 254 Loss 0.00183293\n",
            "Epoch 255 Loss 0.00052878\n",
            "Epoch 256 Loss 0.00076188\n",
            "Epoch 257 Loss 0.00218709\n",
            "Epoch 258 Loss 0.00079618\n",
            "Epoch 259 Loss 0.00118009\n",
            "Epoch 260 Loss 0.00040872\n",
            "Epoch 261 Loss 0.00072087\n",
            "Epoch 262 Loss 0.00261378\n",
            "Epoch 263 Loss 0.00048819\n",
            "Epoch 264 Loss 0.00039586\n",
            "Epoch 265 Loss 0.00028761\n",
            "Epoch 266 Loss 0.00043081\n",
            "Epoch 267 Loss 0.00048447\n",
            "Epoch 268 Loss 0.00025195\n",
            "Epoch 269 Loss 0.00022871\n",
            "Epoch 270 Loss 0.00020367\n",
            "Epoch 271 Loss 0.00024746\n",
            "Epoch 272 Loss 0.00022165\n",
            "Epoch 273 Loss 0.00045014\n",
            "Epoch 274 Loss 0.00025947\n",
            "Epoch 275 Loss 0.00018340\n",
            "Epoch 276 Loss 0.00029927\n",
            "Epoch 277 Loss 0.00074558\n",
            "Epoch 278 Loss 0.00035478\n",
            "Epoch 279 Loss 0.00015943\n",
            "Epoch 280 Loss 0.00007865\n",
            "Epoch 281 Loss 0.00132177\n",
            "Epoch 282 Loss 0.00116603\n",
            "Epoch 283 Loss 0.00058644\n",
            "Epoch 284 Loss 0.00022010\n",
            "Epoch 285 Loss 0.00141086\n",
            "Epoch 286 Loss 0.00357466\n",
            "Epoch 287 Loss 0.00027879\n",
            "Epoch 288 Loss 0.00016968\n",
            "Epoch 289 Loss 0.00017730\n",
            "Epoch 290 Loss 0.00009544\n",
            "Epoch 291 Loss 0.00011213\n",
            "Epoch 292 Loss 0.00029456\n",
            "Epoch 293 Loss 0.00018519\n",
            "Epoch 294 Loss 0.00065740\n",
            "Epoch 295 Loss 0.00028372\n",
            "Epoch 296 Loss 0.00019290\n",
            "Epoch 297 Loss 0.00017825\n",
            "Epoch 298 Loss 0.00074887\n",
            "Epoch 299 Loss 0.00018321\n",
            "Epoch 300 Loss 0.00040176\n",
            "Epoch 301 Loss 0.00013649\n",
            "Epoch 302 Loss 0.00046003\n",
            "Epoch 303 Loss 0.00009866\n",
            "Epoch 304 Loss 0.00006055\n",
            "Epoch 305 Loss 0.00008014\n",
            "Epoch 306 Loss 0.00005102\n",
            "Epoch 307 Loss 0.00012767\n",
            "Epoch 308 Loss 0.00006013\n",
            "Epoch 309 Loss 0.00005861\n",
            "Epoch 310 Loss 0.00006713\n",
            "Epoch 311 Loss 0.00004011\n",
            "Epoch 312 Loss 0.00006721\n",
            "Epoch 313 Loss 0.00009052\n",
            "Epoch 314 Loss 0.00005233\n",
            "Epoch 315 Loss 0.00031142\n",
            "Epoch 316 Loss 0.00013940\n",
            "Epoch 317 Loss 0.00003439\n",
            "Epoch 318 Loss 0.00003475\n",
            "Epoch 319 Loss 0.00003447\n",
            "Epoch 320 Loss 0.00003552\n",
            "Epoch 321 Loss 0.00008431\n",
            "Epoch 322 Loss 0.00004649\n",
            "Epoch 323 Loss 0.00267868\n",
            "Epoch 324 Loss 0.00139371\n",
            "Epoch 325 Loss 0.00010367\n",
            "Epoch 326 Loss 0.00007317\n",
            "Epoch 327 Loss 0.00003765\n",
            "Epoch 328 Loss 0.00007888\n",
            "Epoch 329 Loss 0.00014173\n",
            "Epoch 330 Loss 0.00012722\n",
            "Epoch 331 Loss 0.00026468\n",
            "Epoch 332 Loss 0.00005472\n",
            "Epoch 333 Loss 0.00512654\n",
            "Epoch 334 Loss 0.00024074\n",
            "Epoch 335 Loss 0.00014567\n",
            "Epoch 336 Loss 0.00007720\n",
            "Epoch 337 Loss 0.00004265\n",
            "Epoch 338 Loss 0.00003612\n",
            "Epoch 339 Loss 0.00005932\n",
            "Epoch 340 Loss 0.00167694\n",
            "Epoch 341 Loss 0.01257146\n",
            "Epoch 342 Loss 0.00015858\n",
            "Epoch 343 Loss 0.00002306\n",
            "Epoch 344 Loss 0.00002290\n",
            "Epoch 345 Loss 0.00002464\n",
            "Epoch 346 Loss 0.00002318\n",
            "Epoch 347 Loss 0.00002182\n",
            "Epoch 348 Loss 0.00001898\n",
            "Epoch 349 Loss 0.00000870\n",
            "Epoch 350 Loss 0.00001406\n",
            "Epoch 351 Loss 0.00004895\n",
            "Epoch 352 Loss 0.00016824\n",
            "Epoch 353 Loss 0.00001156\n",
            "Epoch 354 Loss 0.00001301\n",
            "Epoch 355 Loss 0.00000530\n",
            "Epoch 356 Loss 0.00000693\n",
            "Epoch 357 Loss 0.00001499\n",
            "Epoch 358 Loss 0.00002120\n",
            "Epoch 359 Loss 0.00001484\n",
            "Epoch 360 Loss 0.00003372\n",
            "Epoch 361 Loss 0.00002648\n",
            "Epoch 362 Loss 0.00000979\n",
            "Epoch 363 Loss 0.00000767\n",
            "Epoch 364 Loss 0.00003145\n",
            "Epoch 365 Loss 0.00006610\n",
            "Epoch 366 Loss 0.00001142\n",
            "Epoch 367 Loss 0.00001507\n",
            "Epoch 368 Loss 0.00001080\n",
            "Epoch 369 Loss 0.00001101\n",
            "Epoch 370 Loss 0.00001487\n",
            "Epoch 371 Loss 0.00029846\n",
            "Epoch 372 Loss 0.00001013\n",
            "Epoch 373 Loss 0.00001642\n",
            "Epoch 374 Loss 0.00000973\n",
            "Epoch 375 Loss 0.00000844\n",
            "Epoch 376 Loss 0.00000795\n",
            "Epoch 377 Loss 0.00000583\n",
            "Epoch 378 Loss 0.00003486\n",
            "Epoch 379 Loss 0.00001324\n",
            "Epoch 380 Loss 0.00001411\n",
            "Epoch 381 Loss 0.00004051\n",
            "Epoch 382 Loss 0.00003871\n",
            "Epoch 383 Loss 0.00001739\n",
            "Epoch 384 Loss 0.00001110\n",
            "Epoch 385 Loss 0.00010597\n",
            "Epoch 386 Loss 0.00001116\n",
            "Epoch 387 Loss 0.00021303\n",
            "Epoch 388 Loss 0.00115985\n",
            "Epoch 389 Loss 0.00414564\n",
            "Epoch 390 Loss 0.02442103\n",
            "Epoch 391 Loss 0.00003428\n",
            "Epoch 392 Loss 0.00002753\n",
            "Epoch 393 Loss 0.00001662\n",
            "Epoch 394 Loss 0.00006876\n",
            "Epoch 395 Loss 0.00001491\n",
            "Epoch 396 Loss 0.00000729\n",
            "Epoch 397 Loss 0.00003899\n",
            "Epoch 398 Loss 0.00000791\n",
            "Epoch 399 Loss 0.00000906\n",
            "Epoch 400 Loss 0.00000363\n",
            "Epoch 401 Loss 0.00000705\n",
            "Epoch 402 Loss 0.00002901\n",
            "Epoch 403 Loss 0.00000890\n",
            "Epoch 404 Loss 0.00001413\n",
            "Epoch 405 Loss 0.00000431\n",
            "Epoch 406 Loss 0.00001554\n",
            "Epoch 407 Loss 0.00002263\n",
            "Epoch 408 Loss 0.00019048\n",
            "Epoch 409 Loss 0.00007850\n",
            "Epoch 410 Loss 0.00001761\n",
            "Epoch 411 Loss 0.00000738\n",
            "Epoch 412 Loss 0.00000958\n",
            "Epoch 413 Loss 0.00000854\n",
            "Epoch 414 Loss 0.00000579\n",
            "Epoch 415 Loss 0.00000572\n",
            "Epoch 416 Loss 0.00000438\n",
            "Epoch 417 Loss 0.00000879\n",
            "Epoch 418 Loss 0.00000473\n",
            "Epoch 419 Loss 0.00000312\n",
            "Epoch 420 Loss 0.00000235\n",
            "Epoch 421 Loss 0.00001608\n",
            "Epoch 422 Loss 0.00003453\n",
            "Epoch 423 Loss 0.00001754\n",
            "Epoch 424 Loss 0.00006141\n",
            "Epoch 425 Loss 0.00000950\n",
            "Epoch 426 Loss 0.00000888\n",
            "Epoch 427 Loss 0.00000941\n",
            "Epoch 428 Loss 0.00000293\n",
            "Epoch 429 Loss 0.00000571\n",
            "Epoch 430 Loss 0.00002330\n",
            "Epoch 431 Loss 0.00000348\n",
            "Epoch 432 Loss 0.00000503\n",
            "Epoch 433 Loss 0.00000244\n",
            "Epoch 434 Loss 0.00000192\n",
            "Epoch 435 Loss 0.00000576\n",
            "Epoch 436 Loss 0.00000296\n",
            "Epoch 437 Loss 0.00000458\n",
            "Epoch 438 Loss 0.00000278\n",
            "Epoch 439 Loss 0.00000215\n",
            "Epoch 440 Loss 0.00000216\n",
            "Epoch 441 Loss 0.00000237\n",
            "Epoch 442 Loss 0.00000519\n",
            "Epoch 443 Loss 0.00000235\n",
            "Epoch 444 Loss 0.00030510\n",
            "Epoch 445 Loss 0.00000527\n",
            "Epoch 446 Loss 0.00000971\n",
            "Epoch 447 Loss 0.00001391\n",
            "Epoch 448 Loss 0.00000695\n",
            "Epoch 449 Loss 0.00006838\n",
            "Epoch 450 Loss 0.00001856\n",
            "Epoch 451 Loss 0.00000757\n",
            "Epoch 452 Loss 0.00001812\n",
            "Epoch 453 Loss 0.00000221\n",
            "Epoch 454 Loss 0.00000255\n",
            "Epoch 455 Loss 0.00000742\n",
            "Epoch 456 Loss 0.00000683\n",
            "Epoch 457 Loss 0.00000256\n",
            "Epoch 458 Loss 0.00000498\n",
            "Epoch 459 Loss 0.00000346\n",
            "Epoch 460 Loss 0.00000276\n",
            "Epoch 461 Loss 0.00000166\n",
            "Epoch 462 Loss 0.00000188\n",
            "Epoch 463 Loss 0.00000110\n",
            "Epoch 464 Loss 0.00000109\n",
            "Epoch 465 Loss 0.00000108\n",
            "Epoch 466 Loss 0.00000074\n",
            "Epoch 467 Loss 0.00000263\n",
            "Epoch 468 Loss 0.02992561\n",
            "Epoch 469 Loss 0.01637993\n",
            "Epoch 470 Loss 0.00099264\n",
            "Epoch 471 Loss 0.00006334\n",
            "Epoch 472 Loss 0.00000728\n",
            "Epoch 473 Loss 0.00000159\n",
            "Epoch 474 Loss 0.00000203\n",
            "Epoch 475 Loss 0.00000156\n",
            "Epoch 476 Loss 0.00000107\n",
            "Epoch 477 Loss 0.00000085\n",
            "Epoch 478 Loss 0.00000241\n",
            "Epoch 479 Loss 0.00000173\n",
            "Epoch 480 Loss 0.00000968\n",
            "Epoch 481 Loss 0.00000208\n",
            "Epoch 482 Loss 0.00000053\n",
            "Epoch 483 Loss 0.00000052\n",
            "Epoch 484 Loss 0.00000048\n",
            "Epoch 485 Loss 0.00000042\n",
            "Epoch 486 Loss 0.00000038\n",
            "Epoch 487 Loss 0.00000033\n",
            "Epoch 488 Loss 0.00000031\n",
            "Epoch 489 Loss 0.00000029\n",
            "Epoch 490 Loss 0.00000028\n",
            "Epoch 491 Loss 0.00000027\n",
            "Epoch 492 Loss 0.00000026\n",
            "Epoch 493 Loss 0.00000026\n",
            "Epoch 494 Loss 0.00000025\n",
            "Epoch 495 Loss 0.00000025\n",
            "Epoch 496 Loss 0.00000024\n",
            "Epoch 497 Loss 0.00000024\n",
            "Epoch 498 Loss 0.00000023\n",
            "Epoch 499 Loss 0.00000024\n",
            "Epoch 500 Loss 0.00000023\n"
          ],
          "name": "stdout"
        }
      ]
    },
    {
      "cell_type": "code",
      "metadata": {
        "trusted": true,
        "id": "V68sDlbyVlZk",
        "colab_type": "code",
        "colab": {}
      },
      "source": [
        "def calculate_bleu_score(actual_string, predicted_string):\n",
        "    actual_string = copy.deepcopy(actual_string)\n",
        "    predicted_string = copy.deepcopy(predicted_string)\n",
        "    reference = re.split(\"\\s\",actual_string.strip())\n",
        "    candidate = re.split(\"\\s\",predicted_string.strip())\n",
        "    try:\n",
        "      reference.remove('<eos>')\n",
        "      candidate.remove('<sos>')\n",
        "    except:\n",
        "      pass\n",
        "    smoothie = SmoothingFunction().method4\n",
        "    score = sentence_bleu(reference, candidate, smoothing_function=smoothie)\n",
        "    return score"
      ],
      "execution_count": 0,
      "outputs": []
    },
    {
      "cell_type": "code",
      "metadata": {
        "id": "1PkvNOsmdCu2",
        "colab_type": "code",
        "colab": {}
      },
      "source": [
        "def get_prediction(X,y):\n",
        "  for index,line in enumerate(X):\n",
        "    output = predict(line)\n",
        "    print(\"source: \",line)\n",
        "    print(\"actual: \",y[index])\n",
        "    print(\"predicted: \",output)\n",
        "    print(\"BLEU Score: \",calculate_bleu_score(output,y[index]))"
      ],
      "execution_count": 0,
      "outputs": []
    },
    {
      "cell_type": "code",
      "metadata": {
        "id": "OomrOaDRnXUL",
        "colab_type": "code",
        "colab": {
          "base_uri": "https://localhost:8080/",
          "height": 167
        },
        "outputId": "a9dc3cf0-ab94-4fd5-d59f-6bb86c7f4fb8"
      },
      "source": [
        "# get_prediction(X_test,y_in_test)\n",
        "get_prediction(X_train,y_in_train)"
      ],
      "execution_count": 3,
      "outputs": [
        {
          "output_type": "error",
          "ename": "NameError",
          "evalue": "ignored",
          "traceback": [
            "\u001b[0;31m---------------------------------------------------------------------------\u001b[0m",
            "\u001b[0;31mNameError\u001b[0m                                 Traceback (most recent call last)",
            "\u001b[0;32m<ipython-input-3-280eaa28e42a>\u001b[0m in \u001b[0;36m<module>\u001b[0;34m()\u001b[0m\n\u001b[0;32m----> 1\u001b[0;31m \u001b[0mget_prediction\u001b[0m\u001b[0;34m(\u001b[0m\u001b[0mX_train\u001b[0m\u001b[0;34m,\u001b[0m\u001b[0my_in_train\u001b[0m\u001b[0;34m)\u001b[0m\u001b[0;34m\u001b[0m\u001b[0;34m\u001b[0m\u001b[0m\n\u001b[0m",
            "\u001b[0;31mNameError\u001b[0m: name 'X_train' is not defined"
          ]
        }
      ]
    },
    {
      "cell_type": "code",
      "metadata": {
        "id": "7_ogki-NpRQO",
        "colab_type": "code",
        "colab": {}
      },
      "source": [
        "\n"
      ],
      "execution_count": 0,
      "outputs": []
    }
  ]
}