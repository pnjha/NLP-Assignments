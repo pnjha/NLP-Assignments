{
  "nbformat": 4,
  "nbformat_minor": 0,
  "metadata": {
    "colab": {
      "name": "Untitled",
      "provenance": [],
      "collapsed_sections": [],
      "authorship_tag": "ABX9TyNp4A0euPb6p92VtZdkvrE4",
      "include_colab_link": true
    },
    "kernelspec": {
      "name": "python3",
      "display_name": "Python 3"
    },
    "accelerator": "GPU"
  },
  "cells": [
    {
      "cell_type": "markdown",
      "metadata": {
        "id": "view-in-github",
        "colab_type": "text"
      },
      "source": [
        "<a href=\"https://colab.research.google.com/github/pnjha/NLP-Assignments/blob/master/Untitled.ipynb\" target=\"_parent\"><img src=\"https://colab.research.google.com/assets/colab-badge.svg\" alt=\"Open In Colab\"/></a>"
      ]
    },
    {
      "cell_type": "code",
      "metadata": {
        "id": "IvtHKj8zNRit",
        "colab_type": "code",
        "outputId": "536f9130-b5d5-430c-cb24-c6bc9034c440",
        "colab": {
          "base_uri": "https://localhost:8080/",
          "height": 141
        }
      },
      "source": [
        "from google.colab import drive\n",
        "drive.mount('/content/drive')\n",
        "%cd drive/My\\ Drive"
      ],
      "execution_count": 0,
      "outputs": [
        {
          "output_type": "stream",
          "text": [
            "Go to this URL in a browser: https://accounts.google.com/o/oauth2/auth?client_id=947318989803-6bn6qk8qdgf4n4g3pfee6491hc0brc4i.apps.googleusercontent.com&redirect_uri=urn%3aietf%3awg%3aoauth%3a2.0%3aoob&response_type=code&scope=email%20https%3a%2f%2fwww.googleapis.com%2fauth%2fdocs.test%20https%3a%2f%2fwww.googleapis.com%2fauth%2fdrive%20https%3a%2f%2fwww.googleapis.com%2fauth%2fdrive.photos.readonly%20https%3a%2f%2fwww.googleapis.com%2fauth%2fpeopleapi.readonly\n",
            "\n",
            "Enter your authorization code:\n",
            "··········\n",
            "Mounted at /content/drive\n",
            "/content/drive/My Drive\n"
          ],
          "name": "stdout"
        }
      ]
    },
    {
      "cell_type": "code",
      "metadata": {
        "id": "QW_lhyYjMhgS",
        "colab_type": "code",
        "colab": {}
      },
      "source": [
        "import pandas as pd\n",
        "import numpy as np\n",
        "import string\n",
        "from string import digits\n",
        "import matplotlib.pyplot as plt\n",
        "%matplotlib inline\n",
        "import re\n",
        "import copy\n",
        "import math\n",
        "from keras.models import Sequential\n",
        "from keras.layers import LSTM\n",
        "from keras.layers import Dense\n",
        "from keras.layers import TimeDistributed, Bidirectional, Embedding\n",
        "from keras.layers import RepeatVector\n",
        "from sklearn.utils import shuffle\n",
        "from sklearn.model_selection import train_test_split\n",
        "from keras.models import Sequential, Model\n",
        "from keras.layers import Dense, LSTM, CuDNNLSTM, Input, Embedding, TimeDistributed, Flatten, Dropout, Activation\n",
        "from keras.callbacks import ModelCheckpoint\n",
        "from nltk.translate.bleu_score import sentence_bleu\n",
        "from nltk.translate.bleu_score import SmoothingFunction"
      ],
      "execution_count": 0,
      "outputs": []
    },
    {
      "cell_type": "code",
      "metadata": {
        "id": "b-r5vnafOWnf",
        "colab_type": "code",
        "outputId": "5392bb5b-c109-421c-90ea-3ab8c059979b",
        "colab": {
          "base_uri": "https://localhost:8080/",
          "height": 363
        }
      },
      "source": [
        "X = pd.read_table('./NLA S20 - Assignment 2 Data/enghin/dev.en', names=['src'])\n",
        "Y = pd.read_table('./NLA S20 - Assignment 2 Data/enghin/dev.hi', names=['dest'])\n",
        "lines = pd.concat([X,Y], axis=1)\n",
        "lines = shuffle(lines)\n",
        "lines.sample(10)"
      ],
      "execution_count": 0,
      "outputs": [
        {
          "output_type": "execute_result",
          "data": {
            "text/html": [
              "<div>\n",
              "<style scoped>\n",
              "    .dataframe tbody tr th:only-of-type {\n",
              "        vertical-align: middle;\n",
              "    }\n",
              "\n",
              "    .dataframe tbody tr th {\n",
              "        vertical-align: top;\n",
              "    }\n",
              "\n",
              "    .dataframe thead th {\n",
              "        text-align: right;\n",
              "    }\n",
              "</style>\n",
              "<table border=\"1\" class=\"dataframe\">\n",
              "  <thead>\n",
              "    <tr style=\"text-align: right;\">\n",
              "      <th></th>\n",
              "      <th>src</th>\n",
              "      <th>dest</th>\n",
              "    </tr>\n",
              "  </thead>\n",
              "  <tbody>\n",
              "    <tr>\n",
              "      <th>285</th>\n",
              "      <td>Because they fit in racks above the seat .</td>\n",
              "      <td>क्योंकि ये सीट के ऊपर रैक में फिट आ जाते हैं ।</td>\n",
              "    </tr>\n",
              "    <tr>\n",
              "      <th>375</th>\n",
              "      <td>Where Gujarat is known for it 's multicolor cu...</td>\n",
              "      <td>जहाँ गुजरात अपनी बहुरंगी संस्कृति के लिए जाना ...</td>\n",
              "    </tr>\n",
              "    <tr>\n",
              "      <th>312</th>\n",
              "      <td>This city of luxurious palace , grand church ,...</td>\n",
              "      <td>आलीशान राजमहल , भव्य चर्च , खूबसूरत फव्वारे , ...</td>\n",
              "    </tr>\n",
              "    <tr>\n",
              "      <th>176</th>\n",
              "      <td>Body-brain both will be happy .</td>\n",
              "      <td>तन - मन दोनों प्रसन्न रहेंगे ।</td>\n",
              "    </tr>\n",
              "    <tr>\n",
              "      <th>331</th>\n",
              "      <td>The symbol of Rome is Colloseum .</td>\n",
              "      <td>रोम का प्रतीक है कॉलोसियम ।</td>\n",
              "    </tr>\n",
              "    <tr>\n",
              "      <th>52</th>\n",
              "      <td>Meditation is the best way to free mind from a...</td>\n",
              "      <td>मन को सारी चिंता , दुख , कष्ट तथा शोक एवं भय स...</td>\n",
              "    </tr>\n",
              "    <tr>\n",
              "      <th>112</th>\n",
              "      <td>H . . . test is easy , safe and available at p...</td>\n",
              "      <td>एच.आई.वी. जाँच आसान , सुरक्षित तथा जन स्वास्थ्...</td>\n",
              "    </tr>\n",
              "    <tr>\n",
              "      <th>277</th>\n",
              "      <td>Students , senior people of ministry , kids et...</td>\n",
              "      <td>स्टूडेंट्स , मिलिट्री के सीनियर लोग , बच्चों व...</td>\n",
              "    </tr>\n",
              "    <tr>\n",
              "      <th>206</th>\n",
              "      <td>The mood of the weather was clean uptill now .</td>\n",
              "      <td>मौसम का मिज़ाज अब तक सुथरा था ।</td>\n",
              "    </tr>\n",
              "    <tr>\n",
              "      <th>271</th>\n",
              "      <td>There is a different joy of a bus tour .</td>\n",
              "      <td>बस टूर का अपना ही मजा है ।</td>\n",
              "    </tr>\n",
              "  </tbody>\n",
              "</table>\n",
              "</div>"
            ],
            "text/plain": [
              "                                                   src                                               dest\n",
              "285         Because they fit in racks above the seat .     क्योंकि ये सीट के ऊपर रैक में फिट आ जाते हैं ।\n",
              "375  Where Gujarat is known for it 's multicolor cu...  जहाँ गुजरात अपनी बहुरंगी संस्कृति के लिए जाना ...\n",
              "312  This city of luxurious palace , grand church ,...  आलीशान राजमहल , भव्य चर्च , खूबसूरत फव्वारे , ...\n",
              "176                    Body-brain both will be happy .                     तन - मन दोनों प्रसन्न रहेंगे ।\n",
              "331                  The symbol of Rome is Colloseum .                        रोम का प्रतीक है कॉलोसियम ।\n",
              "52   Meditation is the best way to free mind from a...  मन को सारी चिंता , दुख , कष्ट तथा शोक एवं भय स...\n",
              "112  H . . . test is easy , safe and available at p...  एच.आई.वी. जाँच आसान , सुरक्षित तथा जन स्वास्थ्...\n",
              "277  Students , senior people of ministry , kids et...  स्टूडेंट्स , मिलिट्री के सीनियर लोग , बच्चों व...\n",
              "206     The mood of the weather was clean uptill now .                     मौसम का मिज़ाज अब तक सुथरा था ।\n",
              "271           There is a different joy of a bus tour .                         बस टूर का अपना ही मजा है ।"
            ]
          },
          "metadata": {
            "tags": []
          },
          "execution_count": 74
        }
      ]
    },
    {
      "cell_type": "code",
      "metadata": {
        "id": "D4MluwRYOeir",
        "colab_type": "code",
        "colab": {}
      },
      "source": [
        "def process_data(data,append_char):\n",
        "  data = data.apply(lambda x: x.lower())\n",
        "  data = data.apply(lambda x: x.strip())\n",
        "  data = data.apply(lambda x: re.sub(\"'\", '', x))\n",
        "  exclude = set(string.punctuation) # Set of all special characters\n",
        "  data = data.apply(lambda x: ''.join(ch for ch in x if ch not in exclude))\n",
        "  remove_digits = str.maketrans('', '', digits)\n",
        "  data = data.apply(lambda x: x.translate(remove_digits))\n",
        "  if append_char:\n",
        "    data = data.apply(lambda x : '<SOS> '+ x + ' <EOS>')\n",
        "  return data"
      ],
      "execution_count": 0,
      "outputs": []
    },
    {
      "cell_type": "code",
      "metadata": {
        "id": "oPDR4sQJOrOK",
        "colab_type": "code",
        "outputId": "c9d48a96-984e-4eef-9474-ac7e55dd53b4",
        "colab": {
          "base_uri": "https://localhost:8080/",
          "height": 453
        }
      },
      "source": [
        "lines.eng = process_data(lines.src,False)\n",
        "lines.hin = process_data(lines.dest,True)\n",
        "lines.sample(10)"
      ],
      "execution_count": 0,
      "outputs": [
        {
          "output_type": "stream",
          "text": [
            "/usr/local/lib/python3.6/dist-packages/ipykernel_launcher.py:1: UserWarning: Pandas doesn't allow columns to be created via a new attribute name - see https://pandas.pydata.org/pandas-docs/stable/indexing.html#attribute-access\n",
            "  \"\"\"Entry point for launching an IPython kernel.\n",
            "/usr/local/lib/python3.6/dist-packages/ipykernel_launcher.py:2: UserWarning: Pandas doesn't allow columns to be created via a new attribute name - see https://pandas.pydata.org/pandas-docs/stable/indexing.html#attribute-access\n",
            "  \n"
          ],
          "name": "stderr"
        },
        {
          "output_type": "execute_result",
          "data": {
            "text/html": [
              "<div>\n",
              "<style scoped>\n",
              "    .dataframe tbody tr th:only-of-type {\n",
              "        vertical-align: middle;\n",
              "    }\n",
              "\n",
              "    .dataframe tbody tr th {\n",
              "        vertical-align: top;\n",
              "    }\n",
              "\n",
              "    .dataframe thead th {\n",
              "        text-align: right;\n",
              "    }\n",
              "</style>\n",
              "<table border=\"1\" class=\"dataframe\">\n",
              "  <thead>\n",
              "    <tr style=\"text-align: right;\">\n",
              "      <th></th>\n",
              "      <th>src</th>\n",
              "      <th>dest</th>\n",
              "    </tr>\n",
              "  </thead>\n",
              "  <tbody>\n",
              "    <tr>\n",
              "      <th>159</th>\n",
              "      <td>Tuberculosis , pneumonia etc . encircle .</td>\n",
              "      <td>टी.बी. निमोनिया आदि घेर लेते हैं ।</td>\n",
              "    </tr>\n",
              "    <tr>\n",
              "      <th>34</th>\n",
              "      <td>By yogic exercise this disease can be overcome...</td>\n",
              "      <td>यौगिक अभ्यास से इस रोग पर निश्‍चित ही विजय प्र...</td>\n",
              "    </tr>\n",
              "    <tr>\n",
              "      <th>352</th>\n",
              "      <td>Here almost 300 buildings are such in which ma...</td>\n",
              "      <td>यहाँ लगभग 300 इमारतें ऐसी हैं , जिनमें शानदार ...</td>\n",
              "    </tr>\n",
              "    <tr>\n",
              "      <th>76</th>\n",
              "      <td>Which method is convenient for you ?</td>\n",
              "      <td>आपके लिए कौन सा तरीका सुविधाजनक है ।</td>\n",
              "    </tr>\n",
              "    <tr>\n",
              "      <th>391</th>\n",
              "      <td>Louis cruise is an European company and is ver...</td>\n",
              "      <td>लुई क्रूज यूरोपीय कंपनी है और क्रूज व होटल व्य...</td>\n",
              "    </tr>\n",
              "    <tr>\n",
              "      <th>116</th>\n",
              "      <td>With immune capacity lessened these contractio...</td>\n",
              "      <td>प्रतिरक्षण क्षमता कम होने पर ये व्यक्ति को ये ...</td>\n",
              "    </tr>\n",
              "    <tr>\n",
              "      <th>317</th>\n",
              "      <td>There is one museum as well here only .</td>\n",
              "      <td>यहीं एक संग्रहालय भी है ।</td>\n",
              "    </tr>\n",
              "    <tr>\n",
              "      <th>227</th>\n",
              "      <td>Suddenly I felt that these many people did n't...</td>\n",
              "      <td>अचानक मुझे लगा इतने स्थानीय लोगों को तो हेरिटे...</td>\n",
              "    </tr>\n",
              "    <tr>\n",
              "      <th>358</th>\n",
              "      <td>Although it is in Rome itself , but from 1926 ...</td>\n",
              "      <td>हालाँकि यह रोम ही में है , लेकिन 1926 से इसे ए...</td>\n",
              "    </tr>\n",
              "    <tr>\n",
              "      <th>362</th>\n",
              "      <td>Gujarat is the land of multicoloured culture a...</td>\n",
              "      <td>गुजरात बहुरंगी संस्कृति व समृद्ध विरासत की भूम...</td>\n",
              "    </tr>\n",
              "  </tbody>\n",
              "</table>\n",
              "</div>"
            ],
            "text/plain": [
              "                                                   src                                               dest\n",
              "159          Tuberculosis , pneumonia etc . encircle .                 टी.बी. निमोनिया आदि घेर लेते हैं ।\n",
              "34   By yogic exercise this disease can be overcome...  यौगिक अभ्यास से इस रोग पर निश्‍चित ही विजय प्र...\n",
              "352  Here almost 300 buildings are such in which ma...  यहाँ लगभग 300 इमारतें ऐसी हैं , जिनमें शानदार ...\n",
              "76                Which method is convenient for you ?               आपके लिए कौन सा तरीका सुविधाजनक है ।\n",
              "391  Louis cruise is an European company and is ver...  लुई क्रूज यूरोपीय कंपनी है और क्रूज व होटल व्य...\n",
              "116  With immune capacity lessened these contractio...  प्रतिरक्षण क्षमता कम होने पर ये व्यक्ति को ये ...\n",
              "317            There is one museum as well here only .                          यहीं एक संग्रहालय भी है ।\n",
              "227  Suddenly I felt that these many people did n't...  अचानक मुझे लगा इतने स्थानीय लोगों को तो हेरिटे...\n",
              "358  Although it is in Rome itself , but from 1926 ...  हालाँकि यह रोम ही में है , लेकिन 1926 से इसे ए...\n",
              "362  Gujarat is the land of multicoloured culture a...  गुजरात बहुरंगी संस्कृति व समृद्ध विरासत की भूम..."
            ]
          },
          "metadata": {
            "tags": []
          },
          "execution_count": 76
        }
      ]
    },
    {
      "cell_type": "code",
      "metadata": {
        "id": "y4r0XpNTOw5_",
        "colab_type": "code",
        "colab": {}
      },
      "source": [
        "def get_vocab_list(data):\n",
        "  vocab = []\n",
        "  for line in data:\n",
        "    temp = line.split()\n",
        "    for item in temp:\n",
        "      if item not in vocab:\n",
        "        vocab.append(item)\n",
        "  return vocab"
      ],
      "execution_count": 0,
      "outputs": []
    },
    {
      "cell_type": "code",
      "metadata": {
        "id": "jSkq8Ub6Qu1G",
        "colab_type": "code",
        "colab": {}
      },
      "source": [
        "src_vocab = get_vocab_list(lines.src)\n",
        "dest_vocab = get_vocab_list(lines.dest)"
      ],
      "execution_count": 0,
      "outputs": []
    },
    {
      "cell_type": "code",
      "metadata": {
        "id": "9dCT_JGdQ7l2",
        "colab_type": "code",
        "outputId": "72a40db3-5806-43cb-9228-a2717d74652e",
        "colab": {
          "base_uri": "https://localhost:8080/",
          "height": 52
        }
      },
      "source": [
        "print(src_vocab[:10])\n",
        "print(dest_vocab[:10]) "
      ],
      "execution_count": 0,
      "outputs": [
        {
          "output_type": "stream",
          "text": [
            "['After', 'the', 'opening', 'of', 'Aman', 'Bagh', 'big', 'personas', 'our', 'nation']\n",
            "['अमन', 'बाग', 'के', 'खुलने', 'बाद', 'वहाँ', 'देश', '-', 'विदेश', 'बड़े-बड़े']\n"
          ],
          "name": "stdout"
        }
      ]
    },
    {
      "cell_type": "code",
      "metadata": {
        "id": "yBu70IXmRKKI",
        "colab_type": "code",
        "colab": {}
      },
      "source": [
        "# Max Length of source sequence\n",
        "def get_max_sentence_size(data):\n",
        "  max_len = 0\n",
        "  for line in data:\n",
        "    temp = line.split()\n",
        "    max_len = max(max_len, len(temp))\n",
        "  return max_len"
      ],
      "execution_count": 0,
      "outputs": []
    },
    {
      "cell_type": "code",
      "metadata": {
        "id": "m-1twYK-R7e0",
        "colab_type": "code",
        "outputId": "23932634-8b68-4703-a2e7-59732fb5e1f0",
        "colab": {
          "base_uri": "https://localhost:8080/",
          "height": 34
        }
      },
      "source": [
        "src_max_len = get_max_sentence_size(lines.src)\n",
        "dest_max_len = get_max_sentence_size(lines.dest)\n",
        "src_max_len,dest_max_len"
      ],
      "execution_count": 0,
      "outputs": [
        {
          "output_type": "execute_result",
          "data": {
            "text/plain": [
              "(50, 48)"
            ]
          },
          "metadata": {
            "tags": []
          },
          "execution_count": 81
        }
      ]
    },
    {
      "cell_type": "code",
      "metadata": {
        "id": "9cf5HOBdSIWb",
        "colab_type": "code",
        "outputId": "fe18abe8-4bdc-4018-d473-b23b27483d61",
        "colab": {
          "base_uri": "https://localhost:8080/",
          "height": 34
        }
      },
      "source": [
        "src_vocab_len = len(src_vocab)\n",
        "dest_vocab_len = len(dest_vocab) + 1\n",
        "src_vocab_len, dest_vocab_len"
      ],
      "execution_count": 0,
      "outputs": [
        {
          "output_type": "execute_result",
          "data": {
            "text/plain": [
              "(1867, 2009)"
            ]
          },
          "metadata": {
            "tags": []
          },
          "execution_count": 82
        }
      ]
    },
    {
      "cell_type": "code",
      "metadata": {
        "id": "k3riCXKUU73a",
        "colab_type": "code",
        "colab": {}
      },
      "source": [
        "def get_word_to_index_dict(vocab):\n",
        "  word_to_index = {}\n",
        "  for i, word in enumerate(vocab):\n",
        "    word_to_index[word] = i\n",
        "  return word_to_index"
      ],
      "execution_count": 0,
      "outputs": []
    },
    {
      "cell_type": "code",
      "metadata": {
        "id": "tYYZuqD9UDH8",
        "colab_type": "code",
        "colab": {}
      },
      "source": [
        "src_word_to_index = get_word_to_index_dict(src_vocab)\n",
        "dest_word_to_index = get_word_to_index_dict(dest_vocab)"
      ],
      "execution_count": 0,
      "outputs": []
    },
    {
      "cell_type": "code",
      "metadata": {
        "id": "fbO2x5YiWN5r",
        "colab_type": "code",
        "outputId": "06f8c2f3-4ffd-495a-9a97-b4a6e7e5a6d7",
        "colab": {
          "base_uri": "https://localhost:8080/",
          "height": 72
        }
      },
      "source": [
        "print(src_word_to_index)\n",
        "print(dest_word_to_index)"
      ],
      "execution_count": 0,
      "outputs": [
        {
          "output_type": "stream",
          "text": [
            "{'After': 0, 'the': 1, 'opening': 2, 'of': 3, 'Aman': 4, 'Bagh': 5, 'big': 6, 'personas': 7, 'our': 8, 'nation': 9, 'and': 10, 'abroad': 11, 'reached': 12, 'here': 13, '.': 14, 'With': 15, 'division': 16, 'in': 17, 'CD-4': 18, 'cells': 19, 'many': 20, 'viruses': 21, 'enter': 22, 'into': 23, 'blood-circulation': 24, 'Among': 25, 'chief': 26, 'reasons': 27, 'blindness': 28, ',': 29, 'cataract': 30, 'is': 31, '55': 32, 'percent': 33, 'vision': 34, 'problems': 35, '19': 36, 'black': 37, '4': 38, 'corneal': 39, 'pathology': 40, '7': 41, 'others': 42, '15': 43, 'It': 44, \"'s\": 45, 'a': 46, 'different': 47, 'matter': 48, 'that': 49, 'she': 50, 'herself': 51, 'Bhaangadh': 52, 'after': 53, 'losing': 54, 'way': 55, 'Such': 56, 'glimpse': 57, 'village': 58, 'life': 59, 'was': 60, 'wonderful': 61, 'experience': 62, 'for': 63, 'Jackie': 64, 'Its': 65, 'ruins': 66, 'can': 67, 'be': 68, 'seen': 69, 'around': 70, 'it': 71, 'even': 72, 'today': 73, 'In': 74, 'front': 75, 'Capitoline': 76, 'brass': 77, 'statue': 78, 'emperor': 79, 'Marcus': 80, 'Oraleous': 81, 'riding': 82, 'horse': 83, 'who': 84, 'ruled': 85, 'on': 86, 'Rome': 87, 'till': 88, '160': 89, '-': 90, '180': 91, 'A': 92, 'Pay': 93, 'attention': 94, 'to': 95, 'bodily': 96, 'cleanliness': 97, 'The': 98, 'most': 99, 'popular': 100, 'tourist': 101, 'spot': 102, 'Kalimpong': 103, 'are': 104, 'Lava': 105, 'Lolegaon': 106, 'which': 107, 'filled': 108, 'with': 109, 'forests': 110, 'rapids': 111, 'Do': 112, 'not': 113, 'oppose': 114, 'people': 115, 'living': 116, 'AIDS': 117, 'capital': 118, 'Italy': 119, 'among': 120, 'those': 121, 'ancient': 122, 'cities': 123, 'world': 124, 'from': 125, 'where': 126, 'development': 127, 'civilizations': 128, 'took': 129, 'place': 130, 'journey': 131, 'Gujarat': 132, 'abutting': 133, 'western': 134, 'coast': 135, 'Goa': 136, 'marvellous': 137, 'visit': 138, 'golden': 139, 'historical': 140, 'witnesses': 141, 'granduer': 142, 'Peshwa': 143, 'period': 144, 'Pune': 145, 'sabarmati': 146, 'ashram': 147, 'Ahmadabad': 148, 'mukti': 149, 'andolan': 150, 'found': 151, 'Wherever': 152, 'bus': 153, 'stops': 154, 'come': 155, 'back': 156, 'time': 157, 'carving': 158, 'this': 159, 'memorial': 160, 'victory': 161, 'signs': 162, 'made': 163, 'worth': 164, 'seeing': 165, 'This': 166, 'million': 167, 'dollar': 168, 'priceless': 169, 'moment': 170, 'famous': 171, 'fountain': 172, \"'\": 173, 'Treva': 174, 'For': 175, 'example': 176, 'cancer': 177, '-LRB-': 178, 'abdominal': 179, '-RRB-': 180, 'diseases': 181, 'liver': 182, 'related': 183, 'intestine': 184, 'etc': 185, 'help': 186, 'protect': 187, 'body': 188, 'Mind': 189, 'comfort': 190, 'while': 191, 'chosing': 192, 'seat': 193, 'Here': 194, 'unknown': 195, 'soldiers': 196, 'martyered': 197, 'World': 198, 'War': 199, 'I': 200, 'were': 201, 'burried': 202, 'Rub': 203, 'top': 204, 'bottom': 205, 'furred': 206, 'towel': 207, 'bathing': 208, 'Themain': 209, 'attractions': 210, 'fountains': 211, 'Lodging': 212, 'meals': 213, 'alo': 214, 'included': 215, 'thing': 216, 'remembered': 217, 'long': 218, 'only': 219, 'when': 220, 'paid': 221, 'Brain': 222, 'also': 223, 'kept': 224, 'sharpened': 225, 'by': 226, 'adopting': 227, 'some': 228, 'good': 229, 'habits': 230, 'main': 231, 'reason': 232, 'about': 233, 'all': 234, 'On': 235, 'moving': 236, 'little': 237, 'more': 238, 'ahead': 239, 'downwards': 240, 'Gangamaya': 241, 'sorrounded': 242, 'mountains': 243, 'By': 244, 'smoking': 245, 'cigarette': 246, 'arteries': 247, 'bringing': 248, 'oxygen': 249, 'brain': 250, 'start': 251, 'shrinking': 252, 'starts': 253, 'weakening': 254, 'Immune': 255, 'system': 256, 'identifies': 257, 'disease-carrier': 258, 'or': 259, '`': 260, 'external': 261, 'invaders': 262, 'like': 263, 'virus': 264, 'bacteria': 265, 'kills': 266, 'them': 267, 'To': 268, 'extract': 269, 'appendix': 270, 'case': 271, 'swelling': 272, 'reclining': 273, 'bed': 274, 'Paulin': 275, 'sister': 276, 'Napolean': 277, 'married': 278, 'Borgis': 279, 'royal': 280, 'family': 281, 'looks': 282, 'so': 283, 'real': 284, 'moments': 285, 'you': 286, 'will': 287, 'able': 288, 'see': 289, 'her': 290, 'continously': 291, 'Although': 292, 'itself': 293, 'but': 294, '1926': 295, 'onwards': 296, 'has': 297, 'been': 298, 'given': 299, 'status': 300, 'an': 301, 'independent': 302, 'state': 303, 'Try': 304, 'remember': 305, 'any': 306, 'information': 307, 'through': 308, 'words': 309, 'pictures': 310, 'patient': 311, 'stays': 312, 'week': 313, 'simple': 314, 'surgical': 315, 'operation': 316, 'H': 317, 'infected': 318, 'persons': 319, 'taken': 320, 'full': 321, 'care': 322, 'assisted': 323, 'member': 324, 'affected': 325, 'live': 326, 'dignified': 327, 'complete': 328, 'necessary': 329, 'give': 330, 'suggestions': 331, 'person': 332, 'their': 333, 'members': 334, 'IN': 335, 'coloseum': 336, 'Galdiaters': 337, 'mean': 338, 'fencers': 339, 'used': 340, 'display': 341, 'performance': 342, 'Why': 343, 'discrimination': 344, 'patients': 345, 'equal': 346, 'doctor': 347, 'rising': 348, 'interference': 349, 'technology': 350, 'day-to-day': 351, 'us': 352, 'very': 353, 'luxurious': 354, 'spreads': 355, 'mother': 356, 'issues': 357, 'danger': 358, 'glaucoma': 359, 'decreased': 360, 'great': 361, 'extent': 362, 'taking': 363, 'diet': 364, 'rich': 365, 'vitamin-C': 366, 'Eating': 367, 'spinach': 368, 'broccoli': 369, 'germinated': 370, 'grains': 371, 'may': 372, 'beneficial': 373, 'regard': 374, 'Because': 375, 'one': 376, 'attraction': 377, 'allured': 378, 'Common': 379, 'causing': 380, 'prevented': 381, 'increasing': 382, 'amount': 383, 'omega-3': 384, 'oils': 385, 'special': 386, 'plants': 387, 'Treatment': 388, 'at': 389, 'office': 390, 'home': 391, 'friends': 392, 'should': 393, 'same': 394, 'as': 395, 'earlier': 396, 'enjoy': 397, 'there': 398, 'points': 399, 'specially': 400, 'then': 401, 'foreign': 402, 'destination': 403, 'tour': 404, 'Which': 405, 'method': 406, 'convenient': 407, '?': 408, 'built': 409, 'Emanuel': 410, '20': 411, 'years': 412, 'constructed': 413, 'Yoganidra': 414, 'cause': 415, 'problem': 416, 'mental': 417, 'tension': 418, 'sentimental': 419, 'imbalance': 420, 'Fever': 421, 'does': 422, 'go': 423, 'down': 424, 'diarrhoea': 425, 'stop': 426, 'weight': 427, 'decreases': 428, 'due': 429, 'Lui': 430, 'cruise': 431, 'postponed': 432, 'its': 433, 'services': 434, 'now': 435, 'hope': 436, 'resuming': 437, 'October': 438, 'They': 439, 'inexpensive': 440, 'settled': 441, 'Tiber': 442, 'river': 443, 'pilgrimage': 444, 'followers': 445, 'Roman': 446, 'Catholic': 447, 'religion': 448, 'because': 449, 'residence': 450, 'head': 451, 'Pope': 452, 'attacks': 453, 'immune': 454, 'destroys': 455, 'Prevention': 456, 'propagation': 457, 'Taking': 458, 'plenty': 459, 'fruits': 460, 'vegetables': 461, 'proved': 462, 'health': 463, 'along': 464, 'Besides': 465, 'drinking': 466, 'milk': 467, 'eating': 468, 'carrot': 469, 'hormone': 470, 'cortisol': 471, 'harms': 472, 'hippocampus': 473, 'seriously': 474, 'Infected': 475, 'normal': 476, '10': 477, 'Identify': 478, 'use': 479, 'There': 480, 'no': 481, 'better': 482, 'solution': 483, 'eat': 484, 'fish': 485, 'keeping': 486, 'eyes': 487, 'healthy': 488, 'if': 489, 'non-vegetarian': 490, 'Where': 491, 'known': 492, 'multicolor': 493, 'culture': 494, 'Maharashtra': 495, 'diversity': 496, 'various': 497, 'beautiful': 498, 'beaches': 499, 'thick': 500, 'historic': 501, 'forts': 502, 'religious': 503, 'places': 504, 'we': 505, 'sunset': 506, 'mind': 507, 'round': 508, 'garden': 509, 'Instead': 510, 'two': 511, 'trip': 512, 'enquire': 513, 'almost': 514, '300': 515, 'buildings': 516, 'such': 517, 'magnificent': 518, 'Use': 519, 'warm': 520, 'water': 521, 'prevalence': 522, 'rate': 523, 'India': 524, '1': 525, 'bring': 526, '0': 527, 'National': 528, 'Programme': 529, 'Control': 530, 'Blindness': 531, 'started': 532, 'Government': 533, 'Now': 534, 'point': 535, 'craftiness': 536, 'exercise': 537, 'another': 538, 'side': 539, 'Apart': 540, 'internal': 541, 'parts': 542, 'chest': 543, 'cured': 544, 'tower': 545, 'identity': 546, 'monument': 547, 'several': 548, 'symptoms': 549, 'showing': 550, 'up': 551, 'inkling': 552, 'Not': 553, 'going': 554, 'staying': 555, 'old': 556, 'wall': 557, 'witness': 558, 'days': 559, 'Tuberculosis': 560, 'pneumonia': 561, 'encircle': 562, 'Along': 563, 'chemical': 564, 'agents': 565, 'oozes': 566, 'save': 567, 'getting': 568, 'destroyed': 569, 'construction': 570, 'huge': 571, 'arena': 572, 'done': 573, '80': 574, 'B': 575, 'than': 576, '50': 577, 'thousand': 578, 'audience': 579, 'could': 580, 'sit': 581, 'together': 582, 'they': 583, 'fit': 584, 'racks': 585, 'above': 586, 'First': 587, 'walk': 588, 'Ram': 589, 'Babu': 590, 'Jeep': 591, 'Vadodra': 592, 'unique': 593, 'confluence': 594, 'business': 595, 'art': 596, 'Wounds': 597, 'blisters': 598, 'mouth': 599, 'nobody': 600, 'calls': 601, 'English': 602, 'form': 603, 'address': 604, 'Actually': 605, 'early': 606, 'reach': 607, 'options': 608, 'have': 609, 'my': 610, 'ears': 611, 'guide': 612, 'Meena': 613, 'echo': 614, ':': 615, 'Saahiba': 616, 'befor': 617, 'ethis': 618, 'think': 619, 'stay': 620, 'thisin': 621, 'forest': 622, 'new': 623, 'relating': 624, 'Sita': 625, 'Lakshman': 626, 'had': 627, 'spent': 628, 'exile': 629, 'Establish': 630, 'familiarity': 631, 'driver': 632, 'conductor': 633, 'ward': 634, 'off': 635, 'disease': 636, 'peptic': 637, 'ulcer': 638, 'first': 639, 'bagh': 640, 'surrounded': 641, 'under': 642, 'shadow': 643, 'dense': 644, 'trees': 645, 'allure': 646, 'your': 647, 'heart': 648, 'From': 649, 'Ginger': 650, 'hotel': 651, 'Nasik': 652, 'Trimbkeshwar': 653, 'temple': 654, 'Vipashyana': 655, 'center': 656, 'Nandur': 657, 'Madhmeshwar': 658, 'bird': 659, 'sanctuary': 660, 'connected': 661, 'well': 662, 'Vitamin': 663, 'E': 664, 'antioxidants': 665, 'tomato': 666, 'green-tea': 667, 'sweet': 668, 'potato': 669, 'Under': 670, 'Nation': 671, 'blind': 672, 'being': 673, 'benefited': 674, 'understood': 675, 'why': 676, 'over': 677, 'spending': 678, 'much': 679, 'neighbor': 680, 'equipped': 681, 'sea': 682, 'shores': 683, 'sports': 684, 'heaven': 685, 'tourists': 686, 'churches': 687, 'look': 688, 'grandeur': 689, 'era': 690, 'easily': 691, 'Darjeeling': 692, 'Dhooma': 693, 'dn': 694, 'Dhoom': 695, 'Laparoscopic': 696, 'takes': 697, 'double': 698, 'comparison': 699, 'treatment': 700, 'maintain': 701, 'secrecy': 702, 'said': 703, 'Europe': 704, 'nothing': 705, 'Including': 706, 'these': 707, 'things': 708, 'weakened': 709, 'Also': 710, 'take': 711, 'during': 712, 'changing': 713, 'responsibility': 714, 'luggage': 715, 'own': 716, 'Start': 717, 'light': 718, 'means': 719, 'three': 720, 'day': 721, 'fair': 722, 'less': 723, 'Rs': 724, '18': 725, 'practiced': 726, 'lying': 727, 'These': 728, 'possibilities': 729, 'negligible': 730, 'laparoscopy': 731, 'Huge': 732, 'shops': 733, 'church': 734, 'palace': 735, 'enhance': 736, 'Today': 737, 'small': 738, 'hole': 739, 'sufficient': 740, 'remove': 741, 'abdomen': 742, 'surgery': 743, 'key': 744, 'button': 745, 'reaching': 746, 'Malè': 747, 'according': 748, 'pocket': 749, 'available': 750, 'entertainments': 751, 'activities': 752, 'plane': 753, 'ride': 754, 'underwater': 755, 'lunch': 756, 'fruit': 757, 'vegetable': 758, 'meal': 759, 'enough': 760, 'Frequent': 761, 'fever': 762, 'month': 763, 'Details': 764, 'important': 765, 'below': 766, 'Famous': 767, 'sculptor': 768, 'Michelangelo': 769, 'stairs': 770, 'climb': 771, '1536': 772, 'But': 773, 'lack': 774, 'incomplete': 775, 'sleep': 776, 'tiredness': 777, 'whole': 778, 'becomes': 779, 'difficult': 780, 'concentrate': 781, 'work': 782, 'medicine': 783, 'affect': 784, 'So': 785, 'left': 786, 'Boating': 787, 'Mirik': 788, 'lake': 789, 'short': 790, 'break': 791, 'That': 792, 'bilberry': 793, 'blackberry': 794, 'breakfast': 795, 'salad': 796, 'mood': 797, 'weather': 798, 'clean': 799, 'uptill': 800, 'need': 801, 'hospital': 802, 'stitches': 803, 'applied': 804, 'Saw': 805, 'dry': 806, 'farmers': 807, 'farming': 808, 'Generally': 809, 'pure': 810, 'lens': 811, 'capsule': 812, 'dim': 813, 'milky': 814, 'inside': 815, 'Avoid': 816, 'citrus': 817, 'food': 818, 'item': 819, 'If': 820, 'keep': 821, 'interest': 822, 'artefacts': 823, 'do': 824, 'Everybody': 825, 'his': 826, 'learn': 827, 'anything': 828, 'Make': 829, 'habit': 830, 'color': 831, 'smell': 832, 'taste': 833, 'forget': 834, 'later': 835, 'lethal': 836, 'impact': 837, 'capacity': 838, 'Woithout': 839, 'doubt': 840, 'happens': 841, 'nationsand': 842, 'show': 843, 'Tension': 844, 'let': 845, 'history': 846, 'best': 847, 'introduces': 848, 'nearby': 849, 'areas': 850, 'staffs': 851, 'eye': 852, 'department': 853, 'trained': 854, 'levels': 855, 'reduce': 856, 'Entertainment': 857, 'everytime': 858, 'print': 859, 'visible': 860, 'civilization': 861, 'Therefore': 862, 'everybody': 863, 'hundred': 864, 'grams': 865, 'green': 866, 'Places': 867, 'Ramayan': 868, 'Panchvati': 869, 'cave': 870, 'Ramkund': 871, 'situated': 872, 'We': 873, 'Kolkata': 874, 'roam': 875, 'coolness': 876, 'tea': 877, 'estates': 878, 'spread': 879, 'siligudi': 880, 'tied': 881, 'me': 882, 'themselves': 883, 'know': 884, 'almond': 885, 'cashew': 886, 'nut': 887, 'walnut': 888, 'raisins': 889, 'etcetera': 890, 'besides': 891, 'nutritious': 892, 'scene': 893, 'expanded': 894, 'screen': 895, 'television': 896, 'clearer': 897, 'directly': 898, 'Remembering': 899, 'chart': 900, 'would': 901, 'prove': 902, 'helpful': 903, 'might': 904, 'happen': 905, 'terminal': 906, 'extra': 907, 'fee': 908, 'magic': 909, 'waterfalls': 910, 'between': 911, 'rocks': 912, 'put': 913, 'attempt': 914, 'explore': 915, 'cinsiderable': 916, 'effect': 917, 'nature': 918, 'lifestyle': 919, 'Due': 920, 'devotees': 921, 'feel': 922, 'prayerrs': 923, 'reching': 924, 'Gods': 925, 'Active': 926, 'governmental': 927, 'non-governmental': 928, 'voluntary': 929, 'organizations': 930, 'Eye': 931, 'Test': 932, 'Sahiba': 933, 'style': 934, 'how': 935, 'Vatican': 936, 'city': 937, 'Students': 938, 'senior': 939, 'ministry': 940, 'kids': 941, 'get': 942, 'discount': 943, 'arrangement': 944, 'cure': 945, 'medicines': 946, 'sciatica': 947, 'slip': 948, 'disk': 949, 'avoid': 950, 'practice': 951, '1986': 952, '2002': 953, 'number': 954, 'become': 955, 'forty': 956, 'five': 957, 'lacs': 958, 'ones': 959, 'holidays': 960, 'Rajasthan': 961, 'visited': 962, 'ghosts': 963, 'far': 964, 'Jaipurites': 965, 'perhaps': 966, 'must': 967, 'night': 968, 'Both': 969, 'hotels': 970, 'middle': 971, 'Pimpri': 972, 'industrial': 973, 'area': 974, 'named': 975, 'Vakaad': 976, 'Bengaluru': 977, 'highway': 978, 'testified': 979, 'six-year': 980, 'study': 981, 'American': 982, 'Institute': 983, 'element': 984, 'saves': 985, 'grand': 986, 'surprise': 987, 'administering': 988, 'blood': 989, 'You': 990, 'bumps': 991, 'reading': 992, 'comfortable': 993, 'Paralysis': 994, 'controlled': 995, 'yoga': 996, 'following': 997, 'consequences': 998, 'caught': 999, 'Tou': 1000, 'trains': 1001, 'Thee': 1002, 'works': 1003, 'fundamental': 1004, 'fourteenth': 1005, 'century': 1006, 'Cervial': 1007, 'elders': 1008, 'children': 1009, 'age': 1010, 'absolutely': 1011, 'free': 1012, 'contagious': 1013, 'gall': 1014, 'bladder': 1015, 'stone': 1016, 'emerged': 1017, 'symbol': 1018, 'Colloseum': 1019, 'limited': 1020, 'half': 1021, 'face': 1022, 'identifying': 1023, 'suffering': 1024, 'doctors': 1025, 'helpers': 1026, 'perform': 1027, 'screening': 1028, 'hospitals': 1029, 'mine': 1030, 'recently': 1031, 'interesting': 1032, 'thrilling': 1033, 'divided': 1034, 'drive': 1035, 'expressway': 1036, 'called': 1037, 'Baroda': 1038, 'cosmopolitan': 1039, 'tradition': 1040, 'unboiled': 1041, 'needle': 1042, 'Read': 1043, 'attentively': 1044, 'whatever': 1045, 'before': 1046, 'forward': 1047, 'eight': 1048, 'seconds': 1049, 'remains': 1050, 'fresh': 1051, 'having': 1052, 'entering': 1053, 'HIV': 1054, 'increases': 1055, 'fast': 1056, 'reproducing': 1057, 'gets': 1058, 'born': 1059, 'thus': 1060, 'museum': 1061, 'Janushirasana': 1062, 'presented': 1063, 'stretching': 1064, 'both': 1065, 'legs': 1066, 'include': 1067, 'sharp': 1068, 'See': 1069, 'operated': 1070, 'eye-surgeon': 1071, 'maintained': 1072, 'daily': 1073, 'ten': 1074, 'twenty': 1075, 'minutes': 1076, 'fact': 1077, 'compete': 1078, 'wild': 1079, 'animals': 1080, 'What': 1081, 'joy': 1082, 'Situated': 1083, 'behind': 1084, 'Himalaya': 1085, 'Mall': 1086, 'colorful': 1087, 'ambience': 1088, 'ultra': 1089, 'modern': 1090, 'facilities': 1091, 'air': 1092, 'conditioned': 1093, 'romms': 1094, 'make': 1095, 'yours': 1096, 'memorable': 1097, 'route': 1098, 'Pasupathinath': 1099, 'hand': 1100, 'sweaters': 1101, 'ets': 1102, 'Napelese': 1103, 'artisans': 1104, 'While': 1105, 'roaming': 1106, 'airplanes': 1107, 'suddenly': 1108, 'Sea': 1109, 'stands': 1110, 'toy': 1111, 'Bending': 1112, 'right': 1113, 'leg': 1114, 'knee': 1115, 'touch': 1116, 'sole': 1117, 'heel': 1118, 'genitals': 1119, 'eggs': 1120, 'Spectacles': 1121, 'tested': 1122, '6': 1123, 'weeks': 1124, 'repair': 1125, 'hiatus': 1126, 'hernia': 1127, 'Hundreds': 1128, 'creatures': 1129, 'microscope': 1130, 'Fifty': 1131, 'staff': 1132, 'situation': 1133, 'complexities': 1134, 'clotting': 1135, 'vessels': 1136, 'syndrome': 1137, 'usually': 1138, 'prepared': 1139, 'four': 1140, 'heavy': 1141, 'hard': 1142, 'digest': 1143, 'coffee': 1144, 'tobacco': 1145, 'intoxicating': 1146, 'exciting': 1147, 'May': 1148, 'visual': 1149, 'learner': 1150, 'read': 1151, 'aloud': 1152, 'Since': 1153, 'sixth': 1154, 'residential': 1155, 'supreme': 1156, 'leader': 1157, 'catholic': 1158, 'unprotected': 1159, 'sex': 1160, 'relations': 1161, 'Lets': 1162, 'move': 1163, 'telling': 1164, 'meeting': 1165, 'Forum': 1166, 'improves': 1167, 'add': 1168, 'Pavanmuktasana': 1169, 'Vajrasana': 1170, 'Shashankasana': 1171, 'Makarasana': 1172, 'Maintain': 1173, 'safe': 1174, 'dome': 1175, 'wide': 1176, '30': 1177, 'feet': 1178, 'land': 1179, 'multicoloured': 1180, 'heritage': 1181, 'yogic': 1182, 'overcome': 1183, 'surely': 1184, 'Community': 1185, 'Service': 1186, 'Centre': 1187, 'unaffected': 1188, 'welcomed': 1189, 'appears': 1190, 'divine': 1191, 'peace': 1192, 'seven': 1193, 'gardens': 1194, 'kings': 1195, 'Alwar': 1196, 'camp': 1197, 'hunting': 1198, 'Yes': 1199, 'giving': 1200, 'expense': 1201, 'demand': 1202, 'patience': 1203, 'out': 1204, 'sure': 1205, 'thinking': 1206, 'tours': 1207, 'actually': 1208, 'provide': 1209, 'kind': 1210, 'greenery': 1211, 'commuting': 1212, 'onikomysis': 1213, 'soon': 1214, 'monastery': 1215, \"n't\": 1216, 'did': 1217, 'mass': 1218, 'cloud': 1219, 'begin': 1220, 'shower': 1221, 'feast': 1222, 'guest': 1223, 'felt': 1224, 'want': 1225, 'spend': 1226, 'fantastic': 1227, 'holiday': 1228, 'regular': 1229, 'memory': 1230, 'complex': 1231, 'During': 1232, 'leave': 1233, 'stuff': 1234, 'officials': 1235, 'loss': 1236, 'Special': 1237, 'quality': 1238, 'district': 1239, 'base': 1240, 'converted': 1241, 'Microscopic': 1242, 'Centres': 1243, 'falling': 1244, 'ill': 1245, 'again': 1246, 'continuously': 1247, 'goes': 1248, 'skin': 1249, 'hair': 1250, 'remain': 1251, 'sharpen': 1252, 'placed': 1253, 'low': 1254, 'Sudden': 1255, 'decrease': 1256, 'profitable': 1257, 'wearing': 1258, 'each-other': 1259, 'clothes': 1260, 'using': 1261, 'bathroom': 1262, 'Bilberry': 1263, 'anthocyanin': 1264, 'Buying': 1265, 'ticket': 1266, 'advance': 1267, 'cheaper': 1268, 'plan': 1269, 'planning': 1270, 'last': 1271, 'wobderful': 1272, 'hill': 1273, 'height': 1274, 'anyone': 1275, 'bother': 1276, 'piece': 1277, 'secret': 1278, 'just': 1279, 'click': 1280, 'away': 1281, 'gradually': 1282, 'vitamin-A': 1283, 'infection': 1284, 'sharpens': 1285, 'Early': 1286, 'morning': 1287, 'Holland': 1288, 'sitting': 1289, 'deep': 1290, 'meditation': 1291, 'Piazza': 1292, 'di': 1293, 'Spagna': 1294, 'meet': 1295, 'each': 1296, 'other': 1297, 'evenings': 1298, 'missing': 1299, 'lose': 1300, 'oppurtunity': 1301, 'coming': 1302, 'No': 1303, 'remembring': 1304, 'always': 1305, 'Indian': 1306, 'cuisines': 1307, 'continuing': 1308, 'centuries': 1309, 'economic': 1310, 'beginning': 1311, 'non': 1312, 'violence': 1313, 'movement': 1314, 'began': 1315, 'Mahatma': 1316, 'Gandhi': 1317, 'Journey': 1318, 'Dandi': 1319, 'Sabarmati': 1320, 'Ashram': 1321, 'power': 1322, 'fight': 1323, 'against': 1324, 'totally': 1325, 'languishes': 1326, 'ends': 1327, 'thenn': 1328, 'passanger': 1329, 'wait': 1330, 'high': 1331, 'pressure': 1332, 'extreme': 1333, 'happiness': 1334, 'sorrow': 1335, 'halt': 1336, 'rent': 1337, 'beauty': 1338, 'Maldives': 1339, 'island': 1340, 'willprove': 1341, 'rock': 1342, 'empire': 1343, 'stones': 1344, 'magical': 1345, 'Ganga': 1346, 'maya': 1347, 'ornate': 1348, 'heard': 1349, 'packages': 1350, 'organized': 1351, 'tribal': 1352, 'Discrimination': 1353, 'unjust': 1354, 'indicator': 1355, 'unawareness': 1356, 'busy': 1357, 'season': 1358, 'museums': 1359, 'posess': 1360, 'hypnotising': 1361, 'glance': 1362, 'parks': 1363, 'temples': 1364, 'Maharaja': 1365, 'Sayaji': 1366, 'Rao': 1367, 'University': 1368, 'Beside': 1369, 'enitre': 1370, 'chowk': 1371, 'Venezia': 1372, 'touching': 1373, 'mutual': 1374, 'interaction': 1375, 'Human': 1376, 'Immuno-deficiency': 1377, 'Virus': 1378, 'am': 1379, 'talk': 1380, 'ago': 1381, 'preparation': 1382, 'brough': 1383, 'bliss': 1384, 'diagnosis': 1385, 'paralysis': 1386, 'Surat': 1387, 'diamond': 1388, 'jewels': 1389, 'local': 1390, 'traditional': 1391, 'objects': 1392, 'Join': 1393, 'travel': 1394, 'Rules': 1395, 'strict': 1396, 'regarding': 1397, 'baggage': 1398, 'size': 1399, 'common': 1400, 'becoming': 1401, 'active': 1402, 'lot': 1403, 'without': 1404, 'disturbing': 1405, 'favorite': 1406, 'book': 1407, 'alone': 1408, 'despite': 1409, 'Plenty': 1410, 'vitamin-B': 1411, 'ultraviolet': 1412, 'rays': 1413, 'year': 1414, 'rain': 1415, 'saw': 1416, 'December': 1417, 'Louis': 1418, 'begun': 1419, 'Cochhi': 1420, 'Maldive': 1421, 'Colombo': 1422, 'solves': 1423, 'permanently': 1424, 'tough': 1425, 'generally': 1426, 'functionalism': 1427, 'dynamism': 1428, 'muscles': 1429, 'pulse': 1430, 'end': 1431, 'Apply': 1432, 'oil': 1433, 'nostrils': 1434, 'nose': 1435, 'toilet': 1436, 'frequently': 1437, 'corner': 1438, 'distrubed': 1439, 'window': 1440, 'stated': 1441, 'women': 1442, 'ophthalmic': 1443, '68': 1444, 'tuna': 1445, 'Whether': 1446, 'dropping': 1447, 'advice': 1448, 'cases': 1449, 'Bringing': 1450, 'hands': 1451, 'forefoot': 1452, 'bend': 1453, 'touches': 1454, 'ground': 1455, 'facility': 1456, 'washroom': 1457, 'Themost': 1458, 'lighting': 1459, 'Increment': 1460, 'lymph': 1461, 'nodes': 1462, 'laced': 1463, 'test': 1464, 'easy': 1465, 'public': 1466, 'centres': 1467, 'opened': 1468, 'Manager': 1469, 'fixed': 1470, 'program': 1471, 'education': 1472, 'idols': 1473, 'lively': 1474, 'ebgint': 1475, 'o': 1476, 'speak': 1477, 'Adopt': 1478, 'increase': 1479, 'flow': 1480, 'activeness': 1481, 'Camping': 1482, 'government': 1483, 'non-government': 1484, 'comprehensive': 1485, 'District': 1486, 'Committees': 1487, 'looking': 1488, 'estimate': 1489, 'completely': 1490, 'something': 1491, 'watching': 1492, 'restaurant': 1493, 'Buffet': 1494, 'Junction': 1495, 'Fatehganj': 1496, 'road': 1497, 'filling': 1498, 'research': 1499, 'strengthens': 1500, 'cell': 1501, 'brings': 1502, 'elements': 1503, 'Memory': 1504, 'vitamin': 1505, 'B-12': 1506, 'B-6': 1507, 'items': 1508, 'folic': 1509, 'acid': 1510, 'strawberry': 1511, 'juicy': 1512, 'watermelon': 1513, 'soybean': 1514, 'Built': 1515, 'Vijay': 1516, 'Chowk': 1517, 'Delhi': 1518, 'Staying': 1519, 'position': 1520, 'previous': 1521, 'Meditation': 1522, 'worries': 1523, 'sorrows': 1524, 'pains': 1525, 'grief': 1526, 'fears': 1527, 'process': 1528, 'repeated': 1529, 'Emergence': 1530, 'frequent': 1531, 'freckles': 1532, 'Suddenly': 1533, 'fare': 1534, 'snacks': 1535, 'everything': 1536, 'Some': 1537, 'learners': 1538, 'Narishodhan': 1539, 'ujjayi': 1540, 'pranayam': 1541, 'play': 1542, 'role': 1543, 'panacea': 1544, 'central': 1545, 'nervous': 1546, 'functional': 1547, 'balance': 1548, 'function': 1549, 'spots': 1550, 'Science': 1551, 'Akshardham': 1552, 'replica': 1553, 'Vaishno': 1554, 'devi': 1555, 'Devoted': 1556, 'ruler': 1557, 'Victor': 1558, 'Emanual': 1559, 'II': 1560, 'unparalalled': 1561, 'white': 1562, 'marbel': 1563, '1885': 1564, 'completed': 1565, '1911': 1566, 'Shaniwar': 1567, 'Vadaa': 1568, 'Osho': 1569, 'God': 1570, 'Rajneesh': 1571, 'stayed': 1572, 'palaces': 1573, 'rulers': 1574, 'Before': 1575, 'buying': 1576, 'search': 1577, 'deal': 1578, 'sites': 1579, 'present': 1580, 'destroy': 1581, 'homocysteine': 1582, 'nerves': 1583, 'lutein': 1584, 'zeaxanthin': 1585, 'responsible': 1586, 'bank': 1587, 'Godavari': 1588, 'Separating': 1589, 'treating': 1590, 'offence': 1591, 'try': 1592, 'poem': 1593, 'exercises': 1594, 'Eat': 1595, 'digestible': 1596, 'bread': 1597, 'braned': 1598, 'flour': 1599, 'rice': 1600, 'porridge': 1601, 'lentil': 1602, 'Pantheon': 1603, 'wondoreous': 1604, '27': 1605, 'Cyst': 1606, 'breasts': 1607, 'He': 1608, 'moulded': 1609, 'worldwide': 1610, 'monuments': 1611, 'Carry': 1612, 'bags': 1613, 'strength': 1614, 'humans': 1615, 'Plan': 1616, 'shop': 1617, 'strolling': 1618, 'mallroad': 1619, 'Wakad': 1620, 'Ancient': 1621, 'hills': 1622, 'Baag': 1623, 'getaway': 1624, 'calm': 1625, 'comforts': 1626, 'nineteen': 1627, '14': 1628, 'school': 1629, 'students': 1630, 'run': 1631, 'campaign': 1632, 'educational': 1633, 'session': 1634, 'poor': 1635, 'distributed': 1636, 'glasses': 1637, 'cost': 1638, 'Bag': 1639, 'bidding': 1640, 'farewell': 1641, 'bid': 1642, 'making': 1643, 'jaggery': 1644, 'curd': 1645, 'eligible': 1646, 'kumbhak': 1647, 'holding': 1648, 'breath': 1649, 'rendering': 1650, 'fights': 1651, 'continue': 1652, 'fighters': 1653, 'die': 1654, 'Is': 1655, 'Inside': 1656, 'sides': 1657, 'Godesses': 1658, 'Whileenjoying': 1659, 'cycling': 1660, 'cool': 1661, 'oceanic': 1662, 'winds': 1663, 'Goan': 1664, 'cuisine': 1665, 'fully': 1666, 'option': 1667, 'yet': 1668, 'avoided': 1669, 'rules': 1670, 'insurance': 1671, 'coverage': 1672, 'company': 1673, 'Omega-3': 1674, 'fat': 1675, 'weak': 1676, 'holes': 1677, 'possibility': 1678, 'wounds': 1679, 'ripened': 1680, 'pap': 1681, 'developing': 1682, 'girls': 1683, 'wit': 1684, 'binoculars': 1685, 'mountain': 1686, 'walking': 1687, 'narrow': 1688, 'fort': 1689, 'Ajabgadh': 1690, 'sun': 1691, 'spreading': 1692, 'advantages': 1693, 'chairperson': 1694, 'Department': 1695, 'Ophthalmology': 1696, 'Liverpool': 1697, 'Dr': 1698, 'Ian': 1699, 'Greerson': 1700, 'says': 1701, 'belief': 1702, 'someone': 1703, 'throw': 1704, 'coin': 1705, 'wish': 1706, 'Key': 1707, 'revolutionary': 1708, 'invention': 1709, 'field': 1710, 'faces': 1711, 'pain': 1712, 'red': 1713, 'corpuscles': 1714, 'Patients': 1715, 'administered': 1716, 'anesthetic': 1717, 'date': 1718, 'return': 1719, '28': 1720, 'rupees': 1721, 'per': 1722, 'inguinal': 1723, 'Body-brain': 1724, 'happy': 1725, 'crowd': 1726, 'successful': 1727, 'car': 1728, 'Batusiya': 1729, 'loop': 1730, 'Adopting': 1731, 'methods': 1732, 'switching': 1733, 'electricity': 1734, 'instead': 1735, 'open': 1736, 'closed': 1737, 'windows': 1738, 'European': 1739, 'industry': 1740, 'My': 1741, 'host': 1742, 'decorator': 1743, 'uttered': 1744, '601': 1745, 'AD': 1746, 'believed': 1747, 'doing': 1748, 'desire': 1749, 'fulfilled': 1750, 'binding': 1751, 'mauli': 1752, 'wrist': 1753, 'mantra': 1754, 'mangalachar': 1755, 'chanted': 1756, 'Theere': 1757, 'forum': 1758, 'noting': 1759, 'All': 1760, 'social': 1761, 'political': 1762, 'Though': 1763, 'mobile': 1764, 'phone': 1765, 'internet': 1766, 'romanum': 1767, 'pillars': 1768, 'cleaning': 1769, 'everyone': 1770, 'asked': 1771, 'St': 1772, 'Peter': 1773, 'Saint': 1774, 'Square': 1775, 'Everything': 1776, 'artisitc': 1777, 'surprising': 1778, 'received': 1779, 'award': 1780, 'appearnebce': 1781, 'loose': 1782, 'motion': 1783, 'cough': 1784, 'At': 1785, 'audio': 1786, 'listening': 1787, 'Panjim': 1788, 'makes': 1789, 'excellent': 1790, 'hurting': 1791, 'components': 1792, 'Add': 1793, 'Suptvajrasana': 1794, 'Trikonasana': 1795, 'Uttanpadasana': 1796, 'Gomukhasana': 1797, 'Ardhmatsyendrasana': 1798, 'capable': 1799, 'neither': 1800, 'nor': 1801, 'outside': 1802, 'near': 1803, 'Jaipur': 1804, 'pieces': 1805, 'sweets': 1806, 'Popular': 1807, 'gujarati': 1808, 'cultural': 1809, 'values': 1810, 'abundance': 1811, 'shopping': 1812, 'shine': 1813, 'events': 1814, 'Makar': 1815, 'Sakranti': 1816, 'Navaratri': 1817, 'capturing': 1818, 'bag': 1819, 'second': 1820, 'lessened': 1821, 'contractions': 1822, 'catch': 1823, 'major': 1824, 'Shirdi': 1825, 'Sai': 1826, 'Baba': 1827, 'drugs': 1828, 'serving': 1829, 'Shabana': 1830, 'Azmi': 1831, 'Changing': 1832, 'learning': 1833, 'subject': 1834, 'game': 1835, 'resident': 1836, 'Raambabu': 1837, 'aman': 1838, 'inspired': 1839, 'motive': 1840, 'ways': 1841, 'traditions': 1842, 'else': 1843, 'needed': 1844, 'tehre': 1845, 'Villa': 1846, 'Borges': 1847, 'unparalleled': 1848, 'whre': 1849, 'hour': 1850, 'enjoying': 1851, 'Via': 1852, 'del': 1853, 'Corso': 1854, 'MV': 1855, 'Aquamarine': 1856, 'minimum': 1857, '5850': 1858, 'Tourism': 1859, 'sometimes': 1860, 'pull': 1861, 'towards': 1862, 'ship': 1863, 'train': 1864, 'pink': 1865, 'Udaipur': 1866}\n",
            "{'अमन': 0, 'बाग': 1, 'के': 2, 'खुलने': 3, 'बाद': 4, 'वहाँ': 5, 'देश': 6, '-': 7, 'विदेश': 8, 'बड़े-बड़े': 9, 'लोग': 10, 'पहुँचे': 11, 'हैं': 12, '।': 13, 'सीडी-4': 14, 'कोशिका': 15, 'खंडित': 16, 'हो': 17, 'जाने': 18, 'से': 19, 'अनेक': 20, 'वायरस': 21, 'रक्त-प्रवाह': 22, 'में': 23, 'प्रवेश': 24, 'कर': 25, 'जाते': 26, 'दृष्टिहीनता': 27, 'मुख्य': 28, 'कारणों': 29, 'मोतियाबिंद': 30, '55': 31, 'प्रतिशत': 32, 'है': 33, ',': 34, 'दृष्टि': 35, 'दोष': 36, '19': 37, 'काला': 38, 'मोतिया': 39, '4': 40, 'कॉर्नियल': 41, 'पैथॉलाजी': 42, '7': 43, 'अन्य': 44, '15': 45, 'यह': 46, 'बात': 47, 'अलग': 48, 'कि': 49, 'वे': 50, 'खुद': 51, 'राह': 52, 'भटक': 53, 'भानगढ़': 54, 'पहुँच': 55, 'गयी': 56, 'थीं': 57, 'जेकी': 58, 'लिए': 59, 'तो': 60, 'ग्रामीण': 61, 'जीवन': 62, 'की': 63, 'ऐसी': 64, 'झलक': 65, 'अनूठा': 66, 'अनुभव': 67, 'था': 68, 'इसके': 69, 'अवशेष': 70, 'आज': 71, 'भी': 72, 'रोम': 73, 'आस-पास': 74, 'देखे': 75, 'जा': 76, 'सकते': 77, 'कैपिटोलाइन': 78, 'सामने': 79, 'घोड़े': 80, 'पर': 81, 'सवार': 82, 'सम्राट': 83, 'मार्कस': 84, 'ओरेलिअस': 85, 'पीतल': 86, 'मूर्ति': 87, 'जिन्होंने': 88, '160': 89, '180': 90, 'ई.': 91, 'तक': 92, 'शासन': 93, 'किया': 94, 'शारीरिक': 95, 'स्वच्छता': 96, 'ध्यान': 97, 'दें': 98, 'कलिम्पोंग': 99, 'सबसे': 100, 'लोकप्रिय': 101, 'पर्यटन': 102, 'स्थल': 103, 'लावा': 104, 'तथा': 105, 'लोलेगाँव': 106, 'जो': 107, 'जंगलों': 108, 'झरनों': 109, 'परिपूर्ण': 110, 'एड्स': 111, 'साथ': 112, 'रह': 113, 'रहे': 114, 'लोगों': 115, 'का': 116, 'विरोध': 117, 'न': 118, 'करें': 119, 'इटली': 120, 'राजधानी': 121, 'दुनिया': 122, 'उन': 123, 'पुराने': 124, 'शहरों': 125, 'जहाँ': 126, 'सभ्यताओं': 127, 'विकास': 128, 'हुआ': 129, 'पश्\\u200dचिमी': 130, 'तट': 131, 'लगे': 132, 'हुए': 133, 'गुजरात': 134, 'गोवा': 135, 'यात्रा': 136, 'पुणे': 137, 'पेशवाकालीन': 138, 'भव्यता': 139, 'अहमदाबाद': 140, 'साबरमती': 141, 'आश्रम': 142, 'और': 143, 'मुक्\\u200dति': 144, 'आंदोलन': 145, 'सुनहरे': 146, 'ऐतिहासिक': 147, 'साक्ष्यों': 148, 'दर्शन': 149, 'मिलता': 150, 'बस': 151, 'रूके': 152, 'वापस': 153, 'समय': 154, 'आ': 155, 'जाएँ': 156, 'इस': 157, 'स्मारक': 158, 'नक्काशी': 159, 'बने': 160, 'विजय': 161, 'चिन्ह': 162, 'दर्शनीय': 163, 'ये': 164, 'मिलियन': 165, 'डॉलर': 166, 'अनमोल': 167, 'पल': 168, 'यहाँ': 169, 'प्रसिद्ध': 170, 'फव्वारा': 171, '’': 172, 'त्रेवी': 173, 'फांउंटेन': 174, 'मसलन': 175, 'कैंसर': 176, '(': 177, 'पेट': 178, ')': 179, 'लिवर': 180, 'बीमारियाँ': 181, 'आंत': 182, 'संबंधी': 183, 'रोग': 184, 'आदि': 185, 'कोशिकाएँ': 186, 'विभिन्न': 187, 'रोगों': 188, 'शरीर': 189, 'रक्षा': 190, 'मदद': 191, 'करती': 192, 'सीट': 193, 'चुनते': 194, 'कंफर्ट': 195, 'रखें': 196, 'प्रथम': 197, 'विश्\\u200dव': 198, 'युद्ध': 199, 'शहीद': 200, 'अज्ञात': 201, 'सैनिकों': 202, 'को': 203, 'दफनाया': 204, 'गया': 205, 'स्नान': 206, 'रोएँदार': 207, 'तौलिये': 208, 'ऊपर': 209, 'नीचे': 210, 'ओर': 211, 'रगडें': 212, 'खास': 213, 'आकर्षण': 214, 'फाउंटेंस': 215, 'इसमें': 216, 'रुकना': 217, 'खाना': 218, 'वगैरह': 219, 'शामिल': 220, 'होता': 221, 'कोई': 222, 'तभी': 223, 'लंबे': 224, 'याद': 225, 'रहती': 226, 'जब': 227, 'उस': 228, 'दिया': 229, 'जाए': 230, 'कुछ': 231, 'अच्छी': 232, 'आदतें': 233, 'डालकर': 234, 'दिमाग': 235, 'तेज': 236, 'रखा': 237, 'सकता': 238, 'कारण': 239, 'कुल': 240, 'अंधता': 241, 'लगभग': 242, 'थोड़ा': 243, 'बढ़ने': 244, 'पहाड़ियों': 245, 'घिरा': 246, 'गंगामाया': 247, 'मिला': 248, 'सिगरेट': 249, 'पीने': 250, 'मस्तिष्क': 251, 'आक्सीजन': 252, 'पहुँचाने': 253, 'वाली': 254, 'धमनियाँ': 255, 'सिकुड़ने': 256, 'लगती': 257, 'जिससे': 258, 'कमजोर': 259, 'होने': 260, 'लगता': 261, 'प्रतिरक्षण': 262, 'प्रणाली': 263, 'सुरक्षा': 264, 'तंत्र': 265, 'रोगवाहकों': 266, 'या': 267, 'बाहरी': 268, 'हमलावरों': 269, 'जैसे': 270, 'बैक्टीरिया': 271, 'पहचान': 272, 'करता': 273, 'उनका': 274, 'खात्मा': 275, 'अपेंडिक्श': 276, 'सूजन': 277, 'निकालने': 278, 'नैपोलियन': 279, 'बहन': 280, 'पॉलिन': 281, 'जिनका': 282, 'विवाह': 283, 'बोर्गीस': 284, 'राजपरिवार': 285, 'पलंग': 286, 'लेटी': 287, 'हुई': 288, 'एक': 289, 'इतनी': 290, 'सजीव': 291, 'आप': 292, 'इसे': 293, 'एकटक': 294, 'बिना': 295, 'नहीं': 296, 'पाएँगे': 297, 'हालाँकि': 298, 'ही': 299, 'लेकिन': 300, '1926': 301, 'स्वतंत्र': 302, 'शहर': 303, 'दर्जा': 304, 'दे': 305, 'किसी': 306, 'जानकारी': 307, 'शब्दों': 308, 'चित्र': 309, 'माध्यम': 310, 'रखने': 311, 'प्रयास': 312, 'सामान्य': 313, 'शल्यक्रिया': 314, 'पश्\\u200dचात': 315, 'मरीज': 316, 'करीब': 317, 'सप्ताह': 318, 'बिस्तर': 319, 'रहता': 320, 'एच.आई.वी.': 321, 'संक्रमित': 322, 'व्यक्तियों': 323, 'सम्पूर्ण': 324, 'देखभाल': 325, 'व': 326, 'सहायता': 327, 'जाती': 328, 'प्रभावित': 329, 'परिवार': 330, 'सदस्य': 331, 'सम्मानित': 332, 'जी': 333, 'सकें': 334, 'उनके': 335, 'जनों': 336, 'सलाह': 337, 'परामर्श': 338, 'देना': 339, 'आवश्यक': 340, 'कॉलोसियम': 341, 'ग्लैडिएटर': 342, 'यानी': 343, 'तलवारबाज': 344, 'अपने': 345, 'करतब': 346, 'दिखाते': 347, 'थे': 348, 'डाक्टर': 349, 'सभी': 350, 'फिर': 351, 'भेदभाव': 352, 'कैसा': 353, 'रोजमर्रा': 354, 'जिंदगी': 355, 'तकनीक': 356, 'बढ़ते': 357, 'दखल': 358, 'ने': 359, 'हमें': 360, 'बेहद': 361, 'आरामतलब': 362, 'बना': 363, 'एच.आई.वी': 364, 'माँ': 365, 'उसके': 366, 'बच्चे': 367, 'फैलता': 368, 'विटामिन-सी': 369, 'भरपूर': 370, 'आहार': 371, 'लेने': 372, 'ग्लूकोमा': 373, 'अंधेपन': 374, 'खतरा': 375, 'काफी': 376, 'हद': 377, 'कम': 378, 'पालक': 379, 'ब्रोकोली': 380, 'अंकुरित': 381, 'अनाज': 382, 'लिहाज': 383, 'फायदेमंद': 384, 'साबित': 385, 'खिंचे': 386, 'चले': 387, 'आते': 388, 'खाने': 389, 'ओमेगा-3': 390, 'तेलों': 391, 'विशेष': 392, 'पौधों': 393, 'मात्रा': 394, 'बढ़ाने': 395, 'आमतौर': 396, 'बनने': 397, 'वाले': 398, 'बचा': 399, 'दफ्तर': 400, 'घर': 401, 'दोस्तों': 402, 'बीच': 403, 'प्रति': 404, 'पहले': 405, 'सा': 406, 'बर्ताव': 407, 'होना': 408, 'चाहिये': 409, 'यही': 410, 'वजह': 411, 'इन्हें': 412, 'एंजॉय': 413, 'करने': 414, 'बातों': 415, 'रखना': 416, 'जरूरी': 417, 'खासतौर': 418, 'तब': 419, 'विदेशी': 420, 'डेस्टिनेशन': 421, 'टूर': 422, 'जरिए': 423, 'देख': 424, 'हों': 425, 'आपके': 426, 'कौन': 427, 'तरीका': 428, 'सुविधाजनक': 429, 'इमेनुएल': 430, 'बनी': 431, 'जिसे': 432, 'बनाने': 433, '20': 434, 'साल': 435, 'योगनिद्रा': 436, 'समस्या': 437, 'मूल': 438, 'मानसिक': 439, 'तनाव': 440, 'भावनात्मक': 441, 'असंतुलन': 442, 'बुखार': 443, 'जाता': 444, 'डायरिया': 445, 'रूकता': 446, 'वजन': 447, 'दिक्कतों': 448, 'लुई': 449, 'क्रूज': 450, 'अभी': 451, 'अपनी': 452, 'सेवाएँ': 453, 'स्थगित': 454, 'दी': 455, 'अक्टूबर': 456, 'शुरू': 457, 'उम्मीद': 458, 'सस्ती': 459, 'पड़ती': 460, 'ताइबर': 461, 'नदी': 462, 'बसा': 463, 'रोमन': 464, 'कैथलिक': 465, 'धर्म': 466, 'अनुयायियों': 467, 'तीर्थ': 468, 'स्थान': 469, 'क्योंकि': 470, 'प्रमुख': 471, 'पोप': 472, 'निवास': 473, 'विशेषकर': 474, 'कोशिकाओं': 475, 'हमला': 476, 'उन्हें': 477, 'नष्ट': 478, 'देता': 479, 'बचाव': 480, 'एवं': 481, 'प्रचार': 482, 'प्रसार': 483, 'फल': 484, 'सब्जियों': 485, 'पर्याप्त': 486, 'सेवन': 487, 'सेहत': 488, 'लाभकारी': 489, 'अलावा': 490, 'दूध': 491, 'पीना': 492, 'गाजर': 493, 'ज्यादा': 494, 'हार्मोन': 495, 'कोर्टिसाल': 496, 'हिप्पोकैंपस': 497, 'गंभीर': 498, 'नुकसान': 499, 'पहुँचाता': 500, 'व्यक्ति': 501, '10': 502, 'बिताते': 503, 'पहचाने': 504, 'उसी': 505, 'इस्तेमाल': 506, 'अगर': 507, 'मांसाहारी': 508, 'आँखों': 509, 'स्वस्थ': 510, 'बनाए': 511, 'मछली': 512, 'अच्छा': 513, 'उपाय': 514, 'बहुरंगी': 515, 'संस्कृति': 516, 'जाना': 517, 'वहीं': 518, 'महाराष्\\u200dट्र': 519, 'सुंदर': 520, 'समुद्र-तटों': 521, 'घने': 522, 'किलों': 523, 'प्राचीन': 524, 'धार्मिक': 525, 'स्थलों': 526, 'विविधता': 527, 'ओत-प्रोत': 528, 'हम': 529, 'शाम': 530, 'ढले': 531, 'हमने': 532, 'चक्कर': 533, 'लगाने': 534, 'इरादा': 535, 'टू': 536, 'टिकट': 537, 'बजाय': 538, 'राउंड': 539, 'ट्रिप': 540, 'बारे': 541, 'पता': 542, '300': 543, 'इमारतें': 544, 'जिनमें': 545, 'शानदार': 546, 'फव्वारे': 547, 'नहाने': 548, 'गर्म': 549, 'जल': 550, 'प्रयोग': 551, 'भारत': 552, 'वर्ष': 553, 'मे': 554, 'व्यापकता': 555, 'दर': 556, '1.4': 557, '0.3': 558, 'लाने': 559, 'लिये': 560, 'सरकार': 561, 'द्वारा': 562, '1976': 563, 'राष्ट्रीय': 564, 'निवारण': 565, 'कार्यक्रम': 566, 'आरम्भ': 567, 'अब': 568, 'चालाकी': 569, 'क्रिया': 570, 'दूसरी': 571, 'तरफ': 572, 'छाती': 573, 'भीतर': 574, 'विकारों': 575, 'विधि': 576, 'दूर': 577, 'टॉवर': 578, 'इमारत': 579, 'ऐसे': 580, 'लक्षण': 581, 'दिखलाई': 582, 'पड़ने': 583, 'लगते': 584, 'आभास': 585, 'देते': 586, 'केवल': 587, 'वालों': 588, 'बल्कि': 589, 'रहने': 590, 'इसकी': 591, 'पुरानी': 592, 'दीवार': 593, 'दिनों': 594, 'साक्षी': 595, 'टी.बी.': 596, 'निमोनिया': 597, 'घेर': 598, 'लेते': 599, 'रासायन': 600, 'स्रावित': 601, 'होते': 602, 'बचाएंगे': 603, 'विशाल': 604, 'अखाड़े': 605, 'निर्माण': 606, '80': 607, 'ईस्वी': 608, '50': 609, 'हजार': 610, 'दर्शक': 611, 'बैठ': 612, 'रैक': 613, 'फिट': 614, 'राम': 615, 'बाबू': 616, 'पैदल': 617, 'सैर': 618, 'जीप': 619, 'वडोदरा': 620, 'व्यापार': 621, 'कला': 622, 'संगम': 623, 'दिखाई': 624, 'मुँह': 625, 'लगातार': 626, 'घाव': 627, 'छाले': 628, 'आपको': 629, 'अंग्रेजी': 630, 'उद्\\u200dबोधन': 631, 'बुलाता': 632, 'दरअसल': 633, 'जितना': 634, 'जल्दी': 635, 'पहुँचेंगे': 636, 'उतनी': 637, 'ऑप्शन': 638, 'पास': 639, 'होगी': 640, 'मेरे': 641, 'कानों': 642, 'गाइड': 643, 'मीणा': 644, 'शब्द': 645, 'गूँजते': 646, ';': 647, 'साहिबा': 648, 'सोच': 649, 'जंगल': 650, 'नई': 651, 'जोड़कर': 652, 'सीता': 653, 'लक्ष्मण': 654, 'वनवास': 655, 'व्यतीत': 656, 'किए': 657, 'ड्राइवर': 658, 'कंडक्टर': 659, 'लें': 660, 'पेप्टिक': 661, 'अल्सर': 662, 'बीमारी': 663, 'घिरे': 664, 'सघन': 665, 'वृक्षों': 666, 'छाया': 667, 'पहली': 668, 'मोह': 669, 'लेती': 670, 'नासिक': 671, 'स्थित': 672, 'जिंजर': 673, 'होटल': 674, 'त्रयंबकेश्\\u200dवर': 675, 'मंदिर': 676, 'विपश्यना': 677, 'सेंटर': 678, 'नंदुर': 679, 'माधमहेश्\\u200dवर': 680, 'पक्षी': 681, 'अभ्यारण्य': 682, 'तरह': 683, 'जुड़े': 684, 'टमाटर': 685, 'ग्रीन-टी': 686, 'ब्रोकली': 687, 'शकरकंद': 688, 'विटामिन-ई': 689, 'सी': 690, 'एंटीआक्सीडेंट': 691, 'पाए': 692, 'अन्तर्गत': 693, 'दृष्टिहीन': 694, 'ग्रसित': 695, 'ऑपरेशन': 696, 'लाभान्वित': 697, 'रहा': 698, 'समझ': 699, 'आया': 700, 'टूरिस्ट': 701, 'इतना': 702, 'खर्च': 703, 'करके': 704, 'क्यों': 705, 'आता': 706, 'पड़ोसी': 707, 'राज्य': 708, 'विविध': 709, 'क्रीड़ाओं': 710, 'युक्\\u200dत': 711, 'पर्यटकों': 712, 'स्वर्ग': 713, 'सरीखा': 714, 'गिरजाघरों': 715, 'युग': 716, 'सहज': 717, 'दार्जिलिंग': 718, 'घूम': 719, 'धूम': 720, 'ट्\\u200dवाय': 721, 'ट्रेन': 722, 'सफर': 723, 'लैपरोस्कोपिक': 724, 'चिकित्सा': 725, 'मुकाबले': 726, 'दोगुना': 727, 'गोपनीयता': 728, 'बनाये': 729, 'अनिवार्य': 730, 'कहते': 731, 'यूरोप': 732, 'देखा': 733, 'इन्ही': 734, 'चीजों': 735, 'दौरान': 736, 'चेंज': 737, 'करते': 738, 'सामान': 739, 'जिम्मेदारी': 740, 'आपकी': 741, 'प्रारंभ': 742, 'सूक्ष्म': 743, 'व्यायाम': 744, 'करो': 745, 'तीन': 746, 'दिन': 747, 'व्यक्\\u200dति': 748, 'किराया': 749, '18': 750, 'रुपये': 751, 'इसका': 752, 'अभ्यास': 753, 'लेट': 754, 'संभावनाएँ': 755, 'नगण्य': 756, 'होती': 757, 'बनीं': 758, 'बड़ी-बड़ी': 759, 'दुकानें': 760, 'चर्च': 761, 'पैलेस': 762, 'सड़क': 763, 'चार': 764, 'चाँद': 765, 'लगाते': 766, 'छोटा': 767, 'छेद': 768, 'सर्जरी': 769, 'होल': 770, 'बटन': 771, 'नाम': 772, 'माले': 773, 'पहुँचकर': 774, 'जेब': 775, 'हिसाब': 776, 'मालदीव': 777, 'उपलब्ध': 778, 'मनोरंजनों': 779, 'गतिविधियों': 780, 'मजा': 781, 'ले': 782, 'प्लेन': 783, 'राइड': 784, 'लेकर': 785, 'अंडरवाटर': 786, 'लंच': 787, 'कई': 788, 'इलाज': 789, 'सब्जियाँ': 790, 'करना': 791, 'माह': 792, 'आना': 793, '|': 794, 'महत्वपूर्ण': 795, 'लक्षणों': 796, 'विवरण': 797, 'चढ़ने': 798, 'सीढ़ियों': 799, 'मशहूर': 800, 'मूर्तिकार': 801, 'माइकल': 802, 'एंजलो': 803, '1536': 804, 'बनाया': 805, 'अभाव': 806, 'बार': 807, 'नींद': 808, 'पूरी': 809, 'पाने': 810, 'दिनभर': 811, 'थकावट': 812, 'काम': 813, 'केन्द्रित': 814, 'मुश्किल': 815, 'जिसमें': 816, 'औषधि': 817, 'असर': 818, 'भला': 819, 'छोड़ा': 820, 'मिरिक': 821, 'झील': 822, 'बोटिंग': 823, 'गार्डन': 824, 'अल्पविराम': 825, 'इसलिए': 826, 'नाश्ते': 827, 'फ्रूट': 828, 'सलाद': 829, 'बिलबैरी': 830, 'ब्लैकबैरी': 831, 'खा': 832, 'मौसम': 833, 'मिज़ाज': 834, 'सुथरा': 835, 'टाँके': 836, 'अस्पताल': 837, 'जरूरत': 838, 'सूखी': 839, 'देखी': 840, 'किसान': 841, 'खेती': 842, 'साधारणतया': 843, 'स्वच्छ': 844, 'लैन्स': 845, 'उसका': 846, 'कैपस्यूल': 847, 'धुंधला': 848, 'दुधिया': 849, 'रोशनी': 850, 'आँख': 851, 'अन्दर': 852, 'नही': 853, 'पाती': 854, 'खट्टी': 855, 'बचें': 856, 'कलाकृतियों': 857, 'दिलचस्पी': 858, 'रखते': 859, 'उसे': 860, 'जरूर': 861, 'देखें': 862, 'चीज': 863, 'सीखने': 864, 'हर': 865, 'अपना': 866, 'रंग': 867, 'सुगंध': 868, 'स्वाद': 869, 'आदत': 870, 'डालें': 871, 'देखना': 872, 'भूलें': 873, 'आगे': 874, 'चलकर': 875, 'रूप': 876, 'क्षमता': 877, 'घातक': 878, 'डाल': 879, 'सकती': 880, 'बेशक': 881, 'ऐसा': 882, 'राज्यों': 883, 'इनमें': 884, 'खासी': 885, 'एकाग्रचित': 886, 'इतिहास': 887, 'बड़ी': 888, 'वो': 889, 'आपका': 890, 'परिचय': 891, 'इलाके': 892, 'कराता': 893, 'नेत्र': 894, 'विभाग': 895, 'सम्बन्धित': 896, 'स्टॉफ': 897, 'स्तर': 898, 'प्रशिक्षण': 899, 'वक्\\u200dत': 900, 'मनोरंजन': 901, 'छाप': 902, 'वेस्टर्न': 903, 'सिविलाइजेशन': 904, 'नजर': 905, 'आती': 906, 'अमेरिकी': 907, 'नेशनल': 908, 'आई': 909, 'इंस्टीट्यूट': 910, '6': 911, 'अध्ययन': 912, 'तत्व': 913, 'बुजुर्गों': 914, 'बचाते': 915, 'पंचवटी': 916, 'गुफा': 917, 'रामकुंड': 918, 'रामायणकालीन': 919, 'कोलकाता': 920, 'आए': 921, 'ठंडक': 922, 'छाँव': 923, 'घूमने': 924, 'सिलीगुड़ी': 925, 'फैले': 926, 'चाय': 927, 'बागान': 928, 'मुझे': 929, 'बाँध': 930, 'लिया': 931, 'क्या': 932, 'जानते': 933, 'बादाम': 934, 'काजू': 935, 'अखरोट': 936, 'किशमिश': 937, 'सारे': 938, 'मेवे': 939, 'पौष्टिक': 940, 'बहुत': 941, 'चूँकि': 942, 'भीतरी': 943, 'दृश्य': 944, 'टीवी': 945, 'पटल': 946, 'विस्तारित': 947, 'होकर': 948, 'दिखता': 949, 'प्रत्यक्ष': 950, 'अधिक': 951, 'स्पष्ट': 952, 'चार्ट': 953, 'संक्षिप्त': 954, 'मददगार': 955, 'होगा': 956, 'कहीं': 957, 'टर्मिनल': 958, 'छोड़ना': 959, 'पड़े': 960, 'एक्स्ट्रा': 961, 'फीस': 962, 'भरनी': 963, 'चट्\\u200dटानों': 964, 'माया': 965, 'देखते': 966, 'बनती': 967, 'खान-पान': 968, 'बरती': 969, 'गई': 970, 'थोड़ी': 971, 'सावधानी': 972, 'जान': 973, 'जगहें': 974, 'एक्सप्लोर': 975, 'कोशिश': 976, 'डेवलमेंट': 977, 'प्रकृति': 978, 'जीवनशैली': 979, 'पड़ा': 980, 'जगह': 981, 'भक्\\u200dतों': 982, 'महसूस': 983, 'मानों': 984, 'उनकी': 985, 'प्रार्थनाएँ': 986, 'सीधे': 987, 'देवताओं': 988, 'रही': 989, 'कार्यक्रमों': 990, 'सरकारी': 991, 'गैरसरकारी': 992, 'स्वैच्छिक': 993, 'संस्थाओं': 994, 'सक्रिय': 995, 'सहयोग': 996, 'अंदाज': 997, 'आइए': 998, 'नगरी': 999, 'वैटिकन': 1000, 'सिटी': 1001, 'आसानी': 1002, 'संक्रमण': 1003, 'स्टूडेंट्स': 1004, 'मिलिट्री': 1005, 'सीनियर': 1006, 'बच्चों': 1007, 'इन': 1008, 'डिस्काउंट': 1009, 'दो': 1010, 'छूट': 1011, 'अरेंजमेंट': 1012, 'ठीक': 1013, 'दवाइयाँ': 1014, 'करतीं': 1015, 'साइटिका': 1016, 'स्लिप': 1017, 'डिस्क': 1018, 'रोगी': 1019, '1986': 1020, 'सन': 1021, '2002': 1022, 'संख्या': 1023, 'पैंतालीस': 1024, 'लाख': 1025, 'राजस्थान': 1026, 'शाही': 1027, 'छुट्\\u200dटियाँ': 1028, 'बिताने': 1029, 'कितने': 1030, 'भूतों': 1031, '!': 1032, 'जाऊँ': 1033, 'जयपुर': 1034, 'कुछेक': 1035, 'शायद': 1036, 'रात': 1037, 'बिताई': 1038, 'पिम्परी': 1039, 'औद्योगिक': 1040, 'क्षेत्र': 1041, 'मध्य': 1042, 'बंगलूरू': 1043, 'हाइवे': 1044, 'वकाड': 1045, 'नामक': 1046, 'दोनों': 1047, 'अत्याधुनिक': 1048, 'सुविधाओं': 1049, 'भव्य': 1050, 'आश्\\u200dचर्यचकित': 1051, 'देगी': 1052, 'रक्त': 1053, 'चढ़ाने': 1054, 'पिछली': 1055, 'झटके': 1056, 'लगेंगे': 1057, 'सीटों': 1058, 'पढ़ना': 1059, 'कंफर्टेबल': 1060, 'योग': 1061, 'काबू': 1062, 'लकवा': 1063, 'निम्न': 1064, 'दुष्परिणाम': 1065, 'ट्रेनें': 1066, 'लगा': 1067, 'देती': 1068, 'व्यवस्था': 1069, 'ब्रेन': 1070, 'एक्सरसाइज': 1071, 'इसी': 1072, 'फंडे': 1073, 'चौथी': 1074, 'शताब्दी': 1075, 'चारों': 1076, 'सरवियल': 1077, 'वॉल': 1078, 'बनाई': 1079, 'बड़े': 1080, 'उम्र': 1081, 'बिलकुल': 1082, 'फ्री': 1083, 'छूत': 1084, 'पित्ताशय': 1085, 'पथरी': 1086, 'प्रतीक': 1087, 'पक्षाघात': 1088, 'आधे': 1089, 'संपूर्ण': 1090, 'चेहरे': 1091, 'पीड़ित': 1092, 'रोगियों': 1093, 'चिकित्साधिकारी': 1094, 'सहायक': 1095, 'चिकित्सालय': 1096, 'स्क्रीनिंग': 1097, 'मेरी': 1098, 'हाल': 1099, 'छोटी': 1100, 'दिलचस्प': 1101, 'रोमांचक': 1102, 'इससे': 1103, 'एक्सप्रेस': 1104, 'अनूठी': 1105, 'ड्राइव': 1106, 'बड़ौदा': 1107, 'कहा': 1108, 'समृद्ध': 1109, 'परंपरा': 1110, 'कास्मोपोलिटन': 1111, 'उबली': 1112, 'सुई': 1113, 'गौर': 1114, 'पढ़ें': 1115, 'बढ़ने': 1116, 'आठ': 1117, 'सेकेंड': 1118, 'तरोताजा': 1119, 'घुसकर': 1120, 'प्रजनन': 1121, 'तेजी': 1122, 'बढ़ाता': 1123, 'नये': 1124, 'पैदा': 1125, 'ज्यादातर': 1126, 'प्रकार': 1127, 'यहीं': 1128, 'संग्रहालय': 1129, 'जानुशिरासन': 1130, 'प्रस्तुत': 1131, 'पैरों': 1132, 'फैलाकर': 1133, 'चाहिए': 1134, 'हरी': 1135, 'कैसे': 1136, 'तत्पश्\\u200dचात': 1137, 'मरीजों': 1138, 'सुसज्जित': 1139, 'अस्पतालों': 1140, 'नेत्रशल्यक': 1141, 'प्रतिदिन': 1142, 'दस': 1143, 'बीस': 1144, 'मिनट': 1145, 'अवश्य': 1146, 'आपस': 1147, 'जंगली': 1148, 'जानवरों': 1149, 'मुकाबला': 1150, '?': 1151, 'हिमालय': 1152, 'मॉल': 1153, 'पीछे': 1154, 'वाजिब': 1155, 'कीमत': 1156, 'माहौल': 1157, 'वातानुकूलित': 1158, 'कमरों': 1159, 'वाला': 1160, 'यादगार': 1161, 'रूट': 1162, 'पर्यटक': 1163, 'पशुपतिनाथ': 1164, 'बाजार': 1165, 'नेपाली': 1166, 'कारीगरों': 1167, 'हस्त': 1168, 'निर्मित': 1169, 'स्वेटर': 1170, 'मिलते': 1171, 'हवाईजहाजों': 1172, 'घूमते': 1173, 'अचानक': 1174, 'खड़ा': 1175, 'खिलौने': 1176, 'लगेगा': 1177, 'दाएँ': 1178, 'पैर': 1179, 'घुटने': 1180, 'मोड़कर': 1181, 'तलवे': 1182, 'बाएँ': 1183, 'जंघा': 1184, 'सटा': 1185, 'एड़ी': 1186, 'जननेंद्रिय': 1187, 'रोज': 1188, 'अंडे': 1189, 'खाएँ': 1190, 'चश्में': 1191, 'जाँच': 1192, 'हायाटस': 1193, 'हर्निया': 1194, 'दुरुस्त': 1195, 'हमारे': 1196, 'सैकड़ों': 1197, 'छोटे': 1198, 'जीव': 1199, 'रहते': 1200, 'जिन्हें': 1201, 'माइक्रोस्कोप': 1202, 'पचास': 1203, 'परसेंट': 1204, 'स्टाफ': 1205, 'शिराओं': 1206, 'खून': 1207, 'थक्के': 1208, 'जमने': 1209, 'जैसी': 1210, 'लताओं': 1211, 'सामना': 1212, 'पड़': 1213, 'ड्राय': 1214, 'सिंड्रोम': 1215, 'बचाता': 1216, 'हफ्तों': 1217, 'तैयार': 1218, 'अलग-अलग': 1219, 'जगहों': 1220, 'जाया': 1221, 'भारी': 1222, 'गरिष्ठ': 1223, 'तंबाकू': 1224, 'नशीले': 1225, 'पदार्थ': 1226, 'उत्तेजक': 1227, 'पदार्थों': 1228, 'परहेज': 1229, 'चाहे': 1230, 'विजुअल': 1231, 'लर्नर': 1232, 'बोल': 1233, 'छठी': 1234, 'कैथोलिक': 1235, 'सर्वोच्च': 1236, 'असुरक्षित': 1237, 'यौन': 1238, 'संबंध': 1239, 'बताते': 1240, 'चलें': 1241, 'मिलने': 1242, 'जुलने': 1243, 'फोरम': 1244, 'जैसे-जैसे': 1245, 'स्थिति': 1246, 'सुधरती': 1247, 'पवनमुक्तासन': 1248, 'वज्रासन': 1249, 'शशांकासन': 1250, 'मकरासन': 1251, 'जोड़': 1252, 'सिर्फ': 1253, 'सुरक्षित': 1254, 'गुंबज': 1255, '30': 1256, 'फुट': 1257, 'खुला': 1258, 'विरासत': 1259, 'भूमि': 1260, 'यौगिक': 1261, 'निश्\\u200dचित': 1262, 'प्राप्त': 1263, 'सामुदायिक': 1264, 'सेवा': 1265, 'केन्द्र': 1266, 'अप्रभावित': 1267, 'अंदर': 1268, 'जिस': 1269, 'स्वागत': 1270, 'उससे': 1271, 'लग': 1272, 'दिव्य': 1273, 'शांति': 1274, 'सात': 1275, 'बागों': 1276, 'अकेला': 1277, 'अलवर': 1278, 'राजा': 1279, 'शिकार': 1280, 'पड़ाव': 1281, 'हाँ': 1282, 'सुकून': 1283, 'भर': 1284, 'ढेर': 1285, 'सारा': 1286, 'देने': 1287, 'आपसे': 1288, 'सब्र': 1289, 'डिमांड': 1290, 'सोचने': 1291, 'मुश्\\u200dकिल': 1292, 'वाकई': 1293, 'बागानों': 1294, 'हरियाली': 1295, 'आवाजाही': 1296, 'ओनिकोमाइसिस': 1297, 'ज्यों': 1298, 'मोनास्टरी': 1299, 'बढ़े': 1300, 'घटा': 1301, 'कहाँ': 1302, 'उपस्थित': 1303, 'झमकने': 1304, 'लगीं': 1305, 'मेहमान': 1306, 'दावत': 1307, 'मैं': 1308, 'पहुँची': 1309, 'छुट्\\u200dटी': 1310, 'बिताना': 1311, 'चाहते': 1312, 'नियमित': 1313, 'मिलती': 1314, 'याददाश्त': 1315, 'घट': 1316, 'गौरवशाली': 1317, 'तमाम': 1318, 'पहला': 1319, 'पाया': 1320, 'कॉम्प्लेक्स': 1321, 'म्यूजियम': 1322, 'पुराना': 1323, 'छोड़ें': 1324, 'गुम': 1325, 'गुणवत्ता': 1326, 'जिसके': 1327, 'जिला': 1328, 'चिकित्सालयों': 1329, 'बेस': 1330, 'माइक्रोस्कोपिक': 1331, 'सेन्टर': 1332, 'परिवर्तित': 1333, 'बीमार': 1334, 'पड़ने': 1335, 'निरन्तर': 1336, 'त्वचा': 1337, 'बाल': 1338, 'विराजमान': 1339, 'एकाएक': 1340, 'दूसरे': 1341, 'कपड़े': 1342, 'पहनने': 1343, 'गुसलखाने': 1344, 'एंथोसाइनिन': 1345, 'बचाती': 1346, 'वैसे': 1347, 'एडवांस': 1348, 'खरीदना': 1349, 'सस्ता': 1350, 'पड़ता': 1351, 'आखिरी': 1352, 'पलों': 1353, 'प्लान': 1354, 'बढ़िया': 1355, 'प्लानिंग': 1356, 'अद्वितीय': 1357, 'हिल': 1358, 'ऊँचाई': 1359, 'सूचना': 1360, 'रहस्य': 1361, 'यदि': 1362, 'क्लिक': 1363, 'दूरी': 1364, 'कष्ट': 1365, 'चाहेगा': 1366, 'बीमारियों': 1367, 'लड़ने': 1368, 'शक्ति': 1369, 'धीरे': 1370, 'विटामिन-ए': 1371, 'लेना': 1372, 'व्यवस्थाओं': 1373, 'हमारी': 1374, 'सुबह-सुबह': 1375, 'मैंने': 1376, 'हॉलैंड': 1377, 'गहरे': 1378, 'बैठा': 1379, 'पियात्सा': 1380, 'डी': 1381, 'स्पाग्ना': 1382, 'खूब': 1383, 'मिस': 1384, 'बेहतरीन': 1385, 'मूर्तिकला': 1386, 'रूबरू': 1387, 'मौका': 1388, 'गवाँ': 1389, 'देंगे': 1390, 'नजारा': 1391, 'दिखाएँगे': 1392, 'हमेशा': 1393, 'भारतीय': 1394, 'व्यंजनों': 1395, 'सदियों': 1396, 'आर्थिक': 1397, 'अहिंसा': 1398, 'शुभारंभ': 1399, 'महात्मा': 1400, 'गांधी': 1401, 'दांडी': 1402, 'थी': 1403, 'हालत': 1404, 'ताकत': 1405, 'बिल्कुल': 1406, 'खत्म': 1407, 'नए': 1408, 'यात्री': 1409, 'मिल': 1410, 'इंतजार': 1411, 'उच्च': 1412, 'रक्तचाप': 1413, 'बढ़ना': 1414, 'थक्का': 1415, 'बनना': 1416, 'अत्यंत': 1417, 'हर्ष': 1418, 'विषाद': 1419, 'रुकें': 1420, 'किराये': 1421, 'असली': 1422, 'खूबसूरती': 1423, 'द्वीप': 1424, 'जाएगी': 1425, 'रॉक': 1426, 'पत्थरों': 1427, 'साम्राज्य': 1428, 'झरने': 1429, 'शोभायमान': 1430, 'गंगा': 1431, 'मायावी': 1432, 'संसार': 1433, 'विभूषित': 1434, 'सुना': 1435, 'ट्राइबल': 1436, 'लाइफ': 1437, 'दिखाने': 1438, 'पैकेज': 1439, 'रखे': 1440, 'नाइंसाफी': 1441, 'अनभिज्ञता': 1442, 'संकेत': 1443, 'बिजी': 1444, 'सीजन': 1445, 'ख्याल': 1446, 'आलीशान': 1447, 'राजमहल': 1448, 'खूबसूरत': 1449, 'म्यूजिम्स': 1450, 'सम्मोहित': 1451, 'जादू': 1452, 'रखता': 1453, 'पार्क': 1454, 'मंदिरों': 1455, 'म्यूजियमों': 1456, 'ख्याति': 1457, 'प्राप्\\u200dत': 1458, 'महाराजा': 1459, 'सयाजी': 1460, 'राव': 1461, 'विश्\\u200dवविद्यालय': 1462, 'महशूर': 1463, 'चौक': 1464, 'पिएजा': 1465, 'वेनेजिया': 1466, 'छूने': 1467, 'आपसी': 1468, 'मेल-जोल': 1469, 'अर्थ': 1470, 'ह्यूमन': 1471, 'इम्यूनो-डेफिशिएंशी': 1472, 'हूँ': 1473, 'साढ़े': 1474, 'तैयारी': 1475, 'उसने': 1476, 'सच': 1477, 'मंगल': 1478, 'हेतु': 1479, 'निदान': 1480, 'डायमंड': 1481, 'कैपिटल': 1482, 'ऑफ': 1483, 'वर्ल्ड': 1484, 'कहलाने': 1485, 'सूरत': 1486, 'जवाहरातों': 1487, 'स्थानीय': 1488, 'पारंपरिक': 1489, 'वस्तुओं': 1490, 'महत्त्वपूर्ण': 1491, 'केंद्र': 1492, 'खिलाफ़': 1493, 'महायात्रा': 1494, 'बैगेज': 1495, 'नियम': 1496, 'खासे': 1497, 'कड़े': 1498, 'साइज': 1499, 'पूछताछ': 1500, 'जरा': 1501, 'हटके': 1502, 'वह': 1503, 'हिस्सा': 1504, 'जिसका': 1505, 'फेवरिट': 1506, 'बुक': 1507, 'डिस्टर्ब': 1508, 'बावजूद': 1509, 'अकेले': 1510, 'विटामिन': 1511, 'ई': 1512, 'प्रचुर': 1513, 'बचाने': 1514, 'पराबैंगनी': 1515, 'किरणों': 1516, 'बारिश': 1517, 'तम्बाकू': 1518, 'दिसंबर': 1519, 'हफ्ते': 1520, 'कोच्चि': 1521, 'कोलंबो': 1522, 'इकलौता': 1523, 'हालांकि': 1524, 'स्थायी': 1525, 'समाधान': 1526, 'लेता': 1527, 'श्रमसाध्य': 1528, 'भाग': 1529, 'मांसपेशियों': 1530, 'नसों': 1531, 'क्रियाशीलता': 1532, 'गतिशीलता': 1533, 'समाप्त': 1534, 'नाक': 1535, 'नथुनों': 1536, 'सुबह-शाम': 1537, 'तेल': 1538, 'लगाएँ': 1539, 'बार-बार': 1540, 'लू': 1541, 'कोने': 1542, 'पसंद': 1543, 'खिड़की': 1544, 'बेहतर': 1545, 'रहेगी': 1546, 'बताया': 1547, 'परेशान': 1548, 'महिलाएँ': 1549, 'पाँच': 1550, 'ट्यूना': 1551, 'खाकर': 1552, 'तकलीफ': 1553, '68': 1554, 'फीसदी': 1555, 'घटाने': 1556, 'ताजे': 1557, 'मामलों': 1558, 'हाथों': 1559, 'पंजे': 1560, 'झुकें': 1561, 'सिर': 1562, 'जमीन': 1563, 'स्पर्श': 1564, 'करे': 1565, 'वॉशरूम': 1566, 'सुविधा': 1567, 'चूज': 1568, 'थोड़ी': 1569, 'देर': 1570, 'बैठना': 1571, 'लाइटिंग': 1572, 'लसिका': 1573, 'ग्रन्थियों': 1574, 'आकार': 1575, 'लैस': 1576, 'आसान': 1577, 'जन': 1578, 'स्वास्थ्य': 1579, 'केन्द्रों': 1580, 'खुल': 1581, 'चुका': 1582, 'मैनेजर': 1583, 'सुबह': 1584, 'हमारा': 1585, 'तय': 1586, 'शिक्षण': 1587, 'मूर्तियाँ': 1588, 'मानो': 1589, 'पड़ेंगी': 1590, 'भोजन': 1591, 'शैली': 1592, 'अपनाएँ': 1593, 'प्रवाह': 1594, 'बढ़ाते': 1595, 'सक्रियता': 1596, 'बढ़ती': 1597, '``': 1598, 'अन्धता': 1599, 'समितियों': 1600, 'व्यापक': 1601, 'निजी': 1602, 'शिविर': 1603, 'लगाये': 1604, 'देखकर': 1605, 'अंदाजा': 1606, 'बखूबी': 1607, 'पढ़कर': 1608, 'सीखते': 1609, 'फतेहगंज': 1610, 'कैंप': 1611, 'रोड': 1612, 'रेस्टोरेंट': 1613, 'बफे': 1614, 'जंक्शन': 1615, 'स्वादिष्\\u200dट': 1616, 'ब्रेकफास्ट': 1617, 'लुत्फ़': 1618, 'शोध': 1619, 'पोषक': 1620, 'मजबूत': 1621, 'बनाती': 1622, 'बी': 1623, 'बी-12': 1624, 'बी-6': 1625, 'फोलिक': 1626, 'एसिड': 1627, 'युक्त': 1628, 'खाद्य': 1629, 'स्ट्राबैरी': 1630, 'तरबूज': 1631, 'खरबूज': 1632, 'रसीले': 1633, 'सोयाबीन': 1634, 'बीचोंबीच': 1635, 'दिल्ली': 1636, 'जैसा': 1637, 'आरामदायक': 1638, 'अवधि': 1639, 'रखकर': 1640, 'पूर्व': 1641, 'आएँ': 1642, 'मन': 1643, 'सारी': 1644, 'चिंता': 1645, 'दुख': 1646, 'शोक': 1647, 'भय': 1648, 'मुक्त': 1649, 'सर्वश्रेष्ठ': 1650, 'प्रक्रिया': 1651, 'दोहरायी': 1652, 'चकत्ते': 1653, 'फोड़े-फुंसी': 1654, 'इतने': 1655, 'हेरिटेज': 1656, 'नाश्ता': 1657, 'सब': 1658, 'केन्द्रीय': 1659, 'तांत्रिक': 1660, 'तंत्रिका': 1661, 'क्रियाशील': 1662, 'संतुलित': 1663, 'नाड़ीशोधन': 1664, 'उज्जायी': 1665, 'प्राणायाम': 1666, 'रामबाण': 1667, 'भूमिका': 1668, 'निभाते': 1669, 'साइंस': 1670, 'अक्षरधाम': 1671, 'वैष्णों': 1672, 'देवी': 1673, 'प्रतिकृति': 1674, 'भ्रमण': 1675, 'शासक': 1676, 'विक्\\u200dटर': 1677, 'द्वितीय': 1678, 'समर्पित': 1679, 'सफेद': 1680, 'संगमरमर': 1681, 'बेमिसाल': 1682, '1885': 1683, '1911': 1684, 'पूरा': 1685, 'उधर': 1686, 'कभी': 1687, 'पेशवा': 1688, 'शासकों': 1689, 'महल': 1690, 'शनिवार': 1691, 'वडा': 1692, 'भगवान': 1693, 'रजनीश': 1694, 'ओशो': 1695, 'अधूरी': 1696, 'बेस्ट': 1697, 'डील': 1698, 'तलाश': 1699, 'साइट्स': 1700, 'मौजूद': 1701, 'क्षति': 1702, 'होमोसिसटीन': 1703, 'ल्यूटिन': 1704, 'जीजेनथिन': 1705, 'अहम': 1706, 'जिम्मेदार': 1707, 'गोदावरी': 1708, 'किनारे': 1709, 'जुर्म': 1710, 'कविता': 1711, 'करेंगे': 1712, 'औषधियों': 1713, 'सादा': 1714, 'सुपाच्य': 1715, 'चोकरयुक्त': 1716, 'आटे': 1717, 'रोटी': 1718, 'चावल': 1719, 'दलिया': 1720, 'मूंग': 1721, 'दाल': 1722, 'इनसे': 1723, 'पैथियॉन': 1724, ':-': 1725, 'अद्\\u200dभुत': 1726, '27': 1727, 'ईसा': 1728, 'स्तन': 1729, 'गाँठ': 1730, 'बोलने': 1731, 'चालने': 1732, 'ढाल': 1733, 'इमारतों': 1734, 'अवशेषों': 1735, 'कैरी': 1736, 'ऑन': 1737, 'बैग्स': 1738, 'सही': 1739, 'विषाणु': 1740, 'इंसानों': 1741, 'बचने': 1742, 'मॉलरोड': 1743, 'टहलते': 1744, 'शॉपिंग': 1745, 'योजना': 1746, 'चैन': 1747, 'सुख': 1748, 'सैरगाह': 1749, 'उन्नीस': 1750, 'सौ': 1751, 'शिक्षा': 1752, 'सत्र': 1753, '10-14': 1754, 'स्कूली': 1755, 'छात्रों': 1756, 'परीक्षण': 1757, 'अभियान': 1758, 'चलाया': 1759, 'गरीब': 1760, 'निशुल्क': 1761, 'वितरित': 1762, 'किये': 1763, 'अलविदा': 1764, 'कहने': 1765, 'पारम्परिक': 1766, 'गुड़': 1767, 'दही': 1768, 'खिला': 1769, 'उन्होंने': 1770, 'विदा': 1771, 'बिनाRP_NEG\\\\': 1772, 'कंभुक': 1773, 'इनका': 1774, 'योग्य': 1775, 'मार्गदर्शन': 1776, 'क्षमतानुसार': 1777, 'दिल': 1778, 'दहला': 1779, 'लड़ाइयाँ': 1780, 'चाहें': 1781, 'तलवारियों': 1782, 'जारी': 1783, 'लड़नेवाले': 1784, 'मौत': 1785, 'सड़कों': 1786, 'साइक्लिंग': 1787, 'रीवर': 1788, 'ठंडी': 1789, 'समुद्री': 1790, 'हवाओं': 1791, 'विश्\\u200dवप्रसिद्ध': 1792, 'गोवन': 1793, 'आनंद': 1794, 'उठाते': 1795, 'गुजारने': 1796, 'उत्कृष्\\u200dट': 1797, 'विकल्प': 1798, 'एच.आइ.वी.': 1799, 'मगर': 1800, 'कंपनी': 1801, 'इंश्योरेंस': 1802, 'भरपाई': 1803, 'ओमगा-3': 1804, 'फैट': 1805, 'बुढ़ापे': 1806, 'घावों': 1807, 'पकने': 1808, 'गुंजाइश': 1809, 'पैप': 1810, 'लड़कियों': 1811, 'दूरबीन': 1812, 'सहारे': 1813, 'पहाड़ी': 1814, 'उठने': 1815, 'बैठने': 1816, 'सँकरी': 1817, 'चलते': 1818, 'अजबगढ़': 1819, 'किला': 1820, 'धीरे-धीरे': 1821, 'सूरज': 1822, 'फैल': 1823, 'फायदे': 1824, 'लिवरपूल': 1825, 'यूनिवर्सिटी': 1826, 'आप्थैमोलॉजी': 1827, 'अध्यक्ष': 1828, 'विख्यात': 1829, 'नेत्ररोग': 1830, 'शोधकर्ता': 1831, 'डॉ.': 1832, 'इयान': 1833, 'ग्रीयरसन': 1834, 'उनसे': 1835, 'मान्यता': 1836, 'दोबारा': 1837, 'मनोकामना': 1838, 'सिक्का': 1839, 'डालना': 1840, 'शल्यचिकित्सा': 1841, 'क्रान्तिकारी': 1842, 'आविष्कार': 1843, 'दर्द': 1844, 'लाल': 1845, 'कणिकाएँ': 1846, 'पहुँचाती': 1847, 'निश्चेतक': 1848, 'दवा': 1849, 'देनी': 1850, 'कराएँ': 1851, 'तारीख': 1852, 'वापसी': 1853, '28': 1854, 'इंग्वाईनल': 1855, 'उपचार': 1856, 'आघात': 1857, 'तन': 1858, 'प्रसन्न': 1859, 'रहेंगे': 1860, 'भीड़': 1861, 'सफल': 1862, 'गाड़ी': 1863, 'उठकर': 1864, 'बतासिया': 1865, 'लूप': 1866, 'बिजली': 1867, 'स्विच': 1868, 'आन': 1869, 'हाथ': 1870, 'उलटे': 1871, 'तरीके': 1872, 'अपनाकर': 1873, 'बंद': 1874, 'खिड़कियों': 1875, 'खोल': 1876, 'यूरोपीय': 1877, 'व्यवसाय': 1878, 'नामी': 1879, 'गिरामी': 1880, 'मेजबान': 1881, 'जैकी': 1882, 'सज्जाकार': 1883, 'सहसा': 1884, 'उठी': 1885, '601': 1886, 'माना': 1887, 'ख्वाहिश': 1888, 'कलाई': 1889, 'मौली': 1890, 'बांधने': 1891, 'मंगलाचार': 1892, 'मंत्र': 1893, 'उच्चारण': 1894, 'गौरतलब': 1895, 'मार्ग': 1896, 'समाजिक': 1897, 'राजनैतिक': 1898, 'गतिविधियाँ': 1899, 'मोबाइल': 1900, 'फोन': 1901, 'इंटरनेट': 1902, 'रोमैनम': 1903, 'राजभवन': 1904, 'स्तंभों': 1905, 'सफाई': 1906, 'बाहर': 1907, 'सेंट': 1908, 'पीटर': 1909, 'स्क्वेयर': 1910, 'नया': 1911, 'कलात्मक': 1912, 'आश्\\u200dचर्य': 1913, 'पुरस्कार': 1914, 'यूँ': 1915, 'जिले': 1916, 'दस्त': 1917, 'खाँसी': 1918, 'आडियो': 1919, 'सुनकर': 1920, 'पंजिम': 1921, 'बनाता': 1922, 'अवयवों': 1923, 'चोट': 1924, 'लगने': 1925, 'संभावना': 1926, 'सुधर': 1927, 'सुप्तवज्रासन': 1928, 'त्रिकोणासन': 1929, 'उत्तानपादासन': 1930, 'गोमुखासन': 1931, 'अर्धमत्स्येंद्रासन': 1932, 'उतना': 1933, 'सक्षम': 1934, 'बनेगा': 1935, 'मीठे': 1936, 'कतरन': 1937, 'बुरक': 1938, 'गुजराती': 1939, 'संस्कार': 1940, 'शापिंग': 1941, 'विकल्पों': 1942, 'भरमार': 1943, 'मकर': 1944, 'संक्रांति': 1945, 'नवरात्रि': 1946, 'रंगीन': 1947, 'उत्सवों': 1948, 'चमक-दमक': 1949, 'मनपसंद': 1950, 'हथियाने': 1951, 'फिराक': 1952, 'बैग': 1953, 'रख': 1954, 'दबोच': 1955, 'शिरडी': 1956, 'साईं': 1957, 'बाबा': 1958, 'नेत्ररोगों': 1959, 'बचे': 1960, 'धूम्रपान': 1961, 'मद्यपान': 1962, 'नशीली': 1963, 'दवाओं': 1964, 'ट्रडिशनल': 1965, 'कुजीन': 1966, 'सर्व': 1967, 'शबाना': 1968, 'आजमी': 1969, 'तहेदिल': 1970, 'बुलाया': 1971, 'सकी': 1972, 'आँखें': 1973, 'बदलना': 1974, 'विषय': 1975, 'खेल': 1976, 'सीखना': 1977, 'निवासी': 1978, 'अनूठे': 1979, 'हवेलियों': 1980, 'महलों': 1981, 'प्रेरित': 1982, 'मकसद': 1983, 'रहन': 1984, 'सहन': 1985, 'परंपराओं': 1986, 'करवाना': 1987, 'बाग-बगीचे': 1988, 'विला': 1989, 'लेनी': 1990, 'घंटा': 1991, 'उठाने': 1992, 'विया': 1993, 'डेल': 1994, 'कोर्सो': 1995, 'जहाज': 1996, 'एमवी': 1997, 'एक्वामैरिन': 1998, '5850': 1999, 'रात्रि': 2000, 'टूरिज्म': 2001, 'खींचती': 2002, 'पानी': 2003, 'रेल': 2004, 'गुलाबी': 2005, 'उदयपुर': 2006, 'लेक': 2007}\n"
          ],
          "name": "stdout"
        }
      ]
    },
    {
      "cell_type": "code",
      "metadata": {
        "id": "QsVzRHobWS6H",
        "colab_type": "code",
        "colab": {}
      },
      "source": [
        "def get_index_to_word_dict(vocab):\n",
        "  index_to_word = {}\n",
        "  for i, word in enumerate(vocab):\n",
        "    index_to_word[i] = word\n",
        "  return index_to_word  "
      ],
      "execution_count": 0,
      "outputs": []
    },
    {
      "cell_type": "code",
      "metadata": {
        "id": "emK-h7Q_WupP",
        "colab_type": "code",
        "colab": {}
      },
      "source": [
        "src_index_to_word = get_index_to_word_dict(src_vocab)\n",
        "dest_index_to_word = get_index_to_word_dict(dest_vocab)"
      ],
      "execution_count": 0,
      "outputs": []
    },
    {
      "cell_type": "code",
      "metadata": {
        "id": "DfwvjDszW37B",
        "colab_type": "code",
        "outputId": "1798f40d-ab27-4ddc-ae74-94d50b8b8f28",
        "colab": {
          "base_uri": "https://localhost:8080/",
          "height": 72
        }
      },
      "source": [
        "print(src_index_to_word)\n",
        "print(dest_index_to_word)"
      ],
      "execution_count": 0,
      "outputs": [
        {
          "output_type": "stream",
          "text": [
            "{0: 'After', 1: 'the', 2: 'opening', 3: 'of', 4: 'Aman', 5: 'Bagh', 6: 'big', 7: 'personas', 8: 'our', 9: 'nation', 10: 'and', 11: 'abroad', 12: 'reached', 13: 'here', 14: '.', 15: 'With', 16: 'division', 17: 'in', 18: 'CD-4', 19: 'cells', 20: 'many', 21: 'viruses', 22: 'enter', 23: 'into', 24: 'blood-circulation', 25: 'Among', 26: 'chief', 27: 'reasons', 28: 'blindness', 29: ',', 30: 'cataract', 31: 'is', 32: '55', 33: 'percent', 34: 'vision', 35: 'problems', 36: '19', 37: 'black', 38: '4', 39: 'corneal', 40: 'pathology', 41: '7', 42: 'others', 43: '15', 44: 'It', 45: \"'s\", 46: 'a', 47: 'different', 48: 'matter', 49: 'that', 50: 'she', 51: 'herself', 52: 'Bhaangadh', 53: 'after', 54: 'losing', 55: 'way', 56: 'Such', 57: 'glimpse', 58: 'village', 59: 'life', 60: 'was', 61: 'wonderful', 62: 'experience', 63: 'for', 64: 'Jackie', 65: 'Its', 66: 'ruins', 67: 'can', 68: 'be', 69: 'seen', 70: 'around', 71: 'it', 72: 'even', 73: 'today', 74: 'In', 75: 'front', 76: 'Capitoline', 77: 'brass', 78: 'statue', 79: 'emperor', 80: 'Marcus', 81: 'Oraleous', 82: 'riding', 83: 'horse', 84: 'who', 85: 'ruled', 86: 'on', 87: 'Rome', 88: 'till', 89: '160', 90: '-', 91: '180', 92: 'A', 93: 'Pay', 94: 'attention', 95: 'to', 96: 'bodily', 97: 'cleanliness', 98: 'The', 99: 'most', 100: 'popular', 101: 'tourist', 102: 'spot', 103: 'Kalimpong', 104: 'are', 105: 'Lava', 106: 'Lolegaon', 107: 'which', 108: 'filled', 109: 'with', 110: 'forests', 111: 'rapids', 112: 'Do', 113: 'not', 114: 'oppose', 115: 'people', 116: 'living', 117: 'AIDS', 118: 'capital', 119: 'Italy', 120: 'among', 121: 'those', 122: 'ancient', 123: 'cities', 124: 'world', 125: 'from', 126: 'where', 127: 'development', 128: 'civilizations', 129: 'took', 130: 'place', 131: 'journey', 132: 'Gujarat', 133: 'abutting', 134: 'western', 135: 'coast', 136: 'Goa', 137: 'marvellous', 138: 'visit', 139: 'golden', 140: 'historical', 141: 'witnesses', 142: 'granduer', 143: 'Peshwa', 144: 'period', 145: 'Pune', 146: 'sabarmati', 147: 'ashram', 148: 'Ahmadabad', 149: 'mukti', 150: 'andolan', 151: 'found', 152: 'Wherever', 153: 'bus', 154: 'stops', 155: 'come', 156: 'back', 157: 'time', 158: 'carving', 159: 'this', 160: 'memorial', 161: 'victory', 162: 'signs', 163: 'made', 164: 'worth', 165: 'seeing', 166: 'This', 167: 'million', 168: 'dollar', 169: 'priceless', 170: 'moment', 171: 'famous', 172: 'fountain', 173: \"'\", 174: 'Treva', 175: 'For', 176: 'example', 177: 'cancer', 178: '-LRB-', 179: 'abdominal', 180: '-RRB-', 181: 'diseases', 182: 'liver', 183: 'related', 184: 'intestine', 185: 'etc', 186: 'help', 187: 'protect', 188: 'body', 189: 'Mind', 190: 'comfort', 191: 'while', 192: 'chosing', 193: 'seat', 194: 'Here', 195: 'unknown', 196: 'soldiers', 197: 'martyered', 198: 'World', 199: 'War', 200: 'I', 201: 'were', 202: 'burried', 203: 'Rub', 204: 'top', 205: 'bottom', 206: 'furred', 207: 'towel', 208: 'bathing', 209: 'Themain', 210: 'attractions', 211: 'fountains', 212: 'Lodging', 213: 'meals', 214: 'alo', 215: 'included', 216: 'thing', 217: 'remembered', 218: 'long', 219: 'only', 220: 'when', 221: 'paid', 222: 'Brain', 223: 'also', 224: 'kept', 225: 'sharpened', 226: 'by', 227: 'adopting', 228: 'some', 229: 'good', 230: 'habits', 231: 'main', 232: 'reason', 233: 'about', 234: 'all', 235: 'On', 236: 'moving', 237: 'little', 238: 'more', 239: 'ahead', 240: 'downwards', 241: 'Gangamaya', 242: 'sorrounded', 243: 'mountains', 244: 'By', 245: 'smoking', 246: 'cigarette', 247: 'arteries', 248: 'bringing', 249: 'oxygen', 250: 'brain', 251: 'start', 252: 'shrinking', 253: 'starts', 254: 'weakening', 255: 'Immune', 256: 'system', 257: 'identifies', 258: 'disease-carrier', 259: 'or', 260: '`', 261: 'external', 262: 'invaders', 263: 'like', 264: 'virus', 265: 'bacteria', 266: 'kills', 267: 'them', 268: 'To', 269: 'extract', 270: 'appendix', 271: 'case', 272: 'swelling', 273: 'reclining', 274: 'bed', 275: 'Paulin', 276: 'sister', 277: 'Napolean', 278: 'married', 279: 'Borgis', 280: 'royal', 281: 'family', 282: 'looks', 283: 'so', 284: 'real', 285: 'moments', 286: 'you', 287: 'will', 288: 'able', 289: 'see', 290: 'her', 291: 'continously', 292: 'Although', 293: 'itself', 294: 'but', 295: '1926', 296: 'onwards', 297: 'has', 298: 'been', 299: 'given', 300: 'status', 301: 'an', 302: 'independent', 303: 'state', 304: 'Try', 305: 'remember', 306: 'any', 307: 'information', 308: 'through', 309: 'words', 310: 'pictures', 311: 'patient', 312: 'stays', 313: 'week', 314: 'simple', 315: 'surgical', 316: 'operation', 317: 'H', 318: 'infected', 319: 'persons', 320: 'taken', 321: 'full', 322: 'care', 323: 'assisted', 324: 'member', 325: 'affected', 326: 'live', 327: 'dignified', 328: 'complete', 329: 'necessary', 330: 'give', 331: 'suggestions', 332: 'person', 333: 'their', 334: 'members', 335: 'IN', 336: 'coloseum', 337: 'Galdiaters', 338: 'mean', 339: 'fencers', 340: 'used', 341: 'display', 342: 'performance', 343: 'Why', 344: 'discrimination', 345: 'patients', 346: 'equal', 347: 'doctor', 348: 'rising', 349: 'interference', 350: 'technology', 351: 'day-to-day', 352: 'us', 353: 'very', 354: 'luxurious', 355: 'spreads', 356: 'mother', 357: 'issues', 358: 'danger', 359: 'glaucoma', 360: 'decreased', 361: 'great', 362: 'extent', 363: 'taking', 364: 'diet', 365: 'rich', 366: 'vitamin-C', 367: 'Eating', 368: 'spinach', 369: 'broccoli', 370: 'germinated', 371: 'grains', 372: 'may', 373: 'beneficial', 374: 'regard', 375: 'Because', 376: 'one', 377: 'attraction', 378: 'allured', 379: 'Common', 380: 'causing', 381: 'prevented', 382: 'increasing', 383: 'amount', 384: 'omega-3', 385: 'oils', 386: 'special', 387: 'plants', 388: 'Treatment', 389: 'at', 390: 'office', 391: 'home', 392: 'friends', 393: 'should', 394: 'same', 395: 'as', 396: 'earlier', 397: 'enjoy', 398: 'there', 399: 'points', 400: 'specially', 401: 'then', 402: 'foreign', 403: 'destination', 404: 'tour', 405: 'Which', 406: 'method', 407: 'convenient', 408: '?', 409: 'built', 410: 'Emanuel', 411: '20', 412: 'years', 413: 'constructed', 414: 'Yoganidra', 415: 'cause', 416: 'problem', 417: 'mental', 418: 'tension', 419: 'sentimental', 420: 'imbalance', 421: 'Fever', 422: 'does', 423: 'go', 424: 'down', 425: 'diarrhoea', 426: 'stop', 427: 'weight', 428: 'decreases', 429: 'due', 430: 'Lui', 431: 'cruise', 432: 'postponed', 433: 'its', 434: 'services', 435: 'now', 436: 'hope', 437: 'resuming', 438: 'October', 439: 'They', 440: 'inexpensive', 441: 'settled', 442: 'Tiber', 443: 'river', 444: 'pilgrimage', 445: 'followers', 446: 'Roman', 447: 'Catholic', 448: 'religion', 449: 'because', 450: 'residence', 451: 'head', 452: 'Pope', 453: 'attacks', 454: 'immune', 455: 'destroys', 456: 'Prevention', 457: 'propagation', 458: 'Taking', 459: 'plenty', 460: 'fruits', 461: 'vegetables', 462: 'proved', 463: 'health', 464: 'along', 465: 'Besides', 466: 'drinking', 467: 'milk', 468: 'eating', 469: 'carrot', 470: 'hormone', 471: 'cortisol', 472: 'harms', 473: 'hippocampus', 474: 'seriously', 475: 'Infected', 476: 'normal', 477: '10', 478: 'Identify', 479: 'use', 480: 'There', 481: 'no', 482: 'better', 483: 'solution', 484: 'eat', 485: 'fish', 486: 'keeping', 487: 'eyes', 488: 'healthy', 489: 'if', 490: 'non-vegetarian', 491: 'Where', 492: 'known', 493: 'multicolor', 494: 'culture', 495: 'Maharashtra', 496: 'diversity', 497: 'various', 498: 'beautiful', 499: 'beaches', 500: 'thick', 501: 'historic', 502: 'forts', 503: 'religious', 504: 'places', 505: 'we', 506: 'sunset', 507: 'mind', 508: 'round', 509: 'garden', 510: 'Instead', 511: 'two', 512: 'trip', 513: 'enquire', 514: 'almost', 515: '300', 516: 'buildings', 517: 'such', 518: 'magnificent', 519: 'Use', 520: 'warm', 521: 'water', 522: 'prevalence', 523: 'rate', 524: 'India', 525: '1', 526: 'bring', 527: '0', 528: 'National', 529: 'Programme', 530: 'Control', 531: 'Blindness', 532: 'started', 533: 'Government', 534: 'Now', 535: 'point', 536: 'craftiness', 537: 'exercise', 538: 'another', 539: 'side', 540: 'Apart', 541: 'internal', 542: 'parts', 543: 'chest', 544: 'cured', 545: 'tower', 546: 'identity', 547: 'monument', 548: 'several', 549: 'symptoms', 550: 'showing', 551: 'up', 552: 'inkling', 553: 'Not', 554: 'going', 555: 'staying', 556: 'old', 557: 'wall', 558: 'witness', 559: 'days', 560: 'Tuberculosis', 561: 'pneumonia', 562: 'encircle', 563: 'Along', 564: 'chemical', 565: 'agents', 566: 'oozes', 567: 'save', 568: 'getting', 569: 'destroyed', 570: 'construction', 571: 'huge', 572: 'arena', 573: 'done', 574: '80', 575: 'B', 576: 'than', 577: '50', 578: 'thousand', 579: 'audience', 580: 'could', 581: 'sit', 582: 'together', 583: 'they', 584: 'fit', 585: 'racks', 586: 'above', 587: 'First', 588: 'walk', 589: 'Ram', 590: 'Babu', 591: 'Jeep', 592: 'Vadodra', 593: 'unique', 594: 'confluence', 595: 'business', 596: 'art', 597: 'Wounds', 598: 'blisters', 599: 'mouth', 600: 'nobody', 601: 'calls', 602: 'English', 603: 'form', 604: 'address', 605: 'Actually', 606: 'early', 607: 'reach', 608: 'options', 609: 'have', 610: 'my', 611: 'ears', 612: 'guide', 613: 'Meena', 614: 'echo', 615: ':', 616: 'Saahiba', 617: 'befor', 618: 'ethis', 619: 'think', 620: 'stay', 621: 'thisin', 622: 'forest', 623: 'new', 624: 'relating', 625: 'Sita', 626: 'Lakshman', 627: 'had', 628: 'spent', 629: 'exile', 630: 'Establish', 631: 'familiarity', 632: 'driver', 633: 'conductor', 634: 'ward', 635: 'off', 636: 'disease', 637: 'peptic', 638: 'ulcer', 639: 'first', 640: 'bagh', 641: 'surrounded', 642: 'under', 643: 'shadow', 644: 'dense', 645: 'trees', 646: 'allure', 647: 'your', 648: 'heart', 649: 'From', 650: 'Ginger', 651: 'hotel', 652: 'Nasik', 653: 'Trimbkeshwar', 654: 'temple', 655: 'Vipashyana', 656: 'center', 657: 'Nandur', 658: 'Madhmeshwar', 659: 'bird', 660: 'sanctuary', 661: 'connected', 662: 'well', 663: 'Vitamin', 664: 'E', 665: 'antioxidants', 666: 'tomato', 667: 'green-tea', 668: 'sweet', 669: 'potato', 670: 'Under', 671: 'Nation', 672: 'blind', 673: 'being', 674: 'benefited', 675: 'understood', 676: 'why', 677: 'over', 678: 'spending', 679: 'much', 680: 'neighbor', 681: 'equipped', 682: 'sea', 683: 'shores', 684: 'sports', 685: 'heaven', 686: 'tourists', 687: 'churches', 688: 'look', 689: 'grandeur', 690: 'era', 691: 'easily', 692: 'Darjeeling', 693: 'Dhooma', 694: 'dn', 695: 'Dhoom', 696: 'Laparoscopic', 697: 'takes', 698: 'double', 699: 'comparison', 700: 'treatment', 701: 'maintain', 702: 'secrecy', 703: 'said', 704: 'Europe', 705: 'nothing', 706: 'Including', 707: 'these', 708: 'things', 709: 'weakened', 710: 'Also', 711: 'take', 712: 'during', 713: 'changing', 714: 'responsibility', 715: 'luggage', 716: 'own', 717: 'Start', 718: 'light', 719: 'means', 720: 'three', 721: 'day', 722: 'fair', 723: 'less', 724: 'Rs', 725: '18', 726: 'practiced', 727: 'lying', 728: 'These', 729: 'possibilities', 730: 'negligible', 731: 'laparoscopy', 732: 'Huge', 733: 'shops', 734: 'church', 735: 'palace', 736: 'enhance', 737: 'Today', 738: 'small', 739: 'hole', 740: 'sufficient', 741: 'remove', 742: 'abdomen', 743: 'surgery', 744: 'key', 745: 'button', 746: 'reaching', 747: 'Malè', 748: 'according', 749: 'pocket', 750: 'available', 751: 'entertainments', 752: 'activities', 753: 'plane', 754: 'ride', 755: 'underwater', 756: 'lunch', 757: 'fruit', 758: 'vegetable', 759: 'meal', 760: 'enough', 761: 'Frequent', 762: 'fever', 763: 'month', 764: 'Details', 765: 'important', 766: 'below', 767: 'Famous', 768: 'sculptor', 769: 'Michelangelo', 770: 'stairs', 771: 'climb', 772: '1536', 773: 'But', 774: 'lack', 775: 'incomplete', 776: 'sleep', 777: 'tiredness', 778: 'whole', 779: 'becomes', 780: 'difficult', 781: 'concentrate', 782: 'work', 783: 'medicine', 784: 'affect', 785: 'So', 786: 'left', 787: 'Boating', 788: 'Mirik', 789: 'lake', 790: 'short', 791: 'break', 792: 'That', 793: 'bilberry', 794: 'blackberry', 795: 'breakfast', 796: 'salad', 797: 'mood', 798: 'weather', 799: 'clean', 800: 'uptill', 801: 'need', 802: 'hospital', 803: 'stitches', 804: 'applied', 805: 'Saw', 806: 'dry', 807: 'farmers', 808: 'farming', 809: 'Generally', 810: 'pure', 811: 'lens', 812: 'capsule', 813: 'dim', 814: 'milky', 815: 'inside', 816: 'Avoid', 817: 'citrus', 818: 'food', 819: 'item', 820: 'If', 821: 'keep', 822: 'interest', 823: 'artefacts', 824: 'do', 825: 'Everybody', 826: 'his', 827: 'learn', 828: 'anything', 829: 'Make', 830: 'habit', 831: 'color', 832: 'smell', 833: 'taste', 834: 'forget', 835: 'later', 836: 'lethal', 837: 'impact', 838: 'capacity', 839: 'Woithout', 840: 'doubt', 841: 'happens', 842: 'nationsand', 843: 'show', 844: 'Tension', 845: 'let', 846: 'history', 847: 'best', 848: 'introduces', 849: 'nearby', 850: 'areas', 851: 'staffs', 852: 'eye', 853: 'department', 854: 'trained', 855: 'levels', 856: 'reduce', 857: 'Entertainment', 858: 'everytime', 859: 'print', 860: 'visible', 861: 'civilization', 862: 'Therefore', 863: 'everybody', 864: 'hundred', 865: 'grams', 866: 'green', 867: 'Places', 868: 'Ramayan', 869: 'Panchvati', 870: 'cave', 871: 'Ramkund', 872: 'situated', 873: 'We', 874: 'Kolkata', 875: 'roam', 876: 'coolness', 877: 'tea', 878: 'estates', 879: 'spread', 880: 'siligudi', 881: 'tied', 882: 'me', 883: 'themselves', 884: 'know', 885: 'almond', 886: 'cashew', 887: 'nut', 888: 'walnut', 889: 'raisins', 890: 'etcetera', 891: 'besides', 892: 'nutritious', 893: 'scene', 894: 'expanded', 895: 'screen', 896: 'television', 897: 'clearer', 898: 'directly', 899: 'Remembering', 900: 'chart', 901: 'would', 902: 'prove', 903: 'helpful', 904: 'might', 905: 'happen', 906: 'terminal', 907: 'extra', 908: 'fee', 909: 'magic', 910: 'waterfalls', 911: 'between', 912: 'rocks', 913: 'put', 914: 'attempt', 915: 'explore', 916: 'cinsiderable', 917: 'effect', 918: 'nature', 919: 'lifestyle', 920: 'Due', 921: 'devotees', 922: 'feel', 923: 'prayerrs', 924: 'reching', 925: 'Gods', 926: 'Active', 927: 'governmental', 928: 'non-governmental', 929: 'voluntary', 930: 'organizations', 931: 'Eye', 932: 'Test', 933: 'Sahiba', 934: 'style', 935: 'how', 936: 'Vatican', 937: 'city', 938: 'Students', 939: 'senior', 940: 'ministry', 941: 'kids', 942: 'get', 943: 'discount', 944: 'arrangement', 945: 'cure', 946: 'medicines', 947: 'sciatica', 948: 'slip', 949: 'disk', 950: 'avoid', 951: 'practice', 952: '1986', 953: '2002', 954: 'number', 955: 'become', 956: 'forty', 957: 'five', 958: 'lacs', 959: 'ones', 960: 'holidays', 961: 'Rajasthan', 962: 'visited', 963: 'ghosts', 964: 'far', 965: 'Jaipurites', 966: 'perhaps', 967: 'must', 968: 'night', 969: 'Both', 970: 'hotels', 971: 'middle', 972: 'Pimpri', 973: 'industrial', 974: 'area', 975: 'named', 976: 'Vakaad', 977: 'Bengaluru', 978: 'highway', 979: 'testified', 980: 'six-year', 981: 'study', 982: 'American', 983: 'Institute', 984: 'element', 985: 'saves', 986: 'grand', 987: 'surprise', 988: 'administering', 989: 'blood', 990: 'You', 991: 'bumps', 992: 'reading', 993: 'comfortable', 994: 'Paralysis', 995: 'controlled', 996: 'yoga', 997: 'following', 998: 'consequences', 999: 'caught', 1000: 'Tou', 1001: 'trains', 1002: 'Thee', 1003: 'works', 1004: 'fundamental', 1005: 'fourteenth', 1006: 'century', 1007: 'Cervial', 1008: 'elders', 1009: 'children', 1010: 'age', 1011: 'absolutely', 1012: 'free', 1013: 'contagious', 1014: 'gall', 1015: 'bladder', 1016: 'stone', 1017: 'emerged', 1018: 'symbol', 1019: 'Colloseum', 1020: 'limited', 1021: 'half', 1022: 'face', 1023: 'identifying', 1024: 'suffering', 1025: 'doctors', 1026: 'helpers', 1027: 'perform', 1028: 'screening', 1029: 'hospitals', 1030: 'mine', 1031: 'recently', 1032: 'interesting', 1033: 'thrilling', 1034: 'divided', 1035: 'drive', 1036: 'expressway', 1037: 'called', 1038: 'Baroda', 1039: 'cosmopolitan', 1040: 'tradition', 1041: 'unboiled', 1042: 'needle', 1043: 'Read', 1044: 'attentively', 1045: 'whatever', 1046: 'before', 1047: 'forward', 1048: 'eight', 1049: 'seconds', 1050: 'remains', 1051: 'fresh', 1052: 'having', 1053: 'entering', 1054: 'HIV', 1055: 'increases', 1056: 'fast', 1057: 'reproducing', 1058: 'gets', 1059: 'born', 1060: 'thus', 1061: 'museum', 1062: 'Janushirasana', 1063: 'presented', 1064: 'stretching', 1065: 'both', 1066: 'legs', 1067: 'include', 1068: 'sharp', 1069: 'See', 1070: 'operated', 1071: 'eye-surgeon', 1072: 'maintained', 1073: 'daily', 1074: 'ten', 1075: 'twenty', 1076: 'minutes', 1077: 'fact', 1078: 'compete', 1079: 'wild', 1080: 'animals', 1081: 'What', 1082: 'joy', 1083: 'Situated', 1084: 'behind', 1085: 'Himalaya', 1086: 'Mall', 1087: 'colorful', 1088: 'ambience', 1089: 'ultra', 1090: 'modern', 1091: 'facilities', 1092: 'air', 1093: 'conditioned', 1094: 'romms', 1095: 'make', 1096: 'yours', 1097: 'memorable', 1098: 'route', 1099: 'Pasupathinath', 1100: 'hand', 1101: 'sweaters', 1102: 'ets', 1103: 'Napelese', 1104: 'artisans', 1105: 'While', 1106: 'roaming', 1107: 'airplanes', 1108: 'suddenly', 1109: 'Sea', 1110: 'stands', 1111: 'toy', 1112: 'Bending', 1113: 'right', 1114: 'leg', 1115: 'knee', 1116: 'touch', 1117: 'sole', 1118: 'heel', 1119: 'genitals', 1120: 'eggs', 1121: 'Spectacles', 1122: 'tested', 1123: '6', 1124: 'weeks', 1125: 'repair', 1126: 'hiatus', 1127: 'hernia', 1128: 'Hundreds', 1129: 'creatures', 1130: 'microscope', 1131: 'Fifty', 1132: 'staff', 1133: 'situation', 1134: 'complexities', 1135: 'clotting', 1136: 'vessels', 1137: 'syndrome', 1138: 'usually', 1139: 'prepared', 1140: 'four', 1141: 'heavy', 1142: 'hard', 1143: 'digest', 1144: 'coffee', 1145: 'tobacco', 1146: 'intoxicating', 1147: 'exciting', 1148: 'May', 1149: 'visual', 1150: 'learner', 1151: 'read', 1152: 'aloud', 1153: 'Since', 1154: 'sixth', 1155: 'residential', 1156: 'supreme', 1157: 'leader', 1158: 'catholic', 1159: 'unprotected', 1160: 'sex', 1161: 'relations', 1162: 'Lets', 1163: 'move', 1164: 'telling', 1165: 'meeting', 1166: 'Forum', 1167: 'improves', 1168: 'add', 1169: 'Pavanmuktasana', 1170: 'Vajrasana', 1171: 'Shashankasana', 1172: 'Makarasana', 1173: 'Maintain', 1174: 'safe', 1175: 'dome', 1176: 'wide', 1177: '30', 1178: 'feet', 1179: 'land', 1180: 'multicoloured', 1181: 'heritage', 1182: 'yogic', 1183: 'overcome', 1184: 'surely', 1185: 'Community', 1186: 'Service', 1187: 'Centre', 1188: 'unaffected', 1189: 'welcomed', 1190: 'appears', 1191: 'divine', 1192: 'peace', 1193: 'seven', 1194: 'gardens', 1195: 'kings', 1196: 'Alwar', 1197: 'camp', 1198: 'hunting', 1199: 'Yes', 1200: 'giving', 1201: 'expense', 1202: 'demand', 1203: 'patience', 1204: 'out', 1205: 'sure', 1206: 'thinking', 1207: 'tours', 1208: 'actually', 1209: 'provide', 1210: 'kind', 1211: 'greenery', 1212: 'commuting', 1213: 'onikomysis', 1214: 'soon', 1215: 'monastery', 1216: \"n't\", 1217: 'did', 1218: 'mass', 1219: 'cloud', 1220: 'begin', 1221: 'shower', 1222: 'feast', 1223: 'guest', 1224: 'felt', 1225: 'want', 1226: 'spend', 1227: 'fantastic', 1228: 'holiday', 1229: 'regular', 1230: 'memory', 1231: 'complex', 1232: 'During', 1233: 'leave', 1234: 'stuff', 1235: 'officials', 1236: 'loss', 1237: 'Special', 1238: 'quality', 1239: 'district', 1240: 'base', 1241: 'converted', 1242: 'Microscopic', 1243: 'Centres', 1244: 'falling', 1245: 'ill', 1246: 'again', 1247: 'continuously', 1248: 'goes', 1249: 'skin', 1250: 'hair', 1251: 'remain', 1252: 'sharpen', 1253: 'placed', 1254: 'low', 1255: 'Sudden', 1256: 'decrease', 1257: 'profitable', 1258: 'wearing', 1259: 'each-other', 1260: 'clothes', 1261: 'using', 1262: 'bathroom', 1263: 'Bilberry', 1264: 'anthocyanin', 1265: 'Buying', 1266: 'ticket', 1267: 'advance', 1268: 'cheaper', 1269: 'plan', 1270: 'planning', 1271: 'last', 1272: 'wobderful', 1273: 'hill', 1274: 'height', 1275: 'anyone', 1276: 'bother', 1277: 'piece', 1278: 'secret', 1279: 'just', 1280: 'click', 1281: 'away', 1282: 'gradually', 1283: 'vitamin-A', 1284: 'infection', 1285: 'sharpens', 1286: 'Early', 1287: 'morning', 1288: 'Holland', 1289: 'sitting', 1290: 'deep', 1291: 'meditation', 1292: 'Piazza', 1293: 'di', 1294: 'Spagna', 1295: 'meet', 1296: 'each', 1297: 'other', 1298: 'evenings', 1299: 'missing', 1300: 'lose', 1301: 'oppurtunity', 1302: 'coming', 1303: 'No', 1304: 'remembring', 1305: 'always', 1306: 'Indian', 1307: 'cuisines', 1308: 'continuing', 1309: 'centuries', 1310: 'economic', 1311: 'beginning', 1312: 'non', 1313: 'violence', 1314: 'movement', 1315: 'began', 1316: 'Mahatma', 1317: 'Gandhi', 1318: 'Journey', 1319: 'Dandi', 1320: 'Sabarmati', 1321: 'Ashram', 1322: 'power', 1323: 'fight', 1324: 'against', 1325: 'totally', 1326: 'languishes', 1327: 'ends', 1328: 'thenn', 1329: 'passanger', 1330: 'wait', 1331: 'high', 1332: 'pressure', 1333: 'extreme', 1334: 'happiness', 1335: 'sorrow', 1336: 'halt', 1337: 'rent', 1338: 'beauty', 1339: 'Maldives', 1340: 'island', 1341: 'willprove', 1342: 'rock', 1343: 'empire', 1344: 'stones', 1345: 'magical', 1346: 'Ganga', 1347: 'maya', 1348: 'ornate', 1349: 'heard', 1350: 'packages', 1351: 'organized', 1352: 'tribal', 1353: 'Discrimination', 1354: 'unjust', 1355: 'indicator', 1356: 'unawareness', 1357: 'busy', 1358: 'season', 1359: 'museums', 1360: 'posess', 1361: 'hypnotising', 1362: 'glance', 1363: 'parks', 1364: 'temples', 1365: 'Maharaja', 1366: 'Sayaji', 1367: 'Rao', 1368: 'University', 1369: 'Beside', 1370: 'enitre', 1371: 'chowk', 1372: 'Venezia', 1373: 'touching', 1374: 'mutual', 1375: 'interaction', 1376: 'Human', 1377: 'Immuno-deficiency', 1378: 'Virus', 1379: 'am', 1380: 'talk', 1381: 'ago', 1382: 'preparation', 1383: 'brough', 1384: 'bliss', 1385: 'diagnosis', 1386: 'paralysis', 1387: 'Surat', 1388: 'diamond', 1389: 'jewels', 1390: 'local', 1391: 'traditional', 1392: 'objects', 1393: 'Join', 1394: 'travel', 1395: 'Rules', 1396: 'strict', 1397: 'regarding', 1398: 'baggage', 1399: 'size', 1400: 'common', 1401: 'becoming', 1402: 'active', 1403: 'lot', 1404: 'without', 1405: 'disturbing', 1406: 'favorite', 1407: 'book', 1408: 'alone', 1409: 'despite', 1410: 'Plenty', 1411: 'vitamin-B', 1412: 'ultraviolet', 1413: 'rays', 1414: 'year', 1415: 'rain', 1416: 'saw', 1417: 'December', 1418: 'Louis', 1419: 'begun', 1420: 'Cochhi', 1421: 'Maldive', 1422: 'Colombo', 1423: 'solves', 1424: 'permanently', 1425: 'tough', 1426: 'generally', 1427: 'functionalism', 1428: 'dynamism', 1429: 'muscles', 1430: 'pulse', 1431: 'end', 1432: 'Apply', 1433: 'oil', 1434: 'nostrils', 1435: 'nose', 1436: 'toilet', 1437: 'frequently', 1438: 'corner', 1439: 'distrubed', 1440: 'window', 1441: 'stated', 1442: 'women', 1443: 'ophthalmic', 1444: '68', 1445: 'tuna', 1446: 'Whether', 1447: 'dropping', 1448: 'advice', 1449: 'cases', 1450: 'Bringing', 1451: 'hands', 1452: 'forefoot', 1453: 'bend', 1454: 'touches', 1455: 'ground', 1456: 'facility', 1457: 'washroom', 1458: 'Themost', 1459: 'lighting', 1460: 'Increment', 1461: 'lymph', 1462: 'nodes', 1463: 'laced', 1464: 'test', 1465: 'easy', 1466: 'public', 1467: 'centres', 1468: 'opened', 1469: 'Manager', 1470: 'fixed', 1471: 'program', 1472: 'education', 1473: 'idols', 1474: 'lively', 1475: 'ebgint', 1476: 'o', 1477: 'speak', 1478: 'Adopt', 1479: 'increase', 1480: 'flow', 1481: 'activeness', 1482: 'Camping', 1483: 'government', 1484: 'non-government', 1485: 'comprehensive', 1486: 'District', 1487: 'Committees', 1488: 'looking', 1489: 'estimate', 1490: 'completely', 1491: 'something', 1492: 'watching', 1493: 'restaurant', 1494: 'Buffet', 1495: 'Junction', 1496: 'Fatehganj', 1497: 'road', 1498: 'filling', 1499: 'research', 1500: 'strengthens', 1501: 'cell', 1502: 'brings', 1503: 'elements', 1504: 'Memory', 1505: 'vitamin', 1506: 'B-12', 1507: 'B-6', 1508: 'items', 1509: 'folic', 1510: 'acid', 1511: 'strawberry', 1512: 'juicy', 1513: 'watermelon', 1514: 'soybean', 1515: 'Built', 1516: 'Vijay', 1517: 'Chowk', 1518: 'Delhi', 1519: 'Staying', 1520: 'position', 1521: 'previous', 1522: 'Meditation', 1523: 'worries', 1524: 'sorrows', 1525: 'pains', 1526: 'grief', 1527: 'fears', 1528: 'process', 1529: 'repeated', 1530: 'Emergence', 1531: 'frequent', 1532: 'freckles', 1533: 'Suddenly', 1534: 'fare', 1535: 'snacks', 1536: 'everything', 1537: 'Some', 1538: 'learners', 1539: 'Narishodhan', 1540: 'ujjayi', 1541: 'pranayam', 1542: 'play', 1543: 'role', 1544: 'panacea', 1545: 'central', 1546: 'nervous', 1547: 'functional', 1548: 'balance', 1549: 'function', 1550: 'spots', 1551: 'Science', 1552: 'Akshardham', 1553: 'replica', 1554: 'Vaishno', 1555: 'devi', 1556: 'Devoted', 1557: 'ruler', 1558: 'Victor', 1559: 'Emanual', 1560: 'II', 1561: 'unparalalled', 1562: 'white', 1563: 'marbel', 1564: '1885', 1565: 'completed', 1566: '1911', 1567: 'Shaniwar', 1568: 'Vadaa', 1569: 'Osho', 1570: 'God', 1571: 'Rajneesh', 1572: 'stayed', 1573: 'palaces', 1574: 'rulers', 1575: 'Before', 1576: 'buying', 1577: 'search', 1578: 'deal', 1579: 'sites', 1580: 'present', 1581: 'destroy', 1582: 'homocysteine', 1583: 'nerves', 1584: 'lutein', 1585: 'zeaxanthin', 1586: 'responsible', 1587: 'bank', 1588: 'Godavari', 1589: 'Separating', 1590: 'treating', 1591: 'offence', 1592: 'try', 1593: 'poem', 1594: 'exercises', 1595: 'Eat', 1596: 'digestible', 1597: 'bread', 1598: 'braned', 1599: 'flour', 1600: 'rice', 1601: 'porridge', 1602: 'lentil', 1603: 'Pantheon', 1604: 'wondoreous', 1605: '27', 1606: 'Cyst', 1607: 'breasts', 1608: 'He', 1609: 'moulded', 1610: 'worldwide', 1611: 'monuments', 1612: 'Carry', 1613: 'bags', 1614: 'strength', 1615: 'humans', 1616: 'Plan', 1617: 'shop', 1618: 'strolling', 1619: 'mallroad', 1620: 'Wakad', 1621: 'Ancient', 1622: 'hills', 1623: 'Baag', 1624: 'getaway', 1625: 'calm', 1626: 'comforts', 1627: 'nineteen', 1628: '14', 1629: 'school', 1630: 'students', 1631: 'run', 1632: 'campaign', 1633: 'educational', 1634: 'session', 1635: 'poor', 1636: 'distributed', 1637: 'glasses', 1638: 'cost', 1639: 'Bag', 1640: 'bidding', 1641: 'farewell', 1642: 'bid', 1643: 'making', 1644: 'jaggery', 1645: 'curd', 1646: 'eligible', 1647: 'kumbhak', 1648: 'holding', 1649: 'breath', 1650: 'rendering', 1651: 'fights', 1652: 'continue', 1653: 'fighters', 1654: 'die', 1655: 'Is', 1656: 'Inside', 1657: 'sides', 1658: 'Godesses', 1659: 'Whileenjoying', 1660: 'cycling', 1661: 'cool', 1662: 'oceanic', 1663: 'winds', 1664: 'Goan', 1665: 'cuisine', 1666: 'fully', 1667: 'option', 1668: 'yet', 1669: 'avoided', 1670: 'rules', 1671: 'insurance', 1672: 'coverage', 1673: 'company', 1674: 'Omega-3', 1675: 'fat', 1676: 'weak', 1677: 'holes', 1678: 'possibility', 1679: 'wounds', 1680: 'ripened', 1681: 'pap', 1682: 'developing', 1683: 'girls', 1684: 'wit', 1685: 'binoculars', 1686: 'mountain', 1687: 'walking', 1688: 'narrow', 1689: 'fort', 1690: 'Ajabgadh', 1691: 'sun', 1692: 'spreading', 1693: 'advantages', 1694: 'chairperson', 1695: 'Department', 1696: 'Ophthalmology', 1697: 'Liverpool', 1698: 'Dr', 1699: 'Ian', 1700: 'Greerson', 1701: 'says', 1702: 'belief', 1703: 'someone', 1704: 'throw', 1705: 'coin', 1706: 'wish', 1707: 'Key', 1708: 'revolutionary', 1709: 'invention', 1710: 'field', 1711: 'faces', 1712: 'pain', 1713: 'red', 1714: 'corpuscles', 1715: 'Patients', 1716: 'administered', 1717: 'anesthetic', 1718: 'date', 1719: 'return', 1720: '28', 1721: 'rupees', 1722: 'per', 1723: 'inguinal', 1724: 'Body-brain', 1725: 'happy', 1726: 'crowd', 1727: 'successful', 1728: 'car', 1729: 'Batusiya', 1730: 'loop', 1731: 'Adopting', 1732: 'methods', 1733: 'switching', 1734: 'electricity', 1735: 'instead', 1736: 'open', 1737: 'closed', 1738: 'windows', 1739: 'European', 1740: 'industry', 1741: 'My', 1742: 'host', 1743: 'decorator', 1744: 'uttered', 1745: '601', 1746: 'AD', 1747: 'believed', 1748: 'doing', 1749: 'desire', 1750: 'fulfilled', 1751: 'binding', 1752: 'mauli', 1753: 'wrist', 1754: 'mantra', 1755: 'mangalachar', 1756: 'chanted', 1757: 'Theere', 1758: 'forum', 1759: 'noting', 1760: 'All', 1761: 'social', 1762: 'political', 1763: 'Though', 1764: 'mobile', 1765: 'phone', 1766: 'internet', 1767: 'romanum', 1768: 'pillars', 1769: 'cleaning', 1770: 'everyone', 1771: 'asked', 1772: 'St', 1773: 'Peter', 1774: 'Saint', 1775: 'Square', 1776: 'Everything', 1777: 'artisitc', 1778: 'surprising', 1779: 'received', 1780: 'award', 1781: 'appearnebce', 1782: 'loose', 1783: 'motion', 1784: 'cough', 1785: 'At', 1786: 'audio', 1787: 'listening', 1788: 'Panjim', 1789: 'makes', 1790: 'excellent', 1791: 'hurting', 1792: 'components', 1793: 'Add', 1794: 'Suptvajrasana', 1795: 'Trikonasana', 1796: 'Uttanpadasana', 1797: 'Gomukhasana', 1798: 'Ardhmatsyendrasana', 1799: 'capable', 1800: 'neither', 1801: 'nor', 1802: 'outside', 1803: 'near', 1804: 'Jaipur', 1805: 'pieces', 1806: 'sweets', 1807: 'Popular', 1808: 'gujarati', 1809: 'cultural', 1810: 'values', 1811: 'abundance', 1812: 'shopping', 1813: 'shine', 1814: 'events', 1815: 'Makar', 1816: 'Sakranti', 1817: 'Navaratri', 1818: 'capturing', 1819: 'bag', 1820: 'second', 1821: 'lessened', 1822: 'contractions', 1823: 'catch', 1824: 'major', 1825: 'Shirdi', 1826: 'Sai', 1827: 'Baba', 1828: 'drugs', 1829: 'serving', 1830: 'Shabana', 1831: 'Azmi', 1832: 'Changing', 1833: 'learning', 1834: 'subject', 1835: 'game', 1836: 'resident', 1837: 'Raambabu', 1838: 'aman', 1839: 'inspired', 1840: 'motive', 1841: 'ways', 1842: 'traditions', 1843: 'else', 1844: 'needed', 1845: 'tehre', 1846: 'Villa', 1847: 'Borges', 1848: 'unparalleled', 1849: 'whre', 1850: 'hour', 1851: 'enjoying', 1852: 'Via', 1853: 'del', 1854: 'Corso', 1855: 'MV', 1856: 'Aquamarine', 1857: 'minimum', 1858: '5850', 1859: 'Tourism', 1860: 'sometimes', 1861: 'pull', 1862: 'towards', 1863: 'ship', 1864: 'train', 1865: 'pink', 1866: 'Udaipur'}\n",
            "{0: 'अमन', 1: 'बाग', 2: 'के', 3: 'खुलने', 4: 'बाद', 5: 'वहाँ', 6: 'देश', 7: '-', 8: 'विदेश', 9: 'बड़े-बड़े', 10: 'लोग', 11: 'पहुँचे', 12: 'हैं', 13: '।', 14: 'सीडी-4', 15: 'कोशिका', 16: 'खंडित', 17: 'हो', 18: 'जाने', 19: 'से', 20: 'अनेक', 21: 'वायरस', 22: 'रक्त-प्रवाह', 23: 'में', 24: 'प्रवेश', 25: 'कर', 26: 'जाते', 27: 'दृष्टिहीनता', 28: 'मुख्य', 29: 'कारणों', 30: 'मोतियाबिंद', 31: '55', 32: 'प्रतिशत', 33: 'है', 34: ',', 35: 'दृष्टि', 36: 'दोष', 37: '19', 38: 'काला', 39: 'मोतिया', 40: '4', 41: 'कॉर्नियल', 42: 'पैथॉलाजी', 43: '7', 44: 'अन्य', 45: '15', 46: 'यह', 47: 'बात', 48: 'अलग', 49: 'कि', 50: 'वे', 51: 'खुद', 52: 'राह', 53: 'भटक', 54: 'भानगढ़', 55: 'पहुँच', 56: 'गयी', 57: 'थीं', 58: 'जेकी', 59: 'लिए', 60: 'तो', 61: 'ग्रामीण', 62: 'जीवन', 63: 'की', 64: 'ऐसी', 65: 'झलक', 66: 'अनूठा', 67: 'अनुभव', 68: 'था', 69: 'इसके', 70: 'अवशेष', 71: 'आज', 72: 'भी', 73: 'रोम', 74: 'आस-पास', 75: 'देखे', 76: 'जा', 77: 'सकते', 78: 'कैपिटोलाइन', 79: 'सामने', 80: 'घोड़े', 81: 'पर', 82: 'सवार', 83: 'सम्राट', 84: 'मार्कस', 85: 'ओरेलिअस', 86: 'पीतल', 87: 'मूर्ति', 88: 'जिन्होंने', 89: '160', 90: '180', 91: 'ई.', 92: 'तक', 93: 'शासन', 94: 'किया', 95: 'शारीरिक', 96: 'स्वच्छता', 97: 'ध्यान', 98: 'दें', 99: 'कलिम्पोंग', 100: 'सबसे', 101: 'लोकप्रिय', 102: 'पर्यटन', 103: 'स्थल', 104: 'लावा', 105: 'तथा', 106: 'लोलेगाँव', 107: 'जो', 108: 'जंगलों', 109: 'झरनों', 110: 'परिपूर्ण', 111: 'एड्स', 112: 'साथ', 113: 'रह', 114: 'रहे', 115: 'लोगों', 116: 'का', 117: 'विरोध', 118: 'न', 119: 'करें', 120: 'इटली', 121: 'राजधानी', 122: 'दुनिया', 123: 'उन', 124: 'पुराने', 125: 'शहरों', 126: 'जहाँ', 127: 'सभ्यताओं', 128: 'विकास', 129: 'हुआ', 130: 'पश्\\u200dचिमी', 131: 'तट', 132: 'लगे', 133: 'हुए', 134: 'गुजरात', 135: 'गोवा', 136: 'यात्रा', 137: 'पुणे', 138: 'पेशवाकालीन', 139: 'भव्यता', 140: 'अहमदाबाद', 141: 'साबरमती', 142: 'आश्रम', 143: 'और', 144: 'मुक्\\u200dति', 145: 'आंदोलन', 146: 'सुनहरे', 147: 'ऐतिहासिक', 148: 'साक्ष्यों', 149: 'दर्शन', 150: 'मिलता', 151: 'बस', 152: 'रूके', 153: 'वापस', 154: 'समय', 155: 'आ', 156: 'जाएँ', 157: 'इस', 158: 'स्मारक', 159: 'नक्काशी', 160: 'बने', 161: 'विजय', 162: 'चिन्ह', 163: 'दर्शनीय', 164: 'ये', 165: 'मिलियन', 166: 'डॉलर', 167: 'अनमोल', 168: 'पल', 169: 'यहाँ', 170: 'प्रसिद्ध', 171: 'फव्वारा', 172: '’', 173: 'त्रेवी', 174: 'फांउंटेन', 175: 'मसलन', 176: 'कैंसर', 177: '(', 178: 'पेट', 179: ')', 180: 'लिवर', 181: 'बीमारियाँ', 182: 'आंत', 183: 'संबंधी', 184: 'रोग', 185: 'आदि', 186: 'कोशिकाएँ', 187: 'विभिन्न', 188: 'रोगों', 189: 'शरीर', 190: 'रक्षा', 191: 'मदद', 192: 'करती', 193: 'सीट', 194: 'चुनते', 195: 'कंफर्ट', 196: 'रखें', 197: 'प्रथम', 198: 'विश्\\u200dव', 199: 'युद्ध', 200: 'शहीद', 201: 'अज्ञात', 202: 'सैनिकों', 203: 'को', 204: 'दफनाया', 205: 'गया', 206: 'स्नान', 207: 'रोएँदार', 208: 'तौलिये', 209: 'ऊपर', 210: 'नीचे', 211: 'ओर', 212: 'रगडें', 213: 'खास', 214: 'आकर्षण', 215: 'फाउंटेंस', 216: 'इसमें', 217: 'रुकना', 218: 'खाना', 219: 'वगैरह', 220: 'शामिल', 221: 'होता', 222: 'कोई', 223: 'तभी', 224: 'लंबे', 225: 'याद', 226: 'रहती', 227: 'जब', 228: 'उस', 229: 'दिया', 230: 'जाए', 231: 'कुछ', 232: 'अच्छी', 233: 'आदतें', 234: 'डालकर', 235: 'दिमाग', 236: 'तेज', 237: 'रखा', 238: 'सकता', 239: 'कारण', 240: 'कुल', 241: 'अंधता', 242: 'लगभग', 243: 'थोड़ा', 244: 'बढ़ने', 245: 'पहाड़ियों', 246: 'घिरा', 247: 'गंगामाया', 248: 'मिला', 249: 'सिगरेट', 250: 'पीने', 251: 'मस्तिष्क', 252: 'आक्सीजन', 253: 'पहुँचाने', 254: 'वाली', 255: 'धमनियाँ', 256: 'सिकुड़ने', 257: 'लगती', 258: 'जिससे', 259: 'कमजोर', 260: 'होने', 261: 'लगता', 262: 'प्रतिरक्षण', 263: 'प्रणाली', 264: 'सुरक्षा', 265: 'तंत्र', 266: 'रोगवाहकों', 267: 'या', 268: 'बाहरी', 269: 'हमलावरों', 270: 'जैसे', 271: 'बैक्टीरिया', 272: 'पहचान', 273: 'करता', 274: 'उनका', 275: 'खात्मा', 276: 'अपेंडिक्श', 277: 'सूजन', 278: 'निकालने', 279: 'नैपोलियन', 280: 'बहन', 281: 'पॉलिन', 282: 'जिनका', 283: 'विवाह', 284: 'बोर्गीस', 285: 'राजपरिवार', 286: 'पलंग', 287: 'लेटी', 288: 'हुई', 289: 'एक', 290: 'इतनी', 291: 'सजीव', 292: 'आप', 293: 'इसे', 294: 'एकटक', 295: 'बिना', 296: 'नहीं', 297: 'पाएँगे', 298: 'हालाँकि', 299: 'ही', 300: 'लेकिन', 301: '1926', 302: 'स्वतंत्र', 303: 'शहर', 304: 'दर्जा', 305: 'दे', 306: 'किसी', 307: 'जानकारी', 308: 'शब्दों', 309: 'चित्र', 310: 'माध्यम', 311: 'रखने', 312: 'प्रयास', 313: 'सामान्य', 314: 'शल्यक्रिया', 315: 'पश्\\u200dचात', 316: 'मरीज', 317: 'करीब', 318: 'सप्ताह', 319: 'बिस्तर', 320: 'रहता', 321: 'एच.आई.वी.', 322: 'संक्रमित', 323: 'व्यक्तियों', 324: 'सम्पूर्ण', 325: 'देखभाल', 326: 'व', 327: 'सहायता', 328: 'जाती', 329: 'प्रभावित', 330: 'परिवार', 331: 'सदस्य', 332: 'सम्मानित', 333: 'जी', 334: 'सकें', 335: 'उनके', 336: 'जनों', 337: 'सलाह', 338: 'परामर्श', 339: 'देना', 340: 'आवश्यक', 341: 'कॉलोसियम', 342: 'ग्लैडिएटर', 343: 'यानी', 344: 'तलवारबाज', 345: 'अपने', 346: 'करतब', 347: 'दिखाते', 348: 'थे', 349: 'डाक्टर', 350: 'सभी', 351: 'फिर', 352: 'भेदभाव', 353: 'कैसा', 354: 'रोजमर्रा', 355: 'जिंदगी', 356: 'तकनीक', 357: 'बढ़ते', 358: 'दखल', 359: 'ने', 360: 'हमें', 361: 'बेहद', 362: 'आरामतलब', 363: 'बना', 364: 'एच.आई.वी', 365: 'माँ', 366: 'उसके', 367: 'बच्चे', 368: 'फैलता', 369: 'विटामिन-सी', 370: 'भरपूर', 371: 'आहार', 372: 'लेने', 373: 'ग्लूकोमा', 374: 'अंधेपन', 375: 'खतरा', 376: 'काफी', 377: 'हद', 378: 'कम', 379: 'पालक', 380: 'ब्रोकोली', 381: 'अंकुरित', 382: 'अनाज', 383: 'लिहाज', 384: 'फायदेमंद', 385: 'साबित', 386: 'खिंचे', 387: 'चले', 388: 'आते', 389: 'खाने', 390: 'ओमेगा-3', 391: 'तेलों', 392: 'विशेष', 393: 'पौधों', 394: 'मात्रा', 395: 'बढ़ाने', 396: 'आमतौर', 397: 'बनने', 398: 'वाले', 399: 'बचा', 400: 'दफ्तर', 401: 'घर', 402: 'दोस्तों', 403: 'बीच', 404: 'प्रति', 405: 'पहले', 406: 'सा', 407: 'बर्ताव', 408: 'होना', 409: 'चाहिये', 410: 'यही', 411: 'वजह', 412: 'इन्हें', 413: 'एंजॉय', 414: 'करने', 415: 'बातों', 416: 'रखना', 417: 'जरूरी', 418: 'खासतौर', 419: 'तब', 420: 'विदेशी', 421: 'डेस्टिनेशन', 422: 'टूर', 423: 'जरिए', 424: 'देख', 425: 'हों', 426: 'आपके', 427: 'कौन', 428: 'तरीका', 429: 'सुविधाजनक', 430: 'इमेनुएल', 431: 'बनी', 432: 'जिसे', 433: 'बनाने', 434: '20', 435: 'साल', 436: 'योगनिद्रा', 437: 'समस्या', 438: 'मूल', 439: 'मानसिक', 440: 'तनाव', 441: 'भावनात्मक', 442: 'असंतुलन', 443: 'बुखार', 444: 'जाता', 445: 'डायरिया', 446: 'रूकता', 447: 'वजन', 448: 'दिक्कतों', 449: 'लुई', 450: 'क्रूज', 451: 'अभी', 452: 'अपनी', 453: 'सेवाएँ', 454: 'स्थगित', 455: 'दी', 456: 'अक्टूबर', 457: 'शुरू', 458: 'उम्मीद', 459: 'सस्ती', 460: 'पड़ती', 461: 'ताइबर', 462: 'नदी', 463: 'बसा', 464: 'रोमन', 465: 'कैथलिक', 466: 'धर्म', 467: 'अनुयायियों', 468: 'तीर्थ', 469: 'स्थान', 470: 'क्योंकि', 471: 'प्रमुख', 472: 'पोप', 473: 'निवास', 474: 'विशेषकर', 475: 'कोशिकाओं', 476: 'हमला', 477: 'उन्हें', 478: 'नष्ट', 479: 'देता', 480: 'बचाव', 481: 'एवं', 482: 'प्रचार', 483: 'प्रसार', 484: 'फल', 485: 'सब्जियों', 486: 'पर्याप्त', 487: 'सेवन', 488: 'सेहत', 489: 'लाभकारी', 490: 'अलावा', 491: 'दूध', 492: 'पीना', 493: 'गाजर', 494: 'ज्यादा', 495: 'हार्मोन', 496: 'कोर्टिसाल', 497: 'हिप्पोकैंपस', 498: 'गंभीर', 499: 'नुकसान', 500: 'पहुँचाता', 501: 'व्यक्ति', 502: '10', 503: 'बिताते', 504: 'पहचाने', 505: 'उसी', 506: 'इस्तेमाल', 507: 'अगर', 508: 'मांसाहारी', 509: 'आँखों', 510: 'स्वस्थ', 511: 'बनाए', 512: 'मछली', 513: 'अच्छा', 514: 'उपाय', 515: 'बहुरंगी', 516: 'संस्कृति', 517: 'जाना', 518: 'वहीं', 519: 'महाराष्\\u200dट्र', 520: 'सुंदर', 521: 'समुद्र-तटों', 522: 'घने', 523: 'किलों', 524: 'प्राचीन', 525: 'धार्मिक', 526: 'स्थलों', 527: 'विविधता', 528: 'ओत-प्रोत', 529: 'हम', 530: 'शाम', 531: 'ढले', 532: 'हमने', 533: 'चक्कर', 534: 'लगाने', 535: 'इरादा', 536: 'टू', 537: 'टिकट', 538: 'बजाय', 539: 'राउंड', 540: 'ट्रिप', 541: 'बारे', 542: 'पता', 543: '300', 544: 'इमारतें', 545: 'जिनमें', 546: 'शानदार', 547: 'फव्वारे', 548: 'नहाने', 549: 'गर्म', 550: 'जल', 551: 'प्रयोग', 552: 'भारत', 553: 'वर्ष', 554: 'मे', 555: 'व्यापकता', 556: 'दर', 557: '1.4', 558: '0.3', 559: 'लाने', 560: 'लिये', 561: 'सरकार', 562: 'द्वारा', 563: '1976', 564: 'राष्ट्रीय', 565: 'निवारण', 566: 'कार्यक्रम', 567: 'आरम्भ', 568: 'अब', 569: 'चालाकी', 570: 'क्रिया', 571: 'दूसरी', 572: 'तरफ', 573: 'छाती', 574: 'भीतर', 575: 'विकारों', 576: 'विधि', 577: 'दूर', 578: 'टॉवर', 579: 'इमारत', 580: 'ऐसे', 581: 'लक्षण', 582: 'दिखलाई', 583: 'पड़ने', 584: 'लगते', 585: 'आभास', 586: 'देते', 587: 'केवल', 588: 'वालों', 589: 'बल्कि', 590: 'रहने', 591: 'इसकी', 592: 'पुरानी', 593: 'दीवार', 594: 'दिनों', 595: 'साक्षी', 596: 'टी.बी.', 597: 'निमोनिया', 598: 'घेर', 599: 'लेते', 600: 'रासायन', 601: 'स्रावित', 602: 'होते', 603: 'बचाएंगे', 604: 'विशाल', 605: 'अखाड़े', 606: 'निर्माण', 607: '80', 608: 'ईस्वी', 609: '50', 610: 'हजार', 611: 'दर्शक', 612: 'बैठ', 613: 'रैक', 614: 'फिट', 615: 'राम', 616: 'बाबू', 617: 'पैदल', 618: 'सैर', 619: 'जीप', 620: 'वडोदरा', 621: 'व्यापार', 622: 'कला', 623: 'संगम', 624: 'दिखाई', 625: 'मुँह', 626: 'लगातार', 627: 'घाव', 628: 'छाले', 629: 'आपको', 630: 'अंग्रेजी', 631: 'उद्\\u200dबोधन', 632: 'बुलाता', 633: 'दरअसल', 634: 'जितना', 635: 'जल्दी', 636: 'पहुँचेंगे', 637: 'उतनी', 638: 'ऑप्शन', 639: 'पास', 640: 'होगी', 641: 'मेरे', 642: 'कानों', 643: 'गाइड', 644: 'मीणा', 645: 'शब्द', 646: 'गूँजते', 647: ';', 648: 'साहिबा', 649: 'सोच', 650: 'जंगल', 651: 'नई', 652: 'जोड़कर', 653: 'सीता', 654: 'लक्ष्मण', 655: 'वनवास', 656: 'व्यतीत', 657: 'किए', 658: 'ड्राइवर', 659: 'कंडक्टर', 660: 'लें', 661: 'पेप्टिक', 662: 'अल्सर', 663: 'बीमारी', 664: 'घिरे', 665: 'सघन', 666: 'वृक्षों', 667: 'छाया', 668: 'पहली', 669: 'मोह', 670: 'लेती', 671: 'नासिक', 672: 'स्थित', 673: 'जिंजर', 674: 'होटल', 675: 'त्रयंबकेश्\\u200dवर', 676: 'मंदिर', 677: 'विपश्यना', 678: 'सेंटर', 679: 'नंदुर', 680: 'माधमहेश्\\u200dवर', 681: 'पक्षी', 682: 'अभ्यारण्य', 683: 'तरह', 684: 'जुड़े', 685: 'टमाटर', 686: 'ग्रीन-टी', 687: 'ब्रोकली', 688: 'शकरकंद', 689: 'विटामिन-ई', 690: 'सी', 691: 'एंटीआक्सीडेंट', 692: 'पाए', 693: 'अन्तर्गत', 694: 'दृष्टिहीन', 695: 'ग्रसित', 696: 'ऑपरेशन', 697: 'लाभान्वित', 698: 'रहा', 699: 'समझ', 700: 'आया', 701: 'टूरिस्ट', 702: 'इतना', 703: 'खर्च', 704: 'करके', 705: 'क्यों', 706: 'आता', 707: 'पड़ोसी', 708: 'राज्य', 709: 'विविध', 710: 'क्रीड़ाओं', 711: 'युक्\\u200dत', 712: 'पर्यटकों', 713: 'स्वर्ग', 714: 'सरीखा', 715: 'गिरजाघरों', 716: 'युग', 717: 'सहज', 718: 'दार्जिलिंग', 719: 'घूम', 720: 'धूम', 721: 'ट्\\u200dवाय', 722: 'ट्रेन', 723: 'सफर', 724: 'लैपरोस्कोपिक', 725: 'चिकित्सा', 726: 'मुकाबले', 727: 'दोगुना', 728: 'गोपनीयता', 729: 'बनाये', 730: 'अनिवार्य', 731: 'कहते', 732: 'यूरोप', 733: 'देखा', 734: 'इन्ही', 735: 'चीजों', 736: 'दौरान', 737: 'चेंज', 738: 'करते', 739: 'सामान', 740: 'जिम्मेदारी', 741: 'आपकी', 742: 'प्रारंभ', 743: 'सूक्ष्म', 744: 'व्यायाम', 745: 'करो', 746: 'तीन', 747: 'दिन', 748: 'व्यक्\\u200dति', 749: 'किराया', 750: '18', 751: 'रुपये', 752: 'इसका', 753: 'अभ्यास', 754: 'लेट', 755: 'संभावनाएँ', 756: 'नगण्य', 757: 'होती', 758: 'बनीं', 759: 'बड़ी-बड़ी', 760: 'दुकानें', 761: 'चर्च', 762: 'पैलेस', 763: 'सड़क', 764: 'चार', 765: 'चाँद', 766: 'लगाते', 767: 'छोटा', 768: 'छेद', 769: 'सर्जरी', 770: 'होल', 771: 'बटन', 772: 'नाम', 773: 'माले', 774: 'पहुँचकर', 775: 'जेब', 776: 'हिसाब', 777: 'मालदीव', 778: 'उपलब्ध', 779: 'मनोरंजनों', 780: 'गतिविधियों', 781: 'मजा', 782: 'ले', 783: 'प्लेन', 784: 'राइड', 785: 'लेकर', 786: 'अंडरवाटर', 787: 'लंच', 788: 'कई', 789: 'इलाज', 790: 'सब्जियाँ', 791: 'करना', 792: 'माह', 793: 'आना', 794: '|', 795: 'महत्वपूर्ण', 796: 'लक्षणों', 797: 'विवरण', 798: 'चढ़ने', 799: 'सीढ़ियों', 800: 'मशहूर', 801: 'मूर्तिकार', 802: 'माइकल', 803: 'एंजलो', 804: '1536', 805: 'बनाया', 806: 'अभाव', 807: 'बार', 808: 'नींद', 809: 'पूरी', 810: 'पाने', 811: 'दिनभर', 812: 'थकावट', 813: 'काम', 814: 'केन्द्रित', 815: 'मुश्किल', 816: 'जिसमें', 817: 'औषधि', 818: 'असर', 819: 'भला', 820: 'छोड़ा', 821: 'मिरिक', 822: 'झील', 823: 'बोटिंग', 824: 'गार्डन', 825: 'अल्पविराम', 826: 'इसलिए', 827: 'नाश्ते', 828: 'फ्रूट', 829: 'सलाद', 830: 'बिलबैरी', 831: 'ब्लैकबैरी', 832: 'खा', 833: 'मौसम', 834: 'मिज़ाज', 835: 'सुथरा', 836: 'टाँके', 837: 'अस्पताल', 838: 'जरूरत', 839: 'सूखी', 840: 'देखी', 841: 'किसान', 842: 'खेती', 843: 'साधारणतया', 844: 'स्वच्छ', 845: 'लैन्स', 846: 'उसका', 847: 'कैपस्यूल', 848: 'धुंधला', 849: 'दुधिया', 850: 'रोशनी', 851: 'आँख', 852: 'अन्दर', 853: 'नही', 854: 'पाती', 855: 'खट्टी', 856: 'बचें', 857: 'कलाकृतियों', 858: 'दिलचस्पी', 859: 'रखते', 860: 'उसे', 861: 'जरूर', 862: 'देखें', 863: 'चीज', 864: 'सीखने', 865: 'हर', 866: 'अपना', 867: 'रंग', 868: 'सुगंध', 869: 'स्वाद', 870: 'आदत', 871: 'डालें', 872: 'देखना', 873: 'भूलें', 874: 'आगे', 875: 'चलकर', 876: 'रूप', 877: 'क्षमता', 878: 'घातक', 879: 'डाल', 880: 'सकती', 881: 'बेशक', 882: 'ऐसा', 883: 'राज्यों', 884: 'इनमें', 885: 'खासी', 886: 'एकाग्रचित', 887: 'इतिहास', 888: 'बड़ी', 889: 'वो', 890: 'आपका', 891: 'परिचय', 892: 'इलाके', 893: 'कराता', 894: 'नेत्र', 895: 'विभाग', 896: 'सम्बन्धित', 897: 'स्टॉफ', 898: 'स्तर', 899: 'प्रशिक्षण', 900: 'वक्\\u200dत', 901: 'मनोरंजन', 902: 'छाप', 903: 'वेस्टर्न', 904: 'सिविलाइजेशन', 905: 'नजर', 906: 'आती', 907: 'अमेरिकी', 908: 'नेशनल', 909: 'आई', 910: 'इंस्टीट्यूट', 911: '6', 912: 'अध्ययन', 913: 'तत्व', 914: 'बुजुर्गों', 915: 'बचाते', 916: 'पंचवटी', 917: 'गुफा', 918: 'रामकुंड', 919: 'रामायणकालीन', 920: 'कोलकाता', 921: 'आए', 922: 'ठंडक', 923: 'छाँव', 924: 'घूमने', 925: 'सिलीगुड़ी', 926: 'फैले', 927: 'चाय', 928: 'बागान', 929: 'मुझे', 930: 'बाँध', 931: 'लिया', 932: 'क्या', 933: 'जानते', 934: 'बादाम', 935: 'काजू', 936: 'अखरोट', 937: 'किशमिश', 938: 'सारे', 939: 'मेवे', 940: 'पौष्टिक', 941: 'बहुत', 942: 'चूँकि', 943: 'भीतरी', 944: 'दृश्य', 945: 'टीवी', 946: 'पटल', 947: 'विस्तारित', 948: 'होकर', 949: 'दिखता', 950: 'प्रत्यक्ष', 951: 'अधिक', 952: 'स्पष्ट', 953: 'चार्ट', 954: 'संक्षिप्त', 955: 'मददगार', 956: 'होगा', 957: 'कहीं', 958: 'टर्मिनल', 959: 'छोड़ना', 960: 'पड़े', 961: 'एक्स्ट्रा', 962: 'फीस', 963: 'भरनी', 964: 'चट्\\u200dटानों', 965: 'माया', 966: 'देखते', 967: 'बनती', 968: 'खान-पान', 969: 'बरती', 970: 'गई', 971: 'थोड़ी', 972: 'सावधानी', 973: 'जान', 974: 'जगहें', 975: 'एक्सप्लोर', 976: 'कोशिश', 977: 'डेवलमेंट', 978: 'प्रकृति', 979: 'जीवनशैली', 980: 'पड़ा', 981: 'जगह', 982: 'भक्\\u200dतों', 983: 'महसूस', 984: 'मानों', 985: 'उनकी', 986: 'प्रार्थनाएँ', 987: 'सीधे', 988: 'देवताओं', 989: 'रही', 990: 'कार्यक्रमों', 991: 'सरकारी', 992: 'गैरसरकारी', 993: 'स्वैच्छिक', 994: 'संस्थाओं', 995: 'सक्रिय', 996: 'सहयोग', 997: 'अंदाज', 998: 'आइए', 999: 'नगरी', 1000: 'वैटिकन', 1001: 'सिटी', 1002: 'आसानी', 1003: 'संक्रमण', 1004: 'स्टूडेंट्स', 1005: 'मिलिट्री', 1006: 'सीनियर', 1007: 'बच्चों', 1008: 'इन', 1009: 'डिस्काउंट', 1010: 'दो', 1011: 'छूट', 1012: 'अरेंजमेंट', 1013: 'ठीक', 1014: 'दवाइयाँ', 1015: 'करतीं', 1016: 'साइटिका', 1017: 'स्लिप', 1018: 'डिस्क', 1019: 'रोगी', 1020: '1986', 1021: 'सन', 1022: '2002', 1023: 'संख्या', 1024: 'पैंतालीस', 1025: 'लाख', 1026: 'राजस्थान', 1027: 'शाही', 1028: 'छुट्\\u200dटियाँ', 1029: 'बिताने', 1030: 'कितने', 1031: 'भूतों', 1032: '!', 1033: 'जाऊँ', 1034: 'जयपुर', 1035: 'कुछेक', 1036: 'शायद', 1037: 'रात', 1038: 'बिताई', 1039: 'पिम्परी', 1040: 'औद्योगिक', 1041: 'क्षेत्र', 1042: 'मध्य', 1043: 'बंगलूरू', 1044: 'हाइवे', 1045: 'वकाड', 1046: 'नामक', 1047: 'दोनों', 1048: 'अत्याधुनिक', 1049: 'सुविधाओं', 1050: 'भव्य', 1051: 'आश्\\u200dचर्यचकित', 1052: 'देगी', 1053: 'रक्त', 1054: 'चढ़ाने', 1055: 'पिछली', 1056: 'झटके', 1057: 'लगेंगे', 1058: 'सीटों', 1059: 'पढ़ना', 1060: 'कंफर्टेबल', 1061: 'योग', 1062: 'काबू', 1063: 'लकवा', 1064: 'निम्न', 1065: 'दुष्परिणाम', 1066: 'ट्रेनें', 1067: 'लगा', 1068: 'देती', 1069: 'व्यवस्था', 1070: 'ब्रेन', 1071: 'एक्सरसाइज', 1072: 'इसी', 1073: 'फंडे', 1074: 'चौथी', 1075: 'शताब्दी', 1076: 'चारों', 1077: 'सरवियल', 1078: 'वॉल', 1079: 'बनाई', 1080: 'बड़े', 1081: 'उम्र', 1082: 'बिलकुल', 1083: 'फ्री', 1084: 'छूत', 1085: 'पित्ताशय', 1086: 'पथरी', 1087: 'प्रतीक', 1088: 'पक्षाघात', 1089: 'आधे', 1090: 'संपूर्ण', 1091: 'चेहरे', 1092: 'पीड़ित', 1093: 'रोगियों', 1094: 'चिकित्साधिकारी', 1095: 'सहायक', 1096: 'चिकित्सालय', 1097: 'स्क्रीनिंग', 1098: 'मेरी', 1099: 'हाल', 1100: 'छोटी', 1101: 'दिलचस्प', 1102: 'रोमांचक', 1103: 'इससे', 1104: 'एक्सप्रेस', 1105: 'अनूठी', 1106: 'ड्राइव', 1107: 'बड़ौदा', 1108: 'कहा', 1109: 'समृद्ध', 1110: 'परंपरा', 1111: 'कास्मोपोलिटन', 1112: 'उबली', 1113: 'सुई', 1114: 'गौर', 1115: 'पढ़ें', 1116: 'बढ़ने', 1117: 'आठ', 1118: 'सेकेंड', 1119: 'तरोताजा', 1120: 'घुसकर', 1121: 'प्रजनन', 1122: 'तेजी', 1123: 'बढ़ाता', 1124: 'नये', 1125: 'पैदा', 1126: 'ज्यादातर', 1127: 'प्रकार', 1128: 'यहीं', 1129: 'संग्रहालय', 1130: 'जानुशिरासन', 1131: 'प्रस्तुत', 1132: 'पैरों', 1133: 'फैलाकर', 1134: 'चाहिए', 1135: 'हरी', 1136: 'कैसे', 1137: 'तत्पश्\\u200dचात', 1138: 'मरीजों', 1139: 'सुसज्जित', 1140: 'अस्पतालों', 1141: 'नेत्रशल्यक', 1142: 'प्रतिदिन', 1143: 'दस', 1144: 'बीस', 1145: 'मिनट', 1146: 'अवश्य', 1147: 'आपस', 1148: 'जंगली', 1149: 'जानवरों', 1150: 'मुकाबला', 1151: '?', 1152: 'हिमालय', 1153: 'मॉल', 1154: 'पीछे', 1155: 'वाजिब', 1156: 'कीमत', 1157: 'माहौल', 1158: 'वातानुकूलित', 1159: 'कमरों', 1160: 'वाला', 1161: 'यादगार', 1162: 'रूट', 1163: 'पर्यटक', 1164: 'पशुपतिनाथ', 1165: 'बाजार', 1166: 'नेपाली', 1167: 'कारीगरों', 1168: 'हस्त', 1169: 'निर्मित', 1170: 'स्वेटर', 1171: 'मिलते', 1172: 'हवाईजहाजों', 1173: 'घूमते', 1174: 'अचानक', 1175: 'खड़ा', 1176: 'खिलौने', 1177: 'लगेगा', 1178: 'दाएँ', 1179: 'पैर', 1180: 'घुटने', 1181: 'मोड़कर', 1182: 'तलवे', 1183: 'बाएँ', 1184: 'जंघा', 1185: 'सटा', 1186: 'एड़ी', 1187: 'जननेंद्रिय', 1188: 'रोज', 1189: 'अंडे', 1190: 'खाएँ', 1191: 'चश्में', 1192: 'जाँच', 1193: 'हायाटस', 1194: 'हर्निया', 1195: 'दुरुस्त', 1196: 'हमारे', 1197: 'सैकड़ों', 1198: 'छोटे', 1199: 'जीव', 1200: 'रहते', 1201: 'जिन्हें', 1202: 'माइक्रोस्कोप', 1203: 'पचास', 1204: 'परसेंट', 1205: 'स्टाफ', 1206: 'शिराओं', 1207: 'खून', 1208: 'थक्के', 1209: 'जमने', 1210: 'जैसी', 1211: 'लताओं', 1212: 'सामना', 1213: 'पड़', 1214: 'ड्राय', 1215: 'सिंड्रोम', 1216: 'बचाता', 1217: 'हफ्तों', 1218: 'तैयार', 1219: 'अलग-अलग', 1220: 'जगहों', 1221: 'जाया', 1222: 'भारी', 1223: 'गरिष्ठ', 1224: 'तंबाकू', 1225: 'नशीले', 1226: 'पदार्थ', 1227: 'उत्तेजक', 1228: 'पदार्थों', 1229: 'परहेज', 1230: 'चाहे', 1231: 'विजुअल', 1232: 'लर्नर', 1233: 'बोल', 1234: 'छठी', 1235: 'कैथोलिक', 1236: 'सर्वोच्च', 1237: 'असुरक्षित', 1238: 'यौन', 1239: 'संबंध', 1240: 'बताते', 1241: 'चलें', 1242: 'मिलने', 1243: 'जुलने', 1244: 'फोरम', 1245: 'जैसे-जैसे', 1246: 'स्थिति', 1247: 'सुधरती', 1248: 'पवनमुक्तासन', 1249: 'वज्रासन', 1250: 'शशांकासन', 1251: 'मकरासन', 1252: 'जोड़', 1253: 'सिर्फ', 1254: 'सुरक्षित', 1255: 'गुंबज', 1256: '30', 1257: 'फुट', 1258: 'खुला', 1259: 'विरासत', 1260: 'भूमि', 1261: 'यौगिक', 1262: 'निश्\\u200dचित', 1263: 'प्राप्त', 1264: 'सामुदायिक', 1265: 'सेवा', 1266: 'केन्द्र', 1267: 'अप्रभावित', 1268: 'अंदर', 1269: 'जिस', 1270: 'स्वागत', 1271: 'उससे', 1272: 'लग', 1273: 'दिव्य', 1274: 'शांति', 1275: 'सात', 1276: 'बागों', 1277: 'अकेला', 1278: 'अलवर', 1279: 'राजा', 1280: 'शिकार', 1281: 'पड़ाव', 1282: 'हाँ', 1283: 'सुकून', 1284: 'भर', 1285: 'ढेर', 1286: 'सारा', 1287: 'देने', 1288: 'आपसे', 1289: 'सब्र', 1290: 'डिमांड', 1291: 'सोचने', 1292: 'मुश्\\u200dकिल', 1293: 'वाकई', 1294: 'बागानों', 1295: 'हरियाली', 1296: 'आवाजाही', 1297: 'ओनिकोमाइसिस', 1298: 'ज्यों', 1299: 'मोनास्टरी', 1300: 'बढ़े', 1301: 'घटा', 1302: 'कहाँ', 1303: 'उपस्थित', 1304: 'झमकने', 1305: 'लगीं', 1306: 'मेहमान', 1307: 'दावत', 1308: 'मैं', 1309: 'पहुँची', 1310: 'छुट्\\u200dटी', 1311: 'बिताना', 1312: 'चाहते', 1313: 'नियमित', 1314: 'मिलती', 1315: 'याददाश्त', 1316: 'घट', 1317: 'गौरवशाली', 1318: 'तमाम', 1319: 'पहला', 1320: 'पाया', 1321: 'कॉम्प्लेक्स', 1322: 'म्यूजियम', 1323: 'पुराना', 1324: 'छोड़ें', 1325: 'गुम', 1326: 'गुणवत्ता', 1327: 'जिसके', 1328: 'जिला', 1329: 'चिकित्सालयों', 1330: 'बेस', 1331: 'माइक्रोस्कोपिक', 1332: 'सेन्टर', 1333: 'परिवर्तित', 1334: 'बीमार', 1335: 'पड़ने', 1336: 'निरन्तर', 1337: 'त्वचा', 1338: 'बाल', 1339: 'विराजमान', 1340: 'एकाएक', 1341: 'दूसरे', 1342: 'कपड़े', 1343: 'पहनने', 1344: 'गुसलखाने', 1345: 'एंथोसाइनिन', 1346: 'बचाती', 1347: 'वैसे', 1348: 'एडवांस', 1349: 'खरीदना', 1350: 'सस्ता', 1351: 'पड़ता', 1352: 'आखिरी', 1353: 'पलों', 1354: 'प्लान', 1355: 'बढ़िया', 1356: 'प्लानिंग', 1357: 'अद्वितीय', 1358: 'हिल', 1359: 'ऊँचाई', 1360: 'सूचना', 1361: 'रहस्य', 1362: 'यदि', 1363: 'क्लिक', 1364: 'दूरी', 1365: 'कष्ट', 1366: 'चाहेगा', 1367: 'बीमारियों', 1368: 'लड़ने', 1369: 'शक्ति', 1370: 'धीरे', 1371: 'विटामिन-ए', 1372: 'लेना', 1373: 'व्यवस्थाओं', 1374: 'हमारी', 1375: 'सुबह-सुबह', 1376: 'मैंने', 1377: 'हॉलैंड', 1378: 'गहरे', 1379: 'बैठा', 1380: 'पियात्सा', 1381: 'डी', 1382: 'स्पाग्ना', 1383: 'खूब', 1384: 'मिस', 1385: 'बेहतरीन', 1386: 'मूर्तिकला', 1387: 'रूबरू', 1388: 'मौका', 1389: 'गवाँ', 1390: 'देंगे', 1391: 'नजारा', 1392: 'दिखाएँगे', 1393: 'हमेशा', 1394: 'भारतीय', 1395: 'व्यंजनों', 1396: 'सदियों', 1397: 'आर्थिक', 1398: 'अहिंसा', 1399: 'शुभारंभ', 1400: 'महात्मा', 1401: 'गांधी', 1402: 'दांडी', 1403: 'थी', 1404: 'हालत', 1405: 'ताकत', 1406: 'बिल्कुल', 1407: 'खत्म', 1408: 'नए', 1409: 'यात्री', 1410: 'मिल', 1411: 'इंतजार', 1412: 'उच्च', 1413: 'रक्तचाप', 1414: 'बढ़ना', 1415: 'थक्का', 1416: 'बनना', 1417: 'अत्यंत', 1418: 'हर्ष', 1419: 'विषाद', 1420: 'रुकें', 1421: 'किराये', 1422: 'असली', 1423: 'खूबसूरती', 1424: 'द्वीप', 1425: 'जाएगी', 1426: 'रॉक', 1427: 'पत्थरों', 1428: 'साम्राज्य', 1429: 'झरने', 1430: 'शोभायमान', 1431: 'गंगा', 1432: 'मायावी', 1433: 'संसार', 1434: 'विभूषित', 1435: 'सुना', 1436: 'ट्राइबल', 1437: 'लाइफ', 1438: 'दिखाने', 1439: 'पैकेज', 1440: 'रखे', 1441: 'नाइंसाफी', 1442: 'अनभिज्ञता', 1443: 'संकेत', 1444: 'बिजी', 1445: 'सीजन', 1446: 'ख्याल', 1447: 'आलीशान', 1448: 'राजमहल', 1449: 'खूबसूरत', 1450: 'म्यूजिम्स', 1451: 'सम्मोहित', 1452: 'जादू', 1453: 'रखता', 1454: 'पार्क', 1455: 'मंदिरों', 1456: 'म्यूजियमों', 1457: 'ख्याति', 1458: 'प्राप्\\u200dत', 1459: 'महाराजा', 1460: 'सयाजी', 1461: 'राव', 1462: 'विश्\\u200dवविद्यालय', 1463: 'महशूर', 1464: 'चौक', 1465: 'पिएजा', 1466: 'वेनेजिया', 1467: 'छूने', 1468: 'आपसी', 1469: 'मेल-जोल', 1470: 'अर्थ', 1471: 'ह्यूमन', 1472: 'इम्यूनो-डेफिशिएंशी', 1473: 'हूँ', 1474: 'साढ़े', 1475: 'तैयारी', 1476: 'उसने', 1477: 'सच', 1478: 'मंगल', 1479: 'हेतु', 1480: 'निदान', 1481: 'डायमंड', 1482: 'कैपिटल', 1483: 'ऑफ', 1484: 'वर्ल्ड', 1485: 'कहलाने', 1486: 'सूरत', 1487: 'जवाहरातों', 1488: 'स्थानीय', 1489: 'पारंपरिक', 1490: 'वस्तुओं', 1491: 'महत्त्वपूर्ण', 1492: 'केंद्र', 1493: 'खिलाफ़', 1494: 'महायात्रा', 1495: 'बैगेज', 1496: 'नियम', 1497: 'खासे', 1498: 'कड़े', 1499: 'साइज', 1500: 'पूछताछ', 1501: 'जरा', 1502: 'हटके', 1503: 'वह', 1504: 'हिस्सा', 1505: 'जिसका', 1506: 'फेवरिट', 1507: 'बुक', 1508: 'डिस्टर्ब', 1509: 'बावजूद', 1510: 'अकेले', 1511: 'विटामिन', 1512: 'ई', 1513: 'प्रचुर', 1514: 'बचाने', 1515: 'पराबैंगनी', 1516: 'किरणों', 1517: 'बारिश', 1518: 'तम्बाकू', 1519: 'दिसंबर', 1520: 'हफ्ते', 1521: 'कोच्चि', 1522: 'कोलंबो', 1523: 'इकलौता', 1524: 'हालांकि', 1525: 'स्थायी', 1526: 'समाधान', 1527: 'लेता', 1528: 'श्रमसाध्य', 1529: 'भाग', 1530: 'मांसपेशियों', 1531: 'नसों', 1532: 'क्रियाशीलता', 1533: 'गतिशीलता', 1534: 'समाप्त', 1535: 'नाक', 1536: 'नथुनों', 1537: 'सुबह-शाम', 1538: 'तेल', 1539: 'लगाएँ', 1540: 'बार-बार', 1541: 'लू', 1542: 'कोने', 1543: 'पसंद', 1544: 'खिड़की', 1545: 'बेहतर', 1546: 'रहेगी', 1547: 'बताया', 1548: 'परेशान', 1549: 'महिलाएँ', 1550: 'पाँच', 1551: 'ट्यूना', 1552: 'खाकर', 1553: 'तकलीफ', 1554: '68', 1555: 'फीसदी', 1556: 'घटाने', 1557: 'ताजे', 1558: 'मामलों', 1559: 'हाथों', 1560: 'पंजे', 1561: 'झुकें', 1562: 'सिर', 1563: 'जमीन', 1564: 'स्पर्श', 1565: 'करे', 1566: 'वॉशरूम', 1567: 'सुविधा', 1568: 'चूज', 1569: 'थोड़ी', 1570: 'देर', 1571: 'बैठना', 1572: 'लाइटिंग', 1573: 'लसिका', 1574: 'ग्रन्थियों', 1575: 'आकार', 1576: 'लैस', 1577: 'आसान', 1578: 'जन', 1579: 'स्वास्थ्य', 1580: 'केन्द्रों', 1581: 'खुल', 1582: 'चुका', 1583: 'मैनेजर', 1584: 'सुबह', 1585: 'हमारा', 1586: 'तय', 1587: 'शिक्षण', 1588: 'मूर्तियाँ', 1589: 'मानो', 1590: 'पड़ेंगी', 1591: 'भोजन', 1592: 'शैली', 1593: 'अपनाएँ', 1594: 'प्रवाह', 1595: 'बढ़ाते', 1596: 'सक्रियता', 1597: 'बढ़ती', 1598: '``', 1599: 'अन्धता', 1600: 'समितियों', 1601: 'व्यापक', 1602: 'निजी', 1603: 'शिविर', 1604: 'लगाये', 1605: 'देखकर', 1606: 'अंदाजा', 1607: 'बखूबी', 1608: 'पढ़कर', 1609: 'सीखते', 1610: 'फतेहगंज', 1611: 'कैंप', 1612: 'रोड', 1613: 'रेस्टोरेंट', 1614: 'बफे', 1615: 'जंक्शन', 1616: 'स्वादिष्\\u200dट', 1617: 'ब्रेकफास्ट', 1618: 'लुत्फ़', 1619: 'शोध', 1620: 'पोषक', 1621: 'मजबूत', 1622: 'बनाती', 1623: 'बी', 1624: 'बी-12', 1625: 'बी-6', 1626: 'फोलिक', 1627: 'एसिड', 1628: 'युक्त', 1629: 'खाद्य', 1630: 'स्ट्राबैरी', 1631: 'तरबूज', 1632: 'खरबूज', 1633: 'रसीले', 1634: 'सोयाबीन', 1635: 'बीचोंबीच', 1636: 'दिल्ली', 1637: 'जैसा', 1638: 'आरामदायक', 1639: 'अवधि', 1640: 'रखकर', 1641: 'पूर्व', 1642: 'आएँ', 1643: 'मन', 1644: 'सारी', 1645: 'चिंता', 1646: 'दुख', 1647: 'शोक', 1648: 'भय', 1649: 'मुक्त', 1650: 'सर्वश्रेष्ठ', 1651: 'प्रक्रिया', 1652: 'दोहरायी', 1653: 'चकत्ते', 1654: 'फोड़े-फुंसी', 1655: 'इतने', 1656: 'हेरिटेज', 1657: 'नाश्ता', 1658: 'सब', 1659: 'केन्द्रीय', 1660: 'तांत्रिक', 1661: 'तंत्रिका', 1662: 'क्रियाशील', 1663: 'संतुलित', 1664: 'नाड़ीशोधन', 1665: 'उज्जायी', 1666: 'प्राणायाम', 1667: 'रामबाण', 1668: 'भूमिका', 1669: 'निभाते', 1670: 'साइंस', 1671: 'अक्षरधाम', 1672: 'वैष्णों', 1673: 'देवी', 1674: 'प्रतिकृति', 1675: 'भ्रमण', 1676: 'शासक', 1677: 'विक्\\u200dटर', 1678: 'द्वितीय', 1679: 'समर्पित', 1680: 'सफेद', 1681: 'संगमरमर', 1682: 'बेमिसाल', 1683: '1885', 1684: '1911', 1685: 'पूरा', 1686: 'उधर', 1687: 'कभी', 1688: 'पेशवा', 1689: 'शासकों', 1690: 'महल', 1691: 'शनिवार', 1692: 'वडा', 1693: 'भगवान', 1694: 'रजनीश', 1695: 'ओशो', 1696: 'अधूरी', 1697: 'बेस्ट', 1698: 'डील', 1699: 'तलाश', 1700: 'साइट्स', 1701: 'मौजूद', 1702: 'क्षति', 1703: 'होमोसिसटीन', 1704: 'ल्यूटिन', 1705: 'जीजेनथिन', 1706: 'अहम', 1707: 'जिम्मेदार', 1708: 'गोदावरी', 1709: 'किनारे', 1710: 'जुर्म', 1711: 'कविता', 1712: 'करेंगे', 1713: 'औषधियों', 1714: 'सादा', 1715: 'सुपाच्य', 1716: 'चोकरयुक्त', 1717: 'आटे', 1718: 'रोटी', 1719: 'चावल', 1720: 'दलिया', 1721: 'मूंग', 1722: 'दाल', 1723: 'इनसे', 1724: 'पैथियॉन', 1725: ':-', 1726: 'अद्\\u200dभुत', 1727: '27', 1728: 'ईसा', 1729: 'स्तन', 1730: 'गाँठ', 1731: 'बोलने', 1732: 'चालने', 1733: 'ढाल', 1734: 'इमारतों', 1735: 'अवशेषों', 1736: 'कैरी', 1737: 'ऑन', 1738: 'बैग्स', 1739: 'सही', 1740: 'विषाणु', 1741: 'इंसानों', 1742: 'बचने', 1743: 'मॉलरोड', 1744: 'टहलते', 1745: 'शॉपिंग', 1746: 'योजना', 1747: 'चैन', 1748: 'सुख', 1749: 'सैरगाह', 1750: 'उन्नीस', 1751: 'सौ', 1752: 'शिक्षा', 1753: 'सत्र', 1754: '10-14', 1755: 'स्कूली', 1756: 'छात्रों', 1757: 'परीक्षण', 1758: 'अभियान', 1759: 'चलाया', 1760: 'गरीब', 1761: 'निशुल्क', 1762: 'वितरित', 1763: 'किये', 1764: 'अलविदा', 1765: 'कहने', 1766: 'पारम्परिक', 1767: 'गुड़', 1768: 'दही', 1769: 'खिला', 1770: 'उन्होंने', 1771: 'विदा', 1772: 'बिनाRP_NEG\\\\', 1773: 'कंभुक', 1774: 'इनका', 1775: 'योग्य', 1776: 'मार्गदर्शन', 1777: 'क्षमतानुसार', 1778: 'दिल', 1779: 'दहला', 1780: 'लड़ाइयाँ', 1781: 'चाहें', 1782: 'तलवारियों', 1783: 'जारी', 1784: 'लड़नेवाले', 1785: 'मौत', 1786: 'सड़कों', 1787: 'साइक्लिंग', 1788: 'रीवर', 1789: 'ठंडी', 1790: 'समुद्री', 1791: 'हवाओं', 1792: 'विश्\\u200dवप्रसिद्ध', 1793: 'गोवन', 1794: 'आनंद', 1795: 'उठाते', 1796: 'गुजारने', 1797: 'उत्कृष्\\u200dट', 1798: 'विकल्प', 1799: 'एच.आइ.वी.', 1800: 'मगर', 1801: 'कंपनी', 1802: 'इंश्योरेंस', 1803: 'भरपाई', 1804: 'ओमगा-3', 1805: 'फैट', 1806: 'बुढ़ापे', 1807: 'घावों', 1808: 'पकने', 1809: 'गुंजाइश', 1810: 'पैप', 1811: 'लड़कियों', 1812: 'दूरबीन', 1813: 'सहारे', 1814: 'पहाड़ी', 1815: 'उठने', 1816: 'बैठने', 1817: 'सँकरी', 1818: 'चलते', 1819: 'अजबगढ़', 1820: 'किला', 1821: 'धीरे-धीरे', 1822: 'सूरज', 1823: 'फैल', 1824: 'फायदे', 1825: 'लिवरपूल', 1826: 'यूनिवर्सिटी', 1827: 'आप्थैमोलॉजी', 1828: 'अध्यक्ष', 1829: 'विख्यात', 1830: 'नेत्ररोग', 1831: 'शोधकर्ता', 1832: 'डॉ.', 1833: 'इयान', 1834: 'ग्रीयरसन', 1835: 'उनसे', 1836: 'मान्यता', 1837: 'दोबारा', 1838: 'मनोकामना', 1839: 'सिक्का', 1840: 'डालना', 1841: 'शल्यचिकित्सा', 1842: 'क्रान्तिकारी', 1843: 'आविष्कार', 1844: 'दर्द', 1845: 'लाल', 1846: 'कणिकाएँ', 1847: 'पहुँचाती', 1848: 'निश्चेतक', 1849: 'दवा', 1850: 'देनी', 1851: 'कराएँ', 1852: 'तारीख', 1853: 'वापसी', 1854: '28', 1855: 'इंग्वाईनल', 1856: 'उपचार', 1857: 'आघात', 1858: 'तन', 1859: 'प्रसन्न', 1860: 'रहेंगे', 1861: 'भीड़', 1862: 'सफल', 1863: 'गाड़ी', 1864: 'उठकर', 1865: 'बतासिया', 1866: 'लूप', 1867: 'बिजली', 1868: 'स्विच', 1869: 'आन', 1870: 'हाथ', 1871: 'उलटे', 1872: 'तरीके', 1873: 'अपनाकर', 1874: 'बंद', 1875: 'खिड़कियों', 1876: 'खोल', 1877: 'यूरोपीय', 1878: 'व्यवसाय', 1879: 'नामी', 1880: 'गिरामी', 1881: 'मेजबान', 1882: 'जैकी', 1883: 'सज्जाकार', 1884: 'सहसा', 1885: 'उठी', 1886: '601', 1887: 'माना', 1888: 'ख्वाहिश', 1889: 'कलाई', 1890: 'मौली', 1891: 'बांधने', 1892: 'मंगलाचार', 1893: 'मंत्र', 1894: 'उच्चारण', 1895: 'गौरतलब', 1896: 'मार्ग', 1897: 'समाजिक', 1898: 'राजनैतिक', 1899: 'गतिविधियाँ', 1900: 'मोबाइल', 1901: 'फोन', 1902: 'इंटरनेट', 1903: 'रोमैनम', 1904: 'राजभवन', 1905: 'स्तंभों', 1906: 'सफाई', 1907: 'बाहर', 1908: 'सेंट', 1909: 'पीटर', 1910: 'स्क्वेयर', 1911: 'नया', 1912: 'कलात्मक', 1913: 'आश्\\u200dचर्य', 1914: 'पुरस्कार', 1915: 'यूँ', 1916: 'जिले', 1917: 'दस्त', 1918: 'खाँसी', 1919: 'आडियो', 1920: 'सुनकर', 1921: 'पंजिम', 1922: 'बनाता', 1923: 'अवयवों', 1924: 'चोट', 1925: 'लगने', 1926: 'संभावना', 1927: 'सुधर', 1928: 'सुप्तवज्रासन', 1929: 'त्रिकोणासन', 1930: 'उत्तानपादासन', 1931: 'गोमुखासन', 1932: 'अर्धमत्स्येंद्रासन', 1933: 'उतना', 1934: 'सक्षम', 1935: 'बनेगा', 1936: 'मीठे', 1937: 'कतरन', 1938: 'बुरक', 1939: 'गुजराती', 1940: 'संस्कार', 1941: 'शापिंग', 1942: 'विकल्पों', 1943: 'भरमार', 1944: 'मकर', 1945: 'संक्रांति', 1946: 'नवरात्रि', 1947: 'रंगीन', 1948: 'उत्सवों', 1949: 'चमक-दमक', 1950: 'मनपसंद', 1951: 'हथियाने', 1952: 'फिराक', 1953: 'बैग', 1954: 'रख', 1955: 'दबोच', 1956: 'शिरडी', 1957: 'साईं', 1958: 'बाबा', 1959: 'नेत्ररोगों', 1960: 'बचे', 1961: 'धूम्रपान', 1962: 'मद्यपान', 1963: 'नशीली', 1964: 'दवाओं', 1965: 'ट्रडिशनल', 1966: 'कुजीन', 1967: 'सर्व', 1968: 'शबाना', 1969: 'आजमी', 1970: 'तहेदिल', 1971: 'बुलाया', 1972: 'सकी', 1973: 'आँखें', 1974: 'बदलना', 1975: 'विषय', 1976: 'खेल', 1977: 'सीखना', 1978: 'निवासी', 1979: 'अनूठे', 1980: 'हवेलियों', 1981: 'महलों', 1982: 'प्रेरित', 1983: 'मकसद', 1984: 'रहन', 1985: 'सहन', 1986: 'परंपराओं', 1987: 'करवाना', 1988: 'बाग-बगीचे', 1989: 'विला', 1990: 'लेनी', 1991: 'घंटा', 1992: 'उठाने', 1993: 'विया', 1994: 'डेल', 1995: 'कोर्सो', 1996: 'जहाज', 1997: 'एमवी', 1998: 'एक्वामैरिन', 1999: '5850', 2000: 'रात्रि', 2001: 'टूरिज्म', 2002: 'खींचती', 2003: 'पानी', 2004: 'रेल', 2005: 'गुलाबी', 2006: 'उदयपुर', 2007: 'लेक'}\n"
          ],
          "name": "stdout"
        }
      ]
    },
    {
      "cell_type": "code",
      "metadata": {
        "id": "USmrtbg-XdVa",
        "colab_type": "code",
        "colab": {}
      },
      "source": [
        "def reverse_train_sentences(data):\n",
        "  l = data.values.tolist()\n",
        "  t = []\n",
        "  for item in l:\n",
        "    p = item.split()\n",
        "    p.reverse()\n",
        "    p = \" \".join(p)\n",
        "    t.append(p)\n",
        "  df = pd.DataFrame({'data':t})\n",
        "  return df.data  "
      ],
      "execution_count": 0,
      "outputs": []
    },
    {
      "cell_type": "code",
      "metadata": {
        "id": "QYd5SPfKW-wM",
        "colab_type": "code",
        "outputId": "fc86e678-a527-4cd8-fc51-a58902ff42cc",
        "colab": {
          "base_uri": "https://localhost:8080/",
          "height": 225
        }
      },
      "source": [
        "# Train - Test Split\n",
        "X, y = lines.src, lines.dest\n",
        "X_train, X_test, y_train, y_test = train_test_split(X, y, test_size = 0.1)\n",
        "X_train_normal = copy.deepcopy(X_train)\n",
        "X_train = reverse_train_sentences(X_train)\n",
        "print(X_train.shape, X_test.shape)\n",
        "X_train.sample(10)"
      ],
      "execution_count": 0,
      "outputs": [
        {
          "output_type": "stream",
          "text": [
            "(360,) (41,)\n"
          ],
          "name": "stdout"
        },
        {
          "output_type": "execute_result",
          "data": {
            "text/plain": [
              "4                  . yoga by controlled be may Paralysis\n",
              "289       . Rome ancient in forum many be to used Theere\n",
              "78     . 1986 in found was India in AIDS of patient f...\n",
              "225    . seen be can city and Darjeeling of mountain ...\n",
              "179    . constructed be to years 20 took which , hors...\n",
              "258    . less or dim see can patient the and eyes the...\n",
              "76     . Gods till reching directly are prayerrs thei...\n",
              "157                 . them take , good are bags on Carry\n",
              "270    . aloud read remember to but learner visual a ...\n",
              "183    . thrilling and interesting very was recently ...\n",
              "Name: data, dtype: object"
            ]
          },
          "metadata": {
            "tags": []
          },
          "execution_count": 90
        }
      ]
    },
    {
      "cell_type": "code",
      "metadata": {
        "id": "lLpDtriTYAuY",
        "colab_type": "code",
        "colab": {}
      },
      "source": [
        "def generate_batch(X = X_train, y = y_train):\n",
        "  batch_size = len(X)\n",
        "  encoder_input_data = np.zeros((batch_size, src_max_len),dtype='float32')\n",
        "  decoder_target_data = np.zeros((batch_size, dest_max_len, dest_vocab_len),dtype='float32')\n",
        "  decoder_data = np.zeros((batch_size, dest_max_len),dtype='float32')\n",
        "\n",
        "  for i, (input_text, target_text) in enumerate(zip(X,y)):\n",
        "      for t, word in enumerate(input_text.split()):\n",
        "          encoder_input_data[i, t] = src_word_to_index[word]\n",
        "      for t, word in enumerate(target_text.split()):\n",
        "          decoder_target_data[i, t, dest_word_to_index[word]] = 1\n",
        "          decoder_data[i,t] = dest_word_to_index[word]\n",
        "  return encoder_input_data, decoder_target_data, decoder_data"
      ],
      "execution_count": 0,
      "outputs": []
    },
    {
      "cell_type": "code",
      "metadata": {
        "id": "Ro5QPsXslaCq",
        "colab_type": "code",
        "outputId": "61408a8b-e902-4b22-9bee-8aed4d8bacce",
        "colab": {
          "base_uri": "https://localhost:8080/",
          "height": 382
        }
      },
      "source": [
        "model = Sequential()\n",
        "\n",
        "# Creating encoder network\n",
        "model.add(Embedding(input_dim = src_vocab_len, output_dim = 300, input_length = src_max_len, mask_zero = True))\n",
        "model.add(LSTM(units = 150))\n",
        "model.add(RepeatVector(dest_max_len))\n",
        "\n",
        "# Creating decoder network\n",
        "# for _ in range(num_layers):\n",
        "model.add(LSTM(units = 150, return_sequences=True))\n",
        "model.add(TimeDistributed(Dense(dest_vocab_len)))\n",
        "model.add(Activation('softmax'))\n",
        "model.compile(loss='categorical_crossentropy',optimizer='rmsprop',metrics=['accuracy'])\n",
        "print(model.summary())"
      ],
      "execution_count": 0,
      "outputs": [
        {
          "output_type": "stream",
          "text": [
            "Model: \"sequential_3\"\n",
            "_________________________________________________________________\n",
            "Layer (type)                 Output Shape              Param #   \n",
            "=================================================================\n",
            "embedding_3 (Embedding)      (None, 50, 300)           560100    \n",
            "_________________________________________________________________\n",
            "lstm_5 (LSTM)                (None, 150)               270600    \n",
            "_________________________________________________________________\n",
            "repeat_vector_3 (RepeatVecto (None, 48, 150)           0         \n",
            "_________________________________________________________________\n",
            "lstm_6 (LSTM)                (None, 48, 150)           180600    \n",
            "_________________________________________________________________\n",
            "time_distributed_3 (TimeDist (None, 48, 2009)          303359    \n",
            "_________________________________________________________________\n",
            "activation_3 (Activation)    (None, 48, 2009)          0         \n",
            "=================================================================\n",
            "Total params: 1,314,659\n",
            "Trainable params: 1,314,659\n",
            "Non-trainable params: 0\n",
            "_________________________________________________________________\n",
            "None\n"
          ],
          "name": "stdout"
        }
      ]
    },
    {
      "cell_type": "code",
      "metadata": {
        "id": "x5Gn1T-QoJe0",
        "colab_type": "code",
        "colab": {}
      },
      "source": [
        "train_samples = len(X_train)\n",
        "val_samples = len(X_test)\n",
        "epochs = 50"
      ],
      "execution_count": 0,
      "outputs": []
    },
    {
      "cell_type": "code",
      "metadata": {
        "id": "pMbcYvqep9DY",
        "colab_type": "code",
        "colab": {}
      },
      "source": [
        "X,y, yp = generate_batch(X_train, y_train)\n",
        "xtest, ytest, ytestp = generate_batch(X_test, y_test)"
      ],
      "execution_count": 0,
      "outputs": []
    },
    {
      "cell_type": "code",
      "metadata": {
        "id": "HDGUsBVhnheE",
        "colab_type": "code",
        "outputId": "e0463523-be4b-43e2-cbe4-54bc5bec77b6",
        "colab": {
          "base_uri": "https://localhost:8080/",
          "height": 52
        }
      },
      "source": [
        "model.fit(X,y,\n",
        "          steps_per_epoch = 1,\n",
        "          epochs=epochs,\n",
        "          validation_data =(xtest,ytest),\n",
        "          validation_steps = 2)"
      ],
      "execution_count": 0,
      "outputs": [
        {
          "output_type": "stream",
          "text": [
            "Train on 360 samples, validate on 41 samples\n",
            "Epoch 1/50\n"
          ],
          "name": "stdout"
        }
      ]
    },
    {
      "cell_type": "code",
      "metadata": {
        "id": "aV9jfXaFwJOK",
        "colab_type": "code",
        "colab": {}
      },
      "source": [
        "def calculate_bleu_score(actual_string, predicted_string):\n",
        "  actual_string = copy.deepcopy(actual_string)\n",
        "  predicted_string = copy.deepcopy(predicted_string)\n",
        "  reference = re.split(\"\\s\",actual_string.strip())\n",
        "  candidate = re.split(\"\\s\",predicted_string.strip())\n",
        "  smoothie = SmoothingFunction().method4\n",
        "  score = sentence_bleu(reference, candidate, smoothing_function=smoothie)\n",
        "  return score"
      ],
      "execution_count": 0,
      "outputs": []
    },
    {
      "cell_type": "code",
      "metadata": {
        "id": "ZPiDfHc9wHJW",
        "colab_type": "code",
        "colab": {}
      },
      "source": [
        "def decode_input_sentence(arr,inverse_mapping,skip=False):\n",
        "  line = \"\"\n",
        "  for i in range(len(arr)):\n",
        "    if i == 0 and skip == True:\n",
        "      continue\n",
        "    if i == len(arr)-1 and skip == True:\n",
        "      continue  \n",
        "    line += inverse_mapping[arr[i]]+\" \"\n",
        "    \n",
        "  return line"
      ],
      "execution_count": 0,
      "outputs": []
    },
    {
      "cell_type": "code",
      "metadata": {
        "id": "YUCVU6fjAI9F",
        "colab_type": "code",
        "colab": {}
      },
      "source": [
        "def decode_model_output(model_output):\n",
        "  line = \"\"\n",
        "  for i in range(len(model_output)):\n",
        "    max_index = np.argmax(model_output[i, :])\n",
        "    word = dest_index_to_word[max_index]\n",
        "    if word == \"<EOS>\":\n",
        "      break\n",
        "    line += word+\" \"\n",
        "  return line"
      ],
      "execution_count": 0,
      "outputs": []
    },
    {
      "cell_type": "code",
      "metadata": {
        "id": "HI7G-FttoN9F",
        "colab_type": "code",
        "colab": {}
      },
      "source": [
        "yhat = model.predict(xtest, verbose=0)\n",
        "bleu_score = 0.0\n",
        "print(type(ytest),type(yhat),type(xtest))\n",
        "print(np.shape(ytest),np.shape(yhat))\n",
        "for i in range(len(yhat)):\n",
        "  src_input_sentence = decode_input_sentence(xtest[i,:],src_index_to_word)\n",
        "  dest_input_sentence = decode_input_sentence(ytestp[i,:],dest_index_to_word)\n",
        "  output_sentence = decode_model_output(yhat[i,:])\n",
        "  print(\"Actual Source: \",src_input_sentence)\n",
        "  print(\"Actual Target: \",dest_input_sentence)\n",
        "  print(\"predicted Target: \",output_sentence)\n",
        "  curr_bs = calculate_bleu_score(input_sentence,output_sentence)\n",
        "  bleu_score += curr_bs\n",
        "  print(\"Current BLEU Score: \",curr_bs)\n",
        "print(\"Overall BLEU Score: \", bleu_score/len(yhat))"
      ],
      "execution_count": 0,
      "outputs": []
    },
    {
      "cell_type": "code",
      "metadata": {
        "id": "ZoDxT1LiEQlI",
        "colab_type": "code",
        "colab": {}
      },
      "source": [
        ""
      ],
      "execution_count": 0,
      "outputs": []
    }
  ]
}