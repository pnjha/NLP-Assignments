{
  "nbformat": 4,
  "nbformat_minor": 0,
  "metadata": {
    "kernelspec": {
      "name": "python3",
      "display_name": "Python 3"
    },
    "language_info": {
      "pygments_lexer": "ipython3",
      "nbconvert_exporter": "python",
      "version": "3.6.4",
      "file_extension": ".py",
      "codemirror_mode": {
        "name": "ipython",
        "version": 3
      },
      "name": "python",
      "mimetype": "text/x-python"
    },
    "colab": {
      "name": "nlp_q4.ipynb",
      "provenance": [],
      "collapsed_sections": [],
      "include_colab_link": true
    }
  },
  "cells": [
    {
      "cell_type": "markdown",
      "metadata": {
        "id": "view-in-github",
        "colab_type": "text"
      },
      "source": [
        "<a href=\"https://colab.research.google.com/github/pnjha/NLP-Assignments/blob/master/nlp_q4.ipynb\" target=\"_parent\"><img src=\"https://colab.research.google.com/assets/colab-badge.svg\" alt=\"Open In Colab\"/></a>"
      ]
    },
    {
      "cell_type": "code",
      "metadata": {
        "trusted": true,
        "id": "T8cTiXcPVlVh",
        "colab_type": "code",
        "outputId": "de0a1e8e-8d80-4a3a-98de-732614eef520",
        "colab": {
          "base_uri": "https://localhost:8080/",
          "height": 347
        }
      },
      "source": [
        "pip install tensorflow-gpu==2.0.0-alpha0"
      ],
      "execution_count": 3,
      "outputs": [
        {
          "output_type": "stream",
          "text": [
            "Requirement already satisfied: tensorflow-gpu==2.0.0-alpha0 in /usr/local/lib/python3.6/dist-packages (2.0.0a0)\n",
            "Requirement already satisfied: six>=1.10.0 in /usr/local/lib/python3.6/dist-packages (from tensorflow-gpu==2.0.0-alpha0) (1.12.0)\n",
            "Requirement already satisfied: protobuf>=3.6.1 in /usr/local/lib/python3.6/dist-packages (from tensorflow-gpu==2.0.0-alpha0) (3.10.0)\n",
            "Requirement already satisfied: termcolor>=1.1.0 in /usr/local/lib/python3.6/dist-packages (from tensorflow-gpu==2.0.0-alpha0) (1.1.0)\n",
            "Requirement already satisfied: absl-py>=0.7.0 in /usr/local/lib/python3.6/dist-packages (from tensorflow-gpu==2.0.0-alpha0) (0.9.0)\n",
            "Requirement already satisfied: wheel>=0.26 in /usr/local/lib/python3.6/dist-packages (from tensorflow-gpu==2.0.0-alpha0) (0.34.2)\n",
            "Requirement already satisfied: tf-estimator-nightly<1.14.0.dev2019030116,>=1.14.0.dev2019030115 in /usr/local/lib/python3.6/dist-packages (from tensorflow-gpu==2.0.0-alpha0) (1.14.0.dev2019030115)\n",
            "Requirement already satisfied: numpy<2.0,>=1.14.5 in /usr/local/lib/python3.6/dist-packages (from tensorflow-gpu==2.0.0-alpha0) (1.17.5)\n",
            "Requirement already satisfied: tb-nightly<1.14.0a20190302,>=1.14.0a20190301 in /usr/local/lib/python3.6/dist-packages (from tensorflow-gpu==2.0.0-alpha0) (1.14.0a20190301)\n",
            "Requirement already satisfied: astor>=0.6.0 in /usr/local/lib/python3.6/dist-packages (from tensorflow-gpu==2.0.0-alpha0) (0.8.1)\n",
            "Requirement already satisfied: grpcio>=1.8.6 in /usr/local/lib/python3.6/dist-packages (from tensorflow-gpu==2.0.0-alpha0) (1.27.1)\n",
            "Requirement already satisfied: google-pasta>=0.1.2 in /usr/local/lib/python3.6/dist-packages (from tensorflow-gpu==2.0.0-alpha0) (0.1.8)\n",
            "Requirement already satisfied: keras-preprocessing>=1.0.5 in /usr/local/lib/python3.6/dist-packages (from tensorflow-gpu==2.0.0-alpha0) (1.1.0)\n",
            "Requirement already satisfied: gast>=0.2.0 in /usr/local/lib/python3.6/dist-packages (from tensorflow-gpu==2.0.0-alpha0) (0.2.2)\n",
            "Requirement already satisfied: keras-applications>=1.0.6 in /usr/local/lib/python3.6/dist-packages (from tensorflow-gpu==2.0.0-alpha0) (1.0.8)\n",
            "Requirement already satisfied: setuptools in /usr/local/lib/python3.6/dist-packages (from protobuf>=3.6.1->tensorflow-gpu==2.0.0-alpha0) (45.1.0)\n",
            "Requirement already satisfied: markdown>=2.6.8 in /usr/local/lib/python3.6/dist-packages (from tb-nightly<1.14.0a20190302,>=1.14.0a20190301->tensorflow-gpu==2.0.0-alpha0) (3.2.1)\n",
            "Requirement already satisfied: werkzeug>=0.11.15 in /usr/local/lib/python3.6/dist-packages (from tb-nightly<1.14.0a20190302,>=1.14.0a20190301->tensorflow-gpu==2.0.0-alpha0) (1.0.0)\n",
            "Requirement already satisfied: h5py in /usr/local/lib/python3.6/dist-packages (from keras-applications>=1.0.6->tensorflow-gpu==2.0.0-alpha0) (2.8.0)\n"
          ],
          "name": "stdout"
        }
      ]
    },
    {
      "cell_type": "code",
      "metadata": {
        "_uuid": "d629ff2d2480ee46fbb7e2d37f6b5fab8052498a",
        "_cell_guid": "79c7e3d0-c299-4dcb-8224-4455121ee9b0",
        "trusted": true,
        "id": "VS9QD04HVlVu",
        "colab_type": "code",
        "outputId": "b9ce839d-6c6c-4ef2-e6cc-d900f6898754",
        "colab": {
          "base_uri": "https://localhost:8080/",
          "height": 903
        }
      },
      "source": [
        "import unicodedata\n",
        "import pandas as pd\n",
        "import numpy as np\n",
        "import tensorflow as tf\n",
        "\n",
        "from matplotlib.pyplot import *\n",
        "import string\n",
        "from string import digits\n",
        "import matplotlib.pyplot as plt\n",
        "%matplotlib inline\n",
        "import re\n",
        "import copy\n",
        "import math\n",
        "import seaborn as sns; sns.set()\n",
        "import keras as keras\n",
        "from keras.optimizers import SGD\n",
        "from keras.initializers import RandomUniform\n",
        "from sklearn.utils import shuffle\n",
        "from sklearn.model_selection import train_test_split\n",
        "from tensorflow.keras.models import Sequential, Model, load_model\n",
        "from tensorflow.keras.layers import Embedding, Dense, LSTM, Input, Embedding, TimeDistributed, Flatten, Dropout, Activation, dot, concatenate, Bidirectional\n",
        "from keras.callbacks import ModelCheckpoint\n",
        "from nltk.translate.bleu_score import sentence_bleu\n",
        "from nltk.translate.bleu_score import SmoothingFunction"
      ],
      "execution_count": 4,
      "outputs": [
        {
          "output_type": "error",
          "ename": "ImportError",
          "evalue": "ignored",
          "traceback": [
            "\u001b[0;31m---------------------------------------------------------------------------\u001b[0m",
            "\u001b[0;31mImportError\u001b[0m                               Traceback (most recent call last)",
            "\u001b[0;32m/usr/local/lib/python3.6/dist-packages/tensorflow/python/pywrap_tensorflow.py\u001b[0m in \u001b[0;36m<module>\u001b[0;34m()\u001b[0m\n\u001b[1;32m     57\u001b[0m \u001b[0;34m\u001b[0m\u001b[0m\n\u001b[0;32m---> 58\u001b[0;31m   \u001b[0;32mfrom\u001b[0m \u001b[0mtensorflow\u001b[0m\u001b[0;34m.\u001b[0m\u001b[0mpython\u001b[0m\u001b[0;34m.\u001b[0m\u001b[0mpywrap_tensorflow_internal\u001b[0m \u001b[0;32mimport\u001b[0m \u001b[0;34m*\u001b[0m\u001b[0;34m\u001b[0m\u001b[0;34m\u001b[0m\u001b[0m\n\u001b[0m\u001b[1;32m     59\u001b[0m   \u001b[0;32mfrom\u001b[0m \u001b[0mtensorflow\u001b[0m\u001b[0;34m.\u001b[0m\u001b[0mpython\u001b[0m\u001b[0;34m.\u001b[0m\u001b[0mpywrap_tensorflow_internal\u001b[0m \u001b[0;32mimport\u001b[0m \u001b[0m__version__\u001b[0m\u001b[0;34m\u001b[0m\u001b[0;34m\u001b[0m\u001b[0m\n",
            "\u001b[0;32m/usr/local/lib/python3.6/dist-packages/tensorflow/python/pywrap_tensorflow_internal.py\u001b[0m in \u001b[0;36m<module>\u001b[0;34m()\u001b[0m\n\u001b[1;32m     27\u001b[0m             \u001b[0;32mreturn\u001b[0m \u001b[0m_mod\u001b[0m\u001b[0;34m\u001b[0m\u001b[0;34m\u001b[0m\u001b[0m\n\u001b[0;32m---> 28\u001b[0;31m     \u001b[0m_pywrap_tensorflow_internal\u001b[0m \u001b[0;34m=\u001b[0m \u001b[0mswig_import_helper\u001b[0m\u001b[0;34m(\u001b[0m\u001b[0;34m)\u001b[0m\u001b[0;34m\u001b[0m\u001b[0;34m\u001b[0m\u001b[0m\n\u001b[0m\u001b[1;32m     29\u001b[0m     \u001b[0;32mdel\u001b[0m \u001b[0mswig_import_helper\u001b[0m\u001b[0;34m\u001b[0m\u001b[0;34m\u001b[0m\u001b[0m\n",
            "\u001b[0;32m/usr/local/lib/python3.6/dist-packages/tensorflow/python/pywrap_tensorflow_internal.py\u001b[0m in \u001b[0;36mswig_import_helper\u001b[0;34m()\u001b[0m\n\u001b[1;32m     23\u001b[0m             \u001b[0;32mtry\u001b[0m\u001b[0;34m:\u001b[0m\u001b[0;34m\u001b[0m\u001b[0;34m\u001b[0m\u001b[0m\n\u001b[0;32m---> 24\u001b[0;31m                 \u001b[0m_mod\u001b[0m \u001b[0;34m=\u001b[0m \u001b[0mimp\u001b[0m\u001b[0;34m.\u001b[0m\u001b[0mload_module\u001b[0m\u001b[0;34m(\u001b[0m\u001b[0;34m'_pywrap_tensorflow_internal'\u001b[0m\u001b[0;34m,\u001b[0m \u001b[0mfp\u001b[0m\u001b[0;34m,\u001b[0m \u001b[0mpathname\u001b[0m\u001b[0;34m,\u001b[0m \u001b[0mdescription\u001b[0m\u001b[0;34m)\u001b[0m\u001b[0;34m\u001b[0m\u001b[0;34m\u001b[0m\u001b[0m\n\u001b[0m\u001b[1;32m     25\u001b[0m             \u001b[0;32mfinally\u001b[0m\u001b[0;34m:\u001b[0m\u001b[0;34m\u001b[0m\u001b[0;34m\u001b[0m\u001b[0m\n",
            "\u001b[0;32m/usr/lib/python3.6/imp.py\u001b[0m in \u001b[0;36mload_module\u001b[0;34m(name, file, filename, details)\u001b[0m\n\u001b[1;32m    242\u001b[0m         \u001b[0;32melse\u001b[0m\u001b[0;34m:\u001b[0m\u001b[0;34m\u001b[0m\u001b[0;34m\u001b[0m\u001b[0m\n\u001b[0;32m--> 243\u001b[0;31m             \u001b[0;32mreturn\u001b[0m \u001b[0mload_dynamic\u001b[0m\u001b[0;34m(\u001b[0m\u001b[0mname\u001b[0m\u001b[0;34m,\u001b[0m \u001b[0mfilename\u001b[0m\u001b[0;34m,\u001b[0m \u001b[0mfile\u001b[0m\u001b[0;34m)\u001b[0m\u001b[0;34m\u001b[0m\u001b[0;34m\u001b[0m\u001b[0m\n\u001b[0m\u001b[1;32m    244\u001b[0m     \u001b[0;32melif\u001b[0m \u001b[0mtype_\u001b[0m \u001b[0;34m==\u001b[0m \u001b[0mPKG_DIRECTORY\u001b[0m\u001b[0;34m:\u001b[0m\u001b[0;34m\u001b[0m\u001b[0;34m\u001b[0m\u001b[0m\n",
            "\u001b[0;32m/usr/lib/python3.6/imp.py\u001b[0m in \u001b[0;36mload_dynamic\u001b[0;34m(name, path, file)\u001b[0m\n\u001b[1;32m    342\u001b[0m             name=name, loader=loader, origin=path)\n\u001b[0;32m--> 343\u001b[0;31m         \u001b[0;32mreturn\u001b[0m \u001b[0m_load\u001b[0m\u001b[0;34m(\u001b[0m\u001b[0mspec\u001b[0m\u001b[0;34m)\u001b[0m\u001b[0;34m\u001b[0m\u001b[0;34m\u001b[0m\u001b[0m\n\u001b[0m\u001b[1;32m    344\u001b[0m \u001b[0;34m\u001b[0m\u001b[0m\n",
            "\u001b[0;31mImportError\u001b[0m: libcublas.so.10.0: cannot open shared object file: No such file or directory",
            "\nDuring handling of the above exception, another exception occurred:\n",
            "\u001b[0;31mImportError\u001b[0m                               Traceback (most recent call last)",
            "\u001b[0;32m<ipython-input-4-11a3a6bfa468>\u001b[0m in \u001b[0;36m<module>\u001b[0;34m()\u001b[0m\n\u001b[1;32m      2\u001b[0m \u001b[0;32mimport\u001b[0m \u001b[0mpandas\u001b[0m \u001b[0;32mas\u001b[0m \u001b[0mpd\u001b[0m\u001b[0;34m\u001b[0m\u001b[0;34m\u001b[0m\u001b[0m\n\u001b[1;32m      3\u001b[0m \u001b[0;32mimport\u001b[0m \u001b[0mnumpy\u001b[0m \u001b[0;32mas\u001b[0m \u001b[0mnp\u001b[0m\u001b[0;34m\u001b[0m\u001b[0;34m\u001b[0m\u001b[0m\n\u001b[0;32m----> 4\u001b[0;31m \u001b[0;32mimport\u001b[0m \u001b[0mtensorflow\u001b[0m \u001b[0;32mas\u001b[0m \u001b[0mtf\u001b[0m\u001b[0;34m\u001b[0m\u001b[0;34m\u001b[0m\u001b[0m\n\u001b[0m\u001b[1;32m      5\u001b[0m \u001b[0;34m\u001b[0m\u001b[0m\n\u001b[1;32m      6\u001b[0m \u001b[0;32mfrom\u001b[0m \u001b[0mmatplotlib\u001b[0m\u001b[0;34m.\u001b[0m\u001b[0mpyplot\u001b[0m \u001b[0;32mimport\u001b[0m \u001b[0;34m*\u001b[0m\u001b[0;34m\u001b[0m\u001b[0;34m\u001b[0m\u001b[0m\n",
            "\u001b[0;32m/usr/local/lib/python3.6/dist-packages/google/colab/_import_hooks/_tensorflow.py\u001b[0m in \u001b[0;36mload_module\u001b[0;34m(self, fullname)\u001b[0m\n\u001b[1;32m     32\u001b[0m     \u001b[0;34m\"\"\"Loads Tensorflow normally and emits a notification.\"\"\"\u001b[0m\u001b[0;34m\u001b[0m\u001b[0;34m\u001b[0m\u001b[0m\n\u001b[1;32m     33\u001b[0m     \u001b[0mpreviously_loaded\u001b[0m \u001b[0;34m=\u001b[0m \u001b[0mfullname\u001b[0m \u001b[0;32min\u001b[0m \u001b[0msys\u001b[0m\u001b[0;34m.\u001b[0m\u001b[0mmodules\u001b[0m\u001b[0;34m\u001b[0m\u001b[0;34m\u001b[0m\u001b[0m\n\u001b[0;32m---> 34\u001b[0;31m     \u001b[0mtf_module\u001b[0m \u001b[0;34m=\u001b[0m \u001b[0mimp\u001b[0m\u001b[0;34m.\u001b[0m\u001b[0mload_module\u001b[0m\u001b[0;34m(\u001b[0m\u001b[0mfullname\u001b[0m\u001b[0;34m,\u001b[0m \u001b[0;34m*\u001b[0m\u001b[0mself\u001b[0m\u001b[0;34m.\u001b[0m\u001b[0mmodule_info\u001b[0m\u001b[0;34m)\u001b[0m\u001b[0;34m\u001b[0m\u001b[0;34m\u001b[0m\u001b[0m\n\u001b[0m\u001b[1;32m     35\u001b[0m \u001b[0;34m\u001b[0m\u001b[0m\n\u001b[1;32m     36\u001b[0m     if (tf_module.__version__.startswith('1') and\n",
            "\u001b[0;32m/usr/lib/python3.6/imp.py\u001b[0m in \u001b[0;36mload_module\u001b[0;34m(name, file, filename, details)\u001b[0m\n\u001b[1;32m    243\u001b[0m             \u001b[0;32mreturn\u001b[0m \u001b[0mload_dynamic\u001b[0m\u001b[0;34m(\u001b[0m\u001b[0mname\u001b[0m\u001b[0;34m,\u001b[0m \u001b[0mfilename\u001b[0m\u001b[0;34m,\u001b[0m \u001b[0mfile\u001b[0m\u001b[0;34m)\u001b[0m\u001b[0;34m\u001b[0m\u001b[0;34m\u001b[0m\u001b[0m\n\u001b[1;32m    244\u001b[0m     \u001b[0;32melif\u001b[0m \u001b[0mtype_\u001b[0m \u001b[0;34m==\u001b[0m \u001b[0mPKG_DIRECTORY\u001b[0m\u001b[0;34m:\u001b[0m\u001b[0;34m\u001b[0m\u001b[0;34m\u001b[0m\u001b[0m\n\u001b[0;32m--> 245\u001b[0;31m         \u001b[0;32mreturn\u001b[0m \u001b[0mload_package\u001b[0m\u001b[0;34m(\u001b[0m\u001b[0mname\u001b[0m\u001b[0;34m,\u001b[0m \u001b[0mfilename\u001b[0m\u001b[0;34m)\u001b[0m\u001b[0;34m\u001b[0m\u001b[0;34m\u001b[0m\u001b[0m\n\u001b[0m\u001b[1;32m    246\u001b[0m     \u001b[0;32melif\u001b[0m \u001b[0mtype_\u001b[0m \u001b[0;34m==\u001b[0m \u001b[0mC_BUILTIN\u001b[0m\u001b[0;34m:\u001b[0m\u001b[0;34m\u001b[0m\u001b[0;34m\u001b[0m\u001b[0m\n\u001b[1;32m    247\u001b[0m         \u001b[0;32mreturn\u001b[0m \u001b[0minit_builtin\u001b[0m\u001b[0;34m(\u001b[0m\u001b[0mname\u001b[0m\u001b[0;34m)\u001b[0m\u001b[0;34m\u001b[0m\u001b[0;34m\u001b[0m\u001b[0m\n",
            "\u001b[0;32m/usr/lib/python3.6/imp.py\u001b[0m in \u001b[0;36mload_package\u001b[0;34m(name, path)\u001b[0m\n\u001b[1;32m    215\u001b[0m         \u001b[0;32mreturn\u001b[0m \u001b[0m_exec\u001b[0m\u001b[0;34m(\u001b[0m\u001b[0mspec\u001b[0m\u001b[0;34m,\u001b[0m \u001b[0msys\u001b[0m\u001b[0;34m.\u001b[0m\u001b[0mmodules\u001b[0m\u001b[0;34m[\u001b[0m\u001b[0mname\u001b[0m\u001b[0;34m]\u001b[0m\u001b[0;34m)\u001b[0m\u001b[0;34m\u001b[0m\u001b[0;34m\u001b[0m\u001b[0m\n\u001b[1;32m    216\u001b[0m     \u001b[0;32melse\u001b[0m\u001b[0;34m:\u001b[0m\u001b[0;34m\u001b[0m\u001b[0;34m\u001b[0m\u001b[0m\n\u001b[0;32m--> 217\u001b[0;31m         \u001b[0;32mreturn\u001b[0m \u001b[0m_load\u001b[0m\u001b[0;34m(\u001b[0m\u001b[0mspec\u001b[0m\u001b[0;34m)\u001b[0m\u001b[0;34m\u001b[0m\u001b[0;34m\u001b[0m\u001b[0m\n\u001b[0m\u001b[1;32m    218\u001b[0m \u001b[0;34m\u001b[0m\u001b[0m\n\u001b[1;32m    219\u001b[0m \u001b[0;34m\u001b[0m\u001b[0m\n",
            "\u001b[0;32m/usr/local/lib/python3.6/dist-packages/tensorflow/__init__.py\u001b[0m in \u001b[0;36m<module>\u001b[0;34m()\u001b[0m\n\u001b[1;32m     25\u001b[0m \u001b[0;32mimport\u001b[0m \u001b[0msys\u001b[0m \u001b[0;32mas\u001b[0m \u001b[0m_sys\u001b[0m\u001b[0;34m\u001b[0m\u001b[0;34m\u001b[0m\u001b[0m\n\u001b[1;32m     26\u001b[0m \u001b[0;34m\u001b[0m\u001b[0m\n\u001b[0;32m---> 27\u001b[0;31m \u001b[0;32mfrom\u001b[0m \u001b[0mtensorflow\u001b[0m\u001b[0;34m.\u001b[0m\u001b[0m_api\u001b[0m\u001b[0;34m.\u001b[0m\u001b[0mv2\u001b[0m \u001b[0;32mimport\u001b[0m \u001b[0maudio\u001b[0m\u001b[0;34m\u001b[0m\u001b[0;34m\u001b[0m\u001b[0m\n\u001b[0m\u001b[1;32m     28\u001b[0m \u001b[0;32mfrom\u001b[0m \u001b[0mtensorflow\u001b[0m\u001b[0;34m.\u001b[0m\u001b[0m_api\u001b[0m\u001b[0;34m.\u001b[0m\u001b[0mv2\u001b[0m \u001b[0;32mimport\u001b[0m \u001b[0mautograph\u001b[0m\u001b[0;34m\u001b[0m\u001b[0;34m\u001b[0m\u001b[0m\n\u001b[1;32m     29\u001b[0m \u001b[0;32mfrom\u001b[0m \u001b[0mtensorflow\u001b[0m\u001b[0;34m.\u001b[0m\u001b[0m_api\u001b[0m\u001b[0;34m.\u001b[0m\u001b[0mv2\u001b[0m \u001b[0;32mimport\u001b[0m \u001b[0mbitwise\u001b[0m\u001b[0;34m\u001b[0m\u001b[0;34m\u001b[0m\u001b[0m\n",
            "\u001b[0;32m/usr/local/lib/python3.6/dist-packages/tensorflow/_api/v2/audio/__init__.py\u001b[0m in \u001b[0;36m<module>\u001b[0;34m()\u001b[0m\n\u001b[1;32m      6\u001b[0m \u001b[0;32mfrom\u001b[0m \u001b[0m__future__\u001b[0m \u001b[0;32mimport\u001b[0m \u001b[0mprint_function\u001b[0m \u001b[0;32mas\u001b[0m \u001b[0m_print_function\u001b[0m\u001b[0;34m\u001b[0m\u001b[0;34m\u001b[0m\u001b[0m\n\u001b[1;32m      7\u001b[0m \u001b[0;34m\u001b[0m\u001b[0m\n\u001b[0;32m----> 8\u001b[0;31m \u001b[0;32mfrom\u001b[0m \u001b[0mtensorflow\u001b[0m\u001b[0;34m.\u001b[0m\u001b[0mpython\u001b[0m\u001b[0;34m.\u001b[0m\u001b[0mops\u001b[0m\u001b[0;34m.\u001b[0m\u001b[0mgen_audio_ops\u001b[0m \u001b[0;32mimport\u001b[0m \u001b[0mdecode_wav\u001b[0m\u001b[0;34m\u001b[0m\u001b[0;34m\u001b[0m\u001b[0m\n\u001b[0m\u001b[1;32m      9\u001b[0m \u001b[0;32mfrom\u001b[0m \u001b[0mtensorflow\u001b[0m\u001b[0;34m.\u001b[0m\u001b[0mpython\u001b[0m\u001b[0;34m.\u001b[0m\u001b[0mops\u001b[0m\u001b[0;34m.\u001b[0m\u001b[0mgen_audio_ops\u001b[0m \u001b[0;32mimport\u001b[0m \u001b[0mencode_wav\u001b[0m\u001b[0;34m\u001b[0m\u001b[0;34m\u001b[0m\u001b[0m\n\u001b[1;32m     10\u001b[0m \u001b[0;34m\u001b[0m\u001b[0m\n",
            "\u001b[0;32m/usr/local/lib/python3.6/dist-packages/tensorflow/python/__init__.py\u001b[0m in \u001b[0;36m<module>\u001b[0;34m()\u001b[0m\n\u001b[1;32m     47\u001b[0m \u001b[0;32mimport\u001b[0m \u001b[0mnumpy\u001b[0m \u001b[0;32mas\u001b[0m \u001b[0mnp\u001b[0m\u001b[0;34m\u001b[0m\u001b[0;34m\u001b[0m\u001b[0m\n\u001b[1;32m     48\u001b[0m \u001b[0;34m\u001b[0m\u001b[0m\n\u001b[0;32m---> 49\u001b[0;31m \u001b[0;32mfrom\u001b[0m \u001b[0mtensorflow\u001b[0m\u001b[0;34m.\u001b[0m\u001b[0mpython\u001b[0m \u001b[0;32mimport\u001b[0m \u001b[0mpywrap_tensorflow\u001b[0m\u001b[0;34m\u001b[0m\u001b[0;34m\u001b[0m\u001b[0m\n\u001b[0m\u001b[1;32m     50\u001b[0m \u001b[0;34m\u001b[0m\u001b[0m\n\u001b[1;32m     51\u001b[0m \u001b[0;31m# Protocol buffers\u001b[0m\u001b[0;34m\u001b[0m\u001b[0;34m\u001b[0m\u001b[0;34m\u001b[0m\u001b[0m\n",
            "\u001b[0;32m/usr/local/lib/python3.6/dist-packages/tensorflow/python/pywrap_tensorflow.py\u001b[0m in \u001b[0;36m<module>\u001b[0;34m()\u001b[0m\n\u001b[1;32m     72\u001b[0m \u001b[0;32mfor\u001b[0m \u001b[0msome\u001b[0m \u001b[0mcommon\u001b[0m \u001b[0mreasons\u001b[0m \u001b[0;32mand\u001b[0m \u001b[0msolutions\u001b[0m\u001b[0;34m.\u001b[0m  \u001b[0mInclude\u001b[0m \u001b[0mthe\u001b[0m \u001b[0mentire\u001b[0m \u001b[0mstack\u001b[0m \u001b[0mtrace\u001b[0m\u001b[0;34m\u001b[0m\u001b[0;34m\u001b[0m\u001b[0m\n\u001b[1;32m     73\u001b[0m above this error message when asking for help.\"\"\" % traceback.format_exc()\n\u001b[0;32m---> 74\u001b[0;31m   \u001b[0;32mraise\u001b[0m \u001b[0mImportError\u001b[0m\u001b[0;34m(\u001b[0m\u001b[0mmsg\u001b[0m\u001b[0;34m)\u001b[0m\u001b[0;34m\u001b[0m\u001b[0;34m\u001b[0m\u001b[0m\n\u001b[0m\u001b[1;32m     75\u001b[0m \u001b[0;34m\u001b[0m\u001b[0m\n\u001b[1;32m     76\u001b[0m \u001b[0;31m# pylint: enable=wildcard-import,g-import-not-at-top,unused-import,line-too-long\u001b[0m\u001b[0;34m\u001b[0m\u001b[0;34m\u001b[0m\u001b[0;34m\u001b[0m\u001b[0m\n",
            "\u001b[0;31mImportError\u001b[0m: Traceback (most recent call last):\n  File \"/usr/local/lib/python3.6/dist-packages/tensorflow/python/pywrap_tensorflow.py\", line 58, in <module>\n    from tensorflow.python.pywrap_tensorflow_internal import *\n  File \"/usr/local/lib/python3.6/dist-packages/tensorflow/python/pywrap_tensorflow_internal.py\", line 28, in <module>\n    _pywrap_tensorflow_internal = swig_import_helper()\n  File \"/usr/local/lib/python3.6/dist-packages/tensorflow/python/pywrap_tensorflow_internal.py\", line 24, in swig_import_helper\n    _mod = imp.load_module('_pywrap_tensorflow_internal', fp, pathname, description)\n  File \"/usr/lib/python3.6/imp.py\", line 243, in load_module\n    return load_dynamic(name, filename, file)\n  File \"/usr/lib/python3.6/imp.py\", line 343, in load_dynamic\n    return _load(spec)\nImportError: libcublas.so.10.0: cannot open shared object file: No such file or directory\n\n\nFailed to load the native TensorFlow runtime.\n\nSee https://www.tensorflow.org/install/errors\n\nfor some common reasons and solutions.  Include the entire stack trace\nabove this error message when asking for help.",
            "",
            "\u001b[0;31m---------------------------------------------------------------------------\u001b[0;32m\nNOTE: If your import is failing due to a missing package, you can\nmanually install dependencies using either !pip or !apt.\n\nTo view examples of installing some common dependencies, click the\n\"Open Examples\" button below.\n\u001b[0;31m---------------------------------------------------------------------------\u001b[0m\n"
          ]
        }
      ]
    },
    {
      "cell_type": "code",
      "metadata": {
        "id": "tXYXqlDlXDn6",
        "colab_type": "code",
        "outputId": "5e9cedb9-c3ea-42f1-f627-635516a587a6",
        "colab": {
          "base_uri": "https://localhost:8080/",
          "height": 167
        }
      },
      "source": [
        "tf.__version__"
      ],
      "execution_count": 5,
      "outputs": [
        {
          "output_type": "error",
          "ename": "NameError",
          "evalue": "ignored",
          "traceback": [
            "\u001b[0;31m---------------------------------------------------------------------------\u001b[0m",
            "\u001b[0;31mNameError\u001b[0m                                 Traceback (most recent call last)",
            "\u001b[0;32m<ipython-input-5-65996cac02ec>\u001b[0m in \u001b[0;36m<module>\u001b[0;34m()\u001b[0m\n\u001b[0;32m----> 1\u001b[0;31m \u001b[0mtf\u001b[0m\u001b[0;34m.\u001b[0m\u001b[0m__version__\u001b[0m\u001b[0;34m\u001b[0m\u001b[0;34m\u001b[0m\u001b[0m\n\u001b[0m",
            "\u001b[0;31mNameError\u001b[0m: name 'tf' is not defined"
          ]
        }
      ]
    },
    {
      "cell_type": "code",
      "metadata": {
        "id": "tdP2oiBXXScN",
        "colab_type": "code",
        "outputId": "6ed27244-6286-4065-f490-aed3ddd37b46",
        "colab": {
          "base_uri": "https://localhost:8080/",
          "height": 52
        }
      },
      "source": [
        "from google.colab import drive\n",
        "drive.mount('/content/drive')\n",
        "%cd drive/My\\ Drive"
      ],
      "execution_count": 0,
      "outputs": [
        {
          "output_type": "stream",
          "text": [
            "Drive already mounted at /content/drive; to attempt to forcibly remount, call drive.mount(\"/content/drive\", force_remount=True).\n",
            "/content/drive/My Drive\n"
          ],
          "name": "stdout"
        }
      ]
    },
    {
      "cell_type": "code",
      "metadata": {
        "id": "R5Hm_SC9XToD",
        "colab_type": "code",
        "outputId": "c5da0d5b-d271-4c0e-8257-f071cc631db7",
        "colab": {
          "base_uri": "https://localhost:8080/",
          "height": 380
        }
      },
      "source": [
        "X = pd.read_table('./NLA S20 - Assignment 2 Data/enghin/train.en', names=['src'])\n",
        "Y_in = pd.read_table('./NLA S20 - Assignment 2 Data/enghin/train.hi', names=['dest_in'])\n",
        "Y_out = pd.read_table('./NLA S20 - Assignment 2 Data/enghin/train.hi', names=['dest_out'])\n",
        "lines = pd.concat([X[:20],Y_in[:20],Y_out[:20]], axis=1)\n",
        "print(len(lines))\n",
        "# lines = shuffle(lines)\n",
        "lines.sample(10)"
      ],
      "execution_count": 0,
      "outputs": [
        {
          "output_type": "stream",
          "text": [
            "20\n"
          ],
          "name": "stdout"
        },
        {
          "output_type": "execute_result",
          "data": {
            "text/html": [
              "<div>\n",
              "<style scoped>\n",
              "    .dataframe tbody tr th:only-of-type {\n",
              "        vertical-align: middle;\n",
              "    }\n",
              "\n",
              "    .dataframe tbody tr th {\n",
              "        vertical-align: top;\n",
              "    }\n",
              "\n",
              "    .dataframe thead th {\n",
              "        text-align: right;\n",
              "    }\n",
              "</style>\n",
              "<table border=\"1\" class=\"dataframe\">\n",
              "  <thead>\n",
              "    <tr style=\"text-align: right;\">\n",
              "      <th></th>\n",
              "      <th>src</th>\n",
              "      <th>dest_in</th>\n",
              "      <th>dest_out</th>\n",
              "    </tr>\n",
              "  </thead>\n",
              "  <tbody>\n",
              "    <tr>\n",
              "      <th>18</th>\n",
              "      <td>With the lack of vitamin-A the cornea becomes ...</td>\n",
              "      <td>विटामिन-ए की कमी से कॉर्नियल कमजोर तथा घाव हो ...</td>\n",
              "      <td>विटामिन-ए की कमी से कॉर्नियल कमजोर तथा घाव हो ...</td>\n",
              "    </tr>\n",
              "    <tr>\n",
              "      <th>12</th>\n",
              "      <td>Internal pressure keeps on increasing and the ...</td>\n",
              "      <td>अंदर का दबाव बढ़ता जाता है और नेत्र तंत्रिका न...</td>\n",
              "      <td>अंदर का दबाव बढ़ता जाता है और नेत्र तंत्रिका न...</td>\n",
              "    </tr>\n",
              "    <tr>\n",
              "      <th>5</th>\n",
              "      <td>In the S . . . . -LRB- Small Incision Cataract...</td>\n",
              "      <td>S.I.C.S ( Small Incision Cataract Surgry ) विध...</td>\n",
              "      <td>S.I.C.S ( Small Incision Cataract Surgry ) विध...</td>\n",
              "    </tr>\n",
              "    <tr>\n",
              "      <th>3</th>\n",
              "      <td>In the Extra Capsular Cataract Method , the pa...</td>\n",
              "      <td>इक्स्ट्रा कैनसूलर कैटरेक्ट एक्सट्रेक्शन विधि म...</td>\n",
              "      <td>इक्स्ट्रा कैनसूलर कैटरेक्ट एक्सट्रेक्शन विधि म...</td>\n",
              "    </tr>\n",
              "    <tr>\n",
              "      <th>6</th>\n",
              "      <td>No stitches are applied in the S . . . . -LRB-...</td>\n",
              "      <td>S.I.C.S ( Small Incision Cataract Surgry ) विध...</td>\n",
              "      <td>S.I.C.S ( Small Incision Cataract Surgry ) विध...</td>\n",
              "    </tr>\n",
              "    <tr>\n",
              "      <th>0</th>\n",
              "      <td>The treatment of cataract is possible through ...</td>\n",
              "      <td>मोतियाबिंद का उपचार केवल शल्य-चिकित्सा द्वारा ...</td>\n",
              "      <td>मोतियाबिंद का उपचार केवल शल्य-चिकित्सा द्वारा ...</td>\n",
              "    </tr>\n",
              "    <tr>\n",
              "      <th>13</th>\n",
              "      <td>Main symptoms on appearance of which a patient...</td>\n",
              "      <td>प्रमुख लक्षण जिनके प्रकट होने पर रोगी को डॉक्ट...</td>\n",
              "      <td>प्रमुख लक्षण जिनके प्रकट होने पर रोगी को डॉक्ट...</td>\n",
              "    </tr>\n",
              "    <tr>\n",
              "      <th>19</th>\n",
              "      <td>The lack of vitamin-A is even more imminent in...</td>\n",
              "      <td>विटामिन-ए की कमी खसरे तथा कुपोषण की स्थिति में...</td>\n",
              "      <td>विटामिन-ए की कमी खसरे तथा कुपोषण की स्थिति में...</td>\n",
              "    </tr>\n",
              "    <tr>\n",
              "      <th>10</th>\n",
              "      <td>If somebody suffers from black cataract in the...</td>\n",
              "      <td>यदि परिवार में किसी को काला मोतियाबिंद हो ।</td>\n",
              "      <td>यदि परिवार में किसी को काला मोतियाबिंद हो ।</td>\n",
              "    </tr>\n",
              "    <tr>\n",
              "      <th>7</th>\n",
              "      <td>In black cataract the eye nerves dilapidates g...</td>\n",
              "      <td>काला मोतियाबिंद में नेत्र तंत्रिका धीरे -धीरे ...</td>\n",
              "      <td>काला मोतियाबिंद में नेत्र तंत्रिका धीरे -धीरे ...</td>\n",
              "    </tr>\n",
              "  </tbody>\n",
              "</table>\n",
              "</div>"
            ],
            "text/plain": [
              "                                                  src  ...                                           dest_out\n",
              "18  With the lack of vitamin-A the cornea becomes ...  ...  विटामिन-ए की कमी से कॉर्नियल कमजोर तथा घाव हो ...\n",
              "12  Internal pressure keeps on increasing and the ...  ...  अंदर का दबाव बढ़ता जाता है और नेत्र तंत्रिका न...\n",
              "5   In the S . . . . -LRB- Small Incision Cataract...  ...  S.I.C.S ( Small Incision Cataract Surgry ) विध...\n",
              "3   In the Extra Capsular Cataract Method , the pa...  ...  इक्स्ट्रा कैनसूलर कैटरेक्ट एक्सट्रेक्शन विधि म...\n",
              "6   No stitches are applied in the S . . . . -LRB-...  ...  S.I.C.S ( Small Incision Cataract Surgry ) विध...\n",
              "0   The treatment of cataract is possible through ...  ...  मोतियाबिंद का उपचार केवल शल्य-चिकित्सा द्वारा ...\n",
              "13  Main symptoms on appearance of which a patient...  ...  प्रमुख लक्षण जिनके प्रकट होने पर रोगी को डॉक्ट...\n",
              "19  The lack of vitamin-A is even more imminent in...  ...  विटामिन-ए की कमी खसरे तथा कुपोषण की स्थिति में...\n",
              "10  If somebody suffers from black cataract in the...  ...        यदि परिवार में किसी को काला मोतियाबिंद हो ।\n",
              "7   In black cataract the eye nerves dilapidates g...  ...  काला मोतियाबिंद में नेत्र तंत्रिका धीरे -धीरे ...\n",
              "\n",
              "[10 rows x 3 columns]"
            ]
          },
          "metadata": {
            "tags": []
          },
          "execution_count": 28
        }
      ]
    },
    {
      "cell_type": "code",
      "metadata": {
        "trusted": true,
        "id": "UG0m8dw0VlV_",
        "colab_type": "code",
        "colab": {}
      },
      "source": [
        "def process_data(data,append_char):\n",
        "    data = data.apply(lambda x: x.lower())\n",
        "    data = data.apply(lambda x: x.strip())\n",
        "    data = data.apply(lambda x: re.sub(\"'\", '', x))\n",
        "    exclude = set(string.punctuation) # Set of all special characters\n",
        "    data = data.apply(lambda x: ''.join(ch for ch in x if ch not in exclude))\n",
        "    remove_digits = str.maketrans('', '', digits)\n",
        "    data = data.apply(lambda x: x.translate(remove_digits))\n",
        "    if append_char == 1:\n",
        "        data = data.apply(lambda x : '<sos> '+ x)\n",
        "    elif append_char == 2:\n",
        "        data = data.apply(lambda x : x + ' <eos>')\n",
        "    return data"
      ],
      "execution_count": 0,
      "outputs": []
    },
    {
      "cell_type": "code",
      "metadata": {
        "trusted": true,
        "id": "IyxG22xlVlWI",
        "colab_type": "code",
        "outputId": "f4a2632e-a1e6-47a2-9432-64180af77cf7",
        "colab": {
          "base_uri": "https://localhost:8080/",
          "height": 590
        }
      },
      "source": [
        "lines.src = process_data(lines.src,0)\n",
        "lines.dest_in = process_data(lines.dest_in,1)\n",
        "lines.dest_out = process_data(lines.dest_out,2)\n",
        "lines.src.sample(10),lines.dest_in.sample(10),lines.dest_out.sample(10)"
      ],
      "execution_count": 0,
      "outputs": [
        {
          "output_type": "execute_result",
          "data": {
            "text/plain": [
              "(4                   lens is fitted in the capsular bag \n",
              " 5     in the s     lrb small incision cataract surge...\n",
              " 6     no stitches are applied in the s     lrb small...\n",
              " 9          when the extra pressure is more in the eyes \n",
              " 19    the lack of vitamina is even more imminent in ...\n",
              " 7     in black cataract the eye nerves dilapidates g...\n",
              " 8     the blindness caused by the black cataract can...\n",
              " 12    internal pressure keeps on increasing and the ...\n",
              " 1     complete lens capsule is taken out in the meth...\n",
              " 15    we will check the eye nerves with special lens...\n",
              " Name: src, dtype: object,\n",
              " 15    <sos> विशेष लैन्स या यंत्र के द्वारा नेत्र तंत...\n",
              " 4      <sos> कैपस्यूलर बैग में लैन्स फिट किया जाता है ।\n",
              " 1     <sos> इन्ट्रा कैनसूलर कैटरेक्ट एक्सट्रेक्शन  i...\n",
              " 9          <sos> जब आँखों में अतिरिक्त दबाव ज्यादा हो ।\n",
              " 6     <sos> sics  small incision cataract surgry  वि...\n",
              " 8     <sos> काले मोतियाबिंद से होने वाली अधंता अंधता...\n",
              " 3     <sos> इक्स्ट्रा कैनसूलर कैटरेक्ट एक्सट्रेक्शन ...\n",
              " 5     <sos> sics  small incision cataract surgry  वि...\n",
              " 13    <sos> प्रमुख लक्षण जिनके प्रकट होने पर रोगी को...\n",
              " 2     <sos> ऑपरेशन के दौरान लैन्स प्रत्यारोपण आँख के...\n",
              " Name: dest_in, dtype: object,\n",
              " 2     ऑपरेशन के दौरान लैन्स प्रत्यारोपण आँख के अगले ...\n",
              " 1     इन्ट्रा कैनसूलर कैटरेक्ट एक्सट्रेक्शन  intra c...\n",
              " 12    अंदर का दबाव बढ़ता जाता है और नेत्र तंत्रिका न...\n",
              " 13    प्रमुख लक्षण जिनके प्रकट होने पर रोगी को डॉक्ट...\n",
              " 8     काले मोतियाबिंद से होने वाली अधंता अंधता को रो...\n",
              " 10    यदि परिवार में किसी को काला मोतियाबिंद हो । <eos>\n",
              " 4      कैपस्यूलर बैग में लैन्स फिट किया जाता है । <eos>\n",
              " 5     sics  small incision cataract surgry  विधि में...\n",
              " 15    विशेष लैन्स या यंत्र के द्वारा नेत्र तंत्रिका ...\n",
              " 0     मोतियाबिंद का उपचार केवल शल्यचिकित्सा द्वारा ह...\n",
              " Name: dest_out, dtype: object)"
            ]
          },
          "metadata": {
            "tags": []
          },
          "execution_count": 30
        }
      ]
    },
    {
      "cell_type": "code",
      "metadata": {
        "trusted": true,
        "id": "hctS3GJPVlXq",
        "colab_type": "code",
        "colab": {}
      },
      "source": [
        "X, y_in, y_out = lines.src.values, lines.dest_in.values, lines.dest_out.values \n",
        "X_train, X_test, y_in_train, y_in_test, y_out_train, y_out_test = train_test_split(X, y_in, y_out, test_size = 0.2,shuffle=False)"
      ],
      "execution_count": 0,
      "outputs": []
    },
    {
      "cell_type": "code",
      "metadata": {
        "trusted": true,
        "id": "eHA43VgCVlX2",
        "colab_type": "code",
        "colab": {}
      },
      "source": [
        "src_tokenizer = tf.keras.preprocessing.text.Tokenizer(filters='')\n",
        "src_tokenizer.fit_on_texts(X_train)\n",
        "\n",
        "data_src = src_tokenizer.texts_to_sequences(X_train)\n",
        "data_src = tf.keras.preprocessing.sequence.pad_sequences(data_src,padding='post')"
      ],
      "execution_count": 0,
      "outputs": []
    },
    {
      "cell_type": "code",
      "metadata": {
        "trusted": true,
        "id": "nR6cH5nCVlYa",
        "colab_type": "code",
        "outputId": "96183a83-b127-45e8-93f8-3ef25c35038c",
        "colab": {
          "base_uri": "https://localhost:8080/",
          "height": 52
        }
      },
      "source": [
        "dest_tokenizer = tf.keras.preprocessing.text.Tokenizer(filters='')\n",
        "\n",
        "dest_tokenizer.fit_on_texts(y_in_train)\n",
        "dest_tokenizer.fit_on_texts(y_out_train)\n",
        "\n",
        "data_dest_in = dest_tokenizer.texts_to_sequences(y_in_train)\n",
        "data_dest_in = tf.keras.preprocessing.sequence.pad_sequences(data_dest_in,padding='post')\n",
        "\n",
        "data_dest_out = dest_tokenizer.texts_to_sequences(y_out_train)\n",
        "data_dest_out = tf.keras.preprocessing.sequence.pad_sequences(data_dest_out,padding='post')\n",
        "\n",
        "print(data_dest_in.shape)\n",
        "print(data_dest_out.shape)"
      ],
      "execution_count": 0,
      "outputs": [
        {
          "output_type": "stream",
          "text": [
            "(16, 38)\n",
            "(16, 38)\n"
          ],
          "name": "stdout"
        }
      ]
    },
    {
      "cell_type": "code",
      "metadata": {
        "trusted": true,
        "id": "MbfbVZJ2VlYj",
        "colab_type": "code",
        "colab": {}
      },
      "source": [
        "class Encoder(tf.keras.Model):\n",
        "    def __init__(self, vocab_size, embedding_size, lstm_size):\n",
        "        super(Encoder, self).__init__()\n",
        "        self.lstm_size = lstm_size\n",
        "        self.embedding = tf.keras.layers.Embedding(vocab_size, embedding_size)\n",
        "        self.lstm_1 = tf.keras.layers.LSTM(lstm_size, return_sequences=True, return_state=True)\n",
        "        self.lstm_2 = tf.keras.layers.LSTM(lstm_size, return_sequences=True, return_state=True)\n",
        "\n",
        "    def call(self, sequence, states):\n",
        "        embed = self.embedding(sequence)\n",
        "        output, state_h, state_c = self.lstm_1(embed, initial_state=states)\n",
        "        output, state_h, state_c = self.lstm_2(output, initial_state=[state_h,state_c])\n",
        "        return output, state_h, state_c\n",
        "\n",
        "    def init_states(self, batch_size):\n",
        "        return (tf.zeros([batch_size, self.lstm_size]),\n",
        "                tf.zeros([batch_size, self.lstm_size]))"
      ],
      "execution_count": 0,
      "outputs": []
    },
    {
      "cell_type": "code",
      "metadata": {
        "id": "zQfpoKcUwkJ3",
        "colab_type": "code",
        "colab": {}
      },
      "source": [
        "class LuongAttention(tf.keras.Model):\n",
        "    def __init__(self, lstm_size):\n",
        "        super(LuongAttention, self).__init__()\n",
        "        self.wa = tf.keras.layers.Dense(lstm_size)\n",
        "\n",
        "    def call(self, decoder_output, encoder_output):\n",
        "        score = tf.matmul(decoder_output, self.wa(encoder_output), transpose_b=True)\n",
        "        attention_weights = tf.nn.softmax(score, axis=2)\n",
        "        context_vector = tf.matmul(attention_weights, encoder_output)\n",
        "        return context_vector, attention_weights"
      ],
      "execution_count": 0,
      "outputs": []
    },
    {
      "cell_type": "code",
      "metadata": {
        "id": "lUfY-c-NqQ-_",
        "colab_type": "code",
        "colab": {}
      },
      "source": [
        "class LuongAttentionDot(tf.keras.Model):\n",
        "    def __init__(self, lstm_size):\n",
        "        super(LuongAttentionDot, self).__init__()\n",
        "        self.wa = tf.keras.layers.Dense(lstm_size)\n",
        "\n",
        "    def call(self, decoder_output, encoder_output):\n",
        "        score = tf.matmul(decoder_output, encoder_output, transpose_b=True)\n",
        "        attention_weights = tf.nn.softmax(score, axis=2)\n",
        "        context_vector = tf.matmul(attention_weights, encoder_output)\n",
        "        return context_vector, attention_weights"
      ],
      "execution_count": 0,
      "outputs": []
    },
    {
      "cell_type": "code",
      "metadata": {
        "id": "_0bCsxa0dobg",
        "colab_type": "code",
        "colab": {}
      },
      "source": [
        "class BahdanauAttention(tf.keras.Model):\n",
        "  def __init__(self, lstm_size):\n",
        "    super(BahdanauAttention, self).__init__()\n",
        "    self.W1 = tf.keras.layers.Dense(lstm_size)\n",
        "    self.W2 = tf.keras.layers.Dense(lstm_size)\n",
        "    self.V = tf.keras.layers.Dense(1)\n",
        "\n",
        "  def call(self, decoder_output, encoder_output):\n",
        "    \n",
        "    score = self.V(tf.nn.tanh(self.W1(decoder_output) + self.W2(encoder_output)))\n",
        "    score = tf.transpose(score,perm=[0,2,1])\n",
        "    print(score.shape)\n",
        "    attention_weights = tf.nn.softmax(score, axis=2)\n",
        "    print(\"attention_weights: \",attention_weights.shape)\n",
        "    print(\"encoder_output: \",encoder_output.shape)\n",
        "    context_vector = tf.matmul(attention_weights, encoder_output)\n",
        "    print(\"context_vector: \",context_vector.shape)\n",
        "    return context_vector, attention_weights"
      ],
      "execution_count": 0,
      "outputs": []
    },
    {
      "cell_type": "code",
      "metadata": {
        "id": "CPHzL0Lhu_eT",
        "colab_type": "code",
        "colab": {}
      },
      "source": [
        "class BahdanauAttentionCoverage(tf.keras.Model):\n",
        "  def __init__(self, lstm_size):\n",
        "    super(BahdanauAttentionCoverage, self).__init__()\n",
        "    self.coverage = None\n",
        "    self.W1 = tf.keras.layers.Dense(lstm_size,name=\"W1\")\n",
        "    self.W2 = tf.keras.layers.Dense(lstm_size,name=\"W2\")\n",
        "    self.W3 = tf.keras.layers.Dense(lstm_size,name=\"W3\")\n",
        "    self.W4 = tf.keras.layers.Dense(lstm_size,name=\"W4\")\n",
        "    self.W5 = tf.keras.layers.Dense(lstm_size,name=\"W5\")\n",
        "    self.W6 = tf.keras.layers.Dense(lstm_size,name=\"W6\")\n",
        "    self.W7 = tf.keras.layers.Dense(lstm_size,name=\"W7\")\n",
        "    self.V1 = tf.keras.layers.Dense(1,name=\"V1\")\n",
        "    self.V2 = tf.keras.layers.Dense(1,name=\"V2\")\n",
        "\n",
        "  def call(self, decoder_output, encoder_output):\n",
        "    \n",
        "    if self.coverage is None: \n",
        "      self.coverage = decoder_output\n",
        "\n",
        "    score = self.V1(tf.nn.tanh(self.W1(decoder_output) + self.W2(encoder_output) + self.W3(self.coverage)))\n",
        "    score = tf.transpose(score,perm=[0,2,1])\n",
        "    \n",
        "    self.coverage = self.V1(tf.nn.tanh(self.W4(decoder_output) + self.W5(encoder_output) + self.W6(self.coverage)))\n",
        "    self.coverage = tf.reshape(self.coverage, tf.shape(encoder_output).numpy())\n",
        "    print(self.coverage.shape, decoder_output.shape, encoder_output.shape)\n",
        "\n",
        "\n",
        "    attention_weights = tf.nn.softmax(score, axis=2)\n",
        "    context_vector = tf.matmul(attention_weights, encoder_output)\n",
        "    # print(score.shape,decoder_output.shape,encoder_output.shape,attention_weights.shape,context_vector.shape)\n",
        "    return context_vector, attention_weights\n"
      ],
      "execution_count": 0,
      "outputs": []
    },
    {
      "cell_type": "code",
      "metadata": {
        "trusted": true,
        "id": "WNCnftgdVlYp",
        "colab_type": "code",
        "colab": {}
      },
      "source": [
        "class Decoder(tf.keras.Model):\n",
        "    def __init__(self, vocab_size, embedding_size, lstm_size, attn_type):\n",
        "        super(Decoder, self).__init__()\n",
        "\n",
        "        if attn_type == 'LuongAttention':\n",
        "          self.attention = LuongAttention(lstm_size)\n",
        "        elif attn_type == 'LuongAttentionDot':\n",
        "          self.attention = LuongAttentionDot(lstm_size)\n",
        "        elif attn_type == 'BahdanauAttention':\n",
        "          self.attention = BahdanauAttention(lstm_size)\n",
        "        elif attn_type == 'BahdanauAttentionCoverage':\n",
        "          self.attention = BahdanauAttentionCoverage(lstm_size)\n",
        "        \n",
        "        self.lstm_size = lstm_size\n",
        "        self.embedding = tf.keras.layers.Embedding(vocab_size, embedding_size)\n",
        "        self.lstm_1 = tf.keras.layers.LSTM(lstm_size, return_sequences=True, return_state=True)\n",
        "        self.lstm_2 = tf.keras.layers.LSTM(lstm_size, return_sequences=True, return_state=True)\n",
        "        self.wc = tf.keras.layers.Dense(lstm_size, activation='tanh')\n",
        "        self.ws = tf.keras.layers.Dense(vocab_size)\n",
        "\n",
        "    def call(self, sequence, state, encoder_output):\n",
        "\n",
        "        embed = self.embedding(sequence)\n",
        "        \n",
        "        lstm_out, state_h, state_c = self.lstm_1(embed, initial_state=state)\n",
        "        lstm_out, state_h, state_c = self.lstm_2(lstm_out, initial_state=[state_h,state_c])\n",
        "        context, alignment = self.attention(lstm_out, encoder_output)\n",
        "\n",
        "        lstm_out = tf.concat([tf.squeeze(context, 1), tf.squeeze(lstm_out, 1)], 1)\n",
        "        lstm_out = self.wc(lstm_out)\n",
        "        logits = self.ws(lstm_out)\n",
        "\n",
        "        return logits, state_h, state_c, alignment"
      ],
      "execution_count": 0,
      "outputs": []
    },
    {
      "cell_type": "code",
      "metadata": {
        "id": "R5MZyUaIWir_",
        "colab_type": "code",
        "outputId": "eb6c3256-a1d0-4898-b019-888963fa1e01",
        "colab": {
          "base_uri": "https://localhost:8080/",
          "height": 202
        }
      },
      "source": [
        "c = tf.constant([[1.0, 2.0, 3.0], [4.0, 5.0, 6.0]])\n",
        "print(c.shape)\n",
        "# repeat(c, repeats=[1, 3], axis=1) "
      ],
      "execution_count": 0,
      "outputs": [
        {
          "output_type": "error",
          "ename": "NameError",
          "evalue": "ignored",
          "traceback": [
            "\u001b[0;31m---------------------------------------------------------------------------\u001b[0m",
            "\u001b[0;31mNameError\u001b[0m                                 Traceback (most recent call last)",
            "\u001b[0;32m<ipython-input-1-cb950d557cd5>\u001b[0m in \u001b[0;36m<module>\u001b[0;34m()\u001b[0m\n\u001b[0;32m----> 1\u001b[0;31m \u001b[0mc\u001b[0m \u001b[0;34m=\u001b[0m \u001b[0mtf\u001b[0m\u001b[0;34m.\u001b[0m\u001b[0mconstant\u001b[0m\u001b[0;34m(\u001b[0m\u001b[0;34m[\u001b[0m\u001b[0;34m[\u001b[0m\u001b[0;36m1.0\u001b[0m\u001b[0;34m,\u001b[0m \u001b[0;36m2.0\u001b[0m\u001b[0;34m,\u001b[0m \u001b[0;36m3.0\u001b[0m\u001b[0;34m]\u001b[0m\u001b[0;34m,\u001b[0m \u001b[0;34m[\u001b[0m\u001b[0;36m4.0\u001b[0m\u001b[0;34m,\u001b[0m \u001b[0;36m5.0\u001b[0m\u001b[0;34m,\u001b[0m \u001b[0;36m6.0\u001b[0m\u001b[0;34m]\u001b[0m\u001b[0;34m]\u001b[0m\u001b[0;34m)\u001b[0m\u001b[0;34m\u001b[0m\u001b[0;34m\u001b[0m\u001b[0m\n\u001b[0m\u001b[1;32m      2\u001b[0m \u001b[0mprint\u001b[0m\u001b[0;34m(\u001b[0m\u001b[0mc\u001b[0m\u001b[0;34m.\u001b[0m\u001b[0mshape\u001b[0m\u001b[0;34m)\u001b[0m\u001b[0;34m\u001b[0m\u001b[0;34m\u001b[0m\u001b[0m\n\u001b[1;32m      3\u001b[0m \u001b[0;31m# repeat(c, repeats=[1, 3], axis=1)\u001b[0m\u001b[0;34m\u001b[0m\u001b[0;34m\u001b[0m\u001b[0;34m\u001b[0m\u001b[0m\n",
            "\u001b[0;31mNameError\u001b[0m: name 'tf' is not defined"
          ]
        }
      ]
    },
    {
      "cell_type": "code",
      "metadata": {
        "id": "ME_nQdjnYfAk",
        "colab_type": "code",
        "colab": {}
      },
      "source": [
        "BATCH_SIZE = 2\n",
        "EMBEDDING_SIZE = 256\n",
        "LSTM_SIZE = 256"
      ],
      "execution_count": 0,
      "outputs": []
    },
    {
      "cell_type": "code",
      "metadata": {
        "trusted": true,
        "id": "SQRK3GwjVlYd",
        "colab_type": "code",
        "outputId": "fda4beca-b4b7-4f1d-d484-2cf29593eabc",
        "colab": {
          "base_uri": "https://localhost:8080/",
          "height": 34
        }
      },
      "source": [
        "dataset = tf.data.Dataset.from_tensor_slices((data_src, data_dest_in, data_dest_out))\n",
        "dataset = dataset.shuffle(20).batch(BATCH_SIZE)\n",
        "print(dataset)"
      ],
      "execution_count": 0,
      "outputs": [
        {
          "output_type": "stream",
          "text": [
            "<BatchDataset shapes: ((None, 31), (None, 38), (None, 38)), types: (tf.int32, tf.int32, tf.int32)>\n"
          ],
          "name": "stdout"
        }
      ]
    },
    {
      "cell_type": "code",
      "metadata": {
        "trusted": true,
        "id": "fNmuoKfFVlYu",
        "colab_type": "code",
        "colab": {}
      },
      "source": [
        "def get_model(attn_type):\n",
        "  src_vocab_size = len(src_tokenizer.word_index) + 1\n",
        "  dest_vocab_size = len(dest_tokenizer.word_index) + 1\n",
        "\n",
        "  encoder = Encoder(src_vocab_size, EMBEDDING_SIZE, LSTM_SIZE)\n",
        "  decoder = Decoder(dest_vocab_size, EMBEDDING_SIZE, LSTM_SIZE,attn_type)\n",
        "  return encoder, decoder"
      ],
      "execution_count": 0,
      "outputs": []
    },
    {
      "cell_type": "code",
      "metadata": {
        "trusted": true,
        "id": "7KWUdSdhVlYy",
        "colab_type": "code",
        "colab": {}
      },
      "source": [
        "def loss_func(targets, logits):\n",
        "    crossentropy = tf.keras.losses.SparseCategoricalCrossentropy(from_logits=True)\n",
        "    mask = tf.math.logical_not(tf.math.equal(targets, 0))\n",
        "    mask = tf.cast(mask, dtype=tf.int64)\n",
        "    loss = crossentropy(targets, logits, sample_weight=mask)\n",
        "\n",
        "    return loss"
      ],
      "execution_count": 0,
      "outputs": []
    },
    {
      "cell_type": "code",
      "metadata": {
        "trusted": true,
        "id": "JuoO4txGVlY3",
        "colab_type": "code",
        "colab": {}
      },
      "source": [
        "optimizer = tf.keras.optimizers.Adam(learning_rate=0.01)\n",
        "# optimizer = tf.keras.optimizers.Adagrad(learning_rate=0.01,initial_accumulator_value=0.2)\n",
        "# optimizer = tf.keras.optimizers.SGD(learning_rate=0.03)"
      ],
      "execution_count": 0,
      "outputs": []
    },
    {
      "cell_type": "code",
      "metadata": {
        "trusted": true,
        "id": "tyva_R0LVlY6",
        "colab_type": "code",
        "colab": {}
      },
      "source": [
        "def train_step(model,source_seq, target_seq_in, target_seq_out, en_initial_states):\n",
        "    loss = 0\n",
        "    encoder = model[\"encoder\"]\n",
        "    decoder = model[\"decoder\"]\n",
        "    with tf.GradientTape() as tape:\n",
        "        en_outputs = encoder(source_seq, en_initial_states)\n",
        "        en_states = en_outputs[1:]\n",
        "        de_state_h, de_state_c = en_states\n",
        "        \n",
        "        for i in range(target_seq_out.shape[1]):          \n",
        "            decoder_in = tf.expand_dims(target_seq_in[:, i], 1)\n",
        "            logit, de_state_h, de_state_c, _ = decoder(decoder_in, (de_state_h, de_state_c), en_outputs[0])\n",
        "            loss += loss_func(target_seq_out[:, i], logit)\n",
        "\n",
        "    variables = encoder.trainable_variables + decoder.trainable_variables\n",
        "    gradients = tape.gradient(loss, variables)\n",
        "    optimizer.apply_gradients(zip(gradients, variables))\n",
        "\n",
        "    return loss / target_seq_out.shape[1]"
      ],
      "execution_count": 0,
      "outputs": []
    },
    {
      "cell_type": "code",
      "metadata": {
        "trusted": true,
        "id": "LsPjpaeTVlZC",
        "colab_type": "code",
        "colab": {}
      },
      "source": [
        "def train_model(attn_type,NUM_EPOCHS):\n",
        "  encoder, decoder = get_model(attn_type)\n",
        "  model = {\"encoder\":encoder,\"decoder\":decoder}\n",
        "  loss_list = []\n",
        "  ep_list = []\n",
        "\n",
        "  en_initial_states = encoder.init_states(BATCH_SIZE)\n",
        "  for e in range(NUM_EPOCHS):\n",
        "  \n",
        "      for batch, (source_seq, target_seq_in, target_seq_out) in enumerate(dataset.take(-1)):\n",
        "          loss = train_step(model, source_seq, target_seq_in,target_seq_out, en_initial_states)\n",
        "      \n",
        "      ep_list.append(e+1)\n",
        "      loss_list.append(loss.numpy())\n",
        "      print('Epoch {} Loss {:.8f}'.format(e + 1, loss.numpy()))\n",
        "  return encoder, decoder, loss_list, ep_list"
      ],
      "execution_count": 0,
      "outputs": []
    },
    {
      "cell_type": "code",
      "metadata": {
        "trusted": true,
        "id": "I42H8EXJVlY_",
        "colab_type": "code",
        "colab": {}
      },
      "source": [
        "def predict(model,test_source_text):\n",
        "    test_source_seq = src_tokenizer.texts_to_sequences([test_source_text])\n",
        "\n",
        "    encoder = model[\"encoder\"]\n",
        "    decoder = model[\"decoder\"]\n",
        "\n",
        "    en_initial_states = encoder.init_states(1)\n",
        "    en_outputs = encoder(tf.constant(test_source_seq), en_initial_states)\n",
        "\n",
        "    de_input = tf.constant([[dest_tokenizer.word_index['<sos>']]])\n",
        "    de_state_h, de_state_c = en_outputs[1:]\n",
        "    out_words = []\n",
        "    alignments = []\n",
        "\n",
        "    while True:\n",
        "        de_output, de_state_h, de_state_c, alignment = decoder(de_input, (de_state_h, de_state_c), en_outputs[0])\n",
        "        de_input = tf.expand_dims(tf.argmax(de_output, -1), 0)\n",
        "        try:\n",
        "          out_words.append(dest_tokenizer.index_word[de_input.numpy()[0][0]])\n",
        "        except:\n",
        "          out_words.append('<unk>')\n",
        "        alignments.append(alignment.numpy())\n",
        "\n",
        "        if out_words[-1] == '<eos>' or len(out_words) >= 50:\n",
        "            break\n",
        "\n",
        "    out_words = ' '.join(out_words)\n",
        "    return np.array(alignments), out_words"
      ],
      "execution_count": 0,
      "outputs": []
    },
    {
      "cell_type": "code",
      "metadata": {
        "trusted": true,
        "id": "V68sDlbyVlZk",
        "colab_type": "code",
        "colab": {}
      },
      "source": [
        "\n",
        "def calculate_bleu_score(actual_string, predicted_string):\n",
        "    actual_string = copy.deepcopy(actual_string)\n",
        "    predicted_string = copy.deepcopy(predicted_string)\n",
        "    reference = re.split(\"\\s\",actual_string.strip())\n",
        "    candidate = re.split(\"\\s\",predicted_string.strip())\n",
        "    try:\n",
        "      reference.remove('<eos>')\n",
        "      candidate.remove('<sos>')\n",
        "    except:\n",
        "      pass\n",
        "    smoothie = SmoothingFunction().method4\n",
        "    score = sentence_bleu(reference, candidate, smoothing_function=smoothie)\n",
        "    return score"
      ],
      "execution_count": 0,
      "outputs": []
    },
    {
      "cell_type": "code",
      "metadata": {
        "id": "io7wptcmxdfy",
        "colab_type": "code",
        "colab": {}
      },
      "source": [
        "def plot_graph(xlist,ylist,xname,yname):\n",
        "  x = np.array(xlist)\n",
        "  y = np.array(ylist)\n",
        "  d = {xname: x, yname: y}\n",
        "  data = pd.DataFrame(d)\n",
        "  sns.lineplot(x=xname, y=yname,data = data)\n",
        "  plt.show()"
      ],
      "execution_count": 0,
      "outputs": []
    },
    {
      "cell_type": "code",
      "metadata": {
        "id": "1PkvNOsmdCu2",
        "colab_type": "code",
        "colab": {}
      },
      "source": [
        "def get_prediction(X,y,model):\n",
        "  for index,line in enumerate(X):\n",
        "    alignment, output = predict(model,line)\n",
        "    print(\"source: \",line)\n",
        "    print(\"actual: \",y[index])\n",
        "    print(\"predicted: \",output)\n",
        "    print(\"BLEU Score: \",calculate_bleu_score(output,y[index]))\n",
        "    ax = sns.heatmap(alignment[:,0,0,:],linewidths=.2,cmap=\"YlGnBu\")\n",
        "    plt.show()"
      ],
      "execution_count": 0,
      "outputs": []
    },
    {
      "cell_type": "code",
      "metadata": {
        "id": "--YEfvR4x_7X",
        "colab_type": "code",
        "outputId": "0ec58692-2155-4961-dffa-e08b22daf497",
        "colab": {
          "base_uri": "https://localhost:8080/",
          "height": 368
        }
      },
      "source": [
        "attn_type = 'BahdanauAttention'\n",
        "# attn_type = 'LuongAttentionDot'\n",
        "# attn_type = 'LuongAttention'\n",
        "attn_type = 'BahdanauAttentionCoverage'\n",
        "\n",
        "NUM_EPOCHS = 2\n",
        "encoder, decoder, loss_list,epoch_list = train_model(attn_type,NUM_EPOCHS)\n",
        "plot_graph(epoch_list,loss_list,\"Epochs\",\"Loss\")\n"
      ],
      "execution_count": 0,
      "outputs": [
        {
          "output_type": "stream",
          "text": [
            "WARNING:tensorflow:<tensorflow.python.keras.layers.recurrent.UnifiedLSTM object at 0x7f179991ee80>: Note that this layer is not optimized for performance. Please use tf.keras.layers.CuDNNLSTM for better performance on GPU.\n",
            "WARNING:tensorflow:<tensorflow.python.keras.layers.recurrent.UnifiedLSTM object at 0x7f17996dbf98>: Note that this layer is not optimized for performance. Please use tf.keras.layers.CuDNNLSTM for better performance on GPU.\n",
            "WARNING:tensorflow:<tensorflow.python.keras.layers.recurrent.UnifiedLSTM object at 0x7f17987ff080>: Note that this layer is not optimized for performance. Please use tf.keras.layers.CuDNNLSTM for better performance on GPU.\n",
            "WARNING:tensorflow:<tensorflow.python.keras.layers.recurrent.UnifiedLSTM object at 0x7f17997ceac8>: Note that this layer is not optimized for performance. Please use tf.keras.layers.CuDNNLSTM for better performance on GPU.\n"
          ],
          "name": "stdout"
        },
        {
          "output_type": "error",
          "ename": "InvalidArgumentError",
          "evalue": "ignored",
          "traceback": [
            "\u001b[0;31m---------------------------------------------------------------------------\u001b[0m",
            "\u001b[0;31mInvalidArgumentError\u001b[0m                      Traceback (most recent call last)",
            "\u001b[0;32m<ipython-input-65-292e396c7a36>\u001b[0m in \u001b[0;36m<module>\u001b[0;34m()\u001b[0m\n\u001b[1;32m      5\u001b[0m \u001b[0;34m\u001b[0m\u001b[0m\n\u001b[1;32m      6\u001b[0m \u001b[0mNUM_EPOCHS\u001b[0m \u001b[0;34m=\u001b[0m \u001b[0;36m2\u001b[0m\u001b[0;34m\u001b[0m\u001b[0;34m\u001b[0m\u001b[0m\n\u001b[0;32m----> 7\u001b[0;31m \u001b[0mencoder\u001b[0m\u001b[0;34m,\u001b[0m \u001b[0mdecoder\u001b[0m\u001b[0;34m,\u001b[0m \u001b[0mloss_list\u001b[0m\u001b[0;34m,\u001b[0m\u001b[0mepoch_list\u001b[0m \u001b[0;34m=\u001b[0m \u001b[0mtrain_model\u001b[0m\u001b[0;34m(\u001b[0m\u001b[0mattn_type\u001b[0m\u001b[0;34m,\u001b[0m\u001b[0mNUM_EPOCHS\u001b[0m\u001b[0;34m)\u001b[0m\u001b[0;34m\u001b[0m\u001b[0;34m\u001b[0m\u001b[0m\n\u001b[0m\u001b[1;32m      8\u001b[0m \u001b[0mplot_graph\u001b[0m\u001b[0;34m(\u001b[0m\u001b[0mepoch_list\u001b[0m\u001b[0;34m,\u001b[0m\u001b[0mloss_list\u001b[0m\u001b[0;34m,\u001b[0m\u001b[0;34m\"Epochs\"\u001b[0m\u001b[0;34m,\u001b[0m\u001b[0;34m\"Loss\"\u001b[0m\u001b[0;34m)\u001b[0m\u001b[0;34m\u001b[0m\u001b[0;34m\u001b[0m\u001b[0m\n",
            "\u001b[0;32m<ipython-input-46-71ffc64554e5>\u001b[0m in \u001b[0;36mtrain_model\u001b[0;34m(attn_type, NUM_EPOCHS)\u001b[0m\n\u001b[1;32m      9\u001b[0m \u001b[0;34m\u001b[0m\u001b[0m\n\u001b[1;32m     10\u001b[0m       \u001b[0;32mfor\u001b[0m \u001b[0mbatch\u001b[0m\u001b[0;34m,\u001b[0m \u001b[0;34m(\u001b[0m\u001b[0msource_seq\u001b[0m\u001b[0;34m,\u001b[0m \u001b[0mtarget_seq_in\u001b[0m\u001b[0;34m,\u001b[0m \u001b[0mtarget_seq_out\u001b[0m\u001b[0;34m)\u001b[0m \u001b[0;32min\u001b[0m \u001b[0menumerate\u001b[0m\u001b[0;34m(\u001b[0m\u001b[0mdataset\u001b[0m\u001b[0;34m.\u001b[0m\u001b[0mtake\u001b[0m\u001b[0;34m(\u001b[0m\u001b[0;34m-\u001b[0m\u001b[0;36m1\u001b[0m\u001b[0;34m)\u001b[0m\u001b[0;34m)\u001b[0m\u001b[0;34m:\u001b[0m\u001b[0;34m\u001b[0m\u001b[0;34m\u001b[0m\u001b[0m\n\u001b[0;32m---> 11\u001b[0;31m           \u001b[0mloss\u001b[0m \u001b[0;34m=\u001b[0m \u001b[0mtrain_step\u001b[0m\u001b[0;34m(\u001b[0m\u001b[0mmodel\u001b[0m\u001b[0;34m,\u001b[0m \u001b[0msource_seq\u001b[0m\u001b[0;34m,\u001b[0m \u001b[0mtarget_seq_in\u001b[0m\u001b[0;34m,\u001b[0m\u001b[0mtarget_seq_out\u001b[0m\u001b[0;34m,\u001b[0m \u001b[0men_initial_states\u001b[0m\u001b[0;34m)\u001b[0m\u001b[0;34m\u001b[0m\u001b[0;34m\u001b[0m\u001b[0m\n\u001b[0m\u001b[1;32m     12\u001b[0m \u001b[0;34m\u001b[0m\u001b[0m\n\u001b[1;32m     13\u001b[0m       \u001b[0mep_list\u001b[0m\u001b[0;34m.\u001b[0m\u001b[0mappend\u001b[0m\u001b[0;34m(\u001b[0m\u001b[0me\u001b[0m\u001b[0;34m+\u001b[0m\u001b[0;36m1\u001b[0m\u001b[0;34m)\u001b[0m\u001b[0;34m\u001b[0m\u001b[0;34m\u001b[0m\u001b[0m\n",
            "\u001b[0;32m<ipython-input-45-b0b8021c72aa>\u001b[0m in \u001b[0;36mtrain_step\u001b[0;34m(model, source_seq, target_seq_in, target_seq_out, en_initial_states)\u001b[0m\n\u001b[1;32m     10\u001b[0m         \u001b[0;32mfor\u001b[0m \u001b[0mi\u001b[0m \u001b[0;32min\u001b[0m \u001b[0mrange\u001b[0m\u001b[0;34m(\u001b[0m\u001b[0mtarget_seq_out\u001b[0m\u001b[0;34m.\u001b[0m\u001b[0mshape\u001b[0m\u001b[0;34m[\u001b[0m\u001b[0;36m1\u001b[0m\u001b[0;34m]\u001b[0m\u001b[0;34m)\u001b[0m\u001b[0;34m:\u001b[0m\u001b[0;34m\u001b[0m\u001b[0;34m\u001b[0m\u001b[0m\n\u001b[1;32m     11\u001b[0m             \u001b[0mdecoder_in\u001b[0m \u001b[0;34m=\u001b[0m \u001b[0mtf\u001b[0m\u001b[0;34m.\u001b[0m\u001b[0mexpand_dims\u001b[0m\u001b[0;34m(\u001b[0m\u001b[0mtarget_seq_in\u001b[0m\u001b[0;34m[\u001b[0m\u001b[0;34m:\u001b[0m\u001b[0;34m,\u001b[0m \u001b[0mi\u001b[0m\u001b[0;34m]\u001b[0m\u001b[0;34m,\u001b[0m \u001b[0;36m1\u001b[0m\u001b[0;34m)\u001b[0m\u001b[0;34m\u001b[0m\u001b[0;34m\u001b[0m\u001b[0m\n\u001b[0;32m---> 12\u001b[0;31m             \u001b[0mlogit\u001b[0m\u001b[0;34m,\u001b[0m \u001b[0mde_state_h\u001b[0m\u001b[0;34m,\u001b[0m \u001b[0mde_state_c\u001b[0m\u001b[0;34m,\u001b[0m \u001b[0m_\u001b[0m \u001b[0;34m=\u001b[0m \u001b[0mdecoder\u001b[0m\u001b[0;34m(\u001b[0m\u001b[0mdecoder_in\u001b[0m\u001b[0;34m,\u001b[0m \u001b[0;34m(\u001b[0m\u001b[0mde_state_h\u001b[0m\u001b[0;34m,\u001b[0m \u001b[0mde_state_c\u001b[0m\u001b[0;34m)\u001b[0m\u001b[0;34m,\u001b[0m \u001b[0men_outputs\u001b[0m\u001b[0;34m[\u001b[0m\u001b[0;36m0\u001b[0m\u001b[0;34m]\u001b[0m\u001b[0;34m)\u001b[0m\u001b[0;34m\u001b[0m\u001b[0;34m\u001b[0m\u001b[0m\n\u001b[0m\u001b[1;32m     13\u001b[0m             \u001b[0mloss\u001b[0m \u001b[0;34m+=\u001b[0m \u001b[0mloss_func\u001b[0m\u001b[0;34m(\u001b[0m\u001b[0mtarget_seq_out\u001b[0m\u001b[0;34m[\u001b[0m\u001b[0;34m:\u001b[0m\u001b[0;34m,\u001b[0m \u001b[0mi\u001b[0m\u001b[0;34m]\u001b[0m\u001b[0;34m,\u001b[0m \u001b[0mlogit\u001b[0m\u001b[0;34m)\u001b[0m\u001b[0;34m\u001b[0m\u001b[0;34m\u001b[0m\u001b[0m\n\u001b[1;32m     14\u001b[0m \u001b[0;34m\u001b[0m\u001b[0m\n",
            "\u001b[0;32m/usr/local/lib/python3.6/dist-packages/tensorflow/python/keras/engine/base_layer.py\u001b[0m in \u001b[0;36m__call__\u001b[0;34m(self, inputs, *args, **kwargs)\u001b[0m\n\u001b[1;32m    658\u001b[0m           with base_layer_utils.autocast_context_manager(\n\u001b[1;32m    659\u001b[0m               input_list, self._mixed_precision_policy.should_cast_variables):\n\u001b[0;32m--> 660\u001b[0;31m             \u001b[0moutputs\u001b[0m \u001b[0;34m=\u001b[0m \u001b[0mself\u001b[0m\u001b[0;34m.\u001b[0m\u001b[0mcall\u001b[0m\u001b[0;34m(\u001b[0m\u001b[0minputs\u001b[0m\u001b[0;34m,\u001b[0m \u001b[0;34m*\u001b[0m\u001b[0margs\u001b[0m\u001b[0;34m,\u001b[0m \u001b[0;34m**\u001b[0m\u001b[0mkwargs\u001b[0m\u001b[0;34m)\u001b[0m\u001b[0;34m\u001b[0m\u001b[0;34m\u001b[0m\u001b[0m\n\u001b[0m\u001b[1;32m    661\u001b[0m           \u001b[0mself\u001b[0m\u001b[0;34m.\u001b[0m\u001b[0m_handle_activity_regularization\u001b[0m\u001b[0;34m(\u001b[0m\u001b[0minputs\u001b[0m\u001b[0;34m,\u001b[0m \u001b[0moutputs\u001b[0m\u001b[0;34m)\u001b[0m\u001b[0;34m\u001b[0m\u001b[0;34m\u001b[0m\u001b[0m\n\u001b[1;32m    662\u001b[0m           \u001b[0mself\u001b[0m\u001b[0;34m.\u001b[0m\u001b[0m_set_mask_metadata\u001b[0m\u001b[0;34m(\u001b[0m\u001b[0minputs\u001b[0m\u001b[0;34m,\u001b[0m \u001b[0moutputs\u001b[0m\u001b[0;34m,\u001b[0m \u001b[0mprevious_mask\u001b[0m\u001b[0;34m)\u001b[0m\u001b[0;34m\u001b[0m\u001b[0;34m\u001b[0m\u001b[0m\n",
            "\u001b[0;32m<ipython-input-39-2f7d9edcf616>\u001b[0m in \u001b[0;36mcall\u001b[0;34m(self, sequence, state, encoder_output)\u001b[0m\n\u001b[1;32m     25\u001b[0m         \u001b[0mlstm_out\u001b[0m\u001b[0;34m,\u001b[0m \u001b[0mstate_h\u001b[0m\u001b[0;34m,\u001b[0m \u001b[0mstate_c\u001b[0m \u001b[0;34m=\u001b[0m \u001b[0mself\u001b[0m\u001b[0;34m.\u001b[0m\u001b[0mlstm_1\u001b[0m\u001b[0;34m(\u001b[0m\u001b[0membed\u001b[0m\u001b[0;34m,\u001b[0m \u001b[0minitial_state\u001b[0m\u001b[0;34m=\u001b[0m\u001b[0mstate\u001b[0m\u001b[0;34m)\u001b[0m\u001b[0;34m\u001b[0m\u001b[0;34m\u001b[0m\u001b[0m\n\u001b[1;32m     26\u001b[0m         \u001b[0mlstm_out\u001b[0m\u001b[0;34m,\u001b[0m \u001b[0mstate_h\u001b[0m\u001b[0;34m,\u001b[0m \u001b[0mstate_c\u001b[0m \u001b[0;34m=\u001b[0m \u001b[0mself\u001b[0m\u001b[0;34m.\u001b[0m\u001b[0mlstm_2\u001b[0m\u001b[0;34m(\u001b[0m\u001b[0mlstm_out\u001b[0m\u001b[0;34m,\u001b[0m \u001b[0minitial_state\u001b[0m\u001b[0;34m=\u001b[0m\u001b[0;34m[\u001b[0m\u001b[0mstate_h\u001b[0m\u001b[0;34m,\u001b[0m\u001b[0mstate_c\u001b[0m\u001b[0;34m]\u001b[0m\u001b[0;34m)\u001b[0m\u001b[0;34m\u001b[0m\u001b[0;34m\u001b[0m\u001b[0m\n\u001b[0;32m---> 27\u001b[0;31m         \u001b[0mcontext\u001b[0m\u001b[0;34m,\u001b[0m \u001b[0malignment\u001b[0m \u001b[0;34m=\u001b[0m \u001b[0mself\u001b[0m\u001b[0;34m.\u001b[0m\u001b[0mattention\u001b[0m\u001b[0;34m(\u001b[0m\u001b[0mlstm_out\u001b[0m\u001b[0;34m,\u001b[0m \u001b[0mencoder_output\u001b[0m\u001b[0;34m)\u001b[0m\u001b[0;34m\u001b[0m\u001b[0;34m\u001b[0m\u001b[0m\n\u001b[0m\u001b[1;32m     28\u001b[0m \u001b[0;34m\u001b[0m\u001b[0m\n\u001b[1;32m     29\u001b[0m         \u001b[0mlstm_out\u001b[0m \u001b[0;34m=\u001b[0m \u001b[0mtf\u001b[0m\u001b[0;34m.\u001b[0m\u001b[0mconcat\u001b[0m\u001b[0;34m(\u001b[0m\u001b[0;34m[\u001b[0m\u001b[0mtf\u001b[0m\u001b[0;34m.\u001b[0m\u001b[0msqueeze\u001b[0m\u001b[0;34m(\u001b[0m\u001b[0mcontext\u001b[0m\u001b[0;34m,\u001b[0m \u001b[0;36m1\u001b[0m\u001b[0;34m)\u001b[0m\u001b[0;34m,\u001b[0m \u001b[0mtf\u001b[0m\u001b[0;34m.\u001b[0m\u001b[0msqueeze\u001b[0m\u001b[0;34m(\u001b[0m\u001b[0mlstm_out\u001b[0m\u001b[0;34m,\u001b[0m \u001b[0;36m1\u001b[0m\u001b[0;34m)\u001b[0m\u001b[0;34m]\u001b[0m\u001b[0;34m,\u001b[0m \u001b[0;36m1\u001b[0m\u001b[0;34m)\u001b[0m\u001b[0;34m\u001b[0m\u001b[0;34m\u001b[0m\u001b[0m\n",
            "\u001b[0;32m/usr/local/lib/python3.6/dist-packages/tensorflow/python/keras/engine/base_layer.py\u001b[0m in \u001b[0;36m__call__\u001b[0;34m(self, inputs, *args, **kwargs)\u001b[0m\n\u001b[1;32m    658\u001b[0m           with base_layer_utils.autocast_context_manager(\n\u001b[1;32m    659\u001b[0m               input_list, self._mixed_precision_policy.should_cast_variables):\n\u001b[0;32m--> 660\u001b[0;31m             \u001b[0moutputs\u001b[0m \u001b[0;34m=\u001b[0m \u001b[0mself\u001b[0m\u001b[0;34m.\u001b[0m\u001b[0mcall\u001b[0m\u001b[0;34m(\u001b[0m\u001b[0minputs\u001b[0m\u001b[0;34m,\u001b[0m \u001b[0;34m*\u001b[0m\u001b[0margs\u001b[0m\u001b[0;34m,\u001b[0m \u001b[0;34m**\u001b[0m\u001b[0mkwargs\u001b[0m\u001b[0;34m)\u001b[0m\u001b[0;34m\u001b[0m\u001b[0;34m\u001b[0m\u001b[0m\n\u001b[0m\u001b[1;32m    661\u001b[0m           \u001b[0mself\u001b[0m\u001b[0;34m.\u001b[0m\u001b[0m_handle_activity_regularization\u001b[0m\u001b[0;34m(\u001b[0m\u001b[0minputs\u001b[0m\u001b[0;34m,\u001b[0m \u001b[0moutputs\u001b[0m\u001b[0;34m)\u001b[0m\u001b[0;34m\u001b[0m\u001b[0;34m\u001b[0m\u001b[0m\n\u001b[1;32m    662\u001b[0m           \u001b[0mself\u001b[0m\u001b[0;34m.\u001b[0m\u001b[0m_set_mask_metadata\u001b[0m\u001b[0;34m(\u001b[0m\u001b[0minputs\u001b[0m\u001b[0;34m,\u001b[0m \u001b[0moutputs\u001b[0m\u001b[0;34m,\u001b[0m \u001b[0mprevious_mask\u001b[0m\u001b[0;34m)\u001b[0m\u001b[0;34m\u001b[0m\u001b[0;34m\u001b[0m\u001b[0m\n",
            "\u001b[0;32m<ipython-input-64-ca5e934a1267>\u001b[0m in \u001b[0;36mcall\u001b[0;34m(self, decoder_output, encoder_output)\u001b[0m\n\u001b[1;32m     22\u001b[0m \u001b[0;34m\u001b[0m\u001b[0m\n\u001b[1;32m     23\u001b[0m     \u001b[0mself\u001b[0m\u001b[0;34m.\u001b[0m\u001b[0mcoverage\u001b[0m \u001b[0;34m=\u001b[0m \u001b[0mself\u001b[0m\u001b[0;34m.\u001b[0m\u001b[0mV1\u001b[0m\u001b[0;34m(\u001b[0m\u001b[0mtf\u001b[0m\u001b[0;34m.\u001b[0m\u001b[0mnn\u001b[0m\u001b[0;34m.\u001b[0m\u001b[0mtanh\u001b[0m\u001b[0;34m(\u001b[0m\u001b[0mself\u001b[0m\u001b[0;34m.\u001b[0m\u001b[0mW4\u001b[0m\u001b[0;34m(\u001b[0m\u001b[0mdecoder_output\u001b[0m\u001b[0;34m)\u001b[0m \u001b[0;34m+\u001b[0m \u001b[0mself\u001b[0m\u001b[0;34m.\u001b[0m\u001b[0mW5\u001b[0m\u001b[0;34m(\u001b[0m\u001b[0mencoder_output\u001b[0m\u001b[0;34m)\u001b[0m \u001b[0;34m+\u001b[0m \u001b[0mself\u001b[0m\u001b[0;34m.\u001b[0m\u001b[0mW6\u001b[0m\u001b[0;34m(\u001b[0m\u001b[0mself\u001b[0m\u001b[0;34m.\u001b[0m\u001b[0mcoverage\u001b[0m\u001b[0;34m)\u001b[0m\u001b[0;34m)\u001b[0m\u001b[0;34m)\u001b[0m\u001b[0;34m\u001b[0m\u001b[0;34m\u001b[0m\u001b[0m\n\u001b[0;32m---> 24\u001b[0;31m     \u001b[0mself\u001b[0m\u001b[0;34m.\u001b[0m\u001b[0mcoverage\u001b[0m \u001b[0;34m=\u001b[0m \u001b[0mtf\u001b[0m\u001b[0;34m.\u001b[0m\u001b[0mreshape\u001b[0m\u001b[0;34m(\u001b[0m\u001b[0mself\u001b[0m\u001b[0;34m.\u001b[0m\u001b[0mcoverage\u001b[0m\u001b[0;34m,\u001b[0m \u001b[0mtf\u001b[0m\u001b[0;34m.\u001b[0m\u001b[0mshape\u001b[0m\u001b[0;34m(\u001b[0m\u001b[0mencoder_output\u001b[0m\u001b[0;34m)\u001b[0m\u001b[0;34m.\u001b[0m\u001b[0mnumpy\u001b[0m\u001b[0;34m(\u001b[0m\u001b[0;34m)\u001b[0m\u001b[0;34m)\u001b[0m\u001b[0;34m\u001b[0m\u001b[0;34m\u001b[0m\u001b[0m\n\u001b[0m\u001b[1;32m     25\u001b[0m     \u001b[0mprint\u001b[0m\u001b[0;34m(\u001b[0m\u001b[0mself\u001b[0m\u001b[0;34m.\u001b[0m\u001b[0mcoverage\u001b[0m\u001b[0;34m.\u001b[0m\u001b[0mshape\u001b[0m\u001b[0;34m,\u001b[0m \u001b[0mdecoder_output\u001b[0m\u001b[0;34m.\u001b[0m\u001b[0mshape\u001b[0m\u001b[0;34m,\u001b[0m \u001b[0mencoder_output\u001b[0m\u001b[0;34m.\u001b[0m\u001b[0mshape\u001b[0m\u001b[0;34m)\u001b[0m\u001b[0;34m\u001b[0m\u001b[0;34m\u001b[0m\u001b[0m\n\u001b[1;32m     26\u001b[0m \u001b[0;34m\u001b[0m\u001b[0m\n",
            "\u001b[0;32m/usr/local/lib/python3.6/dist-packages/tensorflow/python/ops/gen_array_ops.py\u001b[0m in \u001b[0;36mreshape\u001b[0;34m(tensor, shape, name)\u001b[0m\n\u001b[1;32m   7551\u001b[0m       \u001b[0;32melse\u001b[0m\u001b[0;34m:\u001b[0m\u001b[0;34m\u001b[0m\u001b[0;34m\u001b[0m\u001b[0m\n\u001b[1;32m   7552\u001b[0m         \u001b[0mmessage\u001b[0m \u001b[0;34m=\u001b[0m \u001b[0me\u001b[0m\u001b[0;34m.\u001b[0m\u001b[0mmessage\u001b[0m\u001b[0;34m\u001b[0m\u001b[0;34m\u001b[0m\u001b[0m\n\u001b[0;32m-> 7553\u001b[0;31m       \u001b[0m_six\u001b[0m\u001b[0;34m.\u001b[0m\u001b[0mraise_from\u001b[0m\u001b[0;34m(\u001b[0m\u001b[0m_core\u001b[0m\u001b[0;34m.\u001b[0m\u001b[0m_status_to_exception\u001b[0m\u001b[0;34m(\u001b[0m\u001b[0me\u001b[0m\u001b[0;34m.\u001b[0m\u001b[0mcode\u001b[0m\u001b[0;34m,\u001b[0m \u001b[0mmessage\u001b[0m\u001b[0;34m)\u001b[0m\u001b[0;34m,\u001b[0m \u001b[0;32mNone\u001b[0m\u001b[0;34m)\u001b[0m\u001b[0;34m\u001b[0m\u001b[0;34m\u001b[0m\u001b[0m\n\u001b[0m\u001b[1;32m   7554\u001b[0m   \u001b[0;31m# Add nodes to the TensorFlow graph.\u001b[0m\u001b[0;34m\u001b[0m\u001b[0;34m\u001b[0m\u001b[0;34m\u001b[0m\u001b[0m\n\u001b[1;32m   7555\u001b[0m   \u001b[0;32mtry\u001b[0m\u001b[0;34m:\u001b[0m\u001b[0;34m\u001b[0m\u001b[0;34m\u001b[0m\u001b[0m\n",
            "\u001b[0;32m/usr/local/lib/python3.6/dist-packages/six.py\u001b[0m in \u001b[0;36mraise_from\u001b[0;34m(value, from_value)\u001b[0m\n",
            "\u001b[0;31mInvalidArgumentError\u001b[0m: Input to reshape is a tensor with 62 values, but the requested shape has 15872 [Op:Reshape]"
          ]
        }
      ]
    },
    {
      "cell_type": "code",
      "metadata": {
        "id": "xl3Ufj8nORp-",
        "colab_type": "code",
        "outputId": "71ae2ca1-6f38-4fbb-ce84-77607d0103a4",
        "colab": {
          "base_uri": "https://localhost:8080/",
          "height": 1000
        }
      },
      "source": [
        "model = {\"encoder\":encoder,\"decoder\":decoder}\n",
        "get_prediction(X_test,y_in_test,model)\n",
        "# get_prediction(X_train,y_in_train, model)\n",
        "\n",
        "\n",
        "'''\n",
        "(20, 1, 42)\n",
        "attention_weights:  (20, 1, 42)\n",
        "encoder_output:  (20, 42, 256)\n",
        "context_vector:  (20, 1, 256)\n",
        "\n",
        "(20, 1, 42)\n",
        "attention_weights:  (20, 1, 42)\n",
        "encoder_output:  (20, 42, 256)\n",
        "context_vector:  (20, 1, 256)\n",
        "coverage:  (20, 1, 42)\n",
        "\n",
        "(1, 1, 11)\n",
        "attention_weights:  (1, 1, 11)\n",
        "encoder_output:  (1, 11, 256)\n",
        "context_vector:  (1, 1, 256)\n",
        "\n",
        "\n",
        "(1, 1, 11)\n",
        "attention_weights:  (1, 1, 11)\n",
        "encoder_output:  (1, 11, 256)\n",
        "context_vector:  (1, 1, 256)\n",
        "coverage:  (1, 1, 11)\n",
        "\n",
        "(1, 1, 31) (1, 1, 31) (1, 1, 256) (1, 31, 256)\n",
        "(1, 1, 31) (1, 1, 10) (1, 1, 256) (1, 10, 256)\n",
        "'''"
      ],
      "execution_count": 0,
      "outputs": [
        {
          "output_type": "stream",
          "text": [
            "(1, 1, 10) (1, 1, 256) (1, 10, 256) (1, 1, 10) (1, 1, 256)\n",
            "(1, 1, 10) (1, 1, 256) (1, 10, 256) (1, 1, 10) (1, 1, 256)\n",
            "(1, 1, 10) (1, 1, 256) (1, 10, 256) (1, 1, 10) (1, 1, 256)\n",
            "(1, 1, 10) (1, 1, 256) (1, 10, 256) (1, 1, 10) (1, 1, 256)\n",
            "(1, 1, 10) (1, 1, 256) (1, 10, 256) (1, 1, 10) (1, 1, 256)\n",
            "(1, 1, 10) (1, 1, 256) (1, 10, 256) (1, 1, 10) (1, 1, 256)\n",
            "(1, 1, 10) (1, 1, 256) (1, 10, 256) (1, 1, 10) (1, 1, 256)\n",
            "(1, 1, 10) (1, 1, 256) (1, 10, 256) (1, 1, 10) (1, 1, 256)\n",
            "(1, 1, 10) (1, 1, 256) (1, 10, 256) (1, 1, 10) (1, 1, 256)\n",
            "(1, 1, 10) (1, 1, 256) (1, 10, 256) (1, 1, 10) (1, 1, 256)\n",
            "(1, 1, 10) (1, 1, 256) (1, 10, 256) (1, 1, 10) (1, 1, 256)\n",
            "(1, 1, 10) (1, 1, 256) (1, 10, 256) (1, 1, 10) (1, 1, 256)\n",
            "(1, 1, 10) (1, 1, 256) (1, 10, 256) (1, 1, 10) (1, 1, 256)\n",
            "(1, 1, 10) (1, 1, 256) (1, 10, 256) (1, 1, 10) (1, 1, 256)\n",
            "(1, 1, 10) (1, 1, 256) (1, 10, 256) (1, 1, 10) (1, 1, 256)\n",
            "(1, 1, 10) (1, 1, 256) (1, 10, 256) (1, 1, 10) (1, 1, 256)\n",
            "(1, 1, 10) (1, 1, 256) (1, 10, 256) (1, 1, 10) (1, 1, 256)\n",
            "(1, 1, 10) (1, 1, 256) (1, 10, 256) (1, 1, 10) (1, 1, 256)\n",
            "(1, 1, 10) (1, 1, 256) (1, 10, 256) (1, 1, 10) (1, 1, 256)\n",
            "(1, 1, 10) (1, 1, 256) (1, 10, 256) (1, 1, 10) (1, 1, 256)\n",
            "(1, 1, 10) (1, 1, 256) (1, 10, 256) (1, 1, 10) (1, 1, 256)\n",
            "(1, 1, 10) (1, 1, 256) (1, 10, 256) (1, 1, 10) (1, 1, 256)\n",
            "(1, 1, 10) (1, 1, 256) (1, 10, 256) (1, 1, 10) (1, 1, 256)\n",
            "(1, 1, 10) (1, 1, 256) (1, 10, 256) (1, 1, 10) (1, 1, 256)\n",
            "(1, 1, 10) (1, 1, 256) (1, 10, 256) (1, 1, 10) (1, 1, 256)\n",
            "(1, 1, 10) (1, 1, 256) (1, 10, 256) (1, 1, 10) (1, 1, 256)\n",
            "(1, 1, 10) (1, 1, 256) (1, 10, 256) (1, 1, 10) (1, 1, 256)\n",
            "(1, 1, 10) (1, 1, 256) (1, 10, 256) (1, 1, 10) (1, 1, 256)\n",
            "(1, 1, 10) (1, 1, 256) (1, 10, 256) (1, 1, 10) (1, 1, 256)\n",
            "(1, 1, 10) (1, 1, 256) (1, 10, 256) (1, 1, 10) (1, 1, 256)\n",
            "(1, 1, 10) (1, 1, 256) (1, 10, 256) (1, 1, 10) (1, 1, 256)\n",
            "(1, 1, 10) (1, 1, 256) (1, 10, 256) (1, 1, 10) (1, 1, 256)\n",
            "(1, 1, 10) (1, 1, 256) (1, 10, 256) (1, 1, 10) (1, 1, 256)\n",
            "(1, 1, 10) (1, 1, 256) (1, 10, 256) (1, 1, 10) (1, 1, 256)\n",
            "(1, 1, 10) (1, 1, 256) (1, 10, 256) (1, 1, 10) (1, 1, 256)\n",
            "(1, 1, 10) (1, 1, 256) (1, 10, 256) (1, 1, 10) (1, 1, 256)\n",
            "(1, 1, 10) (1, 1, 256) (1, 10, 256) (1, 1, 10) (1, 1, 256)\n",
            "(1, 1, 10) (1, 1, 256) (1, 10, 256) (1, 1, 10) (1, 1, 256)\n",
            "(1, 1, 10) (1, 1, 256) (1, 10, 256) (1, 1, 10) (1, 1, 256)\n",
            "(1, 1, 10) (1, 1, 256) (1, 10, 256) (1, 1, 10) (1, 1, 256)\n",
            "(1, 1, 10) (1, 1, 256) (1, 10, 256) (1, 1, 10) (1, 1, 256)\n",
            "(1, 1, 10) (1, 1, 256) (1, 10, 256) (1, 1, 10) (1, 1, 256)\n",
            "(1, 1, 10) (1, 1, 256) (1, 10, 256) (1, 1, 10) (1, 1, 256)\n",
            "(1, 1, 10) (1, 1, 256) (1, 10, 256) (1, 1, 10) (1, 1, 256)\n",
            "(1, 1, 10) (1, 1, 256) (1, 10, 256) (1, 1, 10) (1, 1, 256)\n",
            "(1, 1, 10) (1, 1, 256) (1, 10, 256) (1, 1, 10) (1, 1, 256)\n",
            "(1, 1, 10) (1, 1, 256) (1, 10, 256) (1, 1, 10) (1, 1, 256)\n",
            "(1, 1, 10) (1, 1, 256) (1, 10, 256) (1, 1, 10) (1, 1, 256)\n",
            "(1, 1, 10) (1, 1, 256) (1, 10, 256) (1, 1, 10) (1, 1, 256)\n",
            "(1, 1, 10) (1, 1, 256) (1, 10, 256) (1, 1, 10) (1, 1, 256)\n",
            "source:  field test  in which the capacity to see things on the sides while looking straight is tested \n",
            "actual:  <sos> फिल्ड टेस्ट जिसमें सामने देखते हुए साइड की चीजें देख सकने की क्षमता की जाँच होती है ।\n",
            "predicted:  को जब को को को को को को को को को को को को को को को को को को को को को को को को को को को को को को को को को को को को को को को को को को को को को को को को\n",
            "BLEU Score:  0\n"
          ],
          "name": "stdout"
        },
        {
          "output_type": "display_data",
          "data": {
            "image/png": "[encoded data removed]",
            "text/plain": [
              "<Figure size 432x288 with 2 Axes>"
            ]
          },
          "metadata": {
            "tags": []
          }
        },
        {
          "output_type": "stream",
          "text": [
            "(1, 1, 14) (1, 1, 256) (1, 14, 256) (1, 1, 14) (1, 1, 256)\n",
            "(1, 1, 14) (1, 1, 256) (1, 14, 256) (1, 1, 14) (1, 1, 256)\n",
            "(1, 1, 14) (1, 1, 256) (1, 14, 256) (1, 1, 14) (1, 1, 256)\n",
            "(1, 1, 14) (1, 1, 256) (1, 14, 256) (1, 1, 14) (1, 1, 256)\n",
            "(1, 1, 14) (1, 1, 256) (1, 14, 256) (1, 1, 14) (1, 1, 256)\n",
            "(1, 1, 14) (1, 1, 256) (1, 14, 256) (1, 1, 14) (1, 1, 256)\n",
            "(1, 1, 14) (1, 1, 256) (1, 14, 256) (1, 1, 14) (1, 1, 256)\n",
            "(1, 1, 14) (1, 1, 256) (1, 14, 256) (1, 1, 14) (1, 1, 256)\n",
            "(1, 1, 14) (1, 1, 256) (1, 14, 256) (1, 1, 14) (1, 1, 256)\n",
            "(1, 1, 14) (1, 1, 256) (1, 14, 256) (1, 1, 14) (1, 1, 256)\n",
            "(1, 1, 14) (1, 1, 256) (1, 14, 256) (1, 1, 14) (1, 1, 256)\n",
            "(1, 1, 14) (1, 1, 256) (1, 14, 256) (1, 1, 14) (1, 1, 256)\n",
            "(1, 1, 14) (1, 1, 256) (1, 14, 256) (1, 1, 14) (1, 1, 256)\n",
            "(1, 1, 14) (1, 1, 256) (1, 14, 256) (1, 1, 14) (1, 1, 256)\n",
            "(1, 1, 14) (1, 1, 256) (1, 14, 256) (1, 1, 14) (1, 1, 256)\n",
            "(1, 1, 14) (1, 1, 256) (1, 14, 256) (1, 1, 14) (1, 1, 256)\n",
            "(1, 1, 14) (1, 1, 256) (1, 14, 256) (1, 1, 14) (1, 1, 256)\n",
            "(1, 1, 14) (1, 1, 256) (1, 14, 256) (1, 1, 14) (1, 1, 256)\n",
            "(1, 1, 14) (1, 1, 256) (1, 14, 256) (1, 1, 14) (1, 1, 256)\n",
            "(1, 1, 14) (1, 1, 256) (1, 14, 256) (1, 1, 14) (1, 1, 256)\n",
            "(1, 1, 14) (1, 1, 256) (1, 14, 256) (1, 1, 14) (1, 1, 256)\n",
            "(1, 1, 14) (1, 1, 256) (1, 14, 256) (1, 1, 14) (1, 1, 256)\n",
            "(1, 1, 14) (1, 1, 256) (1, 14, 256) (1, 1, 14) (1, 1, 256)\n",
            "(1, 1, 14) (1, 1, 256) (1, 14, 256) (1, 1, 14) (1, 1, 256)\n",
            "(1, 1, 14) (1, 1, 256) (1, 14, 256) (1, 1, 14) (1, 1, 256)\n",
            "(1, 1, 14) (1, 1, 256) (1, 14, 256) (1, 1, 14) (1, 1, 256)\n",
            "(1, 1, 14) (1, 1, 256) (1, 14, 256) (1, 1, 14) (1, 1, 256)\n",
            "(1, 1, 14) (1, 1, 256) (1, 14, 256) (1, 1, 14) (1, 1, 256)\n",
            "(1, 1, 14) (1, 1, 256) (1, 14, 256) (1, 1, 14) (1, 1, 256)\n",
            "(1, 1, 14) (1, 1, 256) (1, 14, 256) (1, 1, 14) (1, 1, 256)\n",
            "(1, 1, 14) (1, 1, 256) (1, 14, 256) (1, 1, 14) (1, 1, 256)\n",
            "(1, 1, 14) (1, 1, 256) (1, 14, 256) (1, 1, 14) (1, 1, 256)\n",
            "(1, 1, 14) (1, 1, 256) (1, 14, 256) (1, 1, 14) (1, 1, 256)\n",
            "(1, 1, 14) (1, 1, 256) (1, 14, 256) (1, 1, 14) (1, 1, 256)\n",
            "(1, 1, 14) (1, 1, 256) (1, 14, 256) (1, 1, 14) (1, 1, 256)\n",
            "(1, 1, 14) (1, 1, 256) (1, 14, 256) (1, 1, 14) (1, 1, 256)\n",
            "(1, 1, 14) (1, 1, 256) (1, 14, 256) (1, 1, 14) (1, 1, 256)\n",
            "(1, 1, 14) (1, 1, 256) (1, 14, 256) (1, 1, 14) (1, 1, 256)\n",
            "(1, 1, 14) (1, 1, 256) (1, 14, 256) (1, 1, 14) (1, 1, 256)\n",
            "(1, 1, 14) (1, 1, 256) (1, 14, 256) (1, 1, 14) (1, 1, 256)\n",
            "(1, 1, 14) (1, 1, 256) (1, 14, 256) (1, 1, 14) (1, 1, 256)\n",
            "(1, 1, 14) (1, 1, 256) (1, 14, 256) (1, 1, 14) (1, 1, 256)\n",
            "(1, 1, 14) (1, 1, 256) (1, 14, 256) (1, 1, 14) (1, 1, 256)\n",
            "(1, 1, 14) (1, 1, 256) (1, 14, 256) (1, 1, 14) (1, 1, 256)\n",
            "(1, 1, 14) (1, 1, 256) (1, 14, 256) (1, 1, 14) (1, 1, 256)\n",
            "(1, 1, 14) (1, 1, 256) (1, 14, 256) (1, 1, 14) (1, 1, 256)\n",
            "(1, 1, 14) (1, 1, 256) (1, 14, 256) (1, 1, 14) (1, 1, 256)\n",
            "(1, 1, 14) (1, 1, 256) (1, 14, 256) (1, 1, 14) (1, 1, 256)\n",
            "(1, 1, 14) (1, 1, 256) (1, 14, 256) (1, 1, 14) (1, 1, 256)\n",
            "(1, 1, 14) (1, 1, 256) (1, 14, 256) (1, 1, 14) (1, 1, 256)\n",
            "source:  the part lrb angle rrb from where the water passes out can be seen through a special lens \n",
            "actual:  <sos> एक विशेष लैन्स द्वारा पानी के बाहर जाने के हिस्से  एंगल  को देख सकते हैं ।\n",
            "predicted:  small जब को को को को को को को को को को को को को को को को को को को को को को को को को को को को को को को को को को को को को को को को को को को को को को को को\n",
            "BLEU Score:  0\n"
          ],
          "name": "stdout"
        },
        {
          "output_type": "display_data",
          "data": {
            "image/png": "[encoded data removed]",
            "text/plain": [
              "<Figure size 432x288 with 2 Axes>"
            ]
          },
          "metadata": {
            "tags": []
          }
        },
        {
          "output_type": "stream",
          "text": [
            "(1, 1, 10) (1, 1, 256) (1, 10, 256) (1, 1, 10) (1, 1, 256)\n",
            "(1, 1, 10) (1, 1, 256) (1, 10, 256) (1, 1, 10) (1, 1, 256)\n",
            "(1, 1, 10) (1, 1, 256) (1, 10, 256) (1, 1, 10) (1, 1, 256)\n",
            "(1, 1, 10) (1, 1, 256) (1, 10, 256) (1, 1, 10) (1, 1, 256)\n",
            "(1, 1, 10) (1, 1, 256) (1, 10, 256) (1, 1, 10) (1, 1, 256)\n",
            "(1, 1, 10) (1, 1, 256) (1, 10, 256) (1, 1, 10) (1, 1, 256)\n",
            "(1, 1, 10) (1, 1, 256) (1, 10, 256) (1, 1, 10) (1, 1, 256)\n",
            "(1, 1, 10) (1, 1, 256) (1, 10, 256) (1, 1, 10) (1, 1, 256)\n",
            "(1, 1, 10) (1, 1, 256) (1, 10, 256) (1, 1, 10) (1, 1, 256)\n",
            "(1, 1, 10) (1, 1, 256) (1, 10, 256) (1, 1, 10) (1, 1, 256)\n",
            "(1, 1, 10) (1, 1, 256) (1, 10, 256) (1, 1, 10) (1, 1, 256)\n",
            "(1, 1, 10) (1, 1, 256) (1, 10, 256) (1, 1, 10) (1, 1, 256)\n",
            "(1, 1, 10) (1, 1, 256) (1, 10, 256) (1, 1, 10) (1, 1, 256)\n",
            "(1, 1, 10) (1, 1, 256) (1, 10, 256) (1, 1, 10) (1, 1, 256)\n",
            "(1, 1, 10) (1, 1, 256) (1, 10, 256) (1, 1, 10) (1, 1, 256)\n",
            "(1, 1, 10) (1, 1, 256) (1, 10, 256) (1, 1, 10) (1, 1, 256)\n",
            "(1, 1, 10) (1, 1, 256) (1, 10, 256) (1, 1, 10) (1, 1, 256)\n",
            "(1, 1, 10) (1, 1, 256) (1, 10, 256) (1, 1, 10) (1, 1, 256)\n",
            "(1, 1, 10) (1, 1, 256) (1, 10, 256) (1, 1, 10) (1, 1, 256)\n",
            "(1, 1, 10) (1, 1, 256) (1, 10, 256) (1, 1, 10) (1, 1, 256)\n",
            "(1, 1, 10) (1, 1, 256) (1, 10, 256) (1, 1, 10) (1, 1, 256)\n",
            "(1, 1, 10) (1, 1, 256) (1, 10, 256) (1, 1, 10) (1, 1, 256)\n",
            "(1, 1, 10) (1, 1, 256) (1, 10, 256) (1, 1, 10) (1, 1, 256)\n",
            "(1, 1, 10) (1, 1, 256) (1, 10, 256) (1, 1, 10) (1, 1, 256)\n",
            "(1, 1, 10) (1, 1, 256) (1, 10, 256) (1, 1, 10) (1, 1, 256)\n",
            "(1, 1, 10) (1, 1, 256) (1, 10, 256) (1, 1, 10) (1, 1, 256)\n",
            "(1, 1, 10) (1, 1, 256) (1, 10, 256) (1, 1, 10) (1, 1, 256)\n",
            "(1, 1, 10) (1, 1, 256) (1, 10, 256) (1, 1, 10) (1, 1, 256)\n",
            "(1, 1, 10) (1, 1, 256) (1, 10, 256) (1, 1, 10) (1, 1, 256)\n",
            "(1, 1, 10) (1, 1, 256) (1, 10, 256) (1, 1, 10) (1, 1, 256)\n",
            "(1, 1, 10) (1, 1, 256) (1, 10, 256) (1, 1, 10) (1, 1, 256)\n",
            "(1, 1, 10) (1, 1, 256) (1, 10, 256) (1, 1, 10) (1, 1, 256)\n",
            "(1, 1, 10) (1, 1, 256) (1, 10, 256) (1, 1, 10) (1, 1, 256)\n",
            "(1, 1, 10) (1, 1, 256) (1, 10, 256) (1, 1, 10) (1, 1, 256)\n",
            "(1, 1, 10) (1, 1, 256) (1, 10, 256) (1, 1, 10) (1, 1, 256)\n",
            "(1, 1, 10) (1, 1, 256) (1, 10, 256) (1, 1, 10) (1, 1, 256)\n",
            "(1, 1, 10) (1, 1, 256) (1, 10, 256) (1, 1, 10) (1, 1, 256)\n",
            "(1, 1, 10) (1, 1, 256) (1, 10, 256) (1, 1, 10) (1, 1, 256)\n",
            "(1, 1, 10) (1, 1, 256) (1, 10, 256) (1, 1, 10) (1, 1, 256)\n",
            "(1, 1, 10) (1, 1, 256) (1, 10, 256) (1, 1, 10) (1, 1, 256)\n",
            "(1, 1, 10) (1, 1, 256) (1, 10, 256) (1, 1, 10) (1, 1, 256)\n",
            "(1, 1, 10) (1, 1, 256) (1, 10, 256) (1, 1, 10) (1, 1, 256)\n",
            "(1, 1, 10) (1, 1, 256) (1, 10, 256) (1, 1, 10) (1, 1, 256)\n",
            "(1, 1, 10) (1, 1, 256) (1, 10, 256) (1, 1, 10) (1, 1, 256)\n",
            "(1, 1, 10) (1, 1, 256) (1, 10, 256) (1, 1, 10) (1, 1, 256)\n",
            "(1, 1, 10) (1, 1, 256) (1, 10, 256) (1, 1, 10) (1, 1, 256)\n",
            "(1, 1, 10) (1, 1, 256) (1, 10, 256) (1, 1, 10) (1, 1, 256)\n",
            "(1, 1, 10) (1, 1, 256) (1, 10, 256) (1, 1, 10) (1, 1, 256)\n",
            "(1, 1, 10) (1, 1, 256) (1, 10, 256) (1, 1, 10) (1, 1, 256)\n",
            "(1, 1, 10) (1, 1, 256) (1, 10, 256) (1, 1, 10) (1, 1, 256)\n",
            "source:  with the lack of vitamina the cornea becomes weak and a wound appears through which at last causes blindness \n",
            "actual:  <sos> विटामिनए की कमी से कॉर्नियल कमजोर तथा घाव हो जाते हैं जिससे अन्त में अन्धापन होता है ।\n",
            "predicted:  को जब को को को को को को को को को को को को को को को को को को को को को को को को को को को को को को को को को को को को को को को को को को को को को को को को\n",
            "BLEU Score:  0\n"
          ],
          "name": "stdout"
        },
        {
          "output_type": "display_data",
          "data": {
            "image/png": "[encoded data removed]",
            "text/plain": [
              "<Figure size 432x288 with 2 Axes>"
            ]
          },
          "metadata": {
            "tags": []
          }
        },
        {
          "output_type": "stream",
          "text": [
            "(1, 1, 7) (1, 1, 256) (1, 7, 256) (1, 1, 7) (1, 1, 256)\n",
            "(1, 1, 7) (1, 1, 256) (1, 7, 256) (1, 1, 7) (1, 1, 256)\n",
            "(1, 1, 7) (1, 1, 256) (1, 7, 256) (1, 1, 7) (1, 1, 256)\n",
            "(1, 1, 7) (1, 1, 256) (1, 7, 256) (1, 1, 7) (1, 1, 256)\n",
            "(1, 1, 7) (1, 1, 256) (1, 7, 256) (1, 1, 7) (1, 1, 256)\n",
            "(1, 1, 7) (1, 1, 256) (1, 7, 256) (1, 1, 7) (1, 1, 256)\n",
            "(1, 1, 7) (1, 1, 256) (1, 7, 256) (1, 1, 7) (1, 1, 256)\n",
            "(1, 1, 7) (1, 1, 256) (1, 7, 256) (1, 1, 7) (1, 1, 256)\n",
            "(1, 1, 7) (1, 1, 256) (1, 7, 256) (1, 1, 7) (1, 1, 256)\n",
            "(1, 1, 7) (1, 1, 256) (1, 7, 256) (1, 1, 7) (1, 1, 256)\n",
            "(1, 1, 7) (1, 1, 256) (1, 7, 256) (1, 1, 7) (1, 1, 256)\n",
            "(1, 1, 7) (1, 1, 256) (1, 7, 256) (1, 1, 7) (1, 1, 256)\n",
            "(1, 1, 7) (1, 1, 256) (1, 7, 256) (1, 1, 7) (1, 1, 256)\n",
            "(1, 1, 7) (1, 1, 256) (1, 7, 256) (1, 1, 7) (1, 1, 256)\n",
            "(1, 1, 7) (1, 1, 256) (1, 7, 256) (1, 1, 7) (1, 1, 256)\n",
            "(1, 1, 7) (1, 1, 256) (1, 7, 256) (1, 1, 7) (1, 1, 256)\n",
            "(1, 1, 7) (1, 1, 256) (1, 7, 256) (1, 1, 7) (1, 1, 256)\n",
            "(1, 1, 7) (1, 1, 256) (1, 7, 256) (1, 1, 7) (1, 1, 256)\n",
            "(1, 1, 7) (1, 1, 256) (1, 7, 256) (1, 1, 7) (1, 1, 256)\n",
            "(1, 1, 7) (1, 1, 256) (1, 7, 256) (1, 1, 7) (1, 1, 256)\n",
            "(1, 1, 7) (1, 1, 256) (1, 7, 256) (1, 1, 7) (1, 1, 256)\n",
            "(1, 1, 7) (1, 1, 256) (1, 7, 256) (1, 1, 7) (1, 1, 256)\n",
            "(1, 1, 7) (1, 1, 256) (1, 7, 256) (1, 1, 7) (1, 1, 256)\n",
            "(1, 1, 7) (1, 1, 256) (1, 7, 256) (1, 1, 7) (1, 1, 256)\n",
            "(1, 1, 7) (1, 1, 256) (1, 7, 256) (1, 1, 7) (1, 1, 256)\n",
            "(1, 1, 7) (1, 1, 256) (1, 7, 256) (1, 1, 7) (1, 1, 256)\n",
            "(1, 1, 7) (1, 1, 256) (1, 7, 256) (1, 1, 7) (1, 1, 256)\n",
            "(1, 1, 7) (1, 1, 256) (1, 7, 256) (1, 1, 7) (1, 1, 256)\n",
            "(1, 1, 7) (1, 1, 256) (1, 7, 256) (1, 1, 7) (1, 1, 256)\n",
            "(1, 1, 7) (1, 1, 256) (1, 7, 256) (1, 1, 7) (1, 1, 256)\n",
            "(1, 1, 7) (1, 1, 256) (1, 7, 256) (1, 1, 7) (1, 1, 256)\n",
            "(1, 1, 7) (1, 1, 256) (1, 7, 256) (1, 1, 7) (1, 1, 256)\n",
            "(1, 1, 7) (1, 1, 256) (1, 7, 256) (1, 1, 7) (1, 1, 256)\n",
            "(1, 1, 7) (1, 1, 256) (1, 7, 256) (1, 1, 7) (1, 1, 256)\n",
            "(1, 1, 7) (1, 1, 256) (1, 7, 256) (1, 1, 7) (1, 1, 256)\n",
            "(1, 1, 7) (1, 1, 256) (1, 7, 256) (1, 1, 7) (1, 1, 256)\n",
            "(1, 1, 7) (1, 1, 256) (1, 7, 256) (1, 1, 7) (1, 1, 256)\n",
            "(1, 1, 7) (1, 1, 256) (1, 7, 256) (1, 1, 7) (1, 1, 256)\n",
            "(1, 1, 7) (1, 1, 256) (1, 7, 256) (1, 1, 7) (1, 1, 256)\n",
            "(1, 1, 7) (1, 1, 256) (1, 7, 256) (1, 1, 7) (1, 1, 256)\n",
            "(1, 1, 7) (1, 1, 256) (1, 7, 256) (1, 1, 7) (1, 1, 256)\n",
            "(1, 1, 7) (1, 1, 256) (1, 7, 256) (1, 1, 7) (1, 1, 256)\n",
            "(1, 1, 7) (1, 1, 256) (1, 7, 256) (1, 1, 7) (1, 1, 256)\n",
            "(1, 1, 7) (1, 1, 256) (1, 7, 256) (1, 1, 7) (1, 1, 256)\n",
            "(1, 1, 7) (1, 1, 256) (1, 7, 256) (1, 1, 7) (1, 1, 256)\n",
            "(1, 1, 7) (1, 1, 256) (1, 7, 256) (1, 1, 7) (1, 1, 256)\n",
            "(1, 1, 7) (1, 1, 256) (1, 7, 256) (1, 1, 7) (1, 1, 256)\n",
            "(1, 1, 7) (1, 1, 256) (1, 7, 256) (1, 1, 7) (1, 1, 256)\n",
            "(1, 1, 7) (1, 1, 256) (1, 7, 256) (1, 1, 7) (1, 1, 256)\n",
            "(1, 1, 7) (1, 1, 256) (1, 7, 256) (1, 1, 7) (1, 1, 256)\n",
            "source:  the lack of vitamina is even more imminent in states of measles and malnutrition \n",
            "actual:  <sos> विटामिनए की कमी खसरे तथा कुपोषण की स्थिति में और अधिक होती है ।\n",
            "predicted:  को जब को को को को को को को को को को को को को को को को को को को को को को को को को को को को को को को को को को को को को को को को को को को को को को को को\n",
            "BLEU Score:  0\n"
          ],
          "name": "stdout"
        },
        {
          "output_type": "display_data",
          "data": {
            "image/png": "[encoded data removed]",
            "text/plain": [
              "<Figure size 432x288 with 2 Axes>"
            ]
          },
          "metadata": {
            "tags": []
          }
        },
        {
          "output_type": "execute_result",
          "data": {
            "text/plain": [
              "'\\n(20, 1, 42)\\nattention_weights:  (20, 1, 42)\\nencoder_output:  (20, 42, 256)\\ncontext_vector:  (20, 1, 256)\\n\\n(20, 1, 42)\\nattention_weights:  (20, 1, 42)\\nencoder_output:  (20, 42, 256)\\ncontext_vector:  (20, 1, 256)\\ncoverage:  (20, 1, 42)\\n\\n(1, 1, 11)\\nattention_weights:  (1, 1, 11)\\nencoder_output:  (1, 11, 256)\\ncontext_vector:  (1, 1, 256)\\n\\n\\n(1, 1, 11)\\nattention_weights:  (1, 1, 11)\\nencoder_output:  (1, 11, 256)\\ncontext_vector:  (1, 1, 256)\\ncoverage:  (1, 1, 11)\\n\\n(1, 1, 31) (1, 1, 31) (1, 1, 256) (1, 31, 256)\\n(1, 1, 31) (1, 1, 10) (1, 1, 256) (1, 10, 256)\\n'"
            ]
          },
          "metadata": {
            "tags": []
          },
          "execution_count": 57
        }
      ]
    },
    {
      "cell_type": "code",
      "metadata": {
        "id": "z4S00hyf3oTt",
        "colab_type": "code",
        "colab": {}
      },
      "source": [
        ""
      ],
      "execution_count": 0,
      "outputs": []
    }
  ]
}