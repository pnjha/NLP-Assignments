{
  "nbformat": 4,
  "nbformat_minor": 0,
  "metadata": {
    "colab": {
      "name": "NPL1.ipynb",
      "provenance": [],
      "collapsed_sections": [],
      "authorship_tag": "ABX9TyO/h5hO7uhJvyh+AotF7u1d",
      "include_colab_link": true
    },
    "kernelspec": {
      "name": "python3",
      "display_name": "Python 3"
    },
    "accelerator": "GPU"
  },
  "cells": [
    {
      "cell_type": "markdown",
      "metadata": {
        "id": "view-in-github",
        "colab_type": "text"
      },
      "source": [
        "<a href=\"https://colab.research.google.com/github/pnjha/NLP-Assignments/blob/master/NPL1.ipynb\" target=\"_parent\"><img src=\"https://colab.research.google.com/assets/colab-badge.svg\" alt=\"Open In Colab\"/></a>"
      ]
    },
    {
      "cell_type": "code",
      "metadata": {
        "id": "IvtHKj8zNRit",
        "colab_type": "code",
        "colab": {
          "base_uri": "https://localhost:8080/",
          "height": 141
        },
        "outputId": "44ab338a-9c0b-4dab-9534-4cd0e946f8d6"
      },
      "source": [
        "from google.colab import drive\n",
        "drive.mount('/content/drive')\n",
        "%cd drive/My\\ Drive"
      ],
      "execution_count": 1,
      "outputs": [
        {
          "output_type": "stream",
          "text": [
            "Go to this URL in a browser: https://accounts.google.com/o/oauth2/auth?client_id=947318989803-6bn6qk8qdgf4n4g3pfee6491hc0brc4i.apps.googleusercontent.com&redirect_uri=urn%3aietf%3awg%3aoauth%3a2.0%3aoob&response_type=code&scope=email%20https%3a%2f%2fwww.googleapis.com%2fauth%2fdocs.test%20https%3a%2f%2fwww.googleapis.com%2fauth%2fdrive%20https%3a%2f%2fwww.googleapis.com%2fauth%2fdrive.photos.readonly%20https%3a%2f%2fwww.googleapis.com%2fauth%2fpeopleapi.readonly\n",
            "\n",
            "Enter your authorization code:\n",
            "··········\n",
            "Mounted at /content/drive\n",
            "/content/drive/My Drive\n"
          ],
          "name": "stdout"
        }
      ]
    },
    {
      "cell_type": "code",
      "metadata": {
        "id": "QW_lhyYjMhgS",
        "colab_type": "code",
        "colab": {
          "base_uri": "https://localhost:8080/",
          "height": 81
        },
        "outputId": "94f4a6cc-5c69-4cff-cdcf-02037ea40a5b"
      },
      "source": [
        "import pandas as pd\n",
        "import numpy as np\n",
        "import string\n",
        "from string import digits\n",
        "import matplotlib.pyplot as plt\n",
        "%matplotlib inline\n",
        "import re\n",
        "import copy\n",
        "import math\n",
        "from keras.models import Sequential\n",
        "from keras.layers import LSTM\n",
        "from keras.layers import Dense\n",
        "from keras.layers import TimeDistributed, Bidirectional, Embedding\n",
        "from keras.layers import RepeatVector\n",
        "from sklearn.utils import shuffle\n",
        "from sklearn.model_selection import train_test_split\n",
        "from keras.models import Sequential, Model\n",
        "from keras.layers import Dense, LSTM, CuDNNLSTM, Input, Embedding, TimeDistributed, Flatten, Dropout, Activation\n",
        "from keras.callbacks import ModelCheckpoint\n",
        "from nltk.translate.bleu_score import sentence_bleu\n",
        "from nltk.translate.bleu_score import SmoothingFunction"
      ],
      "execution_count": 2,
      "outputs": [
        {
          "output_type": "stream",
          "text": [
            "Using TensorFlow backend.\n"
          ],
          "name": "stderr"
        },
        {
          "output_type": "display_data",
          "data": {
            "text/html": [
              "<p style=\"color: red;\">\n",
              "The default version of TensorFlow in Colab will soon switch to TensorFlow 2.x.<br>\n",
              "We recommend you <a href=\"https://www.tensorflow.org/guide/migrate\" target=\"_blank\">upgrade</a> now \n",
              "or ensure your notebook will continue to use TensorFlow 1.x via the <code>%tensorflow_version 1.x</code> magic:\n",
              "<a href=\"https://colab.research.google.com/notebooks/tensorflow_version.ipynb\" target=\"_blank\">more info</a>.</p>\n"
            ],
            "text/plain": [
              "<IPython.core.display.HTML object>"
            ]
          },
          "metadata": {
            "tags": []
          }
        }
      ]
    },
    {
      "cell_type": "code",
      "metadata": {
        "id": "b-r5vnafOWnf",
        "colab_type": "code",
        "colab": {
          "base_uri": "https://localhost:8080/",
          "height": 363
        },
        "outputId": "b9b5259d-e7af-4f3b-e371-a60b91a833fd"
      },
      "source": [
        "X = pd.read_table('./NLA S20 - Assignment 2 Data/enghin/dev.en', names=['src'])\n",
        "Y = pd.read_table('./NLA S20 - Assignment 2 Data/enghin/dev.hi', names=['dest'])\n",
        "lines = pd.concat([X,Y], axis=1)\n",
        "lines = shuffle(lines)\n",
        "lines.sample(10)"
      ],
      "execution_count": 3,
      "outputs": [
        {
          "output_type": "execute_result",
          "data": {
            "text/html": [
              "<div>\n",
              "<style scoped>\n",
              "    .dataframe tbody tr th:only-of-type {\n",
              "        vertical-align: middle;\n",
              "    }\n",
              "\n",
              "    .dataframe tbody tr th {\n",
              "        vertical-align: top;\n",
              "    }\n",
              "\n",
              "    .dataframe thead th {\n",
              "        text-align: right;\n",
              "    }\n",
              "</style>\n",
              "<table border=\"1\" class=\"dataframe\">\n",
              "  <thead>\n",
              "    <tr style=\"text-align: right;\">\n",
              "      <th></th>\n",
              "      <th>src</th>\n",
              "      <th>dest</th>\n",
              "    </tr>\n",
              "  </thead>\n",
              "  <tbody>\n",
              "    <tr>\n",
              "      <th>160</th>\n",
              "      <td>Hundreds of such small creatures live in our b...</td>\n",
              "      <td>हमारे शरीर में सैकड़ों ऐसे छोटे जीव रहते हैं ज...</td>\n",
              "    </tr>\n",
              "    <tr>\n",
              "      <th>159</th>\n",
              "      <td>Tuberculosis , pneumonia etc . encircle .</td>\n",
              "      <td>टी.बी. निमोनिया आदि घेर लेते हैं ।</td>\n",
              "    </tr>\n",
              "    <tr>\n",
              "      <th>140</th>\n",
              "      <td>Patients are administered more anesthetic medi...</td>\n",
              "      <td>मरीज को ज्यादा निश्चेतक दवा देनी पड़ती है , जिस...</td>\n",
              "    </tr>\n",
              "    <tr>\n",
              "      <th>38</th>\n",
              "      <td>Start with light exercise .</td>\n",
              "      <td>प्रारंभ सूक्ष्म व्यायाम से करो ।</td>\n",
              "    </tr>\n",
              "    <tr>\n",
              "      <th>138</th>\n",
              "      <td>These possibilities are negligible in laparosc...</td>\n",
              "      <td>लैपरोस्कोपिक विधि में ये संभावनाएँ नगण्य होती ...</td>\n",
              "    </tr>\n",
              "    <tr>\n",
              "      <th>81</th>\n",
              "      <td>Try to remember the new information by relatin...</td>\n",
              "      <td>नई जानकारी को किसी पुरानी जानकारी से जोड़कर याद...</td>\n",
              "    </tr>\n",
              "    <tr>\n",
              "      <th>65</th>\n",
              "      <td>Brain exercise works on this very fundamental .</td>\n",
              "      <td>ब्रेन एक्सरसाइज इसी फंडे पर काम करती है ।</td>\n",
              "    </tr>\n",
              "    <tr>\n",
              "      <th>299</th>\n",
              "      <td>During the cleaning of bus everyone is asked t...</td>\n",
              "      <td>बस की सफाई के दौरान सभी को बाहर जाने के लिए कह...</td>\n",
              "    </tr>\n",
              "    <tr>\n",
              "      <th>26</th>\n",
              "      <td>Including these things in your diet you can sa...</td>\n",
              "      <td>इन्ही चीजों को अपने आहार में शामिल कर आप आँखों...</td>\n",
              "    </tr>\n",
              "    <tr>\n",
              "      <th>289</th>\n",
              "      <td>Actually , the early you reach , the better se...</td>\n",
              "      <td>दरअसल , जितना जल्दी आप पहुँचेंगे , उतनी अच्छी ...</td>\n",
              "    </tr>\n",
              "  </tbody>\n",
              "</table>\n",
              "</div>"
            ],
            "text/plain": [
              "                                                   src                                               dest\n",
              "160  Hundreds of such small creatures live in our b...  हमारे शरीर में सैकड़ों ऐसे छोटे जीव रहते हैं ज...\n",
              "159          Tuberculosis , pneumonia etc . encircle .                 टी.बी. निमोनिया आदि घेर लेते हैं ।\n",
              "140  Patients are administered more anesthetic medi...  मरीज को ज्यादा निश्चेतक दवा देनी पड़ती है , जिस...\n",
              "38                         Start with light exercise .                   प्रारंभ सूक्ष्म व्यायाम से करो ।\n",
              "138  These possibilities are negligible in laparosc...  लैपरोस्कोपिक विधि में ये संभावनाएँ नगण्य होती ...\n",
              "81   Try to remember the new information by relatin...  नई जानकारी को किसी पुरानी जानकारी से जोड़कर याद...\n",
              "65     Brain exercise works on this very fundamental .          ब्रेन एक्सरसाइज इसी फंडे पर काम करती है ।\n",
              "299  During the cleaning of bus everyone is asked t...  बस की सफाई के दौरान सभी को बाहर जाने के लिए कह...\n",
              "26   Including these things in your diet you can sa...  इन्ही चीजों को अपने आहार में शामिल कर आप आँखों...\n",
              "289  Actually , the early you reach , the better se...  दरअसल , जितना जल्दी आप पहुँचेंगे , उतनी अच्छी ..."
            ]
          },
          "metadata": {
            "tags": []
          },
          "execution_count": 3
        }
      ]
    },
    {
      "cell_type": "code",
      "metadata": {
        "id": "D4MluwRYOeir",
        "colab_type": "code",
        "colab": {}
      },
      "source": [
        "def process_data(data,append_char):\n",
        "  data = data.apply(lambda x: x.lower())\n",
        "  data = data.apply(lambda x: x.strip())\n",
        "  data = data.apply(lambda x: re.sub(\"'\", '', x))\n",
        "  exclude = set(string.punctuation) # Set of all special characters\n",
        "  data = data.apply(lambda x: ''.join(ch for ch in x if ch not in exclude))\n",
        "  remove_digits = str.maketrans('', '', digits)\n",
        "  data = data.apply(lambda x: x.translate(remove_digits))\n",
        "  if append_char:\n",
        "    data = data.apply(lambda x : '<SOS> '+ x + ' <EOS>')\n",
        "  return data"
      ],
      "execution_count": 0,
      "outputs": []
    },
    {
      "cell_type": "code",
      "metadata": {
        "id": "oPDR4sQJOrOK",
        "colab_type": "code",
        "colab": {
          "base_uri": "https://localhost:8080/",
          "height": 453
        },
        "outputId": "164a7d87-abbc-4ebd-c7fe-468b1999ead0"
      },
      "source": [
        "lines.eng = process_data(lines.src,False)\n",
        "lines.hin = process_data(lines.dest,True)\n",
        "lines.sample(10)"
      ],
      "execution_count": 5,
      "outputs": [
        {
          "output_type": "stream",
          "text": [
            "/usr/local/lib/python3.6/dist-packages/ipykernel_launcher.py:1: UserWarning: Pandas doesn't allow columns to be created via a new attribute name - see https://pandas.pydata.org/pandas-docs/stable/indexing.html#attribute-access\n",
            "  \"\"\"Entry point for launching an IPython kernel.\n",
            "/usr/local/lib/python3.6/dist-packages/ipykernel_launcher.py:2: UserWarning: Pandas doesn't allow columns to be created via a new attribute name - see https://pandas.pydata.org/pandas-docs/stable/indexing.html#attribute-access\n",
            "  \n"
          ],
          "name": "stderr"
        },
        {
          "output_type": "execute_result",
          "data": {
            "text/html": [
              "<div>\n",
              "<style scoped>\n",
              "    .dataframe tbody tr th:only-of-type {\n",
              "        vertical-align: middle;\n",
              "    }\n",
              "\n",
              "    .dataframe tbody tr th {\n",
              "        vertical-align: top;\n",
              "    }\n",
              "\n",
              "    .dataframe thead th {\n",
              "        text-align: right;\n",
              "    }\n",
              "</style>\n",
              "<table border=\"1\" class=\"dataframe\">\n",
              "  <thead>\n",
              "    <tr style=\"text-align: right;\">\n",
              "      <th></th>\n",
              "      <th>src</th>\n",
              "      <th>dest</th>\n",
              "    </tr>\n",
              "  </thead>\n",
              "  <tbody>\n",
              "    <tr>\n",
              "      <th>28</th>\n",
              "      <td>Taking diet rich in vitamin-A can also be help...</td>\n",
              "      <td>विटामिन-ए से भरपूर आहार लेना भी आँखों को स्वस्...</td>\n",
              "    </tr>\n",
              "    <tr>\n",
              "      <th>54</th>\n",
              "      <td>Eat simple , easily digestible , nutritious fo...</td>\n",
              "      <td>सादा , सुपाच्य , पौष्टिक आहार खाएँ , चोकरयुक्त...</td>\n",
              "    </tr>\n",
              "    <tr>\n",
              "      <th>297</th>\n",
              "      <td>Establish a familiarity with the bus driver an...</td>\n",
              "      <td>बस ड्राइवर व कंडक्टर से पहचान बना लें ।</td>\n",
              "    </tr>\n",
              "    <tr>\n",
              "      <th>257</th>\n",
              "      <td>Early morning I had seen a tourist from Hollan...</td>\n",
              "      <td>सुबह-सुबह मैंने हॉलैंड के एक पर्यटक को गहरे ध्...</td>\n",
              "    </tr>\n",
              "    <tr>\n",
              "      <th>113</th>\n",
              "      <td>The following consequences show up if a person...</td>\n",
              "      <td>किसी व्यक्ति को एड्स होने पर निम्न दुष्परिणाम ...</td>\n",
              "    </tr>\n",
              "    <tr>\n",
              "      <th>70</th>\n",
              "      <td>Read attentively whatever is to be remembered ...</td>\n",
              "      <td>जो भी याद रखना है उसे गौर से पढ़ें और आगे बढ़न...</td>\n",
              "    </tr>\n",
              "    <tr>\n",
              "      <th>315</th>\n",
              "      <td>Here unknown soldiers martyered in World War I...</td>\n",
              "      <td>यहाँ प्रथम विश्‍व युद्ध में शहीद हुए अज्ञात सै...</td>\n",
              "    </tr>\n",
              "    <tr>\n",
              "      <th>188</th>\n",
              "      <td>The main reason of blindness is cataract which...</td>\n",
              "      <td>दृष्टिहीनता का मुख्य कारण मोतियाबिंद है जो कुल...</td>\n",
              "    </tr>\n",
              "    <tr>\n",
              "      <th>360</th>\n",
              "      <td>No doubt they will show you a scene of a very ...</td>\n",
              "      <td>बेशक ये आपको एक अलग ही दुनिया का नजारा दिखाएँग...</td>\n",
              "    </tr>\n",
              "    <tr>\n",
              "      <th>18</th>\n",
              "      <td>The use of dry fruits etcetera in Indian cuisi...</td>\n",
              "      <td>भारतीय व्यंजनों में मेवे आदि का इस्तेमाल सदियो...</td>\n",
              "    </tr>\n",
              "  </tbody>\n",
              "</table>\n",
              "</div>"
            ],
            "text/plain": [
              "                                                   src                                               dest\n",
              "28   Taking diet rich in vitamin-A can also be help...  विटामिन-ए से भरपूर आहार लेना भी आँखों को स्वस्...\n",
              "54   Eat simple , easily digestible , nutritious fo...  सादा , सुपाच्य , पौष्टिक आहार खाएँ , चोकरयुक्त...\n",
              "297  Establish a familiarity with the bus driver an...            बस ड्राइवर व कंडक्टर से पहचान बना लें ।\n",
              "257  Early morning I had seen a tourist from Hollan...  सुबह-सुबह मैंने हॉलैंड के एक पर्यटक को गहरे ध्...\n",
              "113  The following consequences show up if a person...  किसी व्यक्ति को एड्स होने पर निम्न दुष्परिणाम ...\n",
              "70   Read attentively whatever is to be remembered ...  जो भी याद रखना है उसे गौर से पढ़ें और आगे बढ़न...\n",
              "315  Here unknown soldiers martyered in World War I...  यहाँ प्रथम विश्‍व युद्ध में शहीद हुए अज्ञात सै...\n",
              "188  The main reason of blindness is cataract which...  दृष्टिहीनता का मुख्य कारण मोतियाबिंद है जो कुल...\n",
              "360  No doubt they will show you a scene of a very ...  बेशक ये आपको एक अलग ही दुनिया का नजारा दिखाएँग...\n",
              "18   The use of dry fruits etcetera in Indian cuisi...  भारतीय व्यंजनों में मेवे आदि का इस्तेमाल सदियो..."
            ]
          },
          "metadata": {
            "tags": []
          },
          "execution_count": 5
        }
      ]
    },
    {
      "cell_type": "code",
      "metadata": {
        "id": "y4r0XpNTOw5_",
        "colab_type": "code",
        "colab": {}
      },
      "source": [
        "def get_vocab_list(data):\n",
        "  vocab = []\n",
        "  for line in data:\n",
        "    temp = line.split()\n",
        "    for item in temp:\n",
        "      if item not in vocab:\n",
        "        vocab.append(item)\n",
        "  return vocab"
      ],
      "execution_count": 0,
      "outputs": []
    },
    {
      "cell_type": "code",
      "metadata": {
        "id": "jSkq8Ub6Qu1G",
        "colab_type": "code",
        "colab": {}
      },
      "source": [
        "src_vocab = get_vocab_list(lines.src)\n",
        "dest_vocab = get_vocab_list(lines.dest)"
      ],
      "execution_count": 0,
      "outputs": []
    },
    {
      "cell_type": "code",
      "metadata": {
        "id": "9dCT_JGdQ7l2",
        "colab_type": "code",
        "colab": {
          "base_uri": "https://localhost:8080/",
          "height": 52
        },
        "outputId": "64f0a603-2b8b-4160-f831-7421804f05fc"
      },
      "source": [
        "print(src_vocab[:10])\n",
        "print(dest_vocab[:10]) "
      ],
      "execution_count": 8,
      "outputs": [
        {
          "output_type": "stream",
          "text": [
            "['It', 'is', 'worth', 'noting', 'that', 'this', 'road', 'the', 'main', 'way']\n",
            "['गौरतलब', 'है', 'कि', 'यह', 'सड़क', 'रोम', 'का', 'मुख्य', 'मार्ग', '।']\n"
          ],
          "name": "stdout"
        }
      ]
    },
    {
      "cell_type": "code",
      "metadata": {
        "id": "yBu70IXmRKKI",
        "colab_type": "code",
        "colab": {}
      },
      "source": [
        "# Max Length of source sequence\n",
        "def get_max_sentence_size(data):\n",
        "  max_len = 0\n",
        "  for line in data:\n",
        "    temp = line.split()\n",
        "    max_len = max(max_len, len(temp))\n",
        "  return max_len"
      ],
      "execution_count": 0,
      "outputs": []
    },
    {
      "cell_type": "code",
      "metadata": {
        "id": "m-1twYK-R7e0",
        "colab_type": "code",
        "colab": {
          "base_uri": "https://localhost:8080/",
          "height": 34
        },
        "outputId": "c241efec-4f02-4df9-af50-db66b3f08aac"
      },
      "source": [
        "src_max_len = get_max_sentence_size(lines.src)\n",
        "dest_max_len = get_max_sentence_size(lines.dest)\n",
        "src_max_len,dest_max_len"
      ],
      "execution_count": 10,
      "outputs": [
        {
          "output_type": "execute_result",
          "data": {
            "text/plain": [
              "(50, 48)"
            ]
          },
          "metadata": {
            "tags": []
          },
          "execution_count": 10
        }
      ]
    },
    {
      "cell_type": "code",
      "metadata": {
        "id": "9cf5HOBdSIWb",
        "colab_type": "code",
        "colab": {
          "base_uri": "https://localhost:8080/",
          "height": 34
        },
        "outputId": "950b0cb9-7ae7-4ff2-a222-25f6ce3aa852"
      },
      "source": [
        "src_vocab_len = len(src_vocab)\n",
        "dest_vocab_len = len(dest_vocab) + 1\n",
        "src_vocab_len, dest_vocab_len"
      ],
      "execution_count": 11,
      "outputs": [
        {
          "output_type": "execute_result",
          "data": {
            "text/plain": [
              "(1867, 2009)"
            ]
          },
          "metadata": {
            "tags": []
          },
          "execution_count": 11
        }
      ]
    },
    {
      "cell_type": "code",
      "metadata": {
        "id": "k3riCXKUU73a",
        "colab_type": "code",
        "colab": {}
      },
      "source": [
        "def get_word_to_index_dict(vocab):\n",
        "  word_to_index = {}\n",
        "  for i, word in enumerate(vocab):\n",
        "    word_to_index[word] = i\n",
        "  return word_to_index"
      ],
      "execution_count": 0,
      "outputs": []
    },
    {
      "cell_type": "code",
      "metadata": {
        "id": "tYYZuqD9UDH8",
        "colab_type": "code",
        "colab": {}
      },
      "source": [
        "src_word_to_index = get_word_to_index_dict(src_vocab)\n",
        "dest_word_to_index = get_word_to_index_dict(dest_vocab)"
      ],
      "execution_count": 0,
      "outputs": []
    },
    {
      "cell_type": "code",
      "metadata": {
        "id": "fbO2x5YiWN5r",
        "colab_type": "code",
        "colab": {
          "base_uri": "https://localhost:8080/",
          "height": 72
        },
        "outputId": "f22a6e60-e8f3-435b-84cc-18c9101f2fa0"
      },
      "source": [
        "print(src_word_to_index)\n",
        "print(dest_word_to_index)"
      ],
      "execution_count": 14,
      "outputs": [
        {
          "output_type": "stream",
          "text": [
            "{'It': 0, 'is': 1, 'worth': 2, 'noting': 3, 'that': 4, 'this': 5, 'road': 6, 'the': 7, 'main': 8, 'way': 9, 'of': 10, 'Rome': 11, '.': 12, 'Ginger': 13, 'hotel': 14, 'has': 15, 'opened': 16, 'here': 17, 'as': 18, 'well': 19, 'Use': 20, 'warm': 21, 'water': 22, 'for': 23, 'bathing': 24, 'In': 25, 'button': 26, 'hole': 27, 'surgery': 28, 'possibility': 29, 'hurting': 30, 'internal': 31, 'components': 32, 'abdomen': 33, 'much': 34, 'less': 35, 'Apart': 36, 'from': 37, 'some': 38, 'diseases': 39, 'parts': 40, 'chest': 41, 'may': 42, 'also': 43, 'be': 44, 'cured': 45, 'by': 46, 'method': 47, 'So': 48, ',': 49, 'why': 50, 'should': 51, 'it': 52, 'left': 53, 'eyes': 54, 'All': 55, 'social': 56, 'religious': 57, 'economic': 58, 'political': 59, 'etc': 60, 'activities': 61, 'city': 62, 'used': 63, 'to': 64, 'happen': 65, 'only': 66, 'Camping': 67, 'done': 68, 'through': 69, 'government': 70, 'non-government': 71, 'and': 72, 'voluntary': 73, 'organizations': 74, 'after': 75, 'comprehensive': 76, 'propagation': 77, 'District': 78, 'Blindness': 79, 'Control': 80, 'Committees': 81, 'What': 82, 'else': 83, 'needed': 84, 'Along': 85, 'with': 86, 'where': 87, 'old': 88, 'tourists': 89, 'sites': 90, 'are': 91, 'present': 92, 'whre': 93, 'you': 94, 'have': 95, 'take': 96, 'bus': 97, 'reach': 98, 'there': 99, 'an': 100, 'hour': 101, 'before': 102, 'time': 103, \"'s\": 104, 'construction': 105, 'was': 106, 'in': 107, 'nineteen': 108, 'hundred': 109, 'twenty': 110, 'Sea': 111, 'cruise': 112, 'proved': 113, 'profitable': 114, 'The': 115, 'moment': 116, 'enter': 117, 'inside': 118, 'welcomed': 119, 'appears': 120, 'attention': 121, 'been': 122, 'paid': 123, 'divine': 124, 'peace': 125, 'situated': 126, 'Panjim': 127, 'capital': 128, 'Goa': 129, 'makes': 130, 'journey': 131, 'western': 132, 'coast': 133, 'excellent': 134, 'magic': 135, 'waterfalls': 136, 'between': 137, 'rocks': 138, 'seeing': 139, 'Laparoscopic': 140, 'takes': 141, 'double': 142, 'comparison': 143, 'simple': 144, 'treatment': 145, 'Although': 146, 'tehre': 147, 'many': 148, 'gardens': 149, 'but': 150, 'Villa': 151, 'Borges': 152, 'unparalleled': 153, 'There': 154, 'no': 155, 'need': 156, 'stay': 157, 'at': 158, 'hospital': 159, 'more': 160, 'days': 161, 'due': 162, 'stitches': 163, 'being': 164, 'applied': 165, 'Bending': 166, 'right': 167, 'leg': 168, 'knee': 169, 'touch': 170, 'its': 171, 'sole': 172, 'put': 173, 'heel': 174, 'below': 175, 'genitals': 176, 'brain': 177, 'remains': 178, 'fresh': 179, 'having': 180, 'good': 181, 'sleep': 182, 'Avoid': 183, 'heavy': 184, 'hard': 185, 'digest': 186, 'tea': 187, 'coffee': 188, 'tobacco': 189, 'intoxicating': 190, 'things': 191, 'exciting': 192, 'element': 193, 'such': 194, 'chemical': 195, 'agents': 196, 'oozes': 197, 'will': 198, 'save': 199, 'cells': 200, 'getting': 201, 'destroyed': 202, 'After': 203, 'situation': 204, 'improves': 205, 'add': 206, 'Pavanmuktasana': 207, 'Vajrasana': 208, 'Shashankasana': 209, 'Makarasana': 210, 'etcetera': 211, 'practice': 212, 'Gujarat': 213, 'abutting': 214, 'a': 215, 'marvellous': 216, 'visit': 217, 'golden': 218, 'historical': 219, 'witnesses': 220, 'granduer': 221, 'Peshwa': 222, 'period': 223, 'Pune': 224, 'sabarmati': 225, 'ashram': 226, 'Ahmadabad': 227, 'mukti': 228, 'andolan': 229, 'found': 230, 'Boating': 231, 'Mirik': 232, 'lake': 233, 'short': 234, 'break': 235, 'garden': 236, 'Carry': 237, 'on': 238, 'bags': 239, 'them': 240, 'patients': 241, 'sciatica': 242, 'slip': 243, 'disk': 244, 'avoid': 245, 'Patients': 246, 'administered': 247, 'anesthetic': 248, 'medicine': 249, 'which': 250, 'own': 251, 'harms': 252, 'Rub': 253, 'body': 254, 'top': 255, 'bottom': 256, 'furred': 257, 'towel': 258, 'get': 259, 'important': 260, 'information': 261, 'identifying': 262, 'patient': 263, 'suffering': 264, 'cataract': 265, 'doctors': 266, 'eye': 267, 'helpers': 268, 'perform': 269, 'screening': 270, 'their': 271, 'hospitals': 272, 'most': 273, 'famous': 274, 'among': 275, 'Forum': 276, 'romanum': 277, 'place': 278, 'ruins': 279, 'palaces': 280, 'temples': 281, 'pillars': 282, 'even': 283, 'today': 284, 'To': 285, 'repair': 286, 'hiatus': 287, 'hernia': 288, 'huge': 289, 'arena': 290, '80': 291, 'B': 292, 'than': 293, '50': 294, 'thousand': 295, 'audience': 296, 'could': 297, 'sit': 298, 'together': 299, 'By': 300, 'smoking': 301, 'cigarette': 302, 'arteries': 303, 'bringing': 304, 'oxygen': 305, 'start': 306, 'shrinking': 307, 'starts': 308, 'weakening': 309, 'While': 310, 'walking': 311, 'narrow': 312, 'we': 313, 'saw': 314, 'fort': 315, 'Ajabgadh': 316, 'rays': 317, 'sun': 318, 'were': 319, 'spreading': 320, 'gradually': 321, 'If': 322, 'seen': 323, 'date': 324, 'then': 325, 'Maldive': 326, 'Delhi': 327, 'inexpensive': 328, 'return': 329, 'fare': 330, '28': 331, 'rupees': 332, 'per': 333, 'person': 334, 'power': 335, 'fight': 336, 'against': 337, 'totally': 338, 'languishes': 339, 'or': 340, 'ends': 341, 'called': 342, 'AIDS': 343, 'These': 344, 'possibilities': 345, 'negligible': 346, 'laparoscopy': 347, 'Before': 348, 'buying': 349, 'ticket': 350, 'search': 351, 'best': 352, 'deal': 353, 'Wounds': 354, 'blisters': 355, 'mouth': 356, 'use': 357, 'your': 358, 'capable': 359, 'staffs': 360, 'related': 361, 'department': 362, 'trained': 363, 'different': 364, 'levels': 365, 'Government': 366, 'India': 367, 'reduce': 368, 'prevalence': 369, 'rate': 370, 'blindness': 371, 'From': 372, 'wit': 373, 'help': 374, 'binoculars': 375, 'complete': 376, 'mountain': 377, 'Darjeeling': 378, 'can': 379, 'A': 380, 'thing': 381, 'remembered': 382, 'long': 383, 'when': 384, 'care': 385, 'taken': 386, 'serving': 387, 'traditional': 388, 'cuisine': 389, 'does': 390, 'not': 391, 'spread': 392, 'touching': 393, 'mutual': 394, 'interaction': 395, 'Maintain': 396, 'safe': 397, 'sex': 398, 'relations': 399, 'This': 400, 'those': 401, 'seven': 402, 'kings': 403, 'Alwar': 404, 'camp': 405, 'hunting': 406, 'necessary': 407, 'give': 408, 'suggestions': 409, 'living': 410, 'H': 411, 'family': 412, 'members': 413, 'Among': 414, 'chief': 415, 'reasons': 416, '55': 417, 'percent': 418, 'vision': 419, 'problems': 420, '19': 421, 'black': 422, '4': 423, 'corneal': 424, 'pathology': 425, '7': 426, 'others': 427, '15': 428, 'For': 429, 'example': 430, 'cancer': 431, '-LRB-': 432, 'abdominal': 433, '-RRB-': 434, 'liver': 435, 'intestine': 436, 'enjoying': 437, \"'\": 438, 'Piazza': 439, 'Venezia': 440, 'go': 441, 'Via': 442, 'del': 443, 'Corso': 444, 'Increment': 445, 'lymph': 446, 'nodes': 447, 'size': 448, 'one': 449, 'two': 450, 'hotels': 451, 'Pimpri': 452, 'Wakad': 453, 'Do': 454, 'under': 455, 'eligible': 456, 'guide': 457, 'according': 458, 'capacity': 459, 'without': 460, 'kumbhak': 461, 'holding': 462, 'breath': 463, 'reason': 464, 'about': 465, 'all': 466, 'Woithout': 467, 'doubt': 468, 'happens': 469, 'nationsand': 470, 'tourist': 471, 'show': 472, 'interest': 473, 'stands': 474, '`': 475, 'Human': 476, 'Immuno-deficiency': 477, 'Virus': 478, 'During': 479, 'busy': 480, 'season': 481, 'special': 482, 'point': 483, 'Because': 484, 'several': 485, 'symptoms': 486, 'showing': 487, 'up': 488, 'inkling': 489, 'facility': 490, 'washroom': 491, 'do': 492, 'while': 493, 'chosing': 494, 'seat': 495, 'because': 496, 'becomes': 497, 'difficult': 498, 'they': 499, 'might': 500, 'face': 501, 'complexities': 502, 'like': 503, 'pneumonia': 504, 'clotting': 505, 'blood': 506, 'vessels': 507, 'Such': 508, 'glimpse': 509, 'village': 510, 'life': 511, 'wonderful': 512, 'experience': 513, 'Jackie': 514, 'You': 515, 'include': 516, 'green': 517, 'vegetables': 518, 'diet': 519, 'keep': 520, 'sharp': 521, 'Tou': 522, 'trains': 523, 'enhance': 524, 'tour': 525, 'Special': 526, 'quality': 527, 'operation': 528, 'district': 529, 'base': 530, 'converted': 531, 'into': 532, 'Microscopic': 533, 'Centres': 534, 'land': 535, 'multicoloured': 536, 'culture': 537, 'rich': 538, 'heritage': 539, 'contagious': 540, 'disease': 541, 'Actually': 542, 'motive': 543, 'tours': 544, 'bring': 545, 'style': 546, 'ways': 547, 'traditions': 548, 'sharpens': 549, 'eating': 550, 'fish': 551, 'walnut': 552, 'almond': 553, 'Vitamin': 554, 'E': 555, 'antioxidants': 556, 'tomato': 557, 'green-tea': 558, 'broccoli': 559, 'sweet': 560, 'potato': 561, 'idols': 562, 'built': 563, 'unique': 564, 'look': 565, 'so': 566, 'lively': 567, 'looks': 568, 'if': 569, 'ebgint': 570, 'o': 571, 'speak': 572, 'now': 573, 'Bringing': 574, 'both': 575, 'hands': 576, 'forefoot': 577, 'bend': 578, 'forward': 579, 'head': 580, 'touches': 581, 'ground': 582, 'Immune': 583, 'system': 584, 'arrangement': 585, 'our': 586, 'saves': 587, 'us': 588, 'infection': 589, 'Plenty': 590, 'vitamin-B': 591, 'these': 592, 'kind': 593, 'other': 594, 'protect': 595, 'ultraviolet': 596, 'testified': 597, 'six-year': 598, 'study': 599, 'American': 600, 'National': 601, 'Eye': 602, 'Institute': 603, 'people': 604, 'Whileenjoying': 605, 'cycling': 606, 'river': 607, 'cool': 608, 'oceanic': 609, 'winds': 610, 'world': 611, 'Goan': 612, 'fully': 613, 'spend': 614, 'comfortable': 615, 'day': 616, 'option': 617, '601': 618, 'AD': 619, 'temple': 620, 'made': 621, 'church': 622, 'On': 623, 'plane': 624, 'MV': 625, 'Aquamarine': 626, 'Louis': 627, 'three': 628, 'minimum': 629, 'Rs': 630, '5850': 631, 'night': 632, 'Make': 633, 'habit': 634, 'remember': 635, 'relating': 636, 'color': 637, 'smell': 638, 'taste': 639, 'Paralysis': 640, 'limited': 641, 'half': 642, 'whole': 643, 'till': 644, 'Not': 645, 'dry': 646, 'syndrome': 647, 'Try': 648, 'new': 649, 'Infected': 650, 'persons': 651, 'live': 652, 'normal': 653, '10': 654, 'years': 655, 'With': 656, 'CD-4': 657, 'divided': 658, 'roaming': 659, 'airplanes': 660, 'suddenly': 661, 'front': 662, 'toy': 663, 'halt': 664, 'Malè': 665, 'rent': 666, 'enjoy': 667, 'beauty': 668, 'Maldives': 669, 'any': 670, 'island': 671, 'around': 672, 'pocket': 673, 'willprove': 674, 'small': 675, 'resident': 676, 'Raambabu': 677, 'work': 678, 'Jaipur': 679, 'aman': 680, 'Bagh': 681, 'royal': 682, 'Aman': 683, 'Baag': 684, 'real': 685, 'getaway': 686, 'calm': 687, 'comforts': 688, 'facilities': 689, 'Meditation': 690, 'free': 691, 'mind': 692, 'worries': 693, 'sorrows': 694, 'pains': 695, 'grief': 696, 'fears': 697, 'Pay': 698, 'bodily': 699, 'cleanliness': 700, 'elders': 701, 'children': 702, 'age': 703, 'absolutely': 704, 'reached': 705, 'Bhaangadh': 706, 'Jeep': 707, 'million': 708, 'dollar': 709, 'priceless': 710, 'first': 711, 'bagh': 712, 'surrounded': 713, 'mountains': 714, 'shadow': 715, 'dense': 716, 'trees': 717, 'allure': 718, 'heart': 719, 'attacks': 720, 'process': 721, 'repeated': 722, 'again': 723, 'better': 724, 'try': 725, 'poem': 726, 'Prevention': 727, 'Instead': 728, 'trip': 729, 'enquire': 730, 'round': 731, 'fourteenth': 732, 'century': 733, 'wall': 734, 'Cervial': 735, 'Also': 736, 'learn': 737, 'rules': 738, 'insurance': 739, 'loss': 740, 'coverage': 741, 'company': 742, 'following': 743, 'consequences': 744, 'caught': 745, 'Including': 746, 'weakened': 747, 'Now': 748, 'craftiness': 749, 'four': 750, 'holes': 751, 'wounds': 752, 'ripened': 753, 'infected': 754, 'very': 755, 'Brain': 756, 'exercise': 757, 'works': 758, 'fundamental': 759, 'First': 760, 'walk': 761, 'Ram': 762, 'Babu': 763, 'popular': 764, 'spot': 765, 'Kalimpong': 766, '-': 767, 'Lava': 768, 'Lolegaon': 769, 'filled': 770, 'forests': 771, 'rapids': 772, 'appearnebce': 773, 'problem': 774, 'increasing': 775, 'high': 776, 'pressure': 777, 'extreme': 778, 'happiness': 779, 'sorrow': 780, 'research': 781, 'strengthens': 782, 'cell': 783, 'brings': 784, 'nutritious': 785, 'elements': 786, 'Frequent': 787, 'cough': 788, 'month': 789, 'Buying': 790, 'advance': 791, 'cheaper': 792, 'plan': 793, 'little': 794, 'early': 795, 'planning': 796, 'last': 797, 'moments': 798, 'daily': 799, 'common': 800, 'earlier': 801, 'would': 802, 'becoming': 803, 'active': 804, 'They': 805, 'making': 806, 'red': 807, 'corpuscles': 808, 'rising': 809, 'car': 810, 'Batusiya': 811, 'loop': 812, 'program': 813, 'test': 814, '14': 815, 'school': 816, 'students': 817, 'run': 818, 'campaign': 819, 'beginning': 820, 'educational': 821, 'session': 822, 'poor': 823, 'distributed': 824, 'glasses': 825, 'cost': 826, 'Italy': 827, 'ancient': 828, 'cities': 829, 'development': 830, 'civilizations': 831, 'took': 832, 'immune': 833, 'Where': 834, 'known': 835, 'multicolor': 836, 'Maharashtra': 837, 'diversity': 838, 'various': 839, 'beautiful': 840, 'beaches': 841, 'thick': 842, 'historic': 843, 'forts': 844, 'places': 845, 'Wherever': 846, 'stops': 847, 'come': 848, 'back': 849, 'Treatment': 850, 'office': 851, 'home': 852, 'friends': 853, 'same': 854, 'kept': 855, 'sharpened': 856, 'adopting': 857, 'habits': 858, 'tension': 859, 'hormone': 860, 'cortisol': 861, 'hippocampus': 862, 'seriously': 863, 'But': 864, 'later': 865, 'lethal': 866, 'impact': 867, 'specially': 868, 'lutein': 869, 'zeaxanthin': 870, 'responsible': 871, 'luggage': 872, 'terminal': 873, 'extra': 874, 'fee': 875, 'Famous': 876, 'sculptor': 877, 'Michelangelo': 878, 'stairs': 879, 'climb': 880, '1536': 881, 'Separating': 882, 'treating': 883, 'offence': 884, 'Built': 885, 'chowk': 886, 'middle': 887, 'Vijay': 888, 'Chowk': 889, 'Cyst': 890, 'swelling': 891, 'breasts': 892, 'incomplete': 893, 'tiredness': 894, 'concentrate': 895, 'Capitoline': 896, 'brass': 897, 'statue': 898, 'emperor': 899, 'Marcus': 900, 'Oraleous': 901, 'riding': 902, 'horse': 903, 'who': 904, 'ruled': 905, '160': 906, '180': 907, 'options': 908, 'citrus': 909, 'food': 910, 'item': 911, 'museum': 912, 'stated': 913, 'another': 914, 'women': 915, 'ophthalmic': 916, 'decrease': 917, '68': 918, 'tuna': 919, 'We': 920, 'rock': 921, 'magnificent': 922, 'empire': 923, 'stones': 924, 'magical': 925, 'Ganga': 926, 'maya': 927, 'ornate': 928, 'alone': 929, 'despite': 930, 'Tourism': 931, 'interesting': 932, 'subject': 933, 'itself': 934, 'sometimes': 935, 'pull': 936, 'towards': 937, 'ship': 938, 'train': 939, 'pink': 940, 'palace': 941, 'Udaipur': 942, 'Themain': 943, 'attractions': 944, 'fountains': 945, 'ten': 946, 'minutes': 947, 'Memory': 948, 'gets': 949, 'vitamin': 950, 'B-12': 951, 'B-6': 952, 'items': 953, 'folic': 954, 'acid': 955, 'spinach': 956, 'strawberry': 957, 'juicy': 958, 'fruits': 959, 'watermelon': 960, 'soybean': 961, 'Start': 962, 'pieces': 963, 'sweets': 964, 'breakfast': 965, 'meals': 966, 'spreads': 967, 'administering': 968, 'Lets': 969, 'move': 970, 'telling': 971, 'meeting': 972, 'No': 973, 'looking': 974, 'estimate': 975, 'completely': 976, 'artefacts': 977, 'I': 978, 'am': 979, 'going': 980, 'talk': 981, 'prepared': 982, 'ago': 983, 'preparation': 984, 'actually': 985, 'brough': 986, 'bliss': 987, 'forest': 988, 'Active': 989, 'governmental': 990, 'non-governmental': 991, 'Test': 992, 'Programme': 993, 'complex': 994, 'fever': 995, 'mother': 996, 'her': 997, 'issues': 998, 'Due': 999, 'devotees': 1000, 'feel': 1001, 'prayerrs': 1002, 'directly': 1003, 'reching': 1004, 'Gods': 1005, 'Dhooma': 1006, 'dn': 1007, 'Dhoom': 1008, 'attraction': 1009, 'available': 1010, 'yet': 1011, 'avoided': 1012, 'ward': 1013, 'off': 1014, 'peptic': 1015, 'ulcer': 1016, 'belief': 1017, 'someone': 1018, 'want': 1019, 'throw': 1020, 'coin': 1021, 'wish': 1022, 'fountain': 1023, 'see': 1024, 'Vatican': 1025, 'themselves': 1026, 'fact': 1027, 'compete': 1028, 'wild': 1029, 'animals': 1030, 'luxurious': 1031, 'grand': 1032, 'dome': 1033, 'museums': 1034, 'posess': 1035, 'hypnotising': 1036, 'glance': 1037, 'maintain': 1038, 'secrecy': 1039, '1': 1040, '0': 1041, 'started': 1042, 'Beside': 1043, 'memorial': 1044, 'enitre': 1045, 'Everything': 1046, 'inspired': 1047, 'Omega-3': 1048, 'fat': 1049, 'decreases': 1050, 'danger': 1051, 'glaucoma': 1052, 'weak': 1053, 'side': 1054, 'neighbor': 1055, 'state': 1056, 'equipped': 1057, 'sea': 1058, 'shores': 1059, 'sports': 1060, 'heaven': 1061, 'churches': 1062, 'grandeur': 1063, 'era': 1064, 'easily': 1065, 'stays': 1066, 'bed': 1067, 'week': 1068, 'surgical': 1069, 'entering': 1070, 'HIV': 1071, 'increases': 1072, 'number': 1073, 'fast': 1074, 'reproducing': 1075, 'during': 1076, 'viruses': 1077, 'born': 1078, 'artisitc': 1079, 'surprising': 1080, 'received': 1081, 'award': 1082, 'recently': 1083, 'decreased': 1084, 'great': 1085, 'extent': 1086, 'taking': 1087, 'vitamin-C': 1088, 'wide': 1089, '30': 1090, 'feet': 1091, 'Here': 1092, 'Janushirasana': 1093, 'presented': 1094, 'stretching': 1095, 'legs': 1096, 'print': 1097, 'visible': 1098, 'civilization': 1099, 'route': 1100, 'Pasupathinath': 1101, 'hand': 1102, 'sweaters': 1103, 'ets': 1104, 'Napelese': 1105, 'artisans': 1106, 'Adopt': 1107, 'healthy': 1108, 'lifestyle': 1109, 'IN': 1110, 'Emanuel': 1111, '20': 1112, 'constructed': 1113, 'That': 1114, 'eat': 1115, 'bilberry': 1116, 'blackberry': 1117, 'fruit': 1118, 'salad': 1119, 'Nasik': 1120, 'bank': 1121, 'Godavari': 1122, 'Its': 1123, 'witness': 1124, 'identifies': 1125, 'disease-carrier': 1126, 'external': 1127, 'invaders': 1128, 'virus': 1129, 'bacteria': 1130, 'kills': 1131, 'Popular': 1132, 'gujarati': 1133, 'cultural': 1134, 'values': 1135, 'abundance': 1136, 'shopping': 1137, 'shine': 1138, 'colorful': 1139, 'events': 1140, 'Makar': 1141, 'Sakranti': 1142, 'Navaratri': 1143, 'favorite': 1144, 'vegetable': 1145, 'meal': 1146, 'enough': 1147, 'Inside': 1148, 'sides': 1149, 'Godesses': 1150, 'crowd': 1151, 'successful': 1152, 'Add': 1153, 'Suptvajrasana': 1154, 'Trikonasana': 1155, 'Uttanpadasana': 1156, 'Gomukhasana': 1157, 'Ardhmatsyendrasana': 1158, 'Pantheon': 1159, ':': 1160, 'wondoreous': 1161, '27': 1162, 'Devoted': 1163, 'ruler': 1164, 'Victor': 1165, 'Emanual': 1166, 'II': 1167, 'unparalalled': 1168, 'monument': 1169, 'white': 1170, 'marbel': 1171, 'began': 1172, '1885': 1173, 'completed': 1174, '1911': 1175, 'At': 1176, 'audio': 1177, 'learner': 1178, 'listening': 1179, '1986': 1180, '2002': 1181, 'become': 1182, 'forty': 1183, 'five': 1184, 'lacs': 1185, 'St': 1186, 'Peter': 1187, 'Saint': 1188, 'Square': 1189, '1926': 1190, 'onwards': 1191, 'given': 1192, 'status': 1193, 'independent': 1194, 'fit': 1195, 'racks': 1196, 'above': 1197, 'Taking': 1198, 'vitamin-A': 1199, 'helpful': 1200, 'keeping': 1201, 'Yoganidra': 1202, 'cause': 1203, 'mental': 1204, 'sentimental': 1205, 'imbalance': 1206, 'Theere': 1207, 'forum': 1208, 'drinking': 1209, 'drugs': 1210, 'feast': 1211, 'foreign': 1212, 'guest': 1213, 'felt': 1214, 'fantastic': 1215, 'holiday': 1216, 'sure': 1217, 'major': 1218, 'destination': 1219, 'Shirdi': 1220, 'Sai': 1221, 'Baba': 1222, 'unprotected': 1223, 'reaching': 1224, 'entertainments': 1225, 'ride': 1226, 'underwater': 1227, 'lunch': 1228, 'my': 1229, 'ears': 1230, 'words': 1231, 'Meena': 1232, 'echo': 1233, 'Saahiba': 1234, 'befor': 1235, 'ethis': 1236, 'think': 1237, 'thisin': 1238, 'snacks': 1239, 'everything': 1240, 'included': 1241, 'regular': 1242, 'losing': 1243, 'memory': 1244, 'Vadodra': 1245, 'drive': 1246, 'expressway': 1247, 'highway': 1248, 'Baroda': 1249, 'cosmopolitan': 1250, 'tradition': 1251, 'Today': 1252, 'sufficient': 1253, 'remove': 1254, 'key': 1255, 'forget': 1256, 'symbol': 1257, 'Colloseum': 1258, 'Body-brain': 1259, 'happy': 1260, 'Mind': 1261, 'comfort': 1262, 'Students': 1263, 'senior': 1264, 'ministry': 1265, 'kids': 1266, 'discount': 1267, 'Besides': 1268, 'milk': 1269, 'carrot': 1270, 'beneficial': 1271, 'binding': 1272, 'mauli': 1273, 'wrist': 1274, 'mantra': 1275, 'mangalachar': 1276, 'chanted': 1277, 'thenn': 1278, 'passanger': 1279, 'wait': 1280, 'reclining': 1281, 'Paulin': 1282, 'sister': 1283, 'Napolean': 1284, 'married': 1285, 'Borgis': 1286, 'able': 1287, 'continously': 1288, 'allured': 1289, 'Which': 1290, 'convenient': 1291, '?': 1292, 'Both': 1293, 'industrial': 1294, 'area': 1295, 'named': 1296, 'Vakaad': 1297, 'Bengaluru': 1298, 'Thee': 1299, 'changing': 1300, 'responsibility': 1301, 'education': 1302, 'center': 1303, 'Manager': 1304, 'fixed': 1305, 'morning': 1306, 'worldwide': 1307, 'monuments': 1308, 'Hundreds': 1309, 'creatures': 1310, 'microscope': 1311, 'mood': 1312, 'weather': 1313, 'clean': 1314, 'uptill': 1315, 'destroy': 1316, 'homocysteine': 1317, 'nerves': 1318, 'Entertainment': 1319, 'along': 1320, 'everytime': 1321, 'Early': 1322, 'had': 1323, 'Holland': 1324, 'sitting': 1325, 'deep': 1326, 'meditation': 1327, 'controlled': 1328, 'yoga': 1329, 'December': 1330, 'begun': 1331, 'Cochhi': 1332, 'Colombo': 1333, 'neither': 1334, 'nation': 1335, 'nor': 1336, 'outside': 1337, 'Rajasthan': 1338, 'near': 1339, 'sunset': 1340, 'di': 1341, 'Spagna': 1342, 'meet': 1343, 'each': 1344, 'evenings': 1345, 'Ancient': 1346, 'settled': 1347, 'hills': 1348, 'restaurant': 1349, 'Buffet': 1350, 'Junction': 1351, 'Fatehganj': 1352, 'joy': 1353, 'filling': 1354, 'Eat': 1355, 'digestible': 1356, 'bread': 1357, 'braned': 1358, 'flour': 1359, 'rice': 1360, 'porridge': 1361, 'pulse': 1362, 'lentil': 1363, 'carving': 1364, 'victory': 1365, 'signs': 1366, 'greenery': 1367, 'estates': 1368, 'commuting': 1369, 'heard': 1370, 'packages': 1371, 'organized': 1372, 'tribal': 1373, 'Staying': 1374, 'position': 1375, 'previous': 1376, 'pictures': 1377, 'plenty': 1378, 'health': 1379, 'destroys': 1380, 'Sahiba': 1381, 'know': 1382, 'cashew': 1383, 'nut': 1384, 'raisins': 1385, 'besides': 1386, 'staying': 1387, 'Therefore': 1388, 'medicines': 1389, 'exercises': 1390, 'almost': 1391, '300': 1392, 'buildings': 1393, 'points': 1394, 'attempt': 1395, 'explore': 1396, 'cinsiderable': 1397, 'effect': 1398, 'nature': 1399, 'Is': 1400, 'Everybody': 1401, 'his': 1402, 'anything': 1403, 'everybody': 1404, 'grams': 1405, 'form': 1406, 'opening': 1407, 'big': 1408, 'personas': 1409, 'abroad': 1410, 'lessened': 1411, 'contractions': 1412, 'catch': 1413, 'unknown': 1414, 'soldiers': 1415, 'martyered': 1416, 'World': 1417, 'War': 1418, 'burried': 1419, 'Bilberry': 1420, 'anthocyanin': 1421, 'yogic': 1422, 'diagnosis': 1423, 'paralysis': 1424, 'chairperson': 1425, 'Department': 1426, 'Ophthalmology': 1427, 'Liverpool': 1428, 'University': 1429, 'Dr': 1430, 'Ian': 1431, 'Greerson': 1432, 'says': 1433, 'Surat': 1434, 'diamond': 1435, 'jewels': 1436, 'local': 1437, 'objects': 1438, 'let': 1439, 'how': 1440, 'See': 1441, 'bumps': 1442, 'reading': 1443, 'Read': 1444, 'attentively': 1445, 'whatever': 1446, 'eight': 1447, 'seconds': 1448, 'Changing': 1449, 'clothes': 1450, 'closed': 1451, 'learning': 1452, 'game': 1453, 'believed': 1454, 'doing': 1455, 'desire': 1456, 'fulfilled': 1457, 'interference': 1458, 'technology': 1459, 'day-to-day': 1460, 'missing': 1461, 'lose': 1462, 'oppurtunity': 1463, 'coming': 1464, 'art': 1465, 'Fever': 1466, 'down': 1467, 'diarrhoea': 1468, 'stop': 1469, 'weight': 1470, 'Apply': 1471, 'oil': 1472, 'nostrils': 1473, 'nose': 1474, 'Places': 1475, 'Ramayan': 1476, 'Panchvati': 1477, 'Sita': 1478, 'cave': 1479, 'Ramkund': 1480, 'mine': 1481, 'thrilling': 1482, 'Spectacles': 1483, 'tested': 1484, '6': 1485, 'weeks': 1486, 'Trimbkeshwar': 1487, 'Vipashyana': 1488, 'Nandur': 1489, 'Madhmeshwar': 1490, 'bird': 1491, 'sanctuary': 1492, 'connected': 1493, 'must': 1494, 'eggs': 1495, 'means': 1496, 'fair': 1497, '18': 1498, 'Tiber': 1499, 'pilgrimage': 1500, 'followers': 1501, 'Roman': 1502, 'Catholic': 1503, 'religion': 1504, 'residence': 1505, 'Pope': 1506, 'Yes': 1507, 'giving': 1508, 'expense': 1509, 'demand': 1510, 'patience': 1511, 'out': 1512, 'Tuberculosis': 1513, 'encircle': 1514, 'moving': 1515, 'ahead': 1516, 'downwards': 1517, 'Gangamaya': 1518, 'sorrounded': 1519, 'Remembering': 1520, 'chart': 1521, 'prove': 1522, 'capturing': 1523, 'corner': 1524, 'bag': 1525, 'second': 1526, 'He': 1527, 'moulded': 1528, 'Emergence': 1529, 'frequent': 1530, 'freckles': 1531, 'parks': 1532, 'Maharaja': 1533, 'Sayaji': 1534, 'Rao': 1535, 'Details': 1536, 'Since': 1537, 'sixth': 1538, 'residential': 1539, 'supreme': 1540, 'leader': 1541, 'catholic': 1542, 'Narishodhan': 1543, 'ujjayi': 1544, 'pranayam': 1545, 'play': 1546, 'role': 1547, 'panacea': 1548, 'make': 1549, 'central': 1550, 'nervous': 1551, 'functional': 1552, 'balance': 1553, 'function': 1554, 'something': 1555, 'watching': 1556, 'Whether': 1557, 'dropping': 1558, 'skin': 1559, 'advice': 1560, 'cases': 1561, 'Identify': 1562, 'Under': 1563, 'Nation': 1564, 'blind': 1565, 'affected': 1566, 'benefited': 1567, 'operated': 1568, 'eye-surgeon': 1569, 'maintained': 1570, 'Common': 1571, 'causing': 1572, 'prevented': 1573, 'amount': 1574, 'omega-3': 1575, 'oils': 1576, 'plants': 1577, 'Shaniwar': 1578, 'Vadaa': 1579, 'Osho': 1580, 'God': 1581, 'Rajneesh': 1582, 'stayed': 1583, 'rulers': 1584, 'lot': 1585, 'disturbing': 1586, 'book': 1587, 'spots': 1588, 'Sabarmati': 1589, 'Ashram': 1590, 'Science': 1591, 'Akshardham': 1592, 'replica': 1593, 'Vaishno': 1594, 'devi': 1595, 'increase': 1596, 'flow': 1597, 'activeness': 1598, 'Rules': 1599, 'strict': 1600, 'regarding': 1601, 'baggage': 1602, 'leave': 1603, 'stuff': 1604, 'officials': 1605, 'Treva': 1606, 'Lodging': 1607, 'alo': 1608, 'Community': 1609, 'Service': 1610, 'Centre': 1611, 'unaffected': 1612, 'soon': 1613, 'monastery': 1614, \"n't\": 1615, 'did': 1616, 'mass': 1617, 'cloud': 1618, 'begin': 1619, 'shower': 1620, 'Lakshman': 1621, 'spent': 1622, 'exile': 1623, 'history': 1624, 'introduces': 1625, 'nearby': 1626, 'areas': 1627, 'Plan': 1628, 'shop': 1629, 'strolling': 1630, 'mallroad': 1631, 'overcome': 1632, 'surely': 1633, 'surprise': 1634, 'light': 1635, 'scene': 1636, 'expanded': 1637, 'screen': 1638, 'television': 1639, 'clearer': 1640, 'Tension': 1641, 'dignified': 1642, 'Europe': 1643, 'practiced': 1644, 'lying': 1645, 'confluence': 1646, 'business': 1647, 'tower': 1648, 'identity': 1649, 'division': 1650, 'blood-circulation': 1651, 'Eating': 1652, 'germinated': 1653, 'grains': 1654, 'regard': 1655, 'affect': 1656, 'advantages': 1657, 'loose': 1658, 'motion': 1659, 'solution': 1660, 'non-vegetarian': 1661, 'cleaning': 1662, 'everyone': 1663, 'asked': 1664, 'thinking': 1665, 'provide': 1666, 'Fifty': 1667, 'staff': 1668, 'usually': 1669, 'understood': 1670, 'over': 1671, 'spending': 1672, 'Generally': 1673, 'pap': 1674, 'developing': 1675, 'girls': 1676, 'hair': 1677, 'remain': 1678, 'sharpen': 1679, 'Saw': 1680, 'farmers': 1681, 'farming': 1682, 'Suddenly': 1683, 'non': 1684, 'violence': 1685, 'movement': 1686, 'Mahatma': 1687, 'Gandhi': 1688, 'Journey': 1689, 'Dandi': 1690, 'matter': 1691, 'she': 1692, 'herself': 1693, 'Shabana': 1694, 'Azmi': 1695, 'me': 1696, 'Join': 1697, 'travel': 1698, 'toilet': 1699, 'frequently': 1700, 'distrubed': 1701, 'window': 1702, 'May': 1703, 'visual': 1704, 'read': 1705, 'aloud': 1706, 'year': 1707, 'rain': 1708, 'Bag': 1709, 'bidding': 1710, 'farewell': 1711, 'bid': 1712, 'jaggery': 1713, 'curd': 1714, 'Discrimination': 1715, 'unjust': 1716, 'indicator': 1717, 'unawareness': 1718, 'full': 1719, 'assisted': 1720, 'member': 1721, 'said': 1722, 'nothing': 1723, 'placed': 1724, 'low': 1725, 'Huge': 1726, 'shops': 1727, 'rendering': 1728, 'fights': 1729, 'fencers': 1730, 'continue': 1731, 'fighters': 1732, 'die': 1733, 'easy': 1734, 'public': 1735, 'centres': 1736, 'strength': 1737, 'humans': 1738, 'extract': 1739, 'appendix': 1740, 'case': 1741, 'solves': 1742, 'permanently': 1743, 'tough': 1744, 'oppose': 1745, 'Indian': 1746, 'cuisines': 1747, 'continuing': 1748, 'centuries': 1749, 'Situated': 1750, 'behind': 1751, 'Himalaya': 1752, 'Mall': 1753, 'ambience': 1754, 'ultra': 1755, 'modern': 1756, 'air': 1757, 'conditioned': 1758, 'romms': 1759, 'yours': 1760, 'memorable': 1761, 'Lui': 1762, 'postponed': 1763, 'services': 1764, 'hope': 1765, 'resuming': 1766, 'October': 1767, 'wobderful': 1768, 'hill': 1769, 'height': 1770, 'laced': 1771, 'Though': 1772, 'mobile': 1773, 'phone': 1774, 'internet': 1775, 'generally': 1776, 'functionalism': 1777, 'dynamism': 1778, 'muscles': 1779, 'end': 1780, 'coloseum': 1781, 'Galdiaters': 1782, 'mean': 1783, 'display': 1784, 'performance': 1785, 'Key': 1786, 'revolutionary': 1787, 'invention': 1788, 'field': 1789, 'onikomysis': 1790, 'unboiled': 1791, 'needle': 1792, 'remembring': 1793, 'always': 1794, 'Kolkata': 1795, 'roam': 1796, 'coolness': 1797, 'siligudi': 1798, 'tied': 1799, 'Sudden': 1800, 'ones': 1801, 'holidays': 1802, 'visited': 1803, 'ghosts': 1804, 'Why': 1805, 'far': 1806, 'Jaipurites': 1807, 'perhaps': 1808, 'lack': 1809, 'European': 1810, 'industry': 1811, 'Establish': 1812, 'familiarity': 1813, 'driver': 1814, 'conductor': 1815, 'pure': 1816, 'lens': 1817, 'capsule': 1818, 'dim': 1819, 'milky': 1820, 'Adopting': 1821, 'methods': 1822, 'switching': 1823, 'electricity': 1824, 'instead': 1825, 'open': 1826, 'windows': 1827, 'anyone': 1828, 'bother': 1829, 'piece': 1830, 'secret': 1831, 'just': 1832, 'click': 1833, 'away': 1834, 'discrimination': 1835, 'equal': 1836, 'doctor': 1837, 'Themost': 1838, 'lighting': 1839, 'falling': 1840, 'ill': 1841, 'continuously': 1842, 'goes': 1843, 'gall': 1844, 'bladder': 1845, 'stone': 1846, 'emerged': 1847, 'My': 1848, 'host': 1849, 'decorator': 1850, 'uttered': 1851, 'nobody': 1852, 'calls': 1853, 'English': 1854, 'address': 1855, 'thus': 1856, 'Some': 1857, 'learners': 1858, 'inguinal': 1859, 'faces': 1860, 'pain': 1861, 'cure': 1862, 'wearing': 1863, 'each-other': 1864, 'using': 1865, 'bathroom': 1866}\n",
            "{'गौरतलब': 0, 'है': 1, 'कि': 2, 'यह': 3, 'सड़क': 4, 'रोम': 5, 'का': 6, 'मुख्य': 7, 'मार्ग': 8, '।': 9, 'यहाँ': 10, 'भी': 11, 'जिंजर': 12, 'होटल': 13, 'खुल': 14, 'चुका': 15, 'नहाने': 16, 'के': 17, 'लिए': 18, 'गर्म': 19, 'जल': 20, 'प्रयोग': 21, 'करें': 22, 'बटन': 23, 'होल': 24, 'सर्जरी': 25, 'में': 26, 'पेट': 27, 'भीतरी': 28, 'अवयवों': 29, 'को': 30, 'चोट': 31, 'लगने': 32, 'की': 33, 'संभावना': 34, 'काफी': 35, 'कम': 36, 'होती': 37, 'इस': 38, 'अलावा': 39, 'छाती': 40, 'भीतर': 41, 'कुछ': 42, 'विकारों': 43, 'विधि': 44, 'से': 45, 'दूर': 46, 'किया': 47, 'जा': 48, 'सकता': 49, 'तो': 50, 'भला': 51, ',': 52, 'आँखों': 53, 'क्यों': 54, 'इन्हें': 55, 'छोड़ा': 56, 'जाए': 57, 'यहीं': 58, 'शहर': 59, 'तमाम': 60, 'समाजिक': 61, 'धार्मिक': 62, 'आर्थिक': 63, 'राजनैतिक': 64, 'वगैरह': 65, 'गतिविधियाँ': 66, 'हुआ': 67, 'करती': 68, 'थीं': 69, '``': 70, 'जिला': 71, 'अन्धता': 72, 'निवारण': 73, 'समितियों': 74, 'द्वारा': 75, 'व्यापक': 76, 'प्रचार': 77, 'प्रसार': 78, 'कर': 79, 'सरकारी': 80, 'गैरसरकारी': 81, 'निजी': 82, 'एवं': 83, 'स्वैच्छिक': 84, 'संस्थाओं': 85, 'माध्यम': 86, 'शिविर': 87, 'लगाये': 88, 'जाते': 89, 'हैं': 90, 'और': 91, 'क्या': 92, 'चाहिए': 93, 'साथ': 94, 'ही': 95, 'जहाँ': 96, 'पुरानी': 97, 'टूरिस्ट': 98, 'साइट्स': 99, 'मौजूद': 100, 'आपको': 101, 'बस': 102, 'लेनी': 103, 'वहाँ': 104, 'समय': 105, 'एक': 106, 'घंटा': 107, 'पहले': 108, 'पहुँच': 109, 'जाएँ': 110, 'इसका': 111, 'निर्माण': 112, 'उन्नीस': 113, 'सौ': 114, 'बीस': 115, 'था': 116, 'सी': 117, 'क्रूज': 118, 'फायदेमंद': 119, 'साबित': 120, 'होते': 121, 'जैसे': 122, 'आप': 123, 'अंदर': 124, 'आते': 125, 'जिस': 126, 'तरह': 127, 'आपका': 128, 'स्वागत': 129, 'जाता': 130, 'उससे': 131, 'लग': 132, 'दिव्य': 133, 'शांति': 134, 'पर': 135, 'ध्यान': 136, 'दिया': 137, 'गया': 138, 'गोवा': 139, 'राजधानी': 140, 'पंजिम': 141, 'स्थित': 142, 'पश्\\u200dचिमी': 143, 'तट': 144, 'यात्रा': 145, 'उत्कृष्\\u200dट': 146, 'बनाता': 147, 'चट्\\u200dटानों': 148, 'बीच': 149, 'झरनों': 150, 'माया': 151, 'देखते': 152, 'बनती': 153, 'लैपरोस्कोपिक': 154, 'सामान्य': 155, 'चिकित्सा': 156, 'मुकाबले': 157, 'दोगुना': 158, 'लगता': 159, 'वैसे': 160, 'बहुत': 161, 'सारे': 162, 'बाग-बगीचे': 163, 'लेकिन': 164, 'विला': 165, 'बोर्गीस': 166, 'बेमिसाल': 167, 'टाँके': 168, 'नहीं': 169, 'लगे': 170, 'होने': 171, 'वजह': 172, 'अस्पताल': 173, 'ज्यादा': 174, 'दिन': 175, 'रहने': 176, 'जरूरत': 177, 'पड़ती': 178, 'दाएँ': 179, 'पैर': 180, 'घुटने': 181, 'मोड़कर': 182, 'इसके': 183, 'तलवे': 184, 'बाएँ': 185, 'जंघा': 186, 'सटा': 187, 'दें': 188, 'तथा': 189, 'एड़ी': 190, 'जननेंद्रिय': 191, 'नीचे': 192, 'रखें': 193, 'अच्छी': 194, 'नींद': 195, 'लेने': 196, 'दिमाग': 197, 'तरोताजा': 198, 'रहता': 199, 'भारी': 200, 'गरिष्ठ': 201, 'चाय': 202, 'तंबाकू': 203, 'नशीले': 204, 'पदार्थ': 205, 'व': 206, 'उत्तेजक': 207, 'पदार्थों': 208, 'परहेज': 209, 'ऐसे': 210, 'रासायन': 211, 'स्रावित': 212, 'जो': 213, 'कोशिकाओं': 214, 'बचाएंगे': 215, 'उसके': 216, 'बाद': 217, 'जैसे-जैसे': 218, 'स्थिति': 219, 'सुधरती': 220, 'अभ्यास': 221, 'पवनमुक्तासन': 222, 'वज्रासन': 223, 'शशांकासन': 224, 'मकरासन': 225, 'आदि': 226, 'जोड़': 227, 'लें': 228, 'हुए': 229, 'गुजरात': 230, 'तक': 231, 'पुणे': 232, 'पेशवाकालीन': 233, 'भव्यता': 234, 'अहमदाबाद': 235, 'साबरमती': 236, 'आश्रम': 237, 'मुक्\\u200dति': 238, 'आंदोलन': 239, 'सुनहरे': 240, 'ऐतिहासिक': 241, 'साक्ष्यों': 242, 'अनूठा': 243, 'दर्शन': 244, 'मिलता': 245, 'मिरिक': 246, 'झील': 247, 'बोटिंग': 248, 'गार्डन': 249, 'अल्पविराम': 250, 'कैरी': 251, 'ऑन': 252, 'बैग्स': 253, 'सही': 254, 'रहते': 255, 'लेकर': 256, 'चलें': 257, 'साइटिका': 258, 'स्लिप': 259, 'डिस्क': 260, 'रोगी': 261, 'न': 262, 'मरीज': 263, 'निश्चेतक': 264, 'दवा': 265, 'देनी': 266, 'जिसके': 267, 'अपने': 268, 'नुकसान': 269, 'स्नान': 270, 'रोएँदार': 271, 'तौलिये': 272, 'शरीर': 273, 'ऊपर': 274, 'ओर': 275, 'रगडें': 276, 'जरूरी': 277, 'जानकारी': 278, 'उनसे': 279, 'मिल': 280, 'जाएगी': 281, 'मोतियाबिंद': 282, 'पीड़ित': 283, 'रोगियों': 284, 'पहचान': 285, 'करके': 286, 'चिकित्साधिकारी': 287, 'नेत्र': 288, 'सहायक': 289, 'चिकित्सालय': 290, 'क्षेत्र': 291, 'स्क्रीनिंग': 292, 'करते': 293, 'इनमें': 294, 'सबसे': 295, 'मशहूर': 296, 'फोरम': 297, 'रोमैनम': 298, 'जगह': 299, 'आज': 300, 'राजभवन': 301, 'मंदिरों': 302, 'स्तंभों': 303, 'अवशेष': 304, 'हायाटस': 305, 'हर्निया': 306, 'दुरुस्त': 307, 'करने': 308, 'विशाल': 309, 'अखाड़े': 310, '80': 311, 'ईस्वी': 312, '50': 313, 'हजार': 314, 'दर्शक': 315, 'बैठ': 316, 'सकते': 317, 'थे': 318, 'सिगरेट': 319, 'पीने': 320, 'मस्तिष्क': 321, 'आक्सीजन': 322, 'पहुँचाने': 323, 'वाली': 324, 'धमनियाँ': 325, 'सिकुड़ने': 326, 'लगती': 327, 'जिससे': 328, 'कमजोर': 329, 'सँकरी': 330, 'चलते': 331, 'हमने': 332, 'अजबगढ़': 333, 'किला': 334, 'देखा': 335, 'धीरे-धीरे': 336, 'सूरज': 337, 'रोशनी': 338, 'फैल': 339, 'रही': 340, 'थी': 341, 'तारीख': 342, 'देखें': 343, 'मालदीव': 344, 'दिल्ली': 345, 'सस्ता': 346, 'प्रति': 347, 'व्यक्\\u200dति': 348, 'वापसी': 349, 'किराया': 350, '28': 351, 'रुपये': 352, 'एड्स': 353, 'उस': 354, 'हालत': 355, 'कहते': 356, 'जिसमें': 357, 'बीमारियों': 358, 'लड़ने': 359, 'ताकत': 360, 'बिल्कुल': 361, 'या': 362, 'खत्म': 363, 'हो': 364, 'जाती': 365, 'ये': 366, 'संभावनाएँ': 367, 'नगण्य': 368, 'टिकट': 369, 'बेस्ट': 370, 'डील': 371, 'तलाश': 372, 'मुँह': 373, 'लगातार': 374, 'घाव': 375, 'छाले': 376, 'होना': 377, 'जितना': 378, 'इस्तेमाल': 379, 'करेंगे': 380, 'वह': 381, 'उतना': 382, 'तेज': 383, 'सक्षम': 384, 'बनेगा': 385, 'दृष्टिहीनता': 386, 'व्यापकता': 387, 'दर': 388, 'लिये': 389, 'भारत': 390, 'सरकार': 391, 'विभाग': 392, 'सम्बन्धित': 393, 'स्टॉफ': 394, 'विभिन्न': 395, 'स्तर': 396, 'प्रशिक्षण': 397, 'दूरबीन': 398, 'सहारे': 399, 'दार्जिलिंग': 400, 'पूरी': 401, 'पहाड़ी': 402, 'कोई': 403, 'बात': 404, 'तभी': 405, 'लंबे': 406, 'याद': 407, 'रहती': 408, 'जब': 409, 'ट्रडिशनल': 410, 'कुजीन': 411, 'सर्व': 412, 'छूने': 413, 'आपसी': 414, 'मेल-जोल': 415, 'फैलता': 416, '|': 417, 'सिर्फ': 418, 'सुरक्षित': 419, 'यौन': 420, 'संबंध': 421, 'बाग': 422, 'उन': 423, 'सात': 424, 'बागों': 425, 'बचा': 426, 'अकेला': 427, 'अलवर': 428, 'राजा': 429, 'शिकार': 430, 'पड़ाव': 431, 'एच.आई.वी.': 432, 'जी': 433, 'रहे': 434, 'लोगों': 435, 'उनके': 436, 'परिवार': 437, 'जनों': 438, 'सलाह': 439, 'परामर्श': 440, 'देना': 441, 'आवश्यक': 442, 'कारणों': 443, '55': 444, 'प्रतिशत': 445, 'दृष्टि': 446, 'दोष': 447, '19': 448, 'काला': 449, 'मोतिया': 450, '4': 451, 'कॉर्नियल': 452, 'पैथॉलाजी': 453, '7': 454, 'अन्य': 455, '15': 456, 'मसलन': 457, 'कैंसर': 458, '(': 459, ')': 460, 'लिवर': 461, 'बीमारियाँ': 462, 'आंत': 463, 'संबंधी': 464, 'रोग': 465, '’': 466, 'पिएजा': 467, 'वेनेजिया': 468, 'लुत्फ़': 469, 'उठाने': 470, 'यानी': 471, 'विया': 472, 'डेल': 473, 'कोर्सो': 474, 'जरूर': 475, 'लसिका': 476, 'ग्रन्थियों': 477, 'अधिक': 478, 'स्थान': 479, 'आकार': 480, 'बढ़ना': 481, 'दो': 482, 'पिम्परी': 483, 'वकाड': 484, 'बिनाRP_NEG\\\\': 485, 'कंभुक': 486, 'इनका': 487, 'योग्य': 488, 'मार्गदर्शन': 489, 'अपनी': 490, 'क्षमतानुसार': 491, 'कारण': 492, 'कुल': 493, 'अंधता': 494, 'लगभग': 495, 'बेशक': 496, 'ऐसा': 497, 'कई': 498, 'राज्यों': 499, 'होता': 500, 'खासी': 501, 'दिलचस्पी': 502, 'दिखाते': 503, 'अर्थ': 504, 'ह्यूमन': 505, 'इम्यूनो-डेफिशिएंशी': 506, 'वायरस': 507, 'बिजी': 508, 'सीजन': 509, 'दौरान': 510, 'खास': 511, 'ख्याल': 512, 'अनेक': 513, 'लक्षण': 514, 'दिखलाई': 515, 'पड़ने': 516, 'लगते': 517, 'आभास': 518, 'देते': 519, 'अगर': 520, 'वॉशरूम': 521, 'सुविधा': 522, 'सीट': 523, 'चूज': 524, 'क्योंकि': 525, 'थोड़ी': 526, 'देर': 527, 'बैठना': 528, 'मुश्\\u200dकिल': 529, 'उसे': 530, 'निमोनिया': 531, 'शिराओं': 532, 'खून': 533, 'थक्के': 534, 'जमने': 535, 'जैसी': 536, 'लताओं': 537, 'सामना': 538, 'करना': 539, 'पड़': 540, 'जेकी': 541, 'ग्रामीण': 542, 'जीवन': 543, 'ऐसी': 544, 'झलक': 545, 'अनुभव': 546, 'नजर': 547, 'बनी': 548, 'आहार': 549, 'हरी': 550, 'सब्जियाँ': 551, 'शामिल': 552, 'सैर': 553, 'ट्\\u200dवाय': 554, 'ट्रेनें': 555, 'सफर': 556, 'चार': 557, 'चाँद': 558, 'लगा': 559, 'देती': 560, 'ऑपरेशन': 561, 'गुणवत्ता': 562, 'विशेष': 563, 'रहा': 564, 'सभी': 565, 'चिकित्सालयों': 566, 'बेस': 567, 'माइक्रोस्कोपिक': 568, 'सेन्टर': 569, 'परिवर्तित': 570, 'बहुरंगी': 571, 'संस्कृति': 572, 'समृद्ध': 573, 'विरासत': 574, 'भूमि': 575, 'छूत': 576, 'दरअसल': 577, 'टूर': 578, 'मकसद': 579, 'पर्यटकों': 580, 'रहन': 581, '-': 582, 'सहन': 583, 'तरीके': 584, 'परंपराओं': 585, 'रूबरू': 586, 'करवाना': 587, 'मछली': 588, 'अखरोट': 589, 'बादाम': 590, 'खाने': 591, 'टमाटर': 592, 'ग्रीन-टी': 593, 'ब्रोकली': 594, 'शकरकंद': 595, 'विटामिन-ई': 596, 'एंटीआक्सीडेंट': 597, 'पाए': 598, 'निर्मित': 599, 'मूर्तियाँ': 600, 'अद्वितीय': 601, 'इतनी': 602, 'सजीव': 603, 'मानो': 604, 'अभी': 605, 'बोल': 606, 'पड़ेंगी': 607, 'दोनों': 608, 'हाथों': 609, 'पंजे': 610, 'पास': 611, 'ले': 612, 'आगे': 613, 'इतना': 614, 'झुकें': 615, 'सिर': 616, 'जमीन': 617, 'स्पर्श': 618, 'करे': 619, 'प्रतिरक्षण': 620, 'प्रणाली': 621, 'हमारे': 622, 'व्यवस्थाओं': 623, 'तंत्र': 624, 'संक्रमण': 625, 'हमारी': 626, 'रक्षा': 627, 'करता': 628, 'विटामिन': 629, 'ई': 630, 'प्रचुर': 631, 'मात्रा': 632, 'पाया': 633, 'केवल': 634, 'प्रकार': 635, 'अंधेपन': 636, 'रोगों': 637, 'बचाने': 638, 'पराबैंगनी': 639, 'किरणों': 640, 'अमेरिकी': 641, 'नेशनल': 642, 'आई': 643, 'इंस्टीट्यूट': 644, '6': 645, 'साल': 646, 'अध्ययन': 647, 'तत्व': 648, 'बुजुर्गों': 649, 'बचाते': 650, 'सड़कों': 651, 'साइक्लिंग': 652, 'रीवर': 653, 'ठंडी': 654, 'समुद्री': 655, 'हवाओं': 656, 'विश्\\u200dवप्रसिद्ध': 657, 'गोवन': 658, 'व्यंजनों': 659, 'भरपूर': 660, 'आनंद': 661, 'उठाते': 662, 'आरामदायक': 663, 'गुजारने': 664, 'विकल्प': 665, '601': 666, 'मंदिर': 667, 'चर्च': 668, 'बना': 669, 'लुई': 670, 'जहाज': 671, 'एमवी': 672, 'एक्वामैरिन': 673, '5850': 674, 'रात्रि': 675, 'तीन': 676, 'किसी': 677, 'रंग': 678, 'सुगंध': 679, 'स्वाद': 680, 'जोड़कर': 681, 'रखने': 682, 'आदत': 683, 'डालें': 684, 'पक्षाघात': 685, 'आधे': 686, 'संपूर्ण': 687, 'चेहरे': 688, 'यही': 689, 'ड्राय': 690, 'सिंड्रोम': 691, 'बचाता': 692, 'नई': 693, 'प्रयास': 694, 'संक्रमित': 695, 'व्यक्ति': 696, '10': 697, 'बिताते': 698, 'इससे': 699, 'सीडी-4': 700, 'कोशिकाएँ': 701, 'खंडित': 702, 'बड़े-बड़े': 703, 'हवाईजहाजों': 704, 'घूमते': 705, 'अचानक': 706, 'आपके': 707, 'सामने': 708, 'प्लेन': 709, 'खड़ा': 710, 'खिलौने': 711, 'सा': 712, 'लगेगा': 713, 'यदि': 714, 'माले': 715, 'रुकें': 716, 'फिर': 717, 'किराये': 718, 'असली': 719, 'खूबसूरती': 720, 'मजा': 721, 'आस-पास': 722, 'द्वीप': 723, 'जेब': 724, 'छोटी': 725, 'निवासी': 726, 'राम': 727, 'बाबू': 728, 'जयपुर': 729, 'काम': 730, 'अब': 731, 'अनूठे': 732, 'शाही': 733, 'अंदाज': 734, 'वाले': 735, 'अमन': 736, 'सच': 737, 'चैन': 738, 'सारी': 739, 'सुख': 740, 'सुविधाओं': 741, 'वालों': 742, 'सैरगाह': 743, 'मन': 744, 'चिंता': 745, 'दुख': 746, 'कष्ट': 747, 'शोक': 748, 'भय': 749, 'मुक्त': 750, 'सर्वश्रेष्ठ': 751, 'तकनीक': 752, 'शारीरिक': 753, 'स्वच्छता': 754, 'बड़े': 755, 'हों': 756, 'उम्र': 757, 'बच्चे': 758, 'बिलकुल': 759, 'फ्री': 760, 'जीप': 761, 'हम': 762, 'भानगढ़': 763, 'पहुँचे': 764, 'मिलियन': 765, 'डॉलर': 766, 'अनमोल': 767, 'पल': 768, 'पहाड़ियों': 769, 'घिरे': 770, 'सघन': 771, 'वृक्षों': 772, 'छाया': 773, 'पहली': 774, 'मोह': 775, 'लेती': 776, 'हमला': 777, 'प्रक्रिया': 778, 'बार': 779, 'दोहरायी': 780, 'कविता': 781, 'कोशिश': 782, 'अच्छा': 783, 'होगा': 784, 'बचाव': 785, 'टू': 786, 'वे': 787, 'बजाय': 788, 'राउंड': 789, 'ट्रिप': 790, 'बारे': 791, 'पता': 792, 'चौथी': 793, 'शताब्दी': 794, 'चारों': 795, 'दीवार': 796, 'सरवियल': 797, 'वॉल': 798, 'बनाई': 799, 'गई': 800, 'कंपनी': 801, 'इंश्योरेंस': 802, 'भरपाई': 803, 'नियम': 804, 'जान': 805, 'निम्न': 806, 'दुष्परिणाम': 807, 'इन्ही': 808, 'चीजों': 809, 'चालाकी': 810, 'छोटे': 811, 'छेद': 812, 'बने': 813, 'इन': 814, 'घावों': 815, 'पकने': 816, 'जाने': 817, 'गुंजाइश': 818, 'ब्रेन': 819, 'एक्सरसाइज': 820, 'इसी': 821, 'फंडे': 822, 'पैदल': 823, 'कलिम्पोंग': 824, 'लोकप्रिय': 825, 'पर्यटन': 826, 'स्थल': 827, 'लावा': 828, 'लोलेगाँव': 829, 'जंगलों': 830, 'परिपूर्ण': 831, 'यूँ': 832, 'जिले': 833, 'रूप': 834, 'अलग': 835, 'समस्या': 836, 'प्रमुख': 837, 'उच्च': 838, 'रक्तचाप': 839, 'रक्त': 840, 'थक्का': 841, 'बनना': 842, 'अत्यंत': 843, 'हर्ष': 844, 'विषाद': 845, 'शोध': 846, 'पोषक': 847, 'मजबूत': 848, 'बनाती': 849, 'माह': 850, 'खाँसी': 851, 'आना': 852, 'एडवांस': 853, 'खरीदना': 854, 'पड़ता': 855, 'इसलिए': 856, 'आखिरी': 857, 'पलों': 858, 'प्लान': 859, 'बढ़िया': 860, 'प्लानिंग': 861, 'थोड़ा': 862, 'रोज': 863, 'जरा': 864, 'हटके': 865, 'हर': 866, 'हिस्सा': 867, 'सक्रिय': 868, 'जिसका': 869, 'लाल': 870, 'कणिकाएँ': 871, 'बनाने': 872, 'मदद': 873, 'पहुँचाती': 874, 'गाड़ी': 875, 'उठकर': 876, 'बतासिया': 877, 'लूप': 878, 'शिक्षा': 879, 'सत्र': 880, 'आरम्भ': 881, '10-14': 882, 'वर्ष': 883, 'स्कूली': 884, 'छात्रों': 885, 'परीक्षण': 886, 'कार्यक्रम': 887, 'अभियान': 888, 'चलाया': 889, 'गरीब': 890, 'निशुल्क': 891, 'चश्में': 892, 'वितरित': 893, 'किये': 894, 'इटली': 895, 'दुनिया': 896, 'पुराने': 897, 'शहरों': 898, 'सभ्यताओं': 899, 'विकास': 900, 'आघात': 901, 'पहुँचाता': 902, 'जाना': 903, 'वहीं': 904, 'महाराष्\\u200dट्र': 905, 'सुंदर': 906, 'समुद्र-तटों': 907, 'घने': 908, 'किलों': 909, 'प्राचीन': 910, 'स्थलों': 911, 'विविधता': 912, 'ओत-प्रोत': 913, 'रूके': 914, 'वापस': 915, 'आ': 916, 'दफ्तर': 917, 'घर': 918, 'दोस्तों': 919, 'बर्ताव': 920, 'चाहिये': 921, 'आदतें': 922, 'डालकर': 923, 'रखा': 924, 'तनाव': 925, 'हार्मोन': 926, 'कोर्टिसाल': 927, 'हिप्पोकैंपस': 928, 'गंभीर': 929, 'चलकर': 930, 'क्षमता': 931, 'घातक': 932, 'असर': 933, 'डाल': 934, 'सकती': 935, 'इसमें': 936, 'ल्यूटिन': 937, 'जीजेनथिन': 938, 'अहम': 939, 'बनाए': 940, 'जिम्मेदार': 941, 'कहीं': 942, 'अपना': 943, 'सामान': 944, 'टर्मिनल': 945, 'छोड़ना': 946, 'पड़े': 947, 'एक्स्ट्रा': 948, 'फीस': 949, 'भरनी': 950, 'चढ़ने': 951, 'सीढ़ियों': 952, 'मूर्तिकार': 953, 'माइकल': 954, 'एंजलो': 955, 'ने': 956, '1536': 957, 'बनाया': 958, 'अस्पतालों': 959, 'इलाज': 960, 'जुर्म': 961, 'बीचोंबीच': 962, 'चौक': 963, 'विजय': 964, 'जैसा': 965, 'प्रसिद्ध': 966, 'स्तन': 967, 'मे': 968, 'गाँठ': 969, 'सूजन': 970, 'पाने': 971, 'दिनभर': 972, 'थकावट': 973, 'केन्द्रित': 974, 'मुश्किल': 975, 'कैपिटोलाइन': 976, 'घोड़े': 977, 'सवार': 978, 'सम्राट': 979, 'मार्कस': 980, 'ओरेलिअस': 981, 'पीतल': 982, 'मूर्ति': 983, 'जिन्होंने': 984, '160': 985, '180': 986, 'ई.': 987, 'शासन': 988, 'जल्दी': 989, 'पहुँचेंगे': 990, 'उतनी': 991, 'ऑप्शन': 992, 'होगी': 993, 'खट्टी': 994, 'सेवन': 995, 'बचें': 996, 'संग्रहालय': 997, 'बताया': 998, 'परेशान': 999, 'महिलाएँ': 1000, 'हफ्ते': 1001, 'पाँच': 1002, 'ट्यूना': 1003, 'खाकर': 1004, 'तकलीफ': 1005, '68': 1006, 'फीसदी': 1007, 'रॉक': 1008, 'पत्थरों': 1009, 'साम्राज्य': 1010, 'झरने': 1011, 'शोभायमान': 1012, 'गंगा': 1013, 'मायावी': 1014, 'संसार': 1015, 'विभूषित': 1016, 'बावजूद': 1017, 'अकेले': 1018, 'घूमने': 1019, 'टूरिज्म': 1020, 'दिलचस्प': 1021, 'विषय': 1022, 'कभी': 1023, 'खींचती': 1024, 'पानी': 1025, 'रेल': 1026, 'गुलाबी': 1027, 'नगरी': 1028, 'उदयपुर': 1029, 'लेक': 1030, 'पैलेस': 1031, 'आकर्षण': 1032, 'फाउंटेंस': 1033, 'प्रतिदिन': 1034, 'दस': 1035, 'मिनट': 1036, 'अवश्य': 1037, 'बी': 1038, 'बी-12': 1039, 'बी-6': 1040, 'फोलिक': 1041, 'एसिड': 1042, 'युक्त': 1043, 'खाद्य': 1044, 'पालक': 1045, 'स्ट्राबैरी': 1046, 'तरबूज': 1047, 'खरबूज': 1048, 'रसीले': 1049, 'फल': 1050, 'सोयाबीन': 1051, 'याददाश्त': 1052, 'नाश्ते': 1053, 'मीठे': 1054, 'मेवे': 1055, 'कतरन': 1056, 'बुरक': 1057, 'खाना': 1058, 'शुरू': 1059, 'एच.आई.वी': 1060, 'चढ़ाने': 1061, 'बताते': 1062, 'मिलने': 1063, 'जुलने': 1064, 'जगहों': 1065, 'कहा': 1066, 'देखकर': 1067, 'अंदाजा': 1068, 'बखूबी': 1069, 'कलाकृतियों': 1070, 'रखते': 1071, 'मैं': 1072, 'हूँ': 1073, 'वो': 1074, 'साढ़े': 1075, 'तैयार': 1076, 'हुई': 1077, 'तैयारी': 1078, 'उसने': 1079, 'जंगल': 1080, 'मंगल': 1081, 'कार्यक्रमों': 1082, 'सहयोग': 1083, 'लिया': 1084, 'कॉम्प्लेक्स': 1085, 'म्यूजियम': 1086, 'पुराना': 1087, 'बुखार': 1088, 'माँ': 1089, 'भक्\\u200dतों': 1090, 'महसूस': 1091, 'मानों': 1092, 'उनकी': 1093, 'प्रार्थनाएँ': 1094, 'सीधे': 1095, 'देवताओं': 1096, 'घूम': 1097, 'धूम': 1098, 'ट्रेन': 1099, 'एच.आइ.वी.': 1100, 'मगर': 1101, 'पेप्टिक': 1102, 'अल्सर': 1103, 'बीमारी': 1104, 'मान्यता': 1105, 'दोबारा': 1106, 'चाहे': 1107, 'मनोकामना': 1108, 'सिक्का': 1109, 'फव्वारे': 1110, 'डालना': 1111, 'तब': 1112, 'वैटिकन': 1113, 'सिटी': 1114, 'देख': 1115, 'आपस': 1116, 'बल्कि': 1117, 'जंगली': 1118, 'जानवरों': 1119, 'मुकाबला': 1120, 'आलीशान': 1121, 'राजमहल': 1122, 'भव्य': 1123, 'खूबसूरत': 1124, 'गुंबज': 1125, 'म्यूजिम्स': 1126, 'वाला': 1127, 'सम्मोहित': 1128, 'जादू': 1129, 'रखता': 1130, 'गोपनीयता': 1131, 'बनाये': 1132, 'रखना': 1133, 'अनिवार्य': 1134, '1.4': 1135, '0.3': 1136, 'लाने': 1137, '1976': 1138, 'राष्ट्रीय': 1139, 'स्मारक': 1140, 'महशूर': 1141, 'शानदार': 1142, 'सब': 1143, 'हवेलियों': 1144, 'महलों': 1145, 'प्रेरित': 1146, 'ओमगा-3': 1147, 'फैट': 1148, 'ग्लूकोमा': 1149, 'बुढ़ापे': 1150, 'खतरा': 1151, 'क्रिया': 1152, 'दूसरी': 1153, 'तरफ': 1154, 'पड़ोसी': 1155, 'राज्य': 1156, 'विविध': 1157, 'क्रीड़ाओं': 1158, 'युक्\\u200dत': 1159, 'स्वर्ग': 1160, 'सरीखा': 1161, 'गिरजाघरों': 1162, 'युग': 1163, 'सहज': 1164, 'शल्यक्रिया': 1165, 'पश्\\u200dचात': 1166, 'करीब': 1167, 'सप्ताह': 1168, 'बिस्तर': 1169, 'घुसकर': 1170, 'प्रजनन': 1171, 'जरिए': 1172, 'संख्या': 1173, 'बड़ी': 1174, 'तेजी': 1175, 'बढ़ाता': 1176, 'कोशिका': 1177, 'नये': 1178, 'पैदा': 1179, 'नया': 1180, 'कलात्मक': 1181, '!': 1182, 'आश्\\u200dचर्य': 1183, 'हाल': 1184, 'पुरस्कार': 1185, 'मिला': 1186, 'विटामिन-सी': 1187, 'हद': 1188, 'मध्य': 1189, '30': 1190, 'फुट': 1191, 'खुला': 1192, 'जानुशिरासन': 1193, 'प्रस्तुत': 1194, 'पैरों': 1195, 'फैलाकर': 1196, 'इसकी': 1197, 'छाप': 1198, 'वेस्टर्न': 1199, 'सिविलाइजेशन': 1200, 'आती': 1201, 'रूट': 1202, 'पर्यटक': 1203, 'पशुपतिनाथ': 1204, 'बाजार': 1205, 'नेपाली': 1206, 'कारीगरों': 1207, 'हस्त': 1208, 'स्वेटर': 1209, 'मिलते': 1210, 'पौष्टिक': 1211, 'भोजन': 1212, 'स्वस्थ': 1213, 'शैली': 1214, 'अपनाएँ': 1215, 'इमेनुएल': 1216, 'जिसे': 1217, '20': 1218, 'फ्रूट': 1219, 'सलाद': 1220, 'बिलबैरी': 1221, 'ब्लैकबैरी': 1222, 'खा': 1223, 'गोदावरी': 1224, 'नदी': 1225, 'किनारे': 1226, 'नासिक': 1227, 'महत्त्वपूर्ण': 1228, 'दिनों': 1229, 'साक्षी': 1230, 'सुरक्षा': 1231, 'रोगवाहकों': 1232, 'बाहरी': 1233, 'हमलावरों': 1234, 'बैक्टीरिया': 1235, 'उनका': 1236, 'खात्मा': 1237, 'गुजराती': 1238, 'संस्कार': 1239, 'शापिंग': 1240, 'विकल्पों': 1241, 'भरमार': 1242, 'मकर': 1243, 'संक्रांति': 1244, 'नवरात्रि': 1245, 'रंगीन': 1246, 'उत्सवों': 1247, 'चमक-दमक': 1248, 'इसे': 1249, 'मनपसंद': 1250, 'देवी': 1251, 'भीड़': 1252, 'सफल': 1253, 'रहेगी': 1254, 'सुधर': 1255, 'सुप्तवज्रासन': 1256, 'त्रिकोणासन': 1257, 'उत्तानपादासन': 1258, 'गोमुखासन': 1259, 'अर्धमत्स्येंद्रासन': 1260, 'पैथियॉन': 1261, ':-': 1262, 'अद्\\u200dभुत': 1263, '27': 1264, 'ईसा': 1265, 'पूर्व': 1266, 'शासक': 1267, 'विक्\\u200dटर': 1268, 'द्वितीय': 1269, 'समर्पित': 1270, 'सफेद': 1271, 'संगमरमर': 1272, 'इमारत': 1273, '1885': 1274, '1911': 1275, 'पूरा': 1276, 'लोग': 1277, 'बेहतर': 1278, 'आडियो': 1279, 'लर्नर': 1280, 'सुनकर': 1281, 'सीखते': 1282, '1986': 1283, 'सन': 1284, '2002': 1285, 'पैंतालीस': 1286, 'लाख': 1287, 'सेंट': 1288, 'पीटर': 1289, 'स्क्वेयर': 1290, 'हालाँकि': 1291, '1926': 1292, 'स्वतंत्र': 1293, 'दर्जा': 1294, 'दे': 1295, 'रैक': 1296, 'फिट': 1297, 'विटामिन-ए': 1298, 'लेना': 1299, 'मददगार': 1300, 'योगनिद्रा': 1301, 'मूल': 1302, 'मानसिक': 1303, 'भावनात्मक': 1304, 'असंतुलन': 1305, 'आसानी': 1306, 'धूम्रपान': 1307, 'मद्यपान': 1308, 'नशीली': 1309, 'दवाओं': 1310, 'विदेशी': 1311, 'मेहमान': 1312, 'दावत': 1313, 'पहुँची': 1314, 'छुट्\\u200dटी': 1315, 'बिताना': 1316, 'चाहते': 1317, 'उन्हें': 1318, 'शिरडी': 1319, 'साईं': 1320, 'बाबा': 1321, 'असुरक्षित': 1322, 'पहुँचकर': 1323, 'हिसाब': 1324, 'उपलब्ध': 1325, 'मनोरंजनों': 1326, 'गतिविधियों': 1327, 'राइड': 1328, 'अंडरवाटर': 1329, 'लंच': 1330, 'मेरे': 1331, 'कानों': 1332, 'गाइड': 1333, 'मीणा': 1334, 'शब्द': 1335, 'गूँजते': 1336, ';': 1337, 'साहिबा': 1338, 'सोच': 1339, 'रह': 1340, 'नाश्ता': 1341, 'नियमित': 1342, 'व्यायाम': 1343, 'मिलती': 1344, 'घट': 1345, 'एक्सप्रेस': 1346, 'हाइवे': 1347, 'अनूठी': 1348, 'ड्राइव': 1349, 'वडोदरा': 1350, 'बड़ौदा': 1351, 'परंपरा': 1352, 'कास्मोपोलिटन': 1353, 'छोटा': 1354, 'पर्याप्त': 1355, 'नाम': 1356, 'देखना': 1357, 'भूलें': 1358, 'प्रतीक': 1359, 'कॉलोसियम': 1360, 'तन': 1361, 'प्रसन्न': 1362, 'रहेंगे': 1363, 'चुनते': 1364, 'कंफर्ट': 1365, 'स्टूडेंट्स': 1366, 'मिलिट्री': 1367, 'सीनियर': 1368, 'बच्चों': 1369, 'डिस्काउंट': 1370, 'छूट': 1371, 'अरेंजमेंट': 1372, 'दूध': 1373, 'पीना': 1374, 'गाजर': 1375, 'कलाई': 1376, 'मौली': 1377, 'बांधने': 1378, 'मंगलाचार': 1379, 'मंत्र': 1380, 'उच्चारण': 1381, 'आए': 1382, 'आपकी': 1383, 'नए': 1384, 'यात्री': 1385, 'इंतजार': 1386, 'देखे': 1387, 'नैपोलियन': 1388, 'प्रथम': 1389, 'बहन': 1390, 'पॉलिन': 1391, 'जिनका': 1392, 'विवाह': 1393, 'राजपरिवार': 1394, 'पलंग': 1395, 'लेटी': 1396, 'एकटक': 1397, 'बिना': 1398, 'पाएँगे': 1399, 'खिंचे': 1400, 'चले': 1401, 'कौन': 1402, 'तरीका': 1403, 'सुविधाजनक': 1404, 'औद्योगिक': 1405, 'बंगलूरू': 1406, 'नामक': 1407, 'अत्याधुनिक': 1408, 'व्यवस्था': 1409, 'चेंज': 1410, 'जिम्मेदारी': 1411, 'शिक्षण': 1412, 'केंद्र': 1413, 'मैनेजर': 1414, 'सुबह': 1415, 'हमारा': 1416, 'तय': 1417, 'इमारतों': 1418, 'अवशेषों': 1419, 'भर': 1420, 'सैकड़ों': 1421, 'जीव': 1422, 'जिन्हें': 1423, 'माइक्रोस्कोप': 1424, 'मौसम': 1425, 'मिज़ाज': 1426, 'सुथरा': 1427, 'नसों': 1428, 'क्षति': 1429, 'होमोसिसटीन': 1430, 'नष्ट': 1431, 'वक्\\u200dत': 1432, 'मनोरंजन': 1433, 'सुबह-सुबह': 1434, 'मैंने': 1435, 'हॉलैंड': 1436, 'गहरे': 1437, 'बैठा': 1438, 'योग': 1439, 'काबू': 1440, 'लकवा': 1441, 'इनसे': 1442, 'दिसंबर': 1443, 'कोच्चि': 1444, 'कोलंबो': 1445, 'इकलौता': 1446, 'विदेश': 1447, 'राजस्थान': 1448, 'बाहर': 1449, 'शाम': 1450, 'ढले': 1451, 'चक्कर': 1452, 'लगाने': 1453, 'इरादा': 1454, 'पियात्सा': 1455, 'डी': 1456, 'स्पाग्ना': 1457, 'खूब': 1458, 'दूसरे': 1459, 'बसा': 1460, 'फतेहगंज': 1461, 'कैंप': 1462, 'रोड': 1463, 'रेस्टोरेंट': 1464, 'बफे': 1465, 'जंक्शन': 1466, 'स्वादिष्\\u200dट': 1467, 'ब्रेकफास्ट': 1468, 'सादा': 1469, 'सुपाच्य': 1470, 'खाएँ': 1471, 'चोकरयुक्त': 1472, 'आटे': 1473, 'रोटी': 1474, 'चावल': 1475, 'दलिया': 1476, 'मूंग': 1477, 'दाल': 1478, 'सब्जियों': 1479, 'नक्काशी': 1480, 'चिन्ह': 1481, 'दर्शनीय': 1482, 'बागानों': 1483, 'हरियाली': 1484, 'आवाजाही': 1485, 'सुना': 1486, 'ट्राइबल': 1487, 'लाइफ': 1488, 'दिखाने': 1489, 'पैकेज': 1490, 'रखे': 1491, 'अवधि': 1492, 'रखकर': 1493, 'आएँ': 1494, 'शब्दों': 1495, 'चित्र': 1496, 'सेहत': 1497, 'लाभकारी': 1498, 'विशेषकर': 1499, 'देता': 1500, 'जानते': 1501, 'काजू': 1502, 'किशमिश': 1503, 'औषधियों': 1504, '300': 1505, 'इमारतें': 1506, 'जिनमें': 1507, 'एंजॉय': 1508, 'बातों': 1509, 'खासतौर': 1510, 'डेस्टिनेशन': 1511, 'जगहें': 1512, 'एक्सप्लोर': 1513, 'डेवलमेंट': 1514, 'प्रकृति': 1515, 'जीवनशैली': 1516, 'पड़ा': 1517, 'उठने': 1518, 'बैठने': 1519, 'चीज': 1520, 'सीखने': 1521, 'खुलने': 1522, 'देश': 1523, 'दबोच': 1524, 'लेते': 1525, 'विश्\\u200dव': 1526, 'युद्ध': 1527, 'शहीद': 1528, 'अज्ञात': 1529, 'सैनिकों': 1530, 'दफनाया': 1531, 'एंथोसाइनिन': 1532, 'बचाती': 1533, 'हेतु': 1534, 'यौगिक': 1535, 'निदान': 1536, 'लिवरपूल': 1537, 'यूनिवर्सिटी': 1538, 'आप्थैमोलॉजी': 1539, 'अध्यक्ष': 1540, 'विख्यात': 1541, 'नेत्ररोग': 1542, 'शोधकर्ता': 1543, 'डॉ.': 1544, 'इयान': 1545, 'ग्रीयरसन': 1546, 'डायमंड': 1547, 'कैपिटल': 1548, 'ऑफ': 1549, 'वर्ल्ड': 1550, 'कहलाने': 1551, 'सूरत': 1552, 'जवाहरातों': 1553, 'स्थानीय': 1554, 'पारंपरिक': 1555, 'वस्तुओं': 1556, 'आइए': 1557, 'कैसा': 1558, 'कैसे': 1559, 'पिछली': 1560, 'झटके': 1561, 'लगेंगे': 1562, 'सीटों': 1563, 'पढ़ना': 1564, 'कंफर्टेबल': 1565, 'गौर': 1566, 'पढ़ें': 1567, 'बढ़ने': 1568, 'आठ': 1569, 'सेकेंड': 1570, 'आँखें': 1571, 'बंद': 1572, 'कपड़े': 1573, 'बदलना': 1574, 'खेल': 1575, 'सीखना': 1576, 'माना': 1577, 'ख्वाहिश': 1578, 'रोजमर्रा': 1579, 'जिंदगी': 1580, 'बढ़ते': 1581, 'दखल': 1582, 'हमें': 1583, 'बेहद': 1584, 'आरामतलब': 1585, 'मिस': 1586, 'बेहतरीन': 1587, 'मूर्तिकला': 1588, 'मौका': 1589, 'गवाँ': 1590, 'देंगे': 1591, 'डायरिया': 1592, 'रूकता': 1593, 'वजन': 1594, '?': 1595, 'नाक': 1596, 'नथुनों': 1597, 'सुबह-शाम': 1598, 'तेल': 1599, 'लगाएँ': 1600, 'पंचवटी': 1601, 'सीता': 1602, 'गुफा': 1603, 'रामकुंड': 1604, 'रामायणकालीन': 1605, 'सस्ती': 1606, 'मेरी': 1607, 'रोमांचक': 1608, 'जाँच': 1609, 'त्रयंबकेश्\\u200dवर': 1610, 'विपश्यना': 1611, 'सेंटर': 1612, 'नंदुर': 1613, 'माधमहेश्\\u200dवर': 1614, 'पक्षी': 1615, 'अभ्यारण्य': 1616, 'जुड़े': 1617, 'अंडे': 1618, '18': 1619, 'ताइबर': 1620, 'रोमन': 1621, 'कैथलिक': 1622, 'धर्म': 1623, 'अनुयायियों': 1624, 'तीर्थ': 1625, 'पोप': 1626, 'निवास': 1627, 'हाँ': 1628, 'खर्च': 1629, 'सुकून': 1630, 'ढेर': 1631, 'सारा': 1632, 'देने': 1633, 'आपसे': 1634, 'सब्र': 1635, 'डिमांड': 1636, 'टी.बी.': 1637, 'घेर': 1638, 'बढ़ने': 1639, 'घिरा': 1640, 'गंगामाया': 1641, 'चार्ट': 1642, 'संक्षिप्त': 1643, 'हथियाने': 1644, 'फिराक': 1645, 'कोने': 1646, 'बैग': 1647, 'रख': 1648, 'खुद': 1649, 'बोलने': 1650, 'चालने': 1651, 'ढाल': 1652, 'कराएँ': 1653, 'चकत्ते': 1654, 'फोड़े-फुंसी': 1655, 'पार्क': 1656, 'म्यूजियमों': 1657, 'ख्याति': 1658, 'प्राप्\\u200dत': 1659, 'महाराजा': 1660, 'सयाजी': 1661, 'राव': 1662, 'विश्\\u200dवविद्यालय': 1663, 'महत्वपूर्ण': 1664, 'लक्षणों': 1665, 'विवरण': 1666, 'छठी': 1667, 'कैथोलिक': 1668, 'सर्वोच्च': 1669, 'केन्द्रीय': 1670, 'तांत्रिक': 1671, 'क्रियाशीलता': 1672, 'तंत्रिका': 1673, 'क्रियाशील': 1674, 'संतुलित': 1675, 'नाड़ीशोधन': 1676, 'उज्जायी': 1677, 'प्राणायाम': 1678, 'रामबाण': 1679, 'भूमिका': 1680, 'निभाते': 1681, 'पढ़कर': 1682, 'घटाने': 1683, 'त्वचा': 1684, 'देखभाल': 1685, 'ताजे': 1686, 'मामलों': 1687, 'दी': 1688, 'पहचाने': 1689, 'उसी': 1690, 'अन्तर्गत': 1691, 'दृष्टिहीन': 1692, 'व्यक्तियों': 1693, 'ग्रसित': 1694, 'लाभान्वित': 1695, 'तत्पश्\\u200dचात': 1696, 'मरीजों': 1697, 'सुसज्जित': 1698, 'नेत्रशल्यक': 1699, 'ओमेगा-3': 1700, 'तेलों': 1701, 'पौधों': 1702, 'बढ़ाने': 1703, 'आमतौर': 1704, 'बनने': 1705, 'उधर': 1706, 'पेशवा': 1707, 'शासकों': 1708, 'महल': 1709, 'शनिवार': 1710, 'वडा': 1711, 'भगवान': 1712, 'रजनीश': 1713, 'ओशो': 1714, 'अधूरी': 1715, 'फेवरिट': 1716, 'बुक': 1717, 'डिस्टर्ब': 1718, 'साइंस': 1719, 'अक्षरधाम': 1720, 'वैष्णों': 1721, 'प्रतिकृति': 1722, 'भ्रमण': 1723, 'प्रवाह': 1724, 'बढ़ाते': 1725, 'सक्रियता': 1726, 'बढ़ती': 1727, 'बैगेज': 1728, 'खासे': 1729, 'कड़े': 1730, 'साइज': 1731, 'पूछताछ': 1732, 'छोड़ें': 1733, 'गुम': 1734, 'फव्वारा': 1735, 'त्रेवी': 1736, 'फांउंटेन': 1737, 'रुकना': 1738, 'सामुदायिक': 1739, 'सेवा': 1740, 'केन्द्र': 1741, 'अप्रभावित': 1742, 'ज्यों': 1743, 'मोनास्टरी': 1744, 'बढ़े': 1745, 'घटा': 1746, 'कहाँ': 1747, 'उपस्थित': 1748, 'झमकने': 1749, 'लगीं': 1750, 'लक्ष्मण': 1751, 'वनवास': 1752, 'व्यतीत': 1753, 'किए': 1754, 'इतिहास': 1755, 'परिचय': 1756, 'इलाके': 1757, 'कराता': 1758, 'मॉलरोड': 1759, 'टहलते': 1760, 'शॉपिंग': 1761, 'योजना': 1762, 'निश्\\u200dचित': 1763, 'प्राप्त': 1764, 'आश्\\u200dचर्यचकित': 1765, 'देगी': 1766, 'प्रारंभ': 1767, 'सूक्ष्म': 1768, 'करो': 1769, 'चूँकि': 1770, 'दृश्य': 1771, 'टीवी': 1772, 'पटल': 1773, 'विस्तारित': 1774, 'होकर': 1775, 'दिखता': 1776, 'प्रत्यक्ष': 1777, 'स्पष्ट': 1778, 'दिखाई': 1779, 'एकाग्रचित': 1780, 'यूरोप': 1781, 'गौरवशाली': 1782, 'लेट': 1783, 'व्यापार': 1784, 'कला': 1785, 'संगम': 1786, 'टॉवर': 1787, 'रक्त-प्रवाह': 1788, 'प्रवेश': 1789, 'ब्रोकोली': 1790, 'अंकुरित': 1791, 'अनाज': 1792, 'लिहाज': 1793, 'औषधि': 1794, 'फायदे': 1795, 'दस्त': 1796, 'शक्ति': 1797, 'धीरे': 1798, 'मांसाहारी': 1799, 'उपाय': 1800, 'सफाई': 1801, 'सोचने': 1802, 'वाकई': 1803, 'पचास': 1804, 'परसेंट': 1805, 'स्टाफ': 1806, 'हफ्तों': 1807, 'अलग-अलग': 1808, 'जाया': 1809, 'समझ': 1810, 'आया': 1811, 'आता': 1812, 'पैप': 1813, 'लड़कियों': 1814, 'बाल': 1815, 'सूखी': 1816, 'देखी': 1817, 'किसान': 1818, 'खेती': 1819, 'पहला': 1820, 'मुझे': 1821, 'इतने': 1822, 'हेरिटेज': 1823, 'अहिंसा': 1824, 'शुभारंभ': 1825, 'महात्मा': 1826, 'गांधी': 1827, 'दांडी': 1828, 'राह': 1829, 'भटक': 1830, 'गयी': 1831, 'रात': 1832, 'शबाना': 1833, 'आजमी': 1834, 'तहेदिल': 1835, 'बुलाया': 1836, 'सकी': 1837, 'खिलाफ़': 1838, 'महायात्रा': 1839, 'बार-बार': 1840, 'लू': 1841, 'पसंद': 1842, 'खिड़की': 1843, 'विजुअल': 1844, 'बारिश': 1845, 'तम्बाकू': 1846, 'अलविदा': 1847, 'कहने': 1848, 'पारम्परिक': 1849, 'गुड़': 1850, 'दही': 1851, 'खिला': 1852, 'उन्होंने': 1853, 'विदा': 1854, 'भेदभाव': 1855, 'नाइंसाफी': 1856, 'अनभिज्ञता': 1857, 'संकेत': 1858, 'सम्पूर्ण': 1859, 'सहायता': 1860, 'प्रभावित': 1861, 'सदस्य': 1862, 'सम्मानित': 1863, 'सकें': 1864, 'विराजमान': 1865, 'बनीं': 1866, 'बड़ी-बड़ी': 1867, 'दुकानें': 1868, 'लगाते': 1869, 'दिल': 1870, 'दहला': 1871, 'लड़ाइयाँ': 1872, 'चाहें': 1873, 'तलवारियों': 1874, 'जारी': 1875, 'लड़नेवाले': 1876, 'मौत': 1877, 'नेत्ररोगों': 1878, 'बचे': 1879, 'आसान': 1880, 'जन': 1881, 'स्वास्थ्य': 1882, 'केन्द्रों': 1883, 'विषाणु': 1884, 'इंसानों': 1885, 'बचने': 1886, 'अपेंडिक्श': 1887, 'निकालने': 1888, 'हालांकि': 1889, 'स्थायी': 1890, 'समाधान': 1891, 'लेता': 1892, 'श्रमसाध्य': 1893, 'विरोध': 1894, 'भारतीय': 1895, 'सदियों': 1896, 'हिमालय': 1897, 'मॉल': 1898, 'पीछे': 1899, 'वाजिब': 1900, 'कीमत': 1901, 'माहौल': 1902, 'वातानुकूलित': 1903, 'कमरों': 1904, 'यादगार': 1905, 'दिक्कतों': 1906, 'सेवाएँ': 1907, 'स्थगित': 1908, 'अक्टूबर': 1909, 'उम्मीद': 1910, 'हिल': 1911, 'ऊँचाई': 1912, 'लैस': 1913, 'मोबाइल': 1914, 'फोन': 1915, 'इंटरनेट': 1916, 'भाग': 1917, 'मांसपेशियों': 1918, 'गतिशीलता': 1919, 'समाप्त': 1920, 'ग्लैडिएटर': 1921, 'तलवारबाज': 1922, 'करतब': 1923, 'शल्यचिकित्सा': 1924, 'क्रान्तिकारी': 1925, 'आविष्कार': 1926, 'ओनिकोमाइसिस': 1927, 'उबली': 1928, 'सुई': 1929, 'नजारा': 1930, 'दिखाएँगे': 1931, 'हमेशा': 1932, 'खान-पान': 1933, 'बरती': 1934, 'थोड़ी': 1935, 'सावधानी': 1936, 'कोलकाता': 1937, 'ठंडक': 1938, 'छाँव': 1939, 'सिलीगुड़ी': 1940, 'फैले': 1941, 'बागान': 1942, 'बाँध': 1943, 'एकाएक': 1944, 'छुट्\\u200dटियाँ': 1945, 'बिताने': 1946, 'कितने': 1947, 'भूतों': 1948, 'जाऊँ': 1949, 'कुछेक': 1950, 'शायद': 1951, 'बिताई': 1952, 'अभाव': 1953, 'यूरोपीय': 1954, 'व्यवसाय': 1955, 'नामी': 1956, 'गिरामी': 1957, 'ड्राइवर': 1958, 'कंडक्टर': 1959, 'साधारणतया': 1960, 'स्वच्छ': 1961, 'लैन्स': 1962, 'उसका': 1963, 'कैपस्यूल': 1964, 'धुंधला': 1965, 'दुधिया': 1966, 'आँख': 1967, 'अन्दर': 1968, 'नही': 1969, 'पाती': 1970, 'बिजली': 1971, 'स्विच': 1972, 'आन': 1973, 'हाथ': 1974, 'उलटे': 1975, 'अपनाकर': 1976, 'खिड़कियों': 1977, 'खोल': 1978, 'सूचना': 1979, 'रहस्य': 1980, 'क्लिक': 1981, 'दूरी': 1982, 'चाहेगा': 1983, 'डाक्टर': 1984, 'लाइटिंग': 1985, 'बीमार': 1986, 'पड़ने': 1987, 'निरन्तर': 1988, 'पित्ताशय': 1989, 'पथरी': 1990, 'मेजबान': 1991, 'जैकी': 1992, 'सज्जाकार': 1993, 'सहसा': 1994, 'उठी': 1995, 'अंग्रेजी': 1996, 'उद्\\u200dबोधन': 1997, 'बुलाता': 1998, 'ज्यादातर': 1999, 'इंग्वाईनल': 2000, 'उपचार': 2001, 'दर्द': 2002, 'ठीक': 2003, 'दवाइयाँ': 2004, 'करतीं': 2005, 'पहनने': 2006, 'गुसलखाने': 2007}\n"
          ],
          "name": "stdout"
        }
      ]
    },
    {
      "cell_type": "code",
      "metadata": {
        "id": "QsVzRHobWS6H",
        "colab_type": "code",
        "colab": {}
      },
      "source": [
        "def get_index_to_word_dict(vocab):\n",
        "  index_to_word = {}\n",
        "  for i, word in enumerate(vocab):\n",
        "    index_to_word[i] = word\n",
        "  return index_to_word  "
      ],
      "execution_count": 0,
      "outputs": []
    },
    {
      "cell_type": "code",
      "metadata": {
        "id": "emK-h7Q_WupP",
        "colab_type": "code",
        "colab": {}
      },
      "source": [
        "src_index_to_word = get_index_to_word_dict(src_vocab)\n",
        "dest_index_to_word = get_index_to_word_dict(dest_vocab)"
      ],
      "execution_count": 0,
      "outputs": []
    },
    {
      "cell_type": "code",
      "metadata": {
        "id": "DfwvjDszW37B",
        "colab_type": "code",
        "colab": {
          "base_uri": "https://localhost:8080/",
          "height": 72
        },
        "outputId": "0d7e5472-30fe-4fb7-f69f-71088eedeeef"
      },
      "source": [
        "print(src_index_to_word)\n",
        "print(dest_index_to_word)"
      ],
      "execution_count": 17,
      "outputs": [
        {
          "output_type": "stream",
          "text": [
            "{0: 'It', 1: 'is', 2: 'worth', 3: 'noting', 4: 'that', 5: 'this', 6: 'road', 7: 'the', 8: 'main', 9: 'way', 10: 'of', 11: 'Rome', 12: '.', 13: 'Ginger', 14: 'hotel', 15: 'has', 16: 'opened', 17: 'here', 18: 'as', 19: 'well', 20: 'Use', 21: 'warm', 22: 'water', 23: 'for', 24: 'bathing', 25: 'In', 26: 'button', 27: 'hole', 28: 'surgery', 29: 'possibility', 30: 'hurting', 31: 'internal', 32: 'components', 33: 'abdomen', 34: 'much', 35: 'less', 36: 'Apart', 37: 'from', 38: 'some', 39: 'diseases', 40: 'parts', 41: 'chest', 42: 'may', 43: 'also', 44: 'be', 45: 'cured', 46: 'by', 47: 'method', 48: 'So', 49: ',', 50: 'why', 51: 'should', 52: 'it', 53: 'left', 54: 'eyes', 55: 'All', 56: 'social', 57: 'religious', 58: 'economic', 59: 'political', 60: 'etc', 61: 'activities', 62: 'city', 63: 'used', 64: 'to', 65: 'happen', 66: 'only', 67: 'Camping', 68: 'done', 69: 'through', 70: 'government', 71: 'non-government', 72: 'and', 73: 'voluntary', 74: 'organizations', 75: 'after', 76: 'comprehensive', 77: 'propagation', 78: 'District', 79: 'Blindness', 80: 'Control', 81: 'Committees', 82: 'What', 83: 'else', 84: 'needed', 85: 'Along', 86: 'with', 87: 'where', 88: 'old', 89: 'tourists', 90: 'sites', 91: 'are', 92: 'present', 93: 'whre', 94: 'you', 95: 'have', 96: 'take', 97: 'bus', 98: 'reach', 99: 'there', 100: 'an', 101: 'hour', 102: 'before', 103: 'time', 104: \"'s\", 105: 'construction', 106: 'was', 107: 'in', 108: 'nineteen', 109: 'hundred', 110: 'twenty', 111: 'Sea', 112: 'cruise', 113: 'proved', 114: 'profitable', 115: 'The', 116: 'moment', 117: 'enter', 118: 'inside', 119: 'welcomed', 120: 'appears', 121: 'attention', 122: 'been', 123: 'paid', 124: 'divine', 125: 'peace', 126: 'situated', 127: 'Panjim', 128: 'capital', 129: 'Goa', 130: 'makes', 131: 'journey', 132: 'western', 133: 'coast', 134: 'excellent', 135: 'magic', 136: 'waterfalls', 137: 'between', 138: 'rocks', 139: 'seeing', 140: 'Laparoscopic', 141: 'takes', 142: 'double', 143: 'comparison', 144: 'simple', 145: 'treatment', 146: 'Although', 147: 'tehre', 148: 'many', 149: 'gardens', 150: 'but', 151: 'Villa', 152: 'Borges', 153: 'unparalleled', 154: 'There', 155: 'no', 156: 'need', 157: 'stay', 158: 'at', 159: 'hospital', 160: 'more', 161: 'days', 162: 'due', 163: 'stitches', 164: 'being', 165: 'applied', 166: 'Bending', 167: 'right', 168: 'leg', 169: 'knee', 170: 'touch', 171: 'its', 172: 'sole', 173: 'put', 174: 'heel', 175: 'below', 176: 'genitals', 177: 'brain', 178: 'remains', 179: 'fresh', 180: 'having', 181: 'good', 182: 'sleep', 183: 'Avoid', 184: 'heavy', 185: 'hard', 186: 'digest', 187: 'tea', 188: 'coffee', 189: 'tobacco', 190: 'intoxicating', 191: 'things', 192: 'exciting', 193: 'element', 194: 'such', 195: 'chemical', 196: 'agents', 197: 'oozes', 198: 'will', 199: 'save', 200: 'cells', 201: 'getting', 202: 'destroyed', 203: 'After', 204: 'situation', 205: 'improves', 206: 'add', 207: 'Pavanmuktasana', 208: 'Vajrasana', 209: 'Shashankasana', 210: 'Makarasana', 211: 'etcetera', 212: 'practice', 213: 'Gujarat', 214: 'abutting', 215: 'a', 216: 'marvellous', 217: 'visit', 218: 'golden', 219: 'historical', 220: 'witnesses', 221: 'granduer', 222: 'Peshwa', 223: 'period', 224: 'Pune', 225: 'sabarmati', 226: 'ashram', 227: 'Ahmadabad', 228: 'mukti', 229: 'andolan', 230: 'found', 231: 'Boating', 232: 'Mirik', 233: 'lake', 234: 'short', 235: 'break', 236: 'garden', 237: 'Carry', 238: 'on', 239: 'bags', 240: 'them', 241: 'patients', 242: 'sciatica', 243: 'slip', 244: 'disk', 245: 'avoid', 246: 'Patients', 247: 'administered', 248: 'anesthetic', 249: 'medicine', 250: 'which', 251: 'own', 252: 'harms', 253: 'Rub', 254: 'body', 255: 'top', 256: 'bottom', 257: 'furred', 258: 'towel', 259: 'get', 260: 'important', 261: 'information', 262: 'identifying', 263: 'patient', 264: 'suffering', 265: 'cataract', 266: 'doctors', 267: 'eye', 268: 'helpers', 269: 'perform', 270: 'screening', 271: 'their', 272: 'hospitals', 273: 'most', 274: 'famous', 275: 'among', 276: 'Forum', 277: 'romanum', 278: 'place', 279: 'ruins', 280: 'palaces', 281: 'temples', 282: 'pillars', 283: 'even', 284: 'today', 285: 'To', 286: 'repair', 287: 'hiatus', 288: 'hernia', 289: 'huge', 290: 'arena', 291: '80', 292: 'B', 293: 'than', 294: '50', 295: 'thousand', 296: 'audience', 297: 'could', 298: 'sit', 299: 'together', 300: 'By', 301: 'smoking', 302: 'cigarette', 303: 'arteries', 304: 'bringing', 305: 'oxygen', 306: 'start', 307: 'shrinking', 308: 'starts', 309: 'weakening', 310: 'While', 311: 'walking', 312: 'narrow', 313: 'we', 314: 'saw', 315: 'fort', 316: 'Ajabgadh', 317: 'rays', 318: 'sun', 319: 'were', 320: 'spreading', 321: 'gradually', 322: 'If', 323: 'seen', 324: 'date', 325: 'then', 326: 'Maldive', 327: 'Delhi', 328: 'inexpensive', 329: 'return', 330: 'fare', 331: '28', 332: 'rupees', 333: 'per', 334: 'person', 335: 'power', 336: 'fight', 337: 'against', 338: 'totally', 339: 'languishes', 340: 'or', 341: 'ends', 342: 'called', 343: 'AIDS', 344: 'These', 345: 'possibilities', 346: 'negligible', 347: 'laparoscopy', 348: 'Before', 349: 'buying', 350: 'ticket', 351: 'search', 352: 'best', 353: 'deal', 354: 'Wounds', 355: 'blisters', 356: 'mouth', 357: 'use', 358: 'your', 359: 'capable', 360: 'staffs', 361: 'related', 362: 'department', 363: 'trained', 364: 'different', 365: 'levels', 366: 'Government', 367: 'India', 368: 'reduce', 369: 'prevalence', 370: 'rate', 371: 'blindness', 372: 'From', 373: 'wit', 374: 'help', 375: 'binoculars', 376: 'complete', 377: 'mountain', 378: 'Darjeeling', 379: 'can', 380: 'A', 381: 'thing', 382: 'remembered', 383: 'long', 384: 'when', 385: 'care', 386: 'taken', 387: 'serving', 388: 'traditional', 389: 'cuisine', 390: 'does', 391: 'not', 392: 'spread', 393: 'touching', 394: 'mutual', 395: 'interaction', 396: 'Maintain', 397: 'safe', 398: 'sex', 399: 'relations', 400: 'This', 401: 'those', 402: 'seven', 403: 'kings', 404: 'Alwar', 405: 'camp', 406: 'hunting', 407: 'necessary', 408: 'give', 409: 'suggestions', 410: 'living', 411: 'H', 412: 'family', 413: 'members', 414: 'Among', 415: 'chief', 416: 'reasons', 417: '55', 418: 'percent', 419: 'vision', 420: 'problems', 421: '19', 422: 'black', 423: '4', 424: 'corneal', 425: 'pathology', 426: '7', 427: 'others', 428: '15', 429: 'For', 430: 'example', 431: 'cancer', 432: '-LRB-', 433: 'abdominal', 434: '-RRB-', 435: 'liver', 436: 'intestine', 437: 'enjoying', 438: \"'\", 439: 'Piazza', 440: 'Venezia', 441: 'go', 442: 'Via', 443: 'del', 444: 'Corso', 445: 'Increment', 446: 'lymph', 447: 'nodes', 448: 'size', 449: 'one', 450: 'two', 451: 'hotels', 452: 'Pimpri', 453: 'Wakad', 454: 'Do', 455: 'under', 456: 'eligible', 457: 'guide', 458: 'according', 459: 'capacity', 460: 'without', 461: 'kumbhak', 462: 'holding', 463: 'breath', 464: 'reason', 465: 'about', 466: 'all', 467: 'Woithout', 468: 'doubt', 469: 'happens', 470: 'nationsand', 471: 'tourist', 472: 'show', 473: 'interest', 474: 'stands', 475: '`', 476: 'Human', 477: 'Immuno-deficiency', 478: 'Virus', 479: 'During', 480: 'busy', 481: 'season', 482: 'special', 483: 'point', 484: 'Because', 485: 'several', 486: 'symptoms', 487: 'showing', 488: 'up', 489: 'inkling', 490: 'facility', 491: 'washroom', 492: 'do', 493: 'while', 494: 'chosing', 495: 'seat', 496: 'because', 497: 'becomes', 498: 'difficult', 499: 'they', 500: 'might', 501: 'face', 502: 'complexities', 503: 'like', 504: 'pneumonia', 505: 'clotting', 506: 'blood', 507: 'vessels', 508: 'Such', 509: 'glimpse', 510: 'village', 511: 'life', 512: 'wonderful', 513: 'experience', 514: 'Jackie', 515: 'You', 516: 'include', 517: 'green', 518: 'vegetables', 519: 'diet', 520: 'keep', 521: 'sharp', 522: 'Tou', 523: 'trains', 524: 'enhance', 525: 'tour', 526: 'Special', 527: 'quality', 528: 'operation', 529: 'district', 530: 'base', 531: 'converted', 532: 'into', 533: 'Microscopic', 534: 'Centres', 535: 'land', 536: 'multicoloured', 537: 'culture', 538: 'rich', 539: 'heritage', 540: 'contagious', 541: 'disease', 542: 'Actually', 543: 'motive', 544: 'tours', 545: 'bring', 546: 'style', 547: 'ways', 548: 'traditions', 549: 'sharpens', 550: 'eating', 551: 'fish', 552: 'walnut', 553: 'almond', 554: 'Vitamin', 555: 'E', 556: 'antioxidants', 557: 'tomato', 558: 'green-tea', 559: 'broccoli', 560: 'sweet', 561: 'potato', 562: 'idols', 563: 'built', 564: 'unique', 565: 'look', 566: 'so', 567: 'lively', 568: 'looks', 569: 'if', 570: 'ebgint', 571: 'o', 572: 'speak', 573: 'now', 574: 'Bringing', 575: 'both', 576: 'hands', 577: 'forefoot', 578: 'bend', 579: 'forward', 580: 'head', 581: 'touches', 582: 'ground', 583: 'Immune', 584: 'system', 585: 'arrangement', 586: 'our', 587: 'saves', 588: 'us', 589: 'infection', 590: 'Plenty', 591: 'vitamin-B', 592: 'these', 593: 'kind', 594: 'other', 595: 'protect', 596: 'ultraviolet', 597: 'testified', 598: 'six-year', 599: 'study', 600: 'American', 601: 'National', 602: 'Eye', 603: 'Institute', 604: 'people', 605: 'Whileenjoying', 606: 'cycling', 607: 'river', 608: 'cool', 609: 'oceanic', 610: 'winds', 611: 'world', 612: 'Goan', 613: 'fully', 614: 'spend', 615: 'comfortable', 616: 'day', 617: 'option', 618: '601', 619: 'AD', 620: 'temple', 621: 'made', 622: 'church', 623: 'On', 624: 'plane', 625: 'MV', 626: 'Aquamarine', 627: 'Louis', 628: 'three', 629: 'minimum', 630: 'Rs', 631: '5850', 632: 'night', 633: 'Make', 634: 'habit', 635: 'remember', 636: 'relating', 637: 'color', 638: 'smell', 639: 'taste', 640: 'Paralysis', 641: 'limited', 642: 'half', 643: 'whole', 644: 'till', 645: 'Not', 646: 'dry', 647: 'syndrome', 648: 'Try', 649: 'new', 650: 'Infected', 651: 'persons', 652: 'live', 653: 'normal', 654: '10', 655: 'years', 656: 'With', 657: 'CD-4', 658: 'divided', 659: 'roaming', 660: 'airplanes', 661: 'suddenly', 662: 'front', 663: 'toy', 664: 'halt', 665: 'Malè', 666: 'rent', 667: 'enjoy', 668: 'beauty', 669: 'Maldives', 670: 'any', 671: 'island', 672: 'around', 673: 'pocket', 674: 'willprove', 675: 'small', 676: 'resident', 677: 'Raambabu', 678: 'work', 679: 'Jaipur', 680: 'aman', 681: 'Bagh', 682: 'royal', 683: 'Aman', 684: 'Baag', 685: 'real', 686: 'getaway', 687: 'calm', 688: 'comforts', 689: 'facilities', 690: 'Meditation', 691: 'free', 692: 'mind', 693: 'worries', 694: 'sorrows', 695: 'pains', 696: 'grief', 697: 'fears', 698: 'Pay', 699: 'bodily', 700: 'cleanliness', 701: 'elders', 702: 'children', 703: 'age', 704: 'absolutely', 705: 'reached', 706: 'Bhaangadh', 707: 'Jeep', 708: 'million', 709: 'dollar', 710: 'priceless', 711: 'first', 712: 'bagh', 713: 'surrounded', 714: 'mountains', 715: 'shadow', 716: 'dense', 717: 'trees', 718: 'allure', 719: 'heart', 720: 'attacks', 721: 'process', 722: 'repeated', 723: 'again', 724: 'better', 725: 'try', 726: 'poem', 727: 'Prevention', 728: 'Instead', 729: 'trip', 730: 'enquire', 731: 'round', 732: 'fourteenth', 733: 'century', 734: 'wall', 735: 'Cervial', 736: 'Also', 737: 'learn', 738: 'rules', 739: 'insurance', 740: 'loss', 741: 'coverage', 742: 'company', 743: 'following', 744: 'consequences', 745: 'caught', 746: 'Including', 747: 'weakened', 748: 'Now', 749: 'craftiness', 750: 'four', 751: 'holes', 752: 'wounds', 753: 'ripened', 754: 'infected', 755: 'very', 756: 'Brain', 757: 'exercise', 758: 'works', 759: 'fundamental', 760: 'First', 761: 'walk', 762: 'Ram', 763: 'Babu', 764: 'popular', 765: 'spot', 766: 'Kalimpong', 767: '-', 768: 'Lava', 769: 'Lolegaon', 770: 'filled', 771: 'forests', 772: 'rapids', 773: 'appearnebce', 774: 'problem', 775: 'increasing', 776: 'high', 777: 'pressure', 778: 'extreme', 779: 'happiness', 780: 'sorrow', 781: 'research', 782: 'strengthens', 783: 'cell', 784: 'brings', 785: 'nutritious', 786: 'elements', 787: 'Frequent', 788: 'cough', 789: 'month', 790: 'Buying', 791: 'advance', 792: 'cheaper', 793: 'plan', 794: 'little', 795: 'early', 796: 'planning', 797: 'last', 798: 'moments', 799: 'daily', 800: 'common', 801: 'earlier', 802: 'would', 803: 'becoming', 804: 'active', 805: 'They', 806: 'making', 807: 'red', 808: 'corpuscles', 809: 'rising', 810: 'car', 811: 'Batusiya', 812: 'loop', 813: 'program', 814: 'test', 815: '14', 816: 'school', 817: 'students', 818: 'run', 819: 'campaign', 820: 'beginning', 821: 'educational', 822: 'session', 823: 'poor', 824: 'distributed', 825: 'glasses', 826: 'cost', 827: 'Italy', 828: 'ancient', 829: 'cities', 830: 'development', 831: 'civilizations', 832: 'took', 833: 'immune', 834: 'Where', 835: 'known', 836: 'multicolor', 837: 'Maharashtra', 838: 'diversity', 839: 'various', 840: 'beautiful', 841: 'beaches', 842: 'thick', 843: 'historic', 844: 'forts', 845: 'places', 846: 'Wherever', 847: 'stops', 848: 'come', 849: 'back', 850: 'Treatment', 851: 'office', 852: 'home', 853: 'friends', 854: 'same', 855: 'kept', 856: 'sharpened', 857: 'adopting', 858: 'habits', 859: 'tension', 860: 'hormone', 861: 'cortisol', 862: 'hippocampus', 863: 'seriously', 864: 'But', 865: 'later', 866: 'lethal', 867: 'impact', 868: 'specially', 869: 'lutein', 870: 'zeaxanthin', 871: 'responsible', 872: 'luggage', 873: 'terminal', 874: 'extra', 875: 'fee', 876: 'Famous', 877: 'sculptor', 878: 'Michelangelo', 879: 'stairs', 880: 'climb', 881: '1536', 882: 'Separating', 883: 'treating', 884: 'offence', 885: 'Built', 886: 'chowk', 887: 'middle', 888: 'Vijay', 889: 'Chowk', 890: 'Cyst', 891: 'swelling', 892: 'breasts', 893: 'incomplete', 894: 'tiredness', 895: 'concentrate', 896: 'Capitoline', 897: 'brass', 898: 'statue', 899: 'emperor', 900: 'Marcus', 901: 'Oraleous', 902: 'riding', 903: 'horse', 904: 'who', 905: 'ruled', 906: '160', 907: '180', 908: 'options', 909: 'citrus', 910: 'food', 911: 'item', 912: 'museum', 913: 'stated', 914: 'another', 915: 'women', 916: 'ophthalmic', 917: 'decrease', 918: '68', 919: 'tuna', 920: 'We', 921: 'rock', 922: 'magnificent', 923: 'empire', 924: 'stones', 925: 'magical', 926: 'Ganga', 927: 'maya', 928: 'ornate', 929: 'alone', 930: 'despite', 931: 'Tourism', 932: 'interesting', 933: 'subject', 934: 'itself', 935: 'sometimes', 936: 'pull', 937: 'towards', 938: 'ship', 939: 'train', 940: 'pink', 941: 'palace', 942: 'Udaipur', 943: 'Themain', 944: 'attractions', 945: 'fountains', 946: 'ten', 947: 'minutes', 948: 'Memory', 949: 'gets', 950: 'vitamin', 951: 'B-12', 952: 'B-6', 953: 'items', 954: 'folic', 955: 'acid', 956: 'spinach', 957: 'strawberry', 958: 'juicy', 959: 'fruits', 960: 'watermelon', 961: 'soybean', 962: 'Start', 963: 'pieces', 964: 'sweets', 965: 'breakfast', 966: 'meals', 967: 'spreads', 968: 'administering', 969: 'Lets', 970: 'move', 971: 'telling', 972: 'meeting', 973: 'No', 974: 'looking', 975: 'estimate', 976: 'completely', 977: 'artefacts', 978: 'I', 979: 'am', 980: 'going', 981: 'talk', 982: 'prepared', 983: 'ago', 984: 'preparation', 985: 'actually', 986: 'brough', 987: 'bliss', 988: 'forest', 989: 'Active', 990: 'governmental', 991: 'non-governmental', 992: 'Test', 993: 'Programme', 994: 'complex', 995: 'fever', 996: 'mother', 997: 'her', 998: 'issues', 999: 'Due', 1000: 'devotees', 1001: 'feel', 1002: 'prayerrs', 1003: 'directly', 1004: 'reching', 1005: 'Gods', 1006: 'Dhooma', 1007: 'dn', 1008: 'Dhoom', 1009: 'attraction', 1010: 'available', 1011: 'yet', 1012: 'avoided', 1013: 'ward', 1014: 'off', 1015: 'peptic', 1016: 'ulcer', 1017: 'belief', 1018: 'someone', 1019: 'want', 1020: 'throw', 1021: 'coin', 1022: 'wish', 1023: 'fountain', 1024: 'see', 1025: 'Vatican', 1026: 'themselves', 1027: 'fact', 1028: 'compete', 1029: 'wild', 1030: 'animals', 1031: 'luxurious', 1032: 'grand', 1033: 'dome', 1034: 'museums', 1035: 'posess', 1036: 'hypnotising', 1037: 'glance', 1038: 'maintain', 1039: 'secrecy', 1040: '1', 1041: '0', 1042: 'started', 1043: 'Beside', 1044: 'memorial', 1045: 'enitre', 1046: 'Everything', 1047: 'inspired', 1048: 'Omega-3', 1049: 'fat', 1050: 'decreases', 1051: 'danger', 1052: 'glaucoma', 1053: 'weak', 1054: 'side', 1055: 'neighbor', 1056: 'state', 1057: 'equipped', 1058: 'sea', 1059: 'shores', 1060: 'sports', 1061: 'heaven', 1062: 'churches', 1063: 'grandeur', 1064: 'era', 1065: 'easily', 1066: 'stays', 1067: 'bed', 1068: 'week', 1069: 'surgical', 1070: 'entering', 1071: 'HIV', 1072: 'increases', 1073: 'number', 1074: 'fast', 1075: 'reproducing', 1076: 'during', 1077: 'viruses', 1078: 'born', 1079: 'artisitc', 1080: 'surprising', 1081: 'received', 1082: 'award', 1083: 'recently', 1084: 'decreased', 1085: 'great', 1086: 'extent', 1087: 'taking', 1088: 'vitamin-C', 1089: 'wide', 1090: '30', 1091: 'feet', 1092: 'Here', 1093: 'Janushirasana', 1094: 'presented', 1095: 'stretching', 1096: 'legs', 1097: 'print', 1098: 'visible', 1099: 'civilization', 1100: 'route', 1101: 'Pasupathinath', 1102: 'hand', 1103: 'sweaters', 1104: 'ets', 1105: 'Napelese', 1106: 'artisans', 1107: 'Adopt', 1108: 'healthy', 1109: 'lifestyle', 1110: 'IN', 1111: 'Emanuel', 1112: '20', 1113: 'constructed', 1114: 'That', 1115: 'eat', 1116: 'bilberry', 1117: 'blackberry', 1118: 'fruit', 1119: 'salad', 1120: 'Nasik', 1121: 'bank', 1122: 'Godavari', 1123: 'Its', 1124: 'witness', 1125: 'identifies', 1126: 'disease-carrier', 1127: 'external', 1128: 'invaders', 1129: 'virus', 1130: 'bacteria', 1131: 'kills', 1132: 'Popular', 1133: 'gujarati', 1134: 'cultural', 1135: 'values', 1136: 'abundance', 1137: 'shopping', 1138: 'shine', 1139: 'colorful', 1140: 'events', 1141: 'Makar', 1142: 'Sakranti', 1143: 'Navaratri', 1144: 'favorite', 1145: 'vegetable', 1146: 'meal', 1147: 'enough', 1148: 'Inside', 1149: 'sides', 1150: 'Godesses', 1151: 'crowd', 1152: 'successful', 1153: 'Add', 1154: 'Suptvajrasana', 1155: 'Trikonasana', 1156: 'Uttanpadasana', 1157: 'Gomukhasana', 1158: 'Ardhmatsyendrasana', 1159: 'Pantheon', 1160: ':', 1161: 'wondoreous', 1162: '27', 1163: 'Devoted', 1164: 'ruler', 1165: 'Victor', 1166: 'Emanual', 1167: 'II', 1168: 'unparalalled', 1169: 'monument', 1170: 'white', 1171: 'marbel', 1172: 'began', 1173: '1885', 1174: 'completed', 1175: '1911', 1176: 'At', 1177: 'audio', 1178: 'learner', 1179: 'listening', 1180: '1986', 1181: '2002', 1182: 'become', 1183: 'forty', 1184: 'five', 1185: 'lacs', 1186: 'St', 1187: 'Peter', 1188: 'Saint', 1189: 'Square', 1190: '1926', 1191: 'onwards', 1192: 'given', 1193: 'status', 1194: 'independent', 1195: 'fit', 1196: 'racks', 1197: 'above', 1198: 'Taking', 1199: 'vitamin-A', 1200: 'helpful', 1201: 'keeping', 1202: 'Yoganidra', 1203: 'cause', 1204: 'mental', 1205: 'sentimental', 1206: 'imbalance', 1207: 'Theere', 1208: 'forum', 1209: 'drinking', 1210: 'drugs', 1211: 'feast', 1212: 'foreign', 1213: 'guest', 1214: 'felt', 1215: 'fantastic', 1216: 'holiday', 1217: 'sure', 1218: 'major', 1219: 'destination', 1220: 'Shirdi', 1221: 'Sai', 1222: 'Baba', 1223: 'unprotected', 1224: 'reaching', 1225: 'entertainments', 1226: 'ride', 1227: 'underwater', 1228: 'lunch', 1229: 'my', 1230: 'ears', 1231: 'words', 1232: 'Meena', 1233: 'echo', 1234: 'Saahiba', 1235: 'befor', 1236: 'ethis', 1237: 'think', 1238: 'thisin', 1239: 'snacks', 1240: 'everything', 1241: 'included', 1242: 'regular', 1243: 'losing', 1244: 'memory', 1245: 'Vadodra', 1246: 'drive', 1247: 'expressway', 1248: 'highway', 1249: 'Baroda', 1250: 'cosmopolitan', 1251: 'tradition', 1252: 'Today', 1253: 'sufficient', 1254: 'remove', 1255: 'key', 1256: 'forget', 1257: 'symbol', 1258: 'Colloseum', 1259: 'Body-brain', 1260: 'happy', 1261: 'Mind', 1262: 'comfort', 1263: 'Students', 1264: 'senior', 1265: 'ministry', 1266: 'kids', 1267: 'discount', 1268: 'Besides', 1269: 'milk', 1270: 'carrot', 1271: 'beneficial', 1272: 'binding', 1273: 'mauli', 1274: 'wrist', 1275: 'mantra', 1276: 'mangalachar', 1277: 'chanted', 1278: 'thenn', 1279: 'passanger', 1280: 'wait', 1281: 'reclining', 1282: 'Paulin', 1283: 'sister', 1284: 'Napolean', 1285: 'married', 1286: 'Borgis', 1287: 'able', 1288: 'continously', 1289: 'allured', 1290: 'Which', 1291: 'convenient', 1292: '?', 1293: 'Both', 1294: 'industrial', 1295: 'area', 1296: 'named', 1297: 'Vakaad', 1298: 'Bengaluru', 1299: 'Thee', 1300: 'changing', 1301: 'responsibility', 1302: 'education', 1303: 'center', 1304: 'Manager', 1305: 'fixed', 1306: 'morning', 1307: 'worldwide', 1308: 'monuments', 1309: 'Hundreds', 1310: 'creatures', 1311: 'microscope', 1312: 'mood', 1313: 'weather', 1314: 'clean', 1315: 'uptill', 1316: 'destroy', 1317: 'homocysteine', 1318: 'nerves', 1319: 'Entertainment', 1320: 'along', 1321: 'everytime', 1322: 'Early', 1323: 'had', 1324: 'Holland', 1325: 'sitting', 1326: 'deep', 1327: 'meditation', 1328: 'controlled', 1329: 'yoga', 1330: 'December', 1331: 'begun', 1332: 'Cochhi', 1333: 'Colombo', 1334: 'neither', 1335: 'nation', 1336: 'nor', 1337: 'outside', 1338: 'Rajasthan', 1339: 'near', 1340: 'sunset', 1341: 'di', 1342: 'Spagna', 1343: 'meet', 1344: 'each', 1345: 'evenings', 1346: 'Ancient', 1347: 'settled', 1348: 'hills', 1349: 'restaurant', 1350: 'Buffet', 1351: 'Junction', 1352: 'Fatehganj', 1353: 'joy', 1354: 'filling', 1355: 'Eat', 1356: 'digestible', 1357: 'bread', 1358: 'braned', 1359: 'flour', 1360: 'rice', 1361: 'porridge', 1362: 'pulse', 1363: 'lentil', 1364: 'carving', 1365: 'victory', 1366: 'signs', 1367: 'greenery', 1368: 'estates', 1369: 'commuting', 1370: 'heard', 1371: 'packages', 1372: 'organized', 1373: 'tribal', 1374: 'Staying', 1375: 'position', 1376: 'previous', 1377: 'pictures', 1378: 'plenty', 1379: 'health', 1380: 'destroys', 1381: 'Sahiba', 1382: 'know', 1383: 'cashew', 1384: 'nut', 1385: 'raisins', 1386: 'besides', 1387: 'staying', 1388: 'Therefore', 1389: 'medicines', 1390: 'exercises', 1391: 'almost', 1392: '300', 1393: 'buildings', 1394: 'points', 1395: 'attempt', 1396: 'explore', 1397: 'cinsiderable', 1398: 'effect', 1399: 'nature', 1400: 'Is', 1401: 'Everybody', 1402: 'his', 1403: 'anything', 1404: 'everybody', 1405: 'grams', 1406: 'form', 1407: 'opening', 1408: 'big', 1409: 'personas', 1410: 'abroad', 1411: 'lessened', 1412: 'contractions', 1413: 'catch', 1414: 'unknown', 1415: 'soldiers', 1416: 'martyered', 1417: 'World', 1418: 'War', 1419: 'burried', 1420: 'Bilberry', 1421: 'anthocyanin', 1422: 'yogic', 1423: 'diagnosis', 1424: 'paralysis', 1425: 'chairperson', 1426: 'Department', 1427: 'Ophthalmology', 1428: 'Liverpool', 1429: 'University', 1430: 'Dr', 1431: 'Ian', 1432: 'Greerson', 1433: 'says', 1434: 'Surat', 1435: 'diamond', 1436: 'jewels', 1437: 'local', 1438: 'objects', 1439: 'let', 1440: 'how', 1441: 'See', 1442: 'bumps', 1443: 'reading', 1444: 'Read', 1445: 'attentively', 1446: 'whatever', 1447: 'eight', 1448: 'seconds', 1449: 'Changing', 1450: 'clothes', 1451: 'closed', 1452: 'learning', 1453: 'game', 1454: 'believed', 1455: 'doing', 1456: 'desire', 1457: 'fulfilled', 1458: 'interference', 1459: 'technology', 1460: 'day-to-day', 1461: 'missing', 1462: 'lose', 1463: 'oppurtunity', 1464: 'coming', 1465: 'art', 1466: 'Fever', 1467: 'down', 1468: 'diarrhoea', 1469: 'stop', 1470: 'weight', 1471: 'Apply', 1472: 'oil', 1473: 'nostrils', 1474: 'nose', 1475: 'Places', 1476: 'Ramayan', 1477: 'Panchvati', 1478: 'Sita', 1479: 'cave', 1480: 'Ramkund', 1481: 'mine', 1482: 'thrilling', 1483: 'Spectacles', 1484: 'tested', 1485: '6', 1486: 'weeks', 1487: 'Trimbkeshwar', 1488: 'Vipashyana', 1489: 'Nandur', 1490: 'Madhmeshwar', 1491: 'bird', 1492: 'sanctuary', 1493: 'connected', 1494: 'must', 1495: 'eggs', 1496: 'means', 1497: 'fair', 1498: '18', 1499: 'Tiber', 1500: 'pilgrimage', 1501: 'followers', 1502: 'Roman', 1503: 'Catholic', 1504: 'religion', 1505: 'residence', 1506: 'Pope', 1507: 'Yes', 1508: 'giving', 1509: 'expense', 1510: 'demand', 1511: 'patience', 1512: 'out', 1513: 'Tuberculosis', 1514: 'encircle', 1515: 'moving', 1516: 'ahead', 1517: 'downwards', 1518: 'Gangamaya', 1519: 'sorrounded', 1520: 'Remembering', 1521: 'chart', 1522: 'prove', 1523: 'capturing', 1524: 'corner', 1525: 'bag', 1526: 'second', 1527: 'He', 1528: 'moulded', 1529: 'Emergence', 1530: 'frequent', 1531: 'freckles', 1532: 'parks', 1533: 'Maharaja', 1534: 'Sayaji', 1535: 'Rao', 1536: 'Details', 1537: 'Since', 1538: 'sixth', 1539: 'residential', 1540: 'supreme', 1541: 'leader', 1542: 'catholic', 1543: 'Narishodhan', 1544: 'ujjayi', 1545: 'pranayam', 1546: 'play', 1547: 'role', 1548: 'panacea', 1549: 'make', 1550: 'central', 1551: 'nervous', 1552: 'functional', 1553: 'balance', 1554: 'function', 1555: 'something', 1556: 'watching', 1557: 'Whether', 1558: 'dropping', 1559: 'skin', 1560: 'advice', 1561: 'cases', 1562: 'Identify', 1563: 'Under', 1564: 'Nation', 1565: 'blind', 1566: 'affected', 1567: 'benefited', 1568: 'operated', 1569: 'eye-surgeon', 1570: 'maintained', 1571: 'Common', 1572: 'causing', 1573: 'prevented', 1574: 'amount', 1575: 'omega-3', 1576: 'oils', 1577: 'plants', 1578: 'Shaniwar', 1579: 'Vadaa', 1580: 'Osho', 1581: 'God', 1582: 'Rajneesh', 1583: 'stayed', 1584: 'rulers', 1585: 'lot', 1586: 'disturbing', 1587: 'book', 1588: 'spots', 1589: 'Sabarmati', 1590: 'Ashram', 1591: 'Science', 1592: 'Akshardham', 1593: 'replica', 1594: 'Vaishno', 1595: 'devi', 1596: 'increase', 1597: 'flow', 1598: 'activeness', 1599: 'Rules', 1600: 'strict', 1601: 'regarding', 1602: 'baggage', 1603: 'leave', 1604: 'stuff', 1605: 'officials', 1606: 'Treva', 1607: 'Lodging', 1608: 'alo', 1609: 'Community', 1610: 'Service', 1611: 'Centre', 1612: 'unaffected', 1613: 'soon', 1614: 'monastery', 1615: \"n't\", 1616: 'did', 1617: 'mass', 1618: 'cloud', 1619: 'begin', 1620: 'shower', 1621: 'Lakshman', 1622: 'spent', 1623: 'exile', 1624: 'history', 1625: 'introduces', 1626: 'nearby', 1627: 'areas', 1628: 'Plan', 1629: 'shop', 1630: 'strolling', 1631: 'mallroad', 1632: 'overcome', 1633: 'surely', 1634: 'surprise', 1635: 'light', 1636: 'scene', 1637: 'expanded', 1638: 'screen', 1639: 'television', 1640: 'clearer', 1641: 'Tension', 1642: 'dignified', 1643: 'Europe', 1644: 'practiced', 1645: 'lying', 1646: 'confluence', 1647: 'business', 1648: 'tower', 1649: 'identity', 1650: 'division', 1651: 'blood-circulation', 1652: 'Eating', 1653: 'germinated', 1654: 'grains', 1655: 'regard', 1656: 'affect', 1657: 'advantages', 1658: 'loose', 1659: 'motion', 1660: 'solution', 1661: 'non-vegetarian', 1662: 'cleaning', 1663: 'everyone', 1664: 'asked', 1665: 'thinking', 1666: 'provide', 1667: 'Fifty', 1668: 'staff', 1669: 'usually', 1670: 'understood', 1671: 'over', 1672: 'spending', 1673: 'Generally', 1674: 'pap', 1675: 'developing', 1676: 'girls', 1677: 'hair', 1678: 'remain', 1679: 'sharpen', 1680: 'Saw', 1681: 'farmers', 1682: 'farming', 1683: 'Suddenly', 1684: 'non', 1685: 'violence', 1686: 'movement', 1687: 'Mahatma', 1688: 'Gandhi', 1689: 'Journey', 1690: 'Dandi', 1691: 'matter', 1692: 'she', 1693: 'herself', 1694: 'Shabana', 1695: 'Azmi', 1696: 'me', 1697: 'Join', 1698: 'travel', 1699: 'toilet', 1700: 'frequently', 1701: 'distrubed', 1702: 'window', 1703: 'May', 1704: 'visual', 1705: 'read', 1706: 'aloud', 1707: 'year', 1708: 'rain', 1709: 'Bag', 1710: 'bidding', 1711: 'farewell', 1712: 'bid', 1713: 'jaggery', 1714: 'curd', 1715: 'Discrimination', 1716: 'unjust', 1717: 'indicator', 1718: 'unawareness', 1719: 'full', 1720: 'assisted', 1721: 'member', 1722: 'said', 1723: 'nothing', 1724: 'placed', 1725: 'low', 1726: 'Huge', 1727: 'shops', 1728: 'rendering', 1729: 'fights', 1730: 'fencers', 1731: 'continue', 1732: 'fighters', 1733: 'die', 1734: 'easy', 1735: 'public', 1736: 'centres', 1737: 'strength', 1738: 'humans', 1739: 'extract', 1740: 'appendix', 1741: 'case', 1742: 'solves', 1743: 'permanently', 1744: 'tough', 1745: 'oppose', 1746: 'Indian', 1747: 'cuisines', 1748: 'continuing', 1749: 'centuries', 1750: 'Situated', 1751: 'behind', 1752: 'Himalaya', 1753: 'Mall', 1754: 'ambience', 1755: 'ultra', 1756: 'modern', 1757: 'air', 1758: 'conditioned', 1759: 'romms', 1760: 'yours', 1761: 'memorable', 1762: 'Lui', 1763: 'postponed', 1764: 'services', 1765: 'hope', 1766: 'resuming', 1767: 'October', 1768: 'wobderful', 1769: 'hill', 1770: 'height', 1771: 'laced', 1772: 'Though', 1773: 'mobile', 1774: 'phone', 1775: 'internet', 1776: 'generally', 1777: 'functionalism', 1778: 'dynamism', 1779: 'muscles', 1780: 'end', 1781: 'coloseum', 1782: 'Galdiaters', 1783: 'mean', 1784: 'display', 1785: 'performance', 1786: 'Key', 1787: 'revolutionary', 1788: 'invention', 1789: 'field', 1790: 'onikomysis', 1791: 'unboiled', 1792: 'needle', 1793: 'remembring', 1794: 'always', 1795: 'Kolkata', 1796: 'roam', 1797: 'coolness', 1798: 'siligudi', 1799: 'tied', 1800: 'Sudden', 1801: 'ones', 1802: 'holidays', 1803: 'visited', 1804: 'ghosts', 1805: 'Why', 1806: 'far', 1807: 'Jaipurites', 1808: 'perhaps', 1809: 'lack', 1810: 'European', 1811: 'industry', 1812: 'Establish', 1813: 'familiarity', 1814: 'driver', 1815: 'conductor', 1816: 'pure', 1817: 'lens', 1818: 'capsule', 1819: 'dim', 1820: 'milky', 1821: 'Adopting', 1822: 'methods', 1823: 'switching', 1824: 'electricity', 1825: 'instead', 1826: 'open', 1827: 'windows', 1828: 'anyone', 1829: 'bother', 1830: 'piece', 1831: 'secret', 1832: 'just', 1833: 'click', 1834: 'away', 1835: 'discrimination', 1836: 'equal', 1837: 'doctor', 1838: 'Themost', 1839: 'lighting', 1840: 'falling', 1841: 'ill', 1842: 'continuously', 1843: 'goes', 1844: 'gall', 1845: 'bladder', 1846: 'stone', 1847: 'emerged', 1848: 'My', 1849: 'host', 1850: 'decorator', 1851: 'uttered', 1852: 'nobody', 1853: 'calls', 1854: 'English', 1855: 'address', 1856: 'thus', 1857: 'Some', 1858: 'learners', 1859: 'inguinal', 1860: 'faces', 1861: 'pain', 1862: 'cure', 1863: 'wearing', 1864: 'each-other', 1865: 'using', 1866: 'bathroom'}\n",
            "{0: 'गौरतलब', 1: 'है', 2: 'कि', 3: 'यह', 4: 'सड़क', 5: 'रोम', 6: 'का', 7: 'मुख्य', 8: 'मार्ग', 9: '।', 10: 'यहाँ', 11: 'भी', 12: 'जिंजर', 13: 'होटल', 14: 'खुल', 15: 'चुका', 16: 'नहाने', 17: 'के', 18: 'लिए', 19: 'गर्म', 20: 'जल', 21: 'प्रयोग', 22: 'करें', 23: 'बटन', 24: 'होल', 25: 'सर्जरी', 26: 'में', 27: 'पेट', 28: 'भीतरी', 29: 'अवयवों', 30: 'को', 31: 'चोट', 32: 'लगने', 33: 'की', 34: 'संभावना', 35: 'काफी', 36: 'कम', 37: 'होती', 38: 'इस', 39: 'अलावा', 40: 'छाती', 41: 'भीतर', 42: 'कुछ', 43: 'विकारों', 44: 'विधि', 45: 'से', 46: 'दूर', 47: 'किया', 48: 'जा', 49: 'सकता', 50: 'तो', 51: 'भला', 52: ',', 53: 'आँखों', 54: 'क्यों', 55: 'इन्हें', 56: 'छोड़ा', 57: 'जाए', 58: 'यहीं', 59: 'शहर', 60: 'तमाम', 61: 'समाजिक', 62: 'धार्मिक', 63: 'आर्थिक', 64: 'राजनैतिक', 65: 'वगैरह', 66: 'गतिविधियाँ', 67: 'हुआ', 68: 'करती', 69: 'थीं', 70: '``', 71: 'जिला', 72: 'अन्धता', 73: 'निवारण', 74: 'समितियों', 75: 'द्वारा', 76: 'व्यापक', 77: 'प्रचार', 78: 'प्रसार', 79: 'कर', 80: 'सरकारी', 81: 'गैरसरकारी', 82: 'निजी', 83: 'एवं', 84: 'स्वैच्छिक', 85: 'संस्थाओं', 86: 'माध्यम', 87: 'शिविर', 88: 'लगाये', 89: 'जाते', 90: 'हैं', 91: 'और', 92: 'क्या', 93: 'चाहिए', 94: 'साथ', 95: 'ही', 96: 'जहाँ', 97: 'पुरानी', 98: 'टूरिस्ट', 99: 'साइट्स', 100: 'मौजूद', 101: 'आपको', 102: 'बस', 103: 'लेनी', 104: 'वहाँ', 105: 'समय', 106: 'एक', 107: 'घंटा', 108: 'पहले', 109: 'पहुँच', 110: 'जाएँ', 111: 'इसका', 112: 'निर्माण', 113: 'उन्नीस', 114: 'सौ', 115: 'बीस', 116: 'था', 117: 'सी', 118: 'क्रूज', 119: 'फायदेमंद', 120: 'साबित', 121: 'होते', 122: 'जैसे', 123: 'आप', 124: 'अंदर', 125: 'आते', 126: 'जिस', 127: 'तरह', 128: 'आपका', 129: 'स्वागत', 130: 'जाता', 131: 'उससे', 132: 'लग', 133: 'दिव्य', 134: 'शांति', 135: 'पर', 136: 'ध्यान', 137: 'दिया', 138: 'गया', 139: 'गोवा', 140: 'राजधानी', 141: 'पंजिम', 142: 'स्थित', 143: 'पश्\\u200dचिमी', 144: 'तट', 145: 'यात्रा', 146: 'उत्कृष्\\u200dट', 147: 'बनाता', 148: 'चट्\\u200dटानों', 149: 'बीच', 150: 'झरनों', 151: 'माया', 152: 'देखते', 153: 'बनती', 154: 'लैपरोस्कोपिक', 155: 'सामान्य', 156: 'चिकित्सा', 157: 'मुकाबले', 158: 'दोगुना', 159: 'लगता', 160: 'वैसे', 161: 'बहुत', 162: 'सारे', 163: 'बाग-बगीचे', 164: 'लेकिन', 165: 'विला', 166: 'बोर्गीस', 167: 'बेमिसाल', 168: 'टाँके', 169: 'नहीं', 170: 'लगे', 171: 'होने', 172: 'वजह', 173: 'अस्पताल', 174: 'ज्यादा', 175: 'दिन', 176: 'रहने', 177: 'जरूरत', 178: 'पड़ती', 179: 'दाएँ', 180: 'पैर', 181: 'घुटने', 182: 'मोड़कर', 183: 'इसके', 184: 'तलवे', 185: 'बाएँ', 186: 'जंघा', 187: 'सटा', 188: 'दें', 189: 'तथा', 190: 'एड़ी', 191: 'जननेंद्रिय', 192: 'नीचे', 193: 'रखें', 194: 'अच्छी', 195: 'नींद', 196: 'लेने', 197: 'दिमाग', 198: 'तरोताजा', 199: 'रहता', 200: 'भारी', 201: 'गरिष्ठ', 202: 'चाय', 203: 'तंबाकू', 204: 'नशीले', 205: 'पदार्थ', 206: 'व', 207: 'उत्तेजक', 208: 'पदार्थों', 209: 'परहेज', 210: 'ऐसे', 211: 'रासायन', 212: 'स्रावित', 213: 'जो', 214: 'कोशिकाओं', 215: 'बचाएंगे', 216: 'उसके', 217: 'बाद', 218: 'जैसे-जैसे', 219: 'स्थिति', 220: 'सुधरती', 221: 'अभ्यास', 222: 'पवनमुक्तासन', 223: 'वज्रासन', 224: 'शशांकासन', 225: 'मकरासन', 226: 'आदि', 227: 'जोड़', 228: 'लें', 229: 'हुए', 230: 'गुजरात', 231: 'तक', 232: 'पुणे', 233: 'पेशवाकालीन', 234: 'भव्यता', 235: 'अहमदाबाद', 236: 'साबरमती', 237: 'आश्रम', 238: 'मुक्\\u200dति', 239: 'आंदोलन', 240: 'सुनहरे', 241: 'ऐतिहासिक', 242: 'साक्ष्यों', 243: 'अनूठा', 244: 'दर्शन', 245: 'मिलता', 246: 'मिरिक', 247: 'झील', 248: 'बोटिंग', 249: 'गार्डन', 250: 'अल्पविराम', 251: 'कैरी', 252: 'ऑन', 253: 'बैग्स', 254: 'सही', 255: 'रहते', 256: 'लेकर', 257: 'चलें', 258: 'साइटिका', 259: 'स्लिप', 260: 'डिस्क', 261: 'रोगी', 262: 'न', 263: 'मरीज', 264: 'निश्चेतक', 265: 'दवा', 266: 'देनी', 267: 'जिसके', 268: 'अपने', 269: 'नुकसान', 270: 'स्नान', 271: 'रोएँदार', 272: 'तौलिये', 273: 'शरीर', 274: 'ऊपर', 275: 'ओर', 276: 'रगडें', 277: 'जरूरी', 278: 'जानकारी', 279: 'उनसे', 280: 'मिल', 281: 'जाएगी', 282: 'मोतियाबिंद', 283: 'पीड़ित', 284: 'रोगियों', 285: 'पहचान', 286: 'करके', 287: 'चिकित्साधिकारी', 288: 'नेत्र', 289: 'सहायक', 290: 'चिकित्सालय', 291: 'क्षेत्र', 292: 'स्क्रीनिंग', 293: 'करते', 294: 'इनमें', 295: 'सबसे', 296: 'मशहूर', 297: 'फोरम', 298: 'रोमैनम', 299: 'जगह', 300: 'आज', 301: 'राजभवन', 302: 'मंदिरों', 303: 'स्तंभों', 304: 'अवशेष', 305: 'हायाटस', 306: 'हर्निया', 307: 'दुरुस्त', 308: 'करने', 309: 'विशाल', 310: 'अखाड़े', 311: '80', 312: 'ईस्वी', 313: '50', 314: 'हजार', 315: 'दर्शक', 316: 'बैठ', 317: 'सकते', 318: 'थे', 319: 'सिगरेट', 320: 'पीने', 321: 'मस्तिष्क', 322: 'आक्सीजन', 323: 'पहुँचाने', 324: 'वाली', 325: 'धमनियाँ', 326: 'सिकुड़ने', 327: 'लगती', 328: 'जिससे', 329: 'कमजोर', 330: 'सँकरी', 331: 'चलते', 332: 'हमने', 333: 'अजबगढ़', 334: 'किला', 335: 'देखा', 336: 'धीरे-धीरे', 337: 'सूरज', 338: 'रोशनी', 339: 'फैल', 340: 'रही', 341: 'थी', 342: 'तारीख', 343: 'देखें', 344: 'मालदीव', 345: 'दिल्ली', 346: 'सस्ता', 347: 'प्रति', 348: 'व्यक्\\u200dति', 349: 'वापसी', 350: 'किराया', 351: '28', 352: 'रुपये', 353: 'एड्स', 354: 'उस', 355: 'हालत', 356: 'कहते', 357: 'जिसमें', 358: 'बीमारियों', 359: 'लड़ने', 360: 'ताकत', 361: 'बिल्कुल', 362: 'या', 363: 'खत्म', 364: 'हो', 365: 'जाती', 366: 'ये', 367: 'संभावनाएँ', 368: 'नगण्य', 369: 'टिकट', 370: 'बेस्ट', 371: 'डील', 372: 'तलाश', 373: 'मुँह', 374: 'लगातार', 375: 'घाव', 376: 'छाले', 377: 'होना', 378: 'जितना', 379: 'इस्तेमाल', 380: 'करेंगे', 381: 'वह', 382: 'उतना', 383: 'तेज', 384: 'सक्षम', 385: 'बनेगा', 386: 'दृष्टिहीनता', 387: 'व्यापकता', 388: 'दर', 389: 'लिये', 390: 'भारत', 391: 'सरकार', 392: 'विभाग', 393: 'सम्बन्धित', 394: 'स्टॉफ', 395: 'विभिन्न', 396: 'स्तर', 397: 'प्रशिक्षण', 398: 'दूरबीन', 399: 'सहारे', 400: 'दार्जिलिंग', 401: 'पूरी', 402: 'पहाड़ी', 403: 'कोई', 404: 'बात', 405: 'तभी', 406: 'लंबे', 407: 'याद', 408: 'रहती', 409: 'जब', 410: 'ट्रडिशनल', 411: 'कुजीन', 412: 'सर्व', 413: 'छूने', 414: 'आपसी', 415: 'मेल-जोल', 416: 'फैलता', 417: '|', 418: 'सिर्फ', 419: 'सुरक्षित', 420: 'यौन', 421: 'संबंध', 422: 'बाग', 423: 'उन', 424: 'सात', 425: 'बागों', 426: 'बचा', 427: 'अकेला', 428: 'अलवर', 429: 'राजा', 430: 'शिकार', 431: 'पड़ाव', 432: 'एच.आई.वी.', 433: 'जी', 434: 'रहे', 435: 'लोगों', 436: 'उनके', 437: 'परिवार', 438: 'जनों', 439: 'सलाह', 440: 'परामर्श', 441: 'देना', 442: 'आवश्यक', 443: 'कारणों', 444: '55', 445: 'प्रतिशत', 446: 'दृष्टि', 447: 'दोष', 448: '19', 449: 'काला', 450: 'मोतिया', 451: '4', 452: 'कॉर्नियल', 453: 'पैथॉलाजी', 454: '7', 455: 'अन्य', 456: '15', 457: 'मसलन', 458: 'कैंसर', 459: '(', 460: ')', 461: 'लिवर', 462: 'बीमारियाँ', 463: 'आंत', 464: 'संबंधी', 465: 'रोग', 466: '’', 467: 'पिएजा', 468: 'वेनेजिया', 469: 'लुत्फ़', 470: 'उठाने', 471: 'यानी', 472: 'विया', 473: 'डेल', 474: 'कोर्सो', 475: 'जरूर', 476: 'लसिका', 477: 'ग्रन्थियों', 478: 'अधिक', 479: 'स्थान', 480: 'आकार', 481: 'बढ़ना', 482: 'दो', 483: 'पिम्परी', 484: 'वकाड', 485: 'बिनाRP_NEG\\\\', 486: 'कंभुक', 487: 'इनका', 488: 'योग्य', 489: 'मार्गदर्शन', 490: 'अपनी', 491: 'क्षमतानुसार', 492: 'कारण', 493: 'कुल', 494: 'अंधता', 495: 'लगभग', 496: 'बेशक', 497: 'ऐसा', 498: 'कई', 499: 'राज्यों', 500: 'होता', 501: 'खासी', 502: 'दिलचस्पी', 503: 'दिखाते', 504: 'अर्थ', 505: 'ह्यूमन', 506: 'इम्यूनो-डेफिशिएंशी', 507: 'वायरस', 508: 'बिजी', 509: 'सीजन', 510: 'दौरान', 511: 'खास', 512: 'ख्याल', 513: 'अनेक', 514: 'लक्षण', 515: 'दिखलाई', 516: 'पड़ने', 517: 'लगते', 518: 'आभास', 519: 'देते', 520: 'अगर', 521: 'वॉशरूम', 522: 'सुविधा', 523: 'सीट', 524: 'चूज', 525: 'क्योंकि', 526: 'थोड़ी', 527: 'देर', 528: 'बैठना', 529: 'मुश्\\u200dकिल', 530: 'उसे', 531: 'निमोनिया', 532: 'शिराओं', 533: 'खून', 534: 'थक्के', 535: 'जमने', 536: 'जैसी', 537: 'लताओं', 538: 'सामना', 539: 'करना', 540: 'पड़', 541: 'जेकी', 542: 'ग्रामीण', 543: 'जीवन', 544: 'ऐसी', 545: 'झलक', 546: 'अनुभव', 547: 'नजर', 548: 'बनी', 549: 'आहार', 550: 'हरी', 551: 'सब्जियाँ', 552: 'शामिल', 553: 'सैर', 554: 'ट्\\u200dवाय', 555: 'ट्रेनें', 556: 'सफर', 557: 'चार', 558: 'चाँद', 559: 'लगा', 560: 'देती', 561: 'ऑपरेशन', 562: 'गुणवत्ता', 563: 'विशेष', 564: 'रहा', 565: 'सभी', 566: 'चिकित्सालयों', 567: 'बेस', 568: 'माइक्रोस्कोपिक', 569: 'सेन्टर', 570: 'परिवर्तित', 571: 'बहुरंगी', 572: 'संस्कृति', 573: 'समृद्ध', 574: 'विरासत', 575: 'भूमि', 576: 'छूत', 577: 'दरअसल', 578: 'टूर', 579: 'मकसद', 580: 'पर्यटकों', 581: 'रहन', 582: '-', 583: 'सहन', 584: 'तरीके', 585: 'परंपराओं', 586: 'रूबरू', 587: 'करवाना', 588: 'मछली', 589: 'अखरोट', 590: 'बादाम', 591: 'खाने', 592: 'टमाटर', 593: 'ग्रीन-टी', 594: 'ब्रोकली', 595: 'शकरकंद', 596: 'विटामिन-ई', 597: 'एंटीआक्सीडेंट', 598: 'पाए', 599: 'निर्मित', 600: 'मूर्तियाँ', 601: 'अद्वितीय', 602: 'इतनी', 603: 'सजीव', 604: 'मानो', 605: 'अभी', 606: 'बोल', 607: 'पड़ेंगी', 608: 'दोनों', 609: 'हाथों', 610: 'पंजे', 611: 'पास', 612: 'ले', 613: 'आगे', 614: 'इतना', 615: 'झुकें', 616: 'सिर', 617: 'जमीन', 618: 'स्पर्श', 619: 'करे', 620: 'प्रतिरक्षण', 621: 'प्रणाली', 622: 'हमारे', 623: 'व्यवस्थाओं', 624: 'तंत्र', 625: 'संक्रमण', 626: 'हमारी', 627: 'रक्षा', 628: 'करता', 629: 'विटामिन', 630: 'ई', 631: 'प्रचुर', 632: 'मात्रा', 633: 'पाया', 634: 'केवल', 635: 'प्रकार', 636: 'अंधेपन', 637: 'रोगों', 638: 'बचाने', 639: 'पराबैंगनी', 640: 'किरणों', 641: 'अमेरिकी', 642: 'नेशनल', 643: 'आई', 644: 'इंस्टीट्यूट', 645: '6', 646: 'साल', 647: 'अध्ययन', 648: 'तत्व', 649: 'बुजुर्गों', 650: 'बचाते', 651: 'सड़कों', 652: 'साइक्लिंग', 653: 'रीवर', 654: 'ठंडी', 655: 'समुद्री', 656: 'हवाओं', 657: 'विश्\\u200dवप्रसिद्ध', 658: 'गोवन', 659: 'व्यंजनों', 660: 'भरपूर', 661: 'आनंद', 662: 'उठाते', 663: 'आरामदायक', 664: 'गुजारने', 665: 'विकल्प', 666: '601', 667: 'मंदिर', 668: 'चर्च', 669: 'बना', 670: 'लुई', 671: 'जहाज', 672: 'एमवी', 673: 'एक्वामैरिन', 674: '5850', 675: 'रात्रि', 676: 'तीन', 677: 'किसी', 678: 'रंग', 679: 'सुगंध', 680: 'स्वाद', 681: 'जोड़कर', 682: 'रखने', 683: 'आदत', 684: 'डालें', 685: 'पक्षाघात', 686: 'आधे', 687: 'संपूर्ण', 688: 'चेहरे', 689: 'यही', 690: 'ड्राय', 691: 'सिंड्रोम', 692: 'बचाता', 693: 'नई', 694: 'प्रयास', 695: 'संक्रमित', 696: 'व्यक्ति', 697: '10', 698: 'बिताते', 699: 'इससे', 700: 'सीडी-4', 701: 'कोशिकाएँ', 702: 'खंडित', 703: 'बड़े-बड़े', 704: 'हवाईजहाजों', 705: 'घूमते', 706: 'अचानक', 707: 'आपके', 708: 'सामने', 709: 'प्लेन', 710: 'खड़ा', 711: 'खिलौने', 712: 'सा', 713: 'लगेगा', 714: 'यदि', 715: 'माले', 716: 'रुकें', 717: 'फिर', 718: 'किराये', 719: 'असली', 720: 'खूबसूरती', 721: 'मजा', 722: 'आस-पास', 723: 'द्वीप', 724: 'जेब', 725: 'छोटी', 726: 'निवासी', 727: 'राम', 728: 'बाबू', 729: 'जयपुर', 730: 'काम', 731: 'अब', 732: 'अनूठे', 733: 'शाही', 734: 'अंदाज', 735: 'वाले', 736: 'अमन', 737: 'सच', 738: 'चैन', 739: 'सारी', 740: 'सुख', 741: 'सुविधाओं', 742: 'वालों', 743: 'सैरगाह', 744: 'मन', 745: 'चिंता', 746: 'दुख', 747: 'कष्ट', 748: 'शोक', 749: 'भय', 750: 'मुक्त', 751: 'सर्वश्रेष्ठ', 752: 'तकनीक', 753: 'शारीरिक', 754: 'स्वच्छता', 755: 'बड़े', 756: 'हों', 757: 'उम्र', 758: 'बच्चे', 759: 'बिलकुल', 760: 'फ्री', 761: 'जीप', 762: 'हम', 763: 'भानगढ़', 764: 'पहुँचे', 765: 'मिलियन', 766: 'डॉलर', 767: 'अनमोल', 768: 'पल', 769: 'पहाड़ियों', 770: 'घिरे', 771: 'सघन', 772: 'वृक्षों', 773: 'छाया', 774: 'पहली', 775: 'मोह', 776: 'लेती', 777: 'हमला', 778: 'प्रक्रिया', 779: 'बार', 780: 'दोहरायी', 781: 'कविता', 782: 'कोशिश', 783: 'अच्छा', 784: 'होगा', 785: 'बचाव', 786: 'टू', 787: 'वे', 788: 'बजाय', 789: 'राउंड', 790: 'ट्रिप', 791: 'बारे', 792: 'पता', 793: 'चौथी', 794: 'शताब्दी', 795: 'चारों', 796: 'दीवार', 797: 'सरवियल', 798: 'वॉल', 799: 'बनाई', 800: 'गई', 801: 'कंपनी', 802: 'इंश्योरेंस', 803: 'भरपाई', 804: 'नियम', 805: 'जान', 806: 'निम्न', 807: 'दुष्परिणाम', 808: 'इन्ही', 809: 'चीजों', 810: 'चालाकी', 811: 'छोटे', 812: 'छेद', 813: 'बने', 814: 'इन', 815: 'घावों', 816: 'पकने', 817: 'जाने', 818: 'गुंजाइश', 819: 'ब्रेन', 820: 'एक्सरसाइज', 821: 'इसी', 822: 'फंडे', 823: 'पैदल', 824: 'कलिम्पोंग', 825: 'लोकप्रिय', 826: 'पर्यटन', 827: 'स्थल', 828: 'लावा', 829: 'लोलेगाँव', 830: 'जंगलों', 831: 'परिपूर्ण', 832: 'यूँ', 833: 'जिले', 834: 'रूप', 835: 'अलग', 836: 'समस्या', 837: 'प्रमुख', 838: 'उच्च', 839: 'रक्तचाप', 840: 'रक्त', 841: 'थक्का', 842: 'बनना', 843: 'अत्यंत', 844: 'हर्ष', 845: 'विषाद', 846: 'शोध', 847: 'पोषक', 848: 'मजबूत', 849: 'बनाती', 850: 'माह', 851: 'खाँसी', 852: 'आना', 853: 'एडवांस', 854: 'खरीदना', 855: 'पड़ता', 856: 'इसलिए', 857: 'आखिरी', 858: 'पलों', 859: 'प्लान', 860: 'बढ़िया', 861: 'प्लानिंग', 862: 'थोड़ा', 863: 'रोज', 864: 'जरा', 865: 'हटके', 866: 'हर', 867: 'हिस्सा', 868: 'सक्रिय', 869: 'जिसका', 870: 'लाल', 871: 'कणिकाएँ', 872: 'बनाने', 873: 'मदद', 874: 'पहुँचाती', 875: 'गाड़ी', 876: 'उठकर', 877: 'बतासिया', 878: 'लूप', 879: 'शिक्षा', 880: 'सत्र', 881: 'आरम्भ', 882: '10-14', 883: 'वर्ष', 884: 'स्कूली', 885: 'छात्रों', 886: 'परीक्षण', 887: 'कार्यक्रम', 888: 'अभियान', 889: 'चलाया', 890: 'गरीब', 891: 'निशुल्क', 892: 'चश्में', 893: 'वितरित', 894: 'किये', 895: 'इटली', 896: 'दुनिया', 897: 'पुराने', 898: 'शहरों', 899: 'सभ्यताओं', 900: 'विकास', 901: 'आघात', 902: 'पहुँचाता', 903: 'जाना', 904: 'वहीं', 905: 'महाराष्\\u200dट्र', 906: 'सुंदर', 907: 'समुद्र-तटों', 908: 'घने', 909: 'किलों', 910: 'प्राचीन', 911: 'स्थलों', 912: 'विविधता', 913: 'ओत-प्रोत', 914: 'रूके', 915: 'वापस', 916: 'आ', 917: 'दफ्तर', 918: 'घर', 919: 'दोस्तों', 920: 'बर्ताव', 921: 'चाहिये', 922: 'आदतें', 923: 'डालकर', 924: 'रखा', 925: 'तनाव', 926: 'हार्मोन', 927: 'कोर्टिसाल', 928: 'हिप्पोकैंपस', 929: 'गंभीर', 930: 'चलकर', 931: 'क्षमता', 932: 'घातक', 933: 'असर', 934: 'डाल', 935: 'सकती', 936: 'इसमें', 937: 'ल्यूटिन', 938: 'जीजेनथिन', 939: 'अहम', 940: 'बनाए', 941: 'जिम्मेदार', 942: 'कहीं', 943: 'अपना', 944: 'सामान', 945: 'टर्मिनल', 946: 'छोड़ना', 947: 'पड़े', 948: 'एक्स्ट्रा', 949: 'फीस', 950: 'भरनी', 951: 'चढ़ने', 952: 'सीढ़ियों', 953: 'मूर्तिकार', 954: 'माइकल', 955: 'एंजलो', 956: 'ने', 957: '1536', 958: 'बनाया', 959: 'अस्पतालों', 960: 'इलाज', 961: 'जुर्म', 962: 'बीचोंबीच', 963: 'चौक', 964: 'विजय', 965: 'जैसा', 966: 'प्रसिद्ध', 967: 'स्तन', 968: 'मे', 969: 'गाँठ', 970: 'सूजन', 971: 'पाने', 972: 'दिनभर', 973: 'थकावट', 974: 'केन्द्रित', 975: 'मुश्किल', 976: 'कैपिटोलाइन', 977: 'घोड़े', 978: 'सवार', 979: 'सम्राट', 980: 'मार्कस', 981: 'ओरेलिअस', 982: 'पीतल', 983: 'मूर्ति', 984: 'जिन्होंने', 985: '160', 986: '180', 987: 'ई.', 988: 'शासन', 989: 'जल्दी', 990: 'पहुँचेंगे', 991: 'उतनी', 992: 'ऑप्शन', 993: 'होगी', 994: 'खट्टी', 995: 'सेवन', 996: 'बचें', 997: 'संग्रहालय', 998: 'बताया', 999: 'परेशान', 1000: 'महिलाएँ', 1001: 'हफ्ते', 1002: 'पाँच', 1003: 'ट्यूना', 1004: 'खाकर', 1005: 'तकलीफ', 1006: '68', 1007: 'फीसदी', 1008: 'रॉक', 1009: 'पत्थरों', 1010: 'साम्राज्य', 1011: 'झरने', 1012: 'शोभायमान', 1013: 'गंगा', 1014: 'मायावी', 1015: 'संसार', 1016: 'विभूषित', 1017: 'बावजूद', 1018: 'अकेले', 1019: 'घूमने', 1020: 'टूरिज्म', 1021: 'दिलचस्प', 1022: 'विषय', 1023: 'कभी', 1024: 'खींचती', 1025: 'पानी', 1026: 'रेल', 1027: 'गुलाबी', 1028: 'नगरी', 1029: 'उदयपुर', 1030: 'लेक', 1031: 'पैलेस', 1032: 'आकर्षण', 1033: 'फाउंटेंस', 1034: 'प्रतिदिन', 1035: 'दस', 1036: 'मिनट', 1037: 'अवश्य', 1038: 'बी', 1039: 'बी-12', 1040: 'बी-6', 1041: 'फोलिक', 1042: 'एसिड', 1043: 'युक्त', 1044: 'खाद्य', 1045: 'पालक', 1046: 'स्ट्राबैरी', 1047: 'तरबूज', 1048: 'खरबूज', 1049: 'रसीले', 1050: 'फल', 1051: 'सोयाबीन', 1052: 'याददाश्त', 1053: 'नाश्ते', 1054: 'मीठे', 1055: 'मेवे', 1056: 'कतरन', 1057: 'बुरक', 1058: 'खाना', 1059: 'शुरू', 1060: 'एच.आई.वी', 1061: 'चढ़ाने', 1062: 'बताते', 1063: 'मिलने', 1064: 'जुलने', 1065: 'जगहों', 1066: 'कहा', 1067: 'देखकर', 1068: 'अंदाजा', 1069: 'बखूबी', 1070: 'कलाकृतियों', 1071: 'रखते', 1072: 'मैं', 1073: 'हूँ', 1074: 'वो', 1075: 'साढ़े', 1076: 'तैयार', 1077: 'हुई', 1078: 'तैयारी', 1079: 'उसने', 1080: 'जंगल', 1081: 'मंगल', 1082: 'कार्यक्रमों', 1083: 'सहयोग', 1084: 'लिया', 1085: 'कॉम्प्लेक्स', 1086: 'म्यूजियम', 1087: 'पुराना', 1088: 'बुखार', 1089: 'माँ', 1090: 'भक्\\u200dतों', 1091: 'महसूस', 1092: 'मानों', 1093: 'उनकी', 1094: 'प्रार्थनाएँ', 1095: 'सीधे', 1096: 'देवताओं', 1097: 'घूम', 1098: 'धूम', 1099: 'ट्रेन', 1100: 'एच.आइ.वी.', 1101: 'मगर', 1102: 'पेप्टिक', 1103: 'अल्सर', 1104: 'बीमारी', 1105: 'मान्यता', 1106: 'दोबारा', 1107: 'चाहे', 1108: 'मनोकामना', 1109: 'सिक्का', 1110: 'फव्वारे', 1111: 'डालना', 1112: 'तब', 1113: 'वैटिकन', 1114: 'सिटी', 1115: 'देख', 1116: 'आपस', 1117: 'बल्कि', 1118: 'जंगली', 1119: 'जानवरों', 1120: 'मुकाबला', 1121: 'आलीशान', 1122: 'राजमहल', 1123: 'भव्य', 1124: 'खूबसूरत', 1125: 'गुंबज', 1126: 'म्यूजिम्स', 1127: 'वाला', 1128: 'सम्मोहित', 1129: 'जादू', 1130: 'रखता', 1131: 'गोपनीयता', 1132: 'बनाये', 1133: 'रखना', 1134: 'अनिवार्य', 1135: '1.4', 1136: '0.3', 1137: 'लाने', 1138: '1976', 1139: 'राष्ट्रीय', 1140: 'स्मारक', 1141: 'महशूर', 1142: 'शानदार', 1143: 'सब', 1144: 'हवेलियों', 1145: 'महलों', 1146: 'प्रेरित', 1147: 'ओमगा-3', 1148: 'फैट', 1149: 'ग्लूकोमा', 1150: 'बुढ़ापे', 1151: 'खतरा', 1152: 'क्रिया', 1153: 'दूसरी', 1154: 'तरफ', 1155: 'पड़ोसी', 1156: 'राज्य', 1157: 'विविध', 1158: 'क्रीड़ाओं', 1159: 'युक्\\u200dत', 1160: 'स्वर्ग', 1161: 'सरीखा', 1162: 'गिरजाघरों', 1163: 'युग', 1164: 'सहज', 1165: 'शल्यक्रिया', 1166: 'पश्\\u200dचात', 1167: 'करीब', 1168: 'सप्ताह', 1169: 'बिस्तर', 1170: 'घुसकर', 1171: 'प्रजनन', 1172: 'जरिए', 1173: 'संख्या', 1174: 'बड़ी', 1175: 'तेजी', 1176: 'बढ़ाता', 1177: 'कोशिका', 1178: 'नये', 1179: 'पैदा', 1180: 'नया', 1181: 'कलात्मक', 1182: '!', 1183: 'आश्\\u200dचर्य', 1184: 'हाल', 1185: 'पुरस्कार', 1186: 'मिला', 1187: 'विटामिन-सी', 1188: 'हद', 1189: 'मध्य', 1190: '30', 1191: 'फुट', 1192: 'खुला', 1193: 'जानुशिरासन', 1194: 'प्रस्तुत', 1195: 'पैरों', 1196: 'फैलाकर', 1197: 'इसकी', 1198: 'छाप', 1199: 'वेस्टर्न', 1200: 'सिविलाइजेशन', 1201: 'आती', 1202: 'रूट', 1203: 'पर्यटक', 1204: 'पशुपतिनाथ', 1205: 'बाजार', 1206: 'नेपाली', 1207: 'कारीगरों', 1208: 'हस्त', 1209: 'स्वेटर', 1210: 'मिलते', 1211: 'पौष्टिक', 1212: 'भोजन', 1213: 'स्वस्थ', 1214: 'शैली', 1215: 'अपनाएँ', 1216: 'इमेनुएल', 1217: 'जिसे', 1218: '20', 1219: 'फ्रूट', 1220: 'सलाद', 1221: 'बिलबैरी', 1222: 'ब्लैकबैरी', 1223: 'खा', 1224: 'गोदावरी', 1225: 'नदी', 1226: 'किनारे', 1227: 'नासिक', 1228: 'महत्त्वपूर्ण', 1229: 'दिनों', 1230: 'साक्षी', 1231: 'सुरक्षा', 1232: 'रोगवाहकों', 1233: 'बाहरी', 1234: 'हमलावरों', 1235: 'बैक्टीरिया', 1236: 'उनका', 1237: 'खात्मा', 1238: 'गुजराती', 1239: 'संस्कार', 1240: 'शापिंग', 1241: 'विकल्पों', 1242: 'भरमार', 1243: 'मकर', 1244: 'संक्रांति', 1245: 'नवरात्रि', 1246: 'रंगीन', 1247: 'उत्सवों', 1248: 'चमक-दमक', 1249: 'इसे', 1250: 'मनपसंद', 1251: 'देवी', 1252: 'भीड़', 1253: 'सफल', 1254: 'रहेगी', 1255: 'सुधर', 1256: 'सुप्तवज्रासन', 1257: 'त्रिकोणासन', 1258: 'उत्तानपादासन', 1259: 'गोमुखासन', 1260: 'अर्धमत्स्येंद्रासन', 1261: 'पैथियॉन', 1262: ':-', 1263: 'अद्\\u200dभुत', 1264: '27', 1265: 'ईसा', 1266: 'पूर्व', 1267: 'शासक', 1268: 'विक्\\u200dटर', 1269: 'द्वितीय', 1270: 'समर्पित', 1271: 'सफेद', 1272: 'संगमरमर', 1273: 'इमारत', 1274: '1885', 1275: '1911', 1276: 'पूरा', 1277: 'लोग', 1278: 'बेहतर', 1279: 'आडियो', 1280: 'लर्नर', 1281: 'सुनकर', 1282: 'सीखते', 1283: '1986', 1284: 'सन', 1285: '2002', 1286: 'पैंतालीस', 1287: 'लाख', 1288: 'सेंट', 1289: 'पीटर', 1290: 'स्क्वेयर', 1291: 'हालाँकि', 1292: '1926', 1293: 'स्वतंत्र', 1294: 'दर्जा', 1295: 'दे', 1296: 'रैक', 1297: 'फिट', 1298: 'विटामिन-ए', 1299: 'लेना', 1300: 'मददगार', 1301: 'योगनिद्रा', 1302: 'मूल', 1303: 'मानसिक', 1304: 'भावनात्मक', 1305: 'असंतुलन', 1306: 'आसानी', 1307: 'धूम्रपान', 1308: 'मद्यपान', 1309: 'नशीली', 1310: 'दवाओं', 1311: 'विदेशी', 1312: 'मेहमान', 1313: 'दावत', 1314: 'पहुँची', 1315: 'छुट्\\u200dटी', 1316: 'बिताना', 1317: 'चाहते', 1318: 'उन्हें', 1319: 'शिरडी', 1320: 'साईं', 1321: 'बाबा', 1322: 'असुरक्षित', 1323: 'पहुँचकर', 1324: 'हिसाब', 1325: 'उपलब्ध', 1326: 'मनोरंजनों', 1327: 'गतिविधियों', 1328: 'राइड', 1329: 'अंडरवाटर', 1330: 'लंच', 1331: 'मेरे', 1332: 'कानों', 1333: 'गाइड', 1334: 'मीणा', 1335: 'शब्द', 1336: 'गूँजते', 1337: ';', 1338: 'साहिबा', 1339: 'सोच', 1340: 'रह', 1341: 'नाश्ता', 1342: 'नियमित', 1343: 'व्यायाम', 1344: 'मिलती', 1345: 'घट', 1346: 'एक्सप्रेस', 1347: 'हाइवे', 1348: 'अनूठी', 1349: 'ड्राइव', 1350: 'वडोदरा', 1351: 'बड़ौदा', 1352: 'परंपरा', 1353: 'कास्मोपोलिटन', 1354: 'छोटा', 1355: 'पर्याप्त', 1356: 'नाम', 1357: 'देखना', 1358: 'भूलें', 1359: 'प्रतीक', 1360: 'कॉलोसियम', 1361: 'तन', 1362: 'प्रसन्न', 1363: 'रहेंगे', 1364: 'चुनते', 1365: 'कंफर्ट', 1366: 'स्टूडेंट्स', 1367: 'मिलिट्री', 1368: 'सीनियर', 1369: 'बच्चों', 1370: 'डिस्काउंट', 1371: 'छूट', 1372: 'अरेंजमेंट', 1373: 'दूध', 1374: 'पीना', 1375: 'गाजर', 1376: 'कलाई', 1377: 'मौली', 1378: 'बांधने', 1379: 'मंगलाचार', 1380: 'मंत्र', 1381: 'उच्चारण', 1382: 'आए', 1383: 'आपकी', 1384: 'नए', 1385: 'यात्री', 1386: 'इंतजार', 1387: 'देखे', 1388: 'नैपोलियन', 1389: 'प्रथम', 1390: 'बहन', 1391: 'पॉलिन', 1392: 'जिनका', 1393: 'विवाह', 1394: 'राजपरिवार', 1395: 'पलंग', 1396: 'लेटी', 1397: 'एकटक', 1398: 'बिना', 1399: 'पाएँगे', 1400: 'खिंचे', 1401: 'चले', 1402: 'कौन', 1403: 'तरीका', 1404: 'सुविधाजनक', 1405: 'औद्योगिक', 1406: 'बंगलूरू', 1407: 'नामक', 1408: 'अत्याधुनिक', 1409: 'व्यवस्था', 1410: 'चेंज', 1411: 'जिम्मेदारी', 1412: 'शिक्षण', 1413: 'केंद्र', 1414: 'मैनेजर', 1415: 'सुबह', 1416: 'हमारा', 1417: 'तय', 1418: 'इमारतों', 1419: 'अवशेषों', 1420: 'भर', 1421: 'सैकड़ों', 1422: 'जीव', 1423: 'जिन्हें', 1424: 'माइक्रोस्कोप', 1425: 'मौसम', 1426: 'मिज़ाज', 1427: 'सुथरा', 1428: 'नसों', 1429: 'क्षति', 1430: 'होमोसिसटीन', 1431: 'नष्ट', 1432: 'वक्\\u200dत', 1433: 'मनोरंजन', 1434: 'सुबह-सुबह', 1435: 'मैंने', 1436: 'हॉलैंड', 1437: 'गहरे', 1438: 'बैठा', 1439: 'योग', 1440: 'काबू', 1441: 'लकवा', 1442: 'इनसे', 1443: 'दिसंबर', 1444: 'कोच्चि', 1445: 'कोलंबो', 1446: 'इकलौता', 1447: 'विदेश', 1448: 'राजस्थान', 1449: 'बाहर', 1450: 'शाम', 1451: 'ढले', 1452: 'चक्कर', 1453: 'लगाने', 1454: 'इरादा', 1455: 'पियात्सा', 1456: 'डी', 1457: 'स्पाग्ना', 1458: 'खूब', 1459: 'दूसरे', 1460: 'बसा', 1461: 'फतेहगंज', 1462: 'कैंप', 1463: 'रोड', 1464: 'रेस्टोरेंट', 1465: 'बफे', 1466: 'जंक्शन', 1467: 'स्वादिष्\\u200dट', 1468: 'ब्रेकफास्ट', 1469: 'सादा', 1470: 'सुपाच्य', 1471: 'खाएँ', 1472: 'चोकरयुक्त', 1473: 'आटे', 1474: 'रोटी', 1475: 'चावल', 1476: 'दलिया', 1477: 'मूंग', 1478: 'दाल', 1479: 'सब्जियों', 1480: 'नक्काशी', 1481: 'चिन्ह', 1482: 'दर्शनीय', 1483: 'बागानों', 1484: 'हरियाली', 1485: 'आवाजाही', 1486: 'सुना', 1487: 'ट्राइबल', 1488: 'लाइफ', 1489: 'दिखाने', 1490: 'पैकेज', 1491: 'रखे', 1492: 'अवधि', 1493: 'रखकर', 1494: 'आएँ', 1495: 'शब्दों', 1496: 'चित्र', 1497: 'सेहत', 1498: 'लाभकारी', 1499: 'विशेषकर', 1500: 'देता', 1501: 'जानते', 1502: 'काजू', 1503: 'किशमिश', 1504: 'औषधियों', 1505: '300', 1506: 'इमारतें', 1507: 'जिनमें', 1508: 'एंजॉय', 1509: 'बातों', 1510: 'खासतौर', 1511: 'डेस्टिनेशन', 1512: 'जगहें', 1513: 'एक्सप्लोर', 1514: 'डेवलमेंट', 1515: 'प्रकृति', 1516: 'जीवनशैली', 1517: 'पड़ा', 1518: 'उठने', 1519: 'बैठने', 1520: 'चीज', 1521: 'सीखने', 1522: 'खुलने', 1523: 'देश', 1524: 'दबोच', 1525: 'लेते', 1526: 'विश्\\u200dव', 1527: 'युद्ध', 1528: 'शहीद', 1529: 'अज्ञात', 1530: 'सैनिकों', 1531: 'दफनाया', 1532: 'एंथोसाइनिन', 1533: 'बचाती', 1534: 'हेतु', 1535: 'यौगिक', 1536: 'निदान', 1537: 'लिवरपूल', 1538: 'यूनिवर्सिटी', 1539: 'आप्थैमोलॉजी', 1540: 'अध्यक्ष', 1541: 'विख्यात', 1542: 'नेत्ररोग', 1543: 'शोधकर्ता', 1544: 'डॉ.', 1545: 'इयान', 1546: 'ग्रीयरसन', 1547: 'डायमंड', 1548: 'कैपिटल', 1549: 'ऑफ', 1550: 'वर्ल्ड', 1551: 'कहलाने', 1552: 'सूरत', 1553: 'जवाहरातों', 1554: 'स्थानीय', 1555: 'पारंपरिक', 1556: 'वस्तुओं', 1557: 'आइए', 1558: 'कैसा', 1559: 'कैसे', 1560: 'पिछली', 1561: 'झटके', 1562: 'लगेंगे', 1563: 'सीटों', 1564: 'पढ़ना', 1565: 'कंफर्टेबल', 1566: 'गौर', 1567: 'पढ़ें', 1568: 'बढ़ने', 1569: 'आठ', 1570: 'सेकेंड', 1571: 'आँखें', 1572: 'बंद', 1573: 'कपड़े', 1574: 'बदलना', 1575: 'खेल', 1576: 'सीखना', 1577: 'माना', 1578: 'ख्वाहिश', 1579: 'रोजमर्रा', 1580: 'जिंदगी', 1581: 'बढ़ते', 1582: 'दखल', 1583: 'हमें', 1584: 'बेहद', 1585: 'आरामतलब', 1586: 'मिस', 1587: 'बेहतरीन', 1588: 'मूर्तिकला', 1589: 'मौका', 1590: 'गवाँ', 1591: 'देंगे', 1592: 'डायरिया', 1593: 'रूकता', 1594: 'वजन', 1595: '?', 1596: 'नाक', 1597: 'नथुनों', 1598: 'सुबह-शाम', 1599: 'तेल', 1600: 'लगाएँ', 1601: 'पंचवटी', 1602: 'सीता', 1603: 'गुफा', 1604: 'रामकुंड', 1605: 'रामायणकालीन', 1606: 'सस्ती', 1607: 'मेरी', 1608: 'रोमांचक', 1609: 'जाँच', 1610: 'त्रयंबकेश्\\u200dवर', 1611: 'विपश्यना', 1612: 'सेंटर', 1613: 'नंदुर', 1614: 'माधमहेश्\\u200dवर', 1615: 'पक्षी', 1616: 'अभ्यारण्य', 1617: 'जुड़े', 1618: 'अंडे', 1619: '18', 1620: 'ताइबर', 1621: 'रोमन', 1622: 'कैथलिक', 1623: 'धर्म', 1624: 'अनुयायियों', 1625: 'तीर्थ', 1626: 'पोप', 1627: 'निवास', 1628: 'हाँ', 1629: 'खर्च', 1630: 'सुकून', 1631: 'ढेर', 1632: 'सारा', 1633: 'देने', 1634: 'आपसे', 1635: 'सब्र', 1636: 'डिमांड', 1637: 'टी.बी.', 1638: 'घेर', 1639: 'बढ़ने', 1640: 'घिरा', 1641: 'गंगामाया', 1642: 'चार्ट', 1643: 'संक्षिप्त', 1644: 'हथियाने', 1645: 'फिराक', 1646: 'कोने', 1647: 'बैग', 1648: 'रख', 1649: 'खुद', 1650: 'बोलने', 1651: 'चालने', 1652: 'ढाल', 1653: 'कराएँ', 1654: 'चकत्ते', 1655: 'फोड़े-फुंसी', 1656: 'पार्क', 1657: 'म्यूजियमों', 1658: 'ख्याति', 1659: 'प्राप्\\u200dत', 1660: 'महाराजा', 1661: 'सयाजी', 1662: 'राव', 1663: 'विश्\\u200dवविद्यालय', 1664: 'महत्वपूर्ण', 1665: 'लक्षणों', 1666: 'विवरण', 1667: 'छठी', 1668: 'कैथोलिक', 1669: 'सर्वोच्च', 1670: 'केन्द्रीय', 1671: 'तांत्रिक', 1672: 'क्रियाशीलता', 1673: 'तंत्रिका', 1674: 'क्रियाशील', 1675: 'संतुलित', 1676: 'नाड़ीशोधन', 1677: 'उज्जायी', 1678: 'प्राणायाम', 1679: 'रामबाण', 1680: 'भूमिका', 1681: 'निभाते', 1682: 'पढ़कर', 1683: 'घटाने', 1684: 'त्वचा', 1685: 'देखभाल', 1686: 'ताजे', 1687: 'मामलों', 1688: 'दी', 1689: 'पहचाने', 1690: 'उसी', 1691: 'अन्तर्गत', 1692: 'दृष्टिहीन', 1693: 'व्यक्तियों', 1694: 'ग्रसित', 1695: 'लाभान्वित', 1696: 'तत्पश्\\u200dचात', 1697: 'मरीजों', 1698: 'सुसज्जित', 1699: 'नेत्रशल्यक', 1700: 'ओमेगा-3', 1701: 'तेलों', 1702: 'पौधों', 1703: 'बढ़ाने', 1704: 'आमतौर', 1705: 'बनने', 1706: 'उधर', 1707: 'पेशवा', 1708: 'शासकों', 1709: 'महल', 1710: 'शनिवार', 1711: 'वडा', 1712: 'भगवान', 1713: 'रजनीश', 1714: 'ओशो', 1715: 'अधूरी', 1716: 'फेवरिट', 1717: 'बुक', 1718: 'डिस्टर्ब', 1719: 'साइंस', 1720: 'अक्षरधाम', 1721: 'वैष्णों', 1722: 'प्रतिकृति', 1723: 'भ्रमण', 1724: 'प्रवाह', 1725: 'बढ़ाते', 1726: 'सक्रियता', 1727: 'बढ़ती', 1728: 'बैगेज', 1729: 'खासे', 1730: 'कड़े', 1731: 'साइज', 1732: 'पूछताछ', 1733: 'छोड़ें', 1734: 'गुम', 1735: 'फव्वारा', 1736: 'त्रेवी', 1737: 'फांउंटेन', 1738: 'रुकना', 1739: 'सामुदायिक', 1740: 'सेवा', 1741: 'केन्द्र', 1742: 'अप्रभावित', 1743: 'ज्यों', 1744: 'मोनास्टरी', 1745: 'बढ़े', 1746: 'घटा', 1747: 'कहाँ', 1748: 'उपस्थित', 1749: 'झमकने', 1750: 'लगीं', 1751: 'लक्ष्मण', 1752: 'वनवास', 1753: 'व्यतीत', 1754: 'किए', 1755: 'इतिहास', 1756: 'परिचय', 1757: 'इलाके', 1758: 'कराता', 1759: 'मॉलरोड', 1760: 'टहलते', 1761: 'शॉपिंग', 1762: 'योजना', 1763: 'निश्\\u200dचित', 1764: 'प्राप्त', 1765: 'आश्\\u200dचर्यचकित', 1766: 'देगी', 1767: 'प्रारंभ', 1768: 'सूक्ष्म', 1769: 'करो', 1770: 'चूँकि', 1771: 'दृश्य', 1772: 'टीवी', 1773: 'पटल', 1774: 'विस्तारित', 1775: 'होकर', 1776: 'दिखता', 1777: 'प्रत्यक्ष', 1778: 'स्पष्ट', 1779: 'दिखाई', 1780: 'एकाग्रचित', 1781: 'यूरोप', 1782: 'गौरवशाली', 1783: 'लेट', 1784: 'व्यापार', 1785: 'कला', 1786: 'संगम', 1787: 'टॉवर', 1788: 'रक्त-प्रवाह', 1789: 'प्रवेश', 1790: 'ब्रोकोली', 1791: 'अंकुरित', 1792: 'अनाज', 1793: 'लिहाज', 1794: 'औषधि', 1795: 'फायदे', 1796: 'दस्त', 1797: 'शक्ति', 1798: 'धीरे', 1799: 'मांसाहारी', 1800: 'उपाय', 1801: 'सफाई', 1802: 'सोचने', 1803: 'वाकई', 1804: 'पचास', 1805: 'परसेंट', 1806: 'स्टाफ', 1807: 'हफ्तों', 1808: 'अलग-अलग', 1809: 'जाया', 1810: 'समझ', 1811: 'आया', 1812: 'आता', 1813: 'पैप', 1814: 'लड़कियों', 1815: 'बाल', 1816: 'सूखी', 1817: 'देखी', 1818: 'किसान', 1819: 'खेती', 1820: 'पहला', 1821: 'मुझे', 1822: 'इतने', 1823: 'हेरिटेज', 1824: 'अहिंसा', 1825: 'शुभारंभ', 1826: 'महात्मा', 1827: 'गांधी', 1828: 'दांडी', 1829: 'राह', 1830: 'भटक', 1831: 'गयी', 1832: 'रात', 1833: 'शबाना', 1834: 'आजमी', 1835: 'तहेदिल', 1836: 'बुलाया', 1837: 'सकी', 1838: 'खिलाफ़', 1839: 'महायात्रा', 1840: 'बार-बार', 1841: 'लू', 1842: 'पसंद', 1843: 'खिड़की', 1844: 'विजुअल', 1845: 'बारिश', 1846: 'तम्बाकू', 1847: 'अलविदा', 1848: 'कहने', 1849: 'पारम्परिक', 1850: 'गुड़', 1851: 'दही', 1852: 'खिला', 1853: 'उन्होंने', 1854: 'विदा', 1855: 'भेदभाव', 1856: 'नाइंसाफी', 1857: 'अनभिज्ञता', 1858: 'संकेत', 1859: 'सम्पूर्ण', 1860: 'सहायता', 1861: 'प्रभावित', 1862: 'सदस्य', 1863: 'सम्मानित', 1864: 'सकें', 1865: 'विराजमान', 1866: 'बनीं', 1867: 'बड़ी-बड़ी', 1868: 'दुकानें', 1869: 'लगाते', 1870: 'दिल', 1871: 'दहला', 1872: 'लड़ाइयाँ', 1873: 'चाहें', 1874: 'तलवारियों', 1875: 'जारी', 1876: 'लड़नेवाले', 1877: 'मौत', 1878: 'नेत्ररोगों', 1879: 'बचे', 1880: 'आसान', 1881: 'जन', 1882: 'स्वास्थ्य', 1883: 'केन्द्रों', 1884: 'विषाणु', 1885: 'इंसानों', 1886: 'बचने', 1887: 'अपेंडिक्श', 1888: 'निकालने', 1889: 'हालांकि', 1890: 'स्थायी', 1891: 'समाधान', 1892: 'लेता', 1893: 'श्रमसाध्य', 1894: 'विरोध', 1895: 'भारतीय', 1896: 'सदियों', 1897: 'हिमालय', 1898: 'मॉल', 1899: 'पीछे', 1900: 'वाजिब', 1901: 'कीमत', 1902: 'माहौल', 1903: 'वातानुकूलित', 1904: 'कमरों', 1905: 'यादगार', 1906: 'दिक्कतों', 1907: 'सेवाएँ', 1908: 'स्थगित', 1909: 'अक्टूबर', 1910: 'उम्मीद', 1911: 'हिल', 1912: 'ऊँचाई', 1913: 'लैस', 1914: 'मोबाइल', 1915: 'फोन', 1916: 'इंटरनेट', 1917: 'भाग', 1918: 'मांसपेशियों', 1919: 'गतिशीलता', 1920: 'समाप्त', 1921: 'ग्लैडिएटर', 1922: 'तलवारबाज', 1923: 'करतब', 1924: 'शल्यचिकित्सा', 1925: 'क्रान्तिकारी', 1926: 'आविष्कार', 1927: 'ओनिकोमाइसिस', 1928: 'उबली', 1929: 'सुई', 1930: 'नजारा', 1931: 'दिखाएँगे', 1932: 'हमेशा', 1933: 'खान-पान', 1934: 'बरती', 1935: 'थोड़ी', 1936: 'सावधानी', 1937: 'कोलकाता', 1938: 'ठंडक', 1939: 'छाँव', 1940: 'सिलीगुड़ी', 1941: 'फैले', 1942: 'बागान', 1943: 'बाँध', 1944: 'एकाएक', 1945: 'छुट्\\u200dटियाँ', 1946: 'बिताने', 1947: 'कितने', 1948: 'भूतों', 1949: 'जाऊँ', 1950: 'कुछेक', 1951: 'शायद', 1952: 'बिताई', 1953: 'अभाव', 1954: 'यूरोपीय', 1955: 'व्यवसाय', 1956: 'नामी', 1957: 'गिरामी', 1958: 'ड्राइवर', 1959: 'कंडक्टर', 1960: 'साधारणतया', 1961: 'स्वच्छ', 1962: 'लैन्स', 1963: 'उसका', 1964: 'कैपस्यूल', 1965: 'धुंधला', 1966: 'दुधिया', 1967: 'आँख', 1968: 'अन्दर', 1969: 'नही', 1970: 'पाती', 1971: 'बिजली', 1972: 'स्विच', 1973: 'आन', 1974: 'हाथ', 1975: 'उलटे', 1976: 'अपनाकर', 1977: 'खिड़कियों', 1978: 'खोल', 1979: 'सूचना', 1980: 'रहस्य', 1981: 'क्लिक', 1982: 'दूरी', 1983: 'चाहेगा', 1984: 'डाक्टर', 1985: 'लाइटिंग', 1986: 'बीमार', 1987: 'पड़ने', 1988: 'निरन्तर', 1989: 'पित्ताशय', 1990: 'पथरी', 1991: 'मेजबान', 1992: 'जैकी', 1993: 'सज्जाकार', 1994: 'सहसा', 1995: 'उठी', 1996: 'अंग्रेजी', 1997: 'उद्\\u200dबोधन', 1998: 'बुलाता', 1999: 'ज्यादातर', 2000: 'इंग्वाईनल', 2001: 'उपचार', 2002: 'दर्द', 2003: 'ठीक', 2004: 'दवाइयाँ', 2005: 'करतीं', 2006: 'पहनने', 2007: 'गुसलखाने'}\n"
          ],
          "name": "stdout"
        }
      ]
    },
    {
      "cell_type": "code",
      "metadata": {
        "id": "USmrtbg-XdVa",
        "colab_type": "code",
        "colab": {}
      },
      "source": [
        "def reverse_train_sentences(data):\n",
        "  l = data.values.tolist()\n",
        "  t = []\n",
        "  for item in l:\n",
        "    p = item.split()\n",
        "    p.reverse()\n",
        "    p = \" \".join(p)\n",
        "    t.append(p)\n",
        "  df = pd.DataFrame({'data':t})\n",
        "  return df.data  "
      ],
      "execution_count": 0,
      "outputs": []
    },
    {
      "cell_type": "code",
      "metadata": {
        "id": "QYd5SPfKW-wM",
        "colab_type": "code",
        "colab": {
          "base_uri": "https://localhost:8080/",
          "height": 225
        },
        "outputId": "cccc8eac-5fcc-4816-c752-91cfca334693"
      },
      "source": [
        "# Train - Test Split\n",
        "X, y = lines.src, lines.dest\n",
        "X_train, X_test, y_train, y_test = train_test_split(X, y, test_size = 0.1)\n",
        "X_train_normal = copy.deepcopy(X_train)\n",
        "X_train = reverse_train_sentences(X_train)\n",
        "print(X_train.shape, X_test.shape)\n",
        "X_train.sample(10)"
      ],
      "execution_count": 46,
      "outputs": [
        {
          "output_type": "stream",
          "text": [
            "(360,) (41,)\n"
          ],
          "name": "stdout"
        },
        {
          "output_type": "execute_result",
          "data": {
            "text/plain": [
              "69     . incomplete is journey your , rulers Peshwa o...\n",
              "21     . says Greerson Ian . Dr University Liverpool ...\n",
              "137    . terminal the at bus another for wait to have...\n",
              "160                         . month a for cough Frequent\n",
              "130    . also years 15 to 10 for life normal a live p...\n",
              "175                . you surprise will statue grand This\n",
              "111    . applied being stitches no to due days more f...\n",
              "199    . AIDS of inkling the give which up showing st...\n",
              "195    . taken be can breakfast filling a of joy the ...\n",
              "193    . seeing worth are it on made signs victory an...\n",
              "Name: data, dtype: object"
            ]
          },
          "metadata": {
            "tags": []
          },
          "execution_count": 46
        }
      ]
    },
    {
      "cell_type": "code",
      "metadata": {
        "id": "lLpDtriTYAuY",
        "colab_type": "code",
        "colab": {}
      },
      "source": [
        "def generate_batch(X = X_train, y = y_train):\n",
        "  batch_size = len(X)\n",
        "  encoder_input_data = np.zeros((batch_size, src_max_len),dtype='float32')\n",
        "  decoder_target_data = np.zeros((batch_size, dest_max_len, dest_vocab_len),dtype='float32')\n",
        "\n",
        "  for i, (input_text, target_text) in enumerate(zip(X,y)):\n",
        "      for t, word in enumerate(input_text.split()):\n",
        "          encoder_input_data[i, t] = src_word_to_index[word]\n",
        "      for t, word in enumerate(target_text.split()):\n",
        "          decoder_target_data[i, t, dest_word_to_index[word]] = 1.\n",
        "  return encoder_input_data, decoder_target_data"
      ],
      "execution_count": 0,
      "outputs": []
    },
    {
      "cell_type": "code",
      "metadata": {
        "id": "Ro5QPsXslaCq",
        "colab_type": "code",
        "colab": {
          "base_uri": "https://localhost:8080/",
          "height": 382
        },
        "outputId": "b451b1ce-b5f8-483c-b4ce-5eea34bdba0d"
      },
      "source": [
        "model = Sequential()\n",
        "\n",
        "# Creating encoder network\n",
        "model.add(Embedding(input_dim = src_vocab_len, output_dim = 300, input_length = src_max_len, mask_zero = True))\n",
        "model.add(LSTM(units = 80))\n",
        "model.add(RepeatVector(dest_max_len))\n",
        "\n",
        "# Creating decoder network\n",
        "# for _ in range(num_layers):\n",
        "model.add(LSTM(units = 80, return_sequences=True))\n",
        "model.add(TimeDistributed(Dense(dest_vocab_len)))\n",
        "model.add(Activation('softmax'))\n",
        "model.compile(loss='categorical_crossentropy',optimizer='rmsprop',metrics=['accuracy'])\n",
        "print(model.summary())"
      ],
      "execution_count": 43,
      "outputs": [
        {
          "output_type": "stream",
          "text": [
            "Model: \"sequential_2\"\n",
            "_________________________________________________________________\n",
            "Layer (type)                 Output Shape              Param #   \n",
            "=================================================================\n",
            "embedding_2 (Embedding)      (None, 50, 300)           560100    \n",
            "_________________________________________________________________\n",
            "lstm_3 (LSTM)                (None, 80)                121920    \n",
            "_________________________________________________________________\n",
            "repeat_vector_2 (RepeatVecto (None, 48, 80)            0         \n",
            "_________________________________________________________________\n",
            "lstm_4 (LSTM)                (None, 48, 80)            51520     \n",
            "_________________________________________________________________\n",
            "time_distributed_2 (TimeDist (None, 48, 2009)          162729    \n",
            "_________________________________________________________________\n",
            "activation_2 (Activation)    (None, 48, 2009)          0         \n",
            "=================================================================\n",
            "Total params: 896,269\n",
            "Trainable params: 896,269\n",
            "Non-trainable params: 0\n",
            "_________________________________________________________________\n",
            "None\n"
          ],
          "name": "stdout"
        }
      ]
    },
    {
      "cell_type": "code",
      "metadata": {
        "id": "x5Gn1T-QoJe0",
        "colab_type": "code",
        "colab": {}
      },
      "source": [
        "train_samples = len(X_train)\n",
        "val_samples = len(X_test)\n",
        "batch_size = 128\n",
        "epochs = 5"
      ],
      "execution_count": 0,
      "outputs": []
    },
    {
      "cell_type": "code",
      "metadata": {
        "id": "pMbcYvqep9DY",
        "colab_type": "code",
        "colab": {}
      },
      "source": [
        "X,y = generate_batch(X_train, y_train)\n",
        "xtest, ytest = generate_batch(X_test, y_test)"
      ],
      "execution_count": 0,
      "outputs": []
    },
    {
      "cell_type": "code",
      "metadata": {
        "id": "HDGUsBVhnheE",
        "colab_type": "code",
        "colab": {
          "base_uri": "https://localhost:8080/",
          "height": 225
        },
        "outputId": "03642999-7156-4d73-8240-348e89674d07"
      },
      "source": [
        "model.fit(X,y,\n",
        "          steps_per_epoch = 1,\n",
        "          epochs=epochs,\n",
        "          validation_data =(xtest,ytest),\n",
        "          validation_steps = 2)"
      ],
      "execution_count": 48,
      "outputs": [
        {
          "output_type": "stream",
          "text": [
            "Train on 360 samples, validate on 41 samples\n",
            "Epoch 1/5\n",
            "1/1 [==============================] - 2s 2s/step - loss: 2.7323 - acc: 0.0022 - val_loss: 2.8116 - val_acc: 0.0203\n",
            "Epoch 2/5\n",
            "1/1 [==============================] - 0s 408ms/step - loss: 2.7303 - acc: 0.0212 - val_loss: 2.8085 - val_acc: 0.0203\n",
            "Epoch 3/5\n",
            "1/1 [==============================] - 0s 371ms/step - loss: 2.7269 - acc: 0.0207 - val_loss: 2.7978 - val_acc: 0.0203\n",
            "Epoch 4/5\n",
            "1/1 [==============================] - 0s 423ms/step - loss: 2.7149 - acc: 0.0203 - val_loss: 2.7530 - val_acc: 0.0203\n",
            "Epoch 5/5\n",
            "1/1 [==============================] - 0s 393ms/step - loss: 2.6660 - acc: 0.0203 - val_loss: 2.6683 - val_acc: 0.0203\n"
          ],
          "name": "stdout"
        },
        {
          "output_type": "execute_result",
          "data": {
            "text/plain": [
              "<keras.callbacks.History at 0x7f07ba8ddda0>"
            ]
          },
          "metadata": {
            "tags": []
          },
          "execution_count": 48
        }
      ]
    },
    {
      "cell_type": "code",
      "metadata": {
        "id": "HI7G-FttoN9F",
        "colab_type": "code",
        "colab": {}
      },
      "source": [
        "yhat = model.predict(xtest, verbose=0)"
      ],
      "execution_count": 0,
      "outputs": []
    },
    {
      "cell_type": "code",
      "metadata": {
        "id": "ZPiDfHc9wHJW",
        "colab_type": "code",
        "colab": {
          "base_uri": "https://localhost:8080/",
          "height": 34
        },
        "outputId": "dfee2d30-9952-4e12-aedb-74e263bb6867"
      },
      "source": [
        "print(np.shape(yhat))"
      ],
      "execution_count": 51,
      "outputs": [
        {
          "output_type": "stream",
          "text": [
            "(41, 48, 2009)\n"
          ],
          "name": "stdout"
        }
      ]
    },
    {
      "cell_type": "code",
      "metadata": {
        "id": "aV9jfXaFwJOK",
        "colab_type": "code",
        "colab": {}
      },
      "source": [
        ""
      ],
      "execution_count": 0,
      "outputs": []
    }
  ]
}