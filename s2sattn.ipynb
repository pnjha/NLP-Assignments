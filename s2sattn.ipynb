{
  "nbformat": 4,
  "nbformat_minor": 0,
  "metadata": {
    "colab": {
      "name": "s2sattn.ipynb",
      "provenance": [],
      "collapsed_sections": [],
      "authorship_tag": "ABX9TyOZepMdrU9Lw4xZ46w0RjRG",
      "include_colab_link": true
    },
    "kernelspec": {
      "name": "python3",
      "display_name": "Python 3"
    },
    "accelerator": "GPU"
  },
  "cells": [
    {
      "cell_type": "markdown",
      "metadata": {
        "id": "view-in-github",
        "colab_type": "text"
      },
      "source": [
        "<a href=\"https://colab.research.google.com/github/pnjha/NLP-Assignments/blob/master/s2sattn.ipynb\" target=\"_parent\"><img src=\"https://colab.research.google.com/assets/colab-badge.svg\" alt=\"Open In Colab\"/></a>"
      ]
    },
    {
      "cell_type": "code",
      "metadata": {
        "id": "rrlk6aTve3WW",
        "colab_type": "code",
        "outputId": "66d9b6ef-09b4-482a-c871-6b93cf19586f",
        "colab": {
          "base_uri": "https://localhost:8080/",
          "height": 52
        }
      },
      "source": [
        "from google.colab import drive\n",
        "drive.mount('/content/drive')\n",
        "%cd drive/My\\ Drive"
      ],
      "execution_count": 0,
      "outputs": [
        {
          "output_type": "stream",
          "text": [
            "Drive already mounted at /content/drive; to attempt to forcibly remount, call drive.mount(\"/content/drive\", force_remount=True).\n",
            "/content/drive/My Drive\n"
          ],
          "name": "stdout"
        }
      ]
    },
    {
      "cell_type": "code",
      "metadata": {
        "id": "pYiVKbucAXUW",
        "colab_type": "code",
        "outputId": "c525af05-1584-4760-c6fa-7db6a1eda5d5",
        "colab": {
          "base_uri": "https://localhost:8080/",
          "height": 104
        }
      },
      "source": [
        "%tensorflow_version 1.14\n",
        "import pandas as pd\n",
        "import numpy as np\n",
        "import string\n",
        "from string import digits\n",
        "import matplotlib.pyplot as plt\n",
        "%matplotlib inline\n",
        "import re\n",
        "import copy\n",
        "import math\n",
        "import tensorflow as tf\n",
        "import keras as keras\n",
        "from keras.optimizers import SGD\n",
        "from keras.initializers import RandomUniform\n",
        "# from keras.models import Sequential\n",
        "# from keras.layers import LSTM\n",
        "# from keras.layers import Dense\n",
        "# from keras.layers import TimeDistributed, Bidirectional, Embedding\n",
        "# from keras.layers import RepeatVector\n",
        "from sklearn.utils import shuffle\n",
        "from sklearn.model_selection import train_test_split\n",
        "from tensorflow.keras.models import Sequential, Model, load_model\n",
        "# from keras.layers import Dense, TimeDistributed\n",
        "from tensorflow.keras.layers import Embedding, Dense, LSTM, CuDNNLSTM, Input, Embedding, TimeDistributed, Flatten, Dropout, Activation, dot, concatenate\n",
        "# from keras.layers import \n",
        "# from keras.layers import \n",
        "from keras.callbacks import ModelCheckpoint\n",
        "from nltk.translate.bleu_score import sentence_bleu\n",
        "from nltk.translate.bleu_score import SmoothingFunction"
      ],
      "execution_count": 0,
      "outputs": [
        {
          "output_type": "stream",
          "text": [
            "`%tensorflow_version` only switches the major version: `1.x` or `2.x`.\n",
            "You set: `1.14`. This will be interpreted as: `1.x`.\n",
            "\n",
            "\n",
            "TensorFlow is already loaded. Please restart the runtime to change versions.\n"
          ],
          "name": "stdout"
        }
      ]
    },
    {
      "cell_type": "code",
      "metadata": {
        "id": "iUI4yNcHAzq9",
        "colab_type": "code",
        "outputId": "e3603a8b-9850-4757-8ac9-05648d8cb922",
        "colab": {
          "base_uri": "https://localhost:8080/",
          "height": 380
        }
      },
      "source": [
        "X = pd.read_table('./NLA S20 - Assignment 2 Data/enghin/train.en', names=['src'])\n",
        "Y = pd.read_table('./NLA S20 - Assignment 2 Data/enghin/train.hi', names=['dest'])\n",
        "lines = pd.concat([X[:1000],Y[:1000]], axis=1)\n",
        "print(len(lines))\n",
        "# lines = shuffle(lines)\n",
        "lines.sample(10)"
      ],
      "execution_count": 0,
      "outputs": [
        {
          "output_type": "stream",
          "text": [
            "1000\n"
          ],
          "name": "stdout"
        },
        {
          "output_type": "execute_result",
          "data": {
            "text/html": [
              "<div>\n",
              "<style scoped>\n",
              "    .dataframe tbody tr th:only-of-type {\n",
              "        vertical-align: middle;\n",
              "    }\n",
              "\n",
              "    .dataframe tbody tr th {\n",
              "        vertical-align: top;\n",
              "    }\n",
              "\n",
              "    .dataframe thead th {\n",
              "        text-align: right;\n",
              "    }\n",
              "</style>\n",
              "<table border=\"1\" class=\"dataframe\">\n",
              "  <thead>\n",
              "    <tr style=\"text-align: right;\">\n",
              "      <th></th>\n",
              "      <th>src</th>\n",
              "      <th>dest</th>\n",
              "    </tr>\n",
              "  </thead>\n",
              "  <tbody>\n",
              "    <tr>\n",
              "      <th>452</th>\n",
              "      <td>Under the National Maternity Benefit Scheme ab...</td>\n",
              "      <td>राष्ट्रीय मातृत्व लाभ योजना के अन्तर्गत गरीबी ...</td>\n",
              "    </tr>\n",
              "    <tr>\n",
              "      <th>587</th>\n",
              "      <td>When any food item or beverage with salmonella...</td>\n",
              "      <td>जब सालमोनेला टिफी युक्त कोई भी खाद्य पदार्थ या...</td>\n",
              "    </tr>\n",
              "    <tr>\n",
              "      <th>282</th>\n",
              "      <td>Primary vaccination keeps a person safe for a ...</td>\n",
              "      <td>प्राथमिक टीकाकरण व्यक्ति को एक वर्ष तक सुरक्षि...</td>\n",
              "    </tr>\n",
              "    <tr>\n",
              "      <th>354</th>\n",
              "      <td>Leprosy is a bacteria born contagious disease .</td>\n",
              "      <td>कुष्ठ रोग एक जीवाणु से उत्पन्न होने वाला छूत क...</td>\n",
              "    </tr>\n",
              "    <tr>\n",
              "      <th>811</th>\n",
              "      <td>By doing regular exercises also the muscles ar...</td>\n",
              "      <td>नियमित व्यायाम करने से भी जोड़ों के आसपास की मा...</td>\n",
              "    </tr>\n",
              "    <tr>\n",
              "      <th>826</th>\n",
              "      <td>Knot increasing rapidly .</td>\n",
              "      <td>गाँठ का तेजी से बढ़ना ।</td>\n",
              "    </tr>\n",
              "    <tr>\n",
              "      <th>112</th>\n",
              "      <td>The most credible method of finding out the pr...</td>\n",
              "      <td>डॉक्टर द्वारा पुरस्थ ग्रंथी के कैंसर का आंरभिक...</td>\n",
              "    </tr>\n",
              "    <tr>\n",
              "      <th>500</th>\n",
              "      <td>Dead birth due to inborn syphilis .</td>\n",
              "      <td>जन्मजात उपदंश ( सिफिलिस ) के कारण बच्चे का मृत...</td>\n",
              "    </tr>\n",
              "    <tr>\n",
              "      <th>330</th>\n",
              "      <td>The goal of health programs is to increase the...</td>\n",
              "      <td>स्वास्थ्य कार्यक्रमों का लक्ष्य दम्पति सुरक्षा...</td>\n",
              "    </tr>\n",
              "    <tr>\n",
              "      <th>79</th>\n",
              "      <td>Any wound that do not heal in enough time .</td>\n",
              "      <td>कोई भी घाव जो काफी समय से भरता नहीं हो ।</td>\n",
              "    </tr>\n",
              "  </tbody>\n",
              "</table>\n",
              "</div>"
            ],
            "text/plain": [
              "                                                   src                                               dest\n",
              "452  Under the National Maternity Benefit Scheme ab...  राष्ट्रीय मातृत्व लाभ योजना के अन्तर्गत गरीबी ...\n",
              "587  When any food item or beverage with salmonella...  जब सालमोनेला टिफी युक्त कोई भी खाद्य पदार्थ या...\n",
              "282  Primary vaccination keeps a person safe for a ...  प्राथमिक टीकाकरण व्यक्ति को एक वर्ष तक सुरक्षि...\n",
              "354    Leprosy is a bacteria born contagious disease .  कुष्ठ रोग एक जीवाणु से उत्पन्न होने वाला छूत क...\n",
              "811  By doing regular exercises also the muscles ar...  नियमित व्यायाम करने से भी जोड़ों के आसपास की मा...\n",
              "826                          Knot increasing rapidly .                             गाँठ का तेजी से बढ़ना ।\n",
              "112  The most credible method of finding out the pr...  डॉक्टर द्वारा पुरस्थ ग्रंथी के कैंसर का आंरभिक...\n",
              "500                Dead birth due to inborn syphilis .  जन्मजात उपदंश ( सिफिलिस ) के कारण बच्चे का मृत...\n",
              "330  The goal of health programs is to increase the...  स्वास्थ्य कार्यक्रमों का लक्ष्य दम्पति सुरक्षा...\n",
              "79         Any wound that do not heal in enough time .           कोई भी घाव जो काफी समय से भरता नहीं हो ।"
            ]
          },
          "metadata": {
            "tags": []
          },
          "execution_count": 3
        }
      ]
    },
    {
      "cell_type": "code",
      "metadata": {
        "id": "KlKq9GVHA1I1",
        "colab_type": "code",
        "colab": {}
      },
      "source": [
        "def process_data(data,append_char):\n",
        "  data = data.apply(lambda x: x.lower())\n",
        "  data = data.apply(lambda x: x.strip())\n",
        "  data = data.apply(lambda x: re.sub(\"'\", '', x))\n",
        "  exclude = set(string.punctuation) # Set of all special characters\n",
        "  data = data.apply(lambda x: ''.join(ch for ch in x if ch not in exclude))\n",
        "  remove_digits = str.maketrans('', '', digits)\n",
        "  data = data.apply(lambda x: x.translate(remove_digits))\n",
        "  # if append_char:\n",
        "    # data = data.apply(lambda x : '<SOS> '+ x + ' <EOS>')\n",
        "  return data"
      ],
      "execution_count": 0,
      "outputs": []
    },
    {
      "cell_type": "code",
      "metadata": {
        "id": "mYCnr27uA1M6",
        "colab_type": "code",
        "colab": {}
      },
      "source": [
        "lines.src = process_data(lines.src,False)\n",
        "lines.dest = process_data(lines.dest,True)\n",
        "# lines.dest.sample(10)"
      ],
      "execution_count": 0,
      "outputs": []
    },
    {
      "cell_type": "code",
      "metadata": {
        "id": "-QCnAtMxA1QF",
        "colab_type": "code",
        "colab": {}
      },
      "source": [
        "def get_vocab_list(data):\n",
        "  vocab = []\n",
        "  for line in data:\n",
        "    temp = line.split()\n",
        "    for item in temp:\n",
        "      if item not in vocab:\n",
        "        vocab.append(item)\n",
        "  # print(vocab)\n",
        "  return vocab"
      ],
      "execution_count": 0,
      "outputs": []
    },
    {
      "cell_type": "code",
      "metadata": {
        "id": "wcsbfFHSA1T7",
        "colab_type": "code",
        "colab": {}
      },
      "source": [
        "src_vocab = get_vocab_list(lines.src)\n",
        "dest_vocab = get_vocab_list(lines.dest)"
      ],
      "execution_count": 0,
      "outputs": []
    },
    {
      "cell_type": "code",
      "metadata": {
        "id": "GsvtGHy7A1bk",
        "colab_type": "code",
        "outputId": "0e869010-8a89-4f86-d581-395adfdb5527",
        "colab": {
          "base_uri": "https://localhost:8080/",
          "height": 52
        }
      },
      "source": [
        "print(src_vocab[:10])\n",
        "print(dest_vocab[:10]) "
      ],
      "execution_count": 0,
      "outputs": [
        {
          "output_type": "stream",
          "text": [
            "['the', 'treatment', 'of', 'cataract', 'is', 'possible', 'through', 'surgery', 'only', 'complete']\n",
            "['मोतियाबिंद', 'का', 'उपचार', 'केवल', 'शल्यचिकित्सा', 'द्वारा', 'ही', 'सम्भव', 'है', '।']\n"
          ],
          "name": "stdout"
        }
      ]
    },
    {
      "cell_type": "code",
      "metadata": {
        "id": "OXYEEvS8A1dl",
        "colab_type": "code",
        "colab": {}
      },
      "source": [
        "# Max Length of source sequence\n",
        "def get_max_sentence_size(data):\n",
        "  max_len = 0\n",
        "  for line in data:\n",
        "    temp = line.split()\n",
        "    max_len = max(max_len, len(temp))\n",
        "  return max_len"
      ],
      "execution_count": 0,
      "outputs": []
    },
    {
      "cell_type": "code",
      "metadata": {
        "id": "VZ48e84PA1fb",
        "colab_type": "code",
        "outputId": "1f24f914-13c0-4354-b1ad-e1482461d19c",
        "colab": {
          "base_uri": "https://localhost:8080/",
          "height": 34
        }
      },
      "source": [
        "src_max_len = get_max_sentence_size(lines.src)\n",
        "dest_max_len = get_max_sentence_size(lines.dest)\n",
        "src_max_len,dest_max_len"
      ],
      "execution_count": 0,
      "outputs": [
        {
          "output_type": "execute_result",
          "data": {
            "text/plain": [
              "(57, 57)"
            ]
          },
          "metadata": {
            "tags": []
          },
          "execution_count": 10
        }
      ]
    },
    {
      "cell_type": "code",
      "metadata": {
        "id": "Q4gogrvSA1iE",
        "colab_type": "code",
        "outputId": "4c9d7ee7-946d-4346-bed3-9ea83ad5b3d4",
        "colab": {
          "base_uri": "https://localhost:8080/",
          "height": 34
        }
      },
      "source": [
        "src_vocab_len = len(src_vocab)\n",
        "dest_vocab_len = len(dest_vocab) + 1\n",
        "src_vocab_len, dest_vocab_len"
      ],
      "execution_count": 0,
      "outputs": [
        {
          "output_type": "execute_result",
          "data": {
            "text/plain": [
              "(2538, 3216)"
            ]
          },
          "metadata": {
            "tags": []
          },
          "execution_count": 11
        }
      ]
    },
    {
      "cell_type": "code",
      "metadata": {
        "id": "YgEBtqzhA1kU",
        "colab_type": "code",
        "colab": {}
      },
      "source": [
        "def get_word_to_index_dict(vocab):\n",
        "  word_to_index = {}\n",
        "  for i, word in enumerate(vocab):\n",
        "    word_to_index[word] = i\n",
        "  return word_to_index"
      ],
      "execution_count": 0,
      "outputs": []
    },
    {
      "cell_type": "code",
      "metadata": {
        "id": "zx6Ukm2AA1m9",
        "colab_type": "code",
        "colab": {}
      },
      "source": [
        "src_word_to_index = get_word_to_index_dict(src_vocab)\n",
        "dest_word_to_index = get_word_to_index_dict(dest_vocab)"
      ],
      "execution_count": 0,
      "outputs": []
    },
    {
      "cell_type": "code",
      "metadata": {
        "id": "6zUtN9NrA1uN",
        "colab_type": "code",
        "outputId": "4d20cab2-82ad-4cac-99bb-5bcdfbf0abaa",
        "colab": {
          "base_uri": "https://localhost:8080/",
          "height": 72
        }
      },
      "source": [
        "print(src_word_to_index)\n",
        "print(dest_word_to_index)"
      ],
      "execution_count": 0,
      "outputs": [
        {
          "output_type": "stream",
          "text": [
            "{'the': 0, 'treatment': 1, 'of': 2, 'cataract': 3, 'is': 4, 'possible': 5, 'through': 6, 'surgery': 7, 'only': 8, 'complete': 9, 'lens': 10, 'capsule': 11, 'taken': 12, 'out': 13, 'in': 14, 'method': 15, 'intra': 16, 'capsular': 17, 'extraction': 18, 'after': 19, 'operation': 20, 'spectacles': 21, 'are': 22, 'used': 23, 'posttest': 24, 'during': 25, 'implanted': 26, 'at': 27, 'front': 28, 'iris': 29, 'frontal': 30, 'part': 31, 'eye': 32, 'extra': 33, 'and': 34, 'whole': 35, 'matter': 36, 'extracted': 37, 'posterior': 38, 'left': 39, 'intact': 40, 'fitted': 41, 'bag': 42, 's': 43, 'lrb': 44, 'small': 45, 'incision': 46, 'rrb': 47, 'mm': 48, 'tunnel': 49, 'formed': 50, 'while': 51, 'rest': 52, 'follows': 53, 'like': 54, 'that': 55, 'ecceiol': 56, 'no': 57, 'stitches': 58, 'applied': 59, 'black': 60, 'nerves': 61, 'dilapidates': 62, 'gradually': 63, 'it': 64, 'happens': 65, 'due': 66, 'to': 67, 'water': 68, 'pressure': 69, 'or': 70, 'because': 71, 'not': 72, 'enough': 73, 'blood': 74, 'reaching': 75, 'blindness': 76, 'caused': 77, 'by': 78, 'can': 79, 'be': 80, 'prevented': 81, 'if': 82, 'identified': 83, 'soon': 84, 'its': 85, 'regular': 86, 'tests': 87, 'continue': 88, 'when': 89, 'more': 90, 'eyes': 91, 'somebody': 92, 'suffers': 93, 'from': 94, 'family': 95, 'most': 96, 'patients': 97, 'channel': 98, 'open': 99, 'yet': 100, 'for': 101, 'some': 102, 'reasons': 103, 'gets': 104, 'lessened': 105, 'internal': 106, 'keeps': 107, 'on': 108, 'increasing': 109, 'patient': 110, 'see': 111, 'things': 112, 'around': 113, 'eyesight': 114, 'might': 115, 'also': 116, 'lost': 117, 'done': 118, 'time': 119, 'main': 120, 'symptoms': 121, 'appearance': 122, 'which': 123, 'a': 124, 'should': 125, 'consult': 126, 'doctor': 127, 'seeing': 128, 'rainbow': 129, 'colorful': 130, 'ovals': 131, 'light': 132, 'we': 133, 'will': 134, 'check': 135, 'with': 136, 'special': 137, 'equipment': 138, 'find': 139, 'how': 140, 'much': 141, 'damage': 142, 'has': 143, 'occurred': 144, 'field': 145, 'test': 146, 'capacity': 147, 'sides': 148, 'looking': 149, 'straight': 150, 'tested': 151, 'angle': 152, 'where': 153, 'passes': 154, 'seen': 155, 'lack': 156, 'vitamina': 157, 'cornea': 158, 'becomes': 159, 'weak': 160, 'wound': 161, 'appears': 162, 'last': 163, 'causes': 164, 'even': 165, 'imminent': 166, 'states': 167, 'measles': 168, 'malnutrition': 169, 'nyctalopia': 170, 'may': 171, 'occur': 172, 'absorption': 173, 'food': 174, 'continuous': 175, 'diarrhoea': 176, 'demand': 177, 'visible': 178, 'dim': 179, 'white': 180, 'surface': 181, 'dries': 182, 'up': 183, 'bitot': 184, 'spots': 185, 'shows': 186, 'use': 187, 'gram': 188, 'leaves': 189, 'fenugreek': 190, 'methi': 191, 'spinach': 192, 'cabbage': 193, 'coriander': 194, 'papaya': 195, 'mango': 196, 'diet': 197, 'prevent': 198, 'encouraging': 199, 'mother': 200, 'milk': 201, 'applying': 202, 'vaccine': 203, 'giving': 204, 'doses': 205, 'mn': 206, 'i': 207, 'an': 208, 'interval': 209, 'months': 210, 'till': 211, 'years': 212, 'necessary': 213, 'children': 214, 'given': 215, 'nutritious': 216, 'so': 217, 'they': 218, 'saved': 219, 'corneal': 220, 'conjunctival': 221, 'rubella': 222, 'vaccination': 223, 'required': 224, 'about': 225, 'percent': 226, 'become': 227, 'blind': 228, 'one': 229, 'injuries': 230, 'people': 231, 'educated': 232, 'safety': 233, 'crackers': 234, 'industrial': 235, 'accidents': 236, 'road': 237, 'traffic': 238, 'could': 239, 'escaped': 240, 'save': 241, 'diseases': 242, 'pay': 243, 'attention': 244, 'towards': 245, 'environmental': 246, 'sanitation': 247, 'needed': 248, 'gradual': 249, 'painless': 250, 'lessening': 251, 'vision': 252, 'both': 253, 'month': 254, 'year': 255, 'pupil': 256, 'getting': 257, 'gray': 258, 'rays': 259, 'do': 260, 'fall': 261, 'retina': 262, 'falls': 263, 'back': 264, 'collected': 265, 'before': 266, 'fungus': 267, 'kind': 268, 'being': 269, 'lives': 270, 'our': 271, 'body': 272, 'harms': 273, 'creates': 274, 'abode': 275, 'damped': 276, 'places': 277, 'under': 278, 'nail': 279, 'toe': 280, 'called': 281, 'onikomysis': 282, 'nearby': 283, 'clearly': 284, 'but': 285, 'there': 286, 'occurs': 287, 'problem': 288, 'distance': 289, 'brings': 290, 'near': 291, 'student': 292, 'tries': 293, 'sit': 294, 'very': 295, 'blackboard': 296, 'classroom': 297, 'collects': 298, 'this': 299, 'mostly': 300, 'young': 301, 'headache': 302, 'heaviness': 303, 'reading': 304, 'weakness': 305, 'muscles': 306, 'change': 307, 'shape': 308, 'behind': 309, 'doing': 310, 'close': 311, 'found': 312, 'age': 313, 'above': 314, 'shadowiness': 315, 'readingwriting': 316, 'ray': 317, 'concentrate': 318, 'reddening': 319, 'cylindrical': 320, 'glasses': 321, 'have': 322, 'worn': 323, 'always': 324, 'cancer': 325, 'lifestyle': 326, 'generated': 327, 'disease': 328, 'erupts': 329, 'wrong': 330, 'practices': 331, 'thoughts': 332, 'behavior': 333, 'smoking': 334, 'excessive': 335, 'cigarette': 336, 'windpipe': 337, 'progress': 338, 'development': 339, 'rid': 340, 'changes': 341, 'number': 342, 'heart': 343, 'japan': 344, 'developed': 345, 'countries': 346, 'developing': 347, 'every': 348, 'eight': 349, 'persons': 350, 'any': 351, 'victim': 352, 'different': 353, 'types': 354, 'locations': 355, 'country': 356, 'difference': 357, 'customs': 358, 'religion': 359, 'all': 360, 'data': 361, 'been': 362, 'calculated': 363, 'ovarian': 364, 'breast': 365, 'women': 366, 'cities': 367, 'between': 368, 'among': 369, 'rural': 370, 'lungs': 371, 'breathing': 372, 'pipe': 373, 'pollution': 374, 'possibility': 375, 'mouth': 376, 'stomach': 377, 'gutkha': 378, 'pan': 379, 'parag': 380, 'tobacco': 381, 'powder': 382, 'what': 383, 'name': 384, 'cells': 385, 'multiply': 386, 'itself': 387, 'ignores': 388, 'rules': 389, 'reach': 390, 'other': 391, 'parts': 392, 'cell': 393, 'takes': 394, 'form': 395, 'cyst': 396, 'destroys': 397, 'systems': 398, 'coming': 399, 'contact': 400, 'group': 401, 'than': 402, 'although': 403, 'each': 404, 'basically': 405, 'cancers': 406, 'as': 407, 'result': 408, 'anomaly': 409, 'generally': 410, 'easy': 411, 'tumors': 412, 'weeded': 413, 'again': 414, 'difficult': 415, 'destroy': 416, 'tissues': 417, 'spread': 418, 'into': 419, 'areas': 420, 'new': 421, 'get': 422, 'born': 423, 'immediately': 424, 'whether': 425, 'tumor': 426, 'start': 427, 'several': 428, 'gives': 429, 'impressions': 430, 'details': 431, 'important': 432, 'below': 433, 'oxalate': 434, 'stone': 435, 'kidney': 436, 'preventions': 437, 'advantageous': 438, 'heal': 439, 'swelling': 440, 'abnormal': 441, 'passing': 442, 'pus': 443, 'organ': 444, 'prolonged': 445, 'bouts': 446, 'cough': 447, 'occurrence': 448, 'speech': 449, 'pain': 450, 'swallowing': 451, 'toilet': 452, 'indigestion': 453, 'constipation': 454, 'general': 455, 'habits': 456, 'bowels': 457, 'sudden': 458, 'size': 459, 'color': 460, 'moles': 461, 'warts': 462, 'however': 463, 'such': 464, 'just': 465, 'well': 466, 'these': 467, 'therefore': 468, 'take': 469, 'show': 470, 'stay': 471, 'two': 472, 'weeks': 473, 'doubt': 474, 'immediate': 475, 'identification': 476, 'need': 477, 'increase': 478, 'knowledge': 479, 'care': 480, 'oneself': 481, 'identifying': 482, 'early': 483, 'total': 484, 'now': 485, 'cost': 486, 'lower': 487, 'late': 488, 'besides': 489, 'aware': 490, 'men': 491, 'themselves': 492, 'regularly': 493, 'appear': 494, 'doctors': 495, 'cervix': 496, 'skin': 497, 'large': 498, 'intestine': 499, 'rectum': 500, 'prostate': 501, 'gland': 502, 'testicle': 503, 'etc': 504, 'signs': 505, 'common': 506, 'occurring': 507, 'india': 508, 'lymph': 509, 'nodes': 510, 'connected': 511, 'arteries': 512, 'liquid': 513, 'web': 514, 'throughout': 515, 'try': 516, 'keep': 517, 'filtering': 518, 'them': 519, 'advancement': 520, 'able': 521, 'spreads': 522, 'why': 523, 'surgeons': 524, 'usually': 525, 'weed': 526, 'cervical': 527, 'circulation': 528, 'particularly': 529, 'growth': 530, 'you': 531, 'shown': 532, 'medical': 533, 'checkup': 534, 'detection': 535, 'inserting': 536, 'gloved': 537, 'finger': 538, 'annual': 539, 'everybody': 540, 'faeces': 541, 'comprehensive': 542, 'mandatory': 543, 'confirmed': 544, 'diagnosis': 545, 'sigmoidoscopy': 546, 'telescopic': 547, 'period': 548, 'crossing': 549, 'credible': 550, 'finding': 551, 'initial': 552, 'stage': 553, 'must': 554, 'irregular': 555, 'known': 556, 'testicular': 557, 'testing': 558, 'best': 559, 'bathing': 560, 'hot': 561, 'flaccid': 562, 'situation': 563, 'easily': 564, 'figured': 565, 'finds': 566, 'defect': 567, 'touching': 568, 'then': 569, 'consulted': 570, 'humans': 571, 'experienced': 572, 'dentist': 573, 'gum': 574, 'lips': 575, 'cheek': 576, 'paid': 577, 'scab': 578, 'cracks': 579, 'bleeding': 580, 'eating': 581, 'betel': 582, 'masala': 583, 'zarda': 584, 'essential': 585, 'view': 586, 'your': 587, 'mirror': 588, 'case': 589, 'advice': 590, 'know': 591, 'their': 592, 'own': 593, 'breasts': 594, 'good': 595, 'few': 596, 'days': 597, 'menstruation': 598, 'becoming': 599, 'pains': 600, 'stopped': 601, 'appoint': 602, 'day': 603, 'whenever': 604, 'specially': 605, 'danger': 606, 'increases': 607, 'woman': 608, 'feels': 609, 'she': 610, 'cysts': 611, 'correctly': 612, 'situations': 613, 'mammogram': 614, 'goes': 615, 'whose': 616, 'mothers': 617, 'sister': 618, 'aunts': 619, 'mammography': 620, 'since': 621, 'pathology': 622, 'microscope': 623, 'xray': 624, 'scan': 625, 'ultrasound': 626, 'list': 627, 'training': 628, 'centres': 629, 'depends': 630, 'limited': 631, 'area': 632, 'along': 633, 'affected': 634, 'normal': 635, 'attempted': 636, 'particle': 637, 'entered': 638, 'lessen': 639, 'burnt': 640, 'laser': 641, 'calculation': 642, 'based': 643, 'strength': 644, 'mark': 645, 'entry': 646, 'person': 647, 'prohibited': 648, 'room': 649, 'radioactive': 650, 'sometimes': 651, 'red': 652, 'feel': 653, 'vomiting': 654, 'fully': 655, 'treated': 656, 'medicine': 657, 'medicines': 658, 'nails': 659, 'decrement': 660, 'cause': 661, 'tiredness': 662, 'cycle': 663, 'eats': 664, 'healthy': 665, 'he': 666, 'recover': 667, 'clean': 668, 'sick': 669, 'immune': 670, 'incurable': 671, 'kept': 672, 'palliative': 673, 'physical': 674, 'mental': 675, 'hospitals': 676, 'available': 677, 'awareness': 678, 'prevention': 679, 'related': 680, 'products': 681, 'quitting': 682, 'control': 683, 'fresh': 684, 'fruits': 685, 'green': 686, 'vegetables': 687, 'vegetarian': 688, 'exercise': 689, 'fast': 690, 'least': 691, 'half': 692, 'hour': 693, 'everyday': 694, 'chilly': 695, 'fried': 696, 'roasted': 697, 'meat': 698, 'ghee': 699, 'wine': 700, 'making': 701, 'relationship': 702, 'staying': 703, 'faithful': 704, 'partner': 705, 'productive': 706, 'organs': 707, 'feeding': 708, 'long': 709, 'using': 710, 'condoms': 711, 'copulation': 712, 'bringing': 713, 'society': 714, 'information': 715, 'keeping': 716, 'away': 717, 'bad': 718, 'reforms': 719, 'urban': 720, 'government': 721, 'nongovernment': 722, 'department': 723, 'social': 724, 'organizations': 725, 'health': 726, 'anganwadi': 727, 'workers': 728, 'cancerous': 729, 'selfbreast': 730, 'junior': 731, 'high': 732, 'schools': 733, 'superintendant': 734, 'base': 735, 'hospital': 736, 'district': 737, 'college': 738, 'private': 739, 'state': 740, 'asked': 741, 'maintain': 742, 'register': 743, 'outdoor': 744, 'post': 745, 'report': 746, 'directorate': 747, 'chicken': 748, 'pox': 749, 'varicella': 750, 'viral': 751, 'zoster': 752, 'vzv': 753, 'fever': 754, 'eruption': 755, 'papules': 756, 'sign': 757, 'virus': 758, 'another': 759, 'air': 760, 'drops': 761, 'spray': 762, 'saliva': 763, 'environment': 764, 'sneezing': 765, 'coughing': 766, 'infected': 767, 'direct': 768, 'herpes': 769, 'contagious': 770, 'raw': 771, 'wounds': 772, 'cases': 773, 'pregnant': 774, 'unborn': 775, 'baby': 776, 'erupt': 777, 'over': 778, 'often': 779, 'week': 780, 'started': 781, 'shivering': 782, 'nausea': 783, 'clear': 784, 'famous': 785, 'blisters': 786, 'extreme': 787, 'itching': 788, 'freckles': 789, 'later': 790, 'scabs': 791, 'attack': 792, 'adult': 793, 'childhood': 794, 'adolescence': 795, 'adults': 796, 'who': 797, 'had': 798, 'never': 799, 'come': 800, 'contraction': 801, 'suffer': 802, 'adulthood': 803, 'serious': 804, 'adolescents': 805, 'comparison': 806, 'stays': 807, 'longer': 808, 'school': 809, 'work': 810, 'helps': 811, 'decreasing': 812, 'effective': 813, 'solution': 814, 'escape': 815, 'estimated': 816, 'acute': 817, 'joint': 818, 'complaints': 819, 'teeth': 820, 'nose': 821, 'tourniquet': 822, 'comes': 823, 'positive': 824, 'platelet': 825, 'count': 826, 'less': 827, 'lac': 828, 'dengue': 829, 'sting': 830, 'aedes': 831, 'aegypti': 832, 'tiger': 833, 'mosquito': 834, 'stings': 835, 'home': 836, 'coolers': 837, 'tanks': 838, 'root': 839, 'empty': 840, 'disused': 841, 'tin': 842, 'cans': 843, 'tyres': 844, 'flower': 845, 'pots': 846, 'bottles': 847, 'money': 848, 'plants': 849, 'cisterns': 850, 'tubs': 851, 'pitchers': 852, 'changing': 853, 'twice': 854, 'let': 855, 'collect': 856, 'fill': 857, 'ditches': 858, 'soil': 859, 'filling': 860, 'kerosene': 861, 'oil': 862, 'ditch': 863, 'neem': 864, 'mustard': 865, 'full': 866, 'sleeve': 867, 'shirts': 868, 'socks': 869, 'boys': 870, 'wear': 871, 'clothes': 872, 'going': 873, 'insecticides': 874, 'sprayed': 875, 'outburst': 876, 'center': 877, 'nets': 878, 'antimosquito': 879, 'incense': 880, 'sticks': 881, 'sleeping': 882, 'install': 883, 'windows': 884, 'doors': 885, 'clerestorys': 886, 'nonsteroidal': 887, 'drugs': 888, 'diabetes': 889, 'sugar': 890, 'controlled': 891, 'killing': 892, 'forms': 893, 'insulin': 894, 'following': 895, 'frequent': 896, 'feeling': 897, 'urination': 898, 'thirsty': 899, 'inability': 900, 'sexual': 901, 'activities': 902, 'numbness': 903, 'feet': 904, 'paralysing': 905, 'problems': 906, 'complexities': 907, 'emerge': 908, 'excess': 909, 'term': 910, 'tendons': 911, 'neuropathy': 912, 'nephropathy': 913, 'retinopathy': 914, 'vessels': 915, 'damages': 916, 'hands': 917, 'inflammation': 918, 'starts': 919, 'tip': 920, 'fingers': 921, 'upwards': 922, 'lose': 923, 'power': 924, 'delicate': 925, 'system': 926, 'present': 927, 'damaged': 928, 'kidneys': 929, 'stop': 930, 'working': 931, 'dialysis': 932, 'transplantation': 933, 'complexity': 934, 'paralysis': 935, 'studies': 936, 'proved': 937, 'dangers': 938, 'those': 939, 'decreases': 940, 'infection': 941, 'gums': 942, 'bladder': 943, 'reproductive': 944, 'contagion': 945, 'decreased': 946, 'great': 947, 'extent': 948, 'adopting': 949, 'chances': 950, 'predamage': 951, 'minimizing': 952, 'type': 953, 'polluted': 954, 'bites': 955, 'enters': 956, 'appearing': 957, 'stiffness': 958, 'neck': 959, 'strokes': 960, 'fainting': 961, 'nervousness': 962, 'mentioned': 963, 'admitted': 964, 'primary': 965, 'subdivisional': 966, 'malaria': 967, 'mosquitoes': 968, 'community': 969, 'carrying': 970, 'mainly': 971, 'reside': 972, 'outside': 973, 'paddy': 974, 'fields': 975, 'ponds': 976, 'filled': 977, 'cleanliness': 978, 'cut': 979, 'tall': 980, 'grass': 981, 'bushes': 982, 'pants': 983, 'pyjama': 984, 'dhoti': 985, 'sleeved': 986, 'kurta': 987, 'shirt': 988, 'evening': 989, 'wherever': 990, 'rain': 991, 'house': 992, 'cooperate': 993, 'staffs': 994, 'sprinkling': 995, 'fogging': 996, 'fine': 997, 'enter': 998, 'pigsties': 999, 'encephalitis': 1000, 'administered': 1001, 'hepatitisa': 1002, 'widespread': 1003, 'spreading': 1004, 'world': 1005, 'level': 1006, 'attacks': 1007, 'lever': 1008, 'intensity': 1009, 'first': 1010, 'anal': 1011, 'passage': 1012, 'comparatively': 1013, 'develops': 1014, 'jaundice': 1015, 'purge': 1016, 'colored': 1017, 'ache': 1018, 'hungry': 1019, 'dependent': 1020, 'frequency': 1021, 'emergence': 1022, 'v': 1023, 'kinds': 1024, 'hepatitis': 1025, 'viruses': 1026, 'avoided': 1027, 'hepatitisb': 1028, 'similarly': 1029, 'practical': 1030, 'against': 1031, 'safe': 1032, 'booster': 1033, 'dose': 1034, 'six': 1035, 'combined': 1036, 'glaxosmithkline': 1037, 'provides': 1038, 'single': 1039, 'order': 1040, 'paediatric': 1041, 'ml': 1042, 'worldwide': 1043, 'hbv': 1044, 'affects': 1045, 'liver': 1046, 'destroyed': 1047, 'function': 1048, 'interrupted': 1049, 'results': 1050, 'unexpected': 1051, 'extremely': 1052, 'thought': 1053, 'times': 1054, 'hiv': 1055, 'aids': 1056, 'victimises': 1057, 'death': 1058, 'vehicle': 1059, 'fluids': 1060, 'sperm': 1061, 'vaginal': 1062, 'included': 1063, 'three': 1064, 'ways': 1065, 'child': 1066, 'birth': 1067, 'convenient': 1068, 'resultant': 1069, 'chronic': 1070, 'carrier': 1071, 'protective': 1072, 'antibacterial': 1073, 'reactions': 1074, 'intense': 1075, 'old': 1076, 'extensive': 1077, 'remarkable': 1078, 'decrease': 1079, 'arising': 1080, 'yellow': 1081, 'jack': 1082, 'vomit': 1083, 'negro': 1084, 'american': 1085, 'plague': 1086, 'made': 1087, 'precautions': 1088, 'hernia': 1089, 'does': 1090, 'huge': 1091, 'population': 1092, 'stayed': 1093, 'independence': 1094, 'welfare': 1095, 'program': 1096, 'was': 1097, 'run': 1098, 'national': 1099, 'subject': 1100, 'suggested': 1101, 'international': 1102, 'conference': 1103, 'cairo': 1104, 'egypt': 1105, 'would': 1106, 'human': 1107, 'conjugate': 1108, 'reproduction': 1109, 'element': 1110, 'within': 1111, 'planning': 1112, 'services': 1113, 'concept': 1114, 'programme': 1115, 'running': 1116, 'uttarakhand': 1117, 'constitution': 1118, 'rate': 1119, 'low': 1120, 'original': 1121, 'uttar': 1122, 'pradesh': 1123, 'lowered': 1124, 'districts': 1125, 'paudi': 1126, 'haridwar': 1127, 'gross': 1128, 'infants': 1129, 'her': 1130, 'life': 1131, 'continuously': 1132, 'inter': 1133, 'differences': 1134, 'desire': 1135, 'son': 1136, 'affect': 1137, 'future': 1138, 'hilly': 1139, 'plain': 1140, 'fourth': 1141, 'give': 1142, 'next': 1143, 'little': 1144, 'kids': 1145, 'births': 1146, 'category': 1147, 'comment': 1148, 'tendencies': 1149, 'styles': 1150, 'particular': 1151, 'according': 1152, 'estimates': 1153, 'sample': 1154, 'registration': 1155, 'average': 1156, 'infant': 1157, 'mortality': 1158, 'live': 1159, 'third': 1160, 'deaths': 1161, 'infancy': 1162, 'per': 1163, 'maternal': 1164, 'considering': 1165, 'odd': 1166, 'said': 1167, 'noncommunicable': 1168, 'big': 1169, 'style': 1170, 'modernization': 1171, 'urbanization': 1172, 'goal': 1173, 'bring': 1174, 'decline': 1175, 'importance': 1176, 'participation': 1177, 'relation': 1178, 'provide': 1179, 'protected': 1180, 'contraceptive': 1181, 'methods': 1182, 'make': 1183, 'facilities': 1184, 'pregnancy': 1185, 'help': 1186, 'parents': 1187, 'babies': 1188, 'programs': 1189, 'parent': 1190, 'security': 1191, 'childbirth': 1192, 'institutional': 1193, 'childbirths': 1194, 'increased': 1195, 'maximum': 1196, 'works': 1197, 'organisation': 1198, 'r': 1199, 'camps': 1200, 'sessions': 1201, 'appointment': 1202, 'contract': 1203, 'construction': 1204, 'repairing': 1205, 'units': 1206, 'supplementary': 1207, 'basis': 1208, 'unserved': 1209, 'immunisation': 1210, 'acceptability': 1211, 'contraceptives': 1212, 'directions': 1213, 'service': 1214, 'phcs': 1215, 'chcs': 1216, 'secure': 1217, 'oclock': 1218, 'night': 1219, 'morning': 1220, 'untrained': 1221, 'midwives': 1222, 'trained': 1223, 'labor': 1224, 'maternity': 1225, 'counsellors': 1226, 'officer': 1227, 'were': 1228, 'accepted': 1229, 'appointed': 1230, 'e': 1231, 'scheme': 1232, 'advertisements': 1233, 'newspapers': 1234, 'officers': 1235, 'selected': 1236, 'reported': 1237, 'contribution': 1238, 'agastyamuni': 1239, 'chc': 1240, 'rudraprayag': 1241, 'village': 1242, 'council': 1243, 'organising': 1244, 'outreach': 1245, 'session': 1246, 'defined': 1247, 'saturday': 1248, 'scrapped': 1249, 'govt': 1250, 'july': 1251, 'bought': 1252, 'rch': 1253, 'kits': 1254, 'provided': 1255, 'directly': 1256, 'equipments': 1257, 'provision': 1258, 'purchase': 1259, 'recommendation': 1260, 'executive': 1261, 'committee': 1262, 'constituted': 1263, 'head': 1264, 'office': 1265, 'propagation': 1266, 'nsv': 1267, 'without': 1268, 'stitch': 1269, 'stabilisation': 1270, 'installation': 1271, 'stable': 1272, 'rn': 1273, 'hoarding': 1274, 'wall': 1275, 'paintings': 1276, 'orientation': 1277, 'members': 1278, 'panchayati': 1279, 'raj': 1280, 'paramedical': 1281, 'staff': 1282, 'media': 1283, 'exhibition': 1284, 'leprosy': 1285, 'bacteria': 1286, 'microbacterium': 1287, 'leprae': 1288, 'nervous': 1289, 'incubation': 1290, 'grows': 1291, 'slowly': 1292, 'sex': 1293, 'equally': 1294, 'm': 1295, 'cures': 1296, 'completely': 1297, 'eradicating': 1298, 'prevents': 1299, 'noncontagious': 1300, 'resistance': 1301, 'capability': 1302, 'fight': 1303, 'thereby': 1304, 'happen': 1305, 'discolored': 1306, 'reddish': 1307, 'spot': 1308, 'stain': 1309, 'piercing': 1310, 'cold': 1311, 'oily': 1312, 'shine': 1313, 'thickness': 1314, 'eyebrows': 1315, 'chin': 1316, 'ears': 1317, 'hard': 1318, 'thrilling': 1319, 'sensation': 1320, 'dryness': 1321, 'deformation': 1322, 'initiation': 1323, 'freckle': 1324, 'numb': 1325, 'cured': 1326, 'disability': 1327, 'aroused': 1328, 'reason': 1329, 'excommunication': 1330, 'careless': 1331, 'right': 1332, 'growing': 1333, 'malformed': 1334, 'face': 1335, 'ugly': 1336, 'ulcer': 1337, 'insensitive': 1338, 'deformity': 1339, 'lateness': 1340, 'brought': 1341, 'previous': 1342, 'yes': 1343, 'disabled': 1344, 'way': 1345, 'simple': 1346, 'operations': 1347, 'his': 1348, 'livelihood': 1349, 'bite': 1350, 'female': 1351, 'anopheles': 1352, 'once': 1353, 'apply': 1354, 'yourself': 1355, 'pour': 1356, 'petrolubricants': 1357, 'recommended': 1358, 'administer': 1359, 'earliest': 1360, 'antibody': 1361, 'incidents': 1362, 'nine': 1363, 'indications': 1364, 'conjunctivitis': 1365, 'stains': 1366, 'inside': 1367, 'mouths': 1368, 'erupting': 1369, 'loose': 1370, 'motion': 1371, 'hunger': 1372, 'seriously': 1373, 'almost': 1374, 'local': 1375, 'having': 1376, 'entrance': 1377, 'mumps': 1378, 'perotitis': 1379, 'emerges': 1380, 'glands': 1381, 'jaws': 1382, 'paining': 1383, 'cheeks': 1384, 'respectively': 1385, 'drying': 1386, 'german': 1387, 'youths': 1388, 'nominal': 1389, 'defects': 1390, 'attenuated': 1391, 'vaccines': 1392, 'amalgamated': 1393, 'mmr': 1394, 'breed': 1395, 'achieved': 1396, 'exercises': 1397, 'step': 1398, 'execution': 1399, 'believes': 1400, 'eradicate': 1401, 'w': 1402, 'unicef': 1403, 'administration': 1404, 'second': 1405, 'protect': 1406, 'disorder': 1407, 'brain': 1408, 'think': 1409, 'understand': 1410, 'afflicted': 1411, 'victims': 1412, 'mentally': 1413, 'ill': 1414, 'purblindness': 1415, 'epilepsy': 1416, 'sleeplessness': 1417, 'hypersomnia': 1418, 'process': 1419, 'mood': 1420, 'schizophrenia': 1421, 'dementia': 1422, 'delirium': 1423, 'personality': 1424, 'african': 1425, 'latin': 1426, 'many': 1427, 'paying': 1428, 'sad': 1429, 'angry': 1430, 'sorry': 1431, 'happiness': 1432, 'happy': 1433, 'disturbed': 1434, 'talk': 1435, 'thinking': 1436, 'correct': 1437, 'others': 1438, 'alcohol': 1439, 'cannabis': 1440, 'marijuana': 1441, 'declaring': 1442, 'agony': 1443, 'him': 1444, 'lab': 1445, 'ecg': 1446, 'rft': 1447, 'lft': 1448, 'eeg': 1449, 'ct': 1450, 'diagnostic': 1451, 'standardized': 1452, 'intervenes': 1453, 'psychological': 1454, 'listening': 1455, 'providing': 1456, 'emotionally': 1457, 'propagating': 1458, 'press': 1459, 'radio': 1460, 'fairs': 1461, 'posters': 1462, 'banners': 1463, 'better': 1464, 'relations': 1465, 'colleges': 1466, 'institutes': 1467, 'treating': 1468, 'emotional': 1469, 'disorders': 1470, 'enabling': 1471, 'families': 1472, 'undergo': 1473, 'solving': 1474, 'personal': 1475, 'difficulty': 1476, 'saving': 1477, 'falling': 1478, 'executed': 1479, 'authority': 1480, 'april': 1481, 'bed': 1482, 'constructed': 1483, 'dehradun': 1484, 'chosen': 1485, 'garhwal': 1486, 'division': 1487, 'nainital': 1488, 'kumaun': 1489, 'proposal': 1490, 'sent': 1491, 'implemented': 1492, 'benefit': 1493, 'transferred': 1494, 'transfer': 1495, 'living': 1496, 'poverty': 1497, 'line': 1498, 'assistance': 1499, 'rs': 1500, 'delivery': 1501, 'proper': 1502, 'nutrition': 1503, 'capital': 1504, 'received': 1505, 'intended': 1506, 'beneficiaries': 1507, 'predelivery': 1508, 'percentage': 1509, 'thrice': 1510, 'numbers': 1511, 'advantage': 1512, 'iron': 1513, 'folic': 1514, 'acid': 1515, 'pills': 1516, 'tetanus': 1517, 'toxide': 1518, 'injection': 1519, 'got': 1520, 'injections': 1521, 't': 1522, 'vogue': 1523, 'uneducated': 1524, 'standards': 1525, 'indicating': 1526, 'distribution': 1527, 'anemia': 1528, 'referencing': 1529, 'complex': 1530, 'conclude': 1531, 'place': 1532, 'maids': 1533, 'assistant': 1534, 'seven': 1535, 'completing': 1536, 'institutions': 1537, 'benefitted': 1538, 'postlabour': 1539, 'postchildbirth': 1540, 'newborn': 1541, 'abortion': 1542, 'comparative': 1543, 'detail': 1544, 'achievements': 1545, 'table': 1546, 'poliomyelitis': 1547, 'medium': 1548, 'polio': 1549, 'arises': 1550, 'rapidly': 1551, 'faster': 1552, 'crowded': 1553, 'oral': 1554, 'poliovirus': 1555, 'opv': 1556, 'contemporary': 1557, 'soviet': 1558, 'union': 1559, 'technique': 1560, 'controlling': 1561, 'discovered': 1562, 'relevant': 1563, 'proof': 1564, 'success': 1565, 'eradication': 1566, 'pulse': 1567, 'successful': 1568, 'dtp': 1569, 'clinical': 1570, 'pertussis': 1571, 'diphtheria': 1572, 'throat': 1573, 'contractible': 1574, 'communicated': 1575, 'intercourse': 1576, 'sexually': 1577, 'transmitted': 1578, 'painful': 1579, 'gonorrhoea': 1580, 'chlamydia': 1581, 'initially': 1582, 'end': 1583, 'create': 1584, 'either': 1585, 'looks': 1586, 'totally': 1587, 'infect': 1588, 'uncommon': 1589, 'oozing': 1590, 'stench': 1591, 'abdomen': 1592, 'naval': 1593, 'vagina': 1594, 'depths': 1595, 'crust': 1596, 'urinary': 1597, 'tract': 1598, 'urinating': 1599, 'excreting': 1600, 'flu': 1601, 'arise': 1602, 'dead': 1603, 'inborn': 1604, 'syphilis': 1605, 'undeveloped': 1606, 'conjuctiva': 1607, 'contracted': 1608, 'helpful': 1609, 'copulate': 1610, 'partners': 1611, 'wash': 1612, 'remember': 1613, 'encourage': 1614, 'followed': 1615, 'tuberculosis': 1616, 'die': 1617, 'higher': 1618, 'bones': 1619, 'joints': 1620, 'commonly': 1621, 'economic': 1622, 'loss': 1623, 'quantity': 1624, 'too': 1625, 'afraid': 1626, 'say': 1627, 'orphans': 1628, 'research': 1629, 'drop': 1630, 'incidence': 1631, 'privilege': 1632, 'dying': 1633, 'thrown': 1634, 'homes': 1635, 'dots': 1636, 'strategy': 1637, 'coughs': 1638, 'chief': 1639, 'symptom': 1640, 'phlegm': 1641, 'droplets': 1642, 'breath': 1643, 'infects': 1644, 'recovering': 1645, 'quits': 1646, 'observed': 1647, 'short': 1648, 'course': 1649, 'chemotherapy': 1650, 'revealed': 1651, 'means': 1652, 'courses': 1653, 'antituberculosis': 1654, 'presence': 1655, 'worker': 1656, 'stages': 1657, 'intensive': 1658, 'phase': 1659, 'continuation': 1660, 'taking': 1661, 'alternate': 1662, 'negative': 1663, 'issued': 1664, 'calendared': 1665, 'multiblistered': 1666, 'combo': 1667, 'pack': 1668, 'weekly': 1669, 'watch': 1670, 'whoever': 1671, 'encouraged': 1672, 'supposed': 1673, 'epidemics': 1674, 'arbovirus': 1675, 'flaviviridae': 1676, 'singleformula': 1677, 'rna': 1678, 'simpsaloni': 1679, 'africanus': 1680, 'administering': 1681, 'bcg': 1682, 'refer': 1683, 'send': 1684, 'enquiring': 1685, 'went': 1686, 'vaccinated': 1687, 'educate': 1688, 'stores': 1689, 'udham': 1690, 'singh': 1691, 'nagar': 1692, 'built': 1693, 'distribute': 1694, 'faroff': 1695, 'supply': 1696, 'revised': 1697, 'properly': 1698, 'fourwheeler': 1699, 'tehri': 1700, 'uttarkashi': 1701, 'chamoli': 1702, 'pithauragarh': 1703, 'almora': 1704, 'twowheeler': 1705, 'microscopic': 1706, 'centre': 1707, 'binocular': 1708, 'bageshwar': 1709, 'champawat': 1710, 'four': 1711, 'wheeler': 1712, 'dust': 1713, 'dirt': 1714, 'rusted': 1715, 'metals': 1716, 'cuts': 1717, 'convulse': 1718, 'neither': 1719, 'opens': 1720, 'nor': 1721, 'closes': 1722, 'slow': 1723, 'already': 1724, 'flavivirus': 1725, 'reproducing': 1726, 'locally': 1727, 'muscle': 1728, 'sticky': 1729, 'wet': 1730, 'material': 1731, 'sound': 1732, 'dog': 1733, 'barking': 1734, 'suddenly': 1735, 'organisms': 1736, 'pneumonia': 1737, 'bronchitis': 1738, 'typhoid': 1739, 'gastrointestinal': 1740, 'fullfledged': 1741, 'insect': 1742, 'salmonella': 1743, 'typhi': 1744, 'periodic': 1745, 'item': 1746, 'beverage': 1747, 'organic': 1748, 'constituents': 1749, 'inactive': 1750, 'insects': 1751, 'reliable': 1752, 'traveling': 1753, 'regional': 1754, 'youth': 1755, 'major': 1756, 'public': 1757, 'antibiotic': 1758, 'waist': 1759, 'epidemic': 1760, 'jungle': 1761, 'effect': 1762, 'density': 1763, 'real': 1764, 'cure': 1765, 'corollary': 1766, 'lot': 1767, 'plenty': 1768, 'drink': 1769, 'hamster': 1770, 'model': 1771, 'ribavirin': 1772, 'considered': 1773, 'same': 1774, 'proves': 1775, 'hepatitisc': 1776, 'historical': 1777, 'says': 1778, 'cdc': 1779, 'fact': 1780, 'sheet': 1781, 'toxic': 1782, 'history': 1783, 'afric': 1784, 'america': 1785, 'europe': 1786, 'caribbean': 1787, 'islands': 1788, 'worst': 1789, 'united': 1790, 'thousand': 1791, 'died': 1792, 'mississippi': 1793, 'valley': 1794, 'naturopathy': 1795, 'medicalphilosophy': 1796, 'recuperation': 1797, 'natural': 1798, 'molecules': 1799, 'therapy': 1800, 'homeopathy': 1801, 'sun': 1802, 'acupuncture': 1803, 'acupressure': 1804, 'therapies': 1805, 'ayurveda': 1806, 'nature': 1807, 'creative': 1808, 'elements': 1809, 'powers': 1810, 'lightly': 1811, 'cooked': 1812, 'play': 1813, 'conclusive': 1814, 'role': 1815, 'revolution': 1816, 'science': 1817, 'boon': 1818, 'poor': 1819, 'nations': 1820, 'biggest': 1821, 'external': 1822, 'piles': 1823, 'expressed': 1824, 'chikungunya': 1825, 'extending': 1826, 'aggressive': 1827, 'chikununya': 1828, 'alphavirus': 1829, 'chikungunia': 1830, 'entering': 1831, 'humanmosquitohuman': 1832, 'monkeys': 1833, 'species': 1834, 'including': 1835, 'chloroquine': 1836, 'proving': 1837, 'stones': 1838, 'flushed': 1839, 'grow': 1840, 'blockage': 1841, 'normally': 1842, 'regrettable': 1843, 'thing': 1844, 'chance': 1845, 'catching': 1846, 'malfunction': 1847, 'thighs': 1848, 'minutes': 1849, 'hours': 1850, 'relief': 1851, 'intermittently': 1852, 'complaint': 1853, 'perspiration': 1854, 'urine': 1855, 'complain': 1856, 'starting': 1857, 'renal': 1858, 'chronine': 1859, 'diagnosed': 1860, 'xraysonography': 1861, 'dye': 1862, 'solutions': 1863, 'litre': 1864, 'amount': 1865, 'protein': 1866, 'nitrogen': 1867, 'sodium': 1868, 'materials': 1869, 'chocolate': 1870, 'soyabean': 1871, 'almond': 1872, 'avoid': 1873, 'cocacola': 1874, 'beverages': 1875, 'heavy': 1876, 'vitaminc': 1877, 'juice': 1878, 'orange': 1879, 'calcium': 1880, 'uric': 1881, 'meaning': 1882, 'transplant': 1883, 'functional': 1884, 'unsuccessful': 1885, 'transplanting': 1886, 'donator': 1887, 'alive': 1888, 'transplantable': 1889, 'pancreas': 1890, 'penis': 1891, 'challenging': 1892, 'modern': 1893, 'discipline': 1894, 'unacceptance': 1895, 'transplanted': 1896, 'management': 1897, 'rejects': 1898, 'reacting': 1899, 'challenge': 1900, 'active': 1901, 'sensitive': 1902, 'valves': 1903, 'veins': 1904, 'arm': 1905, 'suitable': 1906, 'formal': 1907, 'alleviate': 1908, 'risks': 1909, 'manage': 1910, 'allocation': 1911, 'attached': 1912, 'eurotransplant': 1913, 'assured': 1914, 'ethical': 1915, 'issues': 1916, 'fore': 1917, 'definition': 1918, 'agreement': 1919, 'payment': 1920, 'amoeba': 1921, 'dysentry': 1922, 'microbic': 1923, 'entamoeba': 1924, 'histolytica': 1925, 'ova': 1926, 'items': 1927, 'eggs': 1928, 'dysentery': 1929, 'convulsion': 1930, 'anus': 1931, 'diagnosing': 1932, 'tenderness': 1933, 'caecum': 1934, 'iliac': 1935, 'region': 1936, 'flies': 1937, 'excreta': 1938, 'mucus': 1939, 'thickened': 1940, 'portal': 1941, 'vein': 1942, 'epatitis': 1943, 'abscess': 1944, 'fatal': 1945, 'blasts': 1946, 'peritoneum': 1947, 'pericardium': 1948, 'shoulder': 1949, 'pinnacle': 1950, 'burn': 1951, 'kitchen': 1952, 'until': 1953, 'eat': 1954, 'barley': 1955, 'quality': 1956, 'washing': 1957, 'habit': 1958, 'thin': 1959, 'tapioca': 1960, 'pearls': 1961, 'sabudana': 1962, 'arrowroot': 1963, 'rice': 1964, 'curd': 1965, 'rich': 1966, 'remain': 1967, 'yoga': 1968, 'priceless': 1969, 'uterus': 1970, 'fibroid': 1971, 'leiomyoma': 1972, 'knot': 1973, 'approximately': 1974, 'forward': 1975, 'sonography': 1976, 'produce': 1977, 'infertility': 1978, 'predominantly': 1979, 'girls': 1980, 'infested': 1981, 'menopause': 1982, 'hormone': 1983, 'dark': 1984, 'complexion': 1985, 'fair': 1986, 'menarche': 1987, 'consumption': 1988, 'vegetarianism': 1989, 'fibrous': 1990, 'fibroids': 1991, 'unusual': 1992, 'menses': 1993, 'micturition': 1994, 'difficulties': 1995, 'endometriosis': 1996, 'adenomyosis': 1997, 'prerequisite': 1998, 'removal': 1999, 'submucos': 2000, 'removed': 2001, 'hysteroscopic': 2002, 'uterine': 2003, 'endoscopy': 2004, 'intramural': 2005, 'want': 2006, 'myomectomy': 2007, 'carried': 2008, 'hysteroscopy': 2009, 'laparoscopy': 2010, 'laprotomy': 2011, 'opening': 2012, 'quite': 2013, 'together': 2014, 'hysterectomy': 2015, 'putting': 2016, 'thigh': 2017, 'artery': 2018, 'laparoscopic': 2019, 'myolysis': 2020, 'blocked': 2021, 'poly': 2022, 'vinyl': 2023, 'gel': 2024, 'foam': 2025, 'particles': 2026, 'reduce': 2027, 'dreadful': 2028, 'thousands': 2029, 'recognized': 2030, 'break': 2031, 'down': 2032, 'financially': 2033, 'condition': 2034, 'cent': 2035, 'ridden': 2036, 'thus': 2037, 'lacs': 2038, 'financial': 2039, 'date': 2040, 'mri': 2041, 'though': 2042, 'somehow': 2043, 'side': 2044, 'effects': 2045, 'radiation': 2046, 'hold': 2047, 'weapon': 2048, 'infrared': 2049, 'thermography': 2050, 'lethal': 2051, 'greek': 2052, 'egyptian': 2053, 'temperature': 2054, 'sir': 2055, 'william': 2056, 'harchell': 2057, 'thermal': 2058, 'radiations': 2059, 'ad': 2060, 'certain': 2061, 'narrow': 2062, 'meningitis': 2063, 'intracranial': 2064, 'rheumatoid': 2065, 'arthritis': 2066, 'spondilitis': 2067, 'else': 2068, 'sight': 2069, 'go': 2070, 'anything': 2071, 'altered': 2072, 'impact': 2073, 'alone': 2074, 'weaken': 2075, 'viagra': 2076, 'someone': 2077, 'corrected': 2078, 'squint': 2079, 'certainly': 2080, 'syndrome': 2081, 'put': 2082, 'consulting': 2083, 'anyone': 2084, 'paternal': 2085, 'uncle': 2086, 'father': 2087, 'spoiled': 2088, 'look': 2089, 'naked': 2090, 'ultraviolet': 2091, 'walking': 2092, 'freshness': 2093, 'coolness': 2094, 'reduction': 2095, 'tv': 2096, 'computer': 2097, 'word': 2098, 'swellings': 2099, 'captivity': 2100, 'affecting': 2101, 'wide': 2102, 'actions': 2103, 'sitting': 2104, 'floor': 2105, 'domestic': 2106, 'knee': 2107, 'actually': 2108, 'bone': 2109, 'femur': 2110, 'foot': 2111, 'tibia': 2112, 'cartilage': 2113, 'happening': 2114, 'suffering': 2115, 'faces': 2116, 'climbing': 2117, 'stairs': 2118, 'bath': 2119, 'reached': 2120, 'preliminary': 2121, 'whom': 2122, 'alternatives': 2123, 'unicompartmental': 2124, 'resurfacing': 2125, 'hip': 2126, 'beneficial': 2127, 'replacement': 2128, 'tkr': 2129, 'useful': 2130, 'entire': 2131, 'mean': 2132, 'metal': 2133, 'implant': 2134, 'fixed': 2135, 'newest': 2136, 'alternative': 2137, 'rotating': 2138, 'platform': 2139, 'flexion': 2140, 'bending': 2141, 'gardening': 2142, 'driving': 2143, 'exercising': 2144, 'comfort': 2145, 'º': 2146, 'satisfaction': 2147, 'felt': 2148, 'fulfil': 2149, 'daily': 2150, 'surgical': 2151, 'balanced': 2152, 'apart': 2153, 'plays': 2154, 'dealing': 2155, 'vitamins': 2156, 'minerals': 2157, 'anti': 2158, 'oxidants': 2159, 'nutritive': 2160, 'substances': 2161, 'weight': 2162, 'grave': 2163, 'especially': 2164, 'containing': 2165, 'vitamin': 2166, 'c': 2167, 'apples': 2168, 'oranges': 2169, 'cherries': 2170, 'peppers': 2171, 'tomatoes': 2172, 'beet': 2173, 'roots': 2174, 'sweet': 2175, 'potato': 2176, 'grain': 2177, 'brown': 2178, 'obtained': 2179, 'physique': 2180, 'consumed': 2181, 'strong': 2182, 'wart': 2183, 'still': 2184, 'dry': 2185, 'quickly': 2186, 'cautious': 2187, 'hand': 2188, 'leg': 2189, 'commit': 2190, 'mistake': 2191, 'non': 2192, 'dangerous': 2193, 'knots': 2194, 'forget': 2195, 'forming': 2196, 'colour': 2197, 'cutting': 2198, 'ends': 2199, 'rapidity': 2200, 'hesitation': 2201, 'definitely': 2202, 'checked': 2203, 'attentive': 2204, 'points': 2205, 'paediatrician': 2206, 'dr': 2207, 'kumar': 2208, 'intake': 2209, 'activity': 2210, 'indeed': 2211, 'concern': 2212, 'anxiety': 2213, 'upbringing': 2214, 'worry': 2215, 'effort': 2216, 'tried': 2217, 'spend': 2218, 'joyous': 2219, 'moments': 2220, 'survey': 2221, 'move': 2222, 'restlessness': 2223, 'patience': 2224, 'faith': 2225, 'falter': 2226, 'structure': 2227, 'man': 2228, 'statistics': 2229, 'deep': 2230, 'proportion': 2231, 'unhealthy': 2232, 'carelessness': 2233, 'conception': 2234, 'bit': 2235, 'organization': 2236, 'bombay': 2237, 'guide': 2238, 'tells': 2239, 'majority': 2240, 'shy': 2241, 'hesitate': 2242, 'talking': 2243, 'villages': 2244, 'slums': 2245, 'hutments': 2246, 'chawls': 2247, 'wish': 2248, 'prove': 2249, 'dispensaries': 2250, 'free': 2251, 'asthma': 2252, 'flow': 2253, 'publication': 2254, 'indian': 2255, 'association': 2256, 'western': 2257, 'measures': 2258, 'yoke': 2259, 'effortful': 2260, 'direction': 2261, 'did': 2262, 'feed': 2263, 'elixir': 2264, 'saves': 2265, 'savior': 2266, 'efforts': 2267, 'scale': 2268, 'affirms': 2269, 'peeing': 2270, 'toilets': 2271, 'drinking': 2272, 'cleaning': 2273, 'genitals': 2274, 'deformed': 2275, 'complication': 2276, 'burning': 2277, 'coli': 2278, 'track': 2279, 'dirty': 2280, 'undergarments': 2281, 'loyalty': 2282, 'qualitative': 2283, 'digestible': 2284, 'freshly': 2285, 'advised': 2286, 'eaten': 2287, 'chapatti': 2288, 'dinner': 2289, 'acidity': 2290, 'killer': 2291, 'tasteful': 2292, 'produces': 2293, 'glow': 2294, 'removing': 2295, 'waste': 2296, 'dense': 2297, 'cooking': 2298, 'mixed': 2299, 'covered': 2300, 'digest': 2301, 'soothing': 2302, 'medicinal': 2303, 'uses': 2304, 'boiled': 2305, 'lemon': 2306, 'salt': 2307, 'seed': 2308, 'vinegar': 2309, 'chest': 2310, 'intelligence': 2311, 'digestion': 2312, 'porridge': 2313, 'mixing': 2314, 'pulses': 2315, 'moong': 2316, 'asafoetida': 2317, 'ginger': 2318, 'spices': 2319, 'fed': 2320, 'paste': 2321, 'cow': 2322, 'cleared': 2323, 'tendency': 2324, 'stops': 2325, 'intoxication': 2326, 'bhang': 2327, 'vanishes': 2328, 'adding': 2329, 'pinches': 2330, 'edible': 2331, 'soda': 2332, 'washed': 2333, 'grams': 2334, 'pod': 2335, 'honey': 2336, 'sunrise': 2337, 'sleep': 2338, 'hemi': 2339, 'cranial': 2340, 'grind': 2341, 'sieve': 2342, 'harmless': 2343, 'motions': 2344, 'coat': 2345, 'onion': 2346, 'navel': 2347, 'complains': 2348, 'rheumatic': 2349, 'torturous': 2350, 'massage': 2351, 'reduces': 2352, 'pieces': 2353, 'perpetual': 2354, 'tension': 2355, 'toothache': 2356, 'piece': 2357, 'improved': 2358, 'consuming': 2359, 'chemical': 2360, 'reducing': 2361, 'grains': 2362, 'breakfast': 2363, 'consume': 2364, 'cake': 2365, 'wheat': 2366, 'flour': 2367, 'sufficient': 2368, 'magnesium': 2369, 'parathas': 2370, 'source': 2371, 'energy': 2372, 'roast': 2373, 'handful': 2374, 'peanuts': 2375, 'jaggery': 2376, 'heat': 2377, 'trouble': 2378, 'bile': 2379, 'mix': 2380, 'sea': 2381, 'carom': 2382, 'seeds': 2383, 'loo': 2384, 'cover': 2385, 'pocket': 2386, 'purse': 2387, 'repeatedly': 2388, 'smelling': 2389, 'trikuti': 2390, 'redden': 2391, 'lotion': 2392, 'cotton': 2393, 'nutritional': 2394, 'satvik': 2395, 'secret': 2396, 'comfortable': 2397, 'tensions': 2398, 'mind': 2399, 'am': 2400, 'stress': 2401, 'me': 2402, 'pacifying': 2403, 'releases': 2404, 'ageing': 2405, 'abstinence': 2406, 'odour': 2407, 'brush': 2408, 'soft': 2409, 'branch': 2410, 'acacia': 2411, 'removes': 2412, 'freshened': 2413, 'chewing': 2414, 'aniseed': 2415, 'cardamom': 2416, 'chew': 2417, 'paan': 2418, 'mint': 2419, 'gargling': 2420, 'cinnamon': 2421, 'dried': 2422, 'prohibits': 2423, 'cumin': 2424, 'cup': 2425, 'brushing': 2426, 'reiki': 2427, 'anger': 2428, 'greed': 2429, 'excitement': 2430, 'chaos': 2431, 'ailments': 2432, 'deformities': 2433, 'sadness': 2434, 'remorse': 2435, 'depression': 2436, 'speaking': 2437, 'silent': 2438, 'doubting': 2439, 'attempts': 2440, 'suicide': 2441, 'capable': 2442, 'curing': 2443, 'palsy': 2444, 'obesity': 2445, 'gynaecological': 2446, 'powerlessness': 2447, 'madness': 2448, 'congenital': 2449, 'uplifts': 2450, 'suppress': 2451, 'emotions': 2452, 'everyone': 2453, 'peace': 2454, 'generating': 2455, 'healer': 2456, 'healing': 2457, 'riddance': 2458, 'possesses': 2459, 'ability': 2460, 'supernatural': 2461, 'treats': 2462, 'diseased': 2463, 'tactile': 2464, 'waves': 2465, 'qualities': 2466, 'devotion': 2467, 'intimacy': 2468, 'endurance': 2469, 'practice': 2470, 'powerful': 2471, 'released': 2472, 'expert': 2473, 'guru': 2474, 'grandmaster': 2475, 'attunement': 2476, 'omnipresent': 2477, 'heavenly': 2478, 'fills': 2479, 'connects': 2480, 'universal': 2481, 'force': 2482, 'transformed': 2483, 'distantly': 2484, 'master': 2485, 'highest': 2486, 'grandmastership': 2487, 'hundreds': 2488, 'students': 2489, 'learn': 2490, 'heights': 2491, 'participate': 2492, 'advertise': 2493, 'enthusiasm': 2494, 'symbols': 2495, 'taught': 2496, 'activate': 2497, 'agyachakra': 2498, 'wealth': 2499, 'victory': 2500, 'expression': 2501, 'completeness': 2502, 'love': 2503, 'attentiveness': 2504, 'establish': 2505, 'winter': 2506, 'magnetic': 2507, 'tratak': 2508, 'action': 2509, 'grid': 2510, 'memory': 2511, 'spiritual': 2512, 'meditation': 2513, 'balance': 2514, 'sense': 2515, 'duty': 2516, 'mankind': 2517, 'fifth': 2518, 'dilemma': 2519, 'forsake': 2520, 'specialists': 2521, 'believe': 2522, 'cholesterol': 2523, 'chilli': 2524, 'leafy': 2525, 'consumes': 2526, 'cigarettes': 2527, 'intoxicating': 2528, 'butter': 2529, 'raspberry': 2530, 'garlic': 2531, 'apple': 2532, 'jam': 2533, 'include': 2534, 'walk': 2535, 'routine': 2536, 'meditate': 2537}\n",
            "{'मोतियाबिंद': 0, 'का': 1, 'उपचार': 2, 'केवल': 3, 'शल्यचिकित्सा': 4, 'द्वारा': 5, 'ही': 6, 'सम्भव': 7, 'है': 8, '।': 9, 'इन्ट्रा': 10, 'कैनसूलर': 11, 'कैटरेक्ट': 12, 'एक्सट्रेक्शन': 13, 'intra': 14, 'capsular': 15, 'cataract': 16, 'extraction': 17, 'विधि': 18, 'में': 19, 'पूरा': 20, 'लैन्स': 21, 'कैपस्यूल': 22, 'निकाला': 23, 'जाता': 24, 'ऑपरेशन': 25, 'के': 26, 'बाद': 27, 'जाँच': 28, 'उपरान्त': 29, 'चश्में': 30, 'प्रयोग': 31, 'किया': 32, 'दौरान': 33, 'प्रत्यारोपण': 34, 'आँख': 35, 'अगले': 36, 'भाग': 37, 'आइरिस': 38, 'आगे': 39, 'इक्स्ट्रा': 40, 'सामने': 41, 'वाला': 42, 'हिस्सा': 43, 'तथा': 44, 'मैटर': 45, 'निकाल': 46, 'लिया': 47, 'और': 48, 'पीछे': 49, 'सुरक्षित': 50, 'छोड़': 51, 'दिया': 52, 'कैपस्यूलर': 53, 'बैग': 54, 'फिट': 55, 'sics': 56, 'small': 57, 'incision': 58, 'surgry': 59, 'मिमी': 60, 'की': 61, 'एक': 62, 'टनल': 63, 'बनाई': 64, 'जाती': 65, 'शेष': 66, 'ecce–iol': 67, 'तरह': 68, 'होती': 69, 'टाँके': 70, 'नही': 71, 'लगाये': 72, 'जाते': 73, 'हैं': 74, 'काला': 75, 'नेत्र': 76, 'तंत्रिका': 77, 'धीरे': 78, 'नष्ट': 79, 'पानी': 80, 'दबाव': 81, 'ज्यादा': 82, 'होने': 83, 'वजह': 84, 'से': 85, 'या': 86, 'रक्त': 87, 'पर्याप्त': 88, 'मात्रा': 89, 'न': 90, 'पहुँचने': 91, 'ऐसा': 92, 'होता': 93, 'काले': 94, 'वाली': 95, 'अधंता': 96, 'अंधता': 97, 'को': 98, 'रोका': 99, 'जा': 100, 'सकता': 101, 'यदि': 102, 'इसका': 103, 'पता': 104, 'जल्दी': 105, 'लग': 106, 'जाए': 107, 'नियमित': 108, 'इलाज': 109, 'व': 110, 'रहे': 111, 'जब': 112, 'आँखों': 113, 'अतिरिक्त': 114, 'हो': 115, 'परिवार': 116, 'किसी': 117, 'अधिकांश': 118, 'मरीजों': 119, 'जाने': 120, 'खुला': 121, 'फिर': 122, 'भी': 123, 'कुछ': 124, 'कारणवस': 125, 'कारणवश': 126, 'कम': 127, 'अंदर': 128, 'बढ़ता': 129, 'मरीज': 130, 'अगलबगल': 131, 'चीजें': 132, 'नहीं': 133, 'देख': 134, 'पाता': 135, 'अगर': 136, 'समय': 137, 'पर': 138, 'तो': 139, 'नजर': 140, 'सकती': 141, 'प्रमुख': 142, 'लक्षण': 143, 'जिनके': 144, 'प्रकट': 145, 'रोगी': 146, 'डॉक्टर': 147, 'करानी': 148, 'चाहिए': 149, 'रोशनी': 150, 'मे': 151, 'इंद्र': 152, 'धनुष': 153, 'समान': 154, 'रंगीन': 155, 'गोले': 156, 'दिखाई': 157, 'देना': 158, 'विशेष': 159, 'यंत्र': 160, 'करेंगे': 161, 'कितनी': 162, 'क्षति': 163, 'पहुँची': 164, 'फिल्ड': 165, 'टेस्ट': 166, 'जिसमें': 167, 'देखते': 168, 'हुए': 169, 'साइड': 170, 'सकने': 171, 'क्षमता': 172, 'बाहर': 173, 'हिस्से': 174, 'एंगल': 175, 'सकते': 176, 'विटामिनए': 177, 'कमी': 178, 'कॉर्नियल': 179, 'कमजोर': 180, 'घाव': 181, 'जिससे': 182, 'अन्त': 183, 'अन्धापन': 184, 'खसरे': 185, 'कुपोषण': 186, 'स्थिति': 187, 'अधिक': 188, 'रतौंधी': 189, 'खाने': 190, 'लगातार': 191, 'दस्त': 192, 'अवशोषण': 193, 'absorption': 194, 'होना': 195, 'मांग': 196, 'देता': 197, 'स्वेत': 198, 'पटल': 199, 'सूखा': 200, 'बिटोटस': 201, 'स्पॉट्स': 202, 'श्वेत': 203, 'श्\\u200dवेत': 204, 'धब्बे': 205, 'देते': 206, 'बचने': 207, 'लिए': 208, 'चौलाई': 209, 'चने': 210, 'साग': 211, 'मैथी': 212, 'पालक': 213, 'बन्दगोभी': 214, 'धनिया': 215, 'गाजर': 216, 'पपीता': 217, 'आम': 218, 'आदि': 219, 'सेवन': 220, 'करें': 221, 'माँ': 222, 'दूध': 223, 'प्रोत्साहित': 224, 'करना': 225, 'टीका': 226, 'लगाना': 227, 'खुराक': 228, 'लाख': 229, 'आईयू': 230, 'टीके': 231, 'वर्ष': 232, 'तक': 233, 'माह': 234, 'अन्तराल': 235, 'बच्चों': 236, 'पौष्टिक': 237, 'आहार': 238, 'दिये': 239, 'आवश्यकता': 240, 'ताकि': 241, 'वाले': 242, 'ब्लाइन्डनेस': 243, 'बचाया': 244, 'सकें': 245, 'रूबेला': 246, 'कारण': 247, 'कन्जानाईटल': 248, 'लिये': 249, 'टीकाकरण': 250, 'किये': 251, 'चोट': 252, 'लगने': 253, 'लगभग': 254, 'प्रतिशत': 255, 'बच्चें': 256, 'अन्धे': 257, 'सुरक्षा': 258, 'बारे': 259, 'लोगों': 260, 'शिक्षित': 261, 'पटाखें': 262, 'औद्योगिक': 263, 'दुर्घटनायें': 264, 'एवं': 265, 'रोड': 266, 'ट्रेफिक': 267, 'दुर्घटनायों': 268, 'अन्धता': 269, 'सके': 270, 'रोगों': 271, 'बचाव': 272, 'environmental': 273, 'senitation': 274, 'ओर': 275, 'ध्यान': 276, 'जरूरत': 277, 'धीरेधीरे': 278, 'बिना': 279, 'दर्द': 280, 'दोनों': 281, 'दृष्टि': 282, 'आना': 283, 'भूरा': 284, 'gray': 285, 'सफेद': 286, 'पुतली': 287, 'प्यूपिल': 288, 'प्रकाश': 289, 'किरणें': 290, 'रेटिना': 291, 'पड़ती': 292, 'पहले': 293, 'एकत्रित': 294, 'फंगस': 295, 'हमारे': 296, 'शरीर': 297, 'रहने': 298, 'जीव': 299, 'जो': 300, 'नुकसान': 301, 'पहुँचाता': 302, 'नमी': 303, 'जगह': 304, 'जैसे': 305, 'पैर': 306, 'अंगूठे': 307, 'नाखून': 308, 'नीचे': 309, 'अपना': 310, 'घर': 311, 'बना': 312, 'लेते': 313, 'जिसे': 314, 'ओनिकोमाइसिस': 315, 'कहते': 316, 'नजदीक': 317, 'साफ': 318, 'परन्तु': 319, 'दूर': 320, 'देखने': 321, 'परेशानी': 322, 'चीजों': 323, 'पास': 324, 'लाता': 325, 'क्लास': 326, 'विद्यार्थी': 327, 'श्यामपट': 328, 'काफी': 329, 'बैठने': 330, 'कोशिश': 331, 'करता': 332, 'यह': 333, 'ज्यादातर': 334, 'जवान': 335, 'देखा': 336, 'सिर': 337, 'भारीपन': 338, 'पढ़ने': 339, 'मांसपेशियों': 340, 'कमजोरी': 341, 'आकार': 342, 'बदल': 343, 'पढ़ते': 344, 'नजदीकी': 345, 'काम': 346, 'करते': 347, 'उससे': 348, 'ऊपर': 349, 'उम्र': 350, 'पाई': 351, 'पढ़नेलिखने': 352, 'कोई': 353, 'करने': 354, 'धुंधलापन': 355, 'किरण': 356, 'पर्दे': 357, 'बिन्दु': 358, 'केन्द्रित': 359, 'पाती': 360, 'कि': 361, 'धुंधला': 362, 'दिखता': 363, 'अथवा': 364, 'सर': 365, 'लाल': 366, 'सिलिंडरिकल': 367, 'ग्लासेस': 368, 'हमेशा': 369, 'पहनना': 370, 'कैंसर': 371, 'जीवन': 372, 'शैली': 373, 'उत्पन्न': 374, 'बीमारी': 375, 'गलत': 376, 'अचार': 377, 'विचार': 378, 'व्यवहार': 379, 'सिगरेट': 380, 'पीने': 381, 'फेफड़ों': 382, 'स्वॉस': 383, 'नलियों': 384, 'जैसेजैसे': 385, 'हम': 386, 'विकास': 387, 'अग्रसर': 388, 'संक्रामक': 389, 'निजात': 390, 'पा': 391, 'वैसेवैसे': 392, 'अपने': 393, 'बदलाव': 394, 'हदय': 395, 'रोगियों': 396, 'संख्या': 397, 'वृद्धि': 398, 'रही': 399, 'जापान': 400, 'नम्बर': 401, 'विकसित': 402, 'देशों': 403, 'दूसरे': 404, 'विकासशील': 405, 'तीसरे': 406, 'भारत': 407, 'आठ': 408, 'व्यक्ति': 409, 'उमर': 410, 'कभी': 411, 'पीड़ित': 412, 'देश': 413, 'रीतीरीवाज': 414, 'धर्म': 415, 'भिन्न': 416, 'अलगअलग': 417, 'विभिन्न': 418, 'प्रकार': 419, 'पायी': 420, 'सभी': 421, 'आंकडों': 422, 'आंकलन': 423, 'कर': 424, 'गया': 425, 'शहरों': 426, 'महिलाओं': 427, 'बच्चेदानी': 428, 'मुँह': 429, 'स्तन': 430, 'पाये': 431, 'ग्रामीण': 432, 'बीच': 433, 'पुरूषों': 434, 'धूम्रपान': 435, 'प्रदूषण': 436, 'फेफड़े': 437, 'श्वाँस': 438, 'साँस': 439, 'नली': 440, 'पाया': 441, 'गुटका': 442, 'पान': 443, 'पराग': 444, 'खैनी': 445, 'सुरती': 446, 'पेट': 447, 'सम्भावना': 448, 'गयी': 449, 'क्या': 450, 'नाम': 451, 'कोशिका': 452, 'आप': 453, 'गुणात्मक': 454, 'तरीके': 455, 'वृद्वि': 456, 'करती': 457, 'नियमों': 458, 'अनदेखा': 459, 'भागों': 460, 'पहुँच': 461, 'गिल्टी': 462, 'रूप': 463, 'ले': 464, 'लेती': 465, 'सम्पर्क': 466, 'आने': 467, 'तन्त्रों': 468, 'देती': 469, 'बीमारीयों': 470, 'समूह': 471, 'हालांकि': 472, 'हर': 473, 'मूलतः': 474, 'कोशिकाओं': 475, 'अव्यवस्था': 476, 'परिणामस्वरुप': 477, 'होते': 478, 'सामान्यतः': 479, 'सुसाध्य': 480, 'ट्यूमरों': 481, 'इनके': 482, 'संभावना': 483, 'असाध्य': 484, 'ट्यूमर': 485, 'निकट': 486, 'ऊतकों': 487, 'अंगों': 488, 'कोशिकाएँ': 489, 'अन्य': 490, 'फैल': 491, 'रोगव्यापि': 492, 'नए': 493, 'पैदा': 494, 'चूँकि': 495, 'अतः': 496, 'आवश्यक': 497, 'चिकित्सक': 498, 'तुरन्त': 499, 'लें': 500, 'बन': 501, 'चलते': 502, 'आरम्भ': 503, 'ऐसे': 504, 'अनेक': 505, 'दिखलाई': 506, 'पड़ने': 507, 'लगते': 508, 'आभास': 509, 'महत्वपूर्ण': 510, 'लक्षणों': 511, 'विवरण': 512, 'रहा': 513, 'गुर्दे': 514, 'ऑक्जेलेट': 515, 'पत्थरी': 516, 'किनकिन': 517, 'परहेज': 518, 'बरतना': 519, 'फायदेमंद': 520, 'भरता': 521, 'कहीं': 522, 'गाँठ': 523, 'सूजन': 524, 'अंग': 525, 'असामान्य': 526, 'मवाद': 527, 'खाँसी': 528, 'आवाज': 529, 'भारी': 530, 'खाना': 531, 'निगलने': 532, 'शौच': 533, 'कष्ट': 534, 'अपच': 535, 'कब्ज': 536, 'रहना': 537, 'आँतों': 538, 'सामान्य': 539, 'आदतों': 540, 'परिवर्तन': 541, 'तिल': 542, 'मस्से': 543, 'रंग': 544, 'रुप': 545, 'अचानक': 546, 'वैसे': 547, 'इन्हें': 548, 'मान': 549, 'लेना': 550, 'चाहिये': 551, 'दो': 552, 'सप्ताह': 553, 'इन': 554, 'बने': 555, 'दिखलाएँ': 556, 'इसमें': 557, 'शक': 558, 'पाए': 559, 'अधिकतर': 560, 'शीघ्र': 561, 'पहचान': 562, 'संभव': 563, 'इसके': 564, 'जानकारी': 565, 'बढ़ाने': 566, 'स्वंय': 567, 'रखने': 568, 'पहचानकर': 569, 'जड़': 570, 'ठीक': 571, 'अब': 572, 'यही': 573, 'लागत': 574, 'देर': 575, 'मुकाबले': 576, 'बहुत': 577, 'सचेत': 578, 'अपनी': 579, 'करवानी': 580, 'परीक्षणों': 581, 'चिन्ह': 582, 'मुख': 583, 'गर्भाशयग्रीवा': 584, 'सर्विक्स': 585, 'त्वचा': 586, 'बड़ी': 587, 'आंत': 588, 'मलाशय': 589, 'पुरस्थग्रंथी': 590, 'प्रोटेस्ट': 591, 'अण्डकोश': 592, 'टेस्टिकल': 593, 'लगा': 594, 'ग्रीवा': 595, 'स्त्रियों': 596, 'औरतों': 597, 'कुल': 598, 'लसीका': 599, 'ग्रन्थियाँ': 600, 'धमनियों': 601, 'जुड़ी': 602, 'हुई': 603, 'तरल': 604, 'द्रव': 605, 'बनाती': 606, 'जाल': 607, 'पूरे': 608, 'फैला': 609, 'ग्रंथियाँ': 610, 'छानकर': 611, 'सीमित': 612, 'प्रयत्\\u200dन': 613, 'बढ़': 614, 'वह': 615, 'पातीं': 616, 'फैलने': 617, 'लगता': 618, 'इसी': 619, 'शल्य': 620, 'आमतौर': 621, 'आसपास': 622, 'ग्रंथियों': 623, 'प्रवाह': 624, 'खासकर': 625, 'नई': 626, 'करवाए': 627, 'तुरंत': 628, 'डॉक्टरी': 629, 'करनी': 630, 'बडी': 631, 'लगाने': 632, 'करवाना': 633, 'दस्ताना': 634, 'चढ़ी': 635, 'अंगुली': 636, 'डालकर': 637, 'रोग': 638, 'आयु': 639, 'वार्षिक': 640, 'मल': 641, 'साथ': 642, 'आ': 643, 'निश्\\u200dचित': 644, 'निदान': 645, 'विस्तृत': 646, 'पार': 647, 'लेने': 648, 'अवधि': 649, 'सिग्माइडोस्कोपी': 650, 'दूरबीन': 651, 'पुरस्थ': 652, 'ग्रंथी': 653, 'आंरभिक': 654, 'अत्यंत': 655, 'विश्\\u200dवसनीय': 656, 'तरीका': 657, 'उंगली': 658, 'परीक्षण': 659, 'साल': 660, 'व्यक्तियों': 661, 'अवश्य': 662, 'जानी': 663, 'अनियमित': 664, 'सख्त': 665, 'क्षेत्र': 666, 'जाना': 667, 'यहाँ': 668, 'अण्ड': 669, 'ग्रंथीय': 670, 'आदमी': 671, 'प्रत्येक': 672, 'मास': 673, 'करके': 674, 'पुरूष': 675, 'गरम': 676, 'जल': 677, 'स्नान': 678, 'उसके': 679, 'अण्डकोष': 680, 'शिथिल': 681, 'इसकी': 682, 'सबसे': 683, 'अच्छा': 684, 'क्योंकि': 685, 'इस': 686, 'सुगमता': 687, 'लगाया': 688, 'दोष': 689, 'छूने': 690, 'चलता': 691, 'दिखलाना': 692, 'मनुष्य': 693, 'चिन्हों': 694, 'आरम्भिक': 695, 'आसानी': 696, 'अनुभव': 697, 'दंत': 698, 'पूरी': 699, 'मसूड़ों': 700, 'होठों': 701, 'गालों': 702, 'खुरण्ड': 703, 'पपड़ी': 704, 'दरार': 705, 'स्राव': 706, 'गिलटी': 707, 'दंतचिकित्सक': 708, 'जाकर': 709, 'करवा': 710, 'तम्बाकू': 711, 'पानमसाला': 712, 'जर्दे': 713, 'शीशे': 714, 'देने': 715, 'सलाह': 716, 'ढंग': 717, 'जान': 718, 'महिने': 719, 'स्तनों': 720, 'रजोधर्म': 721, 'दिनों': 722, 'बड़े': 723, 'बिल्कुल': 724, 'मासिक': 725, 'बंद': 726, 'दिन': 727, 'नियुक्त': 728, 'खतरा': 729, 'महिला': 730, 'उसे': 731, 'गाँठें': 732, 'सही': 733, 'मैमोग्राम': 734, 'जाय': 735, 'जिन': 736, 'माताओं': 737, 'बहनों': 738, 'मौसियों': 739, 'उन्हें': 740, 'मैमोग्राफी': 741, 'पैथोलोजी': 742, 'एफएनएसी': 743, 'बायोप्सी': 744, 'सूक्ष्मदर्शी': 745, 'सीटी': 746, 'स्केन': 747, 'एमएमआर': 748, 'अल्ट्रासाउंड': 749, 'प्रशिक्षण': 750, 'केन्द्र': 751, 'सूची': 752, 'जहाँ': 753, 'कराया': 754, '।rdpunc': 755, 'चरण': 756, 'निर्भर': 757, 'प्रारम्भिक': 758, 'प्रभावित': 759, 'साथसाथ': 760, 'हटाये': 761, 'कण': 762, 'रह': 763, 'प्रवेश': 764, 'चुका': 765, 'कठिनाई': 766, 'विकिरण': 767, 'जलाया': 768, 'रेडियोधर्मी': 769, 'फैलाव': 770, 'आधार': 771, 'शक्ति': 772, 'निशान': 773, 'उस': 774, 'कमरे': 775, 'वर्जित': 776, 'तकलीफ': 777, 'कभीकभी': 778, 'उल्टी': 779, 'दवाओं': 780, 'गाँठों': 781, 'ये': 782, 'दवाईयाँ': 783, 'समाप्त': 784, 'कोशिकायें': 785, 'बाल': 786, 'गिर': 787, 'खून': 788, 'जिसकी': 789, 'थकान': 790, 'लगती': 791, 'साइकल': 792, 'दवाई': 793, 'स्वस्थ': 794, 'भोजन': 795, 'खाये': 796, 'निरन्तर': 797, 'बीमार': 798, 'बैठना': 799, 'प्रतिरोधक': 800, 'लाईलाज': 801, 'पेलियेटिव': 802, 'केयर': 803, 'रखा': 804, 'उनकी': 805, 'शारीरिक': 806, 'मानसिक': 807, 'पीड़ा': 808, 'अस्पताल': 809, 'सुविधा': 810, 'जागरूकता': 811, 'तम्बाकूओं': 812, 'सम्बन्धित': 813, 'वस्तुओं': 814, 'परित्याग': 815, 'नियत्रंण': 816, 'स्वच्छ': 817, 'शाकाहारी': 818, 'ताजी': 819, 'हरी': 820, 'पत्तीदार': 821, 'सब्जी': 822, 'ताजे': 823, 'फल': 824, 'आधे': 825, 'घन्टे': 826, 'व्यायाम': 827, 'तेजी': 828, 'चलना': 829, 'खेलना': 830, 'मिर्च': 831, 'तला': 832, 'भूना': 833, 'मांस': 834, 'घी': 835, 'मदिरा': 836, 'सम्बन्ध': 837, 'बनाना': 838, 'साथी': 839, 'प्रति': 840, 'वफादार': 841, 'जनन': 842, 'अगों': 843, 'रखना': 844, 'लम्बे': 845, 'पिलाना': 846, 'सम्भोग': 847, 'निरोध': 848, 'इस्तेमाल': 849, 'समाज': 850, 'जागरुकता': 851, 'लाना': 852, 'बुरी': 853, 'सरकारी': 854, 'गैरसरकारी': 855, 'विभाग': 856, 'समाजिक': 857, 'संस्थाएँ': 858, 'शहरी': 859, 'सुधारने': 860, 'प्रेरित': 861, 'बार': 862, 'स्वास्थ्य': 863, 'कराना': 864, 'आंगनवाड़ी': 865, 'कार्यकर्त्ताओं': 866, 'सम्बन्धी': 867, 'स्व': 868, 'दी': 869, 'जूनियर': 870, 'हाईस्कूल': 871, 'राज्य': 872, 'चिकित्सालय': 873, 'अधीक्षक': 874, 'बेस': 875, 'जिला': 876, 'मेडिकल': 877, 'कॉलेज': 878, 'प्राईवेट': 879, 'अस्पतालों': 880, 'रजिस्टर': 881, 'बनाने': 882, 'कहा': 883, 'वे': 884, 'बाहरी': 885, 'आये': 886, 'हुये': 887, 'करेगें': 888, 'रिर्पोट': 889, 'महानिदेशालय': 890, 'प्रेषित': 891, 'करेंगें': 892, 'रजिस्ट्रर': 893, 'हमें': 894, 'जायेगा': 895, 'किस': 896, 'कौन': 897, 'सा': 898, 'छोटीमाता': 899, 'चिकनपौक्स': 900, 'वेरिसिल': 901, 'वायरल': 902, 'वेरिसिला': 903, 'जोस्टर': 904, 'वीजेडवी': 905, 'प्रथम': 906, 'उभरती': 907, 'बुखार': 908, 'सारे': 909, 'विशिष्ट': 910, 'फुंसियाँ': 911, 'निकलना': 912, 'हवा': 913, 'निहित': 914, 'बूंदों': 915, 'वायरस': 916, 'फैलता': 917, 'संक्रमित': 918, 'खाँसने': 919, 'छींकने': 920, 'वातावरण': 921, 'लार': 922, 'छींटे': 923, 'उभरता': 924, 'हर्पिस': 925, 'सीधे': 926, 'गीले': 927, 'घावों': 928, 'मामलों': 929, 'गर्भवती': 930, 'अजन्में': 931, 'नवजात': 932, 'शिशु': 933, 'फुन्सियाँ': 934, 'उभरने': 935, 'जमने': 936, 'यानी': 937, 'उनके': 938, 'सूख': 939, 'सर्वाधिक': 940, 'स्पर्शजन्य': 941, 'अकसर': 942, 'चकत्तों': 943, 'आरंभ': 944, 'कंपकंपी': 945, 'उबकाई': 946, 'सुविख्यात': 947, 'फुन्सी': 948, 'खुजलाहट': 949, 'भरी': 950, 'चकत्तियों': 951, 'उभरना': 952, 'निकलती': 953, 'परत': 954, 'बड़ों': 955, 'लोग': 956, 'बचपन': 957, 'किशोरावस्था': 958, 'शिकार': 959, 'लेकिन': 960, 'वयस्क': 961, 'मामले': 962, 'आते': 963, 'संक्रमण': 964, 'अवस्था': 965, 'तुलना': 966, 'किशोरों': 967, 'वयस्कों': 968, 'गंभीर': 969, 'लंबे': 970, 'रहता': 971, 'स्कूल': 972, 'प्रसार': 973, 'मदद': 974, 'मिलती': 975, 'प्रभावी': 976, 'उपाय': 977, 'तेज': 978, 'बदन': 979, 'जोड़ों': 980, 'दाने': 981, 'अनुमान': 982, 'ग्रसित': 983, 'उपरोक्त': 984, 'अलावा': 985, 'दाँत': 986, 'नाक': 987, 'शिकायत': 988, 'टारनीक्वेट': 989, 'धनात्मक': 990, 'आता': 991, 'कराने': 992, 'प्लेटलेट': 993, 'काउन्ट': 994, 'डेंगू': 995, 'एडिस': 996, 'एजिप्टाई': 997, 'मच्छर': 998, 'काटने': 999, 'पश्\\u200dचात': 1000, 'टाइगर': 1001, 'मौसक्विटो': 1002, 'काटता': 1003, 'कूलर': 1004, 'छत': 1005, 'खुली': 1006, 'टंकियों': 1007, 'बेकार': 1008, 'टीन': 1009, 'खाली': 1010, 'डिब्बों': 1011, 'टायर': 1012, 'फूलदान': 1013, 'बोतलों': 1014, 'मनीप्लान्ट': 1015, 'पौधों': 1016, 'सिस्टर्नों': 1017, 'एकत्र': 1018, 'रखें': 1019, 'बाल्टी': 1020, 'घड़े': 1021, 'बदलते': 1022, 'रहें': 1023, 'इकट्ठा': 1024, 'दें': 1025, 'गड्ढों': 1026, 'मिट्टी': 1027, 'डाल': 1028, 'पाट': 1029, 'डालना': 1030, 'गड्ढे': 1031, 'तेल': 1032, 'छिड़क': 1033, 'नीम': 1034, 'सरसों': 1035, 'उपयोग': 1036, 'आस्तीन': 1037, 'कमीज': 1038, 'मोजे': 1039, 'बालक': 1040, 'बालिकाओं': 1041, 'कपड़ा': 1042, 'पहनायें': 1043, 'कीटनाशक': 1044, 'छिड़काव': 1045, 'करवायें': 1046, 'प्रकोप': 1047, 'ज्वर': 1048, 'प्रा०स्वा०केन्द्र': 1049, 'सोते': 1050, 'मच्छरदानी': 1051, 'मच्छररोधी': 1052, 'अगरबत्ती': 1053, 'घरों': 1054, 'खिड़कियों': 1055, 'दरवाजों': 1056, 'रोशन': 1057, 'दानों': 1058, 'जाली': 1059, 'लगायें': 1060, 'कास्टायड': 1061, 'दवाइयाँ': 1062, 'ली': 1063, 'जायें': 1064, 'डायबिटीज': 1065, 'ऐसी': 1066, 'जिसके': 1067, 'परिणामस्वरूप': 1068, 'शर्करा': 1069, 'ग्लूकोज': 1070, 'नियंत्रित': 1071, 'जानलेवा': 1072, 'हमारा': 1073, 'इन्सुलिन': 1074, 'बनाता': 1075, 'आपमें': 1076, 'निम्नलिखित': 1077, 'मौजूद': 1078, 'आपको': 1079, 'बारबार': 1080, 'पेशाब': 1081, 'प्यास': 1082, 'लगना': 1083, 'घुंधला': 1084, 'सेक्स': 1085, 'संबंधी': 1086, 'क्रियाओं': 1087, 'असमर्थता': 1088, 'पैरों': 1089, 'सुन्न': 1090, 'उनमें': 1091, 'झुनझनाहट': 1092, 'समस्याएँ': 1093, 'निम्न': 1094, 'जटिलताएँ': 1095, 'अधिकता': 1096, 'दीर्घकालीन': 1097, 'स्नायुओं': 1098, 'न्यूरोपैथी': 1099, 'गुर्दो': 1100, 'नेफरोपैथी': 1101, 'रेटिनोपैथी': 1102, 'ह्दय': 1103, 'वाहिनी': 1104, 'दीर्घ': 1105, 'कालिक': 1106, 'हाथों': 1107, 'पहुँचाती': 1108, 'झुनझुनाहट': 1109, 'पड़ना': 1110, 'जलन': 1111, 'अक्सर': 1112, 'हाथ': 1113, 'अंगुलियों': 1114, 'छोर': 1115, 'शुरू': 1116, 'महसूस': 1117, 'गवां': 1118, 'गुर्दों': 1119, 'नाजुक': 1120, 'छनन': 1121, 'संस्थान': 1122, 'बन्द': 1123, 'डायलासिस': 1124, 'गुर्दा': 1125, 'प्रतिरोपण': 1126, 'जरूरी': 1127, 'आपकी': 1128, 'पहुँचा': 1129, 'अंधापन': 1130, 'हृदय': 1131, 'जटिलता': 1132, 'वाहिनियों': 1133, 'दिल': 1134, 'दौरा': 1135, 'पक्षाघात': 1136, 'संचारण': 1137, 'खराबी': 1138, 'अध्ययनों': 1139, 'ने': 1140, 'प्रमाणित': 1141, 'उन': 1142, 'अपेक्षा': 1143, 'जिन्हें': 1144, 'इससे': 1145, 'आपके': 1146, 'मसूड़े': 1147, 'फेफड़े': 1148, 'मूत्राशय': 1149, 'जननेन्द्रियों': 1150, 'सम्बद्ध': 1151, 'जटिलताओं': 1152, 'नियंत्रण': 1153, 'स्वस्थ्य': 1154, 'पूर्व': 1155, 'लौटाने': 1156, 'अवसर': 1157, 'विषाणु': 1158, 'इतने': 1159, 'सूक्ष्म': 1160, 'साधारण': 1161, 'माइक्रोस्कोप': 1162, 'देखे': 1163, 'दूषित': 1164, 'दिखायी': 1165, 'प्रायः': 1166, 'भयानक': 1167, 'सरदर्द': 1168, 'गर्दन': 1169, 'अकड़न': 1170, 'झटके': 1171, 'मितली': 1172, 'अर्द्ध': 1173, 'पूर्ण': 1174, 'बेहोशी': 1175, 'उपर्युक्त': 1176, 'प्राथमिक': 1177, 'तहसील': 1178, 'स्तरीय': 1179, 'राजकीय': 1180, 'चिकित्सा': 1181, 'हेतु': 1182, 'भर्ती': 1183, 'मलेरिया': 1184, 'मच्छरों': 1185, 'इसलिये': 1186, 'समुदाय': 1187, 'घटाया': 1188, 'रोगवाहक': 1189, 'मुख्य': 1190, 'धान': 1191, 'खेतों': 1192, 'पोखरों': 1193, 'भरे': 1194, 'रहते': 1195, 'स्वच्छता': 1196, 'बड़ीबड़ी': 1197, 'घास': 1198, 'झाड़ियों': 1199, 'काट': 1200, 'शाम': 1201, 'पैन्ट': 1202, 'पैजामा': 1203, 'धोती': 1204, 'बाँह': 1205, 'कुर्ता': 1206, 'पहनें': 1207, 'बरसाती': 1208, 'फॉगिंग': 1209, 'धुआँ': 1210, 'छोड़ने': 1211, 'कर्मचारियों': 1212, 'सहयोग': 1213, 'प्रदान': 1214, 'सुअर': 1215, 'बाड़ों': 1216, 'रोकने': 1217, 'महीन': 1218, 'एन्सेफलाइटिस': 1219, 'लगवाएँ': 1220, 'हेपेटाइटिसए': 1221, 'विश्\\u200dव': 1222, 'भर': 1223, 'व्यापक': 1224, 'सफाई': 1225, 'खराब': 1226, 'स्तर': 1227, 'स्थानों': 1228, 'यकृत': 1229, 'लीवर': 1230, 'हमला': 1231, 'तीव्रता': 1232, 'उभारता': 1233, 'प्रथमतः': 1234, 'गुदामुख': 1235, 'मार्ग': 1236, 'तुलनात्मक': 1237, 'लंबा': 1238, 'लेता': 1239, 'पीलिया': 1240, 'मूत्र': 1241, 'पीलापन': 1242, 'जुलाब': 1243, 'फीके': 1244, 'कपकपी': 1245, 'भूख': 1246, 'गले': 1247, 'इत्यादि': 1248, 'बारंबारता': 1249, 'बी': 1250, 'हेपेटाइटिस': 1251, 'वायरसों': 1252, 'अलग': 1253, 'हेपेटाइटिसबी': 1254, 'उपलब्ध': 1255, 'खिलाफ': 1256, 'व्यवहार्य': 1257, 'रखता': 1258, 'बूस्टर': 1259, 'डोज': 1260, 'अनुमानतः': 1261, 'ग्लेक्सोम्थिक्लाइन': 1262, 'संयुक्त': 1263, 'महीनों': 1264, 'दिए': 1265, 'एकल': 1266, 'क्रम': 1267, 'रूपों': 1268, 'पेडियाट्रिक': 1269, 'मिली': 1270, 'विश्\\u200dवव्यापी': 1271, 'एचबीवी': 1272, 'एचबीपी': 1273, 'मुख्यतः': 1274, 'कार्य': 1275, 'बाधित': 1276, 'परिणाम': 1277, 'भिन्नभिन्न': 1278, 'अनापेक्षित': 1279, 'प्रतिकारक': 1280, 'आधारित': 1281, 'इसे': 1282, 'एड्स': 1283, 'एचआईवी': 1284, 'गुना': 1285, 'माना': 1286, 'हैपेटाइटिसबी': 1287, 'प्रतिदिन': 1288, 'मौत': 1289, 'साधन': 1290, 'द्रव्यों': 1291, 'माध्यम': 1292, 'शामिल': 1293, 'वीर्य': 1294, 'योनिमार्ग': 1295, 'स्त्राव': 1296, 'तीन': 1297, 'माध्यमों': 1298, 'बच्चे': 1299, 'जन्म': 1300, 'क्रानिक': 1301, 'कैरियर': 1302, 'स्टेट': 1303, 'सुविधाजनक': 1304, 'सुरक्षात्मक': 1305, 'प्रतिजैविक': 1306, 'प्रतिक्रया': 1307, 'चुके': 1308, 'तीव्र': 1309, 'पुराने': 1310, 'बीमारियों': 1311, 'संपूर्ण': 1312, 'मिल': 1313, 'उभरे': 1314, 'उल्लेखनीय': 1315, 'दिखी': 1316, 'पीतज्वर': 1317, 'पीला': 1318, 'जैक': 1319, 'काली': 1320, 'नीग्रो': 1321, 'अमेरिकन': 1322, 'प्लेग': 1323, 'आपरेशन': 1324, 'हर्निया': 1325, 'दुबारा': 1326, 'rpneg': 1327, 'क्याक्या': 1328, 'सावधानियाँ': 1329, 'बरतनी': 1330, 'स्वतन्त्रता': 1331, 'प्राप्ति': 1332, 'भारतवर्ष': 1333, 'बढ़ती': 1334, 'जनसंख्या': 1335, 'विकराल': 1336, 'समस्या': 1337, 'राष्ट्रीय': 1338, 'कल्याण': 1339, 'कार्यक्रम': 1340, 'चलाया': 1341, 'केरो': 1342, 'मिश्र': 1343, 'अन्तराष्ट्रीय': 1344, 'सम्मेलन': 1345, 'विषय': 1346, 'सुझाया': 1347, 'प्रजनन': 1348, 'सुधार': 1349, 'जोड़ना': 1350, 'मानवहित': 1351, 'होगा': 1352, 'समग्र': 1353, 'तत्व': 1354, 'नियोजन': 1355, 'सेवाओं': 1356, 'अवधारणा': 1357, 'हुआ': 1358, 'उत्तराखण्ड': 1359, 'गठन': 1360, 'मूल': 1361, 'उत्तरप्रदेश': 1362, 'दर': 1363, 'सदैव': 1364, 'अशोधित': 1365, 'था': 1366, 'घटते': 1367, 'होकर': 1368, 'मात्र': 1369, 'जिलों': 1370, 'पौड़ी': 1371, 'हरिद्वार': 1372, 'सकल': 1373, 'काल': 1374, 'जन्में': 1375, 'गए': 1376, 'शिशुओं': 1377, 'अनुमानित': 1378, 'थी': 1379, 'घट': 1380, 'अन्तर': 1381, 'जनपदीय': 1382, 'विभिन्नताएँ': 1383, 'जन्मदर': 1384, 'नगरीय': 1385, 'क्षेत्रों': 1386, 'पुत्र': 1387, 'चाहत': 1388, 'प्रबल': 1389, 'भावी': 1390, 'करेगा': 1391, 'मैदानी': 1392, 'पर्वतीय': 1393, 'चौथाई': 1394, 'महिलाएँ': 1395, 'जन्मे': 1396, 'महिनों': 1397, 'भीतर': 1398, 'माताएँ': 1399, 'गम्भीर': 1400, 'खतरे': 1401, 'श्रेणी': 1402, 'मृत्यु': 1403, 'सूचनाओं': 1404, 'अभाव': 1405, 'प्रवृत्ति': 1406, 'तरीकों': 1407, 'टिप्पणी': 1408, 'कठिन': 1409, 'सैम्पल': 1410, 'पंजीकरण': 1411, 'प्रणाली': 1412, 'एसआरएस': 1413, 'अनुमानों': 1414, 'अनुसार': 1415, 'औसत': 1416, 'जीवित': 1417, 'तिहाई': 1418, 'वर्तमान': 1419, 'मातृ': 1420, 'सम्बंधी': 1421, 'आंकड़े': 1422, 'विषम': 1423, 'भौगोलिक': 1424, 'परिस्थितियों': 1425, 'होगी': 1426, 'आधुनिकीकरण': 1427, 'नगरीयकरण': 1428, 'परिवर्तनों': 1429, 'असंचारी': 1430, 'उद्देश्य': 1431, 'स्थास्थ': 1432, 'भागीदारी': 1433, 'महत्व': 1434, 'असरदार': 1435, 'गर्भनिरोधक': 1436, 'विधियों': 1437, 'ज्ञान': 1438, 'पहुँचाने': 1439, 'गर्भावस्था': 1440, 'प्रसव': 1441, 'चिकित्सकीय': 1442, 'सुविधायें': 1443, 'दम्पति': 1444, 'प्राप्त': 1445, 'कार्यक्रमों': 1446, 'लक्ष्य': 1447, 'बढ़ाना': 1448, 'संस्थागत': 1449, 'प्रसवों': 1450, 'अंतर्गत': 1451, 'अन्तर्गत': 1452, 'चलाये': 1453, 'आरसीएच': 1454, 'शिविरों': 1455, 'आयोजन': 1456, 'आउटरीय': 1457, 'सेशनों': 1458, 'संविदा': 1459, 'कार्यकर्मियों': 1460, 'तैनाती': 1461, 'बृहत': 1462, 'निर्माण': 1463, 'एव': 1464, 'इकाईयों': 1465, 'मरम्मत': 1466, 'नवीनीकरण': 1467, 'अतरिक्त': 1468, 'एएनएम': 1469, 'असेवित': 1470, 'क्षेत्रो': 1471, 'प्रतिरक्षण': 1472, 'गर्भ': 1473, 'निरोधकों': 1474, 'ग्राह्यता': 1475, 'प्रास्वाकेन्द्रों': 1476, 'सास्वाकेन्द्रों': 1477, 'रात्रि': 1478, 'बजे': 1479, 'प्रात': 1480, 'सरकार': 1481, 'दिशानिदेशानुसार': 1482, 'सास्वा': 1483, 'केन्द्रों': 1484, 'सेवा': 1485, 'करायी': 1486, 'अप्रशिक्षित': 1487, 'दाईयों': 1488, 'प्रशिक्षित': 1489, 'ईएजी': 1490, 'मातृत्व': 1491, 'परामर्शदाता': 1492, 'चिकित्साधिकारी': 1493, 'तैनात': 1494, 'स्वीकृति': 1495, 'समाचार': 1496, 'पत्रों': 1497, 'विज्ञापन': 1498, 'पश्चात': 1499, 'चिकित्साधिकारियों': 1500, 'चयन': 1501, 'सास्वाकेन्द्र': 1502, 'अगस्तमुनि': 1503, 'जनपद': 1504, 'रूदप्रयाग': 1505, 'योगदान': 1506, 'सूचना': 1507, 'ग्रामसभा': 1508, 'कार्यकर्मी': 1509, 'निश्चित': 1510, 'दिवस': 1511, 'शानिवार': 1512, 'आउटरीच': 1513, 'सत्र': 1514, 'देखभाल': 1515, 'उक्त': 1516, 'जुलाई': 1517, 'किन्तु': 1518, 'औषाधियों': 1519, 'क्रय': 1520, 'किट': 1521, 'जनपदों': 1522, 'कराये': 1523, 'उपकरणों': 1524, 'गठित': 1525, 'कार्यकारिणी': 1526, 'समिति': 1527, 'अनुमोदन': 1528, 'मुख्यालय': 1529, 'नियमानुसार': 1530, 'प्राविधान': 1531, 'स्थिरीकरण': 1532, 'सहभगिता': 1533, 'बढ़ाये': 1534, 'एनएसवी': 1535, 'चीरा': 1536, 'टांका': 1537, 'पद्धति': 1538, 'प्रचारप्रसार': 1539, 'स्थायी': 1540, 'आरन': 1541, 'होर्डिग': 1542, 'स्थापना': 1543, 'वॉल': 1544, 'पेंटिंग्स': 1545, 'पंचायती': 1546, 'राज': 1547, 'सदस्यों': 1548, 'ओरियन्टेशन': 1549, 'पैरामेडिकल': 1550, 'स्टाफ': 1551, 'मीडिया': 1552, 'प्रदर्शन': 1553, 'कुष्ठ': 1554, 'जीवाणु': 1555, 'छूत': 1556, 'माइकोबेक्टीरियम': 1557, 'लैप्री': 1558, 'मुख्यतया': 1559, 'तंत्र': 1560, 'इनक्यूवेशन': 1561, 'पीरियड': 1562, 'औसतन': 1563, 'लिंग': 1564, 'एमडीटी': 1565, 'औषधि': 1566, 'पूर्णतया': 1567, 'रोगमुक्त': 1568, 'बचाती': 1569, 'समस्त': 1570, 'असंक्रामक': 1571, 'खसरा': 1572, 'टीबी': 1573, 'लड़ने': 1574, 'प्रतिरोधात्मक': 1575, 'चमड़ी': 1576, 'फीका': 1577, 'बदरंग': 1578, 'दागघब्बा': 1579, 'सुन्नपन': 1580, 'अर्थात': 1581, 'खुजली': 1582, 'चुभन': 1583, 'ठंडा': 1584, 'तैलीय': 1585, 'चमक': 1586, 'भौहों': 1587, 'ठोड़ी': 1588, 'कानों': 1589, 'मोटापन': 1590, 'मेहनत': 1591, 'मशक्कत': 1592, 'झंझनाहट': 1593, 'सूखापन': 1594, 'विकृति': 1595, 'शुरूआत': 1596, 'चकत्ते': 1597, 'दाग': 1598, 'करा': 1599, 'जाये': 1600, 'उसमें': 1601, 'विकलांगता': 1602, 'सामाजिक': 1603, 'बहिष्कार': 1604, 'कुष्ट': 1605, 'लापरवाही': 1606, 'अंगुलियाँ': 1607, 'टेढ़ी': 1608, 'चेहरा': 1609, 'भद्दा': 1610, 'पहुँचते': 1611, 'असंवेदनशील': 1612, 'फलस्वरूप': 1613, 'अल्सर': 1614, 'देरी': 1615, 'विरूपता': 1616, 'चुकी': 1617, 'दवा': 1618, 'जरिये': 1619, 'जैसी': 1620, 'लाई': 1621, 'हाँ': 1622, 'विकलांग': 1623, 'मामूली': 1624, 'बनाया': 1625, 'धन्धे': 1626, 'जीविका': 1627, 'चला': 1628, 'रोगाणु': 1629, 'मादा': 1630, 'एनाफिलीज': 1631, 'रात': 1632, 'काटते': 1633, 'कंपकपी': 1634, 'जाड़े': 1635, 'बर्तनों': 1636, 'psp': 1637, 'बदलें': 1638, 'खुले': 1639, 'रोशनदानों': 1640, 'लगवायें': 1641, 'इकट्ठे': 1642, 'जले': 1643, 'मोबिल': 1644, 'डीजल': 1645, 'डालें': 1646, 'मीजल्स': 1647, 'जितनी': 1648, 'लगवाने': 1649, 'सिफारिश': 1650, 'एंटीबॉडी': 1651, 'घटनाओं': 1652, 'संगठन': 1653, 'नौ': 1654, 'महीने': 1655, 'संकेतों': 1656, 'सर्दी': 1657, 'कंजेक्टीवाइटिस': 1658, 'निकलने': 1659, 'दानें': 1660, 'दे': 1661, 'उद्\\u200dभवन': 1662, 'इनक्यूबेशन': 1663, 'उपरी': 1664, 'श्\\u200dवासोच्छवास': 1665, 'स्थानीय': 1666, 'लोकल': 1667, 'हिस्सों': 1668, 'रक्तप्रवाह': 1669, 'फैलकर': 1670, 'प्राइमरी': 1671, 'वैक्टीरिया': 1672, 'मम्पस्': 1673, 'गलसुआ': 1674, 'पेराटाइटिस': 1675, 'जबड़े': 1676, 'कान': 1677, 'तरफ': 1678, 'क्रमशः': 1679, 'निचली': 1680, 'सतह': 1681, 'मम्पस': 1682, 'सूखने': 1683, 'जर्मन': 1684, 'अत्यधिक': 1685, 'युवाओं': 1686, 'नाममात्र': 1687, 'स्पष्ट': 1688, 'हल्के': 1689, 'बढ़ते': 1690, 'चल': 1691, 'तौर': 1692, 'इनकी': 1693, 'लाइव': 1694, 'एटयुनुएटेड': 1695, 'मिलेजुले': 1696, 'सिंगल': 1697, 'जिन्हे': 1698, 'प्रभावकारी': 1699, 'संबंधित': 1700, 'स्टेन': 1701, 'नस्ल': 1702, 'टीकों': 1703, 'साबित': 1704, 'मिलने': 1705, 'रोगप्रतिकारक': 1706, 'बनी': 1707, 'रहती': 1708, 'पेशियाँ': 1709, 'चुस्तदुरुस्त': 1710, 'बीत': 1711, 'उठाए': 1712, 'गये': 1713, 'कदम': 1714, 'कार्यान्वयन': 1715, 'मानना': 1716, 'उन्मूलन': 1717, 'इसलिए': 1718, 'डब्लूएचओ': 1719, 'यूनिसेफ': 1720, 'पहली': 1721, 'दूसरा': 1722, 'लगवाना': 1723, 'दिमाग': 1724, 'मस्तिष्क': 1725, 'सोचने': 1726, 'समझने': 1727, 'व्यवस्था': 1728, 'जनंसख्या': 1729, 'वाह्य': 1730, 'कई': 1731, 'मन्दबुद्धि': 1732, 'मिर्गी': 1733, 'नींद': 1734, 'प्रक्रिया': 1735, 'मूड': 1736, 'सिजोफेरनिया': 1737, 'भूलना': 1738, 'खो': 1739, 'व्यक्तित्व': 1740, 'जनित': 1741, 'अफ्रीका': 1742, 'दक्षिण': 1743, 'अमेरिकी': 1744, 'दुखी': 1745, 'गुस्सा': 1746, 'खुशी': 1747, 'गमगीन': 1748, 'खुश': 1749, 'छोटी': 1750, 'बातों': 1751, 'परेशान': 1752, 'समझना': 1753, 'दूसरो': 1754, 'भांग': 1755, 'चरस': 1756, 'इच्छा': 1757, 'इच्छाशक्ति': 1758, 'करार': 1759, 'उसकी': 1760, 'व्यथा': 1761, 'देखी': 1762, 'तकलीफे': 1763, 'पुरानी': 1764, 'नवीन': 1765, 'परेशानियाँ': 1766, 'पारिवारिक': 1767, 'लैब': 1768, 'ईसीजी': 1769, 'आरएफटी': 1770, 'एलएफटी': 1771, 'ईईजी': 1772, 'स्कैन': 1773, 'डाइग्नोस्टिक': 1774, 'स्टेण्डाइजड': 1775, 'इन्टरवेन्स': 1776, 'साइक्लॉजिकल': 1777, 'पद्धतियों': 1778, 'सुनना': 1779, 'भावनात्मक': 1780, 'लिऐ': 1781, 'प्रचार': 1782, 'प्रेस': 1783, 'टीवी': 1784, 'रेडियो': 1785, 'मेले': 1786, 'पोस्टर': 1787, 'बैनर्स': 1788, 'जागरूक': 1789, 'बेहतर': 1790, 'संबद्धता': 1791, 'सहभागिता': 1792, 'बढ़ावा': 1793, 'सामजिक': 1794, 'कॉलेजों': 1795, 'संस्थानों': 1796, 'गुजरने': 1797, 'हल': 1798, 'बचाना': 1799, 'कार्यवाही': 1800, 'अप्रैल': 1801, 'प्राधिकरण': 1802, 'state': 1803, 'mental': 1804, 'health': 1805, 'authority': 1806, 'देहरादून': 1807, 'शैय्या': 1808, 'मेन्टल': 1809, 'गढ़वाल': 1810, 'मण्डल': 1811, 'कुमाऊँ': 1812, 'नैनीताल': 1813, 'प्रस्ताव': 1814, 'भेजा': 1815, 'लागू': 1816, 'लाभ': 1817, 'योजना': 1818, 'दिनांक': 1819, 'हस्तान्तरित': 1820, 'हस्तान्तरण': 1821, 'गरीबी': 1822, 'रेखा': 1823, 'यापन': 1824, 'बीपीएल': 1825, 'उचित': 1826, 'पोषण': 1827, 'रू': 1828, 'सहायता': 1829, 'धनराशि': 1830, 'लाभार्थियों': 1831, 'निम्नवत': 1832, 'कराती': 1833, 'उनका': 1834, 'उठाने': 1835, 'आयरन': 1836, 'फोलिक': 1837, 'एसिड': 1838, 'गोलियों': 1839, 'पूरक': 1840, 'खुराकें': 1841, 'टेटनेस': 1842, 'टाक्साइड': 1843, 'इन्जेंक्शन': 1844, 'टीटी': 1845, 'इन्जेक्शन': 1846, 'खुराके': 1847, 'महिलओं': 1848, 'अशिक्षित': 1849, 'परिवारों': 1850, 'प्रचलन': 1851, 'चिन्हित': 1852, 'अल्पता': 1853, 'वितरण': 1854, 'जटिल': 1855, 'केसों': 1856, 'सन्दर्भण': 1857, 'नगरों': 1858, 'जबकि': 1859, 'इनमें': 1860, 'सम्पन्न': 1861, 'चिकित्सकों': 1862, 'परिचारिकाओं': 1863, 'सहायक': 1864, 'संस्था': 1865, 'परे': 1866, 'सात': 1867, 'प्रसवोत्तर': 1868, 'लाभान्वित': 1869, 'माता': 1870, 'टीकारण': 1871, 'घोल': 1872, 'सेवाएँ': 1873, 'सामपन': 1874, 'उपलब्धियों': 1875, 'तालिका': 1876, 'दर्शाया': 1877, 'पेलियोमायलीटिस': 1878, 'नामक': 1879, 'मनुष्यों': 1880, 'हालाँकि': 1881, 'पोलियो': 1882, 'खासतौर': 1883, 'छोटे': 1884, 'सदस्य': 1885, 'तब': 1886, 'इन्फैक्शन': 1887, 'भीड़भाड़': 1888, 'सुविधाओं': 1889, 'ओरल': 1890, 'पोलियोवायरस': 1891, 'वैक्सीन': 1892, 'ओपीवी': 1893, 'तत्कालीन': 1894, 'सोवियत': 1895, 'यूनियन': 1896, 'तकनीक': 1897, 'नये': 1898, 'खोजे': 1899, 'जबरदस्त': 1900, 'सफलता': 1901, 'ज्वलंत': 1902, 'प्रमाण': 1903, 'दुनिया': 1904, 'पल्स': 1905, 'सफल': 1906, 'मिले': 1907, 'जुले': 1908, 'कम्बाइन्ड': 1909, 'डीटीपी': 1910, 'क्लिनिकल': 1911, 'पर्टयुसिस': 1912, 'देकर': 1913, 'घटसर्प': 1914, 'डिप्थीरिया': 1915, 'यौन': 1916, 'सहवास': 1917, 'संचारित': 1918, 'इनका': 1919, 'आसान': 1920, 'पीड़ायुक्त': 1921, 'बीमारियाँ': 1922, 'सुजाक': 1923, 'गनोरिया': 1924, 'हरपीज': 1925, 'क्लेमाइडिया': 1926, 'सी': 1927, 'प्रारम्भ': 1928, 'दर्शाती': 1929, 'विशेषतः': 1930, 'योनि': 1931, 'दुर्गन्ध': 1932, 'उदर': 1933, 'निचले': 1934, 'नाभि': 1935, 'गहराई': 1936, 'छाले': 1937, 'त्याग': 1938, 'मूत्रनली': 1939, 'लाली': 1940, 'फ्लू': 1941, 'उपयुक्त': 1942, 'जन्मजात': 1943, 'उपदंश': 1944, 'सिफिलिस': 1945, 'मृत': 1946, 'अविकसित': 1947, 'ऊपरी': 1948, 'झिल्ली': 1949, 'कंजक्टाइवा': 1950, 'निर्देश': 1951, 'साथियों': 1952, 'संबंधों': 1953, 'साबुन': 1954, 'धोयें': 1955, 'याद': 1956, 'तपेदिक': 1957, 'माइक्रोबैक्टीरियम': 1958, 'टयूबरकुलोसिस': 1959, 'क्षय': 1960, 'फैलती': 1961, 'मरने': 1962, 'वालों': 1963, 'हड्डियों': 1964, 'लसिका': 1965, 'ग्रन्थियों': 1966, 'किनारे': 1967, 'बजाय': 1968, 'युवा': 1969, 'मरते': 1970, 'आर्थिक': 1971, 'हानि': 1972, 'बतलाने': 1973, 'डरते': 1974, 'अनाथ': 1975, 'ताजा': 1976, 'शोध': 1977, 'इंसिडेट': 1978, 'ऑफ': 1979, 'प्रिवलेस': 1980, 'रेट': 1981, 'बताते': 1982, 'मरती': 1983, 'मिलाकर': 1984, 'अध्ययन': 1985, 'डाट्स': 1986, 'सरल': 1987, 'बलगम': 1988, 'कीटाणु': 1989, 'ड्रापलेट': 1990, 'निकालते': 1991, 'निकले': 1992, 'एक्सेरे': 1993, 'थोड़ा': 1994, 'सीधी': 1995, 'रेख': 1996, 'खिलाई': 1997, 'डायरेक्टली': 1998, 'आबजर्ब्ड': 1999, 'ट्रीटमेंट': 2000, 'विद': 2001, 'सार्ट': 2002, 'कोर्स': 2003, 'कीमोथेरपी': 2004, 'जैसा': 2005, 'अर्थ': 2006, 'कार्यकर्त्ता': 2007, 'उपस्थिति': 2008, 'एन्टी': 2009, 'ड्रग्ज': 2010, 'शार्ट': 2011, 'इंटेसिव': 2012, 'फेस': 2013, 'कान्टिन्युवेशन': 2014, 'कैटेगरी': 2015, 'दवाएँ': 2016, 'फेज': 2017, 'तदोपरांत': 2018, 'ऋणात्मक': 2019, 'केलेण्डर्ड': 2020, 'मल्टी': 2021, 'ब्लिस्टर्ड': 2022, 'कॉम्बी': 2023, 'पैक': 2024, 'ड्रग्स': 2025, 'इश्यू': 2026, 'वीकली': 2027, 'हैल्थ': 2028, 'वर्कर': 2029, 'लेनी': 2030, 'निगरानी': 2031, 'रोकथाम': 2032, 'सर्वोत्तम': 2033, 'जिस': 2034, 'करवाकर': 2035, 'प्रसारित': 2036, '–': 2037, 'वाहित': 2038, 'महामारियाँ': 2039, 'फैलाने': 2040, 'फलैवीवायराड': 2041, 'अरिबोवायरस': 2042, 'ग्राम': 2043, 'पॉजिटिव': 2044, 'सूत्रीय': 2045, 'आरएनए': 2046, 'मानव': 2047, 'भाँति': 2048, 'प्रजातियाँ': 2049, 'फैलाती': 2050, 'एडीस': 2051, 'सिम्प्सलोनी': 2052, 'अफ्रीकंस': 2053, 'एजेप्टी': 2054, 'बीसीजी': 2055, 'स्वास्थ': 2056, 'सन्दर्भित': 2057, 'उन्हे': 2058, 'भेज': 2059, 'लगाते': 2060, 'कार्यकर्ता': 2061, 'पाने': 2062, 'शिक्षा': 2063, 'केन्द्रीय': 2064, 'भण्डार': 2065, 'बनाए': 2066, 'उधम': 2067, 'सिंह': 2068, 'नगर': 2069, 'दूरस्थ': 2070, 'औषधियाँ': 2071, 'कराई': 2072, 'जिले': 2073, 'हिसाब': 2074, 'बाँटी': 2075, 'औषधियों': 2076, 'आपूर्ति': 2077, 'पुनरीक्षित': 2078, 'सुचारू': 2079, 'चलाने': 2080, 'टिहरी': 2081, 'उत्तरकाशी': 2082, 'चमोली': 2083, 'पिथौरागढ़': 2084, 'अल्मोड़ा': 2085, 'चौपहिया': 2086, 'वाहन': 2087, 'केन्द्रो': 2088, 'दुपहिया': 2089, 'माईक्रोस्कोपिक': 2090, 'सेंटर': 2091, 'बाईनेकुलर': 2092, 'माईक्रोस्कोप': 2093, 'रूद्रप्रयाग': 2094, 'बागेश्वर': 2095, 'चम्पावत': 2096, 'टेटनस': 2097, 'कीटाणुओं': 2098, 'धूल': 2099, 'गंदगी': 2100, 'जंगयुक्त': 2101, 'धातु': 2102, 'कटन': 2103, 'जरिए': 2104, 'मांसपेशियाँ': 2105, 'अकड़': 2106, 'जबड़ों': 2107, 'लाकजा': 2108, 'खुलता': 2109, 'किंतु': 2110, 'धीमें': 2111, 'फलैवीवायरस': 2112, 'बढा': 2113, 'लिम्फवाहिनी': 2114, 'श्\\u200dवास': 2115, 'नलिका': 2116, 'चिपचिपा': 2117, 'लसीला': 2118, 'पदार्थ': 2119, 'इतनी': 2120, 'जोर': 2121, 'कुत्ता': 2122, 'भौंक': 2123, 'जिनसे': 2124, 'निमोनिया': 2125, 'ब्रौंकाइटिस': 2126, 'फैफडों': 2127, 'टाइफाईड': 2128, 'गैस्ट्रोइंटेस्टेनियल': 2129, 'सालमोनेला': 2130, 'टिफी': 2131, 'मियादी': 2132, 'प्रारंभिक': 2133, 'युक्त': 2134, 'खाद्य': 2135, 'पेय': 2136, 'अम्ल': 2137, 'जैविक': 2138, 'घटक': 2139, 'निष्कृय': 2140, 'जाएँ': 2141, 'विश्वसनीय': 2142, 'विविध': 2143, 'अंतर्राष्ट्रीय': 2144, 'अधिकारियों': 2145, 'यात्रा': 2146, 'इलाकों': 2147, 'स्कूली': 2148, 'सार्वजनिक': 2149, 'एंटीबायोटिक': 2150, 'रोधकता': 2151, 'दाँतों': 2152, 'देखरेख': 2153, 'धड़कन': 2154, 'सिरदर्द': 2155, 'कमर': 2156, 'बहुमूत्र': 2157, 'महामारी': 2158, 'चली': 2159, 'जंगली': 2160, 'आबादी': 2161, 'घनत्व': 2162, 'वाहक': 2163, 'प्रभाव': 2164, 'वास्तविक': 2165, 'ढेर': 2166, 'सारा': 2167, 'आराम': 2168, 'हैमस्टर': 2169, 'माडल': 2170, 'एण्टीवायरल': 2171, 'रिबावैरिन': 2172, 'उसी': 2173, 'पेटाइटिस': 2174, 'सिद्ध': 2175, 'ऐतिहासिक': 2176, 'रिपोर्ट': 2177, 'बताती': 2178, 'लेकर': 2179, 'सीडीसी': 2180, 'बताया': 2181, 'मानी': 2182, 'डब्ल्यूएचओ': 2183, 'जारी': 2184, 'फैक्ट': 2185, 'शीट': 2186, 'टोक्सिक': 2187, 'जहरीले': 2188, 'जिनमें': 2189, 'मर': 2190, 'बच': 2191, 'अमेरिका': 2192, 'यूरोप': 2193, 'कैरिबियन': 2194, 'द्वीप': 2195, 'इतिहास': 2196, 'बड़ा': 2197, 'स्थान': 2198, 'मिसीसिपी': 2199, 'घाटी': 2200, 'हजार': 2201, 'प्राकृतिक': 2202, 'नेचुरोपैथी': 2203, 'naturopathy': 2204, 'चिकित्सादर्शन': 2205, 'स्वास्थ्यलाभ': 2206, 'रोगाणुओं': 2207, 'स्वाभाविक': 2208, 'पद्धतियाँ': 2209, 'होमियोपैथी': 2210, 'सूर्य': 2211, 'अक्यूपंचर': 2212, 'एक्यूप्रेसर': 2213, 'मृदा': 2214, 'आयुर्वेद': 2215, 'नेचर': 2216, 'क्योर': 2217, 'रचनात्मक': 2218, 'जिसका': 2219, 'प्रकृति': 2220, 'प्रचुर': 2221, 'तत्त्वों': 2222, 'बल्कि': 2223, 'उपस्थित': 2224, 'आंतरिक': 2225, 'महत्त्वपूर्ण': 2226, 'शक्तियों': 2227, 'अनुरूप': 2228, 'जीवनशैली': 2229, 'विशेषकर': 2230, 'कच्ची': 2231, 'हलकी': 2232, 'पकी': 2233, 'सब्जियाँ': 2234, 'निर्णायक': 2235, 'भूमिका': 2236, 'निभाती': 2237, 'कला': 2238, 'विज्ञान': 2239, 'क्रांति': 2240, 'निर्धन': 2241, 'गरीब': 2242, 'वरदान': 2243, 'चर्म': 2244, 'बाबासीर': 2245, 'अभिव्यक्त': 2246, 'चिकनगुनिया': 2247, 'लम्बें': 2248, 'चलने': 2249, 'चिकुनगुनिया': 2250, 'उग्र': 2251, 'जोडों': 2252, 'हफ्तों': 2253, 'अर्बोविषाणु': 2254, 'अल्फाविषाणु': 2255, 'चक्र': 2256, 'बन्दर': 2257, 'पायें': 2258, 'सहित': 2259, 'प्रजाति': 2260, 'विरूद्ध': 2261, 'संपर्क': 2262, 'बचना': 2263, 'ना': 2264, 'मिलता': 2265, 'क्लोरोक्वीन': 2266, 'सिद्\\u200dध': 2267, 'पथरी': 2268, 'kidney': 2269, 'stones': 2270, 'मूत्रतंत्र': 2271, 'वृक्क': 2272, 'अन्दर': 2273, 'पत्थर': 2274, 'कठोर': 2275, 'वस्तुएँ': 2276, 'सामान्यत': 2277, 'पथरियाँ': 2278, 'रास्ते': 2279, 'बड़े': 2280, 'अवरोध': 2281, 'चार': 2282, 'वृद्धों': 2283, 'बनती': 2284, 'मूत्रवाहक': 2285, 'दुखद': 2286, 'बात': 2287, 'करवाते': 2288, 'उनको': 2289, 'संभावनाएँ': 2290, 'रक्\\u200dतचाप': 2291, 'रक्तचाप': 2292, 'पीठ': 2293, 'जाँघ': 2294, 'संधि': 2295, 'मिनटो': 2296, 'घंटो': 2297, 'बाजू': 2298, 'श्रोणि': 2299, 'उरू': 2300, 'गुप्तांगो': 2301, 'जी': 2302, 'मिचलाने': 2303, 'पसीना': 2304, 'भयंकर': 2305, 'उठता': 2306, 'मिनटों': 2307, '”': 2308, 'रीलन': 2309, 'क्रोनिन': 2310, 'उठकर': 2311, 'जाँघों': 2312, 'एक्सरेसोनोग्राफी': 2313, 'डाईइंजेक्शन': 2314, 'पथरियों': 2315, 'रोगनिदान': 2316, 'पीयें': 2317, 'लीटर': 2318, 'रोज': 2319, 'प्रोटीन': 2320, 'नाइट्रोजन': 2321, 'सोडियम': 2322, 'आक्जेलेट': 2323, 'चॉकलेट': 2324, 'सोयाबीन': 2325, 'मूंगफली': 2326, 'कोकोकोला': 2327, 'बचें': 2328, 'विटामिन': 2329, 'नारंगी': 2330, 'रस': 2331, 'ज्यूस': 2332, 'कैल्सियम': 2333, 'यूरिक': 2334, 'अभिप्राय': 2335, 'कार्यशील': 2336, 'क्षतिग्रस्त': 2337, 'विफल': 2338, 'प्रत्यारोपित': 2339, 'दाता': 2340, 'दोनो': 2341, 'उनमे': 2342, 'अग्न्याशय': 2343, 'शिश्\\u200dन': 2344, 'आँखें': 2345, 'आँत': 2346, 'आधुनिक': 2347, 'चुनौतीपूर्ण': 2348, 'प्रबंधन': 2349, 'बड़ी': 2350, 'समस्याओं': 2351, 'अस्वीकार': 2352, 'जहां': 2353, 'प्रतिरक्षा': 2354, 'विरुद्ध': 2355, 'प्रतिक्रिया': 2356, 'नकार': 2357, 'चुनौती': 2358, 'संवेदनशील': 2359, 'ऊतक': 2360, 'अस्थियाँ': 2361, 'कंडर': 2362, 'टेंडन': 2363, 'कॉर्निया': 2364, 'वाल्व': 2365, 'नसें': 2366, 'बाहु': 2367, 'अस्वीकृति': 2368, 'जोखिम': 2369, 'आवंटन': 2370, 'औपचारिक': 2371, 'यूरोट्रांसप्लांट': 2372, 'संगठनों': 2373, 'जुड़े': 2374, 'सुनिश्\\u200dचित': 2375, 'जैव': 2376, 'नैतिक': 2377, 'मुद्दे': 2378, 'उठाता': 2379, 'परिभाषा': 2380, 'कब': 2381, 'कैसे': 2382, 'सहमति': 2383, 'प्रयुक्त': 2384, 'भुगतान': 2385, 'अमीबा': 2386, 'पेचिश': 2387, 'एंटामीबा': 2388, 'हिस्टॉलिटिका': 2389, 'entamoeba': 2390, 'histolytica': 2391, 'उपसर्ग': 2392, 'वृहत्': 2393, 'आंत्र': 2394, 'विद्यमान': 2395, 'पुटी': 2396, 'cyst': 2397, 'अंडाणु': 2398, 'ova': 2399, 'पदार्थो': 2400, 'ग्रहण': 2401, 'बृहत्': 2402, 'पहुँचकर': 2403, 'अडाणु': 2404, 'स्वरूप': 2405, 'उदरशूल': 2406, 'अतिसार': 2407, 'गुदा': 2408, 'ऐंठन': 2409, 'परीक्षा': 2410, 'अंधनाल': 2411, 'caecum': 2412, 'वाम': 2413, 'श्रोणीय': 2414, 'left': 2415, 'iliac': 2416, 'region': 2417, 'दाब': 2418, 'वेदना': 2419, 'tenderness': 2420, 'ज्वरांश': 2421, 'मक्खियाँ': 2422, 'टट्टी': 2423, 'श्\\u200dलेष्मा': 2424, 'mucus': 2425, 'गाढ़ा': 2426, 'निर्वाहिका': 2427, 'शिरा': 2428, 'portal': 2429, 'यकृतशोय': 2430, 'epatitis': 2431, 'विद्रधि': 2432, 'abscess': 2433, 'फोड़ा': 2434, 'घातक': 2435, 'फटती': 2436, 'उपद्रव': 2437, 'पूय': 2438, 'फुफ्फुस': 2439, 'आमाशय': 2440, 'peritoneum': 2441, 'हृदयावरण': 2442, 'pericardium': 2443, 'विकार': 2444, 'शूल': 2445, 'दाहिने': 2446, 'कंधे': 2447, 'शिर': 2448, 'कंपन': 2449, 'चरम': 2450, 'सीमा': 2451, 'घोर': 2452, 'शोधयुक्त': 2453, 'पदार्थों': 2454, 'मक्खियों': 2455, 'पुटिया': 2456, 'रसोइए': 2457, 'बार्ली': 2458, 'पावर': 2459, 'कांटेक्ट': 2460, 'लेंस': 2461, 'उम्दा': 2462, 'क्वालिटी': 2463, 'होनी': 2464, 'धोना': 2465, 'अच्छी': 2466, 'आदत': 2467, 'पतला': 2468, 'साबूदाना': 2469, 'अरारोट': 2470, 'चावल': 2471, 'दही': 2472, 'अच्छे': 2473, '’ए’': 2474, 'नियमित्त': 2475, 'योग': 2476, 'अनमोल': 2477, 'रक्षा': 2478, 'गर्भाशय': 2479, 'रसौली': 2480, 'फाइब्रायड': 2481, 'लियोमयोमा': 2482, 'करीब': 2483, 'सोनोग्राफी': 2484, 'तथ्य': 2485, 'आया': 2486, 'रक्तस्त्राव': 2487, 'बंध्यता': 2488, 'अधिकांशतः': 2489, 'किशोरियाँ': 2490, 'ग्रस्त': 2491, 'रजोनिवृत्ति': 2492, 'छोटा': 2493, 'हार्मोन': 2494, 'थेरैपी': 2495, 'पुनः': 2496, 'गहरेरंग': 2497, 'गोरे': 2498, 'बढ़': 2499, 'माहवारी': 2500, 'बहन': 2501, 'शराब': 2502, 'शाकाहार': 2503, 'फाइब्रस': 2504, 'टिश्यू': 2505, 'रहित': 2506, 'पेडू': 2507, 'पड़ने': 2508, 'मूत्रत्याग': 2509, 'पड़ना': 2510, 'प्रसवोपरान्त': 2511, 'रक्त्ताल्पता': 2512, 'अंडाशय': 2513, 'एंडोमेट्रियोसिस': 2514, 'प्रेगनेंसी': 2515, 'एडिनोमायोसिस': 2516, 'बच्चादानी': 2517, 'जाँचे': 2518, 'निकाले': 2519, 'अनिवार्यता': 2520, 'सबम्यूकस': 2521, 'फ्राइबायड': 2522, 'हिस्टेरोस्कोपी': 2523, 'लेसर': 2524, 'इंट्राम्यूरल': 2525, 'निकालने': 2526, 'देखना': 2527, 'चाहती': 2528, 'मायोमेकटोमी': 2529, 'लेपेरोस्कोपी': 2530, 'लेपेरोटोमी': 2531, 'खोल': 2532, 'केस': 2533, 'सिर्फ': 2534, 'निकाली': 2535, 'हिस्टेरेक्टोमी': 2536, 'लेप्रोस्कोपिक': 2537, 'मायोलिसिस': 2538, 'जांघ': 2539, 'धमनी': 2540, 'पाली': 2541, 'विनाइल': 2542, 'कणिकाओं': 2543, 'जेलफोम': 2544, 'पाउडर': 2545, 'यूटेराइन': 2546, 'आर्टरी': 2547, 'अवरूद्ध': 2548, 'सप्लाई': 2549, 'भयावह': 2550, 'शुरूआती': 2551, 'हजारों': 2552, 'मौतें': 2553, 'टूट': 2554, 'शतप्रतिशत': 2555, 'लाखों': 2556, 'यंत्रणा': 2557, 'आज': 2558, 'दौर': 2559, 'रहन': 2560, 'सहन': 2561, 'अभी': 2562, 'विधियां': 2563, 'एम': 2564, 'आर': 2565, 'आई': 2566, 'टी': 2567, 'उपयोगी': 2568, 'दुष्प्रभाव': 2569, 'ऎसी': 2570, 'नया': 2571, 'हथियार': 2572, 'इन्फ्रारेड': 2573, 'थर्मोग्राफी': 2574, 'जल्द': 2575, 'ग्रीक': 2576, 'इजीप्शियन': 2577, 'तापक्रम': 2578, 'जानते': 2579, 'थे': 2580, 'उष्मा': 2581, 'खोज': 2582, 'विलियम': 2583, 'हर्षल': 2584, 'परंतु': 2585, 'पहचानने': 2586, 'रक्तवाहिनियों': 2587, 'संकरे': 2588, 'ब्रेन': 2589, 'मेनेनजाइटिस': 2590, 'इंट्राकेनियल': 2591, 'वेंस': 2592, 'प्रेशर': 2593, '’रयूमोटाइडाआर्थराइटिस’': 2594, '’स्पोंडिलाइटिस’': 2595, '’ब्लडप्रेशर': 2596, 'असर': 2597, 'पड़ता': 2598, 'ब्लडप्रेशर': 2599, 'ब्लीडिंग': 2600, 'किडनी': 2601, 'सीधा': 2602, 'कितना': 2603, '’क्लोरोक्वीन’': 2604, '’वियाग्रा’': 2605, 'डाक्टर': 2606, 'कराएं': 2607, 'तिरछेपन': 2608, 'विजन': 2609, 'सिंड्रोम': 2610, 'चेकअप': 2611, 'परामर्श': 2612, 'चाचा': 2613, 'मामा': 2614, 'पापा': 2615, 'मां': 2616, '’': 2617, 'केटरेक्ट': 2618, 'नंगी': 2619, 'देखें': 2620, 'अलट्रावायलट': 2621, 'किरणों': 2622, 'बचाने': 2623, 'बढ़ती': 2624, 'तरावट': 2625, 'ठंडक': 2626, 'पहुंचाती': 2627, 'चश्मा': 2628, 'कंम्प्यूटर': 2629, 'हमारी': 2630, 'एक्सरसाइज': 2631, 'बढ़ा': 2632, 'आर्थराइटिस': 2633, 'शब्द': 2634, 'माने': 2635, '’जोड़ों': 2636, 'सूजन’': 2637, 'गिरफ्त': 2638, 'पीड़ादायक': 2639, 'बढ़ते': 2640, 'पहुँचता': 2641, 'यों': 2642, 'दुनियाभर': 2643, 'खास': 2644, 'शौचादि': 2645, 'घरेलू': 2646, 'जमीन': 2647, 'घुटनों': 2648, 'जोड़': 2649, 'वास्तव': 2650, 'हड्डी': 2651, 'फीमर': 2652, 'टिबिया': 2653, 'कार्टिलेज': 2654, 'दोबारा': 2655, 'सीढ़ियाँ': 2656, 'चढ़ने': 2657, 'बैठकर': 2658, 'गतिविधियों': 2659, 'दिक्कत': 2660, 'आती': 2661, 'हद': 2662, 'राहत': 2663, 'मुमकिन': 2664, 'मतलब': 2665, 'पहुँचना': 2666, 'सहनी': 2667, 'पड़ती': 2668, 'सर्जरी': 2669, 'आरंभिक': 2670, '’यूनीकंपार्ट्मेंटल': 2671, 'नी': 2672, 'रीसरफीसिंग': 2673, 'हिप': 2674, 'रीसरफीसिंग’': 2675, 'विकल्प': 2676, 'बेहद': 2677, 'समूचे': 2678, 'टोटल': 2679, 'हिपनी': 2680, 'रिप्लेसमेंट': 2681, 'टीकेआर': 2682, 'घुटने': 2683, 'हटा': 2684, 'मैटल': 2685, 'इंप्लांट': 2686, 'लगाई': 2687, 'घुटना': 2688, 'नवीनतम': 2689, 'रोटेटिंग': 2690, 'प्लेटफार्म': 2691, 'हाई': 2692, 'फ्लेक्सियन': 2693, 'फिरने': 2694, 'बागवानी': 2695, 'झुकने': 2696, 'ड्राइविंग': 2697, 'सीढ़ियां': 2698, 'उतरने': 2699, 'तमाम': 2700, 'फ्लेक्सिन': 2701, 'डिग्री': 2702, 'मुड़ना': 2703, 'संतुष्टि': 2704, 'दैनिक': 2705, 'अंजाम': 2706, 'पाते': 2707, 'चिकित्सीय': 2708, 'शल्यचिकित्सीय': 2709, 'विकल्पों': 2710, 'संतुलित': 2711, 'खानपान': 2712, 'अपनाने': 2713, 'महारोग': 2714, 'छुटकारा': 2715, 'निबटने': 2716, 'निभाता': 2717, 'विटामिनों': 2718, 'खनिजों': 2719, 'एंटीआक्सीडेंट': 2720, 'पोषक': 2721, 'बढ़ाएँ': 2722, 'ऎसा': 2723, 'वजन': 2724, 'नियन्त्रित': 2725, 'रख': 2726, 'मोटापा': 2727, 'बढने': 2728, 'फलों': 2729, 'सब्जियों': 2730, 'सेब': 2731, 'संतरा': 2732, 'चैरी': 2733, 'पैपर्स': 2734, 'टमाटर': 2735, 'चुकंदर': 2736, 'शकरकंदी': 2737, 'खूब': 2738, 'खाएँ': 2739, 'साबूत': 2740, 'अनाज': 2741, 'जौ': 2742, 'ब्राउन': 2743, 'राइस': 2744, 'रेशेदार': 2745, 'सेहत': 2746, 'जोड़ो': 2747, 'तलाभुना': 2748, 'कैल्सियमयुक्त': 2749, 'रखते': 2750, 'मांसपेशियां': 2751, 'मजबूत': 2752, 'मस्सा': 2753, 'सूखता': 2754, 'सतर्क': 2755, 'जाइए': 2756, 'स्किन': 2757, 'प्रगट': 2758, 'चेहेरे': 2759, 'दर्दरहित': 2760, 'भूल': 2761, 'बढ़ने': 2762, 'बढ़ता': 2763, 'हानिरहित': 2764, 'भूलें': 2765, 'बनना': 2766, 'बढ़ना': 2767, 'रंगपरिवर्तन': 2768, 'फैलते': 2769, 'खतरनाक': 2770, 'कैंसरग्रस्त': 2771, 'काटकर': 2772, 'निकालना': 2773, 'जननागों': 2774, 'झिझक': 2775, 'समुचित': 2776, 'कराएँ': 2777, 'सालों': 2778, 'लगे': 2779, 'सावधान': 2780, 'कराइए': 2781, 'संकेत': 2782, 'विशेषज्ञ': 2783, 'डा': 2784, 'कुमार': 2785, 'बढोत्तरी': 2786, 'खानापीना': 2787, 'क्रियाशील': 2788, 'अधीरता': 2789, 'दिखानी': 2790, 'परवरिश': 2791, 'चिन्ता': 2792, 'बनाकर': 2793, 'खुशनुमा': 2794, 'पल': 2795, 'बिताने': 2796, 'सर्वे': 2797, 'घूमती': 2798, 'बनिस्बत': 2799, 'पनपते': 2800, 'उतना': 2801, 'जितने': 2802, 'उसको': 2803, 'बच्चा': 2804, 'एकदम': 2805, 'व्याकुलता': 2806, 'दिखाएँ': 2807, 'धैर्य': 2808, 'विश्वास': 2809, 'डगमगाने': 2810, 'बनाबट': 2811, 'भिन्नता': 2812, 'सांख्यिकी': 2813, 'यद्यपि': 2814, 'गहन': 2815, 'अनुपात': 2816, 'अस्वस्थ्य': 2817, 'स्तनपान': 2818, 'गर्भधारण': 2819, 'असावधानियाँ': 2820, 'भविष्य': 2821, 'थोड़ी': 2822, 'सावधानी': 2823, 'सजगता': 2824, 'बचा': 2825, 'खुद': 2826, '’बांबे': 2827, 'हेल्थ': 2828, 'गाइड’': 2829, 'उनसे': 2830, 'विस्तार': 2831, 'गुप्त': 2832, 'बातचीत': 2833, 'शरमाती': 2834, 'हिचकिचाती': 2835, 'गाँवों': 2836, 'कसबों': 2837, 'झोंपड़पट्टी': 2838, 'चालों': 2839, 'स्त्रियाँ': 2840, 'खा': 2841, 'मन': 2842, 'गाँव': 2843, 'दवाखाना': 2844, 'मुफ्त': 2845, 'अस्थमा': 2846, 'गुप्तांगों': 2847, 'इन्फेक्शन': 2848, 'आजकल': 2849, 'गति': 2850, 'चिंता': 2851, 'इंडियन': 2852, 'ब्रेस्ट': 2853, 'एसोसिएशन': 2854, 'विज्ञप्ति': 2855, 'पश्चिमी': 2856, 'स्तनकैंसर': 2857, 'अंकुश': 2858, 'जरूर': 2859, 'ड्ब्ल्यूएचओ': 2860, 'प्रयत्नशील': 2861, 'जिन्होनें': 2862, 'पिलाया': 2863, 'दुग्धपान': 2864, 'अमृतपान': 2865, 'बचाता': 2866, 'सिर्फ़': 2867, 'प्राणदायक': 2868, 'अमृत': 2869, 'जननी': 2870, 'प्राणरक्षक': 2871, 'सब': 2872, 'प्रयास': 2873, 'पैमाने': 2874, 'संसार': 2875, 'उसका': 2876, 'दावा': 2877, 'वर्षों': 2878, 'शौचालय': 2879, 'यौनांगो': 2880, 'यूरिन': 2881, 'इंन्फेक्शन': 2882, 'विकृत': 2883, 'तकलीफ़': 2884, 'इकोलाई': 2885, 'रुकरुक': 2886, 'लालिमा': 2887, 'ट्रैक': 2888, 'शौचालयों': 2889, 'गंदे': 2890, 'अंडरगारमेंट': 2891, 'पिएँ': 2892, 'कपड़ों': 2893, 'सब्जियां': 2894, 'वफादारी': 2895, 'गुणकारी': 2896, 'हलक़ा': 2897, 'सुपाच्य': 2898, 'भोज्य': 2899, 'पका': 2900, 'भात': 2901, 'पथ्य': 2902, 'रोटी': 2903, 'आपका': 2904, 'रखेगा': 2905, 'मंदाग्नि': 2906, 'नाशक': 2907, 'पचने': 2908, 'पुराना': 2909, 'स्वादिष्ट': 2910, 'ओजवर्धक': 2911, 'मांड': 2912, 'खनिज': 2913, 'विटामिन्स': 2914, 'निकल': 2915, 'कहलाता': 2916, 'पकाते': 2917, 'गाढ़ा': 2918, 'लाभदायक': 2919, 'जिनका': 2920, 'पचा': 2921, 'हों': 2922, 'मिनट': 2923, 'ढँककर': 2924, 'खिलाएँ': 2925, 'औषधीय': 2926, 'सीने': 2927, 'सूजाक': 2928, 'चेचक': 2929, 'मसूरिका': 2930, 'मूत्रविकार': 2931, 'नीबू': 2932, 'नमक': 2933, 'कांजी': 2934, 'दाल': 2935, 'मूँग': 2936, 'हींग': 2937, 'अदरक': 2938, 'मसाले': 2939, 'गई': 2940, 'खिचड़ी': 2941, 'बल': 2942, 'बुद्धि': 2943, 'पाचन': 2944, 'आटा': 2945, 'लेई': 2946, 'भांति': 2947, 'पकाकर': 2948, 'गाय': 2949, 'शकर': 2950, 'नशा': 2951, 'धोकर': 2952, 'सोडा': 2953, 'चुटकी': 2954, 'शक्कर': 2955, 'पिलाने': 2956, 'उतर': 2957, 'सूर्योदय': 2958, 'खील': 2959, 'शहद': 2960, 'खाकर': 2961, 'सो': 2962, 'सप्ताहभर': 2963, 'आधासीसी': 2964, 'जाएगा': 2965, 'धुले': 2966, 'पौधे': 2967, 'जड़': 2968, 'पीसकर': 2969, 'छान': 2970, 'पिला': 2971, 'प्याज': 2972, 'लेप': 2973, 'पतले': 2974, 'दमा': 2975, 'गठिया': 2976, 'सताए': 2977, 'मालिश': 2978, 'उच्च': 2979, 'कच्चे': 2980, 'उल्टियाँ': 2981, 'मिचला': 2982, 'टुकड़े': 2983, 'लगाकर': 2984, 'तनाव': 2985, 'टुकड़ा': 2986, 'दबा': 2987, 'लीजिए': 2988, 'मिलेगा': 2989, 'ज्योति': 2990, 'रसायन': 2991, 'नाश्ते': 2992, 'खड़ा': 2993, 'उबालकर': 2994, 'चोकर': 2995, 'केक': 2996, 'मेग्निशियम': 2997, 'आलू': 2998, 'पराठें': 2999, 'ऊर्जा': 3000, 'स्रोत': 3001, 'मुट्ठी': 3002, 'मूँगफली': 3003, 'सेंककर': 3004, 'गु़ड़': 3005, 'चबाचबाकर': 3006, 'छोड़ता': 3007, 'सादा': 3008, 'गर्मी': 3009, 'करेगी': 3010, 'पित्त': 3011, 'गिरने': 3012, 'सेंधा': 3013, 'अजवाइन': 3014, 'दोतीन': 3015, 'लू': 3016, 'पॉकेट': 3017, 'पर्स': 3018, 'लपेटकर': 3019, 'सूँघने': 3020, 'लगेगी': 3021, 'खाइए': 3022, 'अपचन': 3023, 'त्रिकुटी': 3024, 'चूर्ण': 3025, 'सुबह': 3026, 'लोशन': 3027, 'रुई': 3028, 'रखिए': 3029, 'दीर्घायु': 3030, 'मुक्त': 3031, 'सात्विक': 3032, 'अनिवार्य': 3033, 'रहस्य': 3034, 'पॉजिटीव': 3035, 'एनर्जी': 3036, 'लंबी': 3037, 'एकांत': 3038, 'आरामदायक': 3039, 'शांत': 3040, 'भाव': 3041, 'करे': 3042, 'चिंताएँ': 3043, 'बुढ़ापे': 3044, 'धोडालें': 3045, 'स्वयं': 3046, 'थकावट': 3047, 'मैं': 3048, 'निगेटिव': 3049, 'स्ट्रेस': 3050, 'हूँ': 3051, 'मुझमें': 3052, 'सोच': 3053, 'जवानी': 3054, 'संचार': 3055, 'वहीं': 3056, 'जिंदगी': 3057, 'घटाती': 3058, 'बदबू': 3059, 'बबूल': 3060, 'नरम': 3061, 'डाली': 3062, 'ब्रश': 3063, 'दुर्गंध': 3064, 'सौंफ': 3065, 'इलायची': 3066, 'चबाने': 3067, 'शुद्धि': 3068, 'पुदीना': 3069, 'चबाना': 3070, 'लाभकर': 3071, 'दालचीनी': 3072, 'सूखी': 3073, 'पत्ती': 3074, 'गरारे': 3075, 'मिटाता': 3076, 'रोकता': 3077, 'कप': 3078, 'जीरे': 3079, 'बूंदें': 3080, 'छुआरे': 3081, 'गुठली': 3082, 'मंजन': 3083, 'मिटती': 3084, 'रेकी': 3085, 'क्रोध': 3086, 'आतम': 3087, 'लोभ': 3088, 'उत्तेजना': 3089, 'नाड़ियों': 3090, 'हलचल': 3091, 'इन्ही': 3092, 'विकृतियों': 3093, 'अत्याधिक': 3094, 'निराशा': 3095, 'आत्म': 3096, 'ग्लानि': 3097, 'उदासीनता': 3098, 'जरुरत': 3099, 'दिखना': 3100, 'बोलना': 3101, 'दम': 3102, 'चुप': 3103, 'संदेह': 3104, 'आत्महत्या': 3105, 'फालिज': 3106, 'एसिडिटी': 3107, 'बावासीर': 3108, 'मधुमेह': 3109, 'अनिद्रा': 3110, 'स्त्री': 3111, 'बाँझपन': 3112, 'शक्तिन्युनता': 3113, 'पागलपन': 3114, 'समर्थ': 3115, 'जात': 3116, 'छोड़': 3117, 'उठाती': 3118, 'दबाती': 3119, 'भावनाओं': 3120, 'संतुलन': 3121, 'बैचेनी': 3122, 'चैनल': 3123, 'बनने': 3124, 'हीलर': 3125, 'शांति': 3126, 'जीवनदायिनी': 3127, 'हीलिंग': 3128, 'मुक्ति': 3129, 'आलौकिक': 3130, 'शमता': 3131, 'स्पर्श': 3132, 'तरंगे': 3133, 'श्रद्धा': 3134, 'आत्मीयता': 3135, 'सहनशक्ति': 3136, 'अभ्यास': 3137, 'गुणों': 3138, 'तभी': 3139, 'उपचारक': 3140, 'आचार्य': 3141, 'ग्रैंड': 3142, 'मास्टर': 3143, 'शक्तिशाली': 3144, 'शक्तिपात': 3145, 'कही': 3146, 'सर्व': 3147, 'व्यापी': 3148, 'प्राणशक्ति': 3149, 'जुड़': 3150, 'दैवीय': 3151, 'हाथो': 3152, 'गुरू': 3153, 'ब्रह्मांडीय': 3154, 'रूपांतरण': 3155, 'जितना': 3156, 'उतनी': 3157, 'distant': 3158, 'attunement': 3159, 'मास्टरशिप': 3160, 'उच्चतम': 3161, 'सैकड़ो': 3162, 'हजारो': 3163, 'सीखते': 3164, 'ऊँचाई': 3165, 'उत्साह': 3166, 'बढ़ाने': 3167, 'सिम्बल': 3168, 'सिखाये': 3169, 'आज्ञा': 3170, 'खोलने': 3171, 'विद्या': 3172, 'वैभव': 3173, 'प्रसन्नता': 3174, 'विजय': 3175, 'अभिव्यक्ति': 3176, 'पूर्णता': 3177, 'प्रेम': 3178, 'अनके': 3179, 'स्थापित': 3180, 'सिखाया': 3181, 'सिखायी': 3182, 'त्राटक': 3183, 'क्रिया': 3184, 'नेत्रो': 3185, 'चुम्बकीय': 3186, 'ग्रिड': 3187, 'सामूहिक': 3188, 'स्मृति': 3189, 'आध्यात्मिक': 3190, 'साधना': 3191, 'जिसमे': 3192, 'शांन्ति': 3193, 'प्राणिमात्र': 3194, 'कर्तव्य': 3195, 'बोध': 3196, 'पाँचवाँ': 3197, 'उलझन': 3198, 'संबंध': 3199, 'विशेषज्ञों': 3200, 'कोलेस्ट्रॉल': 3201, 'हानिकारक': 3202, 'तलेभुने': 3203, 'पत्तेदार': 3204, 'नशीली': 3205, 'वस्तु': 3206, 'मक्खन': 3207, 'आँवला': 3208, 'लहसुन': 3209, 'मुरब्बे': 3210, 'हल्केफुल्के': 3211, 'सैर': 3212, 'जीवनचर्या': 3213, 'प्रसन्नचित्त': 3214}\n"
          ],
          "name": "stdout"
        }
      ]
    },
    {
      "cell_type": "code",
      "metadata": {
        "id": "QsVzRHobWS6H",
        "colab_type": "code",
        "colab": {}
      },
      "source": [
        "def get_index_to_word_dict(vocab):\n",
        "  index_to_word = {}\n",
        "  for i, word in enumerate(vocab):\n",
        "    index_to_word[i] = word\n",
        "  return index_to_word  "
      ],
      "execution_count": 0,
      "outputs": []
    },
    {
      "cell_type": "code",
      "metadata": {
        "id": "emK-h7Q_WupP",
        "colab_type": "code",
        "colab": {}
      },
      "source": [
        "src_index_to_word = get_index_to_word_dict(src_vocab)\n",
        "dest_index_to_word = get_index_to_word_dict(dest_vocab)"
      ],
      "execution_count": 0,
      "outputs": []
    },
    {
      "cell_type": "code",
      "metadata": {
        "id": "DfwvjDszW37B",
        "colab_type": "code",
        "outputId": "dbec56b3-6472-4bd6-b46d-45a1c105e5b8",
        "colab": {
          "base_uri": "https://localhost:8080/",
          "height": 72
        }
      },
      "source": [
        "print(src_index_to_word)\n",
        "print(dest_index_to_word)"
      ],
      "execution_count": 0,
      "outputs": [
        {
          "output_type": "stream",
          "text": [
            "{0: 'the', 1: 'treatment', 2: 'of', 3: 'cataract', 4: 'is', 5: 'possible', 6: 'through', 7: 'surgery', 8: 'only', 9: 'complete', 10: 'lens', 11: 'capsule', 12: 'taken', 13: 'out', 14: 'in', 15: 'method', 16: 'intra', 17: 'capsular', 18: 'extraction', 19: 'after', 20: 'operation', 21: 'spectacles', 22: 'are', 23: 'used', 24: 'posttest', 25: 'during', 26: 'implanted', 27: 'at', 28: 'front', 29: 'iris', 30: 'frontal', 31: 'part', 32: 'eye', 33: 'extra', 34: 'and', 35: 'whole', 36: 'matter', 37: 'extracted', 38: 'posterior', 39: 'left', 40: 'intact', 41: 'fitted', 42: 'bag', 43: 's', 44: 'lrb', 45: 'small', 46: 'incision', 47: 'rrb', 48: 'mm', 49: 'tunnel', 50: 'formed', 51: 'while', 52: 'rest', 53: 'follows', 54: 'like', 55: 'that', 56: 'ecceiol', 57: 'no', 58: 'stitches', 59: 'applied', 60: 'black', 61: 'nerves', 62: 'dilapidates', 63: 'gradually', 64: 'it', 65: 'happens', 66: 'due', 67: 'to', 68: 'water', 69: 'pressure', 70: 'or', 71: 'because', 72: 'not', 73: 'enough', 74: 'blood', 75: 'reaching', 76: 'blindness', 77: 'caused', 78: 'by', 79: 'can', 80: 'be', 81: 'prevented', 82: 'if', 83: 'identified', 84: 'soon', 85: 'its', 86: 'regular', 87: 'tests', 88: 'continue', 89: 'when', 90: 'more', 91: 'eyes', 92: 'somebody', 93: 'suffers', 94: 'from', 95: 'family', 96: 'most', 97: 'patients', 98: 'channel', 99: 'open', 100: 'yet', 101: 'for', 102: 'some', 103: 'reasons', 104: 'gets', 105: 'lessened', 106: 'internal', 107: 'keeps', 108: 'on', 109: 'increasing', 110: 'patient', 111: 'see', 112: 'things', 113: 'around', 114: 'eyesight', 115: 'might', 116: 'also', 117: 'lost', 118: 'done', 119: 'time', 120: 'main', 121: 'symptoms', 122: 'appearance', 123: 'which', 124: 'a', 125: 'should', 126: 'consult', 127: 'doctor', 128: 'seeing', 129: 'rainbow', 130: 'colorful', 131: 'ovals', 132: 'light', 133: 'we', 134: 'will', 135: 'check', 136: 'with', 137: 'special', 138: 'equipment', 139: 'find', 140: 'how', 141: 'much', 142: 'damage', 143: 'has', 144: 'occurred', 145: 'field', 146: 'test', 147: 'capacity', 148: 'sides', 149: 'looking', 150: 'straight', 151: 'tested', 152: 'angle', 153: 'where', 154: 'passes', 155: 'seen', 156: 'lack', 157: 'vitamina', 158: 'cornea', 159: 'becomes', 160: 'weak', 161: 'wound', 162: 'appears', 163: 'last', 164: 'causes', 165: 'even', 166: 'imminent', 167: 'states', 168: 'measles', 169: 'malnutrition', 170: 'nyctalopia', 171: 'may', 172: 'occur', 173: 'absorption', 174: 'food', 175: 'continuous', 176: 'diarrhoea', 177: 'demand', 178: 'visible', 179: 'dim', 180: 'white', 181: 'surface', 182: 'dries', 183: 'up', 184: 'bitot', 185: 'spots', 186: 'shows', 187: 'use', 188: 'gram', 189: 'leaves', 190: 'fenugreek', 191: 'methi', 192: 'spinach', 193: 'cabbage', 194: 'coriander', 195: 'papaya', 196: 'mango', 197: 'diet', 198: 'prevent', 199: 'encouraging', 200: 'mother', 201: 'milk', 202: 'applying', 203: 'vaccine', 204: 'giving', 205: 'doses', 206: 'mn', 207: 'i', 208: 'an', 209: 'interval', 210: 'months', 211: 'till', 212: 'years', 213: 'necessary', 214: 'children', 215: 'given', 216: 'nutritious', 217: 'so', 218: 'they', 219: 'saved', 220: 'corneal', 221: 'conjunctival', 222: 'rubella', 223: 'vaccination', 224: 'required', 225: 'about', 226: 'percent', 227: 'become', 228: 'blind', 229: 'one', 230: 'injuries', 231: 'people', 232: 'educated', 233: 'safety', 234: 'crackers', 235: 'industrial', 236: 'accidents', 237: 'road', 238: 'traffic', 239: 'could', 240: 'escaped', 241: 'save', 242: 'diseases', 243: 'pay', 244: 'attention', 245: 'towards', 246: 'environmental', 247: 'sanitation', 248: 'needed', 249: 'gradual', 250: 'painless', 251: 'lessening', 252: 'vision', 253: 'both', 254: 'month', 255: 'year', 256: 'pupil', 257: 'getting', 258: 'gray', 259: 'rays', 260: 'do', 261: 'fall', 262: 'retina', 263: 'falls', 264: 'back', 265: 'collected', 266: 'before', 267: 'fungus', 268: 'kind', 269: 'being', 270: 'lives', 271: 'our', 272: 'body', 273: 'harms', 274: 'creates', 275: 'abode', 276: 'damped', 277: 'places', 278: 'under', 279: 'nail', 280: 'toe', 281: 'called', 282: 'onikomysis', 283: 'nearby', 284: 'clearly', 285: 'but', 286: 'there', 287: 'occurs', 288: 'problem', 289: 'distance', 290: 'brings', 291: 'near', 292: 'student', 293: 'tries', 294: 'sit', 295: 'very', 296: 'blackboard', 297: 'classroom', 298: 'collects', 299: 'this', 300: 'mostly', 301: 'young', 302: 'headache', 303: 'heaviness', 304: 'reading', 305: 'weakness', 306: 'muscles', 307: 'change', 308: 'shape', 309: 'behind', 310: 'doing', 311: 'close', 312: 'found', 313: 'age', 314: 'above', 315: 'shadowiness', 316: 'readingwriting', 317: 'ray', 318: 'concentrate', 319: 'reddening', 320: 'cylindrical', 321: 'glasses', 322: 'have', 323: 'worn', 324: 'always', 325: 'cancer', 326: 'lifestyle', 327: 'generated', 328: 'disease', 329: 'erupts', 330: 'wrong', 331: 'practices', 332: 'thoughts', 333: 'behavior', 334: 'smoking', 335: 'excessive', 336: 'cigarette', 337: 'windpipe', 338: 'progress', 339: 'development', 340: 'rid', 341: 'changes', 342: 'number', 343: 'heart', 344: 'japan', 345: 'developed', 346: 'countries', 347: 'developing', 348: 'every', 349: 'eight', 350: 'persons', 351: 'any', 352: 'victim', 353: 'different', 354: 'types', 355: 'locations', 356: 'country', 357: 'difference', 358: 'customs', 359: 'religion', 360: 'all', 361: 'data', 362: 'been', 363: 'calculated', 364: 'ovarian', 365: 'breast', 366: 'women', 367: 'cities', 368: 'between', 369: 'among', 370: 'rural', 371: 'lungs', 372: 'breathing', 373: 'pipe', 374: 'pollution', 375: 'possibility', 376: 'mouth', 377: 'stomach', 378: 'gutkha', 379: 'pan', 380: 'parag', 381: 'tobacco', 382: 'powder', 383: 'what', 384: 'name', 385: 'cells', 386: 'multiply', 387: 'itself', 388: 'ignores', 389: 'rules', 390: 'reach', 391: 'other', 392: 'parts', 393: 'cell', 394: 'takes', 395: 'form', 396: 'cyst', 397: 'destroys', 398: 'systems', 399: 'coming', 400: 'contact', 401: 'group', 402: 'than', 403: 'although', 404: 'each', 405: 'basically', 406: 'cancers', 407: 'as', 408: 'result', 409: 'anomaly', 410: 'generally', 411: 'easy', 412: 'tumors', 413: 'weeded', 414: 'again', 415: 'difficult', 416: 'destroy', 417: 'tissues', 418: 'spread', 419: 'into', 420: 'areas', 421: 'new', 422: 'get', 423: 'born', 424: 'immediately', 425: 'whether', 426: 'tumor', 427: 'start', 428: 'several', 429: 'gives', 430: 'impressions', 431: 'details', 432: 'important', 433: 'below', 434: 'oxalate', 435: 'stone', 436: 'kidney', 437: 'preventions', 438: 'advantageous', 439: 'heal', 440: 'swelling', 441: 'abnormal', 442: 'passing', 443: 'pus', 444: 'organ', 445: 'prolonged', 446: 'bouts', 447: 'cough', 448: 'occurrence', 449: 'speech', 450: 'pain', 451: 'swallowing', 452: 'toilet', 453: 'indigestion', 454: 'constipation', 455: 'general', 456: 'habits', 457: 'bowels', 458: 'sudden', 459: 'size', 460: 'color', 461: 'moles', 462: 'warts', 463: 'however', 464: 'such', 465: 'just', 466: 'well', 467: 'these', 468: 'therefore', 469: 'take', 470: 'show', 471: 'stay', 472: 'two', 473: 'weeks', 474: 'doubt', 475: 'immediate', 476: 'identification', 477: 'need', 478: 'increase', 479: 'knowledge', 480: 'care', 481: 'oneself', 482: 'identifying', 483: 'early', 484: 'total', 485: 'now', 486: 'cost', 487: 'lower', 488: 'late', 489: 'besides', 490: 'aware', 491: 'men', 492: 'themselves', 493: 'regularly', 494: 'appear', 495: 'doctors', 496: 'cervix', 497: 'skin', 498: 'large', 499: 'intestine', 500: 'rectum', 501: 'prostate', 502: 'gland', 503: 'testicle', 504: 'etc', 505: 'signs', 506: 'common', 507: 'occurring', 508: 'india', 509: 'lymph', 510: 'nodes', 511: 'connected', 512: 'arteries', 513: 'liquid', 514: 'web', 515: 'throughout', 516: 'try', 517: 'keep', 518: 'filtering', 519: 'them', 520: 'advancement', 521: 'able', 522: 'spreads', 523: 'why', 524: 'surgeons', 525: 'usually', 526: 'weed', 527: 'cervical', 528: 'circulation', 529: 'particularly', 530: 'growth', 531: 'you', 532: 'shown', 533: 'medical', 534: 'checkup', 535: 'detection', 536: 'inserting', 537: 'gloved', 538: 'finger', 539: 'annual', 540: 'everybody', 541: 'faeces', 542: 'comprehensive', 543: 'mandatory', 544: 'confirmed', 545: 'diagnosis', 546: 'sigmoidoscopy', 547: 'telescopic', 548: 'period', 549: 'crossing', 550: 'credible', 551: 'finding', 552: 'initial', 553: 'stage', 554: 'must', 555: 'irregular', 556: 'known', 557: 'testicular', 558: 'testing', 559: 'best', 560: 'bathing', 561: 'hot', 562: 'flaccid', 563: 'situation', 564: 'easily', 565: 'figured', 566: 'finds', 567: 'defect', 568: 'touching', 569: 'then', 570: 'consulted', 571: 'humans', 572: 'experienced', 573: 'dentist', 574: 'gum', 575: 'lips', 576: 'cheek', 577: 'paid', 578: 'scab', 579: 'cracks', 580: 'bleeding', 581: 'eating', 582: 'betel', 583: 'masala', 584: 'zarda', 585: 'essential', 586: 'view', 587: 'your', 588: 'mirror', 589: 'case', 590: 'advice', 591: 'know', 592: 'their', 593: 'own', 594: 'breasts', 595: 'good', 596: 'few', 597: 'days', 598: 'menstruation', 599: 'becoming', 600: 'pains', 601: 'stopped', 602: 'appoint', 603: 'day', 604: 'whenever', 605: 'specially', 606: 'danger', 607: 'increases', 608: 'woman', 609: 'feels', 610: 'she', 611: 'cysts', 612: 'correctly', 613: 'situations', 614: 'mammogram', 615: 'goes', 616: 'whose', 617: 'mothers', 618: 'sister', 619: 'aunts', 620: 'mammography', 621: 'since', 622: 'pathology', 623: 'microscope', 624: 'xray', 625: 'scan', 626: 'ultrasound', 627: 'list', 628: 'training', 629: 'centres', 630: 'depends', 631: 'limited', 632: 'area', 633: 'along', 634: 'affected', 635: 'normal', 636: 'attempted', 637: 'particle', 638: 'entered', 639: 'lessen', 640: 'burnt', 641: 'laser', 642: 'calculation', 643: 'based', 644: 'strength', 645: 'mark', 646: 'entry', 647: 'person', 648: 'prohibited', 649: 'room', 650: 'radioactive', 651: 'sometimes', 652: 'red', 653: 'feel', 654: 'vomiting', 655: 'fully', 656: 'treated', 657: 'medicine', 658: 'medicines', 659: 'nails', 660: 'decrement', 661: 'cause', 662: 'tiredness', 663: 'cycle', 664: 'eats', 665: 'healthy', 666: 'he', 667: 'recover', 668: 'clean', 669: 'sick', 670: 'immune', 671: 'incurable', 672: 'kept', 673: 'palliative', 674: 'physical', 675: 'mental', 676: 'hospitals', 677: 'available', 678: 'awareness', 679: 'prevention', 680: 'related', 681: 'products', 682: 'quitting', 683: 'control', 684: 'fresh', 685: 'fruits', 686: 'green', 687: 'vegetables', 688: 'vegetarian', 689: 'exercise', 690: 'fast', 691: 'least', 692: 'half', 693: 'hour', 694: 'everyday', 695: 'chilly', 696: 'fried', 697: 'roasted', 698: 'meat', 699: 'ghee', 700: 'wine', 701: 'making', 702: 'relationship', 703: 'staying', 704: 'faithful', 705: 'partner', 706: 'productive', 707: 'organs', 708: 'feeding', 709: 'long', 710: 'using', 711: 'condoms', 712: 'copulation', 713: 'bringing', 714: 'society', 715: 'information', 716: 'keeping', 717: 'away', 718: 'bad', 719: 'reforms', 720: 'urban', 721: 'government', 722: 'nongovernment', 723: 'department', 724: 'social', 725: 'organizations', 726: 'health', 727: 'anganwadi', 728: 'workers', 729: 'cancerous', 730: 'selfbreast', 731: 'junior', 732: 'high', 733: 'schools', 734: 'superintendant', 735: 'base', 736: 'hospital', 737: 'district', 738: 'college', 739: 'private', 740: 'state', 741: 'asked', 742: 'maintain', 743: 'register', 744: 'outdoor', 745: 'post', 746: 'report', 747: 'directorate', 748: 'chicken', 749: 'pox', 750: 'varicella', 751: 'viral', 752: 'zoster', 753: 'vzv', 754: 'fever', 755: 'eruption', 756: 'papules', 757: 'sign', 758: 'virus', 759: 'another', 760: 'air', 761: 'drops', 762: 'spray', 763: 'saliva', 764: 'environment', 765: 'sneezing', 766: 'coughing', 767: 'infected', 768: 'direct', 769: 'herpes', 770: 'contagious', 771: 'raw', 772: 'wounds', 773: 'cases', 774: 'pregnant', 775: 'unborn', 776: 'baby', 777: 'erupt', 778: 'over', 779: 'often', 780: 'week', 781: 'started', 782: 'shivering', 783: 'nausea', 784: 'clear', 785: 'famous', 786: 'blisters', 787: 'extreme', 788: 'itching', 789: 'freckles', 790: 'later', 791: 'scabs', 792: 'attack', 793: 'adult', 794: 'childhood', 795: 'adolescence', 796: 'adults', 797: 'who', 798: 'had', 799: 'never', 800: 'come', 801: 'contraction', 802: 'suffer', 803: 'adulthood', 804: 'serious', 805: 'adolescents', 806: 'comparison', 807: 'stays', 808: 'longer', 809: 'school', 810: 'work', 811: 'helps', 812: 'decreasing', 813: 'effective', 814: 'solution', 815: 'escape', 816: 'estimated', 817: 'acute', 818: 'joint', 819: 'complaints', 820: 'teeth', 821: 'nose', 822: 'tourniquet', 823: 'comes', 824: 'positive', 825: 'platelet', 826: 'count', 827: 'less', 828: 'lac', 829: 'dengue', 830: 'sting', 831: 'aedes', 832: 'aegypti', 833: 'tiger', 834: 'mosquito', 835: 'stings', 836: 'home', 837: 'coolers', 838: 'tanks', 839: 'root', 840: 'empty', 841: 'disused', 842: 'tin', 843: 'cans', 844: 'tyres', 845: 'flower', 846: 'pots', 847: 'bottles', 848: 'money', 849: 'plants', 850: 'cisterns', 851: 'tubs', 852: 'pitchers', 853: 'changing', 854: 'twice', 855: 'let', 856: 'collect', 857: 'fill', 858: 'ditches', 859: 'soil', 860: 'filling', 861: 'kerosene', 862: 'oil', 863: 'ditch', 864: 'neem', 865: 'mustard', 866: 'full', 867: 'sleeve', 868: 'shirts', 869: 'socks', 870: 'boys', 871: 'wear', 872: 'clothes', 873: 'going', 874: 'insecticides', 875: 'sprayed', 876: 'outburst', 877: 'center', 878: 'nets', 879: 'antimosquito', 880: 'incense', 881: 'sticks', 882: 'sleeping', 883: 'install', 884: 'windows', 885: 'doors', 886: 'clerestorys', 887: 'nonsteroidal', 888: 'drugs', 889: 'diabetes', 890: 'sugar', 891: 'controlled', 892: 'killing', 893: 'forms', 894: 'insulin', 895: 'following', 896: 'frequent', 897: 'feeling', 898: 'urination', 899: 'thirsty', 900: 'inability', 901: 'sexual', 902: 'activities', 903: 'numbness', 904: 'feet', 905: 'paralysing', 906: 'problems', 907: 'complexities', 908: 'emerge', 909: 'excess', 910: 'term', 911: 'tendons', 912: 'neuropathy', 913: 'nephropathy', 914: 'retinopathy', 915: 'vessels', 916: 'damages', 917: 'hands', 918: 'inflammation', 919: 'starts', 920: 'tip', 921: 'fingers', 922: 'upwards', 923: 'lose', 924: 'power', 925: 'delicate', 926: 'system', 927: 'present', 928: 'damaged', 929: 'kidneys', 930: 'stop', 931: 'working', 932: 'dialysis', 933: 'transplantation', 934: 'complexity', 935: 'paralysis', 936: 'studies', 937: 'proved', 938: 'dangers', 939: 'those', 940: 'decreases', 941: 'infection', 942: 'gums', 943: 'bladder', 944: 'reproductive', 945: 'contagion', 946: 'decreased', 947: 'great', 948: 'extent', 949: 'adopting', 950: 'chances', 951: 'predamage', 952: 'minimizing', 953: 'type', 954: 'polluted', 955: 'bites', 956: 'enters', 957: 'appearing', 958: 'stiffness', 959: 'neck', 960: 'strokes', 961: 'fainting', 962: 'nervousness', 963: 'mentioned', 964: 'admitted', 965: 'primary', 966: 'subdivisional', 967: 'malaria', 968: 'mosquitoes', 969: 'community', 970: 'carrying', 971: 'mainly', 972: 'reside', 973: 'outside', 974: 'paddy', 975: 'fields', 976: 'ponds', 977: 'filled', 978: 'cleanliness', 979: 'cut', 980: 'tall', 981: 'grass', 982: 'bushes', 983: 'pants', 984: 'pyjama', 985: 'dhoti', 986: 'sleeved', 987: 'kurta', 988: 'shirt', 989: 'evening', 990: 'wherever', 991: 'rain', 992: 'house', 993: 'cooperate', 994: 'staffs', 995: 'sprinkling', 996: 'fogging', 997: 'fine', 998: 'enter', 999: 'pigsties', 1000: 'encephalitis', 1001: 'administered', 1002: 'hepatitisa', 1003: 'widespread', 1004: 'spreading', 1005: 'world', 1006: 'level', 1007: 'attacks', 1008: 'lever', 1009: 'intensity', 1010: 'first', 1011: 'anal', 1012: 'passage', 1013: 'comparatively', 1014: 'develops', 1015: 'jaundice', 1016: 'purge', 1017: 'colored', 1018: 'ache', 1019: 'hungry', 1020: 'dependent', 1021: 'frequency', 1022: 'emergence', 1023: 'v', 1024: 'kinds', 1025: 'hepatitis', 1026: 'viruses', 1027: 'avoided', 1028: 'hepatitisb', 1029: 'similarly', 1030: 'practical', 1031: 'against', 1032: 'safe', 1033: 'booster', 1034: 'dose', 1035: 'six', 1036: 'combined', 1037: 'glaxosmithkline', 1038: 'provides', 1039: 'single', 1040: 'order', 1041: 'paediatric', 1042: 'ml', 1043: 'worldwide', 1044: 'hbv', 1045: 'affects', 1046: 'liver', 1047: 'destroyed', 1048: 'function', 1049: 'interrupted', 1050: 'results', 1051: 'unexpected', 1052: 'extremely', 1053: 'thought', 1054: 'times', 1055: 'hiv', 1056: 'aids', 1057: 'victimises', 1058: 'death', 1059: 'vehicle', 1060: 'fluids', 1061: 'sperm', 1062: 'vaginal', 1063: 'included', 1064: 'three', 1065: 'ways', 1066: 'child', 1067: 'birth', 1068: 'convenient', 1069: 'resultant', 1070: 'chronic', 1071: 'carrier', 1072: 'protective', 1073: 'antibacterial', 1074: 'reactions', 1075: 'intense', 1076: 'old', 1077: 'extensive', 1078: 'remarkable', 1079: 'decrease', 1080: 'arising', 1081: 'yellow', 1082: 'jack', 1083: 'vomit', 1084: 'negro', 1085: 'american', 1086: 'plague', 1087: 'made', 1088: 'precautions', 1089: 'hernia', 1090: 'does', 1091: 'huge', 1092: 'population', 1093: 'stayed', 1094: 'independence', 1095: 'welfare', 1096: 'program', 1097: 'was', 1098: 'run', 1099: 'national', 1100: 'subject', 1101: 'suggested', 1102: 'international', 1103: 'conference', 1104: 'cairo', 1105: 'egypt', 1106: 'would', 1107: 'human', 1108: 'conjugate', 1109: 'reproduction', 1110: 'element', 1111: 'within', 1112: 'planning', 1113: 'services', 1114: 'concept', 1115: 'programme', 1116: 'running', 1117: 'uttarakhand', 1118: 'constitution', 1119: 'rate', 1120: 'low', 1121: 'original', 1122: 'uttar', 1123: 'pradesh', 1124: 'lowered', 1125: 'districts', 1126: 'paudi', 1127: 'haridwar', 1128: 'gross', 1129: 'infants', 1130: 'her', 1131: 'life', 1132: 'continuously', 1133: 'inter', 1134: 'differences', 1135: 'desire', 1136: 'son', 1137: 'affect', 1138: 'future', 1139: 'hilly', 1140: 'plain', 1141: 'fourth', 1142: 'give', 1143: 'next', 1144: 'little', 1145: 'kids', 1146: 'births', 1147: 'category', 1148: 'comment', 1149: 'tendencies', 1150: 'styles', 1151: 'particular', 1152: 'according', 1153: 'estimates', 1154: 'sample', 1155: 'registration', 1156: 'average', 1157: 'infant', 1158: 'mortality', 1159: 'live', 1160: 'third', 1161: 'deaths', 1162: 'infancy', 1163: 'per', 1164: 'maternal', 1165: 'considering', 1166: 'odd', 1167: 'said', 1168: 'noncommunicable', 1169: 'big', 1170: 'style', 1171: 'modernization', 1172: 'urbanization', 1173: 'goal', 1174: 'bring', 1175: 'decline', 1176: 'importance', 1177: 'participation', 1178: 'relation', 1179: 'provide', 1180: 'protected', 1181: 'contraceptive', 1182: 'methods', 1183: 'make', 1184: 'facilities', 1185: 'pregnancy', 1186: 'help', 1187: 'parents', 1188: 'babies', 1189: 'programs', 1190: 'parent', 1191: 'security', 1192: 'childbirth', 1193: 'institutional', 1194: 'childbirths', 1195: 'increased', 1196: 'maximum', 1197: 'works', 1198: 'organisation', 1199: 'r', 1200: 'camps', 1201: 'sessions', 1202: 'appointment', 1203: 'contract', 1204: 'construction', 1205: 'repairing', 1206: 'units', 1207: 'supplementary', 1208: 'basis', 1209: 'unserved', 1210: 'immunisation', 1211: 'acceptability', 1212: 'contraceptives', 1213: 'directions', 1214: 'service', 1215: 'phcs', 1216: 'chcs', 1217: 'secure', 1218: 'oclock', 1219: 'night', 1220: 'morning', 1221: 'untrained', 1222: 'midwives', 1223: 'trained', 1224: 'labor', 1225: 'maternity', 1226: 'counsellors', 1227: 'officer', 1228: 'were', 1229: 'accepted', 1230: 'appointed', 1231: 'e', 1232: 'scheme', 1233: 'advertisements', 1234: 'newspapers', 1235: 'officers', 1236: 'selected', 1237: 'reported', 1238: 'contribution', 1239: 'agastyamuni', 1240: 'chc', 1241: 'rudraprayag', 1242: 'village', 1243: 'council', 1244: 'organising', 1245: 'outreach', 1246: 'session', 1247: 'defined', 1248: 'saturday', 1249: 'scrapped', 1250: 'govt', 1251: 'july', 1252: 'bought', 1253: 'rch', 1254: 'kits', 1255: 'provided', 1256: 'directly', 1257: 'equipments', 1258: 'provision', 1259: 'purchase', 1260: 'recommendation', 1261: 'executive', 1262: 'committee', 1263: 'constituted', 1264: 'head', 1265: 'office', 1266: 'propagation', 1267: 'nsv', 1268: 'without', 1269: 'stitch', 1270: 'stabilisation', 1271: 'installation', 1272: 'stable', 1273: 'rn', 1274: 'hoarding', 1275: 'wall', 1276: 'paintings', 1277: 'orientation', 1278: 'members', 1279: 'panchayati', 1280: 'raj', 1281: 'paramedical', 1282: 'staff', 1283: 'media', 1284: 'exhibition', 1285: 'leprosy', 1286: 'bacteria', 1287: 'microbacterium', 1288: 'leprae', 1289: 'nervous', 1290: 'incubation', 1291: 'grows', 1292: 'slowly', 1293: 'sex', 1294: 'equally', 1295: 'm', 1296: 'cures', 1297: 'completely', 1298: 'eradicating', 1299: 'prevents', 1300: 'noncontagious', 1301: 'resistance', 1302: 'capability', 1303: 'fight', 1304: 'thereby', 1305: 'happen', 1306: 'discolored', 1307: 'reddish', 1308: 'spot', 1309: 'stain', 1310: 'piercing', 1311: 'cold', 1312: 'oily', 1313: 'shine', 1314: 'thickness', 1315: 'eyebrows', 1316: 'chin', 1317: 'ears', 1318: 'hard', 1319: 'thrilling', 1320: 'sensation', 1321: 'dryness', 1322: 'deformation', 1323: 'initiation', 1324: 'freckle', 1325: 'numb', 1326: 'cured', 1327: 'disability', 1328: 'aroused', 1329: 'reason', 1330: 'excommunication', 1331: 'careless', 1332: 'right', 1333: 'growing', 1334: 'malformed', 1335: 'face', 1336: 'ugly', 1337: 'ulcer', 1338: 'insensitive', 1339: 'deformity', 1340: 'lateness', 1341: 'brought', 1342: 'previous', 1343: 'yes', 1344: 'disabled', 1345: 'way', 1346: 'simple', 1347: 'operations', 1348: 'his', 1349: 'livelihood', 1350: 'bite', 1351: 'female', 1352: 'anopheles', 1353: 'once', 1354: 'apply', 1355: 'yourself', 1356: 'pour', 1357: 'petrolubricants', 1358: 'recommended', 1359: 'administer', 1360: 'earliest', 1361: 'antibody', 1362: 'incidents', 1363: 'nine', 1364: 'indications', 1365: 'conjunctivitis', 1366: 'stains', 1367: 'inside', 1368: 'mouths', 1369: 'erupting', 1370: 'loose', 1371: 'motion', 1372: 'hunger', 1373: 'seriously', 1374: 'almost', 1375: 'local', 1376: 'having', 1377: 'entrance', 1378: 'mumps', 1379: 'perotitis', 1380: 'emerges', 1381: 'glands', 1382: 'jaws', 1383: 'paining', 1384: 'cheeks', 1385: 'respectively', 1386: 'drying', 1387: 'german', 1388: 'youths', 1389: 'nominal', 1390: 'defects', 1391: 'attenuated', 1392: 'vaccines', 1393: 'amalgamated', 1394: 'mmr', 1395: 'breed', 1396: 'achieved', 1397: 'exercises', 1398: 'step', 1399: 'execution', 1400: 'believes', 1401: 'eradicate', 1402: 'w', 1403: 'unicef', 1404: 'administration', 1405: 'second', 1406: 'protect', 1407: 'disorder', 1408: 'brain', 1409: 'think', 1410: 'understand', 1411: 'afflicted', 1412: 'victims', 1413: 'mentally', 1414: 'ill', 1415: 'purblindness', 1416: 'epilepsy', 1417: 'sleeplessness', 1418: 'hypersomnia', 1419: 'process', 1420: 'mood', 1421: 'schizophrenia', 1422: 'dementia', 1423: 'delirium', 1424: 'personality', 1425: 'african', 1426: 'latin', 1427: 'many', 1428: 'paying', 1429: 'sad', 1430: 'angry', 1431: 'sorry', 1432: 'happiness', 1433: 'happy', 1434: 'disturbed', 1435: 'talk', 1436: 'thinking', 1437: 'correct', 1438: 'others', 1439: 'alcohol', 1440: 'cannabis', 1441: 'marijuana', 1442: 'declaring', 1443: 'agony', 1444: 'him', 1445: 'lab', 1446: 'ecg', 1447: 'rft', 1448: 'lft', 1449: 'eeg', 1450: 'ct', 1451: 'diagnostic', 1452: 'standardized', 1453: 'intervenes', 1454: 'psychological', 1455: 'listening', 1456: 'providing', 1457: 'emotionally', 1458: 'propagating', 1459: 'press', 1460: 'radio', 1461: 'fairs', 1462: 'posters', 1463: 'banners', 1464: 'better', 1465: 'relations', 1466: 'colleges', 1467: 'institutes', 1468: 'treating', 1469: 'emotional', 1470: 'disorders', 1471: 'enabling', 1472: 'families', 1473: 'undergo', 1474: 'solving', 1475: 'personal', 1476: 'difficulty', 1477: 'saving', 1478: 'falling', 1479: 'executed', 1480: 'authority', 1481: 'april', 1482: 'bed', 1483: 'constructed', 1484: 'dehradun', 1485: 'chosen', 1486: 'garhwal', 1487: 'division', 1488: 'nainital', 1489: 'kumaun', 1490: 'proposal', 1491: 'sent', 1492: 'implemented', 1493: 'benefit', 1494: 'transferred', 1495: 'transfer', 1496: 'living', 1497: 'poverty', 1498: 'line', 1499: 'assistance', 1500: 'rs', 1501: 'delivery', 1502: 'proper', 1503: 'nutrition', 1504: 'capital', 1505: 'received', 1506: 'intended', 1507: 'beneficiaries', 1508: 'predelivery', 1509: 'percentage', 1510: 'thrice', 1511: 'numbers', 1512: 'advantage', 1513: 'iron', 1514: 'folic', 1515: 'acid', 1516: 'pills', 1517: 'tetanus', 1518: 'toxide', 1519: 'injection', 1520: 'got', 1521: 'injections', 1522: 't', 1523: 'vogue', 1524: 'uneducated', 1525: 'standards', 1526: 'indicating', 1527: 'distribution', 1528: 'anemia', 1529: 'referencing', 1530: 'complex', 1531: 'conclude', 1532: 'place', 1533: 'maids', 1534: 'assistant', 1535: 'seven', 1536: 'completing', 1537: 'institutions', 1538: 'benefitted', 1539: 'postlabour', 1540: 'postchildbirth', 1541: 'newborn', 1542: 'abortion', 1543: 'comparative', 1544: 'detail', 1545: 'achievements', 1546: 'table', 1547: 'poliomyelitis', 1548: 'medium', 1549: 'polio', 1550: 'arises', 1551: 'rapidly', 1552: 'faster', 1553: 'crowded', 1554: 'oral', 1555: 'poliovirus', 1556: 'opv', 1557: 'contemporary', 1558: 'soviet', 1559: 'union', 1560: 'technique', 1561: 'controlling', 1562: 'discovered', 1563: 'relevant', 1564: 'proof', 1565: 'success', 1566: 'eradication', 1567: 'pulse', 1568: 'successful', 1569: 'dtp', 1570: 'clinical', 1571: 'pertussis', 1572: 'diphtheria', 1573: 'throat', 1574: 'contractible', 1575: 'communicated', 1576: 'intercourse', 1577: 'sexually', 1578: 'transmitted', 1579: 'painful', 1580: 'gonorrhoea', 1581: 'chlamydia', 1582: 'initially', 1583: 'end', 1584: 'create', 1585: 'either', 1586: 'looks', 1587: 'totally', 1588: 'infect', 1589: 'uncommon', 1590: 'oozing', 1591: 'stench', 1592: 'abdomen', 1593: 'naval', 1594: 'vagina', 1595: 'depths', 1596: 'crust', 1597: 'urinary', 1598: 'tract', 1599: 'urinating', 1600: 'excreting', 1601: 'flu', 1602: 'arise', 1603: 'dead', 1604: 'inborn', 1605: 'syphilis', 1606: 'undeveloped', 1607: 'conjuctiva', 1608: 'contracted', 1609: 'helpful', 1610: 'copulate', 1611: 'partners', 1612: 'wash', 1613: 'remember', 1614: 'encourage', 1615: 'followed', 1616: 'tuberculosis', 1617: 'die', 1618: 'higher', 1619: 'bones', 1620: 'joints', 1621: 'commonly', 1622: 'economic', 1623: 'loss', 1624: 'quantity', 1625: 'too', 1626: 'afraid', 1627: 'say', 1628: 'orphans', 1629: 'research', 1630: 'drop', 1631: 'incidence', 1632: 'privilege', 1633: 'dying', 1634: 'thrown', 1635: 'homes', 1636: 'dots', 1637: 'strategy', 1638: 'coughs', 1639: 'chief', 1640: 'symptom', 1641: 'phlegm', 1642: 'droplets', 1643: 'breath', 1644: 'infects', 1645: 'recovering', 1646: 'quits', 1647: 'observed', 1648: 'short', 1649: 'course', 1650: 'chemotherapy', 1651: 'revealed', 1652: 'means', 1653: 'courses', 1654: 'antituberculosis', 1655: 'presence', 1656: 'worker', 1657: 'stages', 1658: 'intensive', 1659: 'phase', 1660: 'continuation', 1661: 'taking', 1662: 'alternate', 1663: 'negative', 1664: 'issued', 1665: 'calendared', 1666: 'multiblistered', 1667: 'combo', 1668: 'pack', 1669: 'weekly', 1670: 'watch', 1671: 'whoever', 1672: 'encouraged', 1673: 'supposed', 1674: 'epidemics', 1675: 'arbovirus', 1676: 'flaviviridae', 1677: 'singleformula', 1678: 'rna', 1679: 'simpsaloni', 1680: 'africanus', 1681: 'administering', 1682: 'bcg', 1683: 'refer', 1684: 'send', 1685: 'enquiring', 1686: 'went', 1687: 'vaccinated', 1688: 'educate', 1689: 'stores', 1690: 'udham', 1691: 'singh', 1692: 'nagar', 1693: 'built', 1694: 'distribute', 1695: 'faroff', 1696: 'supply', 1697: 'revised', 1698: 'properly', 1699: 'fourwheeler', 1700: 'tehri', 1701: 'uttarkashi', 1702: 'chamoli', 1703: 'pithauragarh', 1704: 'almora', 1705: 'twowheeler', 1706: 'microscopic', 1707: 'centre', 1708: 'binocular', 1709: 'bageshwar', 1710: 'champawat', 1711: 'four', 1712: 'wheeler', 1713: 'dust', 1714: 'dirt', 1715: 'rusted', 1716: 'metals', 1717: 'cuts', 1718: 'convulse', 1719: 'neither', 1720: 'opens', 1721: 'nor', 1722: 'closes', 1723: 'slow', 1724: 'already', 1725: 'flavivirus', 1726: 'reproducing', 1727: 'locally', 1728: 'muscle', 1729: 'sticky', 1730: 'wet', 1731: 'material', 1732: 'sound', 1733: 'dog', 1734: 'barking', 1735: 'suddenly', 1736: 'organisms', 1737: 'pneumonia', 1738: 'bronchitis', 1739: 'typhoid', 1740: 'gastrointestinal', 1741: 'fullfledged', 1742: 'insect', 1743: 'salmonella', 1744: 'typhi', 1745: 'periodic', 1746: 'item', 1747: 'beverage', 1748: 'organic', 1749: 'constituents', 1750: 'inactive', 1751: 'insects', 1752: 'reliable', 1753: 'traveling', 1754: 'regional', 1755: 'youth', 1756: 'major', 1757: 'public', 1758: 'antibiotic', 1759: 'waist', 1760: 'epidemic', 1761: 'jungle', 1762: 'effect', 1763: 'density', 1764: 'real', 1765: 'cure', 1766: 'corollary', 1767: 'lot', 1768: 'plenty', 1769: 'drink', 1770: 'hamster', 1771: 'model', 1772: 'ribavirin', 1773: 'considered', 1774: 'same', 1775: 'proves', 1776: 'hepatitisc', 1777: 'historical', 1778: 'says', 1779: 'cdc', 1780: 'fact', 1781: 'sheet', 1782: 'toxic', 1783: 'history', 1784: 'afric', 1785: 'america', 1786: 'europe', 1787: 'caribbean', 1788: 'islands', 1789: 'worst', 1790: 'united', 1791: 'thousand', 1792: 'died', 1793: 'mississippi', 1794: 'valley', 1795: 'naturopathy', 1796: 'medicalphilosophy', 1797: 'recuperation', 1798: 'natural', 1799: 'molecules', 1800: 'therapy', 1801: 'homeopathy', 1802: 'sun', 1803: 'acupuncture', 1804: 'acupressure', 1805: 'therapies', 1806: 'ayurveda', 1807: 'nature', 1808: 'creative', 1809: 'elements', 1810: 'powers', 1811: 'lightly', 1812: 'cooked', 1813: 'play', 1814: 'conclusive', 1815: 'role', 1816: 'revolution', 1817: 'science', 1818: 'boon', 1819: 'poor', 1820: 'nations', 1821: 'biggest', 1822: 'external', 1823: 'piles', 1824: 'expressed', 1825: 'chikungunya', 1826: 'extending', 1827: 'aggressive', 1828: 'chikununya', 1829: 'alphavirus', 1830: 'chikungunia', 1831: 'entering', 1832: 'humanmosquitohuman', 1833: 'monkeys', 1834: 'species', 1835: 'including', 1836: 'chloroquine', 1837: 'proving', 1838: 'stones', 1839: 'flushed', 1840: 'grow', 1841: 'blockage', 1842: 'normally', 1843: 'regrettable', 1844: 'thing', 1845: 'chance', 1846: 'catching', 1847: 'malfunction', 1848: 'thighs', 1849: 'minutes', 1850: 'hours', 1851: 'relief', 1852: 'intermittently', 1853: 'complaint', 1854: 'perspiration', 1855: 'urine', 1856: 'complain', 1857: 'starting', 1858: 'renal', 1859: 'chronine', 1860: 'diagnosed', 1861: 'xraysonography', 1862: 'dye', 1863: 'solutions', 1864: 'litre', 1865: 'amount', 1866: 'protein', 1867: 'nitrogen', 1868: 'sodium', 1869: 'materials', 1870: 'chocolate', 1871: 'soyabean', 1872: 'almond', 1873: 'avoid', 1874: 'cocacola', 1875: 'beverages', 1876: 'heavy', 1877: 'vitaminc', 1878: 'juice', 1879: 'orange', 1880: 'calcium', 1881: 'uric', 1882: 'meaning', 1883: 'transplant', 1884: 'functional', 1885: 'unsuccessful', 1886: 'transplanting', 1887: 'donator', 1888: 'alive', 1889: 'transplantable', 1890: 'pancreas', 1891: 'penis', 1892: 'challenging', 1893: 'modern', 1894: 'discipline', 1895: 'unacceptance', 1896: 'transplanted', 1897: 'management', 1898: 'rejects', 1899: 'reacting', 1900: 'challenge', 1901: 'active', 1902: 'sensitive', 1903: 'valves', 1904: 'veins', 1905: 'arm', 1906: 'suitable', 1907: 'formal', 1908: 'alleviate', 1909: 'risks', 1910: 'manage', 1911: 'allocation', 1912: 'attached', 1913: 'eurotransplant', 1914: 'assured', 1915: 'ethical', 1916: 'issues', 1917: 'fore', 1918: 'definition', 1919: 'agreement', 1920: 'payment', 1921: 'amoeba', 1922: 'dysentry', 1923: 'microbic', 1924: 'entamoeba', 1925: 'histolytica', 1926: 'ova', 1927: 'items', 1928: 'eggs', 1929: 'dysentery', 1930: 'convulsion', 1931: 'anus', 1932: 'diagnosing', 1933: 'tenderness', 1934: 'caecum', 1935: 'iliac', 1936: 'region', 1937: 'flies', 1938: 'excreta', 1939: 'mucus', 1940: 'thickened', 1941: 'portal', 1942: 'vein', 1943: 'epatitis', 1944: 'abscess', 1945: 'fatal', 1946: 'blasts', 1947: 'peritoneum', 1948: 'pericardium', 1949: 'shoulder', 1950: 'pinnacle', 1951: 'burn', 1952: 'kitchen', 1953: 'until', 1954: 'eat', 1955: 'barley', 1956: 'quality', 1957: 'washing', 1958: 'habit', 1959: 'thin', 1960: 'tapioca', 1961: 'pearls', 1962: 'sabudana', 1963: 'arrowroot', 1964: 'rice', 1965: 'curd', 1966: 'rich', 1967: 'remain', 1968: 'yoga', 1969: 'priceless', 1970: 'uterus', 1971: 'fibroid', 1972: 'leiomyoma', 1973: 'knot', 1974: 'approximately', 1975: 'forward', 1976: 'sonography', 1977: 'produce', 1978: 'infertility', 1979: 'predominantly', 1980: 'girls', 1981: 'infested', 1982: 'menopause', 1983: 'hormone', 1984: 'dark', 1985: 'complexion', 1986: 'fair', 1987: 'menarche', 1988: 'consumption', 1989: 'vegetarianism', 1990: 'fibrous', 1991: 'fibroids', 1992: 'unusual', 1993: 'menses', 1994: 'micturition', 1995: 'difficulties', 1996: 'endometriosis', 1997: 'adenomyosis', 1998: 'prerequisite', 1999: 'removal', 2000: 'submucos', 2001: 'removed', 2002: 'hysteroscopic', 2003: 'uterine', 2004: 'endoscopy', 2005: 'intramural', 2006: 'want', 2007: 'myomectomy', 2008: 'carried', 2009: 'hysteroscopy', 2010: 'laparoscopy', 2011: 'laprotomy', 2012: 'opening', 2013: 'quite', 2014: 'together', 2015: 'hysterectomy', 2016: 'putting', 2017: 'thigh', 2018: 'artery', 2019: 'laparoscopic', 2020: 'myolysis', 2021: 'blocked', 2022: 'poly', 2023: 'vinyl', 2024: 'gel', 2025: 'foam', 2026: 'particles', 2027: 'reduce', 2028: 'dreadful', 2029: 'thousands', 2030: 'recognized', 2031: 'break', 2032: 'down', 2033: 'financially', 2034: 'condition', 2035: 'cent', 2036: 'ridden', 2037: 'thus', 2038: 'lacs', 2039: 'financial', 2040: 'date', 2041: 'mri', 2042: 'though', 2043: 'somehow', 2044: 'side', 2045: 'effects', 2046: 'radiation', 2047: 'hold', 2048: 'weapon', 2049: 'infrared', 2050: 'thermography', 2051: 'lethal', 2052: 'greek', 2053: 'egyptian', 2054: 'temperature', 2055: 'sir', 2056: 'william', 2057: 'harchell', 2058: 'thermal', 2059: 'radiations', 2060: 'ad', 2061: 'certain', 2062: 'narrow', 2063: 'meningitis', 2064: 'intracranial', 2065: 'rheumatoid', 2066: 'arthritis', 2067: 'spondilitis', 2068: 'else', 2069: 'sight', 2070: 'go', 2071: 'anything', 2072: 'altered', 2073: 'impact', 2074: 'alone', 2075: 'weaken', 2076: 'viagra', 2077: 'someone', 2078: 'corrected', 2079: 'squint', 2080: 'certainly', 2081: 'syndrome', 2082: 'put', 2083: 'consulting', 2084: 'anyone', 2085: 'paternal', 2086: 'uncle', 2087: 'father', 2088: 'spoiled', 2089: 'look', 2090: 'naked', 2091: 'ultraviolet', 2092: 'walking', 2093: 'freshness', 2094: 'coolness', 2095: 'reduction', 2096: 'tv', 2097: 'computer', 2098: 'word', 2099: 'swellings', 2100: 'captivity', 2101: 'affecting', 2102: 'wide', 2103: 'actions', 2104: 'sitting', 2105: 'floor', 2106: 'domestic', 2107: 'knee', 2108: 'actually', 2109: 'bone', 2110: 'femur', 2111: 'foot', 2112: 'tibia', 2113: 'cartilage', 2114: 'happening', 2115: 'suffering', 2116: 'faces', 2117: 'climbing', 2118: 'stairs', 2119: 'bath', 2120: 'reached', 2121: 'preliminary', 2122: 'whom', 2123: 'alternatives', 2124: 'unicompartmental', 2125: 'resurfacing', 2126: 'hip', 2127: 'beneficial', 2128: 'replacement', 2129: 'tkr', 2130: 'useful', 2131: 'entire', 2132: 'mean', 2133: 'metal', 2134: 'implant', 2135: 'fixed', 2136: 'newest', 2137: 'alternative', 2138: 'rotating', 2139: 'platform', 2140: 'flexion', 2141: 'bending', 2142: 'gardening', 2143: 'driving', 2144: 'exercising', 2145: 'comfort', 2146: 'º', 2147: 'satisfaction', 2148: 'felt', 2149: 'fulfil', 2150: 'daily', 2151: 'surgical', 2152: 'balanced', 2153: 'apart', 2154: 'plays', 2155: 'dealing', 2156: 'vitamins', 2157: 'minerals', 2158: 'anti', 2159: 'oxidants', 2160: 'nutritive', 2161: 'substances', 2162: 'weight', 2163: 'grave', 2164: 'especially', 2165: 'containing', 2166: 'vitamin', 2167: 'c', 2168: 'apples', 2169: 'oranges', 2170: 'cherries', 2171: 'peppers', 2172: 'tomatoes', 2173: 'beet', 2174: 'roots', 2175: 'sweet', 2176: 'potato', 2177: 'grain', 2178: 'brown', 2179: 'obtained', 2180: 'physique', 2181: 'consumed', 2182: 'strong', 2183: 'wart', 2184: 'still', 2185: 'dry', 2186: 'quickly', 2187: 'cautious', 2188: 'hand', 2189: 'leg', 2190: 'commit', 2191: 'mistake', 2192: 'non', 2193: 'dangerous', 2194: 'knots', 2195: 'forget', 2196: 'forming', 2197: 'colour', 2198: 'cutting', 2199: 'ends', 2200: 'rapidity', 2201: 'hesitation', 2202: 'definitely', 2203: 'checked', 2204: 'attentive', 2205: 'points', 2206: 'paediatrician', 2207: 'dr', 2208: 'kumar', 2209: 'intake', 2210: 'activity', 2211: 'indeed', 2212: 'concern', 2213: 'anxiety', 2214: 'upbringing', 2215: 'worry', 2216: 'effort', 2217: 'tried', 2218: 'spend', 2219: 'joyous', 2220: 'moments', 2221: 'survey', 2222: 'move', 2223: 'restlessness', 2224: 'patience', 2225: 'faith', 2226: 'falter', 2227: 'structure', 2228: 'man', 2229: 'statistics', 2230: 'deep', 2231: 'proportion', 2232: 'unhealthy', 2233: 'carelessness', 2234: 'conception', 2235: 'bit', 2236: 'organization', 2237: 'bombay', 2238: 'guide', 2239: 'tells', 2240: 'majority', 2241: 'shy', 2242: 'hesitate', 2243: 'talking', 2244: 'villages', 2245: 'slums', 2246: 'hutments', 2247: 'chawls', 2248: 'wish', 2249: 'prove', 2250: 'dispensaries', 2251: 'free', 2252: 'asthma', 2253: 'flow', 2254: 'publication', 2255: 'indian', 2256: 'association', 2257: 'western', 2258: 'measures', 2259: 'yoke', 2260: 'effortful', 2261: 'direction', 2262: 'did', 2263: 'feed', 2264: 'elixir', 2265: 'saves', 2266: 'savior', 2267: 'efforts', 2268: 'scale', 2269: 'affirms', 2270: 'peeing', 2271: 'toilets', 2272: 'drinking', 2273: 'cleaning', 2274: 'genitals', 2275: 'deformed', 2276: 'complication', 2277: 'burning', 2278: 'coli', 2279: 'track', 2280: 'dirty', 2281: 'undergarments', 2282: 'loyalty', 2283: 'qualitative', 2284: 'digestible', 2285: 'freshly', 2286: 'advised', 2287: 'eaten', 2288: 'chapatti', 2289: 'dinner', 2290: 'acidity', 2291: 'killer', 2292: 'tasteful', 2293: 'produces', 2294: 'glow', 2295: 'removing', 2296: 'waste', 2297: 'dense', 2298: 'cooking', 2299: 'mixed', 2300: 'covered', 2301: 'digest', 2302: 'soothing', 2303: 'medicinal', 2304: 'uses', 2305: 'boiled', 2306: 'lemon', 2307: 'salt', 2308: 'seed', 2309: 'vinegar', 2310: 'chest', 2311: 'intelligence', 2312: 'digestion', 2313: 'porridge', 2314: 'mixing', 2315: 'pulses', 2316: 'moong', 2317: 'asafoetida', 2318: 'ginger', 2319: 'spices', 2320: 'fed', 2321: 'paste', 2322: 'cow', 2323: 'cleared', 2324: 'tendency', 2325: 'stops', 2326: 'intoxication', 2327: 'bhang', 2328: 'vanishes', 2329: 'adding', 2330: 'pinches', 2331: 'edible', 2332: 'soda', 2333: 'washed', 2334: 'grams', 2335: 'pod', 2336: 'honey', 2337: 'sunrise', 2338: 'sleep', 2339: 'hemi', 2340: 'cranial', 2341: 'grind', 2342: 'sieve', 2343: 'harmless', 2344: 'motions', 2345: 'coat', 2346: 'onion', 2347: 'navel', 2348: 'complains', 2349: 'rheumatic', 2350: 'torturous', 2351: 'massage', 2352: 'reduces', 2353: 'pieces', 2354: 'perpetual', 2355: 'tension', 2356: 'toothache', 2357: 'piece', 2358: 'improved', 2359: 'consuming', 2360: 'chemical', 2361: 'reducing', 2362: 'grains', 2363: 'breakfast', 2364: 'consume', 2365: 'cake', 2366: 'wheat', 2367: 'flour', 2368: 'sufficient', 2369: 'magnesium', 2370: 'parathas', 2371: 'source', 2372: 'energy', 2373: 'roast', 2374: 'handful', 2375: 'peanuts', 2376: 'jaggery', 2377: 'heat', 2378: 'trouble', 2379: 'bile', 2380: 'mix', 2381: 'sea', 2382: 'carom', 2383: 'seeds', 2384: 'loo', 2385: 'cover', 2386: 'pocket', 2387: 'purse', 2388: 'repeatedly', 2389: 'smelling', 2390: 'trikuti', 2391: 'redden', 2392: 'lotion', 2393: 'cotton', 2394: 'nutritional', 2395: 'satvik', 2396: 'secret', 2397: 'comfortable', 2398: 'tensions', 2399: 'mind', 2400: 'am', 2401: 'stress', 2402: 'me', 2403: 'pacifying', 2404: 'releases', 2405: 'ageing', 2406: 'abstinence', 2407: 'odour', 2408: 'brush', 2409: 'soft', 2410: 'branch', 2411: 'acacia', 2412: 'removes', 2413: 'freshened', 2414: 'chewing', 2415: 'aniseed', 2416: 'cardamom', 2417: 'chew', 2418: 'paan', 2419: 'mint', 2420: 'gargling', 2421: 'cinnamon', 2422: 'dried', 2423: 'prohibits', 2424: 'cumin', 2425: 'cup', 2426: 'brushing', 2427: 'reiki', 2428: 'anger', 2429: 'greed', 2430: 'excitement', 2431: 'chaos', 2432: 'ailments', 2433: 'deformities', 2434: 'sadness', 2435: 'remorse', 2436: 'depression', 2437: 'speaking', 2438: 'silent', 2439: 'doubting', 2440: 'attempts', 2441: 'suicide', 2442: 'capable', 2443: 'curing', 2444: 'palsy', 2445: 'obesity', 2446: 'gynaecological', 2447: 'powerlessness', 2448: 'madness', 2449: 'congenital', 2450: 'uplifts', 2451: 'suppress', 2452: 'emotions', 2453: 'everyone', 2454: 'peace', 2455: 'generating', 2456: 'healer', 2457: 'healing', 2458: 'riddance', 2459: 'possesses', 2460: 'ability', 2461: 'supernatural', 2462: 'treats', 2463: 'diseased', 2464: 'tactile', 2465: 'waves', 2466: 'qualities', 2467: 'devotion', 2468: 'intimacy', 2469: 'endurance', 2470: 'practice', 2471: 'powerful', 2472: 'released', 2473: 'expert', 2474: 'guru', 2475: 'grandmaster', 2476: 'attunement', 2477: 'omnipresent', 2478: 'heavenly', 2479: 'fills', 2480: 'connects', 2481: 'universal', 2482: 'force', 2483: 'transformed', 2484: 'distantly', 2485: 'master', 2486: 'highest', 2487: 'grandmastership', 2488: 'hundreds', 2489: 'students', 2490: 'learn', 2491: 'heights', 2492: 'participate', 2493: 'advertise', 2494: 'enthusiasm', 2495: 'symbols', 2496: 'taught', 2497: 'activate', 2498: 'agyachakra', 2499: 'wealth', 2500: 'victory', 2501: 'expression', 2502: 'completeness', 2503: 'love', 2504: 'attentiveness', 2505: 'establish', 2506: 'winter', 2507: 'magnetic', 2508: 'tratak', 2509: 'action', 2510: 'grid', 2511: 'memory', 2512: 'spiritual', 2513: 'meditation', 2514: 'balance', 2515: 'sense', 2516: 'duty', 2517: 'mankind', 2518: 'fifth', 2519: 'dilemma', 2520: 'forsake', 2521: 'specialists', 2522: 'believe', 2523: 'cholesterol', 2524: 'chilli', 2525: 'leafy', 2526: 'consumes', 2527: 'cigarettes', 2528: 'intoxicating', 2529: 'butter', 2530: 'raspberry', 2531: 'garlic', 2532: 'apple', 2533: 'jam', 2534: 'include', 2535: 'walk', 2536: 'routine', 2537: 'meditate'}\n",
            "{0: 'मोतियाबिंद', 1: 'का', 2: 'उपचार', 3: 'केवल', 4: 'शल्यचिकित्सा', 5: 'द्वारा', 6: 'ही', 7: 'सम्भव', 8: 'है', 9: '।', 10: 'इन्ट्रा', 11: 'कैनसूलर', 12: 'कैटरेक्ट', 13: 'एक्सट्रेक्शन', 14: 'intra', 15: 'capsular', 16: 'cataract', 17: 'extraction', 18: 'विधि', 19: 'में', 20: 'पूरा', 21: 'लैन्स', 22: 'कैपस्यूल', 23: 'निकाला', 24: 'जाता', 25: 'ऑपरेशन', 26: 'के', 27: 'बाद', 28: 'जाँच', 29: 'उपरान्त', 30: 'चश्में', 31: 'प्रयोग', 32: 'किया', 33: 'दौरान', 34: 'प्रत्यारोपण', 35: 'आँख', 36: 'अगले', 37: 'भाग', 38: 'आइरिस', 39: 'आगे', 40: 'इक्स्ट्रा', 41: 'सामने', 42: 'वाला', 43: 'हिस्सा', 44: 'तथा', 45: 'मैटर', 46: 'निकाल', 47: 'लिया', 48: 'और', 49: 'पीछे', 50: 'सुरक्षित', 51: 'छोड़', 52: 'दिया', 53: 'कैपस्यूलर', 54: 'बैग', 55: 'फिट', 56: 'sics', 57: 'small', 58: 'incision', 59: 'surgry', 60: 'मिमी', 61: 'की', 62: 'एक', 63: 'टनल', 64: 'बनाई', 65: 'जाती', 66: 'शेष', 67: 'ecce–iol', 68: 'तरह', 69: 'होती', 70: 'टाँके', 71: 'नही', 72: 'लगाये', 73: 'जाते', 74: 'हैं', 75: 'काला', 76: 'नेत्र', 77: 'तंत्रिका', 78: 'धीरे', 79: 'नष्ट', 80: 'पानी', 81: 'दबाव', 82: 'ज्यादा', 83: 'होने', 84: 'वजह', 85: 'से', 86: 'या', 87: 'रक्त', 88: 'पर्याप्त', 89: 'मात्रा', 90: 'न', 91: 'पहुँचने', 92: 'ऐसा', 93: 'होता', 94: 'काले', 95: 'वाली', 96: 'अधंता', 97: 'अंधता', 98: 'को', 99: 'रोका', 100: 'जा', 101: 'सकता', 102: 'यदि', 103: 'इसका', 104: 'पता', 105: 'जल्दी', 106: 'लग', 107: 'जाए', 108: 'नियमित', 109: 'इलाज', 110: 'व', 111: 'रहे', 112: 'जब', 113: 'आँखों', 114: 'अतिरिक्त', 115: 'हो', 116: 'परिवार', 117: 'किसी', 118: 'अधिकांश', 119: 'मरीजों', 120: 'जाने', 121: 'खुला', 122: 'फिर', 123: 'भी', 124: 'कुछ', 125: 'कारणवस', 126: 'कारणवश', 127: 'कम', 128: 'अंदर', 129: 'बढ़ता', 130: 'मरीज', 131: 'अगलबगल', 132: 'चीजें', 133: 'नहीं', 134: 'देख', 135: 'पाता', 136: 'अगर', 137: 'समय', 138: 'पर', 139: 'तो', 140: 'नजर', 141: 'सकती', 142: 'प्रमुख', 143: 'लक्षण', 144: 'जिनके', 145: 'प्रकट', 146: 'रोगी', 147: 'डॉक्टर', 148: 'करानी', 149: 'चाहिए', 150: 'रोशनी', 151: 'मे', 152: 'इंद्र', 153: 'धनुष', 154: 'समान', 155: 'रंगीन', 156: 'गोले', 157: 'दिखाई', 158: 'देना', 159: 'विशेष', 160: 'यंत्र', 161: 'करेंगे', 162: 'कितनी', 163: 'क्षति', 164: 'पहुँची', 165: 'फिल्ड', 166: 'टेस्ट', 167: 'जिसमें', 168: 'देखते', 169: 'हुए', 170: 'साइड', 171: 'सकने', 172: 'क्षमता', 173: 'बाहर', 174: 'हिस्से', 175: 'एंगल', 176: 'सकते', 177: 'विटामिनए', 178: 'कमी', 179: 'कॉर्नियल', 180: 'कमजोर', 181: 'घाव', 182: 'जिससे', 183: 'अन्त', 184: 'अन्धापन', 185: 'खसरे', 186: 'कुपोषण', 187: 'स्थिति', 188: 'अधिक', 189: 'रतौंधी', 190: 'खाने', 191: 'लगातार', 192: 'दस्त', 193: 'अवशोषण', 194: 'absorption', 195: 'होना', 196: 'मांग', 197: 'देता', 198: 'स्वेत', 199: 'पटल', 200: 'सूखा', 201: 'बिटोटस', 202: 'स्पॉट्स', 203: 'श्वेत', 204: 'श्\\u200dवेत', 205: 'धब्बे', 206: 'देते', 207: 'बचने', 208: 'लिए', 209: 'चौलाई', 210: 'चने', 211: 'साग', 212: 'मैथी', 213: 'पालक', 214: 'बन्दगोभी', 215: 'धनिया', 216: 'गाजर', 217: 'पपीता', 218: 'आम', 219: 'आदि', 220: 'सेवन', 221: 'करें', 222: 'माँ', 223: 'दूध', 224: 'प्रोत्साहित', 225: 'करना', 226: 'टीका', 227: 'लगाना', 228: 'खुराक', 229: 'लाख', 230: 'आईयू', 231: 'टीके', 232: 'वर्ष', 233: 'तक', 234: 'माह', 235: 'अन्तराल', 236: 'बच्चों', 237: 'पौष्टिक', 238: 'आहार', 239: 'दिये', 240: 'आवश्यकता', 241: 'ताकि', 242: 'वाले', 243: 'ब्लाइन्डनेस', 244: 'बचाया', 245: 'सकें', 246: 'रूबेला', 247: 'कारण', 248: 'कन्जानाईटल', 249: 'लिये', 250: 'टीकाकरण', 251: 'किये', 252: 'चोट', 253: 'लगने', 254: 'लगभग', 255: 'प्रतिशत', 256: 'बच्चें', 257: 'अन्धे', 258: 'सुरक्षा', 259: 'बारे', 260: 'लोगों', 261: 'शिक्षित', 262: 'पटाखें', 263: 'औद्योगिक', 264: 'दुर्घटनायें', 265: 'एवं', 266: 'रोड', 267: 'ट्रेफिक', 268: 'दुर्घटनायों', 269: 'अन्धता', 270: 'सके', 271: 'रोगों', 272: 'बचाव', 273: 'environmental', 274: 'senitation', 275: 'ओर', 276: 'ध्यान', 277: 'जरूरत', 278: 'धीरेधीरे', 279: 'बिना', 280: 'दर्द', 281: 'दोनों', 282: 'दृष्टि', 283: 'आना', 284: 'भूरा', 285: 'gray', 286: 'सफेद', 287: 'पुतली', 288: 'प्यूपिल', 289: 'प्रकाश', 290: 'किरणें', 291: 'रेटिना', 292: 'पड़ती', 293: 'पहले', 294: 'एकत्रित', 295: 'फंगस', 296: 'हमारे', 297: 'शरीर', 298: 'रहने', 299: 'जीव', 300: 'जो', 301: 'नुकसान', 302: 'पहुँचाता', 303: 'नमी', 304: 'जगह', 305: 'जैसे', 306: 'पैर', 307: 'अंगूठे', 308: 'नाखून', 309: 'नीचे', 310: 'अपना', 311: 'घर', 312: 'बना', 313: 'लेते', 314: 'जिसे', 315: 'ओनिकोमाइसिस', 316: 'कहते', 317: 'नजदीक', 318: 'साफ', 319: 'परन्तु', 320: 'दूर', 321: 'देखने', 322: 'परेशानी', 323: 'चीजों', 324: 'पास', 325: 'लाता', 326: 'क्लास', 327: 'विद्यार्थी', 328: 'श्यामपट', 329: 'काफी', 330: 'बैठने', 331: 'कोशिश', 332: 'करता', 333: 'यह', 334: 'ज्यादातर', 335: 'जवान', 336: 'देखा', 337: 'सिर', 338: 'भारीपन', 339: 'पढ़ने', 340: 'मांसपेशियों', 341: 'कमजोरी', 342: 'आकार', 343: 'बदल', 344: 'पढ़ते', 345: 'नजदीकी', 346: 'काम', 347: 'करते', 348: 'उससे', 349: 'ऊपर', 350: 'उम्र', 351: 'पाई', 352: 'पढ़नेलिखने', 353: 'कोई', 354: 'करने', 355: 'धुंधलापन', 356: 'किरण', 357: 'पर्दे', 358: 'बिन्दु', 359: 'केन्द्रित', 360: 'पाती', 361: 'कि', 362: 'धुंधला', 363: 'दिखता', 364: 'अथवा', 365: 'सर', 366: 'लाल', 367: 'सिलिंडरिकल', 368: 'ग्लासेस', 369: 'हमेशा', 370: 'पहनना', 371: 'कैंसर', 372: 'जीवन', 373: 'शैली', 374: 'उत्पन्न', 375: 'बीमारी', 376: 'गलत', 377: 'अचार', 378: 'विचार', 379: 'व्यवहार', 380: 'सिगरेट', 381: 'पीने', 382: 'फेफड़ों', 383: 'स्वॉस', 384: 'नलियों', 385: 'जैसेजैसे', 386: 'हम', 387: 'विकास', 388: 'अग्रसर', 389: 'संक्रामक', 390: 'निजात', 391: 'पा', 392: 'वैसेवैसे', 393: 'अपने', 394: 'बदलाव', 395: 'हदय', 396: 'रोगियों', 397: 'संख्या', 398: 'वृद्धि', 399: 'रही', 400: 'जापान', 401: 'नम्बर', 402: 'विकसित', 403: 'देशों', 404: 'दूसरे', 405: 'विकासशील', 406: 'तीसरे', 407: 'भारत', 408: 'आठ', 409: 'व्यक्ति', 410: 'उमर', 411: 'कभी', 412: 'पीड़ित', 413: 'देश', 414: 'रीतीरीवाज', 415: 'धर्म', 416: 'भिन्न', 417: 'अलगअलग', 418: 'विभिन्न', 419: 'प्रकार', 420: 'पायी', 421: 'सभी', 422: 'आंकडों', 423: 'आंकलन', 424: 'कर', 425: 'गया', 426: 'शहरों', 427: 'महिलाओं', 428: 'बच्चेदानी', 429: 'मुँह', 430: 'स्तन', 431: 'पाये', 432: 'ग्रामीण', 433: 'बीच', 434: 'पुरूषों', 435: 'धूम्रपान', 436: 'प्रदूषण', 437: 'फेफड़े', 438: 'श्वाँस', 439: 'साँस', 440: 'नली', 441: 'पाया', 442: 'गुटका', 443: 'पान', 444: 'पराग', 445: 'खैनी', 446: 'सुरती', 447: 'पेट', 448: 'सम्भावना', 449: 'गयी', 450: 'क्या', 451: 'नाम', 452: 'कोशिका', 453: 'आप', 454: 'गुणात्मक', 455: 'तरीके', 456: 'वृद्वि', 457: 'करती', 458: 'नियमों', 459: 'अनदेखा', 460: 'भागों', 461: 'पहुँच', 462: 'गिल्टी', 463: 'रूप', 464: 'ले', 465: 'लेती', 466: 'सम्पर्क', 467: 'आने', 468: 'तन्त्रों', 469: 'देती', 470: 'बीमारीयों', 471: 'समूह', 472: 'हालांकि', 473: 'हर', 474: 'मूलतः', 475: 'कोशिकाओं', 476: 'अव्यवस्था', 477: 'परिणामस्वरुप', 478: 'होते', 479: 'सामान्यतः', 480: 'सुसाध्य', 481: 'ट्यूमरों', 482: 'इनके', 483: 'संभावना', 484: 'असाध्य', 485: 'ट्यूमर', 486: 'निकट', 487: 'ऊतकों', 488: 'अंगों', 489: 'कोशिकाएँ', 490: 'अन्य', 491: 'फैल', 492: 'रोगव्यापि', 493: 'नए', 494: 'पैदा', 495: 'चूँकि', 496: 'अतः', 497: 'आवश्यक', 498: 'चिकित्सक', 499: 'तुरन्त', 500: 'लें', 501: 'बन', 502: 'चलते', 503: 'आरम्भ', 504: 'ऐसे', 505: 'अनेक', 506: 'दिखलाई', 507: 'पड़ने', 508: 'लगते', 509: 'आभास', 510: 'महत्वपूर्ण', 511: 'लक्षणों', 512: 'विवरण', 513: 'रहा', 514: 'गुर्दे', 515: 'ऑक्जेलेट', 516: 'पत्थरी', 517: 'किनकिन', 518: 'परहेज', 519: 'बरतना', 520: 'फायदेमंद', 521: 'भरता', 522: 'कहीं', 523: 'गाँठ', 524: 'सूजन', 525: 'अंग', 526: 'असामान्य', 527: 'मवाद', 528: 'खाँसी', 529: 'आवाज', 530: 'भारी', 531: 'खाना', 532: 'निगलने', 533: 'शौच', 534: 'कष्ट', 535: 'अपच', 536: 'कब्ज', 537: 'रहना', 538: 'आँतों', 539: 'सामान्य', 540: 'आदतों', 541: 'परिवर्तन', 542: 'तिल', 543: 'मस्से', 544: 'रंग', 545: 'रुप', 546: 'अचानक', 547: 'वैसे', 548: 'इन्हें', 549: 'मान', 550: 'लेना', 551: 'चाहिये', 552: 'दो', 553: 'सप्ताह', 554: 'इन', 555: 'बने', 556: 'दिखलाएँ', 557: 'इसमें', 558: 'शक', 559: 'पाए', 560: 'अधिकतर', 561: 'शीघ्र', 562: 'पहचान', 563: 'संभव', 564: 'इसके', 565: 'जानकारी', 566: 'बढ़ाने', 567: 'स्वंय', 568: 'रखने', 569: 'पहचानकर', 570: 'जड़', 571: 'ठीक', 572: 'अब', 573: 'यही', 574: 'लागत', 575: 'देर', 576: 'मुकाबले', 577: 'बहुत', 578: 'सचेत', 579: 'अपनी', 580: 'करवानी', 581: 'परीक्षणों', 582: 'चिन्ह', 583: 'मुख', 584: 'गर्भाशयग्रीवा', 585: 'सर्विक्स', 586: 'त्वचा', 587: 'बड़ी', 588: 'आंत', 589: 'मलाशय', 590: 'पुरस्थग्रंथी', 591: 'प्रोटेस्ट', 592: 'अण्डकोश', 593: 'टेस्टिकल', 594: 'लगा', 595: 'ग्रीवा', 596: 'स्त्रियों', 597: 'औरतों', 598: 'कुल', 599: 'लसीका', 600: 'ग्रन्थियाँ', 601: 'धमनियों', 602: 'जुड़ी', 603: 'हुई', 604: 'तरल', 605: 'द्रव', 606: 'बनाती', 607: 'जाल', 608: 'पूरे', 609: 'फैला', 610: 'ग्रंथियाँ', 611: 'छानकर', 612: 'सीमित', 613: 'प्रयत्\\u200dन', 614: 'बढ़', 615: 'वह', 616: 'पातीं', 617: 'फैलने', 618: 'लगता', 619: 'इसी', 620: 'शल्य', 621: 'आमतौर', 622: 'आसपास', 623: 'ग्रंथियों', 624: 'प्रवाह', 625: 'खासकर', 626: 'नई', 627: 'करवाए', 628: 'तुरंत', 629: 'डॉक्टरी', 630: 'करनी', 631: 'बडी', 632: 'लगाने', 633: 'करवाना', 634: 'दस्ताना', 635: 'चढ़ी', 636: 'अंगुली', 637: 'डालकर', 638: 'रोग', 639: 'आयु', 640: 'वार्षिक', 641: 'मल', 642: 'साथ', 643: 'आ', 644: 'निश्\\u200dचित', 645: 'निदान', 646: 'विस्तृत', 647: 'पार', 648: 'लेने', 649: 'अवधि', 650: 'सिग्माइडोस्कोपी', 651: 'दूरबीन', 652: 'पुरस्थ', 653: 'ग्रंथी', 654: 'आंरभिक', 655: 'अत्यंत', 656: 'विश्\\u200dवसनीय', 657: 'तरीका', 658: 'उंगली', 659: 'परीक्षण', 660: 'साल', 661: 'व्यक्तियों', 662: 'अवश्य', 663: 'जानी', 664: 'अनियमित', 665: 'सख्त', 666: 'क्षेत्र', 667: 'जाना', 668: 'यहाँ', 669: 'अण्ड', 670: 'ग्रंथीय', 671: 'आदमी', 672: 'प्रत्येक', 673: 'मास', 674: 'करके', 675: 'पुरूष', 676: 'गरम', 677: 'जल', 678: 'स्नान', 679: 'उसके', 680: 'अण्डकोष', 681: 'शिथिल', 682: 'इसकी', 683: 'सबसे', 684: 'अच्छा', 685: 'क्योंकि', 686: 'इस', 687: 'सुगमता', 688: 'लगाया', 689: 'दोष', 690: 'छूने', 691: 'चलता', 692: 'दिखलाना', 693: 'मनुष्य', 694: 'चिन्हों', 695: 'आरम्भिक', 696: 'आसानी', 697: 'अनुभव', 698: 'दंत', 699: 'पूरी', 700: 'मसूड़ों', 701: 'होठों', 702: 'गालों', 703: 'खुरण्ड', 704: 'पपड़ी', 705: 'दरार', 706: 'स्राव', 707: 'गिलटी', 708: 'दंतचिकित्सक', 709: 'जाकर', 710: 'करवा', 711: 'तम्बाकू', 712: 'पानमसाला', 713: 'जर्दे', 714: 'शीशे', 715: 'देने', 716: 'सलाह', 717: 'ढंग', 718: 'जान', 719: 'महिने', 720: 'स्तनों', 721: 'रजोधर्म', 722: 'दिनों', 723: 'बड़े', 724: 'बिल्कुल', 725: 'मासिक', 726: 'बंद', 727: 'दिन', 728: 'नियुक्त', 729: 'खतरा', 730: 'महिला', 731: 'उसे', 732: 'गाँठें', 733: 'सही', 734: 'मैमोग्राम', 735: 'जाय', 736: 'जिन', 737: 'माताओं', 738: 'बहनों', 739: 'मौसियों', 740: 'उन्हें', 741: 'मैमोग्राफी', 742: 'पैथोलोजी', 743: 'एफएनएसी', 744: 'बायोप्सी', 745: 'सूक्ष्मदर्शी', 746: 'सीटी', 747: 'स्केन', 748: 'एमएमआर', 749: 'अल्ट्रासाउंड', 750: 'प्रशिक्षण', 751: 'केन्द्र', 752: 'सूची', 753: 'जहाँ', 754: 'कराया', 755: '।rdpunc', 756: 'चरण', 757: 'निर्भर', 758: 'प्रारम्भिक', 759: 'प्रभावित', 760: 'साथसाथ', 761: 'हटाये', 762: 'कण', 763: 'रह', 764: 'प्रवेश', 765: 'चुका', 766: 'कठिनाई', 767: 'विकिरण', 768: 'जलाया', 769: 'रेडियोधर्मी', 770: 'फैलाव', 771: 'आधार', 772: 'शक्ति', 773: 'निशान', 774: 'उस', 775: 'कमरे', 776: 'वर्जित', 777: 'तकलीफ', 778: 'कभीकभी', 779: 'उल्टी', 780: 'दवाओं', 781: 'गाँठों', 782: 'ये', 783: 'दवाईयाँ', 784: 'समाप्त', 785: 'कोशिकायें', 786: 'बाल', 787: 'गिर', 788: 'खून', 789: 'जिसकी', 790: 'थकान', 791: 'लगती', 792: 'साइकल', 793: 'दवाई', 794: 'स्वस्थ', 795: 'भोजन', 796: 'खाये', 797: 'निरन्तर', 798: 'बीमार', 799: 'बैठना', 800: 'प्रतिरोधक', 801: 'लाईलाज', 802: 'पेलियेटिव', 803: 'केयर', 804: 'रखा', 805: 'उनकी', 806: 'शारीरिक', 807: 'मानसिक', 808: 'पीड़ा', 809: 'अस्पताल', 810: 'सुविधा', 811: 'जागरूकता', 812: 'तम्बाकूओं', 813: 'सम्बन्धित', 814: 'वस्तुओं', 815: 'परित्याग', 816: 'नियत्रंण', 817: 'स्वच्छ', 818: 'शाकाहारी', 819: 'ताजी', 820: 'हरी', 821: 'पत्तीदार', 822: 'सब्जी', 823: 'ताजे', 824: 'फल', 825: 'आधे', 826: 'घन्टे', 827: 'व्यायाम', 828: 'तेजी', 829: 'चलना', 830: 'खेलना', 831: 'मिर्च', 832: 'तला', 833: 'भूना', 834: 'मांस', 835: 'घी', 836: 'मदिरा', 837: 'सम्बन्ध', 838: 'बनाना', 839: 'साथी', 840: 'प्रति', 841: 'वफादार', 842: 'जनन', 843: 'अगों', 844: 'रखना', 845: 'लम्बे', 846: 'पिलाना', 847: 'सम्भोग', 848: 'निरोध', 849: 'इस्तेमाल', 850: 'समाज', 851: 'जागरुकता', 852: 'लाना', 853: 'बुरी', 854: 'सरकारी', 855: 'गैरसरकारी', 856: 'विभाग', 857: 'समाजिक', 858: 'संस्थाएँ', 859: 'शहरी', 860: 'सुधारने', 861: 'प्रेरित', 862: 'बार', 863: 'स्वास्थ्य', 864: 'कराना', 865: 'आंगनवाड़ी', 866: 'कार्यकर्त्ताओं', 867: 'सम्बन्धी', 868: 'स्व', 869: 'दी', 870: 'जूनियर', 871: 'हाईस्कूल', 872: 'राज्य', 873: 'चिकित्सालय', 874: 'अधीक्षक', 875: 'बेस', 876: 'जिला', 877: 'मेडिकल', 878: 'कॉलेज', 879: 'प्राईवेट', 880: 'अस्पतालों', 881: 'रजिस्टर', 882: 'बनाने', 883: 'कहा', 884: 'वे', 885: 'बाहरी', 886: 'आये', 887: 'हुये', 888: 'करेगें', 889: 'रिर्पोट', 890: 'महानिदेशालय', 891: 'प्रेषित', 892: 'करेंगें', 893: 'रजिस्ट्रर', 894: 'हमें', 895: 'जायेगा', 896: 'किस', 897: 'कौन', 898: 'सा', 899: 'छोटीमाता', 900: 'चिकनपौक्स', 901: 'वेरिसिल', 902: 'वायरल', 903: 'वेरिसिला', 904: 'जोस्टर', 905: 'वीजेडवी', 906: 'प्रथम', 907: 'उभरती', 908: 'बुखार', 909: 'सारे', 910: 'विशिष्ट', 911: 'फुंसियाँ', 912: 'निकलना', 913: 'हवा', 914: 'निहित', 915: 'बूंदों', 916: 'वायरस', 917: 'फैलता', 918: 'संक्रमित', 919: 'खाँसने', 920: 'छींकने', 921: 'वातावरण', 922: 'लार', 923: 'छींटे', 924: 'उभरता', 925: 'हर्पिस', 926: 'सीधे', 927: 'गीले', 928: 'घावों', 929: 'मामलों', 930: 'गर्भवती', 931: 'अजन्में', 932: 'नवजात', 933: 'शिशु', 934: 'फुन्सियाँ', 935: 'उभरने', 936: 'जमने', 937: 'यानी', 938: 'उनके', 939: 'सूख', 940: 'सर्वाधिक', 941: 'स्पर्शजन्य', 942: 'अकसर', 943: 'चकत्तों', 944: 'आरंभ', 945: 'कंपकंपी', 946: 'उबकाई', 947: 'सुविख्यात', 948: 'फुन्सी', 949: 'खुजलाहट', 950: 'भरी', 951: 'चकत्तियों', 952: 'उभरना', 953: 'निकलती', 954: 'परत', 955: 'बड़ों', 956: 'लोग', 957: 'बचपन', 958: 'किशोरावस्था', 959: 'शिकार', 960: 'लेकिन', 961: 'वयस्क', 962: 'मामले', 963: 'आते', 964: 'संक्रमण', 965: 'अवस्था', 966: 'तुलना', 967: 'किशोरों', 968: 'वयस्कों', 969: 'गंभीर', 970: 'लंबे', 971: 'रहता', 972: 'स्कूल', 973: 'प्रसार', 974: 'मदद', 975: 'मिलती', 976: 'प्रभावी', 977: 'उपाय', 978: 'तेज', 979: 'बदन', 980: 'जोड़ों', 981: 'दाने', 982: 'अनुमान', 983: 'ग्रसित', 984: 'उपरोक्त', 985: 'अलावा', 986: 'दाँत', 987: 'नाक', 988: 'शिकायत', 989: 'टारनीक्वेट', 990: 'धनात्मक', 991: 'आता', 992: 'कराने', 993: 'प्लेटलेट', 994: 'काउन्ट', 995: 'डेंगू', 996: 'एडिस', 997: 'एजिप्टाई', 998: 'मच्छर', 999: 'काटने', 1000: 'पश्\\u200dचात', 1001: 'टाइगर', 1002: 'मौसक्विटो', 1003: 'काटता', 1004: 'कूलर', 1005: 'छत', 1006: 'खुली', 1007: 'टंकियों', 1008: 'बेकार', 1009: 'टीन', 1010: 'खाली', 1011: 'डिब्बों', 1012: 'टायर', 1013: 'फूलदान', 1014: 'बोतलों', 1015: 'मनीप्लान्ट', 1016: 'पौधों', 1017: 'सिस्टर्नों', 1018: 'एकत्र', 1019: 'रखें', 1020: 'बाल्टी', 1021: 'घड़े', 1022: 'बदलते', 1023: 'रहें', 1024: 'इकट्ठा', 1025: 'दें', 1026: 'गड्ढों', 1027: 'मिट्टी', 1028: 'डाल', 1029: 'पाट', 1030: 'डालना', 1031: 'गड्ढे', 1032: 'तेल', 1033: 'छिड़क', 1034: 'नीम', 1035: 'सरसों', 1036: 'उपयोग', 1037: 'आस्तीन', 1038: 'कमीज', 1039: 'मोजे', 1040: 'बालक', 1041: 'बालिकाओं', 1042: 'कपड़ा', 1043: 'पहनायें', 1044: 'कीटनाशक', 1045: 'छिड़काव', 1046: 'करवायें', 1047: 'प्रकोप', 1048: 'ज्वर', 1049: 'प्रा०स्वा०केन्द्र', 1050: 'सोते', 1051: 'मच्छरदानी', 1052: 'मच्छररोधी', 1053: 'अगरबत्ती', 1054: 'घरों', 1055: 'खिड़कियों', 1056: 'दरवाजों', 1057: 'रोशन', 1058: 'दानों', 1059: 'जाली', 1060: 'लगायें', 1061: 'कास्टायड', 1062: 'दवाइयाँ', 1063: 'ली', 1064: 'जायें', 1065: 'डायबिटीज', 1066: 'ऐसी', 1067: 'जिसके', 1068: 'परिणामस्वरूप', 1069: 'शर्करा', 1070: 'ग्लूकोज', 1071: 'नियंत्रित', 1072: 'जानलेवा', 1073: 'हमारा', 1074: 'इन्सुलिन', 1075: 'बनाता', 1076: 'आपमें', 1077: 'निम्नलिखित', 1078: 'मौजूद', 1079: 'आपको', 1080: 'बारबार', 1081: 'पेशाब', 1082: 'प्यास', 1083: 'लगना', 1084: 'घुंधला', 1085: 'सेक्स', 1086: 'संबंधी', 1087: 'क्रियाओं', 1088: 'असमर्थता', 1089: 'पैरों', 1090: 'सुन्न', 1091: 'उनमें', 1092: 'झुनझनाहट', 1093: 'समस्याएँ', 1094: 'निम्न', 1095: 'जटिलताएँ', 1096: 'अधिकता', 1097: 'दीर्घकालीन', 1098: 'स्नायुओं', 1099: 'न्यूरोपैथी', 1100: 'गुर्दो', 1101: 'नेफरोपैथी', 1102: 'रेटिनोपैथी', 1103: 'ह्दय', 1104: 'वाहिनी', 1105: 'दीर्घ', 1106: 'कालिक', 1107: 'हाथों', 1108: 'पहुँचाती', 1109: 'झुनझुनाहट', 1110: 'पड़ना', 1111: 'जलन', 1112: 'अक्सर', 1113: 'हाथ', 1114: 'अंगुलियों', 1115: 'छोर', 1116: 'शुरू', 1117: 'महसूस', 1118: 'गवां', 1119: 'गुर्दों', 1120: 'नाजुक', 1121: 'छनन', 1122: 'संस्थान', 1123: 'बन्द', 1124: 'डायलासिस', 1125: 'गुर्दा', 1126: 'प्रतिरोपण', 1127: 'जरूरी', 1128: 'आपकी', 1129: 'पहुँचा', 1130: 'अंधापन', 1131: 'हृदय', 1132: 'जटिलता', 1133: 'वाहिनियों', 1134: 'दिल', 1135: 'दौरा', 1136: 'पक्षाघात', 1137: 'संचारण', 1138: 'खराबी', 1139: 'अध्ययनों', 1140: 'ने', 1141: 'प्रमाणित', 1142: 'उन', 1143: 'अपेक्षा', 1144: 'जिन्हें', 1145: 'इससे', 1146: 'आपके', 1147: 'मसूड़े', 1148: 'फेफड़े', 1149: 'मूत्राशय', 1150: 'जननेन्द्रियों', 1151: 'सम्बद्ध', 1152: 'जटिलताओं', 1153: 'नियंत्रण', 1154: 'स्वस्थ्य', 1155: 'पूर्व', 1156: 'लौटाने', 1157: 'अवसर', 1158: 'विषाणु', 1159: 'इतने', 1160: 'सूक्ष्म', 1161: 'साधारण', 1162: 'माइक्रोस्कोप', 1163: 'देखे', 1164: 'दूषित', 1165: 'दिखायी', 1166: 'प्रायः', 1167: 'भयानक', 1168: 'सरदर्द', 1169: 'गर्दन', 1170: 'अकड़न', 1171: 'झटके', 1172: 'मितली', 1173: 'अर्द्ध', 1174: 'पूर्ण', 1175: 'बेहोशी', 1176: 'उपर्युक्त', 1177: 'प्राथमिक', 1178: 'तहसील', 1179: 'स्तरीय', 1180: 'राजकीय', 1181: 'चिकित्सा', 1182: 'हेतु', 1183: 'भर्ती', 1184: 'मलेरिया', 1185: 'मच्छरों', 1186: 'इसलिये', 1187: 'समुदाय', 1188: 'घटाया', 1189: 'रोगवाहक', 1190: 'मुख्य', 1191: 'धान', 1192: 'खेतों', 1193: 'पोखरों', 1194: 'भरे', 1195: 'रहते', 1196: 'स्वच्छता', 1197: 'बड़ीबड़ी', 1198: 'घास', 1199: 'झाड़ियों', 1200: 'काट', 1201: 'शाम', 1202: 'पैन्ट', 1203: 'पैजामा', 1204: 'धोती', 1205: 'बाँह', 1206: 'कुर्ता', 1207: 'पहनें', 1208: 'बरसाती', 1209: 'फॉगिंग', 1210: 'धुआँ', 1211: 'छोड़ने', 1212: 'कर्मचारियों', 1213: 'सहयोग', 1214: 'प्रदान', 1215: 'सुअर', 1216: 'बाड़ों', 1217: 'रोकने', 1218: 'महीन', 1219: 'एन्सेफलाइटिस', 1220: 'लगवाएँ', 1221: 'हेपेटाइटिसए', 1222: 'विश्\\u200dव', 1223: 'भर', 1224: 'व्यापक', 1225: 'सफाई', 1226: 'खराब', 1227: 'स्तर', 1228: 'स्थानों', 1229: 'यकृत', 1230: 'लीवर', 1231: 'हमला', 1232: 'तीव्रता', 1233: 'उभारता', 1234: 'प्रथमतः', 1235: 'गुदामुख', 1236: 'मार्ग', 1237: 'तुलनात्मक', 1238: 'लंबा', 1239: 'लेता', 1240: 'पीलिया', 1241: 'मूत्र', 1242: 'पीलापन', 1243: 'जुलाब', 1244: 'फीके', 1245: 'कपकपी', 1246: 'भूख', 1247: 'गले', 1248: 'इत्यादि', 1249: 'बारंबारता', 1250: 'बी', 1251: 'हेपेटाइटिस', 1252: 'वायरसों', 1253: 'अलग', 1254: 'हेपेटाइटिसबी', 1255: 'उपलब्ध', 1256: 'खिलाफ', 1257: 'व्यवहार्य', 1258: 'रखता', 1259: 'बूस्टर', 1260: 'डोज', 1261: 'अनुमानतः', 1262: 'ग्लेक्सोम्थिक्लाइन', 1263: 'संयुक्त', 1264: 'महीनों', 1265: 'दिए', 1266: 'एकल', 1267: 'क्रम', 1268: 'रूपों', 1269: 'पेडियाट्रिक', 1270: 'मिली', 1271: 'विश्\\u200dवव्यापी', 1272: 'एचबीवी', 1273: 'एचबीपी', 1274: 'मुख्यतः', 1275: 'कार्य', 1276: 'बाधित', 1277: 'परिणाम', 1278: 'भिन्नभिन्न', 1279: 'अनापेक्षित', 1280: 'प्रतिकारक', 1281: 'आधारित', 1282: 'इसे', 1283: 'एड्स', 1284: 'एचआईवी', 1285: 'गुना', 1286: 'माना', 1287: 'हैपेटाइटिसबी', 1288: 'प्रतिदिन', 1289: 'मौत', 1290: 'साधन', 1291: 'द्रव्यों', 1292: 'माध्यम', 1293: 'शामिल', 1294: 'वीर्य', 1295: 'योनिमार्ग', 1296: 'स्त्राव', 1297: 'तीन', 1298: 'माध्यमों', 1299: 'बच्चे', 1300: 'जन्म', 1301: 'क्रानिक', 1302: 'कैरियर', 1303: 'स्टेट', 1304: 'सुविधाजनक', 1305: 'सुरक्षात्मक', 1306: 'प्रतिजैविक', 1307: 'प्रतिक्रया', 1308: 'चुके', 1309: 'तीव्र', 1310: 'पुराने', 1311: 'बीमारियों', 1312: 'संपूर्ण', 1313: 'मिल', 1314: 'उभरे', 1315: 'उल्लेखनीय', 1316: 'दिखी', 1317: 'पीतज्वर', 1318: 'पीला', 1319: 'जैक', 1320: 'काली', 1321: 'नीग्रो', 1322: 'अमेरिकन', 1323: 'प्लेग', 1324: 'आपरेशन', 1325: 'हर्निया', 1326: 'दुबारा', 1327: 'rpneg', 1328: 'क्याक्या', 1329: 'सावधानियाँ', 1330: 'बरतनी', 1331: 'स्वतन्त्रता', 1332: 'प्राप्ति', 1333: 'भारतवर्ष', 1334: 'बढ़ती', 1335: 'जनसंख्या', 1336: 'विकराल', 1337: 'समस्या', 1338: 'राष्ट्रीय', 1339: 'कल्याण', 1340: 'कार्यक्रम', 1341: 'चलाया', 1342: 'केरो', 1343: 'मिश्र', 1344: 'अन्तराष्ट्रीय', 1345: 'सम्मेलन', 1346: 'विषय', 1347: 'सुझाया', 1348: 'प्रजनन', 1349: 'सुधार', 1350: 'जोड़ना', 1351: 'मानवहित', 1352: 'होगा', 1353: 'समग्र', 1354: 'तत्व', 1355: 'नियोजन', 1356: 'सेवाओं', 1357: 'अवधारणा', 1358: 'हुआ', 1359: 'उत्तराखण्ड', 1360: 'गठन', 1361: 'मूल', 1362: 'उत्तरप्रदेश', 1363: 'दर', 1364: 'सदैव', 1365: 'अशोधित', 1366: 'था', 1367: 'घटते', 1368: 'होकर', 1369: 'मात्र', 1370: 'जिलों', 1371: 'पौड़ी', 1372: 'हरिद्वार', 1373: 'सकल', 1374: 'काल', 1375: 'जन्में', 1376: 'गए', 1377: 'शिशुओं', 1378: 'अनुमानित', 1379: 'थी', 1380: 'घट', 1381: 'अन्तर', 1382: 'जनपदीय', 1383: 'विभिन्नताएँ', 1384: 'जन्मदर', 1385: 'नगरीय', 1386: 'क्षेत्रों', 1387: 'पुत्र', 1388: 'चाहत', 1389: 'प्रबल', 1390: 'भावी', 1391: 'करेगा', 1392: 'मैदानी', 1393: 'पर्वतीय', 1394: 'चौथाई', 1395: 'महिलाएँ', 1396: 'जन्मे', 1397: 'महिनों', 1398: 'भीतर', 1399: 'माताएँ', 1400: 'गम्भीर', 1401: 'खतरे', 1402: 'श्रेणी', 1403: 'मृत्यु', 1404: 'सूचनाओं', 1405: 'अभाव', 1406: 'प्रवृत्ति', 1407: 'तरीकों', 1408: 'टिप्पणी', 1409: 'कठिन', 1410: 'सैम्पल', 1411: 'पंजीकरण', 1412: 'प्रणाली', 1413: 'एसआरएस', 1414: 'अनुमानों', 1415: 'अनुसार', 1416: 'औसत', 1417: 'जीवित', 1418: 'तिहाई', 1419: 'वर्तमान', 1420: 'मातृ', 1421: 'सम्बंधी', 1422: 'आंकड़े', 1423: 'विषम', 1424: 'भौगोलिक', 1425: 'परिस्थितियों', 1426: 'होगी', 1427: 'आधुनिकीकरण', 1428: 'नगरीयकरण', 1429: 'परिवर्तनों', 1430: 'असंचारी', 1431: 'उद्देश्य', 1432: 'स्थास्थ', 1433: 'भागीदारी', 1434: 'महत्व', 1435: 'असरदार', 1436: 'गर्भनिरोधक', 1437: 'विधियों', 1438: 'ज्ञान', 1439: 'पहुँचाने', 1440: 'गर्भावस्था', 1441: 'प्रसव', 1442: 'चिकित्सकीय', 1443: 'सुविधायें', 1444: 'दम्पति', 1445: 'प्राप्त', 1446: 'कार्यक्रमों', 1447: 'लक्ष्य', 1448: 'बढ़ाना', 1449: 'संस्थागत', 1450: 'प्रसवों', 1451: 'अंतर्गत', 1452: 'अन्तर्गत', 1453: 'चलाये', 1454: 'आरसीएच', 1455: 'शिविरों', 1456: 'आयोजन', 1457: 'आउटरीय', 1458: 'सेशनों', 1459: 'संविदा', 1460: 'कार्यकर्मियों', 1461: 'तैनाती', 1462: 'बृहत', 1463: 'निर्माण', 1464: 'एव', 1465: 'इकाईयों', 1466: 'मरम्मत', 1467: 'नवीनीकरण', 1468: 'अतरिक्त', 1469: 'एएनएम', 1470: 'असेवित', 1471: 'क्षेत्रो', 1472: 'प्रतिरक्षण', 1473: 'गर्भ', 1474: 'निरोधकों', 1475: 'ग्राह्यता', 1476: 'प्रास्वाकेन्द्रों', 1477: 'सास्वाकेन्द्रों', 1478: 'रात्रि', 1479: 'बजे', 1480: 'प्रात', 1481: 'सरकार', 1482: 'दिशानिदेशानुसार', 1483: 'सास्वा', 1484: 'केन्द्रों', 1485: 'सेवा', 1486: 'करायी', 1487: 'अप्रशिक्षित', 1488: 'दाईयों', 1489: 'प्रशिक्षित', 1490: 'ईएजी', 1491: 'मातृत्व', 1492: 'परामर्शदाता', 1493: 'चिकित्साधिकारी', 1494: 'तैनात', 1495: 'स्वीकृति', 1496: 'समाचार', 1497: 'पत्रों', 1498: 'विज्ञापन', 1499: 'पश्चात', 1500: 'चिकित्साधिकारियों', 1501: 'चयन', 1502: 'सास्वाकेन्द्र', 1503: 'अगस्तमुनि', 1504: 'जनपद', 1505: 'रूदप्रयाग', 1506: 'योगदान', 1507: 'सूचना', 1508: 'ग्रामसभा', 1509: 'कार्यकर्मी', 1510: 'निश्चित', 1511: 'दिवस', 1512: 'शानिवार', 1513: 'आउटरीच', 1514: 'सत्र', 1515: 'देखभाल', 1516: 'उक्त', 1517: 'जुलाई', 1518: 'किन्तु', 1519: 'औषाधियों', 1520: 'क्रय', 1521: 'किट', 1522: 'जनपदों', 1523: 'कराये', 1524: 'उपकरणों', 1525: 'गठित', 1526: 'कार्यकारिणी', 1527: 'समिति', 1528: 'अनुमोदन', 1529: 'मुख्यालय', 1530: 'नियमानुसार', 1531: 'प्राविधान', 1532: 'स्थिरीकरण', 1533: 'सहभगिता', 1534: 'बढ़ाये', 1535: 'एनएसवी', 1536: 'चीरा', 1537: 'टांका', 1538: 'पद्धति', 1539: 'प्रचारप्रसार', 1540: 'स्थायी', 1541: 'आरन', 1542: 'होर्डिग', 1543: 'स्थापना', 1544: 'वॉल', 1545: 'पेंटिंग्स', 1546: 'पंचायती', 1547: 'राज', 1548: 'सदस्यों', 1549: 'ओरियन्टेशन', 1550: 'पैरामेडिकल', 1551: 'स्टाफ', 1552: 'मीडिया', 1553: 'प्रदर्शन', 1554: 'कुष्ठ', 1555: 'जीवाणु', 1556: 'छूत', 1557: 'माइकोबेक्टीरियम', 1558: 'लैप्री', 1559: 'मुख्यतया', 1560: 'तंत्र', 1561: 'इनक्यूवेशन', 1562: 'पीरियड', 1563: 'औसतन', 1564: 'लिंग', 1565: 'एमडीटी', 1566: 'औषधि', 1567: 'पूर्णतया', 1568: 'रोगमुक्त', 1569: 'बचाती', 1570: 'समस्त', 1571: 'असंक्रामक', 1572: 'खसरा', 1573: 'टीबी', 1574: 'लड़ने', 1575: 'प्रतिरोधात्मक', 1576: 'चमड़ी', 1577: 'फीका', 1578: 'बदरंग', 1579: 'दागघब्बा', 1580: 'सुन्नपन', 1581: 'अर्थात', 1582: 'खुजली', 1583: 'चुभन', 1584: 'ठंडा', 1585: 'तैलीय', 1586: 'चमक', 1587: 'भौहों', 1588: 'ठोड़ी', 1589: 'कानों', 1590: 'मोटापन', 1591: 'मेहनत', 1592: 'मशक्कत', 1593: 'झंझनाहट', 1594: 'सूखापन', 1595: 'विकृति', 1596: 'शुरूआत', 1597: 'चकत्ते', 1598: 'दाग', 1599: 'करा', 1600: 'जाये', 1601: 'उसमें', 1602: 'विकलांगता', 1603: 'सामाजिक', 1604: 'बहिष्कार', 1605: 'कुष्ट', 1606: 'लापरवाही', 1607: 'अंगुलियाँ', 1608: 'टेढ़ी', 1609: 'चेहरा', 1610: 'भद्दा', 1611: 'पहुँचते', 1612: 'असंवेदनशील', 1613: 'फलस्वरूप', 1614: 'अल्सर', 1615: 'देरी', 1616: 'विरूपता', 1617: 'चुकी', 1618: 'दवा', 1619: 'जरिये', 1620: 'जैसी', 1621: 'लाई', 1622: 'हाँ', 1623: 'विकलांग', 1624: 'मामूली', 1625: 'बनाया', 1626: 'धन्धे', 1627: 'जीविका', 1628: 'चला', 1629: 'रोगाणु', 1630: 'मादा', 1631: 'एनाफिलीज', 1632: 'रात', 1633: 'काटते', 1634: 'कंपकपी', 1635: 'जाड़े', 1636: 'बर्तनों', 1637: 'psp', 1638: 'बदलें', 1639: 'खुले', 1640: 'रोशनदानों', 1641: 'लगवायें', 1642: 'इकट्ठे', 1643: 'जले', 1644: 'मोबिल', 1645: 'डीजल', 1646: 'डालें', 1647: 'मीजल्स', 1648: 'जितनी', 1649: 'लगवाने', 1650: 'सिफारिश', 1651: 'एंटीबॉडी', 1652: 'घटनाओं', 1653: 'संगठन', 1654: 'नौ', 1655: 'महीने', 1656: 'संकेतों', 1657: 'सर्दी', 1658: 'कंजेक्टीवाइटिस', 1659: 'निकलने', 1660: 'दानें', 1661: 'दे', 1662: 'उद्\\u200dभवन', 1663: 'इनक्यूबेशन', 1664: 'उपरी', 1665: 'श्\\u200dवासोच्छवास', 1666: 'स्थानीय', 1667: 'लोकल', 1668: 'हिस्सों', 1669: 'रक्तप्रवाह', 1670: 'फैलकर', 1671: 'प्राइमरी', 1672: 'वैक्टीरिया', 1673: 'मम्पस्', 1674: 'गलसुआ', 1675: 'पेराटाइटिस', 1676: 'जबड़े', 1677: 'कान', 1678: 'तरफ', 1679: 'क्रमशः', 1680: 'निचली', 1681: 'सतह', 1682: 'मम्पस', 1683: 'सूखने', 1684: 'जर्मन', 1685: 'अत्यधिक', 1686: 'युवाओं', 1687: 'नाममात्र', 1688: 'स्पष्ट', 1689: 'हल्के', 1690: 'बढ़ते', 1691: 'चल', 1692: 'तौर', 1693: 'इनकी', 1694: 'लाइव', 1695: 'एटयुनुएटेड', 1696: 'मिलेजुले', 1697: 'सिंगल', 1698: 'जिन्हे', 1699: 'प्रभावकारी', 1700: 'संबंधित', 1701: 'स्टेन', 1702: 'नस्ल', 1703: 'टीकों', 1704: 'साबित', 1705: 'मिलने', 1706: 'रोगप्रतिकारक', 1707: 'बनी', 1708: 'रहती', 1709: 'पेशियाँ', 1710: 'चुस्तदुरुस्त', 1711: 'बीत', 1712: 'उठाए', 1713: 'गये', 1714: 'कदम', 1715: 'कार्यान्वयन', 1716: 'मानना', 1717: 'उन्मूलन', 1718: 'इसलिए', 1719: 'डब्लूएचओ', 1720: 'यूनिसेफ', 1721: 'पहली', 1722: 'दूसरा', 1723: 'लगवाना', 1724: 'दिमाग', 1725: 'मस्तिष्क', 1726: 'सोचने', 1727: 'समझने', 1728: 'व्यवस्था', 1729: 'जनंसख्या', 1730: 'वाह्य', 1731: 'कई', 1732: 'मन्दबुद्धि', 1733: 'मिर्गी', 1734: 'नींद', 1735: 'प्रक्रिया', 1736: 'मूड', 1737: 'सिजोफेरनिया', 1738: 'भूलना', 1739: 'खो', 1740: 'व्यक्तित्व', 1741: 'जनित', 1742: 'अफ्रीका', 1743: 'दक्षिण', 1744: 'अमेरिकी', 1745: 'दुखी', 1746: 'गुस्सा', 1747: 'खुशी', 1748: 'गमगीन', 1749: 'खुश', 1750: 'छोटी', 1751: 'बातों', 1752: 'परेशान', 1753: 'समझना', 1754: 'दूसरो', 1755: 'भांग', 1756: 'चरस', 1757: 'इच्छा', 1758: 'इच्छाशक्ति', 1759: 'करार', 1760: 'उसकी', 1761: 'व्यथा', 1762: 'देखी', 1763: 'तकलीफे', 1764: 'पुरानी', 1765: 'नवीन', 1766: 'परेशानियाँ', 1767: 'पारिवारिक', 1768: 'लैब', 1769: 'ईसीजी', 1770: 'आरएफटी', 1771: 'एलएफटी', 1772: 'ईईजी', 1773: 'स्कैन', 1774: 'डाइग्नोस्टिक', 1775: 'स्टेण्डाइजड', 1776: 'इन्टरवेन्स', 1777: 'साइक्लॉजिकल', 1778: 'पद्धतियों', 1779: 'सुनना', 1780: 'भावनात्मक', 1781: 'लिऐ', 1782: 'प्रचार', 1783: 'प्रेस', 1784: 'टीवी', 1785: 'रेडियो', 1786: 'मेले', 1787: 'पोस्टर', 1788: 'बैनर्स', 1789: 'जागरूक', 1790: 'बेहतर', 1791: 'संबद्धता', 1792: 'सहभागिता', 1793: 'बढ़ावा', 1794: 'सामजिक', 1795: 'कॉलेजों', 1796: 'संस्थानों', 1797: 'गुजरने', 1798: 'हल', 1799: 'बचाना', 1800: 'कार्यवाही', 1801: 'अप्रैल', 1802: 'प्राधिकरण', 1803: 'state', 1804: 'mental', 1805: 'health', 1806: 'authority', 1807: 'देहरादून', 1808: 'शैय्या', 1809: 'मेन्टल', 1810: 'गढ़वाल', 1811: 'मण्डल', 1812: 'कुमाऊँ', 1813: 'नैनीताल', 1814: 'प्रस्ताव', 1815: 'भेजा', 1816: 'लागू', 1817: 'लाभ', 1818: 'योजना', 1819: 'दिनांक', 1820: 'हस्तान्तरित', 1821: 'हस्तान्तरण', 1822: 'गरीबी', 1823: 'रेखा', 1824: 'यापन', 1825: 'बीपीएल', 1826: 'उचित', 1827: 'पोषण', 1828: 'रू', 1829: 'सहायता', 1830: 'धनराशि', 1831: 'लाभार्थियों', 1832: 'निम्नवत', 1833: 'कराती', 1834: 'उनका', 1835: 'उठाने', 1836: 'आयरन', 1837: 'फोलिक', 1838: 'एसिड', 1839: 'गोलियों', 1840: 'पूरक', 1841: 'खुराकें', 1842: 'टेटनेस', 1843: 'टाक्साइड', 1844: 'इन्जेंक्शन', 1845: 'टीटी', 1846: 'इन्जेक्शन', 1847: 'खुराके', 1848: 'महिलओं', 1849: 'अशिक्षित', 1850: 'परिवारों', 1851: 'प्रचलन', 1852: 'चिन्हित', 1853: 'अल्पता', 1854: 'वितरण', 1855: 'जटिल', 1856: 'केसों', 1857: 'सन्दर्भण', 1858: 'नगरों', 1859: 'जबकि', 1860: 'इनमें', 1861: 'सम्पन्न', 1862: 'चिकित्सकों', 1863: 'परिचारिकाओं', 1864: 'सहायक', 1865: 'संस्था', 1866: 'परे', 1867: 'सात', 1868: 'प्रसवोत्तर', 1869: 'लाभान्वित', 1870: 'माता', 1871: 'टीकारण', 1872: 'घोल', 1873: 'सेवाएँ', 1874: 'सामपन', 1875: 'उपलब्धियों', 1876: 'तालिका', 1877: 'दर्शाया', 1878: 'पेलियोमायलीटिस', 1879: 'नामक', 1880: 'मनुष्यों', 1881: 'हालाँकि', 1882: 'पोलियो', 1883: 'खासतौर', 1884: 'छोटे', 1885: 'सदस्य', 1886: 'तब', 1887: 'इन्फैक्शन', 1888: 'भीड़भाड़', 1889: 'सुविधाओं', 1890: 'ओरल', 1891: 'पोलियोवायरस', 1892: 'वैक्सीन', 1893: 'ओपीवी', 1894: 'तत्कालीन', 1895: 'सोवियत', 1896: 'यूनियन', 1897: 'तकनीक', 1898: 'नये', 1899: 'खोजे', 1900: 'जबरदस्त', 1901: 'सफलता', 1902: 'ज्वलंत', 1903: 'प्रमाण', 1904: 'दुनिया', 1905: 'पल्स', 1906: 'सफल', 1907: 'मिले', 1908: 'जुले', 1909: 'कम्बाइन्ड', 1910: 'डीटीपी', 1911: 'क्लिनिकल', 1912: 'पर्टयुसिस', 1913: 'देकर', 1914: 'घटसर्प', 1915: 'डिप्थीरिया', 1916: 'यौन', 1917: 'सहवास', 1918: 'संचारित', 1919: 'इनका', 1920: 'आसान', 1921: 'पीड़ायुक्त', 1922: 'बीमारियाँ', 1923: 'सुजाक', 1924: 'गनोरिया', 1925: 'हरपीज', 1926: 'क्लेमाइडिया', 1927: 'सी', 1928: 'प्रारम्भ', 1929: 'दर्शाती', 1930: 'विशेषतः', 1931: 'योनि', 1932: 'दुर्गन्ध', 1933: 'उदर', 1934: 'निचले', 1935: 'नाभि', 1936: 'गहराई', 1937: 'छाले', 1938: 'त्याग', 1939: 'मूत्रनली', 1940: 'लाली', 1941: 'फ्लू', 1942: 'उपयुक्त', 1943: 'जन्मजात', 1944: 'उपदंश', 1945: 'सिफिलिस', 1946: 'मृत', 1947: 'अविकसित', 1948: 'ऊपरी', 1949: 'झिल्ली', 1950: 'कंजक्टाइवा', 1951: 'निर्देश', 1952: 'साथियों', 1953: 'संबंधों', 1954: 'साबुन', 1955: 'धोयें', 1956: 'याद', 1957: 'तपेदिक', 1958: 'माइक्रोबैक्टीरियम', 1959: 'टयूबरकुलोसिस', 1960: 'क्षय', 1961: 'फैलती', 1962: 'मरने', 1963: 'वालों', 1964: 'हड्डियों', 1965: 'लसिका', 1966: 'ग्रन्थियों', 1967: 'किनारे', 1968: 'बजाय', 1969: 'युवा', 1970: 'मरते', 1971: 'आर्थिक', 1972: 'हानि', 1973: 'बतलाने', 1974: 'डरते', 1975: 'अनाथ', 1976: 'ताजा', 1977: 'शोध', 1978: 'इंसिडेट', 1979: 'ऑफ', 1980: 'प्रिवलेस', 1981: 'रेट', 1982: 'बताते', 1983: 'मरती', 1984: 'मिलाकर', 1985: 'अध्ययन', 1986: 'डाट्स', 1987: 'सरल', 1988: 'बलगम', 1989: 'कीटाणु', 1990: 'ड्रापलेट', 1991: 'निकालते', 1992: 'निकले', 1993: 'एक्सेरे', 1994: 'थोड़ा', 1995: 'सीधी', 1996: 'रेख', 1997: 'खिलाई', 1998: 'डायरेक्टली', 1999: 'आबजर्ब्ड', 2000: 'ट्रीटमेंट', 2001: 'विद', 2002: 'सार्ट', 2003: 'कोर्स', 2004: 'कीमोथेरपी', 2005: 'जैसा', 2006: 'अर्थ', 2007: 'कार्यकर्त्ता', 2008: 'उपस्थिति', 2009: 'एन्टी', 2010: 'ड्रग्ज', 2011: 'शार्ट', 2012: 'इंटेसिव', 2013: 'फेस', 2014: 'कान्टिन्युवेशन', 2015: 'कैटेगरी', 2016: 'दवाएँ', 2017: 'फेज', 2018: 'तदोपरांत', 2019: 'ऋणात्मक', 2020: 'केलेण्डर्ड', 2021: 'मल्टी', 2022: 'ब्लिस्टर्ड', 2023: 'कॉम्बी', 2024: 'पैक', 2025: 'ड्रग्स', 2026: 'इश्यू', 2027: 'वीकली', 2028: 'हैल्थ', 2029: 'वर्कर', 2030: 'लेनी', 2031: 'निगरानी', 2032: 'रोकथाम', 2033: 'सर्वोत्तम', 2034: 'जिस', 2035: 'करवाकर', 2036: 'प्रसारित', 2037: '–', 2038: 'वाहित', 2039: 'महामारियाँ', 2040: 'फैलाने', 2041: 'फलैवीवायराड', 2042: 'अरिबोवायरस', 2043: 'ग्राम', 2044: 'पॉजिटिव', 2045: 'सूत्रीय', 2046: 'आरएनए', 2047: 'मानव', 2048: 'भाँति', 2049: 'प्रजातियाँ', 2050: 'फैलाती', 2051: 'एडीस', 2052: 'सिम्प्सलोनी', 2053: 'अफ्रीकंस', 2054: 'एजेप्टी', 2055: 'बीसीजी', 2056: 'स्वास्थ', 2057: 'सन्दर्भित', 2058: 'उन्हे', 2059: 'भेज', 2060: 'लगाते', 2061: 'कार्यकर्ता', 2062: 'पाने', 2063: 'शिक्षा', 2064: 'केन्द्रीय', 2065: 'भण्डार', 2066: 'बनाए', 2067: 'उधम', 2068: 'सिंह', 2069: 'नगर', 2070: 'दूरस्थ', 2071: 'औषधियाँ', 2072: 'कराई', 2073: 'जिले', 2074: 'हिसाब', 2075: 'बाँटी', 2076: 'औषधियों', 2077: 'आपूर्ति', 2078: 'पुनरीक्षित', 2079: 'सुचारू', 2080: 'चलाने', 2081: 'टिहरी', 2082: 'उत्तरकाशी', 2083: 'चमोली', 2084: 'पिथौरागढ़', 2085: 'अल्मोड़ा', 2086: 'चौपहिया', 2087: 'वाहन', 2088: 'केन्द्रो', 2089: 'दुपहिया', 2090: 'माईक्रोस्कोपिक', 2091: 'सेंटर', 2092: 'बाईनेकुलर', 2093: 'माईक्रोस्कोप', 2094: 'रूद्रप्रयाग', 2095: 'बागेश्वर', 2096: 'चम्पावत', 2097: 'टेटनस', 2098: 'कीटाणुओं', 2099: 'धूल', 2100: 'गंदगी', 2101: 'जंगयुक्त', 2102: 'धातु', 2103: 'कटन', 2104: 'जरिए', 2105: 'मांसपेशियाँ', 2106: 'अकड़', 2107: 'जबड़ों', 2108: 'लाकजा', 2109: 'खुलता', 2110: 'किंतु', 2111: 'धीमें', 2112: 'फलैवीवायरस', 2113: 'बढा', 2114: 'लिम्फवाहिनी', 2115: 'श्\\u200dवास', 2116: 'नलिका', 2117: 'चिपचिपा', 2118: 'लसीला', 2119: 'पदार्थ', 2120: 'इतनी', 2121: 'जोर', 2122: 'कुत्ता', 2123: 'भौंक', 2124: 'जिनसे', 2125: 'निमोनिया', 2126: 'ब्रौंकाइटिस', 2127: 'फैफडों', 2128: 'टाइफाईड', 2129: 'गैस्ट्रोइंटेस्टेनियल', 2130: 'सालमोनेला', 2131: 'टिफी', 2132: 'मियादी', 2133: 'प्रारंभिक', 2134: 'युक्त', 2135: 'खाद्य', 2136: 'पेय', 2137: 'अम्ल', 2138: 'जैविक', 2139: 'घटक', 2140: 'निष्कृय', 2141: 'जाएँ', 2142: 'विश्वसनीय', 2143: 'विविध', 2144: 'अंतर्राष्ट्रीय', 2145: 'अधिकारियों', 2146: 'यात्रा', 2147: 'इलाकों', 2148: 'स्कूली', 2149: 'सार्वजनिक', 2150: 'एंटीबायोटिक', 2151: 'रोधकता', 2152: 'दाँतों', 2153: 'देखरेख', 2154: 'धड़कन', 2155: 'सिरदर्द', 2156: 'कमर', 2157: 'बहुमूत्र', 2158: 'महामारी', 2159: 'चली', 2160: 'जंगली', 2161: 'आबादी', 2162: 'घनत्व', 2163: 'वाहक', 2164: 'प्रभाव', 2165: 'वास्तविक', 2166: 'ढेर', 2167: 'सारा', 2168: 'आराम', 2169: 'हैमस्टर', 2170: 'माडल', 2171: 'एण्टीवायरल', 2172: 'रिबावैरिन', 2173: 'उसी', 2174: 'पेटाइटिस', 2175: 'सिद्ध', 2176: 'ऐतिहासिक', 2177: 'रिपोर्ट', 2178: 'बताती', 2179: 'लेकर', 2180: 'सीडीसी', 2181: 'बताया', 2182: 'मानी', 2183: 'डब्ल्यूएचओ', 2184: 'जारी', 2185: 'फैक्ट', 2186: 'शीट', 2187: 'टोक्सिक', 2188: 'जहरीले', 2189: 'जिनमें', 2190: 'मर', 2191: 'बच', 2192: 'अमेरिका', 2193: 'यूरोप', 2194: 'कैरिबियन', 2195: 'द्वीप', 2196: 'इतिहास', 2197: 'बड़ा', 2198: 'स्थान', 2199: 'मिसीसिपी', 2200: 'घाटी', 2201: 'हजार', 2202: 'प्राकृतिक', 2203: 'नेचुरोपैथी', 2204: 'naturopathy', 2205: 'चिकित्सादर्शन', 2206: 'स्वास्थ्यलाभ', 2207: 'रोगाणुओं', 2208: 'स्वाभाविक', 2209: 'पद्धतियाँ', 2210: 'होमियोपैथी', 2211: 'सूर्य', 2212: 'अक्यूपंचर', 2213: 'एक्यूप्रेसर', 2214: 'मृदा', 2215: 'आयुर्वेद', 2216: 'नेचर', 2217: 'क्योर', 2218: 'रचनात्मक', 2219: 'जिसका', 2220: 'प्रकृति', 2221: 'प्रचुर', 2222: 'तत्त्वों', 2223: 'बल्कि', 2224: 'उपस्थित', 2225: 'आंतरिक', 2226: 'महत्त्वपूर्ण', 2227: 'शक्तियों', 2228: 'अनुरूप', 2229: 'जीवनशैली', 2230: 'विशेषकर', 2231: 'कच्ची', 2232: 'हलकी', 2233: 'पकी', 2234: 'सब्जियाँ', 2235: 'निर्णायक', 2236: 'भूमिका', 2237: 'निभाती', 2238: 'कला', 2239: 'विज्ञान', 2240: 'क्रांति', 2241: 'निर्धन', 2242: 'गरीब', 2243: 'वरदान', 2244: 'चर्म', 2245: 'बाबासीर', 2246: 'अभिव्यक्त', 2247: 'चिकनगुनिया', 2248: 'लम्बें', 2249: 'चलने', 2250: 'चिकुनगुनिया', 2251: 'उग्र', 2252: 'जोडों', 2253: 'हफ्तों', 2254: 'अर्बोविषाणु', 2255: 'अल्फाविषाणु', 2256: 'चक्र', 2257: 'बन्दर', 2258: 'पायें', 2259: 'सहित', 2260: 'प्रजाति', 2261: 'विरूद्ध', 2262: 'संपर्क', 2263: 'बचना', 2264: 'ना', 2265: 'मिलता', 2266: 'क्लोरोक्वीन', 2267: 'सिद्\\u200dध', 2268: 'पथरी', 2269: 'kidney', 2270: 'stones', 2271: 'मूत्रतंत्र', 2272: 'वृक्क', 2273: 'अन्दर', 2274: 'पत्थर', 2275: 'कठोर', 2276: 'वस्तुएँ', 2277: 'सामान्यत', 2278: 'पथरियाँ', 2279: 'रास्ते', 2280: 'बड़े', 2281: 'अवरोध', 2282: 'चार', 2283: 'वृद्धों', 2284: 'बनती', 2285: 'मूत्रवाहक', 2286: 'दुखद', 2287: 'बात', 2288: 'करवाते', 2289: 'उनको', 2290: 'संभावनाएँ', 2291: 'रक्\\u200dतचाप', 2292: 'रक्तचाप', 2293: 'पीठ', 2294: 'जाँघ', 2295: 'संधि', 2296: 'मिनटो', 2297: 'घंटो', 2298: 'बाजू', 2299: 'श्रोणि', 2300: 'उरू', 2301: 'गुप्तांगो', 2302: 'जी', 2303: 'मिचलाने', 2304: 'पसीना', 2305: 'भयंकर', 2306: 'उठता', 2307: 'मिनटों', 2308: '”', 2309: 'रीलन', 2310: 'क्रोनिन', 2311: 'उठकर', 2312: 'जाँघों', 2313: 'एक्सरेसोनोग्राफी', 2314: 'डाईइंजेक्शन', 2315: 'पथरियों', 2316: 'रोगनिदान', 2317: 'पीयें', 2318: 'लीटर', 2319: 'रोज', 2320: 'प्रोटीन', 2321: 'नाइट्रोजन', 2322: 'सोडियम', 2323: 'आक्जेलेट', 2324: 'चॉकलेट', 2325: 'सोयाबीन', 2326: 'मूंगफली', 2327: 'कोकोकोला', 2328: 'बचें', 2329: 'विटामिन', 2330: 'नारंगी', 2331: 'रस', 2332: 'ज्यूस', 2333: 'कैल्सियम', 2334: 'यूरिक', 2335: 'अभिप्राय', 2336: 'कार्यशील', 2337: 'क्षतिग्रस्त', 2338: 'विफल', 2339: 'प्रत्यारोपित', 2340: 'दाता', 2341: 'दोनो', 2342: 'उनमे', 2343: 'अग्न्याशय', 2344: 'शिश्\\u200dन', 2345: 'आँखें', 2346: 'आँत', 2347: 'आधुनिक', 2348: 'चुनौतीपूर्ण', 2349: 'प्रबंधन', 2350: 'बड़ी', 2351: 'समस्याओं', 2352: 'अस्वीकार', 2353: 'जहां', 2354: 'प्रतिरक्षा', 2355: 'विरुद्ध', 2356: 'प्रतिक्रिया', 2357: 'नकार', 2358: 'चुनौती', 2359: 'संवेदनशील', 2360: 'ऊतक', 2361: 'अस्थियाँ', 2362: 'कंडर', 2363: 'टेंडन', 2364: 'कॉर्निया', 2365: 'वाल्व', 2366: 'नसें', 2367: 'बाहु', 2368: 'अस्वीकृति', 2369: 'जोखिम', 2370: 'आवंटन', 2371: 'औपचारिक', 2372: 'यूरोट्रांसप्लांट', 2373: 'संगठनों', 2374: 'जुड़े', 2375: 'सुनिश्\\u200dचित', 2376: 'जैव', 2377: 'नैतिक', 2378: 'मुद्दे', 2379: 'उठाता', 2380: 'परिभाषा', 2381: 'कब', 2382: 'कैसे', 2383: 'सहमति', 2384: 'प्रयुक्त', 2385: 'भुगतान', 2386: 'अमीबा', 2387: 'पेचिश', 2388: 'एंटामीबा', 2389: 'हिस्टॉलिटिका', 2390: 'entamoeba', 2391: 'histolytica', 2392: 'उपसर्ग', 2393: 'वृहत्', 2394: 'आंत्र', 2395: 'विद्यमान', 2396: 'पुटी', 2397: 'cyst', 2398: 'अंडाणु', 2399: 'ova', 2400: 'पदार्थो', 2401: 'ग्रहण', 2402: 'बृहत्', 2403: 'पहुँचकर', 2404: 'अडाणु', 2405: 'स्वरूप', 2406: 'उदरशूल', 2407: 'अतिसार', 2408: 'गुदा', 2409: 'ऐंठन', 2410: 'परीक्षा', 2411: 'अंधनाल', 2412: 'caecum', 2413: 'वाम', 2414: 'श्रोणीय', 2415: 'left', 2416: 'iliac', 2417: 'region', 2418: 'दाब', 2419: 'वेदना', 2420: 'tenderness', 2421: 'ज्वरांश', 2422: 'मक्खियाँ', 2423: 'टट्टी', 2424: 'श्\\u200dलेष्मा', 2425: 'mucus', 2426: 'गाढ़ा', 2427: 'निर्वाहिका', 2428: 'शिरा', 2429: 'portal', 2430: 'यकृतशोय', 2431: 'epatitis', 2432: 'विद्रधि', 2433: 'abscess', 2434: 'फोड़ा', 2435: 'घातक', 2436: 'फटती', 2437: 'उपद्रव', 2438: 'पूय', 2439: 'फुफ्फुस', 2440: 'आमाशय', 2441: 'peritoneum', 2442: 'हृदयावरण', 2443: 'pericardium', 2444: 'विकार', 2445: 'शूल', 2446: 'दाहिने', 2447: 'कंधे', 2448: 'शिर', 2449: 'कंपन', 2450: 'चरम', 2451: 'सीमा', 2452: 'घोर', 2453: 'शोधयुक्त', 2454: 'पदार्थों', 2455: 'मक्खियों', 2456: 'पुटिया', 2457: 'रसोइए', 2458: 'बार्ली', 2459: 'पावर', 2460: 'कांटेक्ट', 2461: 'लेंस', 2462: 'उम्दा', 2463: 'क्वालिटी', 2464: 'होनी', 2465: 'धोना', 2466: 'अच्छी', 2467: 'आदत', 2468: 'पतला', 2469: 'साबूदाना', 2470: 'अरारोट', 2471: 'चावल', 2472: 'दही', 2473: 'अच्छे', 2474: '’ए’', 2475: 'नियमित्त', 2476: 'योग', 2477: 'अनमोल', 2478: 'रक्षा', 2479: 'गर्भाशय', 2480: 'रसौली', 2481: 'फाइब्रायड', 2482: 'लियोमयोमा', 2483: 'करीब', 2484: 'सोनोग्राफी', 2485: 'तथ्य', 2486: 'आया', 2487: 'रक्तस्त्राव', 2488: 'बंध्यता', 2489: 'अधिकांशतः', 2490: 'किशोरियाँ', 2491: 'ग्रस्त', 2492: 'रजोनिवृत्ति', 2493: 'छोटा', 2494: 'हार्मोन', 2495: 'थेरैपी', 2496: 'पुनः', 2497: 'गहरेरंग', 2498: 'गोरे', 2499: 'बढ़', 2500: 'माहवारी', 2501: 'बहन', 2502: 'शराब', 2503: 'शाकाहार', 2504: 'फाइब्रस', 2505: 'टिश्यू', 2506: 'रहित', 2507: 'पेडू', 2508: 'पड़ने', 2509: 'मूत्रत्याग', 2510: 'पड़ना', 2511: 'प्रसवोपरान्त', 2512: 'रक्त्ताल्पता', 2513: 'अंडाशय', 2514: 'एंडोमेट्रियोसिस', 2515: 'प्रेगनेंसी', 2516: 'एडिनोमायोसिस', 2517: 'बच्चादानी', 2518: 'जाँचे', 2519: 'निकाले', 2520: 'अनिवार्यता', 2521: 'सबम्यूकस', 2522: 'फ्राइबायड', 2523: 'हिस्टेरोस्कोपी', 2524: 'लेसर', 2525: 'इंट्राम्यूरल', 2526: 'निकालने', 2527: 'देखना', 2528: 'चाहती', 2529: 'मायोमेकटोमी', 2530: 'लेपेरोस्कोपी', 2531: 'लेपेरोटोमी', 2532: 'खोल', 2533: 'केस', 2534: 'सिर्फ', 2535: 'निकाली', 2536: 'हिस्टेरेक्टोमी', 2537: 'लेप्रोस्कोपिक', 2538: 'मायोलिसिस', 2539: 'जांघ', 2540: 'धमनी', 2541: 'पाली', 2542: 'विनाइल', 2543: 'कणिकाओं', 2544: 'जेलफोम', 2545: 'पाउडर', 2546: 'यूटेराइन', 2547: 'आर्टरी', 2548: 'अवरूद्ध', 2549: 'सप्लाई', 2550: 'भयावह', 2551: 'शुरूआती', 2552: 'हजारों', 2553: 'मौतें', 2554: 'टूट', 2555: 'शतप्रतिशत', 2556: 'लाखों', 2557: 'यंत्रणा', 2558: 'आज', 2559: 'दौर', 2560: 'रहन', 2561: 'सहन', 2562: 'अभी', 2563: 'विधियां', 2564: 'एम', 2565: 'आर', 2566: 'आई', 2567: 'टी', 2568: 'उपयोगी', 2569: 'दुष्प्रभाव', 2570: 'ऎसी', 2571: 'नया', 2572: 'हथियार', 2573: 'इन्फ्रारेड', 2574: 'थर्मोग्राफी', 2575: 'जल्द', 2576: 'ग्रीक', 2577: 'इजीप्शियन', 2578: 'तापक्रम', 2579: 'जानते', 2580: 'थे', 2581: 'उष्मा', 2582: 'खोज', 2583: 'विलियम', 2584: 'हर्षल', 2585: 'परंतु', 2586: 'पहचानने', 2587: 'रक्तवाहिनियों', 2588: 'संकरे', 2589: 'ब्रेन', 2590: 'मेनेनजाइटिस', 2591: 'इंट्राकेनियल', 2592: 'वेंस', 2593: 'प्रेशर', 2594: '’रयूमोटाइडाआर्थराइटिस’', 2595: '’स्पोंडिलाइटिस’', 2596: '’ब्लडप्रेशर', 2597: 'असर', 2598: 'पड़ता', 2599: 'ब्लडप्रेशर', 2600: 'ब्लीडिंग', 2601: 'किडनी', 2602: 'सीधा', 2603: 'कितना', 2604: '’क्लोरोक्वीन’', 2605: '’वियाग्रा’', 2606: 'डाक्टर', 2607: 'कराएं', 2608: 'तिरछेपन', 2609: 'विजन', 2610: 'सिंड्रोम', 2611: 'चेकअप', 2612: 'परामर्श', 2613: 'चाचा', 2614: 'मामा', 2615: 'पापा', 2616: 'मां', 2617: '’', 2618: 'केटरेक्ट', 2619: 'नंगी', 2620: 'देखें', 2621: 'अलट्रावायलट', 2622: 'किरणों', 2623: 'बचाने', 2624: 'बढ़ती', 2625: 'तरावट', 2626: 'ठंडक', 2627: 'पहुंचाती', 2628: 'चश्मा', 2629: 'कंम्प्यूटर', 2630: 'हमारी', 2631: 'एक्सरसाइज', 2632: 'बढ़ा', 2633: 'आर्थराइटिस', 2634: 'शब्द', 2635: 'माने', 2636: '’जोड़ों', 2637: 'सूजन’', 2638: 'गिरफ्त', 2639: 'पीड़ादायक', 2640: 'बढ़ते', 2641: 'पहुँचता', 2642: 'यों', 2643: 'दुनियाभर', 2644: 'खास', 2645: 'शौचादि', 2646: 'घरेलू', 2647: 'जमीन', 2648: 'घुटनों', 2649: 'जोड़', 2650: 'वास्तव', 2651: 'हड्डी', 2652: 'फीमर', 2653: 'टिबिया', 2654: 'कार्टिलेज', 2655: 'दोबारा', 2656: 'सीढ़ियाँ', 2657: 'चढ़ने', 2658: 'बैठकर', 2659: 'गतिविधियों', 2660: 'दिक्कत', 2661: 'आती', 2662: 'हद', 2663: 'राहत', 2664: 'मुमकिन', 2665: 'मतलब', 2666: 'पहुँचना', 2667: 'सहनी', 2668: 'पड़ती', 2669: 'सर्जरी', 2670: 'आरंभिक', 2671: '’यूनीकंपार्ट्मेंटल', 2672: 'नी', 2673: 'रीसरफीसिंग', 2674: 'हिप', 2675: 'रीसरफीसिंग’', 2676: 'विकल्प', 2677: 'बेहद', 2678: 'समूचे', 2679: 'टोटल', 2680: 'हिपनी', 2681: 'रिप्लेसमेंट', 2682: 'टीकेआर', 2683: 'घुटने', 2684: 'हटा', 2685: 'मैटल', 2686: 'इंप्लांट', 2687: 'लगाई', 2688: 'घुटना', 2689: 'नवीनतम', 2690: 'रोटेटिंग', 2691: 'प्लेटफार्म', 2692: 'हाई', 2693: 'फ्लेक्सियन', 2694: 'फिरने', 2695: 'बागवानी', 2696: 'झुकने', 2697: 'ड्राइविंग', 2698: 'सीढ़ियां', 2699: 'उतरने', 2700: 'तमाम', 2701: 'फ्लेक्सिन', 2702: 'डिग्री', 2703: 'मुड़ना', 2704: 'संतुष्टि', 2705: 'दैनिक', 2706: 'अंजाम', 2707: 'पाते', 2708: 'चिकित्सीय', 2709: 'शल्यचिकित्सीय', 2710: 'विकल्पों', 2711: 'संतुलित', 2712: 'खानपान', 2713: 'अपनाने', 2714: 'महारोग', 2715: 'छुटकारा', 2716: 'निबटने', 2717: 'निभाता', 2718: 'विटामिनों', 2719: 'खनिजों', 2720: 'एंटीआक्सीडेंट', 2721: 'पोषक', 2722: 'बढ़ाएँ', 2723: 'ऎसा', 2724: 'वजन', 2725: 'नियन्त्रित', 2726: 'रख', 2727: 'मोटापा', 2728: 'बढने', 2729: 'फलों', 2730: 'सब्जियों', 2731: 'सेब', 2732: 'संतरा', 2733: 'चैरी', 2734: 'पैपर्स', 2735: 'टमाटर', 2736: 'चुकंदर', 2737: 'शकरकंदी', 2738: 'खूब', 2739: 'खाएँ', 2740: 'साबूत', 2741: 'अनाज', 2742: 'जौ', 2743: 'ब्राउन', 2744: 'राइस', 2745: 'रेशेदार', 2746: 'सेहत', 2747: 'जोड़ो', 2748: 'तलाभुना', 2749: 'कैल्सियमयुक्त', 2750: 'रखते', 2751: 'मांसपेशियां', 2752: 'मजबूत', 2753: 'मस्सा', 2754: 'सूखता', 2755: 'सतर्क', 2756: 'जाइए', 2757: 'स्किन', 2758: 'प्रगट', 2759: 'चेहेरे', 2760: 'दर्दरहित', 2761: 'भूल', 2762: 'बढ़ने', 2763: 'बढ़ता', 2764: 'हानिरहित', 2765: 'भूलें', 2766: 'बनना', 2767: 'बढ़ना', 2768: 'रंगपरिवर्तन', 2769: 'फैलते', 2770: 'खतरनाक', 2771: 'कैंसरग्रस्त', 2772: 'काटकर', 2773: 'निकालना', 2774: 'जननागों', 2775: 'झिझक', 2776: 'समुचित', 2777: 'कराएँ', 2778: 'सालों', 2779: 'लगे', 2780: 'सावधान', 2781: 'कराइए', 2782: 'संकेत', 2783: 'विशेषज्ञ', 2784: 'डा', 2785: 'कुमार', 2786: 'बढोत्तरी', 2787: 'खानापीना', 2788: 'क्रियाशील', 2789: 'अधीरता', 2790: 'दिखानी', 2791: 'परवरिश', 2792: 'चिन्ता', 2793: 'बनाकर', 2794: 'खुशनुमा', 2795: 'पल', 2796: 'बिताने', 2797: 'सर्वे', 2798: 'घूमती', 2799: 'बनिस्बत', 2800: 'पनपते', 2801: 'उतना', 2802: 'जितने', 2803: 'उसको', 2804: 'बच्चा', 2805: 'एकदम', 2806: 'व्याकुलता', 2807: 'दिखाएँ', 2808: 'धैर्य', 2809: 'विश्वास', 2810: 'डगमगाने', 2811: 'बनाबट', 2812: 'भिन्नता', 2813: 'सांख्यिकी', 2814: 'यद्यपि', 2815: 'गहन', 2816: 'अनुपात', 2817: 'अस्वस्थ्य', 2818: 'स्तनपान', 2819: 'गर्भधारण', 2820: 'असावधानियाँ', 2821: 'भविष्य', 2822: 'थोड़ी', 2823: 'सावधानी', 2824: 'सजगता', 2825: 'बचा', 2826: 'खुद', 2827: '’बांबे', 2828: 'हेल्थ', 2829: 'गाइड’', 2830: 'उनसे', 2831: 'विस्तार', 2832: 'गुप्त', 2833: 'बातचीत', 2834: 'शरमाती', 2835: 'हिचकिचाती', 2836: 'गाँवों', 2837: 'कसबों', 2838: 'झोंपड़पट्टी', 2839: 'चालों', 2840: 'स्त्रियाँ', 2841: 'खा', 2842: 'मन', 2843: 'गाँव', 2844: 'दवाखाना', 2845: 'मुफ्त', 2846: 'अस्थमा', 2847: 'गुप्तांगों', 2848: 'इन्फेक्शन', 2849: 'आजकल', 2850: 'गति', 2851: 'चिंता', 2852: 'इंडियन', 2853: 'ब्रेस्ट', 2854: 'एसोसिएशन', 2855: 'विज्ञप्ति', 2856: 'पश्चिमी', 2857: 'स्तनकैंसर', 2858: 'अंकुश', 2859: 'जरूर', 2860: 'ड्ब्ल्यूएचओ', 2861: 'प्रयत्नशील', 2862: 'जिन्होनें', 2863: 'पिलाया', 2864: 'दुग्धपान', 2865: 'अमृतपान', 2866: 'बचाता', 2867: 'सिर्फ़', 2868: 'प्राणदायक', 2869: 'अमृत', 2870: 'जननी', 2871: 'प्राणरक्षक', 2872: 'सब', 2873: 'प्रयास', 2874: 'पैमाने', 2875: 'संसार', 2876: 'उसका', 2877: 'दावा', 2878: 'वर्षों', 2879: 'शौचालय', 2880: 'यौनांगो', 2881: 'यूरिन', 2882: 'इंन्फेक्शन', 2883: 'विकृत', 2884: 'तकलीफ़', 2885: 'इकोलाई', 2886: 'रुकरुक', 2887: 'लालिमा', 2888: 'ट्रैक', 2889: 'शौचालयों', 2890: 'गंदे', 2891: 'अंडरगारमेंट', 2892: 'पिएँ', 2893: 'कपड़ों', 2894: 'सब्जियां', 2895: 'वफादारी', 2896: 'गुणकारी', 2897: 'हलक़ा', 2898: 'सुपाच्य', 2899: 'भोज्य', 2900: 'पका', 2901: 'भात', 2902: 'पथ्य', 2903: 'रोटी', 2904: 'आपका', 2905: 'रखेगा', 2906: 'मंदाग्नि', 2907: 'नाशक', 2908: 'पचने', 2909: 'पुराना', 2910: 'स्वादिष्ट', 2911: 'ओजवर्धक', 2912: 'मांड', 2913: 'खनिज', 2914: 'विटामिन्स', 2915: 'निकल', 2916: 'कहलाता', 2917: 'पकाते', 2918: 'गाढ़ा', 2919: 'लाभदायक', 2920: 'जिनका', 2921: 'पचा', 2922: 'हों', 2923: 'मिनट', 2924: 'ढँककर', 2925: 'खिलाएँ', 2926: 'औषधीय', 2927: 'सीने', 2928: 'सूजाक', 2929: 'चेचक', 2930: 'मसूरिका', 2931: 'मूत्रविकार', 2932: 'नीबू', 2933: 'नमक', 2934: 'कांजी', 2935: 'दाल', 2936: 'मूँग', 2937: 'हींग', 2938: 'अदरक', 2939: 'मसाले', 2940: 'गई', 2941: 'खिचड़ी', 2942: 'बल', 2943: 'बुद्धि', 2944: 'पाचन', 2945: 'आटा', 2946: 'लेई', 2947: 'भांति', 2948: 'पकाकर', 2949: 'गाय', 2950: 'शकर', 2951: 'नशा', 2952: 'धोकर', 2953: 'सोडा', 2954: 'चुटकी', 2955: 'शक्कर', 2956: 'पिलाने', 2957: 'उतर', 2958: 'सूर्योदय', 2959: 'खील', 2960: 'शहद', 2961: 'खाकर', 2962: 'सो', 2963: 'सप्ताहभर', 2964: 'आधासीसी', 2965: 'जाएगा', 2966: 'धुले', 2967: 'पौधे', 2968: 'जड़', 2969: 'पीसकर', 2970: 'छान', 2971: 'पिला', 2972: 'प्याज', 2973: 'लेप', 2974: 'पतले', 2975: 'दमा', 2976: 'गठिया', 2977: 'सताए', 2978: 'मालिश', 2979: 'उच्च', 2980: 'कच्चे', 2981: 'उल्टियाँ', 2982: 'मिचला', 2983: 'टुकड़े', 2984: 'लगाकर', 2985: 'तनाव', 2986: 'टुकड़ा', 2987: 'दबा', 2988: 'लीजिए', 2989: 'मिलेगा', 2990: 'ज्योति', 2991: 'रसायन', 2992: 'नाश्ते', 2993: 'खड़ा', 2994: 'उबालकर', 2995: 'चोकर', 2996: 'केक', 2997: 'मेग्निशियम', 2998: 'आलू', 2999: 'पराठें', 3000: 'ऊर्जा', 3001: 'स्रोत', 3002: 'मुट्ठी', 3003: 'मूँगफली', 3004: 'सेंककर', 3005: 'गु़ड़', 3006: 'चबाचबाकर', 3007: 'छोड़ता', 3008: 'सादा', 3009: 'गर्मी', 3010: 'करेगी', 3011: 'पित्त', 3012: 'गिरने', 3013: 'सेंधा', 3014: 'अजवाइन', 3015: 'दोतीन', 3016: 'लू', 3017: 'पॉकेट', 3018: 'पर्स', 3019: 'लपेटकर', 3020: 'सूँघने', 3021: 'लगेगी', 3022: 'खाइए', 3023: 'अपचन', 3024: 'त्रिकुटी', 3025: 'चूर्ण', 3026: 'सुबह', 3027: 'लोशन', 3028: 'रुई', 3029: 'रखिए', 3030: 'दीर्घायु', 3031: 'मुक्त', 3032: 'सात्विक', 3033: 'अनिवार्य', 3034: 'रहस्य', 3035: 'पॉजिटीव', 3036: 'एनर्जी', 3037: 'लंबी', 3038: 'एकांत', 3039: 'आरामदायक', 3040: 'शांत', 3041: 'भाव', 3042: 'करे', 3043: 'चिंताएँ', 3044: 'बुढ़ापे', 3045: 'धोडालें', 3046: 'स्वयं', 3047: 'थकावट', 3048: 'मैं', 3049: 'निगेटिव', 3050: 'स्ट्रेस', 3051: 'हूँ', 3052: 'मुझमें', 3053: 'सोच', 3054: 'जवानी', 3055: 'संचार', 3056: 'वहीं', 3057: 'जिंदगी', 3058: 'घटाती', 3059: 'बदबू', 3060: 'बबूल', 3061: 'नरम', 3062: 'डाली', 3063: 'ब्रश', 3064: 'दुर्गंध', 3065: 'सौंफ', 3066: 'इलायची', 3067: 'चबाने', 3068: 'शुद्धि', 3069: 'पुदीना', 3070: 'चबाना', 3071: 'लाभकर', 3072: 'दालचीनी', 3073: 'सूखी', 3074: 'पत्ती', 3075: 'गरारे', 3076: 'मिटाता', 3077: 'रोकता', 3078: 'कप', 3079: 'जीरे', 3080: 'बूंदें', 3081: 'छुआरे', 3082: 'गुठली', 3083: 'मंजन', 3084: 'मिटती', 3085: 'रेकी', 3086: 'क्रोध', 3087: 'आतम', 3088: 'लोभ', 3089: 'उत्तेजना', 3090: 'नाड़ियों', 3091: 'हलचल', 3092: 'इन्ही', 3093: 'विकृतियों', 3094: 'अत्याधिक', 3095: 'निराशा', 3096: 'आत्म', 3097: 'ग्लानि', 3098: 'उदासीनता', 3099: 'जरुरत', 3100: 'दिखना', 3101: 'बोलना', 3102: 'दम', 3103: 'चुप', 3104: 'संदेह', 3105: 'आत्महत्या', 3106: 'फालिज', 3107: 'एसिडिटी', 3108: 'बावासीर', 3109: 'मधुमेह', 3110: 'अनिद्रा', 3111: 'स्त्री', 3112: 'बाँझपन', 3113: 'शक्तिन्युनता', 3114: 'पागलपन', 3115: 'समर्थ', 3116: 'जात', 3117: 'छोड़', 3118: 'उठाती', 3119: 'दबाती', 3120: 'भावनाओं', 3121: 'संतुलन', 3122: 'बैचेनी', 3123: 'चैनल', 3124: 'बनने', 3125: 'हीलर', 3126: 'शांति', 3127: 'जीवनदायिनी', 3128: 'हीलिंग', 3129: 'मुक्ति', 3130: 'आलौकिक', 3131: 'शमता', 3132: 'स्पर्श', 3133: 'तरंगे', 3134: 'श्रद्धा', 3135: 'आत्मीयता', 3136: 'सहनशक्ति', 3137: 'अभ्यास', 3138: 'गुणों', 3139: 'तभी', 3140: 'उपचारक', 3141: 'आचार्य', 3142: 'ग्रैंड', 3143: 'मास्टर', 3144: 'शक्तिशाली', 3145: 'शक्तिपात', 3146: 'कही', 3147: 'सर्व', 3148: 'व्यापी', 3149: 'प्राणशक्ति', 3150: 'जुड़', 3151: 'दैवीय', 3152: 'हाथो', 3153: 'गुरू', 3154: 'ब्रह्मांडीय', 3155: 'रूपांतरण', 3156: 'जितना', 3157: 'उतनी', 3158: 'distant', 3159: 'attunement', 3160: 'मास्टरशिप', 3161: 'उच्चतम', 3162: 'सैकड़ो', 3163: 'हजारो', 3164: 'सीखते', 3165: 'ऊँचाई', 3166: 'उत्साह', 3167: 'बढ़ाने', 3168: 'सिम्बल', 3169: 'सिखाये', 3170: 'आज्ञा', 3171: 'खोलने', 3172: 'विद्या', 3173: 'वैभव', 3174: 'प्रसन्नता', 3175: 'विजय', 3176: 'अभिव्यक्ति', 3177: 'पूर्णता', 3178: 'प्रेम', 3179: 'अनके', 3180: 'स्थापित', 3181: 'सिखाया', 3182: 'सिखायी', 3183: 'त्राटक', 3184: 'क्रिया', 3185: 'नेत्रो', 3186: 'चुम्बकीय', 3187: 'ग्रिड', 3188: 'सामूहिक', 3189: 'स्मृति', 3190: 'आध्यात्मिक', 3191: 'साधना', 3192: 'जिसमे', 3193: 'शांन्ति', 3194: 'प्राणिमात्र', 3195: 'कर्तव्य', 3196: 'बोध', 3197: 'पाँचवाँ', 3198: 'उलझन', 3199: 'संबंध', 3200: 'विशेषज्ञों', 3201: 'कोलेस्ट्रॉल', 3202: 'हानिकारक', 3203: 'तलेभुने', 3204: 'पत्तेदार', 3205: 'नशीली', 3206: 'वस्तु', 3207: 'मक्खन', 3208: 'आँवला', 3209: 'लहसुन', 3210: 'मुरब्बे', 3211: 'हल्केफुल्के', 3212: 'सैर', 3213: 'जीवनचर्या', 3214: 'प्रसन्नचित्त'}\n"
          ],
          "name": "stdout"
        }
      ]
    },
    {
      "cell_type": "code",
      "metadata": {
        "id": "USmrtbg-XdVa",
        "colab_type": "code",
        "colab": {}
      },
      "source": [
        "def reverse_train_sentences(data):\n",
        "  l = data.tolist()\n",
        "  t = []\n",
        "  for item in l:\n",
        "    p = item.strip().split()\n",
        "    p.reverse()\n",
        "    k = []\n",
        "    for i in p:\n",
        "      i = i.strip()\n",
        "      if len(i) > 0:\n",
        "        k.append(i)\n",
        "    p = k\n",
        "    p = \" \".join(p)\n",
        "    p = p.strip()\n",
        "    t.append(p)\n",
        "  df = pd.DataFrame({'data':t})\n",
        "  return df.data  "
      ],
      "execution_count": 0,
      "outputs": []
    },
    {
      "cell_type": "code",
      "metadata": {
        "id": "RixNwcWPZ-Zo",
        "colab_type": "code",
        "colab": {}
      },
      "source": [
        "def transform(mapping, data, sentence_size):\n",
        "    transformed_data = np.zeros(shape=(len(data), sentence_size), dtype='int')\n",
        "    for i in range(len(data)):\n",
        "        l = data[i].split()\n",
        "        for j in range(len(l)):\n",
        "            transformed_data[i][j] = mapping[l[j]]\n",
        "    return transformed_data"
      ],
      "execution_count": 0,
      "outputs": []
    },
    {
      "cell_type": "code",
      "metadata": {
        "id": "QYd5SPfKW-wM",
        "colab_type": "code",
        "outputId": "3028392e-1b85-4181-ac11-e902b5e1c4ae",
        "colab": {
          "base_uri": "https://localhost:8080/",
          "height": 86
        }
      },
      "source": [
        "# Train - Test Split\n",
        "X, y = lines.src.values, lines.dest.values\n",
        "X_train, X_test, y_train, y_test = train_test_split(X, y, test_size = 0.1,shuffle=False)\n",
        "X_train = reverse_train_sentences(X_train)\n",
        "\n",
        "encoded_training_input = transform(src_word_to_index, X_train, src_max_len)\n",
        "encoded_validation_input = transform(src_word_to_index, X_test, src_max_len)\n",
        "encoded_training_output = transform(dest_word_to_index, y_train, dest_max_len)\n",
        "encoded_validation_output = transform(dest_word_to_index, y_test, dest_max_len)\n",
        "\n",
        "print('encoded_training_input', encoded_training_input.shape)\n",
        "print('encoded_training_output', encoded_training_output.shape)\n",
        "print('encoded_validation_input', encoded_validation_input.shape)\n",
        "print('encoded_validation_output', encoded_validation_output.shape)\n",
        "# X_train_normal = copy.deepcopy(X_train)\n",
        "# print(X_train.shape, X_test.shape)\n",
        "# X_train.sample(10)"
      ],
      "execution_count": 0,
      "outputs": [
        {
          "output_type": "stream",
          "text": [
            "encoded_training_input (900, 57)\n",
            "encoded_training_output (900, 57)\n",
            "encoded_validation_input (100, 57)\n",
            "encoded_validation_output (100, 57)\n"
          ],
          "name": "stdout"
        }
      ]
    },
    {
      "cell_type": "code",
      "metadata": {
        "id": "ggQVTfGWYVlS",
        "colab_type": "code",
        "colab": {}
      },
      "source": [
        "latent_dim = 200\n",
        "embedding_dim = 300"
      ],
      "execution_count": 0,
      "outputs": []
    },
    {
      "cell_type": "code",
      "metadata": {
        "id": "ofZVmX87A1yg",
        "colab_type": "code",
        "outputId": "8ac6a606-973c-4f2f-cbdc-44cf37e825d2",
        "colab": {
          "base_uri": "https://localhost:8080/",
          "height": 193
        }
      },
      "source": [
        "encoder_input = Input(shape=(src_max_len,))\n",
        "decoder_input = Input(shape=(dest_max_len,))\n",
        "encoder = Embedding(src_vocab_len, embedding_dim, input_length=src_max_len, mask_zero=True)(encoder_input)\n",
        "encoder = LSTM(latent_dim, return_sequences=True, unroll=True)(encoder)\n",
        "encoder_last = encoder[:,-1,:]\n",
        "\n",
        "print('encoder', encoder)\n",
        "print('encoder_last', encoder_last)\n",
        "\n",
        "decoder = Embedding(dest_vocab_len, embedding_dim, input_length=dest_max_len, mask_zero=True)(decoder_input)\n",
        "decoder = LSTM(latent_dim, return_sequences=True, unroll=True)(decoder, initial_state=[encoder_last, encoder_last])\n",
        "\n",
        "print('decoder', decoder)"
      ],
      "execution_count": 0,
      "outputs": [
        {
          "output_type": "stream",
          "text": [
            "WARNING:tensorflow:From /usr/local/lib/python3.6/dist-packages/tensorflow_core/python/keras/initializers.py:119: calling RandomUniform.__init__ (from tensorflow.python.ops.init_ops) with dtype is deprecated and will be removed in a future version.\n",
            "Instructions for updating:\n",
            "Call initializer instance with the dtype argument instead of passing it to the constructor\n",
            "WARNING:tensorflow:From /usr/local/lib/python3.6/dist-packages/tensorflow_core/python/ops/resource_variable_ops.py:1630: calling BaseResourceVariable.__init__ (from tensorflow.python.ops.resource_variable_ops) with constraint is deprecated and will be removed in a future version.\n",
            "Instructions for updating:\n",
            "If using Keras pass *_constraint arguments to layers.\n",
            "encoder Tensor(\"lstm/transpose_2:0\", shape=(?, 57, 200), dtype=float32)\n",
            "encoder_last Tensor(\"strided_slice_1:0\", shape=(?, 200), dtype=float32)\n",
            "decoder Tensor(\"lstm_1_1/transpose_2:0\", shape=(?, 57, 200), dtype=float32)\n"
          ],
          "name": "stdout"
        }
      ]
    },
    {
      "cell_type": "code",
      "metadata": {
        "id": "CMfLZTp2XY_O",
        "colab_type": "code",
        "colab": {}
      },
      "source": [
        "class BahdanauAttention(tf.keras.layers.Layer):\n",
        "  def __init__(self, units):\n",
        "    super(BahdanauAttention, self).__init__()\n",
        "    self.W1 = tf.keras.layers.Dense(units)\n",
        "    self.W2 = tf.keras.layers.Dense(units)\n",
        "    self.V = tf.keras.layers.Dense(1)\n",
        "\n",
        "  def call(self, query, values):\n",
        "    hidden_with_time_axis = tf.expand_dims(query, 1)\n",
        "\n",
        "    score = self.V(tf.nn.tanh(self.W1(values) + self.W2(hidden_with_time_axis)))\n",
        "    attention_weights = tf.nn.softmax(score, axis=1)\n",
        "    context_vector = attention_weights * values\n",
        "\n",
        "    return context_vector, attention_weights\n"
      ],
      "execution_count": 0,
      "outputs": []
    },
    {
      "cell_type": "code",
      "metadata": {
        "id": "nfRPmW3pA11A",
        "colab_type": "code",
        "outputId": "5ed4ea5a-13b2-4b7d-bd93-ecc7d310d3ef",
        "colab": {
          "base_uri": "https://localhost:8080/",
          "height": 69
        }
      },
      "source": [
        "# attention = dot([decoder, encoder], axes=[2, 2])\n",
        "# attention = Activation('softmax', name='attention')(attention)\n",
        "# # print('attention', attention)\n",
        "# # print('attention shape', attention.shape)\n",
        "# context = dot([attention, encoder], axes=[2,1])\n",
        "# # print('context', context)\n",
        "# # print('context', context.shape)\n",
        "\n",
        "attention_layer = BahdanauAttention(100)\n",
        "context, attention_weights = attention_layer(encoder_last,encoder)\n",
        "# context = dot([attention_weights, encoder], axes=[2,1])\n",
        "print('context', context)\n",
        "\n",
        "decoder_combined_context = concatenate([context, decoder])\n",
        "print('decoder_combined_context', decoder_combined_context)\n",
        "\n",
        "output = TimeDistributed(Dense(latent_dim, activation=\"tanh\"))(decoder_combined_context)\n",
        "output = TimeDistributed(Dense(dest_vocab_len, activation=\"softmax\"))(output)\n",
        "print('output', output)"
      ],
      "execution_count": 0,
      "outputs": [
        {
          "output_type": "stream",
          "text": [
            "context Tensor(\"bahdanau_attention_3/mul:0\", shape=(?, 57, 200), dtype=float32)\n",
            "decoder_combined_context Tensor(\"concatenate/concat:0\", shape=(?, 57, 400), dtype=float32)\n",
            "output Tensor(\"time_distributed_1/Reshape_1:0\", shape=(?, 57, 3216), dtype=float32)\n"
          ],
          "name": "stdout"
        }
      ]
    },
    {
      "cell_type": "code",
      "metadata": {
        "id": "Dl7PUkiFA123",
        "colab_type": "code",
        "outputId": "2296a00a-8a57-4a35-e362-7d34cce17557",
        "colab": {
          "base_uri": "https://localhost:8080/",
          "height": 555
        }
      },
      "source": [
        "model = Model(inputs=[encoder_input, decoder_input], outputs=[output])\n",
        "model.compile(optimizer='rmsprop', loss='categorical_crossentropy', metrics=['acc'])\n",
        "model.summary()"
      ],
      "execution_count": 0,
      "outputs": [
        {
          "output_type": "stream",
          "text": [
            "Model: \"model\"\n",
            "__________________________________________________________________________________________________\n",
            "Layer (type)                    Output Shape         Param #     Connected to                     \n",
            "==================================================================================================\n",
            "input_1 (InputLayer)            [(None, 57)]         0                                            \n",
            "__________________________________________________________________________________________________\n",
            "embedding (Embedding)           (None, 57, 300)      761400      input_1[0][0]                    \n",
            "__________________________________________________________________________________________________\n",
            "lstm (LSTM)                     (None, 57, 200)      400800      embedding[0][0]                  \n",
            "__________________________________________________________________________________________________\n",
            "input_2 (InputLayer)            [(None, 57)]         0                                            \n",
            "__________________________________________________________________________________________________\n",
            "tf_op_layer_strided_slice_1 (Te [(None, 200)]        0           lstm[0][0]                       \n",
            "__________________________________________________________________________________________________\n",
            "embedding_1 (Embedding)         (None, 57, 300)      964800      input_2[0][0]                    \n",
            "__________________________________________________________________________________________________\n",
            "bahdanau_attention_3 (BahdanauA ((None, 57, 200), (N 40301       tf_op_layer_strided_slice_1[0][0]\n",
            "__________________________________________________________________________________________________\n",
            "lstm_1 (LSTM)                   (None, 57, 200)      400800      embedding_1[0][0]                \n",
            "__________________________________________________________________________________________________\n",
            "concatenate (Concatenate)       (None, 57, 400)      0           bahdanau_attention_3[0][0]       \n",
            "                                                                 lstm_1[0][0]                     \n",
            "__________________________________________________________________________________________________\n",
            "time_distributed (TimeDistribut (None, 57, 200)      80200       concatenate[0][0]                \n",
            "__________________________________________________________________________________________________\n",
            "time_distributed_1 (TimeDistrib (None, 57, 3216)     646416      time_distributed[0][0]           \n",
            "==================================================================================================\n",
            "Total params: 3,294,717\n",
            "Trainable params: 3,294,717\n",
            "Non-trainable params: 0\n",
            "__________________________________________________________________________________________________\n"
          ],
          "name": "stdout"
        }
      ]
    },
    {
      "cell_type": "code",
      "metadata": {
        "id": "hSxAdayBA15L",
        "colab_type": "code",
        "colab": {}
      },
      "source": [
        "training_encoder_input = encoded_training_input\n",
        "training_decoder_input = np.zeros_like(encoded_training_output)\n",
        "training_decoder_input[:, 1:] = encoded_training_output[:,:-1]\n",
        "training_decoder_input[:, 0] = 1\n",
        "training_decoder_output = np.eye(dest_vocab_len)[encoded_training_output.astype('int')]\n",
        "\n",
        "validation_encoder_input = encoded_validation_input\n",
        "validation_decoder_input = np.zeros_like(encoded_validation_output)\n",
        "validation_decoder_input[:, 1:] = encoded_validation_output[:,:-1]\n",
        "validation_decoder_input[:, 0] = 1\n",
        "validation_decoder_output = np.eye(dest_vocab_len)[encoded_validation_output.astype('int')]"
      ],
      "execution_count": 0,
      "outputs": []
    },
    {
      "cell_type": "code",
      "metadata": {
        "id": "7iMZrwHSA17o",
        "colab_type": "code",
        "outputId": "c25b3657-3a92-408a-bedf-352cd7f3a2b2",
        "colab": {
          "base_uri": "https://localhost:8080/",
          "height": 1000
        }
      },
      "source": [
        "model.fit(x=[training_encoder_input, training_decoder_input], y=[training_decoder_output],\n",
        "          validation_data=([validation_encoder_input, validation_decoder_input], [validation_decoder_output]),\n",
        "          batch_size=64, epochs=50)\n",
        "\n",
        "# model.save('model.h5')"
      ],
      "execution_count": 0,
      "outputs": [
        {
          "output_type": "stream",
          "text": [
            "Train on 900 samples, validate on 100 samples\n",
            "Epoch 1/50\n",
            "900/900 [==============================] - 26s 29ms/sample - loss: 1.6185 - acc: 0.1840 - val_loss: 2.3430 - val_acc: 0.1632\n",
            "Epoch 2/50\n",
            "900/900 [==============================] - 26s 29ms/sample - loss: 1.5935 - acc: 0.1876 - val_loss: 2.4572 - val_acc: 0.1546\n",
            "Epoch 3/50\n",
            "900/900 [==============================] - 26s 29ms/sample - loss: 1.5708 - acc: 0.1916 - val_loss: 2.2446 - val_acc: 0.1568\n",
            "Epoch 4/50\n",
            "900/900 [==============================] - 26s 29ms/sample - loss: 1.5514 - acc: 0.1995 - val_loss: 2.3550 - val_acc: 0.1637\n",
            "Epoch 5/50\n",
            "900/900 [==============================] - 26s 29ms/sample - loss: 1.5287 - acc: 0.2021 - val_loss: 2.3727 - val_acc: 0.1616\n",
            "Epoch 6/50\n",
            "900/900 [==============================] - 26s 29ms/sample - loss: 1.5081 - acc: 0.2090 - val_loss: 2.4673 - val_acc: 0.1621\n",
            "Epoch 7/50\n",
            "900/900 [==============================] - 26s 29ms/sample - loss: 1.4895 - acc: 0.2135 - val_loss: 2.4508 - val_acc: 0.1637\n",
            "Epoch 8/50\n",
            "900/900 [==============================] - 26s 29ms/sample - loss: 1.4679 - acc: 0.2175 - val_loss: 2.3962 - val_acc: 0.1685\n",
            "Epoch 9/50\n",
            "900/900 [==============================] - 27s 30ms/sample - loss: 1.4501 - acc: 0.2214 - val_loss: 2.4557 - val_acc: 0.1632\n",
            "Epoch 10/50\n",
            "900/900 [==============================] - 26s 29ms/sample - loss: 1.4312 - acc: 0.2253 - val_loss: 2.4608 - val_acc: 0.1750\n",
            "Epoch 11/50\n",
            "900/900 [==============================] - 26s 29ms/sample - loss: 1.4127 - acc: 0.2325 - val_loss: 2.3912 - val_acc: 0.1680\n",
            "Epoch 12/50\n",
            "900/900 [==============================] - 26s 29ms/sample - loss: 1.3933 - acc: 0.2367 - val_loss: 2.4089 - val_acc: 0.1717\n",
            "Epoch 13/50\n",
            "900/900 [==============================] - 26s 29ms/sample - loss: 1.3776 - acc: 0.2411 - val_loss: 2.4713 - val_acc: 0.1712\n",
            "Epoch 14/50\n",
            "900/900 [==============================] - 27s 30ms/sample - loss: 1.3609 - acc: 0.2452 - val_loss: 2.4783 - val_acc: 0.1659\n",
            "Epoch 15/50\n",
            "900/900 [==============================] - 27s 29ms/sample - loss: 1.3470 - acc: 0.2495 - val_loss: 2.4617 - val_acc: 0.1734\n",
            "Epoch 16/50\n",
            "900/900 [==============================] - 26s 29ms/sample - loss: 1.3265 - acc: 0.2527 - val_loss: 2.4510 - val_acc: 0.1696\n",
            "Epoch 17/50\n",
            "900/900 [==============================] - 26s 29ms/sample - loss: 1.3115 - acc: 0.2577 - val_loss: 2.4602 - val_acc: 0.1632\n",
            "Epoch 18/50\n",
            "900/900 [==============================] - 27s 30ms/sample - loss: 1.2984 - acc: 0.2629 - val_loss: 2.4650 - val_acc: 0.1664\n",
            "Epoch 19/50\n",
            "900/900 [==============================] - 27s 30ms/sample - loss: 1.2781 - acc: 0.2673 - val_loss: 2.4727 - val_acc: 0.1707\n",
            "Epoch 20/50\n",
            "900/900 [==============================] - 27s 30ms/sample - loss: 1.2641 - acc: 0.2713 - val_loss: 2.4739 - val_acc: 0.1653\n",
            "Epoch 21/50\n",
            "900/900 [==============================] - 26s 29ms/sample - loss: 1.2491 - acc: 0.2755 - val_loss: 2.4950 - val_acc: 0.1712\n",
            "Epoch 22/50\n",
            "900/900 [==============================] - 26s 29ms/sample - loss: 1.2341 - acc: 0.2792 - val_loss: 2.5169 - val_acc: 0.1696\n",
            "Epoch 23/50\n",
            "900/900 [==============================] - 27s 30ms/sample - loss: 1.2204 - acc: 0.2849 - val_loss: 2.5010 - val_acc: 0.1696\n",
            "Epoch 24/50\n",
            "900/900 [==============================] - 27s 30ms/sample - loss: 1.2060 - acc: 0.2863 - val_loss: 2.4870 - val_acc: 0.1632\n",
            "Epoch 25/50\n",
            "900/900 [==============================] - 26s 29ms/sample - loss: 1.1899 - acc: 0.2948 - val_loss: 2.5107 - val_acc: 0.1685\n",
            "Epoch 26/50\n",
            "900/900 [==============================] - 26s 29ms/sample - loss: 1.1747 - acc: 0.2990 - val_loss: 2.5251 - val_acc: 0.1739\n",
            "Epoch 27/50\n",
            "900/900 [==============================] - 26s 29ms/sample - loss: 1.1609 - acc: 0.3036 - val_loss: 2.5639 - val_acc: 0.1659\n",
            "Epoch 28/50\n",
            "900/900 [==============================] - 27s 29ms/sample - loss: 1.1476 - acc: 0.3086 - val_loss: 2.5125 - val_acc: 0.1691\n",
            "Epoch 29/50\n",
            "900/900 [==============================] - 27s 30ms/sample - loss: 1.1322 - acc: 0.3180 - val_loss: 2.5289 - val_acc: 0.1696\n",
            "Epoch 30/50\n",
            "900/900 [==============================] - 27s 30ms/sample - loss: 1.1164 - acc: 0.3190 - val_loss: 2.5429 - val_acc: 0.1637\n",
            "Epoch 31/50\n",
            "900/900 [==============================] - 27s 30ms/sample - loss: 1.1038 - acc: 0.3266 - val_loss: 2.5216 - val_acc: 0.1701\n",
            "Epoch 32/50\n",
            "900/900 [==============================] - 27s 30ms/sample - loss: 1.0924 - acc: 0.3327 - val_loss: 2.5796 - val_acc: 0.1616\n",
            "Epoch 33/50\n",
            "900/900 [==============================] - 27s 29ms/sample - loss: 1.0759 - acc: 0.3364 - val_loss: 2.5341 - val_acc: 0.1701\n",
            "Epoch 34/50\n",
            "900/900 [==============================] - 26s 29ms/sample - loss: 1.0608 - acc: 0.3449 - val_loss: 2.5575 - val_acc: 0.1648\n",
            "Epoch 35/50\n",
            "900/900 [==============================] - 26s 29ms/sample - loss: 1.0507 - acc: 0.3508 - val_loss: 2.5971 - val_acc: 0.1648\n",
            "Epoch 36/50\n",
            "900/900 [==============================] - 26s 29ms/sample - loss: 1.0347 - acc: 0.3597 - val_loss: 2.5613 - val_acc: 0.1680\n",
            "Epoch 37/50\n",
            "900/900 [==============================] - 26s 29ms/sample - loss: 1.0226 - acc: 0.3631 - val_loss: 2.6046 - val_acc: 0.1616\n",
            "Epoch 38/50\n",
            "900/900 [==============================] - 26s 29ms/sample - loss: 1.0048 - acc: 0.3744 - val_loss: 2.5728 - val_acc: 0.1610\n",
            "Epoch 39/50\n",
            "900/900 [==============================] - 26s 29ms/sample - loss: 0.9969 - acc: 0.3790 - val_loss: 2.5936 - val_acc: 0.1723\n",
            "Epoch 40/50\n",
            "900/900 [==============================] - 26s 29ms/sample - loss: 0.9795 - acc: 0.3895 - val_loss: 2.5809 - val_acc: 0.1739\n",
            "Epoch 41/50\n",
            "900/900 [==============================] - 27s 30ms/sample - loss: 0.9671 - acc: 0.3957 - val_loss: 2.5880 - val_acc: 0.1653\n",
            "Epoch 42/50\n",
            "900/900 [==============================] - 27s 30ms/sample - loss: 0.9553 - acc: 0.4047 - val_loss: 2.6192 - val_acc: 0.1701\n",
            "Epoch 43/50\n",
            "900/900 [==============================] - 26s 29ms/sample - loss: 0.9407 - acc: 0.4101 - val_loss: 2.6329 - val_acc: 0.1621\n",
            "Epoch 44/50\n",
            "900/900 [==============================] - 26s 29ms/sample - loss: 0.9290 - acc: 0.4158 - val_loss: 2.5970 - val_acc: 0.1728\n",
            "Epoch 45/50\n",
            "900/900 [==============================] - 27s 29ms/sample - loss: 0.9145 - acc: 0.4250 - val_loss: 2.6149 - val_acc: 0.1728\n",
            "Epoch 46/50\n",
            "900/900 [==============================] - 27s 29ms/sample - loss: 0.9031 - acc: 0.4309 - val_loss: 2.6024 - val_acc: 0.1664\n",
            "Epoch 47/50\n",
            "900/900 [==============================] - 27s 30ms/sample - loss: 0.8884 - acc: 0.4377 - val_loss: 2.6320 - val_acc: 0.1685\n",
            "Epoch 48/50\n",
            "900/900 [==============================] - 26s 29ms/sample - loss: 0.8771 - acc: 0.4498 - val_loss: 2.6375 - val_acc: 0.1659\n",
            "Epoch 49/50\n",
            "900/900 [==============================] - 26s 29ms/sample - loss: 0.8644 - acc: 0.4538 - val_loss: 2.6339 - val_acc: 0.1712\n",
            "Epoch 50/50\n",
            "900/900 [==============================] - 26s 29ms/sample - loss: 0.8487 - acc: 0.4619 - val_loss: 2.6530 - val_acc: 0.1648\n"
          ],
          "name": "stdout"
        },
        {
          "output_type": "execute_result",
          "data": {
            "text/plain": [
              "<tensorflow.python.keras.callbacks.History at 0x7f39d1a83ac8>"
            ]
          },
          "metadata": {
            "tags": []
          },
          "execution_count": 40
        }
      ]
    },
    {
      "cell_type": "code",
      "metadata": {
        "id": "aV9jfXaFwJOK",
        "colab_type": "code",
        "colab": {}
      },
      "source": [
        "def calculate_bleu_score(actual_string, predicted_string):\n",
        "  actual_string = copy.deepcopy(actual_string)\n",
        "  predicted_string = copy.deepcopy(predicted_string)\n",
        "  reference = re.split(\"\\s\",actual_string.strip())\n",
        "  candidate = re.split(\"\\s\",predicted_string.strip())\n",
        "  smoothie = SmoothingFunction().method3\n",
        "  score = sentence_bleu(reference, candidate, smoothing_function=smoothie)\n",
        "  return score"
      ],
      "execution_count": 0,
      "outputs": []
    },
    {
      "cell_type": "code",
      "metadata": {
        "id": "O_a4XxWeA195",
        "colab_type": "code",
        "outputId": "6ec50f86-d58a-4c65-ee72-c053f2943e77",
        "colab": {
          "base_uri": "https://localhost:8080/",
          "height": 1000
        }
      },
      "source": [
        "def generate(text):\n",
        "    encoder_input = transform(src_word_to_index, [text.lower()], src_max_len)\n",
        "    decoder_input = np.zeros(shape=(len(encoder_input), dest_max_len))\n",
        "    decoder_input[:,0] = 1\n",
        "    for i in range(1, dest_max_len):\n",
        "        output = model.predict([encoder_input, decoder_input]).argmax(axis=2)\n",
        "        decoder_input[:,i] = output[:,i]\n",
        "    return decoder_input[:,1:]\n",
        "\n",
        "def decode(decoding, sequence):\n",
        "    text = ''\n",
        "    l = []\n",
        "    for i in sequence:\n",
        "        if i == 0:\n",
        "            break\n",
        "        l.append(decoding[i])\n",
        "    text = \" \".join(l)\n",
        "    return text\n",
        "\n",
        "def predict_dest(text):\n",
        "    decoder_output = generate(text)\n",
        "    return decode(dest_index_to_word, decoder_output[0])\n",
        "\n",
        "bleu_score = 0.0\n",
        "for i, line in enumerate(X_test):\n",
        "  print(\"Actual Source:\",line)\n",
        "  print(\"Actual Target: \",y_test[i])\n",
        "  dest_predicted = predict_dest(line)\n",
        "  print(\"Predicted: \",dest_predicted)\n",
        "  curr_bs = calculate_bleu_score(y_test[i],dest_predicted)\n",
        "  bleu_score += curr_bs\n",
        "  print(\"Current BLEU Score: \",curr_bs)\n",
        "  # break\n",
        "print(\"Overall BLEU Score: \", bleu_score/len(xtest[0]))"
      ],
      "execution_count": 42,
      "outputs": [
        {
          "output_type": "stream",
          "text": [
            "Actual Source: if eaten less chapatti at dinner and eaten rice daily then this light food can keep your health good \n",
            "Actual Target:  यदि रात्रि के भोजन में रोटी कम खाएँ और चावल प्रतिदिन खाएँ तो यह हलक़ा भोजन आपका स्वास्थ्य ठीक रखेगा ।\n",
            "Predicted:  पीतज्वर के कारण श्‍वास फैलाने के लिये की मात्रा में परेशानी होती है ।\n",
            "Current BLEU Score:  0.028398387225677897\n",
            "Actual Source: rice is acidity killer  easily digestible  that which increases blood in body and is proper diet in diarrhoea and dysentery \n",
            "Actual Target:  चावल मंदाग्नि नाशक  सुपाच्य  शरीर में खून बढ़ाने वाला  शीघ्र पचने वाला  अतिसार व पेचिश में पथ्य भोजन है ।\n",
            "Predicted:  पीतज्वर के अन्तर्गत भारत सरकार से भारत सरकार से चलाया जा सकता है और फिर पैर की आवश्यकता है ।\n",
            "Current BLEU Score:  0.019146030690102515\n",
            "Actual Source: three year old rice is very tasteful and that which produces glow \n",
            "Actual Target:  तीन साल पुराना चावल काफी स्वादिष्ट व ओजवर्धक होता है ।\n",
            "Predicted:  पीतज्वर के अन्तर्गत भारत सरकार से से भी क्षमता से भी व्यायाम करने की ओर लगाया जा सकता है ।\n",
            "Current BLEU Score:  0.019146030690102515\n",
            "Actual Source: rice should be eaten with rice water \n",
            "Actual Target:  चावल को मांड सहित खाना चाहिए ।\n",
            "Predicted:  गड्ढों में ।\n",
            "Current BLEU Score:  0.2259005009024612\n",
            "Actual Source: by removing rice water the protein  minerals  vitamins come out and this is called waste food \n",
            "Actual Target:  मांड अलग कर देने से चावल के प्रोटीन  खनिज  विटामिन्स निकल जाते हैं और यह बेकार भोजन कहलाता है ।\n",
            "Predicted:  पीतज्वर के अन्तर्गत भारत सरकार से भारत सरकार से चलाया जा सकता है ।\n",
            "Current BLEU Score:  0.028398387225677897\n",
            "Actual Source: rice water means the dense white water while cooking rice \n",
            "Actual Target:  मांड यानी चावल पकाते समय बचा हुआ गाढ़ा सफेद पानी होता है ।\n",
            "Predicted:  गड्ढों में ।\n",
            "Current BLEU Score:  0.2259005009024612\n",
            "Actual Source: it has protein  vitamins and minerals which is beneficial for health \n",
            "Actual Target:  इसमें प्रोटीन  विटामिन्स व खनिज होते हैं जो स्वास्थ्य के लिए लाभदायक होते हैं ।\n",
            "Predicted:  पीतज्वर के अन्तर्गत भारत सरकार से से भी क्षमता से भी व्यायाम करने की ओर लगाया जा सकता है ।\n",
            "Current BLEU Score:  0.019146030690102515\n",
            "Actual Source: milk should be mixed in rice and left covered for  minutes  those whose stomach is weak or who can not digest food easily  make them eat this then it will be soothing \n",
            "Actual Target:  जिनका पेट कमजोर हो यानी जो आसानी से भोजन न पचा पाते हों  उन्हें चावल में दूध मिलाकर  मिनट तक ढँककर रख दें  फिर खिलाएँ तो आराम होगा ।\n",
            "Predicted:  पीतज्वर के दौरान भारत सरकार द्वारा स्थानीय रूप से मृत्यु दर से भी कम कर देती है और इसके कारण भी और अवधि में भी दर्द हो सकती है ।\n",
            "Current BLEU Score:  0.012414943415352932\n",
            "Actual Source: rice has medicinal uses also  it is beneficial in many diseases \n",
            "Actual Target:  चावल के औषधीय उपयोग भी हैं  कई रोगों में यह लाभ करता है ।\n",
            "Predicted:  पीतज्वर के दौरान भारत में द्वारा भी परेशानी होती है ।\n",
            "Current BLEU Score:  0.03747776736677922\n",
            "Actual Source: consumption of boiled rice water without juice of lemon and salt less or mustard seed in vinegar is beneficial in burning in chest or stomach  gonorrhoea  chicken  pox  measles  urine infection \n",
            "Actual Target:  सीने में या पेट में जलन  सूजाक  चेचक  मसूरिका  मूत्रविकार में नीबू के रस व नमक रहित चावल का मांड या कांजी सेवन करने से लाभ होता है ।\n",
            "Predicted:  पीतज्वर के कारण लैन्स और उल्टी या जर्दे से भी देख सकता है और इसके किसी भी भी फैल सकता है ।\n",
            "Current BLEU Score:  0.017272237992167865\n",
            "Actual Source: the body gets strength  intelligence increases and digestion stays good by having ghee mixed in porridge made by mixing and cooking rice  pulses lrb especially moong rrb  salt  chilly  asafoetida  ginger  spices \n",
            "Actual Target:  चावल  दाल  खासकर मूँग की   नमक  मिर्च  हींग  अदरक  मसाले मिलाकर बनाई गई खिचड़ी में घी मिलाकर सेवन करने से शरीर को बल मिलता है  बुद्धि विकास होता है व पाचन ठीक रहता है ।\n",
            "Predicted:  यदि मानसिक स्वास्थ्य कार्यक्रम का मानना है कि यदि रक्त ग्रंथियों में भी कम करने की वजह से भी कम नहीं हो सकती है और रक्त वाहिनियों की जाती है ।\n",
            "Current BLEU Score:  0.011993481292529617\n",
            "Actual Source: in dysentery the patient must be fed with rice cooked like paste by mixing cow milk in it \n",
            "Actual Target:  अतिसार में चावल का आटा लेई की भांति पकाकर उसमें गाय का दूध मिलाकर रोगी को सेवन कराएँ ।\n",
            "Predicted:  यदि कोई जाँच करने की मात्रा में भी देख सकती है और रक्त वाहिनियों की जाती है ।\n",
            "Current BLEU Score:  0.021476912089159056\n",
            "Actual Source: if the stomach is not clear then by mixing milk and sugar and having it  the stomach gets cleared by dysentery \n",
            "Actual Target:  पेट साफ न हो तो भात में दूध व शकर मिलाकर सेवन करने से दस्त के साथ पेट साफ हो जाता है ।\n",
            "Predicted:  पीतज्वर के दौरान भारत सरकार से से भी उपलब्ध कराने की चीजें देख सकता है और इसके किसी भी भी ।\n",
            "Current BLEU Score:  0.0181608494154393\n",
            "Actual Source: if there is tendency for dysentery then by having rice mixed with curd it stops \n",
            "Actual Target:  भात को दही के साथ मिलाकर खाने से यदि दस्त लगे हों तो बंद हो जाते हैं ।\n",
            "Predicted:  यदि रक्त सिगरेट एवं उल्टी आँखों की आवश्यकता है तो इसके कारण भी ।\n",
            "Current BLEU Score:  0.028398387225677897\n",
            "Actual Source: if the intoxication due to bhang is more then the intoxication vanishes by having water which has been used to wash rice and adding two pinches of edible soda and sugar \n",
            "Actual Target:  यदि भांग का नशा ज्यादा हो गया हो तो चावल धोकर निकाले पानी में खाने का सोडा दो चुटकी व शक्कर मिलाकर पिलाने से नशा उतर जाता है ।\n",
            "Predicted:  पीतज्वर के कारण लैन्स और उल्टी या जर्दे से भी देख सकता है और इसके किसी भी भी फैल सकता है ।\n",
            "Current BLEU Score:  0.017272237992167865\n",
            "Actual Source: the drink made by mixing water in which rice has been washed  edible soda and sugar  becomes useful in urine infection \n",
            "Actual Target:  चावल धोकर निकाले पानी में खाने का सोडा दो चुटकी व शक्कर मिलाकर बना पेय मूत्र विकार में भी काम आता है ।\n",
            "Predicted:  यदि मानसिक स्वास्थ्य कार्यक्रम का मानना है कि यदि रक्त ग्रंथियों में भी कम करने की वजह से भी कम नहीं हो जाती है ।\n",
            "Current BLEU Score:  0.015061893230938676\n",
            "Actual Source: have  grams rice pod mixed with honey before sunrise and go to sleep \n",
            "Actual Target:  सूर्योदय से पूर्व चावल की खील  ग्राम लेकर शहद मिलाकर खाकर सो जाएँ ।\n",
            "Predicted:  घर के आसपास व गैरसरकारी संस्थानों के प्रति प्रेरित अवश्य करें ।\n",
            "Current BLEU Score:  0.040272481924218506\n",
            "Actual Source: in one week hemi cranial pain will go away \n",
            "Actual Target:  सप्ताहभर में आधासीसी सिर दर्द दूर हो जाएगा ।\n",
            "Predicted:  डायबिटीज से आँखों के समय की ओर लगाया जा सकता है ।\n",
            "Current BLEU Score:  0.033864985683445356\n",
            "Actual Source: grind paddy root in rice washed water and sieve it then make its drink by mixing honey in it  this is a harmless and safe contraceptive \n",
            "Actual Target:  चावल धुले पानी में चावल के पौधे की जड़ पीसकर छान लें और इसमें शहद मिलाकर पिला दें । यह हानिरहित सुरक्षित गर्भनिरोधक उपाय है ।\n",
            "Predicted:  पीतज्वर के दौरान भारत सरकार द्वारा अस्पताल की तुलना में यह रोग कर आते है और इसके कारण भी और जाँच हेतु द्वारा जाँच करता है ।\n",
            "Current BLEU Score:  0.013878192778615909\n",
            "Actual Source: benefit happens in loose motions by putting a coat of onion juice on navel \n",
            "Actual Target:   प्याज के रस का नाभि पर लेप करने से पतले दस्त में लाभ होता है । \n",
            "Predicted:  यदि मानसिक स्वास्थ्य मच्छर के कारण से भी जाती है ।\n",
            "Current BLEU Score:  0.03747776736677922\n",
            "Actual Source: in complains of indigestion have onion juice by adding little bit salt \n",
            "Actual Target:  अपच की शिकायत होने पर प्याज के रस में थोड़ा सा नमक मिलाकर सेवन करें ।\n",
            "Predicted:  पीतज्वर मच्छर के काटने से भी भी किया जा सकता है ।\n",
            "Current BLEU Score:  0.033864985683445356\n",
            "Actual Source: by having honey in white onion juice is beneficial in asthma disease \n",
            "Actual Target:  सफेद प्याज के रस में शहद मिलाकर सेवन करना दमा रोग में बहुत लाभदायक है ।\n",
            "Predicted:  सोते आँखों में क्षति तो सरसों का तेल या तेल का उपयोग होना ।\n",
            "Current BLEU Score:  0.028398387225677897\n",
            "Actual Source: by having honey mixed in onion juice the lack of blood in body is removed \n",
            "Actual Target:  प्याज के रस में शहद मिलाकर सेवन करने से शरीर में खून की कमी दूर होती है ।\n",
            "Predicted:  पीतज्वर के दौरान भारत सरकार से से भी क्षमता से भी दवा से प्रभावित कर सकता है ।\n",
            "Current BLEU Score:  0.021476912089159056\n",
            "Actual Source: if the rheumatic pain becomes torturous then massage with onion juice \n",
            "Actual Target:  यदि गठिया का दर्द सताए तो प्याज के रस की मालिश करें ।\n",
            "Predicted:  घर के आसपास व गैरसरकारी दरवाजों के प्रति प्रेरित करें ।\n",
            "Current BLEU Score:  0.03747776736677922\n",
            "Actual Source: the patients suffering from high blood pressure must eat raw onion because it reduces blood pressure \n",
            "Actual Target:  उच्च रक्तचाप के रोगियों को कच्चे प्याज का सेवन अवश्य करना चाहिए  क्योंकि यह रक्तचाप कम करता है ।\n",
            "Predicted:  यदि तम्बाकू आँखों का उपयोग न न न न काम करने के लिए प्रेरित करना ।\n",
            "Current BLEU Score:  0.029083177105737577\n",
            "Actual Source: if vomiting or nausea is happening then relief is obtained by having onion pieces by putting salt on it \n",
            "Actual Target:  उल्टियाँ हो रही हों या जी मिचला रहा हो  तो प्याज के टुकड़े में नमक लगाकर खाने से राहत मिलती है ।\n",
            "Predicted:  पीतज्वर के दौरान भारत सरकार से से भी उपलब्ध कराये हैं और लसीका चिकित्सा के लिए बीमारियों से उत्पन्न होता है ।\n",
            "Current BLEU Score:  0.017272237992167865\n",
            "Actual Source: those who have perpetual mental tension  they must eat onion \n",
            "Actual Target:  जिन्हें मानसिक तनाव बना रहता हो  उन्हें प्याज का सेवन करना चाहिए ।\n",
            "Predicted:  सोते समय मच्छरदानी का तेल ।\n",
            "Current BLEU Score:  0.08116697886877472\n",
            "Actual Source: if there is toothache then press a small piece of onion under it  you will get relief \n",
            "Actual Target:  यदि दाँत का दर्द है  तो उसके नीचे प्याज का एक छोटा टुकड़ा दबा लीजिए  आराम मिलेगा ।\n",
            "Predicted:  यदि रक्त संबंधी प्रणाली के द्वारा भी होने की जाँच करने की बीमारी है ।\n",
            "Current BLEU Score:  0.026279617104084448\n",
            "Actual Source: eye sight is improved by consuming onion \n",
            "Actual Target:  प्याज के सेवन से आँखों की ज्योति बढ़ती है ।\n",
            "Predicted:  सोते समय मच्छरदानी का तेल या प्रक्रिया में दर्द होना ।\n",
            "Current BLEU Score:  0.03747776736677922\n",
            "Actual Source: a special chemical present in onion is helpful in reducing mental tension \n",
            "Actual Target:  प्याज में मौजूद एक विशेष रसायन मानसिक तनाव कम करने में सहायक है ।\n",
            "Predicted:  क्षय रोग के दौरान बाद से भी भी भी जाँच करने की जाँच होती है ।\n",
            "Current BLEU Score:  0.024455939372403618\n",
            "Actual Source: have boiled whole grains in breakfast  consume cake made of wheat flour  wheat flour has sufficient magnesium \n",
            "Actual Target:  नाश्ते में खड़ा अनाज उबालकर लें  चोकर से बना केक खाएँ  चोकर में मेग्निशियम पर्याप्त होता है ।\n",
            "Predicted:  पीतज्वर के अन्तर्गत भारत सरकार द्वारा स्थानीय रूप से मृत्यु दर से भी निकाल दिया जाता है ।\n",
            "Current BLEU Score:  0.021476912089159056\n",
            "Actual Source: have  grams of curd with two potato parathas  this is a good source of energy \n",
            "Actual Target:  आलू के दो पराठें के साथ लगभग  ग्राम दही का सेवन करें  यह ऊर्जा का अच्छा स्रोत है ।\n",
            "Predicted:  पीतज्वर के दौरान भारत में एक रूप से भी किया जा सकता है ।\n",
            "Current BLEU Score:  0.028398387225677897\n",
            "Actual Source: roast one handful of peanuts and consume it as breakfast with  grams of jaggery  this is a sufficient source of energy \n",
            "Actual Target:  एक मुट्ठी मूँगफली के दाने सेंककर   ग्राम गु़ड़ के साथ चबाचबाकर नाश्ते के तौर पर सेवन करें  ये ऊर्जा के पर्याप्त भण्डार हैं ।\n",
            "Predicted:  यदि रक्त एवं बाल स्वास्थ्य कार्यक्रम का इस्तेमाल होती है और इस रोग के लिए प्रेरित करना ।\n",
            "Current BLEU Score:  0.021476912089159056\n",
            "Actual Source: often change of water leaves a bad impact on body \n",
            "Actual Target:  अक्सर पानी का बदलाव शरीर पर दुष्प्रभाव छोड़ता है ।\n",
            "Predicted:  किसी भी गाँठ की रोशनी का टीका लगाना ।\n",
            "Current BLEU Score:  0.04266331692956902\n",
            "Actual Source: also by drinking common salt water heat does not trouble much \n",
            "Actual Target:  सादा नमक का पानी बारबार पीने से भी गर्मी अधिक परेशान नहीं करेगी ।\n",
            "Predicted:  पीतज्वर के दौरान भारत सरकार से से भी क्षमता से भी ध्यान ध्यान देना चाहिए ।\n",
            "Current BLEU Score:  0.024455939372403618\n",
            "Actual Source: if you have bile complaint then mix and keep sea salt and carom seeds  eat two  three times \n",
            "Actual Target:  यदि आपको पित्त गिरने की शिकायत रहती है तो अपने साथ सेंधा नमक और अजवाइन मिलाकर रखें । दोतीन बार खा लें ।\n",
            "Predicted:  यदि रक्त सिगरेट रहे हो जाने की पथरी में दर्द हो सकती है और रक्त ट्यूमर हो जाता है ।\n",
            "Current BLEU Score:  0.019146030690102515\n",
            "Actual Source: to escape from loo cover and keep an onion in your pocket or purse  by repeatedly smelling it loo will not affect \n",
            "Actual Target:  लू से बचने के लिए एक प्याज अपने पॉकेट या पर्स में लपेटकर रखें । इसे बारबार सूँघने से लू नहीं लगेगी ।\n",
            "Predicted:  पीतज्वर के अन्तर्गत भारत सरकार से भारत सरकार से चलाया जा सकता है और फिर पैर की आवश्यकता है ।\n",
            "Current BLEU Score:  0.019146030690102515\n",
            "Actual Source: eat as less as possible  still if there is indigestion  eat trikuti powder with honey for this in the morning \n",
            "Actual Target:  कम से कम खाइए  फिर भी अपचन न हो  इसके लिए त्रिकुटी का चूर्ण शहद के साथ सुबह ही खा लीजिए ।\n",
            "Predicted:  पीतज्वर के अन्तर्गत भारत सरकार से भारत सरकार से चलाया जा सकता है और एडिस अफ्रीकंस ।\n",
            "Current BLEU Score:  0.02286956778061901\n",
            "Actual Source: if your eyes redden rapidly then keep eye cleaning lotion and cotton also with you \n",
            "Actual Target:  यदि आपकी आँखें जल्दी लाल हो जाती हैं तो आँखों को साफ करने का लोशन व रुई भी साथ में रखिए ।\n",
            "Predicted:  घर के आसपास व गैरसरकारी रूपों में उपलब्ध कराये हैं ।\n",
            "Current BLEU Score:  0.044568827606990644\n",
            "Actual Source: for long  disease free and healthy life nutritional and satvik food is essential \n",
            "Actual Target:  दीर्घायु  रोग मुक्त तथा स्वस्थ्य जीवन के लिए पौष्टिक एवं सात्विक भोजन अनिवार्य है ।\n",
            "Predicted:  पीतज्वर के अन्तर्गत भारत सरकार से भारत सरकार से चलाया जा रहा है ।\n",
            "Current BLEU Score:  0.028398387225677897\n",
            "Actual Source: the secret for disease free healthy and long life is nutritional and satvik food \n",
            "Actual Target:  पौष्टिक एवं सात्विक भोजन रोग मुक्त स्वस्थ जीवन एवं दीर्घायु का रहस्य है ।\n",
            "Predicted:  पीतज्वर के अन्तर्गत भारत सरकार से भारत सरकार से चलाया जा रहा है ।\n",
            "Current BLEU Score:  0.028398387225677897\n",
            "Actual Source: after the secret of nutrition  to get rid of mental tension and taking in positive energy is very essential for long life \n",
            "Actual Target:  आहार के रहस्य के पश्चात मनुष्य के मानसिक तनाव को दूर कर पॉजिटीव एनर्जी ग्रहण करना लंबी उम्र के लिए अत्यंत अनिवार्य है ।\n",
            "Predicted:  पीतज्वर के कारण लैन्स और उल्टी या जर्दे से भी देख सकता है और इसके किसी भी भी फैल सकता है ।\n",
            "Current BLEU Score:  0.017272237992167865\n",
            "Actual Source: sitting alone in a comfortable condition and breathing slowly man should feel that all tensions are going away from the mind \n",
            "Actual Target:  मनुष्य एकांत में आरामदायक स्थिति में एवं शांत भाव से बैठकर धीरेधीरे साँस ले और महसूस करे कि दिमाग से सभी चिंताएँ दूर हो रही हैं ।\n",
            "Predicted:  अगर कैंसर का पता लगाने से भी गाँठ हो तो उसे बच्चों में मदद मिलती है ।\n",
            "Current BLEU Score:  0.02286956778061901\n",
            "Actual Source: wash out all the symptoms of old age from your mind and feel that you are young \n",
            "Actual Target:  अपने दिमाग से बुढ़ापे के लक्षणों को धोडालें और स्वयं को युवा महसूस करें ।\n",
            "Predicted:  पीतज्वर के अन्तर्गत भारत सरकार से से भी क्षमता से भी दवा से बचाव एवं वेदना करने की जानी चाहिए ।\n",
            "Current BLEU Score:  0.0181608494154393\n",
            "Actual Source: after getting rid of all tiredness feel that i am completely away from negative stress and positive power has come in me completely \n",
            "Actual Target:  संपूर्ण थकावट दूर होने पर महसूस करें मैं निगेटिव स्ट्रेस से पूरी तरह दूर हूँ और मुझमें पॉजिटीव शक्ति पूरी तरह आ चुकी है ।\n",
            "Predicted:  पीतज्वर के दौरान भारत सरकार द्वारा अस्पताल में शैय्या की तुलना में एक बार माह के भीतर या जिला स्वास्थ्य एवं गर्भ सामपन हेतु उचित सलाह का इस्तेमाल करना ।\n",
            "Current BLEU Score:  0.012414943415352932\n",
            "Actual Source: keep in mind that positive thought by pacifying heart and mind releases youth in body \n",
            "Actual Target:  याद रखिए पॉजिटीव सोच मन मस्तिष्क को शांत कर शरीर में जवानी का संचार करती है ।\n",
            "Predicted:  पीतज्वर के अन्तर्गत भारत सरकार से भारत सरकार से चलाया जा सकता है ।\n",
            "Current BLEU Score:  0.028398387225677897\n",
            "Actual Source: there itself negative thought increases the process of ageing and decreases life \n",
            "Actual Target:  वहीं निगेटिव सोच बुढ़ापे की प्रक्रिया को तेज करती है और जिंदगी को घटाती है ।\n",
            "Predicted:  यदि कोई जल्दी जल्दी जल्दी जल्दी रखें ।\n",
            "Current BLEU Score:  0.05522397783539471\n",
            "Actual Source: not doing abstinence in food  not cleaning teeth before sleeping  the stomach not staying clean and due to perpetual constipation odour comes from mouth \n",
            "Actual Target:  खानपान में परहेज न करने  सोते समय दाँत साफ न करने  पेट साफ न रहने व कब्ज रहने से मुँह से बदबू आती है ।\n",
            "Predicted:  पीतज्वर के अन्तर्गत भारत सरकार से भारत सरकार से चलाया जा सकता है और फिर पैर की आवश्यकता है ।\n",
            "Current BLEU Score:  0.019146030690102515\n",
            "Actual Source: cleaning teeth by making a brush of soft branch of neem or acacia removes odour \n",
            "Actual Target:  नीम या बबूल की नरम डाली का ब्रश बनाकर दाँत साफ करने से दुर्गंध दूर होती है ।\n",
            "Predicted:  यदि कोई जल्दी जल्दी जल्दी रखें ।\n",
            "Current BLEU Score:  0.06567274736060397\n",
            "Actual Source: mouth is freshened by chewing  grams aniseed or coriander or cardamom \n",
            "Actual Target:   ग्राम सौंफ या धनिया या इलायची चबाने से मुख शुद्धि होती है ।\n",
            "Predicted:  पीतज्वर के अन्तर्गत भारत सरकार से से भी उपलब्ध कराये हैं ।\n",
            "Current BLEU Score:  0.033864985683445356\n",
            "Actual Source: it is beneficial to chew paan by putting cardamom and mint \n",
            "Actual Target:  इलायची और पुदीना डालकर पान चबाना लाभकर है ।\n",
            "Predicted:  पीतज्वर के दौरान भारत सरकार से से भी क्षमता से भी ध्यान ध्यान देना चाहिए ।\n",
            "Current BLEU Score:  0.024455939372403618\n",
            "Actual Source: gargling with the solution made by putting cardamom  cinnamon and dried mint leaves destroys odour \n",
            "Actual Target:  इलायची  दालचीनी तथा सूखी पुदीना पत्ती डालकर बनाए गए घोल से गरारे करना दुर्गंध मिटाता है ।\n",
            "Predicted:  पीतज्वर के दौरान भारत में एक रूप से भी उपलब्ध कराने के द्वारा भाग में जागरूक मिलती है ।\n",
            "Current BLEU Score:  0.020244462660665506\n",
            "Actual Source: chewing cardamom also prohibits odour \n",
            "Actual Target:  इलायची चबाना भी दुर्गंध रोकता है ।\n",
            "Predicted:  हरी घास व उष्मा से आँखों की प्रक्रिया व मात्रा का सेवन हो ।\n",
            "Current BLEU Score:  0.028398387225677897\n",
            "Actual Source: gargling by putting   drops of cumin seed oil in one cup of water is beneficial \n",
            "Actual Target:  एक कप पानी में जीरे के तेल की  बूंदें डालकर गरारे करने से लाभ होता है ।\n",
            "Predicted:  पीतज्वर के दौरान भारत सरकार से से भी सबसे रूप से भी जिला बार रूप से प्रभावित कर सकता है ।\n",
            "Current BLEU Score:  0.0181608494154393\n",
            "Actual Source: brushing with date stone  s powder also destroys odour \n",
            "Actual Target:  छुआरे की गुठली के चूर्ण से मंजन करने से साँस की दुर्गंध मिटती है ।\n",
            "Predicted:  यदि कोई जल्दी जल्दी जल्दी रखें ।\n",
            "Current BLEU Score:  0.06567274736060397\n",
            "Actual Source: reiki destroys the cause of disease from roots \n",
            "Actual Target:  रेकी बीमारी के कारण को जड़ मूल से नष्ट करती हैं\n",
            "Predicted:  डायबिटीज की रोशनी का टीका लगाना ।\n",
            "Current BLEU Score:  0\n",
            "Actual Source: worry  anger  greed  excitement and tension produces chaos in the organs and nerves of our body because of which many kinds of ailments occur in our blood vessels \n",
            "Actual Target:  चिन्ता  क्रोध  आतम  लोभ  उत्तेजना  और तनाव हमारे शरीर के अंगों एवं नाड़ियों मे हलचल पैदा करते देते हैं  जिससे हमारी रक्त धमनियों मे कई प्रकार के विकार हो जाते हैं ।\n",
            "Predicted:  पीतज्वर के अन्तर्गत भारत सरकार द्वारा स्थानीय रूप से मृत्यु दर से भी यानी और राष्ट्रीय स्तर पर गठित क्रय समिति के स्वास्थ्य हेतु स्वास्थ्य हेतु भर्ती करवा देना चाहिये ।\n",
            "Current BLEU Score:  0.011993481292529617\n",
            "Actual Source: physical disease is a result of these deformities \n",
            "Actual Target:  शारीरिक रोग इन्ही विकृतियों के परिणाम हैं ।\n",
            "Predicted:  कैंसर के कारण भी होने से भी दर्द होने से दर्द हो सकती है ।\n",
            "Current BLEU Score:  0.026279617104084448\n",
            "Actual Source: physical diseases are affected by mental diseases \n",
            "Actual Target:  शारीरिक रोग मानसिक रोगों से प्रभावित होते हैं ।\n",
            "Predicted:  कैंसर के कारण भी ।\n",
            "Current BLEU Score:  0.10682175159905853\n",
            "Actual Source: the symptoms of disease are excessive worry  sadness  remorse  depression  being seen more happy than needed  speaking more or staying completely silent  doubting  attempts to commit suicide \n",
            "Actual Target:  अत्याधिक चिंता  निराशा  आत्म ग्लानि  उदासीनता  जरुरत से ज्यादा खुश दिखना  बहुत बोलना या एक दम चुप रहना  संदेह करना  आत्महत्या के प्रयास बीमारी के लक्षण हैं ।\n",
            "Predicted:  पीतज्वर के कारण जीवन शैली में हुए परिवर्तनों से मृत्यु दर से भी कम बहुत अधिक पाया जाता है ।\n",
            "Current BLEU Score:  0.019146030690102515\n",
            "Actual Source: reiki is even capable of curing arthritis  asthma  cancer  blood pressure  palsy  ulcer  acidity  stone  piles  diabetes  sleeplessness  obesity  diseases of liver  diseases of eyes  gynaecological disease  infertility  powerlessness  madness \n",
            "Actual Target:  रेकी गठिया  दमा  कैंसर  रक्तचाप  फालिज  अल्सर  एसिडिटी  पथरी  बावासीर  मधुमेह  अनिद्रा  मोटापा  गुर्दे के रोग  आँखों के रोग  स्त्री रोग  बाँझपन  शक्तिन्युनता  पागलपन तक दूर करने मे समर्थ है ।\n",
            "Predicted:  पीतज्वर के कारण लैन्स और उल्टी या जर्दे से भी सेहत और दवा से अधिक निकलती है और फिर जाँच में कम करने की ओर जा सकता है ।\n",
            "Current BLEU Score:  0.012867130959609159\n",
            "Actual Source: the disease does not come suddenly in one day \n",
            "Actual Target:  बीमारी एक दिन मे अचानक नहीं आती है ।\n",
            "Predicted:  पीतज्वर के दौरान भारत में एक रूप से फैलता है ।\n",
            "Current BLEU Score:  0.03747776736677922\n",
            "Actual Source: it is possible to cure all the diseases through reiki apart from congenital diseases \n",
            "Actual Target:  जन्म जात बीमारी को छोड़ कर रेकी के द्वारा सभी बीमारियों का इलाज संभव है ।\n",
            "Predicted:  पीतज्वर के दौरान भारत सरकार से से भी सबसे रूप से भी जिला बार रूप से प्रभावित कर सकता है ।\n",
            "Current BLEU Score:  0.0181608494154393\n",
            "Actual Source: reiki destroys the disease from the root  uplifts the health standards  does not suppress the symptoms of the disease \n",
            "Actual Target:  रेकी बीमारी के कारण को जड़ मूल से नष्ट करती है  स्वास्थ्य स्तर को उठाती है  बीमारी के लक्षणों को दबाती नहीं है ।\n",
            "Predicted:  पीतज्वर के अन्तर्गत भारत सरकार से भारत सरकार से चलाया जा सकता है और फिर पैर की आवश्यकता है ।\n",
            "Current BLEU Score:  0.019146030690102515\n",
            "Actual Source: mental emotions are balanced and one gets rid of physical tension  restlessness and pain \n",
            "Actual Target:  रेकी के द्वारा मानसिक भावनाओं का संतुलन होता है और शारीरिक तनाव  बैचेनी व दर्द से छुटकारा मिलता जाता है ।\n",
            "Predicted:  यदि अधिक दिये गये निर्देश यौन जनित रोगों के कारण का अंगों की जाती है ।\n",
            "Current BLEU Score:  0.024455939372403618\n",
            "Actual Source: in heart everyone has the desire to become a good reiki channel \n",
            "Actual Target:  अच्छा रेकी चैनल बनने के लिये इच्छा सभी के मन मे होती है ।\n",
            "Predicted:  यदि कोई अधिक करने की सूची जहाँ कैंसर के कारण होती है ।\n",
            "Current BLEU Score:  0.03089055318156698\n",
            "Actual Source: mental peace and life generating power are needed to become a healer \n",
            "Actual Target:  हीलर बनने के लिया मानसिक शांति तथा जीवनदायिनी शक्ति की आवश्यकता होती है ।\n",
            "Predicted:  पीतज्वर के दौरान भारत सरकार से से भी उपलब्ध कराये हैं ।\n",
            "Current BLEU Score:  0.033864985683445356\n",
            "Actual Source: the meaning of healing is riddance from disease and the meaning of healer is that person who possesses the ability to cure diseases through supernatural power \n",
            "Actual Target:  हीलिंग का अर्थ है रोग मुक्ति तथा हीलर का अर्थ है वह व्यक्ति जो आलौकिक शक्ति द्वारा रोग ठीक कराने की शमता रखता हो ।\n",
            "Predicted:  पीतज्वर के कारण लैन्स और उल्टी या उल्टी या अमेरिकन प्लेग भी खाँसी या पेट की जाँच अवश्य हेतु द्वारा जैसी गतिविधियों मे ।\n",
            "Current BLEU Score:  0.015732934811145335\n",
            "Actual Source: the healer treats the diseased man through energy of hands \n",
            "Actual Target:  हीलर बीमार व्यक्ति का उपचार हाथों की ऊर्जा से करता है ।\n",
            "Predicted:  यदि आँखों के समय की मात्रा व मात्रा का प्रयोग होना ।\n",
            "Current BLEU Score:  0.040272481924218506\n",
            "Actual Source: tactile waves make the patient healthy \n",
            "Actual Target:  स्पर्श तरंगे रोगी को स्वस्थ करती हैं ।\n",
            "Predicted:  डायबिटीज की कमी का उपयोग ।\n",
            "Current BLEU Score:  0.08116697886877472\n",
            "Actual Source: qualities like devotion  faith  intimacy  endurance and practice are required then only he can become a successful healer \n",
            "Actual Target:  अच्छे चैनल मे श्रद्धा  विश्वास  आत्मीयता  सहनशक्ति तथा अभ्यास जैसे गुणों की आवश्यकता होती है तभी वह सफल उपचारक बन सकता है ।\n",
            "Predicted:  यदि मानसिक स्वास्थ्य कार्यक्रम के अन्तर्गत भारत सरकार से चलाया जा सकता है और फिर आप भी ओर लगाया जा सकता है ।\n",
            "Current BLEU Score:  0.016466642419110007\n",
            "Actual Source: the powerful energy released through expert hands of reiki guru meaning reiki grandmaster is called attunement \n",
            "Actual Target:  रेकी आचार्य अर्थात रेकी ग्रैंड मास्टर के सिद्ध हाथों के द्वारा दी जाने शक्तिशाली ऊर्जा शक्तिपात कही जाती है ।\n",
            "Predicted:  पीतज्वर के दौरान भारत सरकार से से भी परेशानी होती है ।\n",
            "Current BLEU Score:  0.033864985683445356\n",
            "Actual Source: reiki attunement is done in every course \n",
            "Actual Target:  रेकी शक्तिपात हर कोर्स मे किया जाता है ।\n",
            "Predicted:  घर के आसपास व जानकारी समझना ।\n",
            "Current BLEU Score:  0.05693025330278466\n",
            "Actual Source: the student gets connected to the omnipresent life source after attunement \n",
            "Actual Target:  शक्तिपात के बाद विद्यार्थी सर्व व्यापी प्राणशक्ति के स्रोत से जुड़ जाता है ।\n",
            "Predicted:  सोते समय मच्छरदानी लेने से सूजन व उल्टी होना ।\n",
            "Current BLEU Score:  0.049900497019368314\n",
            "Actual Source: reiki is a heavenly power which fills the hands of the channel with life \n",
            "Actual Target:  रेकी एक दैवीय शक्ति है जो चैनल के हाथो मे जीवन भर रहती है ।\n",
            "Predicted:  पीतज्वर के अन्तर्गत भारत सरकार से से भी क्षमता से भी दवा से प्रभावित करने की ओर लगाया जा सकता है ।\n",
            "Current BLEU Score:  0.017272237992167865\n",
            "Actual Source: reiki guru connects the student with the universal energy force through the attunement and his life gets transformed \n",
            "Actual Target:  शक्तिपात के द्वारा रेकी गुरू विद्यार्थी को ब्रह्मांडीय ऊर्जा शक्ति से जोड़ देता है और उसके जीवन का रूपांतरण हो जाता है ।\n",
            "Predicted:  पीतज्वर के आसपास व गैरसरकारी रूपों में उपलब्ध कराये हैं ।\n",
            "Current BLEU Score:  0.044568827606990644\n",
            "Actual Source: the more sensitive the man is faster he gets connected to the heavenly power \n",
            "Actual Target:  जो व्यक्ति जितना संवेदनशील होता है उतनी ही जल्दी वह दैवीय शक्ति से जुड़ जाता है ।\n",
            "Predicted:  पीतज्वर के दौरान भारत में द्वारा भी परेशानी होती है ।\n",
            "Current BLEU Score:  0.03747776736677922\n",
            "Actual Source: reiki attunement can also be done distantly \n",
            "Actual Target:  रेकी शक्तिपात दूरस्थ  distant attunement  भी किया जाता है ।\n",
            "Predicted:  घर में आँखों में क्षति ।\n",
            "Current BLEU Score:  0.08116697886877472\n",
            "Actual Source: the master who has the ability to make reiki master is called reiki grandmaster \n",
            "Actual Target:  रेकी मास्टर बनाने की क्षमता प्रदान करने वाले आचार्य को रेकी ग्रैंड मास्टर कहा जाता है ।\n",
            "Predicted:  पीतज्वर के अन्तर्गत भारत सरकार से से भी उपलब्ध कराये हैं ।\n",
            "Current BLEU Score:  0.033864985683445356\n",
            "Actual Source: the highest course of reiki is reiki grandmastership \n",
            "Actual Target:  रेकी ग्रैंड मास्टरशिप रेकी का उच्चतम कोर्स है ।\n",
            "Predicted:  चमड़ी पर भौहों पर ठोड़ी पर कानों पर सूजन आ सकती है ।\n",
            "Current BLEU Score:  0.03089055318156698\n",
            "Actual Source: hundreds and thousands of students learn reiki but only those reach to the heights of reiki grandmastership who participate in  spread and advertise practice of reiki with full enthusiasm \n",
            "Actual Target:  सैकड़ो  हजारो विद्यार्थी रेकी सीखते हैं परन्तु  रेकी ग्रैंड मास्टरशिप  की ऊँचाई तक वे ही पहुँचते है जो रेकी के अभ्यास  प्रचार एवं प्रसार मे पूरे उत्साह से लगे रहते हैं ।\n",
            "Predicted:  पीतज्वर के दौरान भारत सरकार द्वारा अस्पताल में शैय्या की तुलना में एक बार माह के भीतर या जिला जाँच एवं गर्भ निरोधकों के लिए प्रेरित करना ।\n",
            "Current BLEU Score:  0.013353534059549447\n",
            "Actual Source: several symbols to increase power and energy is taught in reiki course \n",
            "Actual Target:  रेकी कोर्स मे शक्ति एवं ऊर्जा बढ़ाने वाले अनेक सिम्बल सिखाये जाते हैं ।\n",
            "Predicted:  पीतज्वर के दौरान भारत सरकार से से भी परेशानी होती है ।\n",
            "Current BLEU Score:  0.033864985683445356\n",
            "Actual Source: many symbols to activate agyachakra and to increase knowledge  wealth  victory  expression  completeness  love and attentiveness are taught \n",
            "Actual Target:  आज्ञा चक्र को खोलने वाला तथा विद्या  वैभव  प्रसन्नता  विजय  अभिव्यक्ति  पूर्णता  प्रेम  व ध्यान को बढ़ाने वाले अनके सिम्बल सिखाये जाते हैं ।\n",
            "Predicted:  पीतज्वर के दौरान भारत सरकार से से भी उपलब्ध कराने की चीजें देख सकता है ।\n",
            "Current BLEU Score:  0.024455939372403618\n",
            "Actual Source: to establish reiki energy in water is taught \n",
            "Actual Target:  रेकी ऊर्जा को जल में स्थापित करना सिखाया जाता हैं ।\n",
            "Predicted:  घर के आसपास व गैरसरकारी संस्थानों में भी जल्दी रखना ।\n",
            "Current BLEU Score:  0.03747776736677922\n",
            "Actual Source: the greek and american styles of winter cycle is taught \n",
            "Actual Target:  शक्ति चक्र की ग्रीक तथा अमेरिकन पद्धति सिखायी जाती है ।\n",
            "Predicted:  पीतज्वर के आसपास के काटने से भी भी किया जा सकता है ।\n",
            "Current BLEU Score:  0.03089055318156698\n",
            "Actual Source: the magnetic power of eyes is developed through tratak action \n",
            "Actual Target:  त्राटक क्रिया द्वारा नेत्रो की चुम्बकीय शक्ति का विकास किया जाता है ।\n",
            "Predicted:  घर के आसपास व गैरसरकारी संस्थानों में भी जल्दी रखना ।\n",
            "Current BLEU Score:  0.044568827606990644\n",
            "Actual Source: to make master grid  to do community treatment  knowledge attunement and memory attunement are taught too \n",
            "Actual Target:  मास्टर ग्रिड बनाना  सामूहिक उपचार करना  विद्या शक्तिपात तथा स्मृति शक्तिपात भी सिखाया जाता हैं ।\n",
            "Predicted:  पीतज्वर के दौरान भारत सरकार से से भी उपलब्ध कराने की चीजें देख सकता है ।\n",
            "Current BLEU Score:  0.024455939372403618\n",
            "Actual Source: reiki is a spiritual meditation in which there is growth of peace  balance and patience and the sense of duty towards mankind increases after becoming reiki grandmaster \n",
            "Actual Target:  रेकी एक आध्यात्मिक साधना हैं जिसमे शांन्ति संतुलन एवं धैर्य का विकास होता है ओर रेकी ग्रैंड मास्टर बन कर प्राणिमात्र के प्रति कर्तव्य बोध अधिक बढ़ जाता है ।\n",
            "Predicted:  पीतज्वर के कारण जीवन शैली में हुए परिवर्तनों से मृत्यु दर से भी मृत्यु दर के लिए प्रसव के लिए डॉक्टर की जाँच एवं गर्भ सामपन हेतु उचित सलाह का वितरण का शार्ट कोर्स जा सकता है ।\n",
            "Current BLEU Score:  0.009690943020099214\n",
            "Actual Source: every fifth person in india is a heart patient \n",
            "Actual Target:  भारत में हर पाँचवाँ व्यक्ति दिल का मरीज है ।\n",
            "Predicted:  डायबिटीज के कारण होने की जाँच करने की जाती है ।\n",
            "Current BLEU Score:  0.03747776736677922\n",
            "Actual Source: there is always a dilemma for heart patients as to which type of food they should eat and which type of food they should forsake \n",
            "Actual Target:  हृदय रोगियों को हमेशा यह उलझन रहती है कि वे किस प्रकार का भोजन करें या किस प्रकार के भोजन का त्याग करें ।\n",
            "Predicted:  यदि किसी जाँच के दौरान भारत में एक रूप से भी ढंग से भी जिला बार दिन के लिए प्रेरित करना ।\n",
            "Current BLEU Score:  0.017272237992167865\n",
            "Actual Source: in this relation heart disease specialists believe that the patients should take special advice in their food habits \n",
            "Actual Target:  इस संबंध में हृदय रोग विशेषज्ञों का मानना है कि रोगी को अपने खानपान में विशेष सलाह लेनी चाहिए ।\n",
            "Predicted:  यदि मानसिक स्वास्थ्य मच्छर के दौरान भाग में भी भी अधिक अंगों की सिफारिश की जाती है ।\n",
            "Current BLEU Score:  0.021476912089159056\n",
            "Actual Source: consumption of high cholesterol is dangerous for heart patients \n",
            "Actual Target:  अधिक कोलेस्ट्रॉल का सेवन हृदय रोगियों के लिए हानिकारक होता है ।\n",
            "Predicted:  डायबिटीज से रक्त तंत्र की रोशनी का टीका लगाया जा सकता है ।\n",
            "Current BLEU Score:  0.03089055318156698\n",
            "Actual Source: heart patient should use less salt  chilli and fried food or if possible should not use it \n",
            "Actual Target:   हृदय रोगी को नमक  मिर्च तथा तलेभुने भोजन का प्रयोग कम से कम करना चाहिए या हो सके तो नहीं करना चाहिए । \n",
            "Predicted:  यदि रक्त सिगरेट एवं बाल स्वास्थ्य कार्यक्रम का इस्तेमाल किया जा सकता है और फिर रक्त वाहिनियों पर जाते हैं ।\n",
            "Current BLEU Score:  0.0181608494154393\n",
            "Actual Source: the consumption of green leafy vegetables and fruits should be done in increased quantity \n",
            "Actual Target:  हरी पत्तेदार सब्जियों तथा फल का सेवन अधिक मात्रा में करना चाहिए ।\n",
            "Predicted:  यदि आँखों के समय की मात्रा व आहार का निकलना बंद हो जाती है ।\n",
            "Current BLEU Score:  0.031251907639724415\n",
            "Actual Source: if the heart patient consumes cigarettes  alcohol or other intoxicating substances then he should immediately stop consumption of these substances \n",
            "Actual Target:  यदि हृदय रोगी धूम्रपान  शराब या अन्य किसी नशीली वस्तु का सेवन करता है तो उसे शीघ्र ही इन पदार्थों का सेवन बंद कर देना चाहिए ।\n",
            "Predicted:  यदि रक्त सिगरेट एवं उल्टी आँखों की आवश्यकता है तो इसके कारण भी ।\n",
            "Current BLEU Score:  0.028398387225677897\n",
            "Actual Source: heart patients should eat ghee  butter  etc as less as possible \n",
            "Actual Target:  हृदय रोगी को घी  मक्खन इत्यादि का सेवन कम से कम करना चाहिए ।\n",
            "Predicted:  यदि जाँच निम्नलिखित के दौरान भाग में भी त्वचा की ओर लगाया जा सकता है ।\n",
            "Current BLEU Score:  0.024455939372403618\n",
            "Actual Source: heart patients should eat raspberry and garlic everyday \n",
            "Actual Target:  हृदय रोगी को आँवला तथा लहसुन का सेवन प्रतिदिन करना चाहिए ।\n",
            "Predicted:  किसी जाँच के कारण से भी परिवर्तन ।\n",
            "Current BLEU Score:  0.05522397783539471\n",
            "Actual Source: heart patients should especially consume apple jam \n",
            "Actual Target:  सेब के मुरब्बे का सेवन हृदय रोगियों को विशेषकर करना चाहिए ।\n",
            "Predicted:  यदि आँखों के समय से भी परिवर्तन ।\n",
            "Current BLEU Score:  0.05522397783539471\n",
            "Actual Source: the heart patient must include light exercises and morning walk in his daily routine \n",
            "Actual Target:  हृदय रोगी को हल्केफुल्के व्यायाम तथा सुबह की सैर को अपनी जीवनचर्या में अवश्य शामिल करना चाहिए ।\n",
            "Predicted:  यदि रक्त सिगरेट एवं बाल स्वास्थ्य कार्यक्रम का इस्तेमाल किया जा सकता है ।\n",
            "Current BLEU Score:  0.028398387225677897\n",
            "Actual Source: the heart patient should stay happy and should meditate for mental peace \n",
            "Actual Target:  हृदय रोगी को प्रसन्नचित्त रहना चाहिए तथा मानसिक शांति के लिए ध्यान करना चाहिए ।\n",
            "Predicted:  किसी जाँच के दौरान भाग की जाँच करने की जाँच अवश्य आदि की ओर रखना ।\n",
            "Current BLEU Score:  0.024455939372403618\n"
          ],
          "name": "stdout"
        },
        {
          "output_type": "error",
          "ename": "NameError",
          "evalue": "ignored",
          "traceback": [
            "\u001b[0;31m---------------------------------------------------------------------------\u001b[0m",
            "\u001b[0;31mNameError\u001b[0m                                 Traceback (most recent call last)",
            "\u001b[0;32m<ipython-input-42-a4b6f0c72122>\u001b[0m in \u001b[0;36m<module>\u001b[0;34m()\u001b[0m\n\u001b[1;32m     32\u001b[0m   \u001b[0mprint\u001b[0m\u001b[0;34m(\u001b[0m\u001b[0;34m\"Current BLEU Score: \"\u001b[0m\u001b[0;34m,\u001b[0m\u001b[0mcurr_bs\u001b[0m\u001b[0;34m)\u001b[0m\u001b[0;34m\u001b[0m\u001b[0;34m\u001b[0m\u001b[0m\n\u001b[1;32m     33\u001b[0m   \u001b[0;31m# break\u001b[0m\u001b[0;34m\u001b[0m\u001b[0;34m\u001b[0m\u001b[0;34m\u001b[0m\u001b[0m\n\u001b[0;32m---> 34\u001b[0;31m \u001b[0mprint\u001b[0m\u001b[0;34m(\u001b[0m\u001b[0;34m\"Overall BLEU Score: \"\u001b[0m\u001b[0;34m,\u001b[0m \u001b[0mbleu_score\u001b[0m\u001b[0;34m/\u001b[0m\u001b[0mlen\u001b[0m\u001b[0;34m(\u001b[0m\u001b[0mxtest\u001b[0m\u001b[0;34m[\u001b[0m\u001b[0;36m0\u001b[0m\u001b[0;34m]\u001b[0m\u001b[0;34m)\u001b[0m\u001b[0;34m)\u001b[0m\u001b[0;34m\u001b[0m\u001b[0;34m\u001b[0m\u001b[0m\n\u001b[0m",
            "\u001b[0;31mNameError\u001b[0m: name 'xtest' is not defined"
          ]
        }
      ]
    },
    {
      "cell_type": "code",
      "metadata": {
        "id": "WVa8uTCmA2Bj",
        "colab_type": "code",
        "colab": {}
      },
      "source": [
        ""
      ],
      "execution_count": 0,
      "outputs": []
    },
    {
      "cell_type": "code",
      "metadata": {
        "id": "YGFgGlw3A2EX",
        "colab_type": "code",
        "colab": {}
      },
      "source": [
        ""
      ],
      "execution_count": 0,
      "outputs": []
    },
    {
      "cell_type": "code",
      "metadata": {
        "id": "M6XjRaOPA2Gn",
        "colab_type": "code",
        "colab": {}
      },
      "source": [
        ""
      ],
      "execution_count": 0,
      "outputs": []
    },
    {
      "cell_type": "code",
      "metadata": {
        "id": "qYj04fc2A2I4",
        "colab_type": "code",
        "colab": {}
      },
      "source": [
        ""
      ],
      "execution_count": 0,
      "outputs": []
    },
    {
      "cell_type": "code",
      "metadata": {
        "id": "Nzt-okEAA2LO",
        "colab_type": "code",
        "colab": {}
      },
      "source": [
        ""
      ],
      "execution_count": 0,
      "outputs": []
    },
    {
      "cell_type": "code",
      "metadata": {
        "id": "ORxtOgvZA2PZ",
        "colab_type": "code",
        "colab": {}
      },
      "source": [
        ""
      ],
      "execution_count": 0,
      "outputs": []
    },
    {
      "cell_type": "code",
      "metadata": {
        "id": "o_Y7ghPrA2Rt",
        "colab_type": "code",
        "colab": {}
      },
      "source": [
        ""
      ],
      "execution_count": 0,
      "outputs": []
    },
    {
      "cell_type": "code",
      "metadata": {
        "id": "2cFCS_k4A2UF",
        "colab_type": "code",
        "colab": {}
      },
      "source": [
        ""
      ],
      "execution_count": 0,
      "outputs": []
    },
    {
      "cell_type": "code",
      "metadata": {
        "id": "fZo_sI8PA2WJ",
        "colab_type": "code",
        "colab": {}
      },
      "source": [
        ""
      ],
      "execution_count": 0,
      "outputs": []
    },
    {
      "cell_type": "code",
      "metadata": {
        "id": "9sV5DIeKA2ZE",
        "colab_type": "code",
        "colab": {}
      },
      "source": [
        ""
      ],
      "execution_count": 0,
      "outputs": []
    },
    {
      "cell_type": "code",
      "metadata": {
        "id": "cupV1ipvA2bc",
        "colab_type": "code",
        "colab": {}
      },
      "source": [
        ""
      ],
      "execution_count": 0,
      "outputs": []
    }
  ]
}