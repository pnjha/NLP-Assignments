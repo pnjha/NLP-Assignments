{
  "nbformat": 4,
  "nbformat_minor": 0,
  "metadata": {
    "kernelspec": {
      "name": "python3",
      "display_name": "Python 3"
    },
    "language_info": {
      "pygments_lexer": "ipython3",
      "nbconvert_exporter": "python",
      "version": "3.6.4",
      "file_extension": ".py",
      "codemirror_mode": {
        "name": "ipython",
        "version": 3
      },
      "name": "python",
      "mimetype": "text/x-python"
    },
    "colab": {
      "name": "nlp_2_3.ipynb",
      "provenance": [],
      "collapsed_sections": [],
      "include_colab_link": true
    },
    "accelerator": "GPU"
  },
  "cells": [
    {
      "cell_type": "markdown",
      "metadata": {
        "id": "view-in-github",
        "colab_type": "text"
      },
      "source": [
        "<a href=\"https://colab.research.google.com/github/pnjha/NLP-Assignments/blob/master/nlp_2_3.ipynb\" target=\"_parent\"><img src=\"https://colab.research.google.com/assets/colab-badge.svg\" alt=\"Open In Colab\"/></a>"
      ]
    },
    {
      "cell_type": "code",
      "metadata": {
        "trusted": true,
        "id": "T8cTiXcPVlVh",
        "colab_type": "code",
        "outputId": "ebe4675b-47e3-41ec-f879-55365836bfaf",
        "colab": {
          "base_uri": "https://localhost:8080/",
          "height": 574
        }
      },
      "source": [
        "pip install tensorflow-gpu==2.0.0-alpha0"
      ],
      "execution_count": 3,
      "outputs": [
        {
          "output_type": "stream",
          "text": [
            "Collecting tensorflow-gpu==2.0.0-alpha0\n",
            "\u001b[?25l  Downloading https://files.pythonhosted.org/packages/1a/66/32cffad095253219d53f6b6c2a436637bbe45ac4e7be0244557210dc3918/tensorflow_gpu-2.0.0a0-cp36-cp36m-manylinux1_x86_64.whl (332.1MB)\n",
            "\u001b[K     |████████████████████████████████| 332.1MB 49kB/s \n",
            "\u001b[?25hRequirement already satisfied: protobuf>=3.6.1 in /usr/local/lib/python3.6/dist-packages (from tensorflow-gpu==2.0.0-alpha0) (3.10.0)\n",
            "Requirement already satisfied: gast>=0.2.0 in /usr/local/lib/python3.6/dist-packages (from tensorflow-gpu==2.0.0-alpha0) (0.2.2)\n",
            "Requirement already satisfied: astor>=0.6.0 in /usr/local/lib/python3.6/dist-packages (from tensorflow-gpu==2.0.0-alpha0) (0.8.1)\n",
            "Collecting tf-estimator-nightly<1.14.0.dev2019030116,>=1.14.0.dev2019030115\n",
            "\u001b[?25l  Downloading https://files.pythonhosted.org/packages/13/82/f16063b4eed210dc2ab057930ac1da4fbe1e91b7b051a6c8370b401e6ae7/tf_estimator_nightly-1.14.0.dev2019030115-py2.py3-none-any.whl (411kB)\n",
            "\u001b[K     |████████████████████████████████| 419kB 41.9MB/s \n",
            "\u001b[?25hRequirement already satisfied: termcolor>=1.1.0 in /usr/local/lib/python3.6/dist-packages (from tensorflow-gpu==2.0.0-alpha0) (1.1.0)\n",
            "Requirement already satisfied: keras-preprocessing>=1.0.5 in /usr/local/lib/python3.6/dist-packages (from tensorflow-gpu==2.0.0-alpha0) (1.1.0)\n",
            "Requirement already satisfied: grpcio>=1.8.6 in /usr/local/lib/python3.6/dist-packages (from tensorflow-gpu==2.0.0-alpha0) (1.27.1)\n",
            "Requirement already satisfied: wheel>=0.26 in /usr/local/lib/python3.6/dist-packages (from tensorflow-gpu==2.0.0-alpha0) (0.34.2)\n",
            "Requirement already satisfied: keras-applications>=1.0.6 in /usr/local/lib/python3.6/dist-packages (from tensorflow-gpu==2.0.0-alpha0) (1.0.8)\n",
            "Requirement already satisfied: absl-py>=0.7.0 in /usr/local/lib/python3.6/dist-packages (from tensorflow-gpu==2.0.0-alpha0) (0.9.0)\n",
            "Requirement already satisfied: numpy<2.0,>=1.14.5 in /usr/local/lib/python3.6/dist-packages (from tensorflow-gpu==2.0.0-alpha0) (1.17.5)\n",
            "Collecting tb-nightly<1.14.0a20190302,>=1.14.0a20190301\n",
            "\u001b[?25l  Downloading https://files.pythonhosted.org/packages/a9/51/aa1d756644bf4624c03844115e4ac4058eff77acd786b26315f051a4b195/tb_nightly-1.14.0a20190301-py3-none-any.whl (3.0MB)\n",
            "\u001b[K     |████████████████████████████████| 3.0MB 58.3MB/s \n",
            "\u001b[?25hRequirement already satisfied: six>=1.10.0 in /usr/local/lib/python3.6/dist-packages (from tensorflow-gpu==2.0.0-alpha0) (1.12.0)\n",
            "Requirement already satisfied: google-pasta>=0.1.2 in /usr/local/lib/python3.6/dist-packages (from tensorflow-gpu==2.0.0-alpha0) (0.1.8)\n",
            "Requirement already satisfied: setuptools in /usr/local/lib/python3.6/dist-packages (from protobuf>=3.6.1->tensorflow-gpu==2.0.0-alpha0) (45.1.0)\n",
            "Requirement already satisfied: h5py in /usr/local/lib/python3.6/dist-packages (from keras-applications>=1.0.6->tensorflow-gpu==2.0.0-alpha0) (2.8.0)\n",
            "Requirement already satisfied: markdown>=2.6.8 in /usr/local/lib/python3.6/dist-packages (from tb-nightly<1.14.0a20190302,>=1.14.0a20190301->tensorflow-gpu==2.0.0-alpha0) (3.2.1)\n",
            "Requirement already satisfied: werkzeug>=0.11.15 in /usr/local/lib/python3.6/dist-packages (from tb-nightly<1.14.0a20190302,>=1.14.0a20190301->tensorflow-gpu==2.0.0-alpha0) (1.0.0)\n",
            "Installing collected packages: tf-estimator-nightly, tb-nightly, tensorflow-gpu\n",
            "Successfully installed tb-nightly-1.14.0a20190301 tensorflow-gpu-2.0.0a0 tf-estimator-nightly-1.14.0.dev2019030115\n"
          ],
          "name": "stdout"
        },
        {
          "output_type": "display_data",
          "data": {
            "application/vnd.colab-display-data+json": {
              "pip_warning": {
                "packages": [
                  "tensorboard",
                  "tensorflow",
                  "tensorflow_estimator"
                ]
              }
            }
          },
          "metadata": {
            "tags": []
          }
        }
      ]
    },
    {
      "cell_type": "code",
      "metadata": {
        "_uuid": "d629ff2d2480ee46fbb7e2d37f6b5fab8052498a",
        "_cell_guid": "79c7e3d0-c299-4dcb-8224-4455121ee9b0",
        "trusted": true,
        "id": "VS9QD04HVlVu",
        "colab_type": "code",
        "outputId": "610a50e2-b2e6-4cfb-abc5-84efcbe254b9",
        "colab": {
          "base_uri": "https://localhost:8080/",
          "height": 471
        }
      },
      "source": [
        "import unicodedata\n",
        "import pandas as pd\n",
        "import numpy as np\n",
        "import tensorflow as tf\n",
        "from matplotlib.pyplot import *\n",
        "import string\n",
        "from string import digits\n",
        "import matplotlib.pyplot as plt\n",
        "%matplotlib inline\n",
        "import re\n",
        "import copy\n",
        "import math\n",
        "import seaborn as sns; sns.set()\n",
        "import keras as keras\n",
        "from keras.optimizers import SGD\n",
        "from keras.initializers import RandomUniform\n",
        "from sklearn.utils import shuffle\n",
        "from sklearn.model_selection import train_test_split\n",
        "from tensorflow.keras.models import Sequential, Model, load_model\n",
        "from tensorflow.keras.layers import Embedding, Dense, LSTM, Input, Embedding, TimeDistributed, Flatten, Dropout, Activation, dot, concatenate, Bidirectional\n",
        "from keras.callbacks import ModelCheckpoint\n",
        "from nltk.translate.bleu_score import sentence_bleu\n",
        "from nltk.translate.bleu_score import SmoothingFunction"
      ],
      "execution_count": 1,
      "outputs": [
        {
          "output_type": "stream",
          "text": [
            "/usr/local/lib/python3.6/dist-packages/tensorflow/python/framework/dtypes.py:523: FutureWarning: Passing (type, 1) or '1type' as a synonym of type is deprecated; in a future version of numpy, it will be understood as (type, (1,)) / '(1,)type'.\n",
            "  _np_qint8 = np.dtype([(\"qint8\", np.int8, 1)])\n",
            "/usr/local/lib/python3.6/dist-packages/tensorflow/python/framework/dtypes.py:524: FutureWarning: Passing (type, 1) or '1type' as a synonym of type is deprecated; in a future version of numpy, it will be understood as (type, (1,)) / '(1,)type'.\n",
            "  _np_quint8 = np.dtype([(\"quint8\", np.uint8, 1)])\n",
            "/usr/local/lib/python3.6/dist-packages/tensorflow/python/framework/dtypes.py:525: FutureWarning: Passing (type, 1) or '1type' as a synonym of type is deprecated; in a future version of numpy, it will be understood as (type, (1,)) / '(1,)type'.\n",
            "  _np_qint16 = np.dtype([(\"qint16\", np.int16, 1)])\n",
            "/usr/local/lib/python3.6/dist-packages/tensorflow/python/framework/dtypes.py:526: FutureWarning: Passing (type, 1) or '1type' as a synonym of type is deprecated; in a future version of numpy, it will be understood as (type, (1,)) / '(1,)type'.\n",
            "  _np_quint16 = np.dtype([(\"quint16\", np.uint16, 1)])\n",
            "/usr/local/lib/python3.6/dist-packages/tensorflow/python/framework/dtypes.py:527: FutureWarning: Passing (type, 1) or '1type' as a synonym of type is deprecated; in a future version of numpy, it will be understood as (type, (1,)) / '(1,)type'.\n",
            "  _np_qint32 = np.dtype([(\"qint32\", np.int32, 1)])\n",
            "/usr/local/lib/python3.6/dist-packages/tensorflow/python/framework/dtypes.py:532: FutureWarning: Passing (type, 1) or '1type' as a synonym of type is deprecated; in a future version of numpy, it will be understood as (type, (1,)) / '(1,)type'.\n",
            "  np_resource = np.dtype([(\"resource\", np.ubyte, 1)])\n",
            "/usr/local/lib/python3.6/dist-packages/tensorboard/compat/tensorflow_stub/dtypes.py:541: FutureWarning: Passing (type, 1) or '1type' as a synonym of type is deprecated; in a future version of numpy, it will be understood as (type, (1,)) / '(1,)type'.\n",
            "  _np_qint8 = np.dtype([(\"qint8\", np.int8, 1)])\n",
            "/usr/local/lib/python3.6/dist-packages/tensorboard/compat/tensorflow_stub/dtypes.py:542: FutureWarning: Passing (type, 1) or '1type' as a synonym of type is deprecated; in a future version of numpy, it will be understood as (type, (1,)) / '(1,)type'.\n",
            "  _np_quint8 = np.dtype([(\"quint8\", np.uint8, 1)])\n",
            "/usr/local/lib/python3.6/dist-packages/tensorboard/compat/tensorflow_stub/dtypes.py:543: FutureWarning: Passing (type, 1) or '1type' as a synonym of type is deprecated; in a future version of numpy, it will be understood as (type, (1,)) / '(1,)type'.\n",
            "  _np_qint16 = np.dtype([(\"qint16\", np.int16, 1)])\n",
            "/usr/local/lib/python3.6/dist-packages/tensorboard/compat/tensorflow_stub/dtypes.py:544: FutureWarning: Passing (type, 1) or '1type' as a synonym of type is deprecated; in a future version of numpy, it will be understood as (type, (1,)) / '(1,)type'.\n",
            "  _np_quint16 = np.dtype([(\"quint16\", np.uint16, 1)])\n",
            "/usr/local/lib/python3.6/dist-packages/tensorboard/compat/tensorflow_stub/dtypes.py:545: FutureWarning: Passing (type, 1) or '1type' as a synonym of type is deprecated; in a future version of numpy, it will be understood as (type, (1,)) / '(1,)type'.\n",
            "  _np_qint32 = np.dtype([(\"qint32\", np.int32, 1)])\n",
            "/usr/local/lib/python3.6/dist-packages/tensorboard/compat/tensorflow_stub/dtypes.py:550: FutureWarning: Passing (type, 1) or '1type' as a synonym of type is deprecated; in a future version of numpy, it will be understood as (type, (1,)) / '(1,)type'.\n",
            "  np_resource = np.dtype([(\"resource\", np.ubyte, 1)])\n",
            "Using TensorFlow backend.\n"
          ],
          "name": "stderr"
        }
      ]
    },
    {
      "cell_type": "code",
      "metadata": {
        "id": "tXYXqlDlXDn6",
        "colab_type": "code",
        "outputId": "bab18051-42bb-47ff-f035-bb55585dd3be",
        "colab": {
          "base_uri": "https://localhost:8080/",
          "height": 34
        }
      },
      "source": [
        "tf.__version__"
      ],
      "execution_count": 2,
      "outputs": [
        {
          "output_type": "execute_result",
          "data": {
            "text/plain": [
              "'2.0.0-alpha0'"
            ]
          },
          "metadata": {
            "tags": []
          },
          "execution_count": 2
        }
      ]
    },
    {
      "cell_type": "code",
      "metadata": {
        "id": "tdP2oiBXXScN",
        "colab_type": "code",
        "outputId": "a487876d-fb67-4e9a-f4c4-f60e59c782af",
        "colab": {
          "base_uri": "https://localhost:8080/",
          "height": 52
        }
      },
      "source": [
        "from google.colab import drive\n",
        "drive.mount('/content/drive')\n",
        "%cd drive/My\\ Drive"
      ],
      "execution_count": 3,
      "outputs": [
        {
          "output_type": "stream",
          "text": [
            "Drive already mounted at /content/drive; to attempt to forcibly remount, call drive.mount(\"/content/drive\", force_remount=True).\n",
            "/content/drive/My Drive\n"
          ],
          "name": "stdout"
        }
      ]
    },
    {
      "cell_type": "code",
      "metadata": {
        "id": "R5Hm_SC9XToD",
        "colab_type": "code",
        "outputId": "88e441a0-f3af-4a88-b42c-335ba4bcfa17",
        "colab": {
          "base_uri": "https://localhost:8080/",
          "height": 380
        }
      },
      "source": [
        "X = pd.read_table('./NLA S20 - Assignment 2 Data/enghin/train.en', names=['src'])\n",
        "Y_in = pd.read_table('./NLA S20 - Assignment 2 Data/enghin/train.hi', names=['dest_in'])\n",
        "Y_out = pd.read_table('./NLA S20 - Assignment 2 Data/enghin/train.hi', names=['dest_out'])\n",
        "lines = pd.concat([X[:100],Y_in[:100],Y_out[:100]], axis=1)\n",
        "print(len(lines))\n",
        "# lines = shuffle(lines)\n",
        "lines.sample(10)"
      ],
      "execution_count": 4,
      "outputs": [
        {
          "output_type": "stream",
          "text": [
            "100\n"
          ],
          "name": "stdout"
        },
        {
          "output_type": "execute_result",
          "data": {
            "text/html": [
              "<div>\n",
              "<style scoped>\n",
              "    .dataframe tbody tr th:only-of-type {\n",
              "        vertical-align: middle;\n",
              "    }\n",
              "\n",
              "    .dataframe tbody tr th {\n",
              "        vertical-align: top;\n",
              "    }\n",
              "\n",
              "    .dataframe thead th {\n",
              "        text-align: right;\n",
              "    }\n",
              "</style>\n",
              "<table border=\"1\" class=\"dataframe\">\n",
              "  <thead>\n",
              "    <tr style=\"text-align: right;\">\n",
              "      <th></th>\n",
              "      <th>src</th>\n",
              "      <th>dest_in</th>\n",
              "      <th>dest_out</th>\n",
              "    </tr>\n",
              "  </thead>\n",
              "  <tbody>\n",
              "    <tr>\n",
              "      <th>98</th>\n",
              "      <td>Lymph nodes are connected to lymph arteries an...</td>\n",
              "      <td>लसीका ग्रन्थियाँ लसीका धमनियों द्वारा एक दूसरे...</td>\n",
              "      <td>लसीका ग्रन्थियाँ लसीका धमनियों द्वारा एक दूसरे...</td>\n",
              "    </tr>\n",
              "    <tr>\n",
              "      <th>8</th>\n",
              "      <td>The blindness caused by the black cataract can...</td>\n",
              "      <td>काले मोतियाबिंद से होने वाली अधंता अंधता को रो...</td>\n",
              "      <td>काले मोतियाबिंद से होने वाली अधंता अंधता को रो...</td>\n",
              "    </tr>\n",
              "    <tr>\n",
              "      <th>80</th>\n",
              "      <td>Cyst or swelling on breast or any other part o...</td>\n",
              "      <td>स्तन पर या शरीर में अन्य कहीं गाँठ या सूजन ।</td>\n",
              "      <td>स्तन पर या शरीर में अन्य कहीं गाँठ या सूजन ।</td>\n",
              "    </tr>\n",
              "    <tr>\n",
              "      <th>77</th>\n",
              "      <td>Details of some important symptoms are given b...</td>\n",
              "      <td>कुछ महत्वपूर्ण लक्षणों का विवरण नीचे दिया जा र...</td>\n",
              "      <td>कुछ महत्वपूर्ण लक्षणों का विवरण नीचे दिया जा र...</td>\n",
              "    </tr>\n",
              "    <tr>\n",
              "      <th>50</th>\n",
              "      <td>Shadowiness in seeing things nearby or at a di...</td>\n",
              "      <td>दूर अथवा नजदीक देखने में धुंधलापन सर में दर्द ...</td>\n",
              "      <td>दूर अथवा नजदीक देखने में धुंधलापन सर में दर्द ...</td>\n",
              "    </tr>\n",
              "    <tr>\n",
              "      <th>9</th>\n",
              "      <td>When the extra pressure is more in the eyes .</td>\n",
              "      <td>जब आँखों में अतिरिक्त दबाव ज्यादा हो ।</td>\n",
              "      <td>जब आँखों में अतिरिक्त दबाव ज्यादा हो ।</td>\n",
              "    </tr>\n",
              "    <tr>\n",
              "      <th>55</th>\n",
              "      <td>We progress towards development and getting ri...</td>\n",
              "      <td>जैसे-जैसे हम विकास की ओर अग्रसर हो रहे है एवं ...</td>\n",
              "      <td>जैसे-जैसे हम विकास की ओर अग्रसर हो रहे है एवं ...</td>\n",
              "    </tr>\n",
              "    <tr>\n",
              "      <th>6</th>\n",
              "      <td>No stitches are applied in the S . . . . -LRB-...</td>\n",
              "      <td>S.I.C.S ( Small Incision Cataract Surgry ) विध...</td>\n",
              "      <td>S.I.C.S ( Small Incision Cataract Surgry ) विध...</td>\n",
              "    </tr>\n",
              "    <tr>\n",
              "      <th>7</th>\n",
              "      <td>In black cataract the eye nerves dilapidates g...</td>\n",
              "      <td>काला मोतियाबिंद में नेत्र तंत्रिका धीरे -धीरे ...</td>\n",
              "      <td>काला मोतियाबिंद में नेत्र तंत्रिका धीरे -धीरे ...</td>\n",
              "    </tr>\n",
              "    <tr>\n",
              "      <th>20</th>\n",
              "      <td>Nyctalopia may occur due to lack of vitamin-A .</td>\n",
              "      <td>विटामिन-ए की कमी से रतौंधी हो सकती है ।</td>\n",
              "      <td>विटामिन-ए की कमी से रतौंधी हो सकती है ।</td>\n",
              "    </tr>\n",
              "  </tbody>\n",
              "</table>\n",
              "</div>"
            ],
            "text/plain": [
              "                                                  src  ...                                           dest_out\n",
              "98  Lymph nodes are connected to lymph arteries an...  ...  लसीका ग्रन्थियाँ लसीका धमनियों द्वारा एक दूसरे...\n",
              "8   The blindness caused by the black cataract can...  ...  काले मोतियाबिंद से होने वाली अधंता अंधता को रो...\n",
              "80  Cyst or swelling on breast or any other part o...  ...       स्तन पर या शरीर में अन्य कहीं गाँठ या सूजन ।\n",
              "77  Details of some important symptoms are given b...  ...  कुछ महत्वपूर्ण लक्षणों का विवरण नीचे दिया जा र...\n",
              "50  Shadowiness in seeing things nearby or at a di...  ...  दूर अथवा नजदीक देखने में धुंधलापन सर में दर्द ...\n",
              "9       When the extra pressure is more in the eyes .  ...             जब आँखों में अतिरिक्त दबाव ज्यादा हो ।\n",
              "55  We progress towards development and getting ri...  ...  जैसे-जैसे हम विकास की ओर अग्रसर हो रहे है एवं ...\n",
              "6   No stitches are applied in the S . . . . -LRB-...  ...  S.I.C.S ( Small Incision Cataract Surgry ) विध...\n",
              "7   In black cataract the eye nerves dilapidates g...  ...  काला मोतियाबिंद में नेत्र तंत्रिका धीरे -धीरे ...\n",
              "20    Nyctalopia may occur due to lack of vitamin-A .  ...            विटामिन-ए की कमी से रतौंधी हो सकती है ।\n",
              "\n",
              "[10 rows x 3 columns]"
            ]
          },
          "metadata": {
            "tags": []
          },
          "execution_count": 4
        }
      ]
    },
    {
      "cell_type": "code",
      "metadata": {
        "trusted": true,
        "id": "UG0m8dw0VlV_",
        "colab_type": "code",
        "colab": {}
      },
      "source": [
        "def process_data(data,append_char):\n",
        "    data = data.apply(lambda x: x.lower())\n",
        "    data = data.apply(lambda x: x.strip())\n",
        "    data = data.apply(lambda x: re.sub(\"'\", '', x))\n",
        "    exclude = set(string.punctuation) # Set of all special characters\n",
        "    data = data.apply(lambda x: ''.join(ch for ch in x if ch not in exclude))\n",
        "    remove_digits = str.maketrans('', '', digits)\n",
        "    data = data.apply(lambda x: x.translate(remove_digits))\n",
        "    if append_char == 1:\n",
        "        data = data.apply(lambda x : '<sos> '+ x)\n",
        "    elif append_char == 2:\n",
        "        data = data.apply(lambda x : x + ' <eos>')\n",
        "    return data"
      ],
      "execution_count": 0,
      "outputs": []
    },
    {
      "cell_type": "code",
      "metadata": {
        "trusted": true,
        "id": "IyxG22xlVlWI",
        "colab_type": "code",
        "outputId": "730adae9-a439-42c7-be35-885f431e5192",
        "colab": {
          "base_uri": "https://localhost:8080/",
          "height": 590
        }
      },
      "source": [
        "lines.src = process_data(lines.src,0)\n",
        "lines.dest_in = process_data(lines.dest_in,1)\n",
        "lines.dest_out = process_data(lines.dest_out,2)\n",
        "lines.src.sample(10),lines.dest_in.sample(10),lines.dest_out.sample(10)"
      ],
      "execution_count": 6,
      "outputs": [
        {
          "output_type": "execute_result",
          "data": {
            "text/plain": [
              "(79           any wound that do not heal in enough time \n",
              " 52             cancer is a lifestyle generated disease \n",
              " 5     in the s     lrb small incision cataract surge...\n",
              " 37    when the rays of light do not fall on the reti...\n",
              " 51          cylindrical glasses have to be worn always \n",
              " 65    in cancer cells multiply by itself and ignores...\n",
              " 46    headache  heaviness in the eyes  problem in re...\n",
              " 90    the need is to increase the knowledge about it...\n",
              " 32    about  to  percent of children become blind wi...\n",
              " 88    show these to the doctor if these symptoms sta...\n",
              " Name: src, dtype: object,\n",
              " 60    <sos> देश के सभी आंकडों का आंकलन कर देखा गया ह...\n",
              " 44    <sos> क्लास में विद्यार्थी श्यामपट के काफी नजद...\n",
              " 49    <sos> यदि कोई रोशनी की किरण आँख के पर्दे के आग...\n",
              " 23                   <sos> कम रोशनी में दिखाई देता है ।\n",
              " 78    <sos> गुर्दे में ऑक्जेलेट पत्थरी रही हो तो आगे...\n",
              " 64                    <sos> कैंसर एक बीमारी का नाम है ।\n",
              " 12    <sos> अंदर का दबाव बढ़ता जाता है और नेत्र तंत्...\n",
              " 87    <sos> अतः इन्हें देखते ही कैंसर नहीं मान लेना ...\n",
              " 67    <sos> कोशिका एक गिल्टी या घाव का रूप ले लेती ह...\n",
              " 77    <sos> कुछ महत्वपूर्ण लक्षणों का विवरण नीचे दिय...\n",
              " Name: dest_in, dtype: object,\n",
              " 19    विटामिनए की कमी खसरे तथा कुपोषण की स्थिति में ...\n",
              " 37    जब प्रकाश की किरणें दृष्टि पटल  रेटिना  पर नही...\n",
              " 70    सामान्यतः सुसाध्य ट्यूमरों को शल्यचिकित्सा द्व...\n",
              " 72    असाध्य ट्यूमर निकट के ऊतकों और अंगों को नष्ट क...\n",
              " 75    कैंसर का पता चलते ही इसका इलाज आरम्भ किया जा स...\n",
              " 86    वैसे  ऐसे लक्षण केवल कैंसर के कारण ही पैदा नही...\n",
              " 90    आवश्यकता है  इसके बारे में जानकारी बढ़ाने तथा ह...\n",
              " 96    ग्रीवा का कैंसर स्त्रियों में होने वाला एक आम ...\n",
              " 94    सामान्य परीक्षणों द्वारा कुछ प्रकार के कैंसर र...\n",
              " 51         सिलिंडरिकल ग्लासेस को हमेशा पहनना है । <eos>\n",
              " Name: dest_out, dtype: object)"
            ]
          },
          "metadata": {
            "tags": []
          },
          "execution_count": 6
        }
      ]
    },
    {
      "cell_type": "code",
      "metadata": {
        "id": "Oll9Tjfp9sgE",
        "colab_type": "code",
        "colab": {}
      },
      "source": [
        "def get_max_sentence_size(data):\n",
        "    max_len = 0\n",
        "    for line in data:\n",
        "        line = line.strip()\n",
        "        temp = line.split()\n",
        "        max_len = max(max_len, len(temp))\n",
        "    return max_len"
      ],
      "execution_count": 0,
      "outputs": []
    },
    {
      "cell_type": "code",
      "metadata": {
        "id": "kviHSwd59s7k",
        "colab_type": "code",
        "colab": {}
      },
      "source": [
        "src_max_len = get_max_sentence_size(lines.src)\n",
        "dest_max_len = get_max_sentence_size(lines.dest)\n",
        "src_max_len,dest_max_len"
      ],
      "execution_count": 0,
      "outputs": []
    },
    {
      "cell_type": "code",
      "metadata": {
        "trusted": true,
        "id": "hctS3GJPVlXq",
        "colab_type": "code",
        "colab": {}
      },
      "source": [
        "X, y_in, y_out = lines.src.values, lines.dest_in.values, lines.dest_out.values \n",
        "X_train, X_test, y_in_train, y_in_test, y_out_train, y_out_test = train_test_split(X, y_in, y_out, test_size = 0.2,shuffle=False)"
      ],
      "execution_count": 0,
      "outputs": []
    },
    {
      "cell_type": "code",
      "metadata": {
        "trusted": true,
        "id": "eHA43VgCVlX2",
        "colab_type": "code",
        "colab": {}
      },
      "source": [
        "src_tokenizer = tf.keras.preprocessing.text.Tokenizer(filters='')\n",
        "src_tokenizer.fit_on_texts(X_train)\n",
        "\n",
        "data_src = src_tokenizer.texts_to_sequences(X_train)\n",
        "data_src = tf.keras.preprocessing.sequence.pad_sequences(data_src,padding='post')\n",
        "\n",
        "# print(src_tokenizer.word_index)\n",
        "# print(data_src)\n",
        "# print(len(data_src[0]))"
      ],
      "execution_count": 0,
      "outputs": []
    },
    {
      "cell_type": "code",
      "metadata": {
        "trusted": true,
        "id": "nR6cH5nCVlYa",
        "colab_type": "code",
        "outputId": "e4280d17-51e0-4046-8a14-452cdf5a4a4c",
        "colab": {
          "base_uri": "https://localhost:8080/",
          "height": 52
        }
      },
      "source": [
        "dest_tokenizer = tf.keras.preprocessing.text.Tokenizer(filters='')\n",
        "\n",
        "dest_tokenizer.fit_on_texts(y_in_train)\n",
        "dest_tokenizer.fit_on_texts(y_out_train)\n",
        "\n",
        "data_dest_in = dest_tokenizer.texts_to_sequences(y_in_train)\n",
        "data_dest_in = tf.keras.preprocessing.sequence.pad_sequences(data_dest_in,padding='post')\n",
        "\n",
        "data_dest_out = dest_tokenizer.texts_to_sequences(y_out_train)\n",
        "data_dest_out = tf.keras.preprocessing.sequence.pad_sequences(data_dest_out,padding='post')\n",
        "\n",
        "print(data_dest_in.shape)\n",
        "print(data_dest_out.shape)"
      ],
      "execution_count": 9,
      "outputs": [
        {
          "output_type": "stream",
          "text": [
            "(80, 40)\n",
            "(80, 40)\n"
          ],
          "name": "stdout"
        }
      ]
    },
    {
      "cell_type": "code",
      "metadata": {
        "trusted": true,
        "id": "MbfbVZJ2VlYj",
        "colab_type": "code",
        "colab": {}
      },
      "source": [
        "class Encoder(tf.keras.Model):\n",
        "    def __init__(self, vocab_size, embedding_size, lstm_size):\n",
        "        super(Encoder, self).__init__()\n",
        "        self.lstm_size = lstm_size\n",
        "        self.embedding = tf.keras.layers.Embedding(vocab_size, embedding_size)\n",
        "        self.lstm_1 = tf.keras.layers.LSTM(lstm_size, return_sequences=True, return_state=True)\n",
        "        self.lstm_2 = tf.keras.layers.LSTM(lstm_size, return_sequences=True, return_state=True)\n",
        "\n",
        "    def call(self, sequence, states):\n",
        "        embed = self.embedding(sequence)\n",
        "        output, state_h, state_c = self.lstm_1(embed, initial_state=states)\n",
        "        output, state_h, state_c = self.lstm_2(output, initial_state=[state_h,state_c])\n",
        "        return output, state_h, state_c\n",
        "\n",
        "    def init_states(self, batch_size):\n",
        "        return (tf.zeros([batch_size, self.lstm_size]),\n",
        "                tf.zeros([batch_size, self.lstm_size]))"
      ],
      "execution_count": 0,
      "outputs": []
    },
    {
      "cell_type": "code",
      "metadata": {
        "id": "zQfpoKcUwkJ3",
        "colab_type": "code",
        "colab": {}
      },
      "source": [
        "class LuongAttention(tf.keras.Model):\n",
        "    def __init__(self, lstm_size):\n",
        "        super(LuongAttention, self).__init__()\n",
        "        self.wa = tf.keras.layers.Dense(lstm_size)\n",
        "\n",
        "    def call(self, decoder_output, encoder_output):\n",
        "        score = tf.matmul(decoder_output, self.wa(encoder_output), transpose_b=True)\n",
        "        attention_weights = tf.nn.softmax(score, axis=2)\n",
        "        context_vector = tf.matmul(attention_weights, encoder_output)\n",
        "        return context_vector, attention_weights"
      ],
      "execution_count": 0,
      "outputs": []
    },
    {
      "cell_type": "code",
      "metadata": {
        "id": "lUfY-c-NqQ-_",
        "colab_type": "code",
        "colab": {}
      },
      "source": [
        "class LuongAttentionDot(tf.keras.Model):\n",
        "    def __init__(self, lstm_size):\n",
        "        super(LuongAttentionDot, self).__init__()\n",
        "        self.wa = tf.keras.layers.Dense(lstm_size)\n",
        "\n",
        "    def call(self, decoder_output, encoder_output):\n",
        "        # Dot score: h_t (dot) Wa (dot) h_s\n",
        "        # encoder_output shape: (batch_size, max_len, lstm_size)\n",
        "        # decoder_output shape: (batch_size, 1, lstm_size)\n",
        "        # score will have shape: (batch_size, 1, max_len)\n",
        "        score = tf.matmul(decoder_output, encoder_output, transpose_b=True)\n",
        "        attention_weights = tf.nn.softmax(score, axis=2)\n",
        "        context_vector = tf.matmul(attention_weights, encoder_output)\n",
        "        return context_vector, attention_weights"
      ],
      "execution_count": 0,
      "outputs": []
    },
    {
      "cell_type": "code",
      "metadata": {
        "id": "_0bCsxa0dobg",
        "colab_type": "code",
        "colab": {}
      },
      "source": [
        "class BahdanauAttention(tf.keras.Model):\n",
        "  def __init__(self, lstm_size):\n",
        "    super(BahdanauAttention, self).__init__()\n",
        "    self.W1 = tf.keras.layers.Dense(lstm_size)\n",
        "    self.W2 = tf.keras.layers.Dense(lstm_size)\n",
        "    self.V = tf.keras.layers.Dense(1)\n",
        "\n",
        "  def call(self, decoder_output, encoder_output):\n",
        "    \n",
        "    score = self.V(tf.nn.tanh(self.W1(decoder_output) + self.W2(encoder_output)))\n",
        "    score = tf.transpose(score,perm=[0,2,1])\n",
        "    \n",
        "    attention_weights = tf.nn.softmax(score, axis=2)\n",
        "    context_vector = tf.matmul(attention_weights, encoder_output)\n",
        "\n",
        "    return context_vector, attention_weights"
      ],
      "execution_count": 0,
      "outputs": []
    },
    {
      "cell_type": "code",
      "metadata": {
        "trusted": true,
        "id": "WNCnftgdVlYp",
        "colab_type": "code",
        "colab": {}
      },
      "source": [
        "class Decoder(tf.keras.Model):\n",
        "    def __init__(self, vocab_size, embedding_size, lstm_size, attn_type):\n",
        "        super(Decoder, self).__init__()\n",
        "\n",
        "        if attn_type == 'LuongAttention':\n",
        "          self.attention = LuongAttention(lstm_size)\n",
        "        elif attn_type == 'LuongAttentionDot':\n",
        "          self.attention = LuongAttentionDot(lstm_size)\n",
        "        elif attn_type == 'BahdanauAttention':\n",
        "          self.attention = BahdanauAttention(lstm_size)\n",
        "\n",
        "        self.lstm_size = lstm_size\n",
        "        self.embedding = tf.keras.layers.Embedding(vocab_size, embedding_size)\n",
        "        self.lstm = tf.keras.layers.LSTM(lstm_size, return_sequences=True, return_state=True)\n",
        "        self.wc = tf.keras.layers.Dense(lstm_size, activation='tanh')\n",
        "        self.ws = tf.keras.layers.Dense(vocab_size)\n",
        "\n",
        "    def call(self, sequence, state, encoder_output):\n",
        "\n",
        "        embed = self.embedding(sequence)\n",
        "        \n",
        "        lstm_out, state_h, state_c = self.lstm(embed, initial_state=state)\n",
        "        context, alignment = self.attention(lstm_out, encoder_output)\n",
        "        lstm_out = tf.concat([tf.squeeze(context, 1), tf.squeeze(lstm_out, 1)], 1)\n",
        "\n",
        "        lstm_out = self.wc(lstm_out)\n",
        "        logits = self.ws(lstm_out)\n",
        "\n",
        "        return logits, state_h, state_c, alignment"
      ],
      "execution_count": 0,
      "outputs": []
    },
    {
      "cell_type": "code",
      "metadata": {
        "id": "ME_nQdjnYfAk",
        "colab_type": "code",
        "colab": {}
      },
      "source": [
        "BATCH_SIZE = 20\n",
        "EMBEDDING_SIZE = 256\n",
        "LSTM_SIZE = 256"
      ],
      "execution_count": 0,
      "outputs": []
    },
    {
      "cell_type": "code",
      "metadata": {
        "trusted": true,
        "id": "SQRK3GwjVlYd",
        "colab_type": "code",
        "outputId": "41b69217-f693-45c5-e5ca-6fba5b8867b1",
        "colab": {
          "base_uri": "https://localhost:8080/",
          "height": 34
        }
      },
      "source": [
        "dataset = tf.data.Dataset.from_tensor_slices((data_src, data_dest_in, data_dest_out))\n",
        "dataset = dataset.shuffle(20).batch(BATCH_SIZE)\n",
        "print(dataset)"
      ],
      "execution_count": 16,
      "outputs": [
        {
          "output_type": "stream",
          "text": [
            "<BatchDataset shapes: ((None, 42), (None, 40), (None, 40)), types: (tf.int32, tf.int32, tf.int32)>\n"
          ],
          "name": "stdout"
        }
      ]
    },
    {
      "cell_type": "code",
      "metadata": {
        "trusted": true,
        "id": "fNmuoKfFVlYu",
        "colab_type": "code",
        "colab": {}
      },
      "source": [
        "def get_model(attn_type):\n",
        "  src_vocab_size = len(src_tokenizer.word_index) + 1\n",
        "  dest_vocab_size = len(dest_tokenizer.word_index) + 1\n",
        "\n",
        "  encoder = Encoder(src_vocab_size, EMBEDDING_SIZE, LSTM_SIZE)\n",
        "  decoder = Decoder(dest_vocab_size, EMBEDDING_SIZE, LSTM_SIZE,attn_type)\n",
        "  return encoder, decoder"
      ],
      "execution_count": 0,
      "outputs": []
    },
    {
      "cell_type": "code",
      "metadata": {
        "trusted": true,
        "id": "7KWUdSdhVlYy",
        "colab_type": "code",
        "colab": {}
      },
      "source": [
        "def loss_func(targets, logits):\n",
        "    crossentropy = tf.keras.losses.SparseCategoricalCrossentropy(from_logits=True)\n",
        "    mask = tf.math.logical_not(tf.math.equal(targets, 0))\n",
        "    mask = tf.cast(mask, dtype=tf.int64)\n",
        "    loss = crossentropy(targets, logits, sample_weight=mask)\n",
        "\n",
        "    return loss"
      ],
      "execution_count": 0,
      "outputs": []
    },
    {
      "cell_type": "code",
      "metadata": {
        "trusted": true,
        "id": "JuoO4txGVlY3",
        "colab_type": "code",
        "colab": {}
      },
      "source": [
        "optimizer = tf.keras.optimizers.Adam()"
      ],
      "execution_count": 0,
      "outputs": []
    },
    {
      "cell_type": "code",
      "metadata": {
        "trusted": true,
        "id": "tyva_R0LVlY6",
        "colab_type": "code",
        "colab": {}
      },
      "source": [
        "def train_step(model,source_seq, target_seq_in, target_seq_out, en_initial_states):\n",
        "    loss = 0\n",
        "    encoder = model[\"encoder\"]\n",
        "    decoder = model[\"decoder\"]\n",
        "    with tf.GradientTape() as tape:\n",
        "        en_outputs = encoder(source_seq, en_initial_states)\n",
        "        en_states = en_outputs[1:]\n",
        "        de_state_h, de_state_c = en_states\n",
        "        \n",
        "        # We need to create a loop to iterate through the target sequences\n",
        "        for i in range(target_seq_out.shape[1]):\n",
        "            # Input to the decoder must have shape of (batch_size, length)\n",
        "            # so we need to expand one dimension\n",
        "            decoder_in = tf.expand_dims(target_seq_in[:, i], 1)\n",
        "            logit, de_state_h, de_state_c, _ = decoder(decoder_in, (de_state_h, de_state_c), en_outputs[0])\n",
        "            \n",
        "            # The loss is now accumulated through the whole batch\n",
        "            loss += loss_func(target_seq_out[:, i], logit)\n",
        "\n",
        "    variables = encoder.trainable_variables + decoder.trainable_variables\n",
        "    gradients = tape.gradient(loss, variables)\n",
        "    optimizer.apply_gradients(zip(gradients, variables))\n",
        "\n",
        "    return loss / target_seq_out.shape[1]"
      ],
      "execution_count": 0,
      "outputs": []
    },
    {
      "cell_type": "code",
      "metadata": {
        "trusted": true,
        "id": "I42H8EXJVlY_",
        "colab_type": "code",
        "colab": {}
      },
      "source": [
        "def predict(model,test_source_text):\n",
        "    test_source_seq = src_tokenizer.texts_to_sequences([test_source_text])\n",
        "\n",
        "    encoder = model[\"encoder\"]\n",
        "    decoder = model[\"decoder\"]\n",
        "\n",
        "    en_initial_states = encoder.init_states(1)\n",
        "    en_outputs = encoder(tf.constant(test_source_seq), en_initial_states)\n",
        "\n",
        "    de_input = tf.constant([[dest_tokenizer.word_index['<sos>']]])\n",
        "    de_state_h, de_state_c = en_outputs[1:]\n",
        "    out_words = []\n",
        "    alignments = []\n",
        "\n",
        "    while True:\n",
        "        de_output, de_state_h, de_state_c, alignment = decoder(\n",
        "            de_input, (de_state_h, de_state_c), en_outputs[0])\n",
        "        de_input = tf.expand_dims(tf.argmax(de_output, -1), 0)\n",
        "        try:\n",
        "          out_words.append(dest_tokenizer.index_word[de_input.numpy()[0][0]])\n",
        "        except:\n",
        "          out_words.append('<unk>')\n",
        "        alignments.append(alignment.numpy())\n",
        "\n",
        "        if out_words[-1] == '<eos>' or len(out_words) >= dest_max_len:\n",
        "            break\n",
        "\n",
        "    out_words = ' '.join(out_words)\n",
        "    return np.array(alignments), out_words"
      ],
      "execution_count": 0,
      "outputs": []
    },
    {
      "cell_type": "code",
      "metadata": {
        "trusted": true,
        "id": "LsPjpaeTVlZC",
        "colab_type": "code",
        "colab": {}
      },
      "source": [
        "def train_model(attn_type,NUM_EPOCHS):\n",
        "  encoder, decoder = get_model(attn_type)\n",
        "  model = {\"encoder\":encoder,\"decoder\":decoder}\n",
        "  loss_list = []\n",
        "  ep_list = []\n",
        "  for e in range(NUM_EPOCHS):\n",
        "      en_initial_states = encoder.init_states(BATCH_SIZE)\n",
        "\n",
        "      for batch, (source_seq, target_seq_in, target_seq_out) in enumerate(dataset.take(-1)):\n",
        "          loss = train_step(model, source_seq, target_seq_in,target_seq_out, en_initial_states)\n",
        "      \n",
        "      ep_list.append(e+1)\n",
        "      loss_list.append(loss.numpy())\n",
        "      print('Epoch {} Loss {:.8f}'.format(e + 1, loss.numpy()))\n",
        "  return encoder, decoder, loss_list, ep_list"
      ],
      "execution_count": 0,
      "outputs": []
    },
    {
      "cell_type": "code",
      "metadata": {
        "trusted": true,
        "id": "V68sDlbyVlZk",
        "colab_type": "code",
        "colab": {}
      },
      "source": [
        "def calculate_bleu_score(actual_string, predicted_string):\n",
        "    actual_string = copy.deepcopy(actual_string)\n",
        "    predicted_string = copy.deepcopy(predicted_string)\n",
        "    reference = re.split(\"\\s\",actual_string.strip())\n",
        "    candidate = re.split(\"\\s\",predicted_string.strip())\n",
        "    try:\n",
        "      reference.remove('<eos>')\n",
        "      candidate.remove('<sos>')\n",
        "    except:\n",
        "      pass\n",
        "    smoothie = SmoothingFunction().method4\n",
        "    score = sentence_bleu(reference, candidate, smoothing_function=smoothie)\n",
        "    return score"
      ],
      "execution_count": 0,
      "outputs": []
    },
    {
      "cell_type": "code",
      "metadata": {
        "id": "io7wptcmxdfy",
        "colab_type": "code",
        "colab": {}
      },
      "source": [
        "def plot_graph(xlist,ylist,xname,yname):\n",
        "  x = np.array(xlist)\n",
        "  y = np.array(ylist)\n",
        "  d = {xname: x, yname: y}\n",
        "  data = pd.DataFrame(d)\n",
        "  sns.lineplot(x=xname, y=yname,data = data)\n",
        "  plt.show()"
      ],
      "execution_count": 0,
      "outputs": []
    },
    {
      "cell_type": "code",
      "metadata": {
        "id": "1PkvNOsmdCu2",
        "colab_type": "code",
        "colab": {}
      },
      "source": [
        "def get_prediction(X,y,model):\n",
        "  for index,line in enumerate(X):\n",
        "    alignment, output = predict(model,line)\n",
        "    print(\"source: \",line)\n",
        "    print(\"actual: \",y[index])\n",
        "    print(\"predicted: \",output)\n",
        "    # print(\"BLEU Score: \",calculate_bleu_score(output,y[index]))\n",
        "    ax = sns.heatmap(alignment[:,0,0,:],linewidths=.2,cmap=\"YlGnBu\")\n",
        "    # print(type(alignment))\n",
        "    # print(alignment[:,0,0,:])\n",
        "    plt.show()"
      ],
      "execution_count": 0,
      "outputs": []
    },
    {
      "cell_type": "code",
      "metadata": {
        "id": "--YEfvR4x_7X",
        "colab_type": "code",
        "colab": {
          "base_uri": "https://localhost:8080/",
          "height": 1000
        },
        "outputId": "99179e22-3e63-489a-a9d2-07347449a2ca"
      },
      "source": [
        "attn_type = 'BahdanauAttention'\n",
        "# attn_type = 'LuongAttentionDot'\n",
        "# attn_type = 'LuongAttention'\n",
        "NUM_EPOCHS = 500\n",
        "encoder, decoder, loss_list,epoch_list = train_model(attn_type,NUM_EPOCHS)\n",
        "plot_graph(epoch_list,loss_list,\"Epochs\",\"Loss\")\n",
        "model = {\"encoder\":encoder,\"decoder\":decoder}\n",
        "# get_prediction(X_test,y_in_test)\n",
        "get_prediction(X_train,y_in_train, model)"
      ],
      "execution_count": 0,
      "outputs": [
        {
          "output_type": "stream",
          "text": [
            "WARNING:tensorflow:<tensorflow.python.keras.layers.recurrent.UnifiedLSTM object at 0x7f068c254c18>: Note that this layer is not optimized for performance. Please use tf.keras.layers.CuDNNLSTM for better performance on GPU.\n",
            "WARNING:tensorflow:<tensorflow.python.keras.layers.recurrent.UnifiedLSTM object at 0x7f068c083908>: Note that this layer is not optimized for performance. Please use tf.keras.layers.CuDNNLSTM for better performance on GPU.\n",
            "WARNING:tensorflow:<tensorflow.python.keras.layers.recurrent.UnifiedLSTM object at 0x7f068c0f5cc0>: Note that this layer is not optimized for performance. Please use tf.keras.layers.CuDNNLSTM for better performance on GPU.\n",
            "Epoch 1 Loss 2.29289508\n",
            "Epoch 2 Loss 2.13742495\n",
            "Epoch 3 Loss 2.06380534\n",
            "Epoch 4 Loss 2.02519774\n",
            "Epoch 5 Loss 1.95744324\n",
            "Epoch 6 Loss 1.89152110\n",
            "Epoch 7 Loss 1.82661378\n",
            "Epoch 8 Loss 1.75454676\n",
            "Epoch 9 Loss 1.68535638\n",
            "Epoch 10 Loss 1.62417567\n",
            "Epoch 11 Loss 1.54787230\n",
            "Epoch 12 Loss 1.46967530\n",
            "Epoch 13 Loss 1.41417575\n",
            "Epoch 14 Loss 1.32015181\n",
            "Epoch 15 Loss 1.25749755\n",
            "Epoch 16 Loss 1.16414714\n",
            "Epoch 17 Loss 1.08657336\n",
            "Epoch 18 Loss 1.00758374\n",
            "Epoch 19 Loss 0.92872316\n",
            "Epoch 20 Loss 0.85688150\n",
            "Epoch 21 Loss 0.78624099\n",
            "Epoch 22 Loss 0.71859533\n",
            "Epoch 23 Loss 0.66538274\n",
            "Epoch 24 Loss 0.60754317\n",
            "Epoch 25 Loss 0.54744273\n",
            "Epoch 26 Loss 0.50571066\n",
            "Epoch 27 Loss 0.45752302\n",
            "Epoch 28 Loss 0.41299266\n",
            "Epoch 29 Loss 0.37466058\n",
            "Epoch 30 Loss 0.34621236\n",
            "Epoch 31 Loss 0.31456277\n",
            "Epoch 32 Loss 0.28933471\n",
            "Epoch 33 Loss 0.26546124\n",
            "Epoch 34 Loss 0.24654397\n",
            "Epoch 35 Loss 0.22801813\n",
            "Epoch 36 Loss 0.21199176\n",
            "Epoch 37 Loss 0.19675255\n",
            "Epoch 38 Loss 0.18438688\n",
            "Epoch 39 Loss 0.17280588\n",
            "Epoch 40 Loss 0.16520469\n",
            "Epoch 41 Loss 0.15769026\n",
            "Epoch 42 Loss 0.14919935\n",
            "Epoch 43 Loss 0.14139006\n",
            "Epoch 44 Loss 0.13476104\n",
            "Epoch 45 Loss 0.12860417\n",
            "Epoch 46 Loss 0.12244161\n",
            "Epoch 47 Loss 0.11841059\n",
            "Epoch 48 Loss 0.11315437\n",
            "Epoch 49 Loss 0.10936819\n",
            "Epoch 50 Loss 0.10442923\n",
            "Epoch 51 Loss 0.10135657\n",
            "Epoch 52 Loss 0.09727843\n",
            "Epoch 53 Loss 0.09563719\n",
            "Epoch 54 Loss 0.09268896\n",
            "Epoch 55 Loss 0.09335093\n",
            "Epoch 56 Loss 0.08970080\n",
            "Epoch 57 Loss 0.08805083\n",
            "Epoch 58 Loss 0.08245943\n",
            "Epoch 59 Loss 0.07889301\n",
            "Epoch 60 Loss 0.07864811\n",
            "Epoch 61 Loss 0.07554606\n",
            "Epoch 62 Loss 0.07447381\n",
            "Epoch 63 Loss 0.07180725\n",
            "Epoch 64 Loss 0.06975956\n",
            "Epoch 65 Loss 0.06624862\n",
            "Epoch 66 Loss 0.06447350\n",
            "Epoch 67 Loss 0.06288730\n",
            "Epoch 68 Loss 0.06110234\n",
            "Epoch 69 Loss 0.05973660\n",
            "Epoch 70 Loss 0.05837961\n",
            "Epoch 71 Loss 0.05721967\n",
            "Epoch 72 Loss 0.05551605\n",
            "Epoch 73 Loss 0.05434877\n",
            "Epoch 74 Loss 0.05268512\n",
            "Epoch 75 Loss 0.05152036\n",
            "Epoch 76 Loss 0.05015963\n",
            "Epoch 77 Loss 0.04944576\n",
            "Epoch 78 Loss 0.04862723\n",
            "Epoch 79 Loss 0.04936653\n",
            "Epoch 80 Loss 0.04660444\n",
            "Epoch 81 Loss 0.04645769\n",
            "Epoch 82 Loss 0.04530903\n",
            "Epoch 83 Loss 0.04413217\n",
            "Epoch 84 Loss 0.04289836\n",
            "Epoch 85 Loss 0.04158431\n",
            "Epoch 86 Loss 0.04554597\n",
            "Epoch 87 Loss 0.04536365\n",
            "Epoch 88 Loss 0.04970035\n",
            "Epoch 89 Loss 0.04968060\n",
            "Epoch 90 Loss 0.05380140\n",
            "Epoch 91 Loss 0.06063510\n",
            "Epoch 92 Loss 0.05105431\n",
            "Epoch 93 Loss 0.04431038\n",
            "Epoch 94 Loss 0.04159569\n",
            "Epoch 95 Loss 0.04219394\n",
            "Epoch 96 Loss 0.03878807\n",
            "Epoch 97 Loss 0.03719110\n",
            "Epoch 98 Loss 0.03487835\n",
            "Epoch 99 Loss 0.03378429\n",
            "Epoch 100 Loss 0.03287669\n",
            "Epoch 101 Loss 0.03160246\n",
            "Epoch 102 Loss 0.03081128\n",
            "Epoch 103 Loss 0.03008468\n",
            "Epoch 104 Loss 0.02929590\n",
            "Epoch 105 Loss 0.02864711\n",
            "Epoch 106 Loss 0.02793973\n",
            "Epoch 107 Loss 0.02734653\n",
            "Epoch 108 Loss 0.02687442\n",
            "Epoch 109 Loss 0.02629142\n",
            "Epoch 110 Loss 0.02602356\n",
            "Epoch 111 Loss 0.02647707\n",
            "Epoch 112 Loss 0.02624982\n",
            "Epoch 113 Loss 0.03230255\n",
            "Epoch 114 Loss 0.02708038\n",
            "Epoch 115 Loss 0.02626294\n",
            "Epoch 116 Loss 0.02617536\n",
            "Epoch 117 Loss 0.02542466\n",
            "Epoch 118 Loss 0.02440428\n",
            "Epoch 119 Loss 0.02354207\n",
            "Epoch 120 Loss 0.02349903\n",
            "Epoch 121 Loss 0.02264557\n",
            "Epoch 122 Loss 0.02182220\n",
            "Epoch 123 Loss 0.02160833\n",
            "Epoch 124 Loss 0.02161556\n",
            "Epoch 125 Loss 0.02168623\n",
            "Epoch 126 Loss 0.02081259\n",
            "Epoch 127 Loss 0.02014294\n",
            "Epoch 128 Loss 0.02002220\n",
            "Epoch 129 Loss 0.01935864\n",
            "Epoch 130 Loss 0.01895902\n",
            "Epoch 131 Loss 0.01866959\n",
            "Epoch 132 Loss 0.01848107\n",
            "Epoch 133 Loss 0.01826909\n",
            "Epoch 134 Loss 0.01799968\n",
            "Epoch 135 Loss 0.01801259\n",
            "Epoch 136 Loss 0.01742131\n",
            "Epoch 137 Loss 0.01705230\n",
            "Epoch 138 Loss 0.01681766\n",
            "Epoch 139 Loss 0.01659283\n",
            "Epoch 140 Loss 0.01625787\n",
            "Epoch 141 Loss 0.01604563\n",
            "Epoch 142 Loss 0.01581510\n",
            "Epoch 143 Loss 0.01561089\n",
            "Epoch 144 Loss 0.01540768\n",
            "Epoch 145 Loss 0.01563110\n",
            "Epoch 146 Loss 0.01494827\n",
            "Epoch 147 Loss 0.01473111\n",
            "Epoch 148 Loss 0.01512053\n",
            "Epoch 149 Loss 0.01462866\n",
            "Epoch 150 Loss 0.01445250\n",
            "Epoch 151 Loss 0.01411367\n",
            "Epoch 152 Loss 0.01375783\n",
            "Epoch 153 Loss 0.01362129\n",
            "Epoch 154 Loss 0.01341532\n",
            "Epoch 155 Loss 0.01309199\n",
            "Epoch 156 Loss 0.01294253\n",
            "Epoch 157 Loss 0.01273646\n",
            "Epoch 158 Loss 0.01262934\n",
            "Epoch 159 Loss 0.01237229\n",
            "Epoch 160 Loss 0.01198165\n",
            "Epoch 161 Loss 0.01154482\n",
            "Epoch 162 Loss 0.01207147\n",
            "Epoch 163 Loss 0.01323586\n",
            "Epoch 164 Loss 0.01898697\n",
            "Epoch 165 Loss 0.01448263\n",
            "Epoch 166 Loss 0.01626982\n",
            "Epoch 167 Loss 0.01515502\n",
            "Epoch 168 Loss 0.01725998\n",
            "Epoch 169 Loss 0.01489000\n",
            "Epoch 170 Loss 0.02626807\n",
            "Epoch 171 Loss 0.02455461\n",
            "Epoch 172 Loss 0.02728275\n",
            "Epoch 173 Loss 0.01758071\n",
            "Epoch 174 Loss 0.01680352\n",
            "Epoch 175 Loss 0.01498371\n",
            "Epoch 176 Loss 0.01482105\n",
            "Epoch 177 Loss 0.01352700\n",
            "Epoch 178 Loss 0.01238695\n",
            "Epoch 179 Loss 0.01170596\n",
            "Epoch 180 Loss 0.01103208\n",
            "Epoch 181 Loss 0.01036481\n",
            "Epoch 182 Loss 0.00984408\n",
            "Epoch 183 Loss 0.00990670\n",
            "Epoch 184 Loss 0.00962567\n",
            "Epoch 185 Loss 0.01033414\n",
            "Epoch 186 Loss 0.00875262\n",
            "Epoch 187 Loss 0.00965206\n",
            "Epoch 188 Loss 0.01037988\n",
            "Epoch 189 Loss 0.00944703\n",
            "Epoch 190 Loss 0.00815635\n",
            "Epoch 191 Loss 0.00814151\n",
            "Epoch 192 Loss 0.00833670\n",
            "Epoch 193 Loss 0.00774433\n",
            "Epoch 194 Loss 0.00769947\n",
            "Epoch 195 Loss 0.00765321\n",
            "Epoch 196 Loss 0.00746147\n",
            "Epoch 197 Loss 0.00748177\n",
            "Epoch 198 Loss 0.00751294\n",
            "Epoch 199 Loss 0.00728960\n",
            "Epoch 200 Loss 0.00706213\n",
            "Epoch 201 Loss 0.00706792\n",
            "Epoch 202 Loss 0.00696297\n",
            "Epoch 203 Loss 0.00682629\n",
            "Epoch 204 Loss 0.00673127\n",
            "Epoch 205 Loss 0.00665526\n",
            "Epoch 206 Loss 0.00658036\n",
            "Epoch 207 Loss 0.00646233\n",
            "Epoch 208 Loss 0.00636340\n",
            "Epoch 209 Loss 0.00627698\n",
            "Epoch 210 Loss 0.00618040\n",
            "Epoch 211 Loss 0.00606147\n",
            "Epoch 212 Loss 0.00594746\n",
            "Epoch 213 Loss 0.00589438\n",
            "Epoch 214 Loss 0.00587070\n",
            "Epoch 215 Loss 0.00579062\n",
            "Epoch 216 Loss 0.00567199\n",
            "Epoch 217 Loss 0.00558229\n",
            "Epoch 218 Loss 0.00552638\n",
            "Epoch 219 Loss 0.00542310\n",
            "Epoch 220 Loss 0.00535470\n",
            "Epoch 221 Loss 0.00529794\n",
            "Epoch 222 Loss 0.00523624\n",
            "Epoch 223 Loss 0.00516814\n",
            "Epoch 224 Loss 0.00509860\n",
            "Epoch 225 Loss 0.00503360\n",
            "Epoch 226 Loss 0.00496812\n",
            "Epoch 227 Loss 0.00489881\n",
            "Epoch 228 Loss 0.00483586\n",
            "Epoch 229 Loss 0.00477351\n",
            "Epoch 230 Loss 0.00470894\n",
            "Epoch 231 Loss 0.00464964\n",
            "Epoch 232 Loss 0.00458759\n",
            "Epoch 233 Loss 0.00452949\n",
            "Epoch 234 Loss 0.00446841\n",
            "Epoch 235 Loss 0.00440121\n",
            "Epoch 236 Loss 0.00433331\n",
            "Epoch 237 Loss 0.00426529\n",
            "Epoch 238 Loss 0.00420000\n",
            "Epoch 239 Loss 0.00413798\n",
            "Epoch 240 Loss 0.00407410\n",
            "Epoch 241 Loss 0.00400612\n",
            "Epoch 242 Loss 0.00393427\n",
            "Epoch 243 Loss 0.00386925\n",
            "Epoch 244 Loss 0.00380844\n",
            "Epoch 245 Loss 0.00375614\n",
            "Epoch 246 Loss 0.00369735\n",
            "Epoch 247 Loss 0.00558610\n",
            "Epoch 248 Loss 0.01012453\n",
            "Epoch 249 Loss 0.01189496\n",
            "Epoch 250 Loss 0.00810946\n",
            "Epoch 251 Loss 0.00661504\n",
            "Epoch 252 Loss 0.00681742\n",
            "Epoch 253 Loss 0.00473593\n",
            "Epoch 254 Loss 0.00455914\n",
            "Epoch 255 Loss 0.00469836\n",
            "Epoch 256 Loss 0.00469157\n",
            "Epoch 257 Loss 0.00436172\n",
            "Epoch 258 Loss 0.00423111\n",
            "Epoch 259 Loss 0.00419018\n",
            "Epoch 260 Loss 0.00380036\n",
            "Epoch 261 Loss 0.00386196\n",
            "Epoch 262 Loss 0.00395597\n",
            "Epoch 263 Loss 0.00370474\n",
            "Epoch 264 Loss 0.00380705\n",
            "Epoch 265 Loss 0.00360056\n",
            "Epoch 266 Loss 0.00353730\n",
            "Epoch 267 Loss 0.00378671\n",
            "Epoch 268 Loss 0.00328166\n",
            "Epoch 269 Loss 0.00329795\n",
            "Epoch 270 Loss 0.00379635\n",
            "Epoch 271 Loss 0.00337377\n",
            "Epoch 272 Loss 0.00302402\n",
            "Epoch 273 Loss 0.00301080\n",
            "Epoch 274 Loss 0.00307207\n",
            "Epoch 275 Loss 0.00302141\n",
            "Epoch 276 Loss 0.00287363\n",
            "Epoch 277 Loss 0.00274935\n",
            "Epoch 278 Loss 0.00271057\n",
            "Epoch 279 Loss 0.00269427\n",
            "Epoch 280 Loss 0.00266615\n",
            "Epoch 281 Loss 0.00261218\n",
            "Epoch 282 Loss 0.00255004\n",
            "Epoch 283 Loss 0.00249666\n",
            "Epoch 284 Loss 0.00245385\n",
            "Epoch 285 Loss 0.00241526\n",
            "Epoch 286 Loss 0.00237438\n",
            "Epoch 287 Loss 0.00232930\n",
            "Epoch 288 Loss 0.00227798\n",
            "Epoch 289 Loss 0.00221287\n",
            "Epoch 290 Loss 0.00216354\n",
            "Epoch 291 Loss 0.00214003\n",
            "Epoch 292 Loss 0.00211378\n",
            "Epoch 293 Loss 0.00209983\n",
            "Epoch 294 Loss 0.00208521\n",
            "Epoch 295 Loss 0.00206094\n",
            "Epoch 296 Loss 0.00203889\n",
            "Epoch 297 Loss 0.00202101\n",
            "Epoch 298 Loss 0.00200648\n",
            "Epoch 299 Loss 0.00199689\n",
            "Epoch 300 Loss 0.00196273\n",
            "Epoch 301 Loss 0.00193502\n",
            "Epoch 302 Loss 0.00191119\n",
            "Epoch 303 Loss 0.00188786\n",
            "Epoch 304 Loss 0.00186551\n",
            "Epoch 305 Loss 0.00184370\n",
            "Epoch 306 Loss 0.00182275\n",
            "Epoch 307 Loss 0.00180257\n",
            "Epoch 308 Loss 0.00178425\n",
            "Epoch 309 Loss 0.00176662\n",
            "Epoch 310 Loss 0.00174944\n",
            "Epoch 311 Loss 0.00173210\n",
            "Epoch 312 Loss 0.00171517\n",
            "Epoch 313 Loss 0.00169912\n",
            "Epoch 314 Loss 0.00168307\n",
            "Epoch 315 Loss 0.00166732\n",
            "Epoch 316 Loss 0.00165181\n",
            "Epoch 317 Loss 0.00163653\n",
            "Epoch 318 Loss 0.00162217\n",
            "Epoch 319 Loss 0.00160833\n",
            "Epoch 320 Loss 0.00159425\n",
            "Epoch 321 Loss 0.00158126\n",
            "Epoch 322 Loss 0.00156872\n",
            "Epoch 323 Loss 0.00155601\n",
            "Epoch 324 Loss 0.00154272\n",
            "Epoch 325 Loss 0.00153086\n",
            "Epoch 326 Loss 0.00151880\n",
            "Epoch 327 Loss 0.00150704\n",
            "Epoch 328 Loss 0.00149473\n",
            "Epoch 329 Loss 0.00148239\n",
            "Epoch 330 Loss 0.00147133\n",
            "Epoch 331 Loss 0.00145981\n",
            "Epoch 332 Loss 0.00144877\n",
            "Epoch 333 Loss 0.00143743\n",
            "Epoch 334 Loss 0.00142710\n",
            "Epoch 335 Loss 0.00141624\n",
            "Epoch 336 Loss 0.00140588\n",
            "Epoch 337 Loss 0.00139532\n",
            "Epoch 338 Loss 0.00138538\n",
            "Epoch 339 Loss 0.00137516\n",
            "Epoch 340 Loss 0.00136528\n",
            "Epoch 341 Loss 0.00135547\n",
            "Epoch 342 Loss 0.00134591\n",
            "Epoch 343 Loss 0.00133638\n",
            "Epoch 344 Loss 0.00132702\n",
            "Epoch 345 Loss 0.00131781\n",
            "Epoch 346 Loss 0.00130868\n",
            "Epoch 347 Loss 0.00129969\n",
            "Epoch 348 Loss 0.00129081\n",
            "Epoch 349 Loss 0.00128205\n",
            "Epoch 350 Loss 0.00127339\n",
            "Epoch 351 Loss 0.00126484\n",
            "Epoch 352 Loss 0.00125640\n",
            "Epoch 353 Loss 0.00124805\n",
            "Epoch 354 Loss 0.00123980\n",
            "Epoch 355 Loss 0.00123165\n",
            "Epoch 356 Loss 0.00122360\n",
            "Epoch 357 Loss 0.00121564\n",
            "Epoch 358 Loss 0.00120776\n",
            "Epoch 359 Loss 0.00119998\n",
            "Epoch 360 Loss 0.00119229\n",
            "Epoch 361 Loss 0.00118468\n",
            "Epoch 362 Loss 0.00117716\n",
            "Epoch 363 Loss 0.00116972\n",
            "Epoch 364 Loss 0.00116236\n",
            "Epoch 365 Loss 0.00115508\n",
            "Epoch 366 Loss 0.00114788\n",
            "Epoch 367 Loss 0.00114076\n",
            "Epoch 368 Loss 0.00113371\n",
            "Epoch 369 Loss 0.00112673\n",
            "Epoch 370 Loss 0.00111983\n",
            "Epoch 371 Loss 0.00111299\n",
            "Epoch 372 Loss 0.00110623\n",
            "Epoch 373 Loss 0.00109954\n",
            "Epoch 374 Loss 0.00109292\n",
            "Epoch 375 Loss 0.00108636\n",
            "Epoch 376 Loss 0.00107987\n",
            "Epoch 377 Loss 0.00107344\n",
            "Epoch 378 Loss 0.00106707\n",
            "Epoch 379 Loss 0.00106077\n",
            "Epoch 380 Loss 0.00105453\n",
            "Epoch 381 Loss 0.00104835\n",
            "Epoch 382 Loss 0.00104223\n",
            "Epoch 383 Loss 0.00103617\n",
            "Epoch 384 Loss 0.00103016\n",
            "Epoch 385 Loss 0.00102421\n",
            "Epoch 386 Loss 0.00101832\n",
            "Epoch 387 Loss 0.00101248\n",
            "Epoch 388 Loss 0.00100670\n",
            "Epoch 389 Loss 0.00100098\n",
            "Epoch 390 Loss 0.00099529\n",
            "Epoch 391 Loss 0.00098967\n",
            "Epoch 392 Loss 0.00098409\n",
            "Epoch 393 Loss 0.00097857\n",
            "Epoch 394 Loss 0.00097310\n",
            "Epoch 395 Loss 0.00096768\n",
            "Epoch 396 Loss 0.00096231\n",
            "Epoch 397 Loss 0.00095698\n",
            "Epoch 398 Loss 0.00095170\n",
            "Epoch 399 Loss 0.00094646\n",
            "Epoch 400 Loss 0.00094128\n",
            "Epoch 401 Loss 0.00093613\n",
            "Epoch 402 Loss 0.00093104\n",
            "Epoch 403 Loss 0.00092599\n",
            "Epoch 404 Loss 0.00092098\n",
            "Epoch 405 Loss 0.00091601\n",
            "Epoch 406 Loss 0.00091109\n",
            "Epoch 407 Loss 0.00090620\n",
            "Epoch 408 Loss 0.00090136\n",
            "Epoch 409 Loss 0.00089657\n",
            "Epoch 410 Loss 0.00089181\n",
            "Epoch 411 Loss 0.00088709\n",
            "Epoch 412 Loss 0.00088241\n",
            "Epoch 413 Loss 0.00087777\n",
            "Epoch 414 Loss 0.00087316\n",
            "Epoch 415 Loss 0.00086860\n",
            "Epoch 416 Loss 0.00086407\n",
            "Epoch 417 Loss 0.00085958\n",
            "Epoch 418 Loss 0.00085513\n",
            "Epoch 419 Loss 0.00085071\n",
            "Epoch 420 Loss 0.00084633\n",
            "Epoch 421 Loss 0.00084198\n",
            "Epoch 422 Loss 0.00083767\n",
            "Epoch 423 Loss 0.00083339\n",
            "Epoch 424 Loss 0.00082914\n",
            "Epoch 425 Loss 0.00082493\n",
            "Epoch 426 Loss 0.00082075\n",
            "Epoch 427 Loss 0.00081661\n",
            "Epoch 428 Loss 0.00081249\n",
            "Epoch 429 Loss 0.00080842\n",
            "Epoch 430 Loss 0.00080436\n",
            "Epoch 431 Loss 0.00080034\n",
            "Epoch 432 Loss 0.00079636\n",
            "Epoch 433 Loss 0.00079240\n",
            "Epoch 434 Loss 0.00078847\n",
            "Epoch 435 Loss 0.00078457\n",
            "Epoch 436 Loss 0.00078070\n",
            "Epoch 437 Loss 0.00077686\n",
            "Epoch 438 Loss 0.00077306\n",
            "Epoch 439 Loss 0.00076927\n",
            "Epoch 440 Loss 0.00076552\n",
            "Epoch 441 Loss 0.00076180\n",
            "Epoch 442 Loss 0.00075809\n",
            "Epoch 443 Loss 0.00075442\n",
            "Epoch 444 Loss 0.00075078\n",
            "Epoch 445 Loss 0.00074716\n",
            "Epoch 446 Loss 0.00074357\n",
            "Epoch 447 Loss 0.00074001\n",
            "Epoch 448 Loss 0.00073647\n",
            "Epoch 449 Loss 0.00073296\n",
            "Epoch 450 Loss 0.00072947\n",
            "Epoch 451 Loss 0.00072601\n",
            "Epoch 452 Loss 0.00072257\n",
            "Epoch 453 Loss 0.00071916\n",
            "Epoch 454 Loss 0.00071577\n",
            "Epoch 455 Loss 0.00071241\n",
            "Epoch 456 Loss 0.00070907\n",
            "Epoch 457 Loss 0.00070575\n"
          ],
          "name": "stdout"
        }
      ]
    },
    {
      "cell_type": "code",
      "metadata": {
        "id": "z4S00hyf3oTt",
        "colab_type": "code",
        "colab": {}
      },
      "source": [
        ""
      ],
      "execution_count": 0,
      "outputs": []
    }
  ]
}